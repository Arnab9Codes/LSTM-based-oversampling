{
 "cells": [
  {
   "cell_type": "code",
   "execution_count": 1,
   "metadata": {
    "collapsed": true
   },
   "outputs": [],
   "source": [
    "import time\n",
    "import math\n",
    "\n",
    "import numpy as np\n",
    "import pandas as pd\n",
    "from pandas import DataFrame\n",
    "from pandas import concat\n",
    "from matplotlib import pyplot\n",
    "\n",
    "from sklearn.preprocessing import MinMaxScaler\n",
    "from sklearn.preprocessing import LabelEncoder\n",
    "from sklearn.metrics import mean_squared_error\n",
    "\n",
    "from sklearn.preprocessing import StandardScaler\n",
    "from sklearn.model_selection import train_test_split\n",
    "from sklearn.model_selection import KFold\n",
    "from sklearn.model_selection import cross_val_score\n",
    "from sklearn.model_selection import GridSearchCV\n",
    "from sklearn.metrics import classification_report\n",
    "from sklearn.metrics import confusion_matrix\n",
    "from sklearn.metrics import accuracy_score\n",
    "from sklearn.metrics import precision_recall_curve\n",
    "\n",
    "from sklearn.pipeline import Pipeline\n",
    "from sklearn.linear_model import LogisticRegression\n",
    "from sklearn.tree import DecisionTreeClassifier\n",
    "from sklearn.neighbors import KNeighborsClassifier\n",
    "from sklearn.discriminant_analysis import LinearDiscriminantAnalysis\n",
    "from sklearn.naive_bayes import GaussianNB\n",
    "from sklearn.svm import SVC\n",
    "from sklearn.ensemble import AdaBoostClassifier\n",
    "from sklearn.ensemble import GradientBoostingClassifier\n",
    "from sklearn.ensemble import RandomForestClassifier\n",
    "from sklearn.ensemble import ExtraTreesClassifier\n",
    "\n",
    "from sklearn.model_selection import GridSearchCV\n",
    "\n",
    "import pickle"
   ]
  },
  {
   "cell_type": "code",
   "execution_count": 2,
   "metadata": {
    "collapsed": true
   },
   "outputs": [],
   "source": [
    "extra_data=pd.read_csv('new_corrected_data-v1-7-24-2019.csv')# loading extra genereated data genereated by LSTM #prediction_of_1_0007.csv\n",
    "original_data=pd.read_csv('train_Data.csv')#original data"
   ]
  },
  {
   "cell_type": "code",
   "execution_count": 3,
   "metadata": {},
   "outputs": [
    {
     "data": {
      "text/html": [
       "<div>\n",
       "<style scoped>\n",
       "    .dataframe tbody tr th:only-of-type {\n",
       "        vertical-align: middle;\n",
       "    }\n",
       "\n",
       "    .dataframe tbody tr th {\n",
       "        vertical-align: top;\n",
       "    }\n",
       "\n",
       "    .dataframe thead th {\n",
       "        text-align: right;\n",
       "    }\n",
       "</style>\n",
       "<table border=\"1\" class=\"dataframe\">\n",
       "  <thead>\n",
       "    <tr style=\"text-align: right;\">\n",
       "      <th></th>\n",
       "      <th>0</th>\n",
       "      <th>1</th>\n",
       "      <th>2</th>\n",
       "      <th>3</th>\n",
       "      <th>4</th>\n",
       "      <th>5</th>\n",
       "      <th>6</th>\n",
       "      <th>7</th>\n",
       "      <th>8</th>\n",
       "      <th>9</th>\n",
       "    </tr>\n",
       "  </thead>\n",
       "  <tbody>\n",
       "    <tr>\n",
       "      <th>0</th>\n",
       "      <td>5.044194</td>\n",
       "      <td>5.296991</td>\n",
       "      <td>6.155209</td>\n",
       "      <td>6.403595</td>\n",
       "      <td>5.274629</td>\n",
       "      <td>8.473316</td>\n",
       "      <td>4.893552</td>\n",
       "      <td>6.611701</td>\n",
       "      <td>3.451061</td>\n",
       "      <td>0.982479</td>\n",
       "    </tr>\n",
       "    <tr>\n",
       "      <th>1</th>\n",
       "      <td>7.770651</td>\n",
       "      <td>6.450187</td>\n",
       "      <td>6.111082</td>\n",
       "      <td>6.076831</td>\n",
       "      <td>5.902010</td>\n",
       "      <td>6.874661</td>\n",
       "      <td>5.789158</td>\n",
       "      <td>5.855968</td>\n",
       "      <td>2.393951</td>\n",
       "      <td>0.973608</td>\n",
       "    </tr>\n",
       "    <tr>\n",
       "      <th>2</th>\n",
       "      <td>7.076930</td>\n",
       "      <td>8.865718</td>\n",
       "      <td>9.632758</td>\n",
       "      <td>7.988127</td>\n",
       "      <td>7.675282</td>\n",
       "      <td>11.667479</td>\n",
       "      <td>7.823148</td>\n",
       "      <td>5.957135</td>\n",
       "      <td>2.867506</td>\n",
       "      <td>1.058567</td>\n",
       "    </tr>\n",
       "    <tr>\n",
       "      <th>3</th>\n",
       "      <td>7.440730</td>\n",
       "      <td>8.980822</td>\n",
       "      <td>8.108894</td>\n",
       "      <td>6.099348</td>\n",
       "      <td>6.460571</td>\n",
       "      <td>8.896156</td>\n",
       "      <td>7.973106</td>\n",
       "      <td>8.087893</td>\n",
       "      <td>0.520531</td>\n",
       "      <td>0.964337</td>\n",
       "    </tr>\n",
       "    <tr>\n",
       "      <th>4</th>\n",
       "      <td>8.640646</td>\n",
       "      <td>7.150813</td>\n",
       "      <td>7.612108</td>\n",
       "      <td>4.207244</td>\n",
       "      <td>5.309980</td>\n",
       "      <td>8.285869</td>\n",
       "      <td>7.202467</td>\n",
       "      <td>7.549821</td>\n",
       "      <td>2.135632</td>\n",
       "      <td>1.006957</td>\n",
       "    </tr>\n",
       "  </tbody>\n",
       "</table>\n",
       "</div>"
      ],
      "text/plain": [
       "          0         1         2         3         4          5         6  \\\n",
       "0  5.044194  5.296991  6.155209  6.403595  5.274629   8.473316  4.893552   \n",
       "1  7.770651  6.450187  6.111082  6.076831  5.902010   6.874661  5.789158   \n",
       "2  7.076930  8.865718  9.632758  7.988127  7.675282  11.667479  7.823148   \n",
       "3  7.440730  8.980822  8.108894  6.099348  6.460571   8.896156  7.973106   \n",
       "4  8.640646  7.150813  7.612108  4.207244  5.309980   8.285869  7.202467   \n",
       "\n",
       "          7         8         9  \n",
       "0  6.611701  3.451061  0.982479  \n",
       "1  5.855968  2.393951  0.973608  \n",
       "2  5.957135  2.867506  1.058567  \n",
       "3  8.087893  0.520531  0.964337  \n",
       "4  7.549821  2.135632  1.006957  "
      ]
     },
     "execution_count": 3,
     "metadata": {},
     "output_type": "execute_result"
    }
   ],
   "source": [
    "extra_data.head()#displaying LSTM generated data"
   ]
  },
  {
   "cell_type": "code",
   "execution_count": 4,
   "metadata": {},
   "outputs": [
    {
     "name": "stdout",
     "output_type": "stream",
     "text": [
      "(63, 10)\n"
     ]
    }
   ],
   "source": [
    "extra=np.array(extra_data)# getting the original shape\n",
    "print(extra.shape)"
   ]
  },
  {
   "cell_type": "code",
   "execution_count": 5,
   "metadata": {},
   "outputs": [
    {
     "data": {
      "text/plain": [
       "array([5.044194 , 5.296991 , 6.1552095, 6.403595 , 5.274629 , 8.473316 ,\n",
       "       4.8935523, 6.6117005, 3.451061 , 0.9824788])"
      ]
     },
     "execution_count": 5,
     "metadata": {},
     "output_type": "execute_result"
    }
   ],
   "source": [
    "extra[0] # showing first row vector"
   ]
  },
  {
   "cell_type": "code",
   "execution_count": 6,
   "metadata": {
    "collapsed": true
   },
   "outputs": [],
   "source": [
    "# Setting predictions of all generated data to 1 because their outputs are mostly 0.98, 0.99 etc. \n",
    "for i in range(0,len(extra),1):\n",
    "    extra[i][9]=int(1)"
   ]
  },
  {
   "cell_type": "code",
   "execution_count": 7,
   "metadata": {},
   "outputs": [
    {
     "data": {
      "text/plain": [
       "array([[ 5.044194  ,  5.296991  ,  6.1552095 ,  6.403595  ,  5.274629  ,\n",
       "         8.473316  ,  4.8935523 ,  6.6117005 ,  3.451061  ,  1.        ],\n",
       "       [ 7.7706513 ,  6.4501867 ,  6.111082  ,  6.076831  ,  5.90201   ,\n",
       "         6.8746614 ,  5.789158  ,  5.8559675 ,  2.3939505 ,  1.        ],\n",
       "       [ 7.0769305 ,  8.865718  ,  9.632758  ,  7.9881268 ,  7.6752815 ,\n",
       "        11.667479  ,  7.8231483 ,  5.9571347 ,  2.8675056 ,  1.        ],\n",
       "       [ 7.4407296 ,  8.980822  ,  8.108894  ,  6.0993485 ,  6.4605713 ,\n",
       "         8.896156  ,  7.9731064 ,  8.0878935 ,  0.5205307 ,  1.        ],\n",
       "       [ 8.640646  ,  7.150813  ,  7.6121078 ,  4.207244  ,  5.3099804 ,\n",
       "         8.285869  ,  7.202467  ,  7.5498214 ,  2.135632  ,  1.        ],\n",
       "       [ 6.940454  ,  8.881682  ,  6.894754  ,  6.4194975 ,  6.8344193 ,\n",
       "         5.758477  ,  6.7108493 ,  5.2749405 ,  3.0049043 ,  1.        ],\n",
       "       [ 4.8792124 ,  5.800323  ,  5.2745857 ,  9.097014  ,  6.1149883 ,\n",
       "         8.066625  ,  4.097699  ,  2.7863815 ,  2.2307878 ,  1.        ],\n",
       "       [ 8.309987  ,  8.956518  ,  7.8915744 ,  6.430085  ,  9.049905  ,\n",
       "         7.411361  ,  7.0049    ,  9.504604  ,  4.9373646 ,  1.        ],\n",
       "       [ 7.4120913 ,  6.631892  ,  6.8901734 ,  5.8363442 ,  7.1150413 ,\n",
       "        10.242391  ,  6.6643133 , 10.560308  ,  5.2466316 ,  1.        ],\n",
       "       [ 8.3710985 ,  7.4967165 ,  6.7898374 ,  4.5271072 ,  4.816974  ,\n",
       "         3.2102509 ,  5.3307476 ,  3.632197  ,  2.3883183 ,  1.        ],\n",
       "       [ 8.289276  ,  8.8993635 ,  8.099768  ,  5.399619  ,  7.4751062 ,\n",
       "         9.822766  ,  8.127875  ,  8.715924  ,  3.1435642 ,  1.        ],\n",
       "       [ 5.943114  ,  7.9094677 ,  7.430886  ,  8.373309  ,  5.747271  ,\n",
       "         7.9257846 ,  6.083707  ,  3.7606878 ,  0.93288463,  1.        ],\n",
       "       [ 7.845236  ,  5.4432974 ,  5.8452005 ,  3.2513275 ,  3.2500072 ,\n",
       "         9.04632   ,  8.033259  ,  6.64717   ,  1.5605612 ,  1.        ],\n",
       "       [ 7.172251  ,  8.303027  ,  7.348498  ,  6.063062  ,  6.965042  ,\n",
       "         7.7082224 ,  6.9708376 ,  7.1654973 ,  2.1909425 ,  1.        ],\n",
       "       [ 9.055302  ,  9.977589  ,  9.580522  ,  4.1165695 ,  9.215644  ,\n",
       "         9.85406   ,  7.890757  , 11.299611  ,  4.989698  ,  1.        ],\n",
       "       [ 7.638811  ,  7.735685  ,  7.603941  ,  4.792362  ,  5.9960976 ,\n",
       "         8.428976  ,  5.9714675 ,  7.1741314 ,  2.9067943 ,  1.        ],\n",
       "       [ 7.4160957 ,  8.590968  ,  7.1419806 ,  5.937997  ,  6.3910265 ,\n",
       "         8.103595  ,  7.36828   ,  5.230701  ,  2.6354074 ,  1.        ],\n",
       "       [ 5.99266   ,  6.5913324 ,  5.9973965 ,  7.863528  ,  7.3198185 ,\n",
       "         7.2309074 ,  3.7349215 ,  4.2229204 ,  2.9329035 ,  1.        ],\n",
       "       [ 7.6684914 ,  5.2569265 ,  3.9631195 ,  4.7082224 ,  4.7964087 ,\n",
       "         4.2707224 ,  3.9751844 ,  4.405973  ,  3.1544447 ,  1.        ],\n",
       "       [10.467676  ,  8.189494  ,  8.599729  ,  3.7132723 ,  5.3381524 ,\n",
       "         4.3474374 ,  5.8451557 ,  3.6999824 ,  4.6075635 ,  1.        ],\n",
       "       [ 9.578333  ,  7.151835  ,  6.9697914 ,  5.3824444 ,  7.060477  ,\n",
       "         8.880715  ,  5.697122  ,  8.367465  ,  4.7373905 ,  1.        ],\n",
       "       [ 7.0368643 ,  7.3029175 ,  5.7705297 ,  5.334962  ,  6.8881288 ,\n",
       "         5.800407  ,  5.6337633 ,  9.450487  ,  2.8655298 ,  1.        ],\n",
       "       [ 7.5598154 ,  6.776169  ,  6.8634906 ,  5.5662074 ,  5.1149096 ,\n",
       "         6.749789  ,  5.754387  ,  8.16935   ,  1.9110184 ,  1.        ],\n",
       "       [ 7.0205135 ,  7.9593487 ,  7.2574754 ,  5.4816513 ,  7.3342767 ,\n",
       "         7.754112  ,  6.4151826 ,  7.703649  ,  2.9705846 ,  1.        ],\n",
       "       [ 8.726338  ,  6.697933  ,  7.431654  ,  5.084663  ,  2.984732  ,\n",
       "         7.043354  ,  6.2845025 ,  1.4060261 ,  0.82811403,  1.        ],\n",
       "       [ 7.3118563 ,  6.3435407 ,  6.3800354 ,  4.279794  ,  4.6451483 ,\n",
       "         8.329681  ,  5.8393188 ,  8.180332  ,  2.5570269 ,  1.        ],\n",
       "       [ 8.821977  ,  7.0935097 ,  6.1209497 ,  3.323147  ,  5.5987964 ,\n",
       "         5.5791225 ,  6.204957  ,  8.265061  ,  3.1416786 ,  1.        ],\n",
       "       [ 7.5954094 ,  8.45639   ,  8.028734  ,  6.987801  ,  6.944755  ,\n",
       "         6.5116086 ,  5.3401566 ,  3.6696386 ,  2.8471198 ,  1.        ],\n",
       "       [ 7.9108696 ,  8.369283  ,  7.718875  ,  5.519218  ,  7.1546087 ,\n",
       "         8.682556  ,  6.6817913 ,  7.598486  ,  3.4748821 ,  1.        ],\n",
       "       [ 9.337158  ,  6.2275076 ,  5.8562098 ,  2.2040927 ,  5.5337615 ,\n",
       "         7.8096747 ,  6.873936  ,  7.503237  ,  4.3953304 ,  1.        ],\n",
       "       [ 8.654623  ,  7.4545417 ,  6.605381  ,  4.8399234 ,  5.6453757 ,\n",
       "         7.5568705 ,  6.603194  ,  6.2487383 ,  3.1105824 ,  1.        ],\n",
       "       [ 8.104449  ,  7.3447657 ,  7.100883  ,  6.027515  ,  6.4656954 ,\n",
       "         8.607841  ,  6.5554924 ,  6.1365504 ,  3.422836  ,  1.        ],\n",
       "       [ 6.8079457 ,  6.2695165 ,  5.8934474 ,  5.2453628 ,  5.8005357 ,\n",
       "         7.2249827 ,  6.063917  ,  9.598415  ,  2.429188  ,  1.        ],\n",
       "       [ 6.512748  ,  4.417918  ,  5.2010574 ,  5.169776  ,  3.895509  ,\n",
       "         9.233513  ,  6.252006  ,  8.025001  ,  3.1622179 ,  1.        ],\n",
       "       [ 7.5592837 ,  7.7399764 ,  6.4888086 ,  5.4718246 ,  6.4510016 ,\n",
       "         6.4183254 ,  6.1382627 ,  7.855326  ,  2.6632566 ,  1.        ],\n",
       "       [ 8.141975  ,  7.110991  ,  6.4892507 ,  4.5060625 ,  6.078024  ,\n",
       "         5.512099  ,  5.6114545 ,  6.508423  ,  2.1104023 ,  1.        ],\n",
       "       [ 7.925755  ,  6.9592905 ,  7.3356237 ,  4.8274794 ,  6.3884425 ,\n",
       "         6.9634542 ,  6.0988555 ,  9.299962  ,  3.613461  ,  1.        ],\n",
       "       [ 7.469655  ,  6.177536  ,  5.8045926 ,  6.3243284 ,  4.848356  ,\n",
       "         7.1795845 ,  6.0358586 ,  1.8547564 ,  2.4778104 ,  1.        ],\n",
       "       [ 6.950407  ,  4.4282584 ,  3.5230508 ,  5.5137496 ,  2.7824872 ,\n",
       "         5.9226446 ,  4.450473  ,  2.4531715 ,  2.1628993 ,  1.        ],\n",
       "       [ 8.841153  ,  6.9643006 ,  6.030326  ,  3.732543  ,  5.570389  ,\n",
       "         4.230194  ,  6.233984  ,  8.560605  ,  1.9699006 ,  1.        ],\n",
       "       [ 7.1166525 ,  8.686786  ,  8.25103   ,  8.737643  ,  7.304121  ,\n",
       "         9.835273  ,  6.7863846 ,  4.4440207 ,  2.3403177 ,  1.        ],\n",
       "       [ 8.8687935 ,  6.218365  ,  6.8412285 ,  4.2022324 ,  4.903055  ,\n",
       "         8.012604  ,  6.4712353 ,  7.528866  ,  1.6315622 ,  1.        ],\n",
       "       [ 8.492646  ,  7.057262  ,  6.2871637 ,  3.5918326 ,  5.5479712 ,\n",
       "         6.9766483 ,  6.803672  ,  9.148933  ,  2.8471098 ,  1.        ],\n",
       "       [ 7.1168714 ,  7.681249  ,  8.532035  ,  7.7134295 ,  6.6924434 ,\n",
       "         9.318813  ,  5.64359   ,  6.396247  ,  3.6272898 ,  1.        ],\n",
       "       [ 5.482687  ,  8.612529  ,  7.8805547 ,  7.0666666 ,  6.4407563 ,\n",
       "         7.7422404 ,  6.3077383 ,  5.257003  ,  1.4301114 ,  1.        ],\n",
       "       [ 8.880067  ,  5.8570538 ,  6.111966  ,  3.7529364 ,  4.2237597 ,\n",
       "         6.7162056 ,  7.2299337 ,  6.13741   ,  2.1152456 ,  1.        ],\n",
       "       [ 8.833382  ,  6.304159  ,  6.478838  ,  4.446617  ,  6.0918384 ,\n",
       "         8.622841  ,  6.6712255 , 10.224384  ,  4.762848  ,  1.        ],\n",
       "       [ 8.184237  ,  9.235706  ,  8.726008  ,  6.7390366 ,  7.9049373 ,\n",
       "         8.756359  ,  6.4638867 ,  5.249538  ,  3.617642  ,  1.        ],\n",
       "       [ 8.714701  ,  7.783448  ,  7.358372  ,  4.9559712 ,  5.9867096 ,\n",
       "         9.299265  ,  7.9444942 ,  7.3274226 ,  3.4250333 ,  1.        ],\n",
       "       [ 7.954719  ,  9.780465  ,  7.985734  ,  6.8315926 ,  9.512426  ,\n",
       "         9.59419   ,  7.2992744 ,  8.706938  ,  6.5879393 ,  1.        ],\n",
       "       [ 5.8916245 ,  7.677745  ,  8.1715975 ,  6.7271276 ,  5.680121  ,\n",
       "         9.30772   ,  6.8672833 ,  6.4462767 ,  1.9110844 ,  1.        ],\n",
       "       [ 7.819201  ,  6.3983994 ,  5.2814612 ,  3.382262  ,  4.306944  ,\n",
       "         4.806767  ,  6.3628626 ,  7.897841  ,  1.9766331 ,  1.        ],\n",
       "       [ 6.1926346 ,  6.5668716 ,  6.247351  ,  6.0087395 ,  6.462574  ,\n",
       "         7.1929164 ,  5.4923058 ,  9.114489  ,  2.9461496 ,  1.        ],\n",
       "       [ 7.945004  ,  8.6519575 ,  8.489542  ,  5.585225  ,  6.842032  ,\n",
       "        10.7113695 ,  7.4518986 , 10.384733  ,  2.5228958 ,  1.        ],\n",
       "       [ 7.730758  ,  6.3313    ,  5.3930645 ,  5.6270633 ,  5.507875  ,\n",
       "         5.613022  ,  5.042589  ,  3.374258  ,  3.2470956 ,  1.        ],\n",
       "       [ 9.005869  ,  7.9070077 ,  7.321176  ,  4.421679  ,  6.1842904 ,\n",
       "         7.3425303 ,  7.0535135 ,  6.051183  ,  3.9964685 ,  1.        ],\n",
       "       [ 8.06053   ,  6.5153666 ,  7.6783247 ,  5.7214575 ,  6.152975  ,\n",
       "         9.515118  ,  6.728423  ,  6.6601696 ,  2.8059218 ,  1.        ],\n",
       "       [ 7.6559772 ,  9.066488  ,  9.396253  ,  7.597533  ,  8.013935  ,\n",
       "        11.446848  ,  7.2671785 ,  7.87      ,  3.930983  ,  1.        ],\n",
       "       [ 7.57015   ,  6.8597207 ,  6.2692275 ,  4.8128214 ,  5.5258627 ,\n",
       "         7.178215  ,  6.6404924 ,  7.0174637 ,  2.9020822 ,  1.        ],\n",
       "       [ 7.409446  ,  8.577366  ,  8.801897  ,  7.37788   ,  5.3542733 ,\n",
       "         7.9125357 ,  6.6424756 ,  2.6926281 ,  2.5355847 ,  1.        ],\n",
       "       [ 6.6190786 ,  7.100298  ,  7.349617  ,  5.9252243 ,  5.035841  ,\n",
       "         7.3002305 ,  6.4767838 ,  6.5617356 ,  1.5975928 ,  1.        ],\n",
       "       [ 7.663649  ,  6.149229  ,  5.065945  ,  4.7870665 ,  5.287122  ,\n",
       "         5.5663934 ,  4.288885  ,  3.7077227 ,  2.6733043 ,  1.        ],\n",
       "       [ 7.771903  ,  6.4353056 ,  6.420463  ,  6.7991695 ,  5.897752  ,\n",
       "         6.8844666 ,  5.146635  ,  6.328898  ,  2.4715557 ,  1.        ]])"
      ]
     },
     "execution_count": 7,
     "metadata": {},
     "output_type": "execute_result"
    }
   ],
   "source": [
    "extra #showing LSTM generated extra data ready for training"
   ]
  },
  {
   "cell_type": "code",
   "execution_count": 8,
   "metadata": {},
   "outputs": [
    {
     "data": {
      "text/html": [
       "<div>\n",
       "<style scoped>\n",
       "    .dataframe tbody tr th:only-of-type {\n",
       "        vertical-align: middle;\n",
       "    }\n",
       "\n",
       "    .dataframe tbody tr th {\n",
       "        vertical-align: top;\n",
       "    }\n",
       "\n",
       "    .dataframe thead th {\n",
       "        text-align: right;\n",
       "    }\n",
       "</style>\n",
       "<table border=\"1\" class=\"dataframe\">\n",
       "  <thead>\n",
       "    <tr style=\"text-align: right;\">\n",
       "      <th></th>\n",
       "      <th>0</th>\n",
       "      <th>1</th>\n",
       "      <th>2</th>\n",
       "      <th>3</th>\n",
       "      <th>4</th>\n",
       "      <th>5</th>\n",
       "      <th>6</th>\n",
       "      <th>7</th>\n",
       "      <th>8</th>\n",
       "      <th>9</th>\n",
       "    </tr>\n",
       "  </thead>\n",
       "  <tbody>\n",
       "    <tr>\n",
       "      <th>0</th>\n",
       "      <td>3.0</td>\n",
       "      <td>1.0</td>\n",
       "      <td>1.0</td>\n",
       "      <td>1.0</td>\n",
       "      <td>2.0</td>\n",
       "      <td>1.0</td>\n",
       "      <td>2.0</td>\n",
       "      <td>1.0</td>\n",
       "      <td>2.0</td>\n",
       "      <td>0.0</td>\n",
       "    </tr>\n",
       "    <tr>\n",
       "      <th>1</th>\n",
       "      <td>3.0</td>\n",
       "      <td>3.0</td>\n",
       "      <td>2.0</td>\n",
       "      <td>6.0</td>\n",
       "      <td>3.0</td>\n",
       "      <td>3.0</td>\n",
       "      <td>3.0</td>\n",
       "      <td>5.0</td>\n",
       "      <td>1.0</td>\n",
       "      <td>0.0</td>\n",
       "    </tr>\n",
       "    <tr>\n",
       "      <th>2</th>\n",
       "      <td>9.0</td>\n",
       "      <td>10.0</td>\n",
       "      <td>10.0</td>\n",
       "      <td>1.0</td>\n",
       "      <td>10.0</td>\n",
       "      <td>8.0</td>\n",
       "      <td>3.0</td>\n",
       "      <td>3.0</td>\n",
       "      <td>1.0</td>\n",
       "      <td>1.0</td>\n",
       "    </tr>\n",
       "    <tr>\n",
       "      <th>3</th>\n",
       "      <td>1.0</td>\n",
       "      <td>1.0</td>\n",
       "      <td>1.0</td>\n",
       "      <td>1.0</td>\n",
       "      <td>2.0</td>\n",
       "      <td>1.0</td>\n",
       "      <td>1.0</td>\n",
       "      <td>1.0</td>\n",
       "      <td>1.0</td>\n",
       "      <td>0.0</td>\n",
       "    </tr>\n",
       "    <tr>\n",
       "      <th>4</th>\n",
       "      <td>3.0</td>\n",
       "      <td>2.0</td>\n",
       "      <td>2.0</td>\n",
       "      <td>1.0</td>\n",
       "      <td>2.0</td>\n",
       "      <td>1.0</td>\n",
       "      <td>2.0</td>\n",
       "      <td>3.0</td>\n",
       "      <td>1.0</td>\n",
       "      <td>0.0</td>\n",
       "    </tr>\n",
       "  </tbody>\n",
       "</table>\n",
       "</div>"
      ],
      "text/plain": [
       "     0     1     2    3     4    5    6    7    8    9\n",
       "0  3.0   1.0   1.0  1.0   2.0  1.0  2.0  1.0  2.0  0.0\n",
       "1  3.0   3.0   2.0  6.0   3.0  3.0  3.0  5.0  1.0  0.0\n",
       "2  9.0  10.0  10.0  1.0  10.0  8.0  3.0  3.0  1.0  1.0\n",
       "3  1.0   1.0   1.0  1.0   2.0  1.0  1.0  1.0  1.0  0.0\n",
       "4  3.0   2.0   2.0  1.0   2.0  1.0  2.0  3.0  1.0  0.0"
      ]
     },
     "execution_count": 8,
     "metadata": {},
     "output_type": "execute_result"
    }
   ],
   "source": [
    "original_data.head() #showing original data"
   ]
  },
  {
   "cell_type": "code",
   "execution_count": null,
   "metadata": {
    "collapsed": true
   },
   "outputs": [],
   "source": []
  },
  {
   "cell_type": "code",
   "execution_count": 9,
   "metadata": {
    "collapsed": true
   },
   "outputs": [],
   "source": [
    "#loading data values from original dataset(Pima)\n",
    "val=original_data.values"
   ]
  },
  {
   "cell_type": "code",
   "execution_count": 10,
   "metadata": {
    "collapsed": true
   },
   "outputs": [],
   "source": [
    "X=val[:,:9].astype(float)# getting the feature values\n",
    "Y=val[:,9].astype(int)# getting prediction"
   ]
  },
  {
   "cell_type": "code",
   "execution_count": 11,
   "metadata": {
    "collapsed": true
   },
   "outputs": [],
   "source": [
    "#extra_X denotes the extra training data generated by LSTM \n",
    "extra_X=extra[:,:9].astype(float)\n",
    "\n",
    "#extra_Y denotes extra training prediction data for training the algorithm\n",
    "extra_Y=extra[:,9].astype(int)"
   ]
  },
  {
   "cell_type": "code",
   "execution_count": 12,
   "metadata": {
    "collapsed": true
   },
   "outputs": [],
   "source": [
    "# extrain=original training data + LSTM generated training data\n",
    "\n",
    "# eytrain=original training prediction + LSTM generated\n",
    "\n",
    "extrain=np.concatenate((X,extra_X),axis=0)\n",
    "eytrain=np.concatenate((Y,extra_Y),axis=0)"
   ]
  },
  {
   "cell_type": "code",
   "execution_count": 13,
   "metadata": {},
   "outputs": [
    {
     "name": "stdout",
     "output_type": "stream",
     "text": [
      "(541, 9)\n",
      "(541,)\n"
     ]
    }
   ],
   "source": [
    "print(extrain.shape)\n",
    "print(eytrain.shape)"
   ]
  },
  {
   "cell_type": "code",
   "execution_count": 14,
   "metadata": {
    "collapsed": true
   },
   "outputs": [],
   "source": [
    "test_Data=pd.read_csv('test_Data.csv')"
   ]
  },
  {
   "cell_type": "code",
   "execution_count": 15,
   "metadata": {
    "collapsed": true
   },
   "outputs": [],
   "source": [
    "test_Data=np.array(test_Data)"
   ]
  },
  {
   "cell_type": "code",
   "execution_count": 16,
   "metadata": {},
   "outputs": [
    {
     "data": {
      "text/plain": [
       "(205, 10)"
      ]
     },
     "execution_count": 16,
     "metadata": {},
     "output_type": "execute_result"
    }
   ],
   "source": [
    "test_Data.shape"
   ]
  },
  {
   "cell_type": "code",
   "execution_count": 17,
   "metadata": {
    "collapsed": true
   },
   "outputs": [],
   "source": [
    "X_test=test_Data[:,:9].astype(float)\n",
    "Y_test=test_Data[:,9].astype(int)"
   ]
  },
  {
   "cell_type": "code",
   "execution_count": null,
   "metadata": {
    "collapsed": true
   },
   "outputs": [],
   "source": []
  },
  {
   "cell_type": "code",
   "execution_count": 18,
   "metadata": {
    "collapsed": true
   },
   "outputs": [],
   "source": [
    "def svc_param_selection(X, y, nfolds):\n",
    "    Cs = [0.0001,0.001, 0.01, 0.1, 1, 10]\n",
    "    gammas = [0.0001,0.001, 0.01, 0.1, 1,10]\n",
    "    param_grid = {'C': Cs, 'gamma' : gammas}\n",
    "    grid_search = GridSearchCV(SVC(kernel='rbf',probability=True), param_grid, cv=nfolds)\n",
    "    grid_search.fit(X, y)\n",
    "    grid_search.best_params_\n",
    "    return grid_search.best_estimator_"
   ]
  },
  {
   "cell_type": "code",
   "execution_count": 19,
   "metadata": {
    "collapsed": true
   },
   "outputs": [],
   "source": [
    "# setting seed =7 to produce same results over and over again, it was maintained during different experiments \n",
    "seed=5\n"
   ]
  },
  {
   "cell_type": "code",
   "execution_count": 20,
   "metadata": {
    "collapsed": true
   },
   "outputs": [],
   "source": [
    "# first rbf_svc for training on just the original training data\n",
    "#rbf_svc = SVC(kernel='rbf', gamma=0.00001, C=1000,probability=True).fit(X_train,Y_train)\n",
    "rbf_svc=svc_param_selection(X,Y,5)\n",
    "\n",
    "# secondly rbf_svc_extra for training on original+LSTM\n",
    "rbf_svc_extra = svc_param_selection(extrain,eytrain,5)"
   ]
  },
  {
   "cell_type": "code",
   "execution_count": 21,
   "metadata": {},
   "outputs": [
    {
     "data": {
      "text/plain": [
       "SVC(C=1, cache_size=200, class_weight=None, coef0=0.0,\n",
       "    decision_function_shape='ovr', degree=3, gamma=0.001, kernel='rbf',\n",
       "    max_iter=-1, probability=True, random_state=None, shrinking=True, tol=0.001,\n",
       "    verbose=False)"
      ]
     },
     "execution_count": 21,
     "metadata": {},
     "output_type": "execute_result"
    }
   ],
   "source": [
    "\n",
    "# fitting the data\n",
    "rbf_svc.fit(X,Y)\n",
    "rbf_svc_extra.fit(extrain,eytrain)"
   ]
  },
  {
   "cell_type": "code",
   "execution_count": 22,
   "metadata": {},
   "outputs": [
    {
     "data": {
      "text/plain": [
       "(205, 9)"
      ]
     },
     "execution_count": 22,
     "metadata": {},
     "output_type": "execute_result"
    }
   ],
   "source": [
    "# loading the validation dataset previously set up by validation split(this data was not included in any training procedure)\n",
    "Prediction_data=X_test\n",
    "\n",
    "#producing the shape\n",
    "Prediction_data.shape"
   ]
  },
  {
   "cell_type": "code",
   "execution_count": 23,
   "metadata": {
    "collapsed": true
   },
   "outputs": [],
   "source": [
    "# making predictions on validation dataset using svc trained only on original training data\n",
    "prediction_on_real_dataset=rbf_svc.predict_proba(Prediction_data)\n",
    "\n",
    "#saving probabilities\n",
    "predictions=rbf_svc.predict(Prediction_data)\n",
    "\n",
    "# making predictions on validation dataset using svc trained on original training data + LSTM generated data\n",
    "prediction_on_real_dataset_adding_extra=rbf_svc_extra.predict_proba(Prediction_data)\n",
    "#saving probabilities\n",
    "predictions_extra=rbf_svc_extra.predict(Prediction_data)"
   ]
  },
  {
   "cell_type": "code",
   "execution_count": 24,
   "metadata": {},
   "outputs": [
    {
     "name": "stdout",
     "output_type": "stream",
     "text": [
      "205\n",
      "205\n"
     ]
    }
   ],
   "source": [
    "print(len(prediction_on_real_dataset))\n",
    "\n",
    "print(len(prediction_on_real_dataset_adding_extra))"
   ]
  },
  {
   "cell_type": "code",
   "execution_count": 25,
   "metadata": {
    "collapsed": true
   },
   "outputs": [],
   "source": [
    "from sklearn.metrics import f1_score\n",
    "from sklearn.metrics import auc\n",
    "from sklearn.metrics import average_precision_score\n",
    "\n",
    "from sklearn.metrics import roc_curve, roc_auc_score"
   ]
  },
  {
   "cell_type": "code",
   "execution_count": 26,
   "metadata": {},
   "outputs": [
    {
     "data": {
      "text/plain": [
       "0.9673202614379085"
      ]
     },
     "execution_count": 26,
     "metadata": {},
     "output_type": "execute_result"
    }
   ],
   "source": [
    "f1_score(Y_test,predictions)#without_extra"
   ]
  },
  {
   "cell_type": "code",
   "execution_count": 27,
   "metadata": {},
   "outputs": [
    {
     "data": {
      "text/plain": [
       "0.9599999999999999"
      ]
     },
     "execution_count": 27,
     "metadata": {},
     "output_type": "execute_result"
    }
   ],
   "source": [
    "f1_score(Y_test,predictions_extra)#with_extra"
   ]
  },
  {
   "cell_type": "code",
   "execution_count": 28,
   "metadata": {},
   "outputs": [
    {
     "data": {
      "text/plain": [
       "array([0.99041795, 0.00958205])"
      ]
     },
     "execution_count": 28,
     "metadata": {},
     "output_type": "execute_result"
    }
   ],
   "source": [
    "prediction_on_real_dataset[0]# probabilities of 2 class"
   ]
  },
  {
   "cell_type": "code",
   "execution_count": 29,
   "metadata": {},
   "outputs": [
    {
     "name": "stdout",
     "output_type": "stream",
     "text": [
      "Without extra:  0.9977560179518563\n",
      "With extra:  0.9979600163198694\n"
     ]
    }
   ],
   "source": [
    "# getting AUC score for classifier trained on only original data\n",
    "fpr, tpr, thres=roc_curve(Y_test,prediction_on_real_dataset[:,1],pos_label=1)\n",
    "\n",
    "#getting AUC score for classifier trained on original + LSTM generated data\n",
    "efpr, etpr, ethres=roc_curve(Y_test,prediction_on_real_dataset_adding_extra[:,1],pos_label=1)\n",
    "\n",
    "with_=auc(fpr,tpr)\n",
    "without_=auc(efpr,etpr)\n",
    "print('Without extra: ',auc(fpr,tpr))\n",
    "\n",
    "print('With extra: ',auc(efpr,etpr))"
   ]
  },
  {
   "cell_type": "code",
   "execution_count": 30,
   "metadata": {},
   "outputs": [
    {
     "data": {
      "image/png": "[encoded data removed]",
      "text/plain": [
       "<matplotlib.figure.Figure at 0x42a6f5bc50>"
      ]
     },
     "metadata": {},
     "output_type": "display_data"
    }
   ],
   "source": [
    "# plotting data ( for minority predictions , here minority class = 1)\n",
    "\n",
    "Y_probs=prediction_on_real_dataset[:,1]\n",
    "fpr,tpr,_=roc_curve(Y_test,Y_probs)\n",
    "\n",
    "Y_probs_extra=prediction_on_real_dataset_adding_extra[:,1]\n",
    "efpr,etpr,_=roc_curve(Y_test,Y_probs_extra)\n",
    "\n",
    "original=auc(fpr,tpr)\n",
    "lstm_with_extra=auc(efpr,etpr)\n",
    "\n",
    "original=original.astype(float)\n",
    "lstm_with_extra=lstm_with_extra.astype(float)\n",
    "\n",
    "\n",
    "pyplot.clf()\n",
    "pyplot.plot(fpr, tpr,label='original (AUC : %5.4f)'%(with_),linewidth='1.2')\n",
    "pyplot.plot(efpr,etpr,label='LSTM generated+original(AUC : %5.4f)'%(without_),linewidth='1.2')\n",
    "pyplot.xlabel('FPR')\n",
    "pyplot.ylabel('TPR')\n",
    "pyplot.title('ROC curve ')\n",
    "pyplot.legend(loc=4)\n",
    "pyplot.savefig('ROC curve .png',dpi=500)\n",
    "pyplot.show()"
   ]
  },
  {
   "cell_type": "code",
   "execution_count": 31,
   "metadata": {},
   "outputs": [
    {
     "data": {
      "image/png": "[encoded data removed]",
      "text/plain": [
       "<matplotlib.figure.Figure at 0x42a6fb7eb8>"
      ]
     },
     "metadata": {},
     "output_type": "display_data"
    }
   ],
   "source": [
    "Y_probs=prediction_on_real_dataset[:,0]\n",
    "fpr,tpr,_=roc_curve(Y_test,Y_probs)\n",
    "\n",
    "Y_probs_extra=prediction_on_real_dataset_adding_extra[:,0]\n",
    "efpr,etpr,_=roc_curve(Y_test,Y_probs_extra)\n",
    "\n",
    "pyplot.clf()\n",
    "pyplot.plot(fpr, tpr,label='original')\n",
    "pyplot.plot(efpr,etpr,label='LSTM generated')\n",
    "pyplot.xlabel('FPR')\n",
    "pyplot.ylabel('TPR(recall)')\n",
    "pyplot.title('ROC curve ')\n",
    "pyplot.legend(loc=2)\n",
    "pyplot.show()"
   ]
  },
  {
   "cell_type": "code",
   "execution_count": 32,
   "metadata": {},
   "outputs": [
    {
     "data": {
      "text/plain": [
       "array([[0.99041795, 0.00958205],\n",
       "       [0.99246678, 0.00753322],\n",
       "       [0.99131782, 0.00868218],\n",
       "       [0.03132777, 0.96867223],\n",
       "       [0.97446088, 0.02553912],\n",
       "       [0.06892451, 0.93107549],\n",
       "       [0.01078209, 0.98921791],\n",
       "       [0.99324422, 0.00675578],\n",
       "       [0.99210299, 0.00789701],\n",
       "       [0.55035528, 0.44964472],\n",
       "       [0.99284162, 0.00715838],\n",
       "       [0.99286809, 0.00713191],\n",
       "       [0.98853157, 0.01146843],\n",
       "       [0.98304603, 0.01695397],\n",
       "       [0.98941477, 0.01058523],\n",
       "       [0.01866265, 0.98133735],\n",
       "       [0.99059258, 0.00940742],\n",
       "       [0.99009158, 0.00990842],\n",
       "       [0.01468207, 0.98531793],\n",
       "       [0.02949548, 0.97050452],\n",
       "       [0.02199864, 0.97800136],\n",
       "       [0.98931825, 0.01068175],\n",
       "       [0.02334163, 0.97665837],\n",
       "       [0.08742879, 0.91257121],\n",
       "       [0.99293549, 0.00706451],\n",
       "       [0.99324422, 0.00675578],\n",
       "       [0.98875945, 0.01124055],\n",
       "       [0.99168309, 0.00831691],\n",
       "       [0.99142377, 0.00857623],\n",
       "       [0.01961246, 0.98038754],\n",
       "       [0.99187341, 0.00812659],\n",
       "       [0.99050818, 0.00949182],\n",
       "       [0.01899914, 0.98100086],\n",
       "       [0.99286809, 0.00713191],\n",
       "       [0.99324422, 0.00675578],\n",
       "       [0.98941477, 0.01058523],\n",
       "       [0.99093884, 0.00906116],\n",
       "       [0.99246678, 0.00753322],\n",
       "       [0.01675256, 0.98324744],\n",
       "       [0.99079392, 0.00920608],\n",
       "       [0.97193137, 0.02806863],\n",
       "       [0.9837532 , 0.0162468 ],\n",
       "       [0.99093884, 0.00906116],\n",
       "       [0.99324422, 0.00675578],\n",
       "       [0.40602869, 0.59397131],\n",
       "       [0.98195925, 0.01804075],\n",
       "       [0.9910257 , 0.0089743 ],\n",
       "       [0.73131288, 0.26868712],\n",
       "       [0.01692417, 0.98307583],\n",
       "       [0.99238423, 0.00761577],\n",
       "       [0.99324422, 0.00675578],\n",
       "       [0.99193627, 0.00806373],\n",
       "       [0.02961225, 0.97038775],\n",
       "       [0.03129304, 0.96870696],\n",
       "       [0.02260986, 0.97739014],\n",
       "       [0.98865001, 0.01134999],\n",
       "       [0.98886342, 0.01113658],\n",
       "       [0.02848108, 0.97151892],\n",
       "       [0.99266149, 0.00733851],\n",
       "       [0.99093884, 0.00906116],\n",
       "       [0.99324422, 0.00675578],\n",
       "       [0.99301623, 0.00698377],\n",
       "       [0.23215436, 0.76784564],\n",
       "       [0.99019789, 0.00980211],\n",
       "       [0.99093884, 0.00906116],\n",
       "       [0.99131782, 0.00868218],\n",
       "       [0.99266149, 0.00733851],\n",
       "       [0.02524618, 0.97475382],\n",
       "       [0.97636697, 0.02363303],\n",
       "       [0.98704457, 0.01295543],\n",
       "       [0.99131782, 0.00868218],\n",
       "       [0.99248947, 0.00751053],\n",
       "       [0.02584643, 0.97415357],\n",
       "       [0.99181403, 0.00818597],\n",
       "       [0.0297072 , 0.9702928 ],\n",
       "       [0.99258639, 0.00741361],\n",
       "       [0.99118638, 0.00881362],\n",
       "       [0.99050818, 0.00949182],\n",
       "       [0.98485254, 0.01514746],\n",
       "       [0.03233201, 0.96766799],\n",
       "       [0.02641207, 0.97358793],\n",
       "       [0.23361128, 0.76638872],\n",
       "       [0.04789169, 0.95210831],\n",
       "       [0.99238423, 0.00761577],\n",
       "       [0.99056285, 0.00943715],\n",
       "       [0.01866514, 0.98133486],\n",
       "       [0.99238423, 0.00761577],\n",
       "       [0.05962514, 0.94037486],\n",
       "       [0.99246678, 0.00753322],\n",
       "       [0.01469086, 0.98530914],\n",
       "       [0.02333925, 0.97666075],\n",
       "       [0.0229023 , 0.9770977 ],\n",
       "       [0.78983014, 0.21016986],\n",
       "       [0.99093884, 0.00906116],\n",
       "       [0.99026311, 0.00973689],\n",
       "       [0.23913636, 0.76086364],\n",
       "       [0.48438713, 0.51561287],\n",
       "       [0.98466337, 0.01533663],\n",
       "       [0.0286352 , 0.9713648 ],\n",
       "       [0.94232398, 0.05767602],\n",
       "       [0.98964222, 0.01035778],\n",
       "       [0.99324422, 0.00675578],\n",
       "       [0.04131003, 0.95868997],\n",
       "       [0.98888778, 0.01111222],\n",
       "       [0.98469923, 0.01530077],\n",
       "       [0.99266149, 0.00733851],\n",
       "       [0.99041795, 0.00958205],\n",
       "       [0.99258193, 0.00741807],\n",
       "       [0.99131782, 0.00868218],\n",
       "       [0.34059981, 0.65940019],\n",
       "       [0.03157758, 0.96842242],\n",
       "       [0.98661164, 0.01338836],\n",
       "       [0.98835666, 0.01164334],\n",
       "       [0.01500017, 0.98499983],\n",
       "       [0.03873974, 0.96126026],\n",
       "       [0.99324422, 0.00675578],\n",
       "       [0.99324422, 0.00675578],\n",
       "       [0.98981289, 0.01018711],\n",
       "       [0.02708921, 0.97291079],\n",
       "       [0.97715692, 0.02284308],\n",
       "       [0.99301623, 0.00698377],\n",
       "       [0.02949328, 0.97050672],\n",
       "       [0.99005798, 0.00994202],\n",
       "       [0.02207072, 0.97792928],\n",
       "       [0.91866792, 0.08133208],\n",
       "       [0.99131782, 0.00868218],\n",
       "       [0.01883678, 0.98116322],\n",
       "       [0.03484608, 0.96515392],\n",
       "       [0.99324422, 0.00675578],\n",
       "       [0.99045213, 0.00954787],\n",
       "       [0.12493107, 0.87506893],\n",
       "       [0.98931825, 0.01068175],\n",
       "       [0.99238423, 0.00761577],\n",
       "       [0.99093884, 0.00906116],\n",
       "       [0.99117053, 0.00882947],\n",
       "       [0.01991518, 0.98008482],\n",
       "       [0.94604428, 0.05395572],\n",
       "       [0.04036239, 0.95963761],\n",
       "       [0.99301623, 0.00698377],\n",
       "       [0.99192792, 0.00807208],\n",
       "       [0.02478608, 0.97521392],\n",
       "       [0.99052717, 0.00947283],\n",
       "       [0.02968557, 0.97031443],\n",
       "       [0.98919182, 0.01080818],\n",
       "       [0.03956413, 0.96043587],\n",
       "       [0.0309723 , 0.9690277 ],\n",
       "       [0.01859945, 0.98140055],\n",
       "       [0.99046548, 0.00953452],\n",
       "       [0.03216753, 0.96783247],\n",
       "       [0.99301623, 0.00698377],\n",
       "       [0.03072577, 0.96927423],\n",
       "       [0.99046548, 0.00953452],\n",
       "       [0.01984966, 0.98015034],\n",
       "       [0.02928463, 0.97071537],\n",
       "       [0.01616696, 0.98383304],\n",
       "       [0.99258193, 0.00741807],\n",
       "       [0.98862221, 0.01137779],\n",
       "       [0.99230105, 0.00769895],\n",
       "       [0.99203735, 0.00796265],\n",
       "       [0.98424625, 0.01575375],\n",
       "       [0.99258639, 0.00741361],\n",
       "       [0.02361916, 0.97638084],\n",
       "       [0.99258639, 0.00741361],\n",
       "       [0.99230267, 0.00769733],\n",
       "       [0.03861372, 0.96138628],\n",
       "       [0.99131782, 0.00868218],\n",
       "       [0.99037314, 0.00962686],\n",
       "       [0.98812708, 0.01187292],\n",
       "       [0.02756927, 0.97243073],\n",
       "       [0.99266149, 0.00733851],\n",
       "       [0.99246674, 0.00753326],\n",
       "       [0.99258639, 0.00741361],\n",
       "       [0.99041795, 0.00958205],\n",
       "       [0.02797205, 0.97202795],\n",
       "       [0.02670191, 0.97329809],\n",
       "       [0.01663205, 0.98336795],\n",
       "       [0.04488548, 0.95511452],\n",
       "       [0.99050818, 0.00949182],\n",
       "       [0.98466337, 0.01533663],\n",
       "       [0.03600174, 0.96399826],\n",
       "       [0.03250356, 0.96749644],\n",
       "       [0.95552213, 0.04447787],\n",
       "       [0.02801   , 0.97199   ],\n",
       "       [0.01804735, 0.98195265],\n",
       "       [0.99093884, 0.00906116],\n",
       "       [0.0469276 , 0.9530724 ],\n",
       "       [0.04193623, 0.95806377],\n",
       "       [0.01577852, 0.98422148],\n",
       "       [0.86784467, 0.13215533],\n",
       "       [0.07158793, 0.92841207],\n",
       "       [0.98941477, 0.01058523],\n",
       "       [0.99173923, 0.00826077],\n",
       "       [0.99324422, 0.00675578],\n",
       "       [0.98911946, 0.01088054],\n",
       "       [0.98963835, 0.01036165],\n",
       "       [0.02163936, 0.97836064],\n",
       "       [0.98619363, 0.01380637],\n",
       "       [0.98928265, 0.01071735],\n",
       "       [0.03384778, 0.96615222],\n",
       "       [0.99093884, 0.00906116],\n",
       "       [0.99301623, 0.00698377],\n",
       "       [0.99046548, 0.00953452],\n",
       "       [0.02377974, 0.97622026],\n",
       "       [0.02254019, 0.97745981],\n",
       "       [0.98950438, 0.01049562]])"
      ]
     },
     "execution_count": 32,
     "metadata": {},
     "output_type": "execute_result"
    }
   ],
   "source": [
    "prediction_on_real_dataset"
   ]
  },
  {
   "cell_type": "code",
   "execution_count": 33,
   "metadata": {},
   "outputs": [
    {
     "data": {
      "text/plain": [
       "array([[9.89766098e-01, 1.02339019e-02],\n",
       "       [9.90647066e-01, 9.35293429e-03],\n",
       "       [9.95110377e-01, 4.88962283e-03],\n",
       "       [3.77745863e-08, 9.99999962e-01],\n",
       "       [9.75634666e-01, 2.43653336e-02],\n",
       "       [6.85806877e-02, 9.31419312e-01],\n",
       "       [8.55013152e-06, 9.99991450e-01],\n",
       "       [9.92424756e-01, 7.57524392e-03],\n",
       "       [9.92560088e-01, 7.43991248e-03],\n",
       "       [5.85633736e-01, 4.14366264e-01],\n",
       "       [9.91070750e-01, 8.92925033e-03],\n",
       "       [9.93965083e-01, 6.03491664e-03],\n",
       "       [9.87672233e-01, 1.23277667e-02],\n",
       "       [9.67417695e-01, 3.25823047e-02],\n",
       "       [9.84557940e-01, 1.54420603e-02],\n",
       "       [2.65294072e-03, 9.97347059e-01],\n",
       "       [9.87513412e-01, 1.24865883e-02],\n",
       "       [9.87293779e-01, 1.27062211e-02],\n",
       "       [1.00881591e-05, 9.99989912e-01],\n",
       "       [5.24719620e-07, 9.99999475e-01],\n",
       "       [1.56811422e-05, 9.99984319e-01],\n",
       "       [9.94404049e-01, 5.59595104e-03],\n",
       "       [5.06332748e-06, 9.99994937e-01],\n",
       "       [8.90871125e-02, 9.10912888e-01],\n",
       "       [9.92713340e-01, 7.28666024e-03],\n",
       "       [9.92424756e-01, 7.57524392e-03],\n",
       "       [9.85774996e-01, 1.42250038e-02],\n",
       "       [9.88063431e-01, 1.19365693e-02],\n",
       "       [9.90152531e-01, 9.84746948e-03],\n",
       "       [1.26405605e-05, 9.99987359e-01],\n",
       "       [9.95708689e-01, 4.29131124e-03],\n",
       "       [9.95775556e-01, 4.22444356e-03],\n",
       "       [1.01863920e-05, 9.99989814e-01],\n",
       "       [9.93965083e-01, 6.03491664e-03],\n",
       "       [9.92424756e-01, 7.57524392e-03],\n",
       "       [9.84557940e-01, 1.54420603e-02],\n",
       "       [9.95964208e-01, 4.03579188e-03],\n",
       "       [9.90647066e-01, 9.35293429e-03],\n",
       "       [3.26419697e-03, 9.96735803e-01],\n",
       "       [9.84876386e-01, 1.51236136e-02],\n",
       "       [9.80448108e-01, 1.95518920e-02],\n",
       "       [9.62797449e-01, 3.72025509e-02],\n",
       "       [9.95964208e-01, 4.03579188e-03],\n",
       "       [9.92424756e-01, 7.57524392e-03],\n",
       "       [6.16486662e-01, 3.83513338e-01],\n",
       "       [9.57678394e-01, 4.23216058e-02],\n",
       "       [9.88942025e-01, 1.10579749e-02],\n",
       "       [8.72081182e-01, 1.27918818e-01],\n",
       "       [1.71028851e-05, 9.99982897e-01],\n",
       "       [9.92075662e-01, 7.92433787e-03],\n",
       "       [9.92424756e-01, 7.57524392e-03],\n",
       "       [9.91280064e-01, 8.71993643e-03],\n",
       "       [1.43555856e-05, 9.99985644e-01],\n",
       "       [2.75202273e-02, 9.72479773e-01],\n",
       "       [2.37696228e-06, 9.99997623e-01],\n",
       "       [9.93446910e-01, 6.55309034e-03],\n",
       "       [9.82808911e-01, 1.71910887e-02],\n",
       "       [2.15823840e-02, 9.78417616e-01],\n",
       "       [9.93481848e-01, 6.51815164e-03],\n",
       "       [9.95964208e-01, 4.03579188e-03],\n",
       "       [9.92424756e-01, 7.57524392e-03],\n",
       "       [9.93774501e-01, 6.22549851e-03],\n",
       "       [3.39942051e-01, 6.60057949e-01],\n",
       "       [9.84463389e-01, 1.55366112e-02],\n",
       "       [9.95964208e-01, 4.03579188e-03],\n",
       "       [9.95110377e-01, 4.88962283e-03],\n",
       "       [9.93481848e-01, 6.51815164e-03],\n",
       "       [8.87383696e-03, 9.91126163e-01],\n",
       "       [9.50784314e-01, 4.92156865e-02],\n",
       "       [9.73362222e-01, 2.66377782e-02],\n",
       "       [9.95110377e-01, 4.88962283e-03],\n",
       "       [9.92896643e-01, 7.10335722e-03],\n",
       "       [1.08992314e-05, 9.99989101e-01],\n",
       "       [9.90751318e-01, 9.24868151e-03],\n",
       "       [2.71510322e-02, 9.72848968e-01],\n",
       "       [9.95030590e-01, 4.96940988e-03],\n",
       "       [9.94579482e-01, 5.42051843e-03],\n",
       "       [9.95775556e-01, 4.22444356e-03],\n",
       "       [9.75048342e-01, 2.49516577e-02],\n",
       "       [3.30104222e-02, 9.66989578e-01],\n",
       "       [2.75606557e-03, 9.97243934e-01],\n",
       "       [2.57370088e-01, 7.42629912e-01],\n",
       "       [5.16118648e-02, 9.48388135e-01],\n",
       "       [9.92075662e-01, 7.92433787e-03],\n",
       "       [9.92895877e-01, 7.10412264e-03],\n",
       "       [1.13426329e-02, 9.88657367e-01],\n",
       "       [9.92075662e-01, 7.92433787e-03],\n",
       "       [5.27945533e-02, 9.47205447e-01],\n",
       "       [9.90647066e-01, 9.35293429e-03],\n",
       "       [7.24093110e-06, 9.99992759e-01],\n",
       "       [1.95846873e-06, 9.99998042e-01],\n",
       "       [6.45395926e-03, 9.93546041e-01],\n",
       "       [6.94540018e-01, 3.05459982e-01],\n",
       "       [9.95964208e-01, 4.03579188e-03],\n",
       "       [9.92955752e-01, 7.04424843e-03],\n",
       "       [2.56439394e-01, 7.43560606e-01],\n",
       "       [4.93083971e-01, 5.06916029e-01],\n",
       "       [9.79783919e-01, 2.02160813e-02],\n",
       "       [8.22541754e-07, 9.99999177e-01],\n",
       "       [9.59562154e-01, 4.04378456e-02],\n",
       "       [9.94809359e-01, 5.19064055e-03],\n",
       "       [9.92424756e-01, 7.57524392e-03],\n",
       "       [3.91759722e-02, 9.60824028e-01],\n",
       "       [9.80754067e-01, 1.92459333e-02],\n",
       "       [9.87919387e-01, 1.20806134e-02],\n",
       "       [9.93481848e-01, 6.51815164e-03],\n",
       "       [9.89766098e-01, 1.02339019e-02],\n",
       "       [9.90342423e-01, 9.65757715e-03],\n",
       "       [9.95110377e-01, 4.88962283e-03],\n",
       "       [6.00422019e-01, 3.99577981e-01],\n",
       "       [1.85583385e-02, 9.81441661e-01],\n",
       "       [9.83036289e-01, 1.69637113e-02],\n",
       "       [9.92043521e-01, 7.95647864e-03],\n",
       "       [4.22364893e-06, 9.99995776e-01],\n",
       "       [2.18850339e-02, 9.78114966e-01],\n",
       "       [9.92424756e-01, 7.57524392e-03],\n",
       "       [9.92424756e-01, 7.57524392e-03],\n",
       "       [9.87456725e-01, 1.25432749e-02],\n",
       "       [6.79301319e-07, 9.99999321e-01],\n",
       "       [9.64480474e-01, 3.55195257e-02],\n",
       "       [9.93774501e-01, 6.22549851e-03],\n",
       "       [6.30361799e-07, 9.99999370e-01],\n",
       "       [9.91642697e-01, 8.35730330e-03],\n",
       "       [1.37831035e-02, 9.86216897e-01],\n",
       "       [9.40972651e-01, 5.90273493e-02],\n",
       "       [9.95110377e-01, 4.88962283e-03],\n",
       "       [1.08751494e-05, 9.99989125e-01],\n",
       "       [2.43839780e-07, 9.99999756e-01],\n",
       "       [9.92424756e-01, 7.57524392e-03],\n",
       "       [9.85362127e-01, 1.46378730e-02],\n",
       "       [1.85586285e-01, 8.14413715e-01],\n",
       "       [9.94404049e-01, 5.59595104e-03],\n",
       "       [9.92075662e-01, 7.92433787e-03],\n",
       "       [9.95964208e-01, 4.03579188e-03],\n",
       "       [9.94280057e-01, 5.71994304e-03],\n",
       "       [4.74276052e-06, 9.99995257e-01],\n",
       "       [9.44755790e-01, 5.52442102e-02],\n",
       "       [1.66270899e-06, 9.99998337e-01],\n",
       "       [9.93774501e-01, 6.22549851e-03],\n",
       "       [9.89447776e-01, 1.05522238e-02],\n",
       "       [2.02502284e-02, 9.79749772e-01],\n",
       "       [9.85123894e-01, 1.48761061e-02],\n",
       "       [8.26535543e-08, 9.99999917e-01],\n",
       "       [9.93748254e-01, 6.25174599e-03],\n",
       "       [4.20593236e-02, 9.57940676e-01],\n",
       "       [5.85799131e-03, 9.94142009e-01],\n",
       "       [5.68121293e-03, 9.94318787e-01],\n",
       "       [9.93983644e-01, 6.01635572e-03],\n",
       "       [4.09770106e-06, 9.99995902e-01],\n",
       "       [9.93774501e-01, 6.22549851e-03],\n",
       "       [3.47296250e-02, 9.65270375e-01],\n",
       "       [9.93983644e-01, 6.01635572e-03],\n",
       "       [3.85350172e-06, 9.99996146e-01],\n",
       "       [5.82281060e-08, 9.99999942e-01],\n",
       "       [1.76321644e-05, 9.99982368e-01],\n",
       "       [9.90342423e-01, 9.65757715e-03],\n",
       "       [9.90300637e-01, 9.69936344e-03],\n",
       "       [9.90721329e-01, 9.27867090e-03],\n",
       "       [9.92508048e-01, 7.49195246e-03],\n",
       "       [9.83053225e-01, 1.69467747e-02],\n",
       "       [9.95030590e-01, 4.96940988e-03],\n",
       "       [1.92222139e-02, 9.80777786e-01],\n",
       "       [9.95030590e-01, 4.96940988e-03],\n",
       "       [9.87988584e-01, 1.20114163e-02],\n",
       "       [1.08793735e-02, 9.89120627e-01],\n",
       "       [9.95110377e-01, 4.88962283e-03],\n",
       "       [9.92281883e-01, 7.71811727e-03],\n",
       "       [9.78725042e-01, 2.12749584e-02],\n",
       "       [1.06507495e-02, 9.89349251e-01],\n",
       "       [9.93481848e-01, 6.51815164e-03],\n",
       "       [9.88678623e-01, 1.13213766e-02],\n",
       "       [9.95030590e-01, 4.96940988e-03],\n",
       "       [9.89766098e-01, 1.02339019e-02],\n",
       "       [5.21002540e-03, 9.94789975e-01],\n",
       "       [3.69070604e-07, 9.99999631e-01],\n",
       "       [3.11085617e-03, 9.96889144e-01],\n",
       "       [4.53213514e-02, 9.54678649e-01],\n",
       "       [9.95775556e-01, 4.22444356e-03],\n",
       "       [9.79783919e-01, 2.02160813e-02],\n",
       "       [3.62803078e-02, 9.63719692e-01],\n",
       "       [8.53076909e-03, 9.91469231e-01],\n",
       "       [9.64263911e-01, 3.57360893e-02],\n",
       "       [2.52381145e-02, 9.74761885e-01],\n",
       "       [5.93319600e-06, 9.99994067e-01],\n",
       "       [9.95964208e-01, 4.03579188e-03],\n",
       "       [5.18684464e-02, 9.48131554e-01],\n",
       "       [4.60115569e-06, 9.99995399e-01],\n",
       "       [1.21017327e-06, 9.99998790e-01],\n",
       "       [7.52252608e-01, 2.47747392e-01],\n",
       "       [1.16437846e-01, 8.83562154e-01],\n",
       "       [9.84557940e-01, 1.54420603e-02],\n",
       "       [9.91345105e-01, 8.65489550e-03],\n",
       "       [9.92424756e-01, 7.57524392e-03],\n",
       "       [9.77502391e-01, 2.24976094e-02],\n",
       "       [9.78070768e-01, 2.19292317e-02],\n",
       "       [9.09622265e-03, 9.90903777e-01],\n",
       "       [9.73520388e-01, 2.64796121e-02],\n",
       "       [9.84447628e-01, 1.55523717e-02],\n",
       "       [2.19813132e-02, 9.78018687e-01],\n",
       "       [9.95964208e-01, 4.03579188e-03],\n",
       "       [9.93774501e-01, 6.22549851e-03],\n",
       "       [9.93983644e-01, 6.01635572e-03],\n",
       "       [3.67112755e-06, 9.99996329e-01],\n",
       "       [2.62010390e-03, 9.97379896e-01],\n",
       "       [9.92394574e-01, 7.60542569e-03]])"
      ]
     },
     "execution_count": 33,
     "metadata": {},
     "output_type": "execute_result"
    }
   ],
   "source": [
    "prediction_on_real_dataset_adding_extra"
   ]
  },
  {
   "cell_type": "code",
   "execution_count": null,
   "metadata": {
    "collapsed": true
   },
   "outputs": [],
   "source": []
  },
  {
   "cell_type": "code",
   "execution_count": null,
   "metadata": {
    "collapsed": true
   },
   "outputs": [],
   "source": []
  }
 ],
 "metadata": {
  "kernelspec": {
   "display_name": "Python 3",
   "language": "python",
   "name": "python3"
  },
  "language_info": {
   "codemirror_mode": {
    "name": "ipython",
    "version": 3
   },
   "file_extension": ".py",
   "mimetype": "text/x-python",
   "name": "python",
   "nbconvert_exporter": "python",
   "pygments_lexer": "ipython3",
   "version": "3.6.6"
  }
 },
 "nbformat": 4,
 "nbformat_minor": 2
}
