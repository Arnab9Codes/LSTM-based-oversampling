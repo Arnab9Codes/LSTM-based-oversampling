{
 "cells": [
  {
   "cell_type": "code",
   "execution_count": 1,
   "metadata": {
    "collapsed": true
   },
   "outputs": [],
   "source": [
    "import time\n",
    "import math\n",
    "\n",
    "import numpy as np\n",
    "import pandas as pd\n",
    "from pandas import DataFrame\n",
    "from pandas import concat\n",
    "from matplotlib import pyplot\n",
    "\n",
    "from sklearn.preprocessing import MinMaxScaler\n",
    "from sklearn.preprocessing import LabelEncoder\n",
    "from sklearn.metrics import mean_squared_error\n",
    "\n",
    "from sklearn.preprocessing import StandardScaler\n",
    "from sklearn.model_selection import train_test_split\n",
    "from sklearn.model_selection import KFold\n",
    "from sklearn.model_selection import cross_val_score\n",
    "from sklearn.model_selection import GridSearchCV\n",
    "from sklearn.metrics import classification_report\n",
    "from sklearn.metrics import confusion_matrix\n",
    "from sklearn.metrics import accuracy_score\n",
    "from sklearn.metrics import precision_recall_curve\n",
    "\n",
    "from sklearn.pipeline import Pipeline\n",
    "from sklearn.linear_model import LogisticRegression\n",
    "from sklearn.tree import DecisionTreeClassifier\n",
    "from sklearn.neighbors import KNeighborsClassifier\n",
    "from sklearn.discriminant_analysis import LinearDiscriminantAnalysis\n",
    "from sklearn.naive_bayes import GaussianNB\n",
    "from sklearn.svm import SVC\n",
    "from sklearn.ensemble import AdaBoostClassifier\n",
    "from sklearn.ensemble import GradientBoostingClassifier\n",
    "from sklearn.ensemble import RandomForestClassifier\n",
    "from sklearn.ensemble import ExtraTreesClassifier\n",
    "\n",
    "from sklearn.model_selection import GridSearchCV\n",
    "\n",
    "import pickle"
   ]
  },
  {
   "cell_type": "code",
   "execution_count": 2,
   "metadata": {
    "collapsed": true
   },
   "outputs": [],
   "source": [
    "extra_data=pd.read_csv('new_corrected_data-v1-7-24-2019.csv')# loading extra genereated data genereated by LSTM #prediction_of_1_0007.csv\n",
    "original_data=pd.read_csv('train_Data.csv')#original data"
   ]
  },
  {
   "cell_type": "code",
   "execution_count": 3,
   "metadata": {},
   "outputs": [
    {
     "data": {
      "text/html": [
       "<div>\n",
       "<style scoped>\n",
       "    .dataframe tbody tr th:only-of-type {\n",
       "        vertical-align: middle;\n",
       "    }\n",
       "\n",
       "    .dataframe tbody tr th {\n",
       "        vertical-align: top;\n",
       "    }\n",
       "\n",
       "    .dataframe thead th {\n",
       "        text-align: right;\n",
       "    }\n",
       "</style>\n",
       "<table border=\"1\" class=\"dataframe\">\n",
       "  <thead>\n",
       "    <tr style=\"text-align: right;\">\n",
       "      <th></th>\n",
       "      <th>0</th>\n",
       "      <th>1</th>\n",
       "      <th>2</th>\n",
       "      <th>3</th>\n",
       "      <th>4</th>\n",
       "      <th>5</th>\n",
       "      <th>6</th>\n",
       "      <th>7</th>\n",
       "      <th>8</th>\n",
       "      <th>9</th>\n",
       "    </tr>\n",
       "  </thead>\n",
       "  <tbody>\n",
       "    <tr>\n",
       "      <th>0</th>\n",
       "      <td>1.517757</td>\n",
       "      <td>13.183501</td>\n",
       "      <td>3.214681</td>\n",
       "      <td>1.456512</td>\n",
       "      <td>72.83948</td>\n",
       "      <td>0.525660</td>\n",
       "      <td>8.931882</td>\n",
       "      <td>0.009009</td>\n",
       "      <td>0.023572</td>\n",
       "      <td>1.004011</td>\n",
       "    </tr>\n",
       "    <tr>\n",
       "      <th>1</th>\n",
       "      <td>1.518882</td>\n",
       "      <td>12.803546</td>\n",
       "      <td>3.326176</td>\n",
       "      <td>1.358735</td>\n",
       "      <td>72.69520</td>\n",
       "      <td>0.586287</td>\n",
       "      <td>9.176060</td>\n",
       "      <td>0.006841</td>\n",
       "      <td>0.029068</td>\n",
       "      <td>0.999719</td>\n",
       "    </tr>\n",
       "    <tr>\n",
       "      <th>2</th>\n",
       "      <td>1.518392</td>\n",
       "      <td>12.875501</td>\n",
       "      <td>3.139785</td>\n",
       "      <td>1.267429</td>\n",
       "      <td>72.48677</td>\n",
       "      <td>0.493569</td>\n",
       "      <td>9.255772</td>\n",
       "      <td>-0.011200</td>\n",
       "      <td>-0.006113</td>\n",
       "      <td>0.997543</td>\n",
       "    </tr>\n",
       "    <tr>\n",
       "      <th>3</th>\n",
       "      <td>1.517958</td>\n",
       "      <td>13.042309</td>\n",
       "      <td>3.245432</td>\n",
       "      <td>1.496504</td>\n",
       "      <td>72.70853</td>\n",
       "      <td>0.541346</td>\n",
       "      <td>8.900584</td>\n",
       "      <td>0.000085</td>\n",
       "      <td>0.034724</td>\n",
       "      <td>1.006907</td>\n",
       "    </tr>\n",
       "    <tr>\n",
       "      <th>4</th>\n",
       "      <td>1.517417</td>\n",
       "      <td>13.200517</td>\n",
       "      <td>3.188140</td>\n",
       "      <td>1.423706</td>\n",
       "      <td>72.73989</td>\n",
       "      <td>0.526715</td>\n",
       "      <td>8.907177</td>\n",
       "      <td>0.002413</td>\n",
       "      <td>0.016342</td>\n",
       "      <td>0.994969</td>\n",
       "    </tr>\n",
       "  </tbody>\n",
       "</table>\n",
       "</div>"
      ],
      "text/plain": [
       "          0          1         2         3         4         5         6  \\\n",
       "0  1.517757  13.183501  3.214681  1.456512  72.83948  0.525660  8.931882   \n",
       "1  1.518882  12.803546  3.326176  1.358735  72.69520  0.586287  9.176060   \n",
       "2  1.518392  12.875501  3.139785  1.267429  72.48677  0.493569  9.255772   \n",
       "3  1.517958  13.042309  3.245432  1.496504  72.70853  0.541346  8.900584   \n",
       "4  1.517417  13.200517  3.188140  1.423706  72.73989  0.526715  8.907177   \n",
       "\n",
       "          7         8         9  \n",
       "0  0.009009  0.023572  1.004011  \n",
       "1  0.006841  0.029068  0.999719  \n",
       "2 -0.011200 -0.006113  0.997543  \n",
       "3  0.000085  0.034724  1.006907  \n",
       "4  0.002413  0.016342  0.994969  "
      ]
     },
     "execution_count": 3,
     "metadata": {},
     "output_type": "execute_result"
    }
   ],
   "source": [
    "extra_data.head()#displaying LSTM generated data"
   ]
  },
  {
   "cell_type": "code",
   "execution_count": 4,
   "metadata": {},
   "outputs": [
    {
     "name": "stdout",
     "output_type": "stream",
     "text": [
      "(22, 10)\n"
     ]
    }
   ],
   "source": [
    "extra=np.array(extra_data)# getting the original shape\n",
    "print(extra.shape)"
   ]
  },
  {
   "cell_type": "code",
   "execution_count": 5,
   "metadata": {},
   "outputs": [
    {
     "data": {
      "text/plain": [
       "array([1.5177570e+00, 1.3183501e+01, 3.2146810e+00, 1.4565119e+00,\n",
       "       7.2839480e+01, 5.2565980e-01, 8.9318820e+00, 9.0094860e-03,\n",
       "       2.3571786e-02, 1.0040114e+00])"
      ]
     },
     "execution_count": 5,
     "metadata": {},
     "output_type": "execute_result"
    }
   ],
   "source": [
    "extra[0] # showing first row vector"
   ]
  },
  {
   "cell_type": "code",
   "execution_count": 6,
   "metadata": {
    "collapsed": true
   },
   "outputs": [],
   "source": [
    "# Setting predictions of all generated data to 1 because their outputs are mostly 0.98, 0.99 etc. \n",
    "for i in range(0,len(extra),1):\n",
    "    extra[i][9]=int(1)"
   ]
  },
  {
   "cell_type": "code",
   "execution_count": 7,
   "metadata": {},
   "outputs": [
    {
     "data": {
      "text/plain": [
       "array([[ 1.5177570e+00,  1.3183501e+01,  3.2146810e+00,  1.4565119e+00,\n",
       "         7.2839480e+01,  5.2565980e-01,  8.9318820e+00,  9.0094860e-03,\n",
       "         2.3571786e-02,  1.0000000e+00],\n",
       "       [ 1.5188819e+00,  1.2803546e+01,  3.3261757e+00,  1.3587352e+00,\n",
       "         7.2695200e+01,  5.8628720e-01,  9.1760600e+00,  6.8414750e-03,\n",
       "         2.9068347e-02,  1.0000000e+00],\n",
       "       [ 1.5183922e+00,  1.2875501e+01,  3.1397848e+00,  1.2674291e+00,\n",
       "         7.2486770e+01,  4.9356940e-01,  9.2557720e+00, -1.1199591e-02,\n",
       "        -6.1131510e-03,  1.0000000e+00],\n",
       "       [ 1.5179585e+00,  1.3042309e+01,  3.2454321e+00,  1.4965038e+00,\n",
       "         7.2708530e+01,  5.4134630e-01,  8.9005840e+00,  8.4855820e-05,\n",
       "         3.4724377e-02,  1.0000000e+00],\n",
       "       [ 1.5174167e+00,  1.3200517e+01,  3.1881402e+00,  1.4237062e+00,\n",
       "         7.2739890e+01,  5.2671474e-01,  8.9071770e+00,  2.4130254e-03,\n",
       "         1.6341671e-02,  1.0000000e+00],\n",
       "       [ 1.5178210e+00,  1.3201131e+01,  3.2173774e+00,  1.5339725e+00,\n",
       "         7.2747314e+01,  5.4293890e-01,  8.8116380e+00,  1.8241182e-03,\n",
       "         4.9280044e-02,  1.0000000e+00],\n",
       "       [ 1.5183070e+00,  1.3212148e+01,  3.1770995e+00,  1.5022584e+00,\n",
       "         7.2790870e+01,  5.5724070e-01,  8.8048870e+00,  1.2458618e-02,\n",
       "         5.1208057e-02,  1.0000000e+00],\n",
       "       [ 1.5182120e+00,  1.3125322e+01,  3.2291265e+00,  1.4780883e+00,\n",
       "         7.2709540e+01,  5.2221800e-01,  8.8326140e+00, -2.3973090e-03,\n",
       "         3.6133600e-02,  1.0000000e+00],\n",
       "       [ 1.5175133e+00,  1.3286630e+01,  3.1346703e+00,  1.4850273e+00,\n",
       "         7.2783160e+01,  5.2878410e-01,  8.7783360e+00,  1.0420543e-02,\n",
       "         3.8749110e-02,  1.0000000e+00],\n",
       "       [ 1.5183297e+00,  1.3032741e+01,  3.1591434e+00,  1.4803221e+00,\n",
       "         7.2611880e+01,  5.1006526e-01,  8.9739910e+00, -4.3654093e-03,\n",
       "         3.6880240e-02,  1.0000000e+00],\n",
       "       [ 1.5182265e+00,  1.3135116e+01,  3.2026520e+00,  1.4784760e+00,\n",
       "         7.2644360e+01,  5.0630087e-01,  8.8656790e+00, -3.6258735e-03,\n",
       "         2.8970007e-02,  1.0000000e+00],\n",
       "       [ 1.5179161e+00,  1.3087904e+01,  3.3027775e+00,  1.5029297e+00,\n",
       "         7.2728710e+01,  5.4290290e-01,  8.9254560e+00, -1.7186811e-03,\n",
       "         3.7068100e-02,  1.0000000e+00],\n",
       "       [ 1.5177307e+00,  1.3051968e+01,  3.3044481e+00,  1.4785627e+00,\n",
       "         7.2778015e+01,  5.4701835e-01,  8.9552630e+00,  9.2919750e-03,\n",
       "         1.3140847e-02,  1.0000000e+00],\n",
       "       [ 1.5180622e+00,  1.2953916e+01,  3.1304540e+00,  1.3285103e+00,\n",
       "         7.2490776e+01,  4.9648330e-01,  9.0040150e+00, -9.3144770e-03,\n",
       "        -8.4295710e-03,  1.0000000e+00],\n",
       "       [ 1.5190877e+00,  1.2781014e+01,  3.3943448e+00,  1.3107861e+00,\n",
       "         7.2619140e+01,  5.9686160e-01,  9.0791130e+00,  1.4578357e-02,\n",
       "         3.3996537e-02,  1.0000000e+00],\n",
       "       [ 1.5178897e+00,  1.2918324e+01,  3.2740405e+00,  1.3676776e+00,\n",
       "         7.2640230e+01,  5.5760200e-01,  8.9203415e+00,  4.1659640e-03,\n",
       "         5.0538220e-03,  1.0000000e+00],\n",
       "       [ 1.5184030e+00,  1.2793150e+01,  3.2357078e+00,  1.1793755e+00,\n",
       "         7.2610880e+01,  5.6415140e-01,  9.3123410e+00,  1.7412845e-03,\n",
       "        -7.6957050e-03,  1.0000000e+00],\n",
       "       [ 1.5177380e+00,  1.3133863e+01,  3.1723077e+00,  1.4222057e+00,\n",
       "         7.2700424e+01,  5.2997917e-01,  8.8830570e+00, -4.1534826e-03,\n",
       "         2.0989079e-02,  1.0000000e+00],\n",
       "       [ 1.5187359e+00,  1.2810948e+01,  3.3058220e+00,  1.4416668e+00,\n",
       "         7.2685790e+01,  5.6329890e-01,  9.0811250e+00, -3.8764590e-03,\n",
       "         3.2276240e-02,  1.0000000e+00],\n",
       "       [ 1.5178510e+00,  1.3100090e+01,  3.1445491e+00,  1.3781176e+00,\n",
       "         7.2701920e+01,  5.4580240e-01,  8.8638500e+00,  5.2651223e-03,\n",
       "         1.7924280e-02,  1.0000000e+00],\n",
       "       [ 1.5172770e+00,  1.3223264e+01,  3.1215258e+00,  1.4609687e+00,\n",
       "         7.2667460e+01,  5.0619847e-01,  8.8081255e+00, -1.0504357e-02,\n",
       "         3.3168880e-02,  1.0000000e+00],\n",
       "       [ 1.5180224e+00,  1.3316085e+01,  3.1517582e+00,  1.4353464e+00,\n",
       "         7.2828316e+01,  5.3822920e-01,  8.8080840e+00,  5.2963966e-03,\n",
       "         4.6312507e-02,  1.0000000e+00]])"
      ]
     },
     "execution_count": 7,
     "metadata": {},
     "output_type": "execute_result"
    }
   ],
   "source": [
    "extra #showing LSTM generated extra data ready for training"
   ]
  },
  {
   "cell_type": "code",
   "execution_count": 8,
   "metadata": {},
   "outputs": [
    {
     "data": {
      "text/html": [
       "<div>\n",
       "<style scoped>\n",
       "    .dataframe tbody tr th:only-of-type {\n",
       "        vertical-align: middle;\n",
       "    }\n",
       "\n",
       "    .dataframe tbody tr th {\n",
       "        vertical-align: top;\n",
       "    }\n",
       "\n",
       "    .dataframe thead th {\n",
       "        text-align: right;\n",
       "    }\n",
       "</style>\n",
       "<table border=\"1\" class=\"dataframe\">\n",
       "  <thead>\n",
       "    <tr style=\"text-align: right;\">\n",
       "      <th></th>\n",
       "      <th>0</th>\n",
       "      <th>1</th>\n",
       "      <th>2</th>\n",
       "      <th>3</th>\n",
       "      <th>4</th>\n",
       "      <th>5</th>\n",
       "      <th>6</th>\n",
       "      <th>7</th>\n",
       "      <th>8</th>\n",
       "      <th>9</th>\n",
       "    </tr>\n",
       "  </thead>\n",
       "  <tbody>\n",
       "    <tr>\n",
       "      <th>0</th>\n",
       "      <td>1.524750</td>\n",
       "      <td>11.44820</td>\n",
       "      <td>0.00000</td>\n",
       "      <td>1.87895</td>\n",
       "      <td>72.1900</td>\n",
       "      <td>0.80730</td>\n",
       "      <td>13.24176</td>\n",
       "      <td>0.0000</td>\n",
       "      <td>0.1734</td>\n",
       "      <td>1</td>\n",
       "    </tr>\n",
       "    <tr>\n",
       "      <th>1</th>\n",
       "      <td>1.517096</td>\n",
       "      <td>12.99765</td>\n",
       "      <td>3.47077</td>\n",
       "      <td>1.78907</td>\n",
       "      <td>72.7220</td>\n",
       "      <td>0.65826</td>\n",
       "      <td>8.18456</td>\n",
       "      <td>0.0000</td>\n",
       "      <td>0.0000</td>\n",
       "      <td>1</td>\n",
       "    </tr>\n",
       "    <tr>\n",
       "      <th>2</th>\n",
       "      <td>1.516048</td>\n",
       "      <td>12.89790</td>\n",
       "      <td>3.43934</td>\n",
       "      <td>1.44881</td>\n",
       "      <td>73.5800</td>\n",
       "      <td>0.44091</td>\n",
       "      <td>8.27064</td>\n",
       "      <td>0.0000</td>\n",
       "      <td>0.0000</td>\n",
       "      <td>1</td>\n",
       "    </tr>\n",
       "    <tr>\n",
       "      <th>3</th>\n",
       "      <td>1.515137</td>\n",
       "      <td>14.85300</td>\n",
       "      <td>0.00000</td>\n",
       "      <td>2.42144</td>\n",
       "      <td>73.7188</td>\n",
       "      <td>0.00000</td>\n",
       "      <td>8.38900</td>\n",
       "      <td>0.5607</td>\n",
       "      <td>0.0000</td>\n",
       "      <td>0</td>\n",
       "    </tr>\n",
       "    <tr>\n",
       "      <th>4</th>\n",
       "      <td>1.515706</td>\n",
       "      <td>12.71835</td>\n",
       "      <td>3.46179</td>\n",
       "      <td>1.56116</td>\n",
       "      <td>73.1980</td>\n",
       "      <td>0.67068</td>\n",
       "      <td>8.08772</td>\n",
       "      <td>0.0000</td>\n",
       "      <td>0.1224</td>\n",
       "      <td>0</td>\n",
       "    </tr>\n",
       "  </tbody>\n",
       "</table>\n",
       "</div>"
      ],
      "text/plain": [
       "          0         1        2        3        4        5         6       7  \\\n",
       "0  1.524750  11.44820  0.00000  1.87895  72.1900  0.80730  13.24176  0.0000   \n",
       "1  1.517096  12.99765  3.47077  1.78907  72.7220  0.65826   8.18456  0.0000   \n",
       "2  1.516048  12.89790  3.43934  1.44881  73.5800  0.44091   8.27064  0.0000   \n",
       "3  1.515137  14.85300  0.00000  2.42144  73.7188  0.00000   8.38900  0.5607   \n",
       "4  1.515706  12.71835  3.46179  1.56116  73.1980  0.67068   8.08772  0.0000   \n",
       "\n",
       "        8  9  \n",
       "0  0.1734  1  \n",
       "1  0.0000  1  \n",
       "2  0.0000  1  \n",
       "3  0.0000  0  \n",
       "4  0.1224  0  "
      ]
     },
     "execution_count": 8,
     "metadata": {},
     "output_type": "execute_result"
    }
   ],
   "source": [
    "original_data.head() #showing original data"
   ]
  },
  {
   "cell_type": "code",
   "execution_count": null,
   "metadata": {
    "collapsed": true
   },
   "outputs": [],
   "source": []
  },
  {
   "cell_type": "code",
   "execution_count": 9,
   "metadata": {
    "collapsed": true
   },
   "outputs": [],
   "source": [
    "#loading data values from original dataset(Pima)\n",
    "val=original_data.values"
   ]
  },
  {
   "cell_type": "code",
   "execution_count": 10,
   "metadata": {
    "collapsed": true
   },
   "outputs": [],
   "source": [
    "X=val[:,:9].astype(float)# getting the feature values\n",
    "Y=val[:,9].astype(int)# getting prediction"
   ]
  },
  {
   "cell_type": "code",
   "execution_count": 11,
   "metadata": {
    "collapsed": true
   },
   "outputs": [],
   "source": [
    "#extra_X denotes the extra training data generated by LSTM \n",
    "extra_X=extra[:,:9].astype(float)\n",
    "\n",
    "#extra_Y denotes extra training prediction data for training the algorithm\n",
    "extra_Y=extra[:,9].astype(int)"
   ]
  },
  {
   "cell_type": "code",
   "execution_count": 12,
   "metadata": {
    "collapsed": true
   },
   "outputs": [],
   "source": [
    "# extrain=original training data + LSTM generated training data\n",
    "\n",
    "# eytrain=original training prediction + LSTM generated\n",
    "\n",
    "extrain=np.concatenate((X,extra_X),axis=0)\n",
    "eytrain=np.concatenate((Y,extra_Y),axis=0)"
   ]
  },
  {
   "cell_type": "code",
   "execution_count": 13,
   "metadata": {},
   "outputs": [
    {
     "name": "stdout",
     "output_type": "stream",
     "text": [
      "(171, 9)\n",
      "(171,)\n"
     ]
    }
   ],
   "source": [
    "print(extrain.shape)\n",
    "print(eytrain.shape)"
   ]
  },
  {
   "cell_type": "code",
   "execution_count": 14,
   "metadata": {
    "collapsed": true
   },
   "outputs": [],
   "source": [
    "test_Data=pd.read_csv('test_Data.csv')"
   ]
  },
  {
   "cell_type": "code",
   "execution_count": 15,
   "metadata": {
    "collapsed": true
   },
   "outputs": [],
   "source": [
    "test_Data=np.array(test_Data)"
   ]
  },
  {
   "cell_type": "code",
   "execution_count": 16,
   "metadata": {},
   "outputs": [
    {
     "data": {
      "text/plain": [
       "(65, 10)"
      ]
     },
     "execution_count": 16,
     "metadata": {},
     "output_type": "execute_result"
    }
   ],
   "source": [
    "test_Data.shape"
   ]
  },
  {
   "cell_type": "code",
   "execution_count": 17,
   "metadata": {
    "collapsed": true
   },
   "outputs": [],
   "source": [
    "X_test=test_Data[:,:9].astype(float)\n",
    "Y_test=test_Data[:,9].astype(int)"
   ]
  },
  {
   "cell_type": "code",
   "execution_count": null,
   "metadata": {
    "collapsed": true
   },
   "outputs": [],
   "source": []
  },
  {
   "cell_type": "code",
   "execution_count": 18,
   "metadata": {
    "collapsed": true
   },
   "outputs": [],
   "source": [
    "def svc_param_selection(X, y, nfolds):\n",
    "    Cs = [0.0001,0.001, 0.01, 0.1, 1, 10,100,1000]\n",
    "    gammas = [0.0001,0.001, 0.01, 0.1, 1,10]\n",
    "    param_grid = {'C': Cs, 'gamma' : gammas}\n",
    "    grid_search = GridSearchCV(SVC(kernel='rbf',probability=True),param_grid, cv=nfolds)\n",
    "    grid_search.fit(X, y)\n",
    "    grid_search.best_params_\n",
    "    return grid_search.best_estimator_"
   ]
  },
  {
   "cell_type": "code",
   "execution_count": 19,
   "metadata": {
    "collapsed": true
   },
   "outputs": [],
   "source": [
    "# setting seed =7 to produce same results over and over again, it was maintained during different experiments \n",
    "seed=11\n"
   ]
  },
  {
   "cell_type": "code",
   "execution_count": 20,
   "metadata": {},
   "outputs": [
    {
     "name": "stderr",
     "output_type": "stream",
     "text": [
      "G:\\newage2\\envs\\tensorflow\\lib\\site-packages\\sklearn\\model_selection\\_search.py:813: DeprecationWarning: The default of the `iid` parameter will change from True to False in version 0.22 and will be removed in 0.24. This will change numeric results when test-set sizes are unequal.\n",
      "  DeprecationWarning)\n",
      "G:\\newage2\\envs\\tensorflow\\lib\\site-packages\\sklearn\\model_selection\\_search.py:813: DeprecationWarning: The default of the `iid` parameter will change from True to False in version 0.22 and will be removed in 0.24. This will change numeric results when test-set sizes are unequal.\n",
      "  DeprecationWarning)\n"
     ]
    }
   ],
   "source": [
    "# first rbf_svc for training on just the original training data\n",
    "#rbf_svc = SVC(kernel='rbf', gamma=0.00001, C=1000,probability=True).fit(X_train,Y_train)\n",
    "rbf_svc=svc_param_selection(X,Y,5)\n",
    "\n",
    "# secondly rbf_svc_extra for training on original+LSTM\n",
    "rbf_svc_extra = svc_param_selection(extrain,eytrain,5)"
   ]
  },
  {
   "cell_type": "code",
   "execution_count": 21,
   "metadata": {},
   "outputs": [
    {
     "data": {
      "text/plain": [
       "SVC(C=10, cache_size=200, class_weight=None, coef0=0.0,\n",
       "    decision_function_shape='ovr', degree=3, gamma=1, kernel='rbf', max_iter=-1,\n",
       "    probability=True, random_state=None, shrinking=True, tol=0.001,\n",
       "    verbose=False)"
      ]
     },
     "execution_count": 21,
     "metadata": {},
     "output_type": "execute_result"
    }
   ],
   "source": [
    "\n",
    "# fitting the data\n",
    "rbf_svc.fit(X,Y)\n",
    "rbf_svc_extra.fit(extrain,eytrain)"
   ]
  },
  {
   "cell_type": "code",
   "execution_count": 22,
   "metadata": {},
   "outputs": [
    {
     "data": {
      "text/plain": [
       "(65, 9)"
      ]
     },
     "execution_count": 22,
     "metadata": {},
     "output_type": "execute_result"
    }
   ],
   "source": [
    "# loading the validation dataset previously set up by validation split(this data was not included in any training procedure)\n",
    "Prediction_data=X_test\n",
    "\n",
    "#producing the shape\n",
    "Prediction_data.shape"
   ]
  },
  {
   "cell_type": "code",
   "execution_count": 23,
   "metadata": {
    "collapsed": true
   },
   "outputs": [],
   "source": [
    "# making predictions on validation dataset using svc trained only on original training data\n",
    "prediction_on_real_dataset=rbf_svc.predict_proba(Prediction_data)\n",
    "\n",
    "#saving probabilities\n",
    "predictions=rbf_svc.predict(Prediction_data)\n",
    "\n",
    "# making predictions on validation dataset using svc trained on original training data + LSTM generated data\n",
    "prediction_on_real_dataset_adding_extra=rbf_svc_extra.predict_proba(Prediction_data)\n",
    "#saving probabilities\n",
    "predictions_extra=rbf_svc_extra.predict(Prediction_data)"
   ]
  },
  {
   "cell_type": "code",
   "execution_count": 24,
   "metadata": {},
   "outputs": [
    {
     "name": "stdout",
     "output_type": "stream",
     "text": [
      "65\n",
      "65\n"
     ]
    }
   ],
   "source": [
    "print(len(prediction_on_real_dataset))\n",
    "\n",
    "print(len(prediction_on_real_dataset_adding_extra))"
   ]
  },
  {
   "cell_type": "code",
   "execution_count": 25,
   "metadata": {
    "collapsed": true
   },
   "outputs": [],
   "source": [
    "from sklearn.metrics import f1_score\n",
    "from sklearn.metrics import auc\n",
    "from sklearn.metrics import average_precision_score\n",
    "\n",
    "from sklearn.metrics import roc_curve, roc_auc_score"
   ]
  },
  {
   "cell_type": "code",
   "execution_count": 26,
   "metadata": {},
   "outputs": [
    {
     "data": {
      "text/plain": [
       "0.4666666666666667"
      ]
     },
     "execution_count": 26,
     "metadata": {},
     "output_type": "execute_result"
    }
   ],
   "source": [
    "f1_score(Y_test,predictions)#without_extra"
   ]
  },
  {
   "cell_type": "code",
   "execution_count": 27,
   "metadata": {},
   "outputs": [
    {
     "data": {
      "text/plain": [
       "0.5454545454545454"
      ]
     },
     "execution_count": 27,
     "metadata": {},
     "output_type": "execute_result"
    }
   ],
   "source": [
    "f1_score(Y_test,predictions_extra)#with_extra"
   ]
  },
  {
   "cell_type": "code",
   "execution_count": 28,
   "metadata": {},
   "outputs": [
    {
     "data": {
      "text/plain": [
       "array([0.48024644, 0.51975356])"
      ]
     },
     "execution_count": 28,
     "metadata": {},
     "output_type": "execute_result"
    }
   ],
   "source": [
    "prediction_on_real_dataset[0]# probabilities of 2 class"
   ]
  },
  {
   "cell_type": "code",
   "execution_count": 29,
   "metadata": {},
   "outputs": [
    {
     "name": "stdout",
     "output_type": "stream",
     "text": [
      "Without extra:  0.8213333333333334\n",
      "With extra:  0.8093333333333333\n"
     ]
    }
   ],
   "source": [
    "# getting AUC score for classifier trained on only original data\n",
    "fpr, tpr, thres=roc_curve(Y_test,prediction_on_real_dataset[:,1],pos_label=1)\n",
    "\n",
    "#getting AUC score for classifier trained on original + LSTM generated data\n",
    "efpr, etpr, ethres=roc_curve(Y_test,prediction_on_real_dataset_adding_extra[:,1],pos_label=1)\n",
    "\n",
    "with_=auc(fpr,tpr)\n",
    "without_=auc(efpr,etpr)\n",
    "print('Without extra: ',auc(fpr,tpr))\n",
    "\n",
    "print('With extra: ',auc(efpr,etpr))"
   ]
  },
  {
   "cell_type": "code",
   "execution_count": 31,
   "metadata": {},
   "outputs": [
    {
     "data": {
      "image/png": "[encoded data removed]",
      "text/plain": [
       "<matplotlib.figure.Figure at 0xbd14be0240>"
      ]
     },
     "metadata": {},
     "output_type": "display_data"
    }
   ],
   "source": [
    "# plotting data ( for minority predictions , here minority class = 1)\n",
    "\n",
    "Y_probs=prediction_on_real_dataset[:,1]\n",
    "fpr,tpr,_=roc_curve(Y_test,Y_probs)\n",
    "\n",
    "Y_probs_extra=prediction_on_real_dataset_adding_extra[:,1]\n",
    "efpr,etpr,_=roc_curve(Y_test,Y_probs_extra)\n",
    "\n",
    "original=auc(fpr,tpr)\n",
    "lstm_with_extra=auc(efpr,etpr)\n",
    "\n",
    "original=original.astype(float)\n",
    "lstm_with_extra=lstm_with_extra.astype(float)\n",
    "\n",
    "\n",
    "pyplot.clf()\n",
    "pyplot.plot(fpr, tpr,label='original (AUC : %5.4f)'%(with_),linewidth='1.2')\n",
    "pyplot.plot(efpr,etpr,label='LSTM generated+original(AUC : %5.4f)'%(without_),linewidth='1.2')\n",
    "pyplot.xlabel('FPR')\n",
    "pyplot.ylabel('TPR')\n",
    "pyplot.title('ROC curve ')\n",
    "pyplot.legend(loc=4)\n",
    "pyplot.savefig('ROC curve .png',dpi=500)\n",
    "pyplot.show()"
   ]
  },
  {
   "cell_type": "code",
   "execution_count": 32,
   "metadata": {},
   "outputs": [
    {
     "data": {
      "image/png": "[encoded data removed]",
      "text/plain": [
       "<matplotlib.figure.Figure at 0xbd14c3e7f0>"
      ]
     },
     "metadata": {},
     "output_type": "display_data"
    }
   ],
   "source": [
    "Y_probs=prediction_on_real_dataset[:,0]\n",
    "fpr,tpr,_=roc_curve(Y_test,Y_probs)\n",
    "\n",
    "Y_probs_extra=prediction_on_real_dataset_adding_extra[:,0]\n",
    "efpr,etpr,_=roc_curve(Y_test,Y_probs_extra)\n",
    "\n",
    "pyplot.clf()\n",
    "pyplot.plot(fpr, tpr,label='original')\n",
    "pyplot.plot(efpr,etpr,label='LSTM generated')\n",
    "pyplot.xlabel('FPR')\n",
    "pyplot.ylabel('TPR(recall)')\n",
    "pyplot.title('ROC curve ')\n",
    "pyplot.legend(loc=2)\n",
    "pyplot.show()"
   ]
  },
  {
   "cell_type": "code",
   "execution_count": 33,
   "metadata": {},
   "outputs": [
    {
     "data": {
      "text/plain": [
       "array([[0.48024644, 0.51975356],\n",
       "       [0.86392435, 0.13607565],\n",
       "       [0.80236467, 0.19763533],\n",
       "       [0.63846249, 0.36153751],\n",
       "       [0.85439786, 0.14560214],\n",
       "       [0.48158997, 0.51841003],\n",
       "       [0.13852354, 0.86147646],\n",
       "       [0.77347507, 0.22652493],\n",
       "       [0.89405223, 0.10594777],\n",
       "       [0.86894047, 0.13105953],\n",
       "       [0.10741304, 0.89258696],\n",
       "       [0.82923495, 0.17076505],\n",
       "       [0.45873809, 0.54126191],\n",
       "       [0.12185363, 0.87814637],\n",
       "       [0.95988262, 0.04011738],\n",
       "       [0.73427888, 0.26572112],\n",
       "       [0.84656546, 0.15343454],\n",
       "       [0.8025294 , 0.1974706 ],\n",
       "       [0.90432612, 0.09567388],\n",
       "       [0.89232538, 0.10767462],\n",
       "       [0.31745288, 0.68254712],\n",
       "       [0.19304809, 0.80695191],\n",
       "       [0.89930341, 0.10069659],\n",
       "       [0.93231795, 0.06768205],\n",
       "       [0.91345408, 0.08654592],\n",
       "       [0.92032025, 0.07967975],\n",
       "       [0.70172614, 0.29827386],\n",
       "       [0.78170993, 0.21829007],\n",
       "       [0.85368133, 0.14631867],\n",
       "       [0.63428971, 0.36571029],\n",
       "       [0.63420387, 0.36579613],\n",
       "       [0.0425038 , 0.9574962 ],\n",
       "       [0.8043385 , 0.1956615 ],\n",
       "       [0.89930341, 0.10069659],\n",
       "       [0.87907272, 0.12092728],\n",
       "       [0.84647971, 0.15352029],\n",
       "       [0.3026939 , 0.6973061 ],\n",
       "       [0.09025079, 0.90974921],\n",
       "       [0.22008882, 0.77991118],\n",
       "       [0.88730709, 0.11269291],\n",
       "       [0.89010706, 0.10989294],\n",
       "       [0.91787186, 0.08212814],\n",
       "       [0.09250001, 0.90749999],\n",
       "       [0.62823729, 0.37176271],\n",
       "       [0.92174007, 0.07825993],\n",
       "       [0.2254209 , 0.7745791 ],\n",
       "       [0.67857066, 0.32142934],\n",
       "       [0.88763899, 0.11236101],\n",
       "       [0.88601407, 0.11398593],\n",
       "       [0.64109549, 0.35890451],\n",
       "       [0.53346969, 0.46653031],\n",
       "       [0.77454668, 0.22545332],\n",
       "       [0.16536844, 0.83463156],\n",
       "       [0.79990489, 0.20009511],\n",
       "       [0.63485754, 0.36514246],\n",
       "       [0.33029618, 0.66970382],\n",
       "       [0.75223482, 0.24776518],\n",
       "       [0.8383276 , 0.1616724 ],\n",
       "       [0.95610743, 0.04389257],\n",
       "       [0.12649497, 0.87350503],\n",
       "       [0.8964475 , 0.1035525 ],\n",
       "       [0.03207329, 0.96792671],\n",
       "       [0.80103345, 0.19896655],\n",
       "       [0.63760363, 0.36239637],\n",
       "       [0.87580522, 0.12419478]])"
      ]
     },
     "execution_count": 33,
     "metadata": {},
     "output_type": "execute_result"
    }
   ],
   "source": [
    "prediction_on_real_dataset"
   ]
  },
  {
   "cell_type": "code",
   "execution_count": 34,
   "metadata": {},
   "outputs": [
    {
     "data": {
      "text/plain": [
       "array([[0.47785455, 0.52214545],\n",
       "       [0.84008427, 0.15991573],\n",
       "       [0.7180238 , 0.2819762 ],\n",
       "       [0.61679892, 0.38320108],\n",
       "       [0.93390642, 0.06609358],\n",
       "       [0.54060588, 0.45939412],\n",
       "       [0.1989793 , 0.8010207 ],\n",
       "       [0.84030424, 0.15969576],\n",
       "       [0.87232815, 0.12767185],\n",
       "       [0.9287765 , 0.0712235 ],\n",
       "       [0.21141477, 0.78858523],\n",
       "       [0.79958572, 0.20041428],\n",
       "       [0.3432829 , 0.6567171 ],\n",
       "       [0.02529985, 0.97470015],\n",
       "       [0.93191056, 0.06808944],\n",
       "       [0.47187594, 0.52812406],\n",
       "       [0.92925461, 0.07074539],\n",
       "       [0.25346946, 0.74653054],\n",
       "       [0.93062884, 0.06937116],\n",
       "       [0.912528  , 0.087472  ],\n",
       "       [0.0600511 , 0.9399489 ],\n",
       "       [0.26318105, 0.73681895],\n",
       "       [0.89706554, 0.10293446],\n",
       "       [0.87632877, 0.12367123],\n",
       "       [0.89341267, 0.10658733],\n",
       "       [0.94439124, 0.05560876],\n",
       "       [0.6085797 , 0.3914203 ],\n",
       "       [0.92381592, 0.07618408],\n",
       "       [0.82197545, 0.17802455],\n",
       "       [0.61306846, 0.38693154],\n",
       "       [0.61269813, 0.38730187],\n",
       "       [0.08447053, 0.91552947],\n",
       "       [0.94609182, 0.05390818],\n",
       "       [0.89706554, 0.10293446],\n",
       "       [0.85628026, 0.14371974],\n",
       "       [0.82141413, 0.17858587],\n",
       "       [0.61968159, 0.38031841],\n",
       "       [0.21336501, 0.78663499],\n",
       "       [0.11316653, 0.88683347],\n",
       "       [0.89718187, 0.10281813],\n",
       "       [0.87824486, 0.12175514],\n",
       "       [0.90886052, 0.09113948],\n",
       "       [0.18594275, 0.81405725],\n",
       "       [0.70323566, 0.29676434],\n",
       "       [0.91086771, 0.08913229],\n",
       "       [0.22528636, 0.77471364],\n",
       "       [0.65184146, 0.34815854],\n",
       "       [0.88636808, 0.11363192],\n",
       "       [0.84491084, 0.15508916],\n",
       "       [0.65532003, 0.34467997],\n",
       "       [0.54621622, 0.45378378],\n",
       "       [0.62800798, 0.37199202],\n",
       "       [0.08593479, 0.91406521],\n",
       "       [0.89094152, 0.10905848],\n",
       "       [0.613348  , 0.386652  ],\n",
       "       [0.55551157, 0.44448843],\n",
       "       [0.80074822, 0.19925178],\n",
       "       [0.81216597, 0.18783403],\n",
       "       [0.90681007, 0.09318993],\n",
       "       [0.07305211, 0.92694789],\n",
       "       [0.87518312, 0.12481688],\n",
       "       [0.02715348, 0.97284652],\n",
       "       [0.8592713 , 0.1407287 ],\n",
       "       [0.61435623, 0.38564377],\n",
       "       [0.85276977, 0.14723023]])"
      ]
     },
     "execution_count": 34,
     "metadata": {},
     "output_type": "execute_result"
    }
   ],
   "source": [
    "prediction_on_real_dataset_adding_extra"
   ]
  },
  {
   "cell_type": "code",
   "execution_count": null,
   "metadata": {
    "collapsed": true
   },
   "outputs": [],
   "source": []
  },
  {
   "cell_type": "code",
   "execution_count": null,
   "metadata": {
    "collapsed": true
   },
   "outputs": [],
   "source": []
  }
 ],
 "metadata": {
  "kernelspec": {
   "display_name": "Python 3",
   "language": "python",
   "name": "python3"
  },
  "language_info": {
   "codemirror_mode": {
    "name": "ipython",
    "version": 3
   },
   "file_extension": ".py",
   "mimetype": "text/x-python",
   "name": "python",
   "nbconvert_exporter": "python",
   "pygments_lexer": "ipython3",
   "version": "3.6.6"
  }
 },
 "nbformat": 4,
 "nbformat_minor": 2
}
