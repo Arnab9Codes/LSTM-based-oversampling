{
 "cells": [
  {
   "cell_type": "code",
   "execution_count": 1,
   "metadata": {
    "collapsed": true
   },
   "outputs": [],
   "source": [
    "import time\n",
    "import math\n",
    "\n",
    "import numpy as np\n",
    "import pandas as pd\n",
    "from pandas import DataFrame\n",
    "from pandas import concat\n",
    "from matplotlib import pyplot\n",
    "\n",
    "from sklearn.preprocessing import MinMaxScaler\n",
    "from sklearn.preprocessing import LabelEncoder\n",
    "from sklearn.metrics import mean_squared_error\n",
    "\n",
    "from sklearn.preprocessing import StandardScaler\n",
    "from sklearn.model_selection import train_test_split\n",
    "from sklearn.model_selection import KFold\n",
    "from sklearn.model_selection import cross_val_score\n",
    "from sklearn.model_selection import GridSearchCV\n",
    "from sklearn.metrics import classification_report\n",
    "from sklearn.metrics import confusion_matrix\n",
    "from sklearn.metrics import accuracy_score\n",
    "from sklearn.metrics import precision_recall_curve\n",
    "\n",
    "from sklearn.pipeline import Pipeline\n",
    "from sklearn.linear_model import LogisticRegression\n",
    "from sklearn.tree import DecisionTreeClassifier\n",
    "from sklearn.neighbors import KNeighborsClassifier\n",
    "from sklearn.discriminant_analysis import LinearDiscriminantAnalysis\n",
    "from sklearn.naive_bayes import GaussianNB\n",
    "from sklearn.svm import SVC\n",
    "from sklearn.ensemble import AdaBoostClassifier\n",
    "from sklearn.ensemble import GradientBoostingClassifier\n",
    "from sklearn.ensemble import RandomForestClassifier\n",
    "from sklearn.ensemble import ExtraTreesClassifier\n",
    "\n",
    "from sklearn.model_selection import GridSearchCV\n",
    "\n",
    "import pickle"
   ]
  },
  {
   "cell_type": "code",
   "execution_count": 2,
   "metadata": {
    "collapsed": true
   },
   "outputs": [],
   "source": [
    "extra_data=pd.read_csv('new_corrected_data-v1-7-24-2019.csv')# loading extra genereated data genereated by LSTM #prediction_of_1_0007.csv\n",
    "original_data=pd.read_csv('train_Data.csv')#original data"
   ]
  },
  {
   "cell_type": "code",
   "execution_count": 3,
   "metadata": {},
   "outputs": [
    {
     "data": {
      "text/html": [
       "<div>\n",
       "<style scoped>\n",
       "    .dataframe tbody tr th:only-of-type {\n",
       "        vertical-align: middle;\n",
       "    }\n",
       "\n",
       "    .dataframe tbody tr th {\n",
       "        vertical-align: top;\n",
       "    }\n",
       "\n",
       "    .dataframe thead th {\n",
       "        text-align: right;\n",
       "    }\n",
       "</style>\n",
       "<table border=\"1\" class=\"dataframe\">\n",
       "  <thead>\n",
       "    <tr style=\"text-align: right;\">\n",
       "      <th></th>\n",
       "      <th>0</th>\n",
       "      <th>1</th>\n",
       "      <th>2</th>\n",
       "      <th>3</th>\n",
       "      <th>4</th>\n",
       "      <th>5</th>\n",
       "      <th>6</th>\n",
       "      <th>7</th>\n",
       "      <th>8</th>\n",
       "      <th>9</th>\n",
       "    </tr>\n",
       "  </thead>\n",
       "  <tbody>\n",
       "    <tr>\n",
       "      <th>0</th>\n",
       "      <td>7.145288</td>\n",
       "      <td>6.729910</td>\n",
       "      <td>6.775559</td>\n",
       "      <td>7.375173</td>\n",
       "      <td>4.440896</td>\n",
       "      <td>7.976233</td>\n",
       "      <td>6.352540</td>\n",
       "      <td>4.381834</td>\n",
       "      <td>4.253859</td>\n",
       "      <td>1.011177</td>\n",
       "    </tr>\n",
       "    <tr>\n",
       "      <th>1</th>\n",
       "      <td>8.464098</td>\n",
       "      <td>5.876364</td>\n",
       "      <td>6.150672</td>\n",
       "      <td>4.287989</td>\n",
       "      <td>4.958354</td>\n",
       "      <td>7.350239</td>\n",
       "      <td>5.179430</td>\n",
       "      <td>5.229217</td>\n",
       "      <td>3.091644</td>\n",
       "      <td>0.992999</td>\n",
       "    </tr>\n",
       "    <tr>\n",
       "      <th>2</th>\n",
       "      <td>9.068014</td>\n",
       "      <td>6.724169</td>\n",
       "      <td>6.094050</td>\n",
       "      <td>3.735318</td>\n",
       "      <td>5.026935</td>\n",
       "      <td>5.844874</td>\n",
       "      <td>4.488703</td>\n",
       "      <td>11.113119</td>\n",
       "      <td>2.843535</td>\n",
       "      <td>0.995365</td>\n",
       "    </tr>\n",
       "    <tr>\n",
       "      <th>3</th>\n",
       "      <td>5.725657</td>\n",
       "      <td>5.970742</td>\n",
       "      <td>4.548409</td>\n",
       "      <td>4.736303</td>\n",
       "      <td>4.981711</td>\n",
       "      <td>7.449451</td>\n",
       "      <td>4.821221</td>\n",
       "      <td>5.252278</td>\n",
       "      <td>2.034177</td>\n",
       "      <td>1.017561</td>\n",
       "    </tr>\n",
       "    <tr>\n",
       "      <th>4</th>\n",
       "      <td>8.424695</td>\n",
       "      <td>5.945339</td>\n",
       "      <td>7.847361</td>\n",
       "      <td>6.137534</td>\n",
       "      <td>6.973290</td>\n",
       "      <td>6.377757</td>\n",
       "      <td>6.413801</td>\n",
       "      <td>7.666994</td>\n",
       "      <td>4.795374</td>\n",
       "      <td>0.982542</td>\n",
       "    </tr>\n",
       "  </tbody>\n",
       "</table>\n",
       "</div>"
      ],
      "text/plain": [
       "          0         1         2         3         4         5         6  \\\n",
       "0  7.145288  6.729910  6.775559  7.375173  4.440896  7.976233  6.352540   \n",
       "1  8.464098  5.876364  6.150672  4.287989  4.958354  7.350239  5.179430   \n",
       "2  9.068014  6.724169  6.094050  3.735318  5.026935  5.844874  4.488703   \n",
       "3  5.725657  5.970742  4.548409  4.736303  4.981711  7.449451  4.821221   \n",
       "4  8.424695  5.945339  7.847361  6.137534  6.973290  6.377757  6.413801   \n",
       "\n",
       "           7         8         9  \n",
       "0   4.381834  4.253859  1.011177  \n",
       "1   5.229217  3.091644  0.992999  \n",
       "2  11.113119  2.843535  0.995365  \n",
       "3   5.252278  2.034177  1.017561  \n",
       "4   7.666994  4.795374  0.982542  "
      ]
     },
     "execution_count": 3,
     "metadata": {},
     "output_type": "execute_result"
    }
   ],
   "source": [
    "extra_data.head()#displaying LSTM generated data"
   ]
  },
  {
   "cell_type": "code",
   "execution_count": 4,
   "metadata": {},
   "outputs": [
    {
     "name": "stdout",
     "output_type": "stream",
     "text": [
      "(63, 10)\n"
     ]
    }
   ],
   "source": [
    "extra=np.array(extra_data)# getting the original shape\n",
    "print(extra.shape)"
   ]
  },
  {
   "cell_type": "code",
   "execution_count": 5,
   "metadata": {},
   "outputs": [
    {
     "data": {
      "text/plain": [
       "array([7.145288 , 6.7299104, 6.775559 , 7.375173 , 4.4408956, 7.9762325,\n",
       "       6.3525405, 4.381834 , 4.2538586, 1.011177 ])"
      ]
     },
     "execution_count": 5,
     "metadata": {},
     "output_type": "execute_result"
    }
   ],
   "source": [
    "extra[0] # showing first row vector"
   ]
  },
  {
   "cell_type": "code",
   "execution_count": 6,
   "metadata": {
    "collapsed": true
   },
   "outputs": [],
   "source": [
    "# Setting predictions of all generated data to 1 because their outputs are mostly 0.98, 0.99 etc. \n",
    "for i in range(0,len(extra),1):\n",
    "    extra[i][9]=int(1)"
   ]
  },
  {
   "cell_type": "code",
   "execution_count": 7,
   "metadata": {},
   "outputs": [
    {
     "data": {
      "text/plain": [
       "array([[ 7.145288  ,  6.7299104 ,  6.775559  ,  7.375173  ,  4.4408956 ,\n",
       "         7.9762325 ,  6.3525405 ,  4.381834  ,  4.2538586 ,  1.        ],\n",
       "       [ 8.464098  ,  5.8763638 ,  6.150672  ,  4.2879887 ,  4.9583545 ,\n",
       "         7.350239  ,  5.17943   ,  5.2292166 ,  3.0916436 ,  1.        ],\n",
       "       [ 9.068014  ,  6.7241693 ,  6.0940504 ,  3.7353177 ,  5.026935  ,\n",
       "         5.8448744 ,  4.488703  , 11.113119  ,  2.8435345 ,  1.        ],\n",
       "       [ 5.7256575 ,  5.9707417 ,  4.5484095 ,  4.7363033 ,  4.9817114 ,\n",
       "         7.4494505 ,  4.8212214 ,  5.2522783 ,  2.0341768 ,  1.        ],\n",
       "       [ 8.424695  ,  5.945339  ,  7.8473606 ,  6.1375337 ,  6.9732895 ,\n",
       "         6.377757  ,  6.413801  ,  7.6669936 ,  4.795374  ,  1.        ],\n",
       "       [ 6.204443  ,  5.72066   ,  4.5587687 ,  4.79949   ,  4.00121   ,\n",
       "         7.945177  ,  5.0955625 ,  4.85251   ,  1.7012008 ,  1.        ],\n",
       "       [ 8.508096  ,  7.966293  ,  6.6175528 ,  4.612815  ,  6.027616  ,\n",
       "         6.590967  ,  6.3517976 , 11.157449  ,  3.985094  ,  1.        ],\n",
       "       [ 7.2435966 ,  5.2151566 ,  6.0173373 ,  5.7100143 ,  5.1449065 ,\n",
       "         8.308916  ,  6.530502  ,  2.4077017 ,  2.953817  ,  1.        ],\n",
       "       [ 6.958877  ,  6.1231093 ,  6.1263475 ,  4.8150473 ,  3.7819815 ,\n",
       "         7.804635  ,  5.986778  ,  5.6706614 ,  1.4128057 ,  1.        ],\n",
       "       [10.626707  ,  9.272932  ,  7.7277284 ,  6.979827  ,  5.8976774 ,\n",
       "         7.825855  ,  6.5980196 ,  9.747314  ,  6.311533  ,  1.        ],\n",
       "       [ 8.486161  , 10.712032  ,  8.036659  ,  6.9691186 ,  5.965439  ,\n",
       "         8.842922  ,  7.708894  ,  6.9260306 ,  4.3964787 ,  1.        ],\n",
       "       [ 7.4841514 ,  6.5373487 ,  3.8387446 ,  5.5660615 ,  5.795405  ,\n",
       "         6.455532  ,  5.602754  ,  1.7897564 ,  3.6032329 ,  1.        ],\n",
       "       [ 9.441041  ,  7.568063  ,  6.991123  ,  8.228278  ,  4.808175  ,\n",
       "         9.646389  ,  7.6700897 ,  4.619119  ,  5.0582585 ,  1.        ],\n",
       "       [ 8.746465  ,  9.550419  ,  6.6067142 ,  5.7802258 ,  5.7980866 ,\n",
       "         8.57375   ,  6.7224603 ,  8.400617  ,  4.7568793 ,  1.        ],\n",
       "       [ 6.92588   ,  7.7307186 ,  6.762607  ,  7.8571024 ,  5.3045244 ,\n",
       "         8.491104  ,  6.875663  ,  4.653896  ,  4.2010326 ,  1.        ],\n",
       "       [ 9.033316  ,  6.9180255 ,  6.046922  ,  3.3189738 ,  5.4389095 ,\n",
       "         8.648486  ,  6.565354  ,  7.2920923 ,  3.0969486 ,  1.        ],\n",
       "       [ 7.5841327 ,  5.358221  ,  4.9648705 ,  2.659697  ,  5.2322845 ,\n",
       "         5.2016172 ,  4.7507596 ,  8.739685  ,  1.9084929 ,  1.        ],\n",
       "       [ 9.587493  ,  8.048201  ,  7.917411  ,  5.0474443 ,  6.208384  ,\n",
       "         7.4671345 ,  5.5208683 ,  9.133465  ,  4.57621   ,  1.        ],\n",
       "       [ 6.693756  ,  6.903656  ,  6.3316574 ,  9.617497  ,  4.6499133 ,\n",
       "         9.272736  ,  7.5498056 ,  0.45743454,  3.4567983 ,  1.        ],\n",
       "       [ 5.896364  ,  5.277991  ,  5.718746  ,  4.820245  ,  5.0518637 ,\n",
       "         5.2639017 ,  3.2354968 ,  6.2302957 ,  2.4784412 ,  1.        ],\n",
       "       [ 7.5425434 ,  6.9615717 ,  7.504306  ,  5.5070987 ,  5.6172543 ,\n",
       "         8.70562   ,  6.012121  ,  7.400657  ,  3.4327679 ,  1.        ],\n",
       "       [ 8.466483  ,  6.480205  ,  5.2997046 ,  3.688706  ,  4.867326  ,\n",
       "         8.419896  ,  5.109892  ,  7.3976445 ,  3.526177  ,  1.        ],\n",
       "       [ 7.431835  ,  9.189481  ,  6.3450594 ,  6.9406505 ,  5.316713  ,\n",
       "         8.9605665 ,  7.191598  ,  5.3491755 ,  4.320135  ,  1.        ],\n",
       "       [ 7.5429964 ,  4.850568  ,  3.5127559 ,  1.6904873 ,  3.383136  ,\n",
       "         8.958879  ,  3.8421712 ,  4.981024  ,  1.4220296 ,  1.        ],\n",
       "       [ 7.2764997 ,  6.038171  ,  5.411942  ,  6.651132  ,  5.147299  ,\n",
       "         7.526814  ,  6.2635703 ,  0.10613339,  1.7012118 ,  1.        ],\n",
       "       [ 7.2080126 ,  6.6948643 ,  3.7879004 ,  4.8529396 ,  5.245341  ,\n",
       "         8.293892  ,  5.4199486 ,  5.1012125 ,  3.1623967 ,  1.        ],\n",
       "       [ 8.257125  ,  7.3146315 ,  7.8538976 ,  4.2073846 ,  5.2393217 ,\n",
       "         8.120113  ,  5.859823  ,  8.013049  ,  2.7622526 ,  1.        ],\n",
       "       [ 7.269886  ,  5.9954505 ,  6.704841  ,  7.6321473 ,  5.5941553 ,\n",
       "         7.4347177 ,  6.1154184 ,  5.199077  ,  4.7482967 ,  1.        ],\n",
       "       [ 8.002791  ,  7.7581396 ,  6.371563  ,  3.684229  ,  6.327939  ,\n",
       "         5.272718  ,  5.0867486 , 11.70486   ,  3.9157195 ,  1.        ],\n",
       "       [ 8.85814   ,  7.2680364 ,  6.1643715 , 10.797074  ,  5.4754076 ,\n",
       "         8.546849  ,  8.245121  ,  4.6990323 ,  6.8385735 ,  1.        ],\n",
       "       [ 9.790417  ,  8.453574  ,  9.33172   ,  4.632946  ,  5.71101   ,\n",
       "         8.06356   ,  6.5523543 , 10.688332  ,  2.728605  ,  1.        ],\n",
       "       [ 9.380412  ,  5.895591  ,  6.493526  ,  3.9987926 ,  4.9086094 ,\n",
       "         6.458038  ,  3.9434164 ,  6.314756  ,  3.4437985 ,  1.        ],\n",
       "       [ 5.5192633 ,  5.072733  ,  6.500678  ,  5.217088  ,  5.131696  ,\n",
       "         6.6430435 ,  4.285577  ,  6.7648687 ,  0.08299015,  1.        ],\n",
       "       [ 6.436601  ,  6.1641555 ,  6.1036377 ,  4.1675982 ,  5.0652795 ,\n",
       "         7.49512   ,  4.352368  ,  5.4405212 ,  1.4348927 ,  1.        ],\n",
       "       [ 8.794746  ,  5.694181  ,  4.4632716 ,  3.3341546 ,  5.7913404 ,\n",
       "         6.2262363 ,  4.954717  ,  8.711655  ,  4.1287365 ,  1.        ],\n",
       "       [ 7.0874076 ,  5.1877227 ,  5.194269  ,  4.625037  ,  5.5086193 ,\n",
       "         7.849207  ,  4.8037324 ,  6.2382703 ,  3.0950336 ,  1.        ],\n",
       "       [ 8.977746  ,  8.926513  ,  7.19558   ,  5.3608046 ,  5.830214  ,\n",
       "         8.653687  ,  6.9528747 ,  7.084193  ,  3.3977902 ,  1.        ],\n",
       "       [ 7.768395  ,  3.8727021 ,  5.477336  ,  4.06002   ,  4.9787827 ,\n",
       "         5.889917  ,  4.1722746 ,  7.274927  ,  2.184942  ,  1.        ],\n",
       "       [ 6.490667  ,  7.460692  ,  5.598337  ,  5.9873095 ,  4.843459  ,\n",
       "         8.496183  ,  7.0399895 ,  4.339875  ,  2.6116226 ,  1.        ],\n",
       "       [ 7.420744  ,  5.964287  ,  7.247274  ,  4.6660757 ,  6.6101203 ,\n",
       "         6.769663  ,  5.194277  ,  6.6324496 ,  2.5104046 ,  1.        ],\n",
       "       [ 6.261507  ,  5.527146  ,  4.59204   ,  6.9748096 ,  5.648052  ,\n",
       "         7.0738506 ,  5.640332  ,  5.3050504 ,  4.825242  ,  1.        ],\n",
       "       [ 6.766522  ,  6.96261   ,  6.851706  ,  6.381344  ,  7.0922623 ,\n",
       "         6.5404396 ,  5.7517653 ,  6.20238   ,  4.2391777 ,  1.        ],\n",
       "       [ 7.489608  ,  6.327996  ,  5.5180173 ,  4.147997  ,  4.3113446 ,\n",
       "         9.200344  ,  4.9684596 ,  6.495986  ,  1.5315044 ,  1.        ],\n",
       "       [ 6.5796003 ,  5.8981977 ,  7.5558434 ,  6.059106  ,  4.290268  ,\n",
       "         8.924822  ,  6.7065816 ,  3.272141  ,  1.8281525 ,  1.        ],\n",
       "       [ 8.638865  ,  6.8122563 ,  6.45072   ,  6.3505664 ,  5.2016916 ,\n",
       "         8.7946005 ,  7.0310664 ,  2.617246  ,  3.0801651 ,  1.        ],\n",
       "       [ 7.8383346 ,  6.326415  ,  5.716567  ,  3.850236  ,  3.9305222 ,\n",
       "         7.4030423 ,  5.5237403 ,  6.807626  ,  1.6916844 ,  1.        ],\n",
       "       [ 5.1935506 ,  5.992259  ,  4.945766  ,  6.0238023 ,  4.2541604 ,\n",
       "         7.133036  ,  4.787466  ,  4.8942385 ,  2.3403049 ,  1.        ],\n",
       "       [ 8.336013  ,  5.6861243 ,  7.424248  ,  4.4732203 ,  4.3152084 ,\n",
       "         9.623135  ,  5.5973296 ,  5.3335404 ,  1.2647481 ,  1.        ],\n",
       "       [ 6.8989434 ,  7.747671  ,  5.852776  ,  5.36164   ,  5.657885  ,\n",
       "         8.532981  ,  6.523012  ,  3.0477943 ,  1.3857498 ,  1.        ],\n",
       "       [ 8.976159  ,  7.7119427 ,  8.313753  ,  4.747777  ,  6.5608435 ,\n",
       "         6.416797  ,  6.2511787 , 10.709101  ,  3.85948   ,  1.        ],\n",
       "       [ 8.157916  ,  6.875344  ,  6.6618347 ,  4.765176  ,  4.801279  ,\n",
       "         7.9787836 ,  5.6729116 ,  7.6086802 ,  2.9797006 ,  1.        ],\n",
       "       [ 7.690039  ,  6.5503407 ,  6.907424  ,  5.341614  ,  4.2630267 ,\n",
       "         8.582928  ,  5.926917  ,  5.219186  ,  1.6942234 ,  1.        ],\n",
       "       [ 7.729757  ,  7.777243  ,  7.5611525 ,  5.0953345 ,  6.9253054 ,\n",
       "         6.8352118 ,  6.9935617 ,  7.437509  ,  2.9093792 ,  1.        ],\n",
       "       [ 7.7007585 ,  9.32294   ,  7.8210754 ,  7.718772  ,  6.2929597 ,\n",
       "         9.459168  ,  8.038474  ,  6.9022894 ,  5.187459  ,  1.        ],\n",
       "       [ 7.9856234 ,  5.748635  ,  6.0765433 ,  2.925544  ,  3.8149486 ,\n",
       "         8.510019  ,  4.897688  ,  4.5728226 ,  0.5626067 ,  1.        ],\n",
       "       [ 9.230848  ,  7.982983  ,  7.814708  ,  4.168255  ,  6.0714407 ,\n",
       "         8.253678  ,  5.828205  ,  8.540895  ,  2.8109689 ,  1.        ],\n",
       "       [ 7.3155346 ,  6.5488634 ,  6.764633  ,  6.5846395 ,  6.1494393 ,\n",
       "         6.5329027 ,  5.15932   ,  6.2050767 ,  4.5878615 ,  1.        ],\n",
       "       [ 6.825655  ,  9.472745  ,  7.7004666 ,  9.466567  ,  6.4105177 ,\n",
       "         7.206338  ,  7.3647237 ,  8.92682   ,  5.1449203 ,  1.        ],\n",
       "       [ 8.501114  ,  8.087398  ,  9.504056  ,  5.117224  ,  6.009538  ,\n",
       "         8.442599  ,  7.3217235 ,  8.021678  ,  1.42536   ,  1.        ],\n",
       "       [ 5.653802  ,  6.4708815 ,  4.280261  ,  5.8506846 ,  6.3207893 ,\n",
       "         5.889595  ,  4.4962263 ,  2.5440125 ,  4.0423927 ,  1.        ],\n",
       "       [ 7.2191896 ,  5.3706446 ,  6.500607  ,  5.631214  ,  5.757573  ,\n",
       "         6.389729  ,  4.5665603 ,  5.664212  ,  2.9508636 ,  1.        ],\n",
       "       [ 8.383896  ,  6.024148  ,  5.4511156 ,  3.7365334 ,  4.4981303 ,\n",
       "         7.7049527 ,  4.9752707 ,  5.529273  ,  1.9742126 ,  1.        ],\n",
       "       [ 7.0817633 ,  6.074632  ,  5.5148296 ,  5.961687  ,  5.2397833 ,\n",
       "         8.760792  ,  5.968853  ,  2.1750336 ,  2.7455544 ,  1.        ]])"
      ]
     },
     "execution_count": 7,
     "metadata": {},
     "output_type": "execute_result"
    }
   ],
   "source": [
    "extra #showing LSTM generated extra data ready for training"
   ]
  },
  {
   "cell_type": "code",
   "execution_count": 8,
   "metadata": {},
   "outputs": [
    {
     "data": {
      "text/html": [
       "<div>\n",
       "<style scoped>\n",
       "    .dataframe tbody tr th:only-of-type {\n",
       "        vertical-align: middle;\n",
       "    }\n",
       "\n",
       "    .dataframe tbody tr th {\n",
       "        vertical-align: top;\n",
       "    }\n",
       "\n",
       "    .dataframe thead th {\n",
       "        text-align: right;\n",
       "    }\n",
       "</style>\n",
       "<table border=\"1\" class=\"dataframe\">\n",
       "  <thead>\n",
       "    <tr style=\"text-align: right;\">\n",
       "      <th></th>\n",
       "      <th>0</th>\n",
       "      <th>1</th>\n",
       "      <th>2</th>\n",
       "      <th>3</th>\n",
       "      <th>4</th>\n",
       "      <th>5</th>\n",
       "      <th>6</th>\n",
       "      <th>7</th>\n",
       "      <th>8</th>\n",
       "      <th>9</th>\n",
       "    </tr>\n",
       "  </thead>\n",
       "  <tbody>\n",
       "    <tr>\n",
       "      <th>0</th>\n",
       "      <td>3.0</td>\n",
       "      <td>2.0</td>\n",
       "      <td>1.0</td>\n",
       "      <td>1.0</td>\n",
       "      <td>2.0</td>\n",
       "      <td>2.0</td>\n",
       "      <td>3.0</td>\n",
       "      <td>1.0</td>\n",
       "      <td>1.0</td>\n",
       "      <td>0.0</td>\n",
       "    </tr>\n",
       "    <tr>\n",
       "      <th>1</th>\n",
       "      <td>3.0</td>\n",
       "      <td>1.0</td>\n",
       "      <td>1.0</td>\n",
       "      <td>1.0</td>\n",
       "      <td>2.0</td>\n",
       "      <td>1.0</td>\n",
       "      <td>1.0</td>\n",
       "      <td>1.0</td>\n",
       "      <td>1.0</td>\n",
       "      <td>0.0</td>\n",
       "    </tr>\n",
       "    <tr>\n",
       "      <th>2</th>\n",
       "      <td>7.0</td>\n",
       "      <td>4.0</td>\n",
       "      <td>7.0</td>\n",
       "      <td>4.0</td>\n",
       "      <td>3.0</td>\n",
       "      <td>7.0</td>\n",
       "      <td>7.0</td>\n",
       "      <td>6.0</td>\n",
       "      <td>1.0</td>\n",
       "      <td>1.0</td>\n",
       "    </tr>\n",
       "    <tr>\n",
       "      <th>3</th>\n",
       "      <td>4.0</td>\n",
       "      <td>3.0</td>\n",
       "      <td>2.0</td>\n",
       "      <td>1.0</td>\n",
       "      <td>3.0</td>\n",
       "      <td>1.0</td>\n",
       "      <td>2.0</td>\n",
       "      <td>1.0</td>\n",
       "      <td>1.0</td>\n",
       "      <td>0.0</td>\n",
       "    </tr>\n",
       "    <tr>\n",
       "      <th>4</th>\n",
       "      <td>10.0</td>\n",
       "      <td>10.0</td>\n",
       "      <td>10.0</td>\n",
       "      <td>10.0</td>\n",
       "      <td>3.0</td>\n",
       "      <td>10.0</td>\n",
       "      <td>10.0</td>\n",
       "      <td>6.0</td>\n",
       "      <td>1.0</td>\n",
       "      <td>1.0</td>\n",
       "    </tr>\n",
       "  </tbody>\n",
       "</table>\n",
       "</div>"
      ],
      "text/plain": [
       "      0     1     2     3    4     5     6    7    8    9\n",
       "0   3.0   2.0   1.0   1.0  2.0   2.0   3.0  1.0  1.0  0.0\n",
       "1   3.0   1.0   1.0   1.0  2.0   1.0   1.0  1.0  1.0  0.0\n",
       "2   7.0   4.0   7.0   4.0  3.0   7.0   7.0  6.0  1.0  1.0\n",
       "3   4.0   3.0   2.0   1.0  3.0   1.0   2.0  1.0  1.0  0.0\n",
       "4  10.0  10.0  10.0  10.0  3.0  10.0  10.0  6.0  1.0  1.0"
      ]
     },
     "execution_count": 8,
     "metadata": {},
     "output_type": "execute_result"
    }
   ],
   "source": [
    "original_data.head() #showing original data"
   ]
  },
  {
   "cell_type": "code",
   "execution_count": null,
   "metadata": {
    "collapsed": true
   },
   "outputs": [],
   "source": []
  },
  {
   "cell_type": "code",
   "execution_count": 9,
   "metadata": {
    "collapsed": true
   },
   "outputs": [],
   "source": [
    "#loading data values from original dataset(Pima)\n",
    "val=original_data.values"
   ]
  },
  {
   "cell_type": "code",
   "execution_count": 10,
   "metadata": {
    "collapsed": true
   },
   "outputs": [],
   "source": [
    "X=val[:,:9].astype(float)# getting the feature values\n",
    "Y=val[:,9].astype(int)# getting prediction"
   ]
  },
  {
   "cell_type": "code",
   "execution_count": 11,
   "metadata": {
    "collapsed": true
   },
   "outputs": [],
   "source": [
    "#extra_X denotes the extra training data generated by LSTM \n",
    "extra_X=extra[:,:9].astype(float)\n",
    "\n",
    "#extra_Y denotes extra training prediction data for training the algorithm\n",
    "extra_Y=extra[:,9].astype(int)"
   ]
  },
  {
   "cell_type": "code",
   "execution_count": 12,
   "metadata": {
    "collapsed": true
   },
   "outputs": [],
   "source": [
    "# extrain=original training data + LSTM generated training data\n",
    "\n",
    "# eytrain=original training prediction + LSTM generated\n",
    "\n",
    "extrain=np.concatenate((X,extra_X),axis=0)\n",
    "eytrain=np.concatenate((Y,extra_Y),axis=0)"
   ]
  },
  {
   "cell_type": "code",
   "execution_count": 13,
   "metadata": {},
   "outputs": [
    {
     "name": "stdout",
     "output_type": "stream",
     "text": [
      "(541, 9)\n",
      "(541,)\n"
     ]
    }
   ],
   "source": [
    "print(extrain.shape)\n",
    "print(eytrain.shape)"
   ]
  },
  {
   "cell_type": "code",
   "execution_count": 14,
   "metadata": {
    "collapsed": true
   },
   "outputs": [],
   "source": [
    "test_Data=pd.read_csv('test_Data.csv')"
   ]
  },
  {
   "cell_type": "code",
   "execution_count": 15,
   "metadata": {
    "collapsed": true
   },
   "outputs": [],
   "source": [
    "test_Data=np.array(test_Data)"
   ]
  },
  {
   "cell_type": "code",
   "execution_count": 16,
   "metadata": {},
   "outputs": [
    {
     "data": {
      "text/plain": [
       "(205, 10)"
      ]
     },
     "execution_count": 16,
     "metadata": {},
     "output_type": "execute_result"
    }
   ],
   "source": [
    "test_Data.shape"
   ]
  },
  {
   "cell_type": "code",
   "execution_count": 17,
   "metadata": {
    "collapsed": true
   },
   "outputs": [],
   "source": [
    "X_test=test_Data[:,:9].astype(float)\n",
    "Y_test=test_Data[:,9].astype(int)"
   ]
  },
  {
   "cell_type": "code",
   "execution_count": null,
   "metadata": {
    "collapsed": true
   },
   "outputs": [],
   "source": []
  },
  {
   "cell_type": "code",
   "execution_count": 18,
   "metadata": {
    "collapsed": true
   },
   "outputs": [],
   "source": [
    "def svc_param_selection(X, y, nfolds):\n",
    "    Cs = [0.0001,0.001, 0.01, 0.1, 1, 10]\n",
    "    gammas = [0.0001,0.001, 0.01, 0.1, 1,10]\n",
    "    param_grid = {'C': Cs, 'gamma' : gammas}\n",
    "    grid_search = GridSearchCV(SVC(kernel='rbf',probability=True), param_grid, cv=nfolds)\n",
    "    grid_search.fit(X, y)\n",
    "    grid_search.best_params_\n",
    "    return grid_search.best_estimator_"
   ]
  },
  {
   "cell_type": "code",
   "execution_count": 19,
   "metadata": {
    "collapsed": true
   },
   "outputs": [],
   "source": [
    "# setting seed =7 to produce same results over and over again, it was maintained during different experiments \n",
    "seed=0\n"
   ]
  },
  {
   "cell_type": "code",
   "execution_count": 20,
   "metadata": {},
   "outputs": [
    {
     "name": "stderr",
     "output_type": "stream",
     "text": [
      "G:\\newage2\\envs\\tensorflow\\lib\\site-packages\\sklearn\\model_selection\\_search.py:813: DeprecationWarning: The default of the `iid` parameter will change from True to False in version 0.22 and will be removed in 0.24. This will change numeric results when test-set sizes are unequal.\n",
      "  DeprecationWarning)\n"
     ]
    }
   ],
   "source": [
    "# first rbf_svc for training on just the original training data\n",
    "#rbf_svc = SVC(kernel='rbf', gamma=0.00001, C=1000,probability=True).fit(X_train,Y_train)\n",
    "rbf_svc=svc_param_selection(X,Y,5)\n",
    "\n",
    "# secondly rbf_svc_extra for training on original+LSTM\n",
    "rbf_svc_extra = svc_param_selection(extrain,eytrain,5)"
   ]
  },
  {
   "cell_type": "code",
   "execution_count": 21,
   "metadata": {},
   "outputs": [
    {
     "data": {
      "text/plain": [
       "SVC(C=0.1, cache_size=200, class_weight=None, coef0=0.0,\n",
       "    decision_function_shape='ovr', degree=3, gamma=0.01, kernel='rbf',\n",
       "    max_iter=-1, probability=True, random_state=None, shrinking=True, tol=0.001,\n",
       "    verbose=False)"
      ]
     },
     "execution_count": 21,
     "metadata": {},
     "output_type": "execute_result"
    }
   ],
   "source": [
    "\n",
    "# fitting the data\n",
    "rbf_svc.fit(X,Y)\n",
    "rbf_svc_extra.fit(extrain,eytrain)"
   ]
  },
  {
   "cell_type": "code",
   "execution_count": 22,
   "metadata": {},
   "outputs": [
    {
     "data": {
      "text/plain": [
       "(205, 9)"
      ]
     },
     "execution_count": 22,
     "metadata": {},
     "output_type": "execute_result"
    }
   ],
   "source": [
    "# loading the validation dataset previously set up by validation split(this data was not included in any training procedure)\n",
    "Prediction_data=X_test\n",
    "\n",
    "#producing the shape\n",
    "Prediction_data.shape"
   ]
  },
  {
   "cell_type": "code",
   "execution_count": 23,
   "metadata": {
    "collapsed": true
   },
   "outputs": [],
   "source": [
    "# making predictions on validation dataset using svc trained only on original training data\n",
    "prediction_on_real_dataset=rbf_svc.predict_proba(Prediction_data)\n",
    "\n",
    "#saving probabilities\n",
    "predictions=rbf_svc.predict(Prediction_data)\n",
    "\n",
    "# making predictions on validation dataset using svc trained on original training data + LSTM generated data\n",
    "prediction_on_real_dataset_adding_extra=rbf_svc_extra.predict_proba(Prediction_data)\n",
    "#saving probabilities\n",
    "predictions_extra=rbf_svc_extra.predict(Prediction_data)"
   ]
  },
  {
   "cell_type": "code",
   "execution_count": 24,
   "metadata": {},
   "outputs": [
    {
     "name": "stdout",
     "output_type": "stream",
     "text": [
      "205\n",
      "205\n"
     ]
    }
   ],
   "source": [
    "print(len(prediction_on_real_dataset))\n",
    "\n",
    "print(len(prediction_on_real_dataset_adding_extra))"
   ]
  },
  {
   "cell_type": "code",
   "execution_count": 25,
   "metadata": {
    "collapsed": true
   },
   "outputs": [],
   "source": [
    "from sklearn.metrics import f1_score\n",
    "from sklearn.metrics import auc\n",
    "from sklearn.metrics import average_precision_score\n",
    "\n",
    "from sklearn.metrics import roc_curve, roc_auc_score"
   ]
  },
  {
   "cell_type": "code",
   "execution_count": 26,
   "metadata": {},
   "outputs": [
    {
     "data": {
      "text/plain": [
       "0.9367088607594938"
      ]
     },
     "execution_count": 26,
     "metadata": {},
     "output_type": "execute_result"
    }
   ],
   "source": [
    "f1_score(Y_test,predictions)#without_extra"
   ]
  },
  {
   "cell_type": "code",
   "execution_count": 27,
   "metadata": {},
   "outputs": [
    {
     "data": {
      "text/plain": [
       "0.9367088607594938"
      ]
     },
     "execution_count": 27,
     "metadata": {},
     "output_type": "execute_result"
    }
   ],
   "source": [
    "f1_score(Y_test,predictions_extra)#with_extra"
   ]
  },
  {
   "cell_type": "code",
   "execution_count": 28,
   "metadata": {},
   "outputs": [
    {
     "data": {
      "text/plain": [
       "array([0.01156558, 0.98843442])"
      ]
     },
     "execution_count": 28,
     "metadata": {},
     "output_type": "execute_result"
    }
   ],
   "source": [
    "prediction_on_real_dataset[0]# probabilities of 2 class"
   ]
  },
  {
   "cell_type": "code",
   "execution_count": 29,
   "metadata": {},
   "outputs": [
    {
     "name": "stdout",
     "output_type": "stream",
     "text": [
      "Without extra:  0.9878620971032231\n",
      "With extra:  0.9878620971032231\n"
     ]
    }
   ],
   "source": [
    "# getting AUC score for classifier trained on only original data\n",
    "fpr, tpr, thres=roc_curve(Y_test,prediction_on_real_dataset[:,1],pos_label=1)\n",
    "\n",
    "#getting AUC score for classifier trained on original + LSTM generated data\n",
    "efpr, etpr, ethres=roc_curve(Y_test,prediction_on_real_dataset_adding_extra[:,1],pos_label=1)\n",
    "\n",
    "with_=auc(fpr,tpr)\n",
    "without_=auc(efpr,etpr)\n",
    "print('Without extra: ',auc(fpr,tpr))\n",
    "\n",
    "print('With extra: ',auc(efpr,etpr))"
   ]
  },
  {
   "cell_type": "code",
   "execution_count": 30,
   "metadata": {},
   "outputs": [
    {
     "data": {
      "image/png": "[encoded data removed]",
      "text/plain": [
       "<matplotlib.figure.Figure at 0x1f6f030cc0>"
      ]
     },
     "metadata": {},
     "output_type": "display_data"
    }
   ],
   "source": [
    "# plotting data ( for minority predictions , here minority class = 1)\n",
    "\n",
    "Y_probs=prediction_on_real_dataset[:,1]\n",
    "fpr,tpr,_=roc_curve(Y_test,Y_probs)\n",
    "\n",
    "Y_probs_extra=prediction_on_real_dataset_adding_extra[:,1]\n",
    "efpr,etpr,_=roc_curve(Y_test,Y_probs_extra)\n",
    "\n",
    "original=auc(fpr,tpr)\n",
    "lstm_with_extra=auc(efpr,etpr)\n",
    "\n",
    "original=original.astype(float)\n",
    "lstm_with_extra=lstm_with_extra.astype(float)\n",
    "\n",
    "\n",
    "pyplot.clf()\n",
    "pyplot.plot(fpr, tpr,label='original (AUC : %5.4f)'%(with_),linewidth='1.2')\n",
    "pyplot.plot(efpr,etpr,label='LSTM generated+original(AUC : %5.4f)'%(without_),linewidth='1.2')\n",
    "pyplot.xlabel('FPR')\n",
    "pyplot.ylabel('TPR')\n",
    "pyplot.title('ROC curve')\n",
    "pyplot.legend(loc=4)\n",
    "pyplot.savefig('ROC curve .png',dpi=500)\n",
    "pyplot.show()"
   ]
  },
  {
   "cell_type": "code",
   "execution_count": 31,
   "metadata": {},
   "outputs": [
    {
     "data": {
      "image/png": "[encoded data removed]",
      "text/plain": [
       "<matplotlib.figure.Figure at 0x1f6f02a7f0>"
      ]
     },
     "metadata": {},
     "output_type": "display_data"
    }
   ],
   "source": [
    "Y_probs=prediction_on_real_dataset[:,0]\n",
    "fpr,tpr,_=roc_curve(Y_test,Y_probs)\n",
    "\n",
    "Y_probs_extra=prediction_on_real_dataset_adding_extra[:,0]\n",
    "efpr,etpr,_=roc_curve(Y_test,Y_probs_extra)\n",
    "\n",
    "pyplot.clf()\n",
    "pyplot.plot(fpr, tpr,label='original')\n",
    "pyplot.plot(efpr,etpr,label='LSTM generated')\n",
    "pyplot.xlabel('FPR')\n",
    "pyplot.ylabel('TPR(recall)')\n",
    "pyplot.title('ROC curve')\n",
    "pyplot.legend(loc=2)\n",
    "pyplot.show()"
   ]
  },
  {
   "cell_type": "code",
   "execution_count": 32,
   "metadata": {},
   "outputs": [
    {
     "data": {
      "text/plain": [
       "array([[0.01156558, 0.98843442],\n",
       "       [0.00966601, 0.99033399],\n",
       "       [0.01609743, 0.98390257],\n",
       "       [0.00770948, 0.99229052],\n",
       "       [0.05153553, 0.94846447],\n",
       "       [0.99422412, 0.00577588],\n",
       "       [0.94451035, 0.05548965],\n",
       "       [0.98939352, 0.01060648],\n",
       "       [0.99401779, 0.00598221],\n",
       "       [0.9926524 , 0.0073476 ],\n",
       "       [0.30067256, 0.69932744],\n",
       "       [0.0076519 , 0.9923481 ],\n",
       "       [0.99170865, 0.00829135],\n",
       "       [0.99015252, 0.00984748],\n",
       "       [0.9942103 , 0.0057897 ],\n",
       "       [0.9912594 , 0.0087406 ],\n",
       "       [0.02292577, 0.97707423],\n",
       "       [0.9927628 , 0.0072372 ],\n",
       "       [0.99092709, 0.00907291],\n",
       "       [0.98485011, 0.01514989],\n",
       "       [0.99170865, 0.00829135],\n",
       "       [0.0083423 , 0.9916577 ],\n",
       "       [0.01061254, 0.98938746],\n",
       "       [0.99144018, 0.00855982],\n",
       "       [0.01093557, 0.98906443],\n",
       "       [0.01420813, 0.98579187],\n",
       "       [0.99308596, 0.00691404],\n",
       "       [0.97939788, 0.02060212],\n",
       "       [0.99170865, 0.00829135],\n",
       "       [0.99310724, 0.00689276],\n",
       "       [0.98702322, 0.01297678],\n",
       "       [0.98561671, 0.01438329],\n",
       "       [0.99121242, 0.00878758],\n",
       "       [0.01140471, 0.98859529],\n",
       "       [0.01275512, 0.98724488],\n",
       "       [0.9926524 , 0.0073476 ],\n",
       "       [0.9927628 , 0.0072372 ],\n",
       "       [0.99226818, 0.00773182],\n",
       "       [0.99210147, 0.00789853],\n",
       "       [0.99356902, 0.00643098],\n",
       "       [0.01305642, 0.98694358],\n",
       "       [0.00794072, 0.99205928],\n",
       "       [0.02549208, 0.97450792],\n",
       "       [0.99341256, 0.00658744],\n",
       "       [0.89997518, 0.10002482],\n",
       "       [0.9942103 , 0.0057897 ],\n",
       "       [0.71275793, 0.28724207],\n",
       "       [0.9926524 , 0.0073476 ],\n",
       "       [0.99179304, 0.00820696],\n",
       "       [0.9927628 , 0.0072372 ],\n",
       "       [0.00715799, 0.99284201],\n",
       "       [0.01009439, 0.98990561],\n",
       "       [0.01982777, 0.98017223],\n",
       "       [0.8687012 , 0.1312988 ],\n",
       "       [0.00489672, 0.99510328],\n",
       "       [0.01809831, 0.98190169],\n",
       "       [0.99243416, 0.00756584],\n",
       "       [0.02074801, 0.97925199],\n",
       "       [0.97051194, 0.02948806],\n",
       "       [0.99095775, 0.00904225],\n",
       "       [0.01699148, 0.98300852],\n",
       "       [0.15182843, 0.84817157],\n",
       "       [0.97815153, 0.02184847],\n",
       "       [0.99397565, 0.00602435],\n",
       "       [0.99306038, 0.00693962],\n",
       "       [0.00653971, 0.99346029],\n",
       "       [0.95696128, 0.04303872],\n",
       "       [0.9926524 , 0.0073476 ],\n",
       "       [0.10805451, 0.89194549],\n",
       "       [0.0114128 , 0.9885872 ],\n",
       "       [0.99144018, 0.00855982],\n",
       "       [0.9934955 , 0.0065045 ],\n",
       "       [0.01468848, 0.98531152],\n",
       "       [0.99304769, 0.00695231],\n",
       "       [0.99397565, 0.00602435],\n",
       "       [0.98873198, 0.01126802],\n",
       "       [0.41467171, 0.58532829],\n",
       "       [0.01606347, 0.98393653],\n",
       "       [0.99121242, 0.00878758],\n",
       "       [0.99401779, 0.00598221],\n",
       "       [0.98793929, 0.01206071],\n",
       "       [0.01790378, 0.98209622],\n",
       "       [0.98853841, 0.01146159],\n",
       "       [0.98183423, 0.01816577],\n",
       "       [0.9844856 , 0.0155144 ],\n",
       "       [0.99026753, 0.00973247],\n",
       "       [0.0087707 , 0.9912293 ],\n",
       "       [0.01882656, 0.98117344],\n",
       "       [0.01206159, 0.98793841],\n",
       "       [0.01251441, 0.98748559],\n",
       "       [0.98400752, 0.01599248],\n",
       "       [0.99239345, 0.00760655],\n",
       "       [0.99093276, 0.00906724],\n",
       "       [0.08742866, 0.91257134],\n",
       "       [0.00859684, 0.99140316],\n",
       "       [0.99282854, 0.00717146],\n",
       "       [0.98910361, 0.01089639],\n",
       "       [0.99209587, 0.00790413],\n",
       "       [0.01383629, 0.98616371],\n",
       "       [0.99341256, 0.00658744],\n",
       "       [0.99106681, 0.00893319],\n",
       "       [0.97366697, 0.02633303],\n",
       "       [0.01203499, 0.98796501],\n",
       "       [0.99170865, 0.00829135],\n",
       "       [0.00685505, 0.99314495],\n",
       "       [0.01274385, 0.98725615],\n",
       "       [0.00718172, 0.99281828],\n",
       "       [0.99221166, 0.00778834],\n",
       "       [0.99406309, 0.00593691],\n",
       "       [0.99341256, 0.00658744],\n",
       "       [0.03578757, 0.96421243],\n",
       "       [0.9926524 , 0.0073476 ],\n",
       "       [0.03002141, 0.96997859],\n",
       "       [0.99170865, 0.00829135],\n",
       "       [0.99121242, 0.00878758],\n",
       "       [0.01631732, 0.98368268],\n",
       "       [0.9942103 , 0.0057897 ],\n",
       "       [0.01073188, 0.98926812],\n",
       "       [0.99040936, 0.00959064],\n",
       "       [0.02034192, 0.97965808],\n",
       "       [0.14545742, 0.85454258],\n",
       "       [0.99093276, 0.00906724],\n",
       "       [0.99170865, 0.00829135],\n",
       "       [0.01248271, 0.98751729],\n",
       "       [0.7154579 , 0.2845421 ],\n",
       "       [0.99233572, 0.00766428],\n",
       "       [0.99190746, 0.00809254],\n",
       "       [0.01160961, 0.98839039],\n",
       "       [0.99175362, 0.00824638],\n",
       "       [0.02365703, 0.97634297],\n",
       "       [0.99422412, 0.00577588],\n",
       "       [0.01687852, 0.98312148],\n",
       "       [0.9942103 , 0.0057897 ],\n",
       "       [0.99226818, 0.00773182],\n",
       "       [0.9927628 , 0.0072372 ],\n",
       "       [0.01625923, 0.98374077],\n",
       "       [0.02166726, 0.97833274],\n",
       "       [0.99306038, 0.00693962],\n",
       "       [0.00698735, 0.99301265],\n",
       "       [0.01464441, 0.98535559],\n",
       "       [0.99346879, 0.00653121],\n",
       "       [0.01942147, 0.98057853],\n",
       "       [0.16703325, 0.83296675],\n",
       "       [0.01529269, 0.98470731],\n",
       "       [0.99210147, 0.00789853],\n",
       "       [0.01543681, 0.98456319],\n",
       "       [0.01097893, 0.98902107],\n",
       "       [0.98640415, 0.01359585],\n",
       "       [0.02351308, 0.97648692],\n",
       "       [0.02214535, 0.97785465],\n",
       "       [0.9926524 , 0.0073476 ],\n",
       "       [0.9942103 , 0.0057897 ],\n",
       "       [0.11488999, 0.88511001],\n",
       "       [0.90093776, 0.09906224],\n",
       "       [0.99123825, 0.00876175],\n",
       "       [0.01495368, 0.98504632],\n",
       "       [0.99177422, 0.00822578],\n",
       "       [0.00891513, 0.99108487],\n",
       "       [0.9942103 , 0.0057897 ],\n",
       "       [0.01055774, 0.98944226],\n",
       "       [0.99210147, 0.00789853],\n",
       "       [0.9927628 , 0.0072372 ],\n",
       "       [0.99121242, 0.00878758],\n",
       "       [0.84590556, 0.15409444],\n",
       "       [0.99121242, 0.00878758],\n",
       "       [0.9934955 , 0.0065045 ],\n",
       "       [0.00919347, 0.99080653],\n",
       "       [0.99221166, 0.00778834],\n",
       "       [0.99045126, 0.00954874],\n",
       "       [0.05852263, 0.94147737],\n",
       "       [0.02121866, 0.97878134],\n",
       "       [0.99397565, 0.00602435],\n",
       "       [0.9089176 , 0.0910824 ],\n",
       "       [0.0215298 , 0.9784702 ],\n",
       "       [0.98919595, 0.01080405],\n",
       "       [0.99394544, 0.00605456],\n",
       "       [0.36402373, 0.63597627],\n",
       "       [0.99321167, 0.00678833],\n",
       "       [0.99341256, 0.00658744],\n",
       "       [0.9942103 , 0.0057897 ],\n",
       "       [0.99422412, 0.00577588],\n",
       "       [0.99341256, 0.00658744],\n",
       "       [0.009736  , 0.990264  ],\n",
       "       [0.99188805, 0.00811195],\n",
       "       [0.3855247 , 0.6144753 ],\n",
       "       [0.99170865, 0.00829135],\n",
       "       [0.98816834, 0.01183166],\n",
       "       [0.99144018, 0.00855982],\n",
       "       [0.99170865, 0.00829135],\n",
       "       [0.9927628 , 0.0072372 ],\n",
       "       [0.22682262, 0.77317738],\n",
       "       [0.99178452, 0.00821548],\n",
       "       [0.99170865, 0.00829135],\n",
       "       [0.99168018, 0.00831982],\n",
       "       [0.0192023 , 0.9807977 ],\n",
       "       [0.98712366, 0.01287634],\n",
       "       [0.01956819, 0.98043181],\n",
       "       [0.00941372, 0.99058628],\n",
       "       [0.9924961 , 0.0075039 ],\n",
       "       [0.76988793, 0.23011207],\n",
       "       [0.04147412, 0.95852588],\n",
       "       [0.99226818, 0.00773182],\n",
       "       [0.01553577, 0.98446423],\n",
       "       [0.9942103 , 0.0057897 ],\n",
       "       [0.01243061, 0.98756939]])"
      ]
     },
     "execution_count": 32,
     "metadata": {},
     "output_type": "execute_result"
    }
   ],
   "source": [
    "prediction_on_real_dataset"
   ]
  },
  {
   "cell_type": "code",
   "execution_count": 33,
   "metadata": {},
   "outputs": [
    {
     "data": {
      "text/plain": [
       "array([[0.00978467, 0.99021533],\n",
       "       [0.00826544, 0.99173456],\n",
       "       [0.01451873, 0.98548127],\n",
       "       [0.00669284, 0.99330716],\n",
       "       [0.04481014, 0.95518986],\n",
       "       [0.99472165, 0.00527835],\n",
       "       [0.9461265 , 0.0538735 ],\n",
       "       [0.98996969, 0.01003031],\n",
       "       [0.99452947, 0.00547053],\n",
       "       [0.99330611, 0.00669389],\n",
       "       [0.26742331, 0.73257669],\n",
       "       [0.00659541, 0.99340459],\n",
       "       [0.99239045, 0.00760955],\n",
       "       [0.99072027, 0.00927973],\n",
       "       [0.99468681, 0.00531319],\n",
       "       [0.99177257, 0.00822743],\n",
       "       [0.01981218, 0.98018782],\n",
       "       [0.9933891 , 0.0066109 ],\n",
       "       [0.9912832 , 0.0087168 ],\n",
       "       [0.9856136 , 0.0143864 ],\n",
       "       [0.99239045, 0.00760955],\n",
       "       [0.00698197, 0.99301803],\n",
       "       [0.00932939, 0.99067061],\n",
       "       [0.99208201, 0.00791799],\n",
       "       [0.00980508, 0.99019492],\n",
       "       [0.01307506, 0.98692494],\n",
       "       [0.99358398, 0.00641602],\n",
       "       [0.9802983 , 0.0197017 ],\n",
       "       [0.99239045, 0.00760955],\n",
       "       [0.99361215, 0.00638785],\n",
       "       [0.98781664, 0.01218336],\n",
       "       [0.98619054, 0.01380946],\n",
       "       [0.99196832, 0.00803168],\n",
       "       [0.01003093, 0.98996907],\n",
       "       [0.01165281, 0.98834719],\n",
       "       [0.99330611, 0.00669389],\n",
       "       [0.9933891 , 0.0066109 ],\n",
       "       [0.99296394, 0.00703606],\n",
       "       [0.9928284 , 0.0071716 ],\n",
       "       [0.99402827, 0.00597173],\n",
       "       [0.01116556, 0.98883444],\n",
       "       [0.00696788, 0.99303212],\n",
       "       [0.02420843, 0.97579157],\n",
       "       [0.9939196 , 0.0060804 ],\n",
       "       [0.89637122, 0.10362878],\n",
       "       [0.99468681, 0.00531319],\n",
       "       [0.69243673, 0.30756327],\n",
       "       [0.99330611, 0.00669389],\n",
       "       [0.99235616, 0.00764384],\n",
       "       [0.9933891 , 0.0066109 ],\n",
       "       [0.00608909, 0.99391091],\n",
       "       [0.00901617, 0.99098383],\n",
       "       [0.01594867, 0.98405133],\n",
       "       [0.87033311, 0.12966689],\n",
       "       [0.00401176, 0.99598824],\n",
       "       [0.01698337, 0.98301663],\n",
       "       [0.99292915, 0.00707085],\n",
       "       [0.01846363, 0.98153637],\n",
       "       [0.9715971 , 0.0284029 ],\n",
       "       [0.99168585, 0.00831415],\n",
       "       [0.01500151, 0.98499849],\n",
       "       [0.13586699, 0.86413301],\n",
       "       [0.97874691, 0.02125309],\n",
       "       [0.99450975, 0.00549025],\n",
       "       [0.99361912, 0.00638088],\n",
       "       [0.0056967 , 0.9943033 ],\n",
       "       [0.95670073, 0.04329927],\n",
       "       [0.99330611, 0.00669389],\n",
       "       [0.09250996, 0.90749004],\n",
       "       [0.00919167, 0.99080833],\n",
       "       [0.99208201, 0.00791799],\n",
       "       [0.99402567, 0.00597433],\n",
       "       [0.01278902, 0.98721098],\n",
       "       [0.99362123, 0.00637877],\n",
       "       [0.99450975, 0.00549025],\n",
       "       [0.98938307, 0.01061693],\n",
       "       [0.37884763, 0.62115237],\n",
       "       [0.0146884 , 0.9853116 ],\n",
       "       [0.99196832, 0.00803168],\n",
       "       [0.99452947, 0.00547053],\n",
       "       [0.9886098 , 0.0113902 ],\n",
       "       [0.01606836, 0.98393164],\n",
       "       [0.98926804, 0.01073196],\n",
       "       [0.9822068 , 0.0177932 ],\n",
       "       [0.98505294, 0.01494706],\n",
       "       [0.99099101, 0.00900899],\n",
       "       [0.00776634, 0.99223366],\n",
       "       [0.01671947, 0.98328053],\n",
       "       [0.0108561 , 0.9891439 ],\n",
       "       [0.01137889, 0.98862111],\n",
       "       [0.98486676, 0.01513324],\n",
       "       [0.99290762, 0.00709238],\n",
       "       [0.99166653, 0.00833347],\n",
       "       [0.07453007, 0.92546993],\n",
       "       [0.00716338, 0.99283662],\n",
       "       [0.99340278, 0.00659722],\n",
       "       [0.98970927, 0.01029073],\n",
       "       [0.99271008, 0.00728992],\n",
       "       [0.0126383 , 0.9873617 ],\n",
       "       [0.9939196 , 0.0060804 ],\n",
       "       [0.99169339, 0.00830661],\n",
       "       [0.97334356, 0.02665644],\n",
       "       [0.0109046 , 0.9890954 ],\n",
       "       [0.99239045, 0.00760955],\n",
       "       [0.0060697 , 0.9939303 ],\n",
       "       [0.01158259, 0.98841741],\n",
       "       [0.00624555, 0.99375445],\n",
       "       [0.9927616 , 0.0072384 ],\n",
       "       [0.99450603, 0.00549397],\n",
       "       [0.9939196 , 0.0060804 ],\n",
       "       [0.03148281, 0.96851719],\n",
       "       [0.99330611, 0.00669389],\n",
       "       [0.02850821, 0.97149179],\n",
       "       [0.99239045, 0.00760955],\n",
       "       [0.99196832, 0.00803168],\n",
       "       [0.0148541 , 0.9851459 ],\n",
       "       [0.99468681, 0.00531319],\n",
       "       [0.00966302, 0.99033698],\n",
       "       [0.99098476, 0.00901524],\n",
       "       [0.0190436 , 0.9809564 ],\n",
       "       [0.13135693, 0.86864307],\n",
       "       [0.99166653, 0.00833347],\n",
       "       [0.99239045, 0.00760955],\n",
       "       [0.01049086, 0.98950914],\n",
       "       [0.70612759, 0.29387241],\n",
       "       [0.99281557, 0.00718443],\n",
       "       [0.99252302, 0.00747698],\n",
       "       [0.00978467, 0.99021533],\n",
       "       [0.99237566, 0.00762434],\n",
       "       [0.01891284, 0.98108716],\n",
       "       [0.99472165, 0.00527835],\n",
       "       [0.01575334, 0.98424666],\n",
       "       [0.99468681, 0.00531319],\n",
       "       [0.99296394, 0.00703606],\n",
       "       [0.9933891 , 0.0066109 ],\n",
       "       [0.01506279, 0.98493721],\n",
       "       [0.01945368, 0.98054632],\n",
       "       [0.99361912, 0.00638088],\n",
       "       [0.00597545, 0.99402455],\n",
       "       [0.01293097, 0.98706903],\n",
       "       [0.99393352, 0.00606648],\n",
       "       [0.01685335, 0.98314665],\n",
       "       [0.13971462, 0.86028538],\n",
       "       [0.01376168, 0.98623832],\n",
       "       [0.9928284 , 0.0071716 ],\n",
       "       [0.01414973, 0.98585027],\n",
       "       [0.01019127, 0.98980873],\n",
       "       [0.98739472, 0.01260528],\n",
       "       [0.02281296, 0.97718704],\n",
       "       [0.02039705, 0.97960295],\n",
       "       [0.99330611, 0.00669389],\n",
       "       [0.99468681, 0.00531319],\n",
       "       [0.09598396, 0.90401604],\n",
       "       [0.9022595 , 0.0977405 ],\n",
       "       [0.99184971, 0.00815029],\n",
       "       [0.01398589, 0.98601411],\n",
       "       [0.99242894, 0.00757106],\n",
       "       [0.00785603, 0.99214397],\n",
       "       [0.99468681, 0.00531319],\n",
       "       [0.00963793, 0.99036207],\n",
       "       [0.9928284 , 0.0071716 ],\n",
       "       [0.9933891 , 0.0066109 ],\n",
       "       [0.99196832, 0.00803168],\n",
       "       [0.83183095, 0.16816905],\n",
       "       [0.99196832, 0.00803168],\n",
       "       [0.99402567, 0.00597433],\n",
       "       [0.00790537, 0.99209463],\n",
       "       [0.9927616 , 0.0072384 ],\n",
       "       [0.99123806, 0.00876194],\n",
       "       [0.05068997, 0.94931003],\n",
       "       [0.01831089, 0.98168911],\n",
       "       [0.99450975, 0.00549025],\n",
       "       [0.90924207, 0.09075793],\n",
       "       [0.01998501, 0.98001499],\n",
       "       [0.9899904 , 0.0100096 ],\n",
       "       [0.99441652, 0.00558348],\n",
       "       [0.34886726, 0.65113274],\n",
       "       [0.99373159, 0.00626841],\n",
       "       [0.9939196 , 0.0060804 ],\n",
       "       [0.99468681, 0.00531319],\n",
       "       [0.99472165, 0.00527835],\n",
       "       [0.9939196 , 0.0060804 ],\n",
       "       [0.00881785, 0.99118215],\n",
       "       [0.99243289, 0.00756711],\n",
       "       [0.39004241, 0.60995759],\n",
       "       [0.99239045, 0.00760955],\n",
       "       [0.98876494, 0.01123506],\n",
       "       [0.99208201, 0.00791799],\n",
       "       [0.99239045, 0.00760955],\n",
       "       [0.9933891 , 0.0066109 ],\n",
       "       [0.19553073, 0.80446927],\n",
       "       [0.99241502, 0.00758498],\n",
       "       [0.99239045, 0.00760955],\n",
       "       [0.9923059 , 0.0076941 ],\n",
       "       [0.01810705, 0.98189295],\n",
       "       [0.98755861, 0.01244139],\n",
       "       [0.0170315 , 0.9829685 ],\n",
       "       [0.00824927, 0.99175073],\n",
       "       [0.99300186, 0.00699814],\n",
       "       [0.77302671, 0.22697329],\n",
       "       [0.03843576, 0.96156424],\n",
       "       [0.99296394, 0.00703606],\n",
       "       [0.01305144, 0.98694856],\n",
       "       [0.99468681, 0.00531319],\n",
       "       [0.01064727, 0.98935273]])"
      ]
     },
     "execution_count": 33,
     "metadata": {},
     "output_type": "execute_result"
    }
   ],
   "source": [
    "prediction_on_real_dataset_adding_extra"
   ]
  },
  {
   "cell_type": "code",
   "execution_count": null,
   "metadata": {
    "collapsed": true
   },
   "outputs": [],
   "source": []
  },
  {
   "cell_type": "code",
   "execution_count": null,
   "metadata": {
    "collapsed": true
   },
   "outputs": [],
   "source": []
  }
 ],
 "metadata": {
  "kernelspec": {
   "display_name": "Python 3",
   "language": "python",
   "name": "python3"
  },
  "language_info": {
   "codemirror_mode": {
    "name": "ipython",
    "version": 3
   },
   "file_extension": ".py",
   "mimetype": "text/x-python",
   "name": "python",
   "nbconvert_exporter": "python",
   "pygments_lexer": "ipython3",
   "version": "3.6.6"
  }
 },
 "nbformat": 4,
 "nbformat_minor": 2
}
