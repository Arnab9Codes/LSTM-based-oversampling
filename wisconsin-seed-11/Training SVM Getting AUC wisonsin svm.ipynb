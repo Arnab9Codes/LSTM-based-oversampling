{
 "cells": [
  {
   "cell_type": "code",
   "execution_count": 1,
   "metadata": {
    "collapsed": true
   },
   "outputs": [],
   "source": [
    "import time\n",
    "import math\n",
    "\n",
    "import numpy as np\n",
    "import pandas as pd\n",
    "from pandas import DataFrame\n",
    "from pandas import concat\n",
    "from matplotlib import pyplot\n",
    "\n",
    "from sklearn.preprocessing import MinMaxScaler\n",
    "from sklearn.preprocessing import LabelEncoder\n",
    "from sklearn.metrics import mean_squared_error\n",
    "\n",
    "from sklearn.preprocessing import StandardScaler\n",
    "from sklearn.model_selection import train_test_split\n",
    "from sklearn.model_selection import KFold\n",
    "from sklearn.model_selection import cross_val_score\n",
    "from sklearn.model_selection import GridSearchCV\n",
    "from sklearn.metrics import classification_report\n",
    "from sklearn.metrics import confusion_matrix\n",
    "from sklearn.metrics import accuracy_score\n",
    "from sklearn.metrics import precision_recall_curve\n",
    "\n",
    "from sklearn.pipeline import Pipeline\n",
    "from sklearn.linear_model import LogisticRegression\n",
    "from sklearn.tree import DecisionTreeClassifier\n",
    "from sklearn.neighbors import KNeighborsClassifier\n",
    "from sklearn.discriminant_analysis import LinearDiscriminantAnalysis\n",
    "from sklearn.naive_bayes import GaussianNB\n",
    "from sklearn.svm import SVC\n",
    "from sklearn.ensemble import AdaBoostClassifier\n",
    "from sklearn.ensemble import GradientBoostingClassifier\n",
    "from sklearn.ensemble import RandomForestClassifier\n",
    "from sklearn.ensemble import ExtraTreesClassifier\n",
    "\n",
    "from sklearn.model_selection import GridSearchCV\n",
    "\n",
    "import pickle"
   ]
  },
  {
   "cell_type": "code",
   "execution_count": 2,
   "metadata": {
    "collapsed": true
   },
   "outputs": [],
   "source": [
    "extra_data=pd.read_csv('new_corrected_data-v1-7-24-2019.csv')# loading extra genereated data genereated by LSTM #prediction_of_1_0007.csv\n",
    "original_data=pd.read_csv('train_Data.csv')#original data"
   ]
  },
  {
   "cell_type": "code",
   "execution_count": 3,
   "metadata": {},
   "outputs": [
    {
     "data": {
      "text/html": [
       "<div>\n",
       "<style scoped>\n",
       "    .dataframe tbody tr th:only-of-type {\n",
       "        vertical-align: middle;\n",
       "    }\n",
       "\n",
       "    .dataframe tbody tr th {\n",
       "        vertical-align: top;\n",
       "    }\n",
       "\n",
       "    .dataframe thead th {\n",
       "        text-align: right;\n",
       "    }\n",
       "</style>\n",
       "<table border=\"1\" class=\"dataframe\">\n",
       "  <thead>\n",
       "    <tr style=\"text-align: right;\">\n",
       "      <th></th>\n",
       "      <th>0</th>\n",
       "      <th>1</th>\n",
       "      <th>2</th>\n",
       "      <th>3</th>\n",
       "      <th>4</th>\n",
       "      <th>5</th>\n",
       "      <th>6</th>\n",
       "      <th>7</th>\n",
       "      <th>8</th>\n",
       "      <th>9</th>\n",
       "    </tr>\n",
       "  </thead>\n",
       "  <tbody>\n",
       "    <tr>\n",
       "      <th>0</th>\n",
       "      <td>8.117232</td>\n",
       "      <td>3.825509</td>\n",
       "      <td>6.339401</td>\n",
       "      <td>4.343291</td>\n",
       "      <td>3.587558</td>\n",
       "      <td>9.454459</td>\n",
       "      <td>5.012676</td>\n",
       "      <td>1.014015</td>\n",
       "      <td>0.756443</td>\n",
       "      <td>0.948993</td>\n",
       "    </tr>\n",
       "    <tr>\n",
       "      <th>1</th>\n",
       "      <td>8.863675</td>\n",
       "      <td>8.184542</td>\n",
       "      <td>7.385391</td>\n",
       "      <td>3.853214</td>\n",
       "      <td>6.638603</td>\n",
       "      <td>7.920461</td>\n",
       "      <td>5.071090</td>\n",
       "      <td>5.434147</td>\n",
       "      <td>3.999866</td>\n",
       "      <td>1.049564</td>\n",
       "    </tr>\n",
       "    <tr>\n",
       "      <th>2</th>\n",
       "      <td>6.776719</td>\n",
       "      <td>5.919395</td>\n",
       "      <td>5.873456</td>\n",
       "      <td>5.072727</td>\n",
       "      <td>6.014452</td>\n",
       "      <td>6.998934</td>\n",
       "      <td>5.214595</td>\n",
       "      <td>6.378353</td>\n",
       "      <td>2.796921</td>\n",
       "      <td>1.016695</td>\n",
       "    </tr>\n",
       "    <tr>\n",
       "      <th>3</th>\n",
       "      <td>4.219824</td>\n",
       "      <td>5.284617</td>\n",
       "      <td>5.948527</td>\n",
       "      <td>3.106864</td>\n",
       "      <td>4.708666</td>\n",
       "      <td>6.862634</td>\n",
       "      <td>5.323379</td>\n",
       "      <td>4.993102</td>\n",
       "      <td>0.268966</td>\n",
       "      <td>0.958949</td>\n",
       "    </tr>\n",
       "    <tr>\n",
       "      <th>4</th>\n",
       "      <td>5.613373</td>\n",
       "      <td>6.034943</td>\n",
       "      <td>5.302964</td>\n",
       "      <td>4.551824</td>\n",
       "      <td>5.394202</td>\n",
       "      <td>5.719346</td>\n",
       "      <td>5.798399</td>\n",
       "      <td>5.949848</td>\n",
       "      <td>3.469415</td>\n",
       "      <td>1.018374</td>\n",
       "    </tr>\n",
       "  </tbody>\n",
       "</table>\n",
       "</div>"
      ],
      "text/plain": [
       "          0         1         2         3         4         5         6  \\\n",
       "0  8.117232  3.825509  6.339401  4.343291  3.587558  9.454459  5.012676   \n",
       "1  8.863675  8.184542  7.385391  3.853214  6.638603  7.920461  5.071090   \n",
       "2  6.776719  5.919395  5.873456  5.072727  6.014452  6.998934  5.214595   \n",
       "3  4.219824  5.284617  5.948527  3.106864  4.708666  6.862634  5.323379   \n",
       "4  5.613373  6.034943  5.302964  4.551824  5.394202  5.719346  5.798399   \n",
       "\n",
       "          7         8         9  \n",
       "0  1.014015  0.756443  0.948993  \n",
       "1  5.434147  3.999866  1.049564  \n",
       "2  6.378353  2.796921  1.016695  \n",
       "3  4.993102  0.268966  0.958949  \n",
       "4  5.949848  3.469415  1.018374  "
      ]
     },
     "execution_count": 3,
     "metadata": {},
     "output_type": "execute_result"
    }
   ],
   "source": [
    "extra_data.head()#displaying LSTM generated data"
   ]
  },
  {
   "cell_type": "code",
   "execution_count": 4,
   "metadata": {},
   "outputs": [
    {
     "name": "stdout",
     "output_type": "stream",
     "text": [
      "(64, 10)\n"
     ]
    }
   ],
   "source": [
    "extra=np.array(extra_data)# getting the original shape\n",
    "print(extra.shape)"
   ]
  },
  {
   "cell_type": "code",
   "execution_count": 5,
   "metadata": {},
   "outputs": [
    {
     "data": {
      "text/plain": [
       "array([8.117232  , 3.825509  , 6.339401  , 4.343291  , 3.5875578 ,\n",
       "       9.454459  , 5.0126762 , 1.0140147 , 0.75644344, 0.9489927 ])"
      ]
     },
     "execution_count": 5,
     "metadata": {},
     "output_type": "execute_result"
    }
   ],
   "source": [
    "extra[0] # showing first row vector"
   ]
  },
  {
   "cell_type": "code",
   "execution_count": 6,
   "metadata": {
    "collapsed": true
   },
   "outputs": [],
   "source": [
    "# Setting predictions of all generated data to 1 because their outputs are mostly 0.98, 0.99 etc. \n",
    "for i in range(0,len(extra),1):\n",
    "    extra[i][9]=int(1)"
   ]
  },
  {
   "cell_type": "code",
   "execution_count": 7,
   "metadata": {},
   "outputs": [
    {
     "data": {
      "text/plain": [
       "array([[ 8.117232  ,  3.825509  ,  6.339401  ,  4.343291  ,  3.5875578 ,\n",
       "         9.454459  ,  5.0126762 ,  1.0140147 ,  0.75644344,  1.        ],\n",
       "       [ 8.863675  ,  8.184542  ,  7.3853908 ,  3.8532143 ,  6.6386027 ,\n",
       "         7.920461  ,  5.07109   ,  5.4341474 ,  3.999866  ,  1.        ],\n",
       "       [ 6.776719  ,  5.9193954 ,  5.873456  ,  5.0727267 ,  6.0144525 ,\n",
       "         6.9989343 ,  5.2145953 ,  6.3783526 ,  2.796921  ,  1.        ],\n",
       "       [ 4.2198243 ,  5.2846165 ,  5.948527  ,  3.106864  ,  4.708666  ,\n",
       "         6.8626337 ,  5.3233786 ,  4.993102  ,  0.26896614,  1.        ],\n",
       "       [ 5.613373  ,  6.034943  ,  5.302964  ,  4.551824  ,  5.3942018 ,\n",
       "         5.7193456 ,  5.798399  ,  5.9498477 ,  3.4694154 ,  1.        ],\n",
       "       [ 6.0500145 ,  5.0574627 ,  5.7800894 ,  3.9001482 ,  3.9848547 ,\n",
       "         9.092854  ,  6.0335293 ,  1.8909259 , -0.69713986,  1.        ],\n",
       "       [10.130032  ,  5.5958447 ,  6.274951  ,  5.89578   ,  7.041958  ,\n",
       "         9.441497  ,  6.1465154 ,  3.3148196 ,  2.9829462 ,  1.        ],\n",
       "       [ 8.057227  ,  6.1210246 ,  6.1032944 ,  4.177543  ,  5.425478  ,\n",
       "         6.8068576 ,  5.351458  ,  4.985634  ,  3.2404115 ,  1.        ],\n",
       "       [ 4.4833837 ,  5.8228726 ,  5.404213  ,  4.5620346 ,  4.6245937 ,\n",
       "         7.8908906 ,  6.2122335 ,  4.194189  ,  0.3295287 ,  1.        ],\n",
       "       [ 5.89467   ,  8.2832    ,  6.4251657 ,  6.22964   ,  4.1031647 ,\n",
       "         7.5992336 ,  6.5763235 ,  6.7661805 ,  4.1128244 ,  1.        ],\n",
       "       [ 8.647383  ,  6.1022544 ,  7.227316  ,  5.5927157 ,  5.4154205 ,\n",
       "         7.5066695 ,  6.306415  ,  2.8525372 ,  3.827219  ,  1.        ],\n",
       "       [ 6.004783  ,  8.130035  ,  5.550231  ,  7.0252514 ,  5.933922  ,\n",
       "         9.375023  ,  6.409872  ,  9.359575  ,  2.628537  ,  1.        ],\n",
       "       [ 6.332628  ,  4.3978105 ,  5.319871  ,  4.294542  ,  5.539161  ,\n",
       "         7.698695  ,  4.8340483 ,  6.099044  ,  2.314621  ,  1.        ],\n",
       "       [ 7.4957623 ,  6.071243  ,  6.409663  ,  6.2175264 ,  5.8748465 ,\n",
       "         7.566311  ,  5.986861  ,  4.9973416 ,  3.7280722 ,  1.        ],\n",
       "       [ 4.016424  ,  9.178091  ,  6.64165   ,  6.863139  ,  3.2379303 ,\n",
       "         8.418399  ,  7.9047227 ,  4.578382  ,  1.4207951 ,  1.        ],\n",
       "       [ 8.010781  ,  5.0478954 ,  5.422637  ,  4.3944674 ,  6.481535  ,\n",
       "         9.529899  ,  5.9366326 ,  3.3626323 ,  1.5820366 ,  1.        ],\n",
       "       [ 4.727146  ,  6.747997  ,  5.825821  ,  4.5710425 ,  5.4787145 ,\n",
       "         6.9955606 ,  5.4506693 ,  7.955008  ,  3.0367858 ,  1.        ],\n",
       "       [ 6.4590635 ,  8.587734  ,  6.3327823 ,  6.78864   ,  5.728614  ,\n",
       "         7.905709  ,  6.7963295 ,  6.395125  ,  2.562374  ,  1.        ],\n",
       "       [ 5.6499662 ,  6.6407413 ,  6.1687474 ,  4.9530973 ,  4.8839836 ,\n",
       "         6.3075385 ,  6.436766  ,  5.987796  ,  2.5272887 ,  1.        ],\n",
       "       [ 7.608196  ,  5.8361063 ,  6.4406934 ,  7.4512844 ,  5.7503014 ,\n",
       "         6.618372  ,  6.2255588 ,  7.148648  ,  4.3319654 ,  1.        ],\n",
       "       [ 8.766079  ,  5.736214  ,  5.941195  ,  4.4413123 ,  6.511751  ,\n",
       "        10.028611  ,  6.0731273 ,  2.0400229 ,  2.8572297 ,  1.        ],\n",
       "       [ 8.297898  ,  6.9672003 ,  6.3362374 ,  4.9345    ,  6.4198895 ,\n",
       "         8.789639  ,  5.361066  ,  6.4390306 ,  3.5187938 ,  1.        ],\n",
       "       [ 6.970029  ,  7.6918254 ,  5.9325485 ,  7.715493  ,  5.946475  ,\n",
       "         7.735659  ,  7.1428585 ,  7.4619813 ,  3.5893326 ,  1.        ],\n",
       "       [ 6.2856317 ,  7.2903457 ,  6.7209687 ,  5.327511  ,  6.0203986 ,\n",
       "         6.1038976 ,  5.9711976 ,  8.317559  ,  4.4245048 ,  1.        ],\n",
       "       [ 6.627473  ,  7.3480153 ,  6.697306  ,  6.4903755 ,  3.8788757 ,\n",
       "         8.162433  ,  6.4391856 ,  4.483983  ,  2.4689434 ,  1.        ],\n",
       "       [ 8.628868  ,  8.563475  ,  8.706677  ,  9.370419  ,  5.277706  ,\n",
       "         7.1724586 ,  6.8080893 ,  6.511708  ,  4.0201445 ,  1.        ],\n",
       "       [ 8.65294   ,  4.4557796 ,  6.6951284 ,  8.263835  ,  6.4551086 ,\n",
       "         9.783165  ,  6.1277485 ,  3.9083223 ,  3.3856382 ,  1.        ],\n",
       "       [ 8.238975  ,  6.720414  ,  6.281654  ,  5.557387  ,  5.561318  ,\n",
       "         7.800848  ,  5.8205233 ,  4.3420234 ,  2.5068555 ,  1.        ],\n",
       "       [ 6.3111124 ,  4.1909027 ,  5.215454  ,  1.5084215 ,  4.688446  ,\n",
       "         7.4111376 ,  4.3113317 ,  2.9219081 ,  0.17518151,  1.        ],\n",
       "       [ 6.3891373 ,  6.935767  ,  5.92842   ,  5.9823875 ,  5.4048185 ,\n",
       "         7.2901754 ,  5.6505127 ,  7.5268745 ,  3.4909437 ,  1.        ],\n",
       "       [ 5.511569  ,  2.902728  ,  5.182717  ,  2.509955  ,  4.4081125 ,\n",
       "         7.198782  ,  4.415012  ,  3.5818212 ,  0.76426864,  1.        ],\n",
       "       [ 8.378306  ,  7.589117  ,  7.8614297 ,  6.654072  ,  5.390986  ,\n",
       "         7.5294952 ,  5.721403  ,  6.0393085 ,  3.8501706 ,  1.        ],\n",
       "       [11.2350235 ,  2.3989146 ,  6.98193   ,  4.73274   ,  6.6117563 ,\n",
       "         8.504268  ,  4.871247  ,  0.6331872 ,  3.8446767 ,  1.        ],\n",
       "       [ 7.7848787 ,  7.363162  ,  6.6108103 ,  6.933931  ,  6.115711  ,\n",
       "         9.341419  ,  6.6486835 ,  6.1087856 ,  3.3253105 ,  1.        ],\n",
       "       [ 6.8056555 ,  6.769729  ,  6.1841774 ,  3.950203  ,  5.2986097 ,\n",
       "         6.5930634 ,  5.610363  ,  5.585033  ,  2.909475  ,  1.        ],\n",
       "       [ 6.6274614 ,  6.4859843 ,  6.684001  ,  5.1825514 ,  4.6149626 ,\n",
       "         6.4311447 ,  5.608708  ,  7.120228  ,  3.7865818 ,  1.        ],\n",
       "       [ 6.90594   ,  7.0681543 ,  6.6349387 ,  3.6351464 ,  4.8679876 ,\n",
       "         6.375899  ,  4.701868  ,  6.507292  ,  3.21614   ,  1.        ],\n",
       "       [ 7.431508  ,  6.902464  ,  5.1906285 ,  6.3458834 ,  5.1813316 ,\n",
       "         7.3038983 ,  5.379301  ,  6.8992643 ,  3.281944  ,  1.        ],\n",
       "       [ 7.5144477 ,  7.606614  ,  7.11596   ,  3.9178543 ,  6.2862754 ,\n",
       "         7.907045  ,  5.061197  ,  6.0815086 ,  3.4588437 ,  1.        ],\n",
       "       [ 7.8997636 ,  6.445027  ,  6.1870546 ,  7.3861494 ,  4.9235535 ,\n",
       "         7.2045574 ,  6.6658936 ,  5.1562767 ,  3.0465305 ,  1.        ],\n",
       "       [ 7.6575108 ,  5.1792374 ,  6.3343034 ,  5.0009933 ,  6.861065  ,\n",
       "         8.3046875 ,  5.798442  ,  5.5797167 ,  2.5059307 ,  1.        ],\n",
       "       [ 5.991396  ,  7.709548  ,  5.9286704 ,  6.5758467 ,  5.8820505 ,\n",
       "         6.8445616 ,  6.540461  ,  8.120504  ,  2.7790072 ,  1.        ],\n",
       "       [ 7.7923326 ,  6.1078763 ,  6.09314   ,  4.5020976 ,  5.630271  ,\n",
       "         6.2406044 ,  5.3978424 ,  5.592963  ,  3.1646307 ,  1.        ],\n",
       "       [ 7.3859587 ,  6.8363056 ,  7.3816385 ,  7.699687  ,  5.5651684 ,\n",
       "         9.488517  ,  6.1425853 ,  5.434741  ,  3.8699799 ,  1.        ],\n",
       "       [ 6.1903505 ,  5.3269463 ,  5.612155  ,  6.189719  ,  5.2411327 ,\n",
       "         6.6008687 ,  6.247046  ,  7.384714  ,  4.070339  ,  1.        ],\n",
       "       [ 4.6218557 ,  6.023466  ,  5.783819  ,  6.050582  ,  4.7356825 ,\n",
       "         8.472637  ,  6.72475   ,  5.0903316 ,  1.5127178 ,  1.        ],\n",
       "       [ 5.0967345 ,  8.280021  ,  6.117636  ,  8.681187  ,  5.2888503 ,\n",
       "         6.9458494 ,  8.143048  ,  9.628814  ,  5.0671444 ,  1.        ],\n",
       "       [ 9.059761  ,  8.294052  ,  7.7815237 ,  5.1691356 ,  6.4302583 ,\n",
       "         7.4237638 ,  5.5482554 ,  6.7770963 ,  4.7276173 ,  1.        ],\n",
       "       [ 6.956246  ,  5.949773  ,  7.5095057 ,  8.235761  ,  6.2073526 ,\n",
       "         8.087214  ,  6.8909903 ,  8.728767  ,  3.8958673 ,  1.        ],\n",
       "       [ 4.411764  ,  7.5148644 ,  6.2133307 ,  4.587191  ,  5.929371  ,\n",
       "         7.925345  ,  6.328817  ,  5.917802  ,  0.349241  ,  1.        ],\n",
       "       [ 8.566985  ,  8.37287   ,  6.847728  ,  4.373249  ,  6.3469853 ,\n",
       "         7.9800944 ,  5.321579  ,  5.016165  ,  3.714332  ,  1.        ],\n",
       "       [ 6.4933105 ,  7.1694245 ,  6.2305    ,  6.795817  ,  4.9136996 ,\n",
       "         7.772459  ,  6.294815  ,  5.4764442 ,  2.2405708 ,  1.        ],\n",
       "       [ 7.0347037 ,  5.356476  ,  6.5891514 ,  2.0925598 ,  4.819558  ,\n",
       "         4.829229  ,  4.307809  ,  6.1922727 ,  3.7961693 ,  1.        ],\n",
       "       [ 5.210778  ,  6.001069  ,  4.707044  ,  4.8523884 ,  4.334591  ,\n",
       "         7.2061086 ,  5.7724814 ,  4.7136016 , -0.02700127,  1.        ],\n",
       "       [ 6.701977  ,  5.1128135 ,  6.209533  ,  5.996221  ,  5.1893563 ,\n",
       "         8.148819  ,  6.105171  ,  4.6672287 ,  1.1824918 ,  1.        ],\n",
       "       [ 5.041021  ,  5.82142   ,  5.320017  ,  3.0199838 ,  5.6071653 ,\n",
       "         4.629597  ,  4.9255815 ,  7.8430395 ,  3.330987  ,  1.        ],\n",
       "       [ 6.1859875 ,  7.04733   ,  5.531901  ,  6.582268  ,  5.266591  ,\n",
       "         7.9341207 ,  6.844535  ,  7.9996777 ,  3.0630426 ,  1.        ],\n",
       "       [ 7.965792  ,  7.0761604 ,  5.600375  ,  7.9021053 ,  5.168883  ,\n",
       "         7.9603415 ,  6.8999557 ,  6.018623  ,  3.8421445 ,  1.        ],\n",
       "       [ 7.4521413 ,  4.6972303 ,  4.7737465 ,  5.9070673 ,  6.297791  ,\n",
       "         8.168196  ,  5.4704647 ,  6.182139  ,  2.9299257 ,  1.        ],\n",
       "       [10.157987  ,  4.178072  ,  6.792015  ,  6.769326  ,  4.5576487 ,\n",
       "        10.340726  ,  6.7896214 , -1.3244091 ,  1.0336548 ,  1.        ],\n",
       "       [ 4.8544626 ,  5.520243  ,  3.9187655 ,  4.7073617 ,  4.7756376 ,\n",
       "        10.278432  ,  6.327511  ,  5.956523  ,  0.10246574,  1.        ],\n",
       "       [ 4.7131796 ,  7.884835  ,  6.1008315 ,  5.7539315 ,  5.898895  ,\n",
       "         5.307612  ,  6.2988305 ,  9.727423  ,  4.455256  ,  1.        ],\n",
       "       [ 6.7032065 ,  2.6503787 ,  6.1705832 ,  5.9007406 ,  5.2693176 ,\n",
       "         7.3397017 ,  5.405923  ,  4.3592377 ,  1.5995445 ,  1.        ],\n",
       "       [ 9.04604   ,  5.1659303 ,  6.723118  ,  6.174164  ,  4.5782876 ,\n",
       "         9.626205  ,  6.4695816 ,  0.41103613,  0.9325905 ,  1.        ]])"
      ]
     },
     "execution_count": 7,
     "metadata": {},
     "output_type": "execute_result"
    }
   ],
   "source": [
    "extra #showing LSTM generated extra data ready for training"
   ]
  },
  {
   "cell_type": "code",
   "execution_count": 8,
   "metadata": {},
   "outputs": [
    {
     "data": {
      "text/html": [
       "<div>\n",
       "<style scoped>\n",
       "    .dataframe tbody tr th:only-of-type {\n",
       "        vertical-align: middle;\n",
       "    }\n",
       "\n",
       "    .dataframe tbody tr th {\n",
       "        vertical-align: top;\n",
       "    }\n",
       "\n",
       "    .dataframe thead th {\n",
       "        text-align: right;\n",
       "    }\n",
       "</style>\n",
       "<table border=\"1\" class=\"dataframe\">\n",
       "  <thead>\n",
       "    <tr style=\"text-align: right;\">\n",
       "      <th></th>\n",
       "      <th>0</th>\n",
       "      <th>1</th>\n",
       "      <th>2</th>\n",
       "      <th>3</th>\n",
       "      <th>4</th>\n",
       "      <th>5</th>\n",
       "      <th>6</th>\n",
       "      <th>7</th>\n",
       "      <th>8</th>\n",
       "      <th>9</th>\n",
       "    </tr>\n",
       "  </thead>\n",
       "  <tbody>\n",
       "    <tr>\n",
       "      <th>0</th>\n",
       "      <td>4.0</td>\n",
       "      <td>1.0</td>\n",
       "      <td>1.0</td>\n",
       "      <td>1.0</td>\n",
       "      <td>2.0</td>\n",
       "      <td>1.0</td>\n",
       "      <td>3.0</td>\n",
       "      <td>2.0</td>\n",
       "      <td>1.0</td>\n",
       "      <td>0.0</td>\n",
       "    </tr>\n",
       "    <tr>\n",
       "      <th>1</th>\n",
       "      <td>10.0</td>\n",
       "      <td>7.0</td>\n",
       "      <td>7.0</td>\n",
       "      <td>4.0</td>\n",
       "      <td>5.0</td>\n",
       "      <td>10.0</td>\n",
       "      <td>5.0</td>\n",
       "      <td>7.0</td>\n",
       "      <td>2.0</td>\n",
       "      <td>1.0</td>\n",
       "    </tr>\n",
       "    <tr>\n",
       "      <th>2</th>\n",
       "      <td>1.0</td>\n",
       "      <td>1.0</td>\n",
       "      <td>1.0</td>\n",
       "      <td>1.0</td>\n",
       "      <td>2.0</td>\n",
       "      <td>4.0</td>\n",
       "      <td>1.0</td>\n",
       "      <td>1.0</td>\n",
       "      <td>1.0</td>\n",
       "      <td>0.0</td>\n",
       "    </tr>\n",
       "    <tr>\n",
       "      <th>3</th>\n",
       "      <td>2.0</td>\n",
       "      <td>1.0</td>\n",
       "      <td>1.0</td>\n",
       "      <td>1.0</td>\n",
       "      <td>2.0</td>\n",
       "      <td>1.0</td>\n",
       "      <td>3.0</td>\n",
       "      <td>1.0</td>\n",
       "      <td>1.0</td>\n",
       "      <td>0.0</td>\n",
       "    </tr>\n",
       "    <tr>\n",
       "      <th>4</th>\n",
       "      <td>5.0</td>\n",
       "      <td>5.0</td>\n",
       "      <td>5.0</td>\n",
       "      <td>6.0</td>\n",
       "      <td>3.0</td>\n",
       "      <td>10.0</td>\n",
       "      <td>3.0</td>\n",
       "      <td>1.0</td>\n",
       "      <td>1.0</td>\n",
       "      <td>1.0</td>\n",
       "    </tr>\n",
       "  </tbody>\n",
       "</table>\n",
       "</div>"
      ],
      "text/plain": [
       "      0    1    2    3    4     5    6    7    8    9\n",
       "0   4.0  1.0  1.0  1.0  2.0   1.0  3.0  2.0  1.0  0.0\n",
       "1  10.0  7.0  7.0  4.0  5.0  10.0  5.0  7.0  2.0  1.0\n",
       "2   1.0  1.0  1.0  1.0  2.0   4.0  1.0  1.0  1.0  0.0\n",
       "3   2.0  1.0  1.0  1.0  2.0   1.0  3.0  1.0  1.0  0.0\n",
       "4   5.0  5.0  5.0  6.0  3.0  10.0  3.0  1.0  1.0  1.0"
      ]
     },
     "execution_count": 8,
     "metadata": {},
     "output_type": "execute_result"
    }
   ],
   "source": [
    "original_data.head() #showing original data"
   ]
  },
  {
   "cell_type": "code",
   "execution_count": null,
   "metadata": {
    "collapsed": true
   },
   "outputs": [],
   "source": []
  },
  {
   "cell_type": "code",
   "execution_count": 9,
   "metadata": {
    "collapsed": true
   },
   "outputs": [],
   "source": [
    "#loading data values from original dataset(Pima)\n",
    "val=original_data.values"
   ]
  },
  {
   "cell_type": "code",
   "execution_count": 10,
   "metadata": {
    "collapsed": true
   },
   "outputs": [],
   "source": [
    "X=val[:,:9].astype(float)# getting the feature values\n",
    "Y=val[:,9].astype(int)# getting prediction"
   ]
  },
  {
   "cell_type": "code",
   "execution_count": 11,
   "metadata": {
    "collapsed": true
   },
   "outputs": [],
   "source": [
    "#extra_X denotes the extra training data generated by LSTM \n",
    "extra_X=extra[:,:9].astype(float)\n",
    "\n",
    "#extra_Y denotes extra training prediction data for training the algorithm\n",
    "extra_Y=extra[:,9].astype(int)"
   ]
  },
  {
   "cell_type": "code",
   "execution_count": 12,
   "metadata": {
    "collapsed": true
   },
   "outputs": [],
   "source": [
    "# extrain=original training data + LSTM generated training data\n",
    "\n",
    "# eytrain=original training prediction + LSTM generated\n",
    "\n",
    "extrain=np.concatenate((X,extra_X),axis=0)\n",
    "eytrain=np.concatenate((Y,extra_Y),axis=0)"
   ]
  },
  {
   "cell_type": "code",
   "execution_count": 13,
   "metadata": {},
   "outputs": [
    {
     "name": "stdout",
     "output_type": "stream",
     "text": [
      "(542, 9)\n",
      "(542,)\n"
     ]
    }
   ],
   "source": [
    "print(extrain.shape)\n",
    "print(eytrain.shape)"
   ]
  },
  {
   "cell_type": "code",
   "execution_count": 14,
   "metadata": {
    "collapsed": true
   },
   "outputs": [],
   "source": [
    "test_Data=pd.read_csv('test_Data.csv')"
   ]
  },
  {
   "cell_type": "code",
   "execution_count": 15,
   "metadata": {
    "collapsed": true
   },
   "outputs": [],
   "source": [
    "test_Data=np.array(test_Data)"
   ]
  },
  {
   "cell_type": "code",
   "execution_count": 16,
   "metadata": {},
   "outputs": [
    {
     "data": {
      "text/plain": [
       "(205, 10)"
      ]
     },
     "execution_count": 16,
     "metadata": {},
     "output_type": "execute_result"
    }
   ],
   "source": [
    "test_Data.shape"
   ]
  },
  {
   "cell_type": "code",
   "execution_count": 17,
   "metadata": {
    "collapsed": true
   },
   "outputs": [],
   "source": [
    "X_test=test_Data[:,:9].astype(float)\n",
    "Y_test=test_Data[:,9].astype(int)"
   ]
  },
  {
   "cell_type": "code",
   "execution_count": null,
   "metadata": {
    "collapsed": true
   },
   "outputs": [],
   "source": []
  },
  {
   "cell_type": "code",
   "execution_count": 18,
   "metadata": {
    "collapsed": true
   },
   "outputs": [],
   "source": [
    "def svc_param_selection(X, y, nfolds):\n",
    "    Cs = [0.0001,0.001, 0.01, 0.1, 1, 10]\n",
    "    gammas = [0.0001,0.001, 0.01, 0.1, 1,10]\n",
    "    param_grid = {'C': Cs, 'gamma' : gammas}\n",
    "    grid_search = GridSearchCV(SVC(kernel='rbf',probability=True), param_grid, cv=nfolds)\n",
    "    grid_search.fit(X, y)\n",
    "    grid_search.best_params_\n",
    "    return grid_search.best_estimator_"
   ]
  },
  {
   "cell_type": "code",
   "execution_count": 19,
   "metadata": {
    "collapsed": true
   },
   "outputs": [],
   "source": [
    "# setting seed =7 to produce same results over and over again, it was maintained during different experiments \n",
    "seed=11\n"
   ]
  },
  {
   "cell_type": "code",
   "execution_count": 20,
   "metadata": {},
   "outputs": [
    {
     "name": "stderr",
     "output_type": "stream",
     "text": [
      "G:\\newage2\\envs\\tensorflow\\lib\\site-packages\\sklearn\\model_selection\\_search.py:813: DeprecationWarning: The default of the `iid` parameter will change from True to False in version 0.22 and will be removed in 0.24. This will change numeric results when test-set sizes are unequal.\n",
      "  DeprecationWarning)\n"
     ]
    }
   ],
   "source": [
    "# first rbf_svc for training on just the original training data\n",
    "#rbf_svc = SVC(kernel='rbf', gamma=0.00001, C=1000,probability=True).fit(X_train,Y_train)\n",
    "rbf_svc=svc_param_selection(X,Y,5)\n",
    "\n",
    "# secondly rbf_svc_extra for training on original+LSTM\n",
    "rbf_svc_extra = svc_param_selection(extrain,eytrain,5)"
   ]
  },
  {
   "cell_type": "code",
   "execution_count": 21,
   "metadata": {},
   "outputs": [
    {
     "data": {
      "text/plain": [
       "SVC(C=10, cache_size=200, class_weight=None, coef0=0.0,\n",
       "    decision_function_shape='ovr', degree=3, gamma=0.001, kernel='rbf',\n",
       "    max_iter=-1, probability=True, random_state=None, shrinking=True, tol=0.001,\n",
       "    verbose=False)"
      ]
     },
     "execution_count": 21,
     "metadata": {},
     "output_type": "execute_result"
    }
   ],
   "source": [
    "\n",
    "# fitting the data\n",
    "rbf_svc.fit(X,Y)\n",
    "rbf_svc_extra.fit(extrain,eytrain)"
   ]
  },
  {
   "cell_type": "code",
   "execution_count": 22,
   "metadata": {},
   "outputs": [
    {
     "data": {
      "text/plain": [
       "(205, 9)"
      ]
     },
     "execution_count": 22,
     "metadata": {},
     "output_type": "execute_result"
    }
   ],
   "source": [
    "# loading the validation dataset previously set up by validation split(this data was not included in any training procedure)\n",
    "Prediction_data=X_test\n",
    "\n",
    "#producing the shape\n",
    "Prediction_data.shape"
   ]
  },
  {
   "cell_type": "code",
   "execution_count": 23,
   "metadata": {
    "collapsed": true
   },
   "outputs": [],
   "source": [
    "# making predictions on validation dataset using svc trained only on original training data\n",
    "prediction_on_real_dataset=rbf_svc.predict_proba(Prediction_data)\n",
    "\n",
    "#saving probabilities\n",
    "predictions=rbf_svc.predict(Prediction_data)\n",
    "\n",
    "# making predictions on validation dataset using svc trained on original training data + LSTM generated data\n",
    "prediction_on_real_dataset_adding_extra=rbf_svc_extra.predict_proba(Prediction_data)\n",
    "#saving probabilities\n",
    "predictions_extra=rbf_svc_extra.predict(Prediction_data)"
   ]
  },
  {
   "cell_type": "code",
   "execution_count": 24,
   "metadata": {},
   "outputs": [
    {
     "name": "stdout",
     "output_type": "stream",
     "text": [
      "205\n",
      "205\n"
     ]
    }
   ],
   "source": [
    "print(len(prediction_on_real_dataset))\n",
    "\n",
    "print(len(prediction_on_real_dataset_adding_extra))"
   ]
  },
  {
   "cell_type": "code",
   "execution_count": 25,
   "metadata": {
    "collapsed": true
   },
   "outputs": [],
   "source": [
    "from sklearn.metrics import f1_score\n",
    "from sklearn.metrics import auc\n",
    "from sklearn.metrics import average_precision_score\n",
    "\n",
    "from sklearn.metrics import roc_curve, roc_auc_score"
   ]
  },
  {
   "cell_type": "code",
   "execution_count": 26,
   "metadata": {},
   "outputs": [
    {
     "data": {
      "text/plain": [
       "0.9444444444444444"
      ]
     },
     "execution_count": 26,
     "metadata": {},
     "output_type": "execute_result"
    }
   ],
   "source": [
    "f1_score(Y_test,predictions)#without_extra"
   ]
  },
  {
   "cell_type": "code",
   "execution_count": 27,
   "metadata": {},
   "outputs": [
    {
     "data": {
      "text/plain": [
       "0.958904109589041"
      ]
     },
     "execution_count": 27,
     "metadata": {},
     "output_type": "execute_result"
    }
   ],
   "source": [
    "f1_score(Y_test,predictions_extra)#with_extra"
   ]
  },
  {
   "cell_type": "code",
   "execution_count": 28,
   "metadata": {},
   "outputs": [
    {
     "data": {
      "text/plain": [
       "array([0.98943243, 0.01056757])"
      ]
     },
     "execution_count": 28,
     "metadata": {},
     "output_type": "execute_result"
    }
   ],
   "source": [
    "prediction_on_real_dataset[0]# probabilities of 2 class"
   ]
  },
  {
   "cell_type": "code",
   "execution_count": 29,
   "metadata": {},
   "outputs": [
    {
     "name": "stdout",
     "output_type": "stream",
     "text": [
      "Without extra:  0.9960564549605645\n",
      "With extra:  0.9956413449564134\n"
     ]
    }
   ],
   "source": [
    "# getting AUC score for classifier trained on only original data\n",
    "fpr, tpr, thres=roc_curve(Y_test,prediction_on_real_dataset[:,1],pos_label=1)\n",
    "\n",
    "#getting AUC score for classifier trained on original + LSTM generated data\n",
    "efpr, etpr, ethres=roc_curve(Y_test,prediction_on_real_dataset_adding_extra[:,1],pos_label=1)\n",
    "\n",
    "with_=auc(fpr,tpr)\n",
    "without_=auc(efpr,etpr)\n",
    "print('Without extra: ',auc(fpr,tpr))\n",
    "\n",
    "print('With extra: ',auc(efpr,etpr))"
   ]
  },
  {
   "cell_type": "code",
   "execution_count": 30,
   "metadata": {},
   "outputs": [
    {
     "data": {
      "image/png": "[encoded data removed]",
      "text/plain": [
       "<matplotlib.figure.Figure at 0x1127a379b0>"
      ]
     },
     "metadata": {},
     "output_type": "display_data"
    }
   ],
   "source": [
    "# plotting data ( for minority predictions , here minority class = 1)\n",
    "\n",
    "Y_probs=prediction_on_real_dataset[:,1]\n",
    "fpr,tpr,_=roc_curve(Y_test,Y_probs)\n",
    "\n",
    "Y_probs_extra=prediction_on_real_dataset_adding_extra[:,1]\n",
    "efpr,etpr,_=roc_curve(Y_test,Y_probs_extra)\n",
    "\n",
    "original=auc(fpr,tpr)\n",
    "lstm_with_extra=auc(efpr,etpr)\n",
    "\n",
    "original=original.astype(float)\n",
    "lstm_with_extra=lstm_with_extra.astype(float)\n",
    "\n",
    "\n",
    "pyplot.clf()\n",
    "pyplot.plot(fpr, tpr,label='original (AUC : %5.4f)'%(with_),linewidth='1.2')\n",
    "pyplot.plot(efpr,etpr,label='LSTM generated+original(AUC : %5.4f)'%(without_),linewidth='1.2')\n",
    "pyplot.xlabel('FPR')\n",
    "pyplot.ylabel('TPR')\n",
    "pyplot.title('ROC curve')\n",
    "pyplot.legend(loc=4)\n",
    "pyplot.savefig('ROC curve .png',dpi=500)\n",
    "pyplot.show()"
   ]
  },
  {
   "cell_type": "code",
   "execution_count": 31,
   "metadata": {},
   "outputs": [
    {
     "data": {
      "image/png": "[encoded data removed]",
      "text/plain": [
       "<matplotlib.figure.Figure at 0x1127a370b8>"
      ]
     },
     "metadata": {},
     "output_type": "display_data"
    }
   ],
   "source": [
    "Y_probs=prediction_on_real_dataset[:,0]\n",
    "fpr,tpr,_=roc_curve(Y_test,Y_probs)\n",
    "\n",
    "Y_probs_extra=prediction_on_real_dataset_adding_extra[:,0]\n",
    "efpr,etpr,_=roc_curve(Y_test,Y_probs_extra)\n",
    "\n",
    "pyplot.clf()\n",
    "pyplot.plot(fpr, tpr,label='original')\n",
    "pyplot.plot(efpr,etpr,label='LSTM generated')\n",
    "pyplot.xlabel('FPR')\n",
    "pyplot.ylabel('TPR(recall)')\n",
    "pyplot.title('ROC curve')\n",
    "pyplot.legend(loc=2)\n",
    "pyplot.show()"
   ]
  },
  {
   "cell_type": "code",
   "execution_count": 32,
   "metadata": {},
   "outputs": [
    {
     "data": {
      "text/plain": [
       "array([[9.89432435e-01, 1.05675654e-02],\n",
       "       [9.57715217e-01, 4.22847830e-02],\n",
       "       [9.62087740e-01, 3.79122602e-02],\n",
       "       [9.82738126e-01, 1.72618744e-02],\n",
       "       [3.10304997e-06, 9.99996897e-01],\n",
       "       [9.93843027e-01, 6.15697301e-03],\n",
       "       [9.87305037e-01, 1.26949627e-02],\n",
       "       [9.93594789e-01, 6.40521100e-03],\n",
       "       [9.90495500e-01, 9.50450014e-03],\n",
       "       [3.81869293e-01, 6.18130707e-01],\n",
       "       [9.87116953e-01, 1.28830466e-02],\n",
       "       [9.91675233e-01, 8.32476677e-03],\n",
       "       [9.96011262e-01, 3.98873834e-03],\n",
       "       [4.93076090e-01, 5.06923910e-01],\n",
       "       [9.88145227e-01, 1.18547733e-02],\n",
       "       [9.88145227e-01, 1.18547733e-02],\n",
       "       [5.46552174e-06, 9.99994534e-01],\n",
       "       [1.25825199e-05, 9.99987417e-01],\n",
       "       [9.87116953e-01, 1.28830466e-02],\n",
       "       [2.80976104e-03, 9.97190239e-01],\n",
       "       [9.89666785e-01, 1.03332153e-02],\n",
       "       [1.96151740e-02, 9.80384826e-01],\n",
       "       [6.90712224e-03, 9.93092878e-01],\n",
       "       [9.89018945e-01, 1.09810547e-02],\n",
       "       [9.94076136e-01, 5.92386387e-03],\n",
       "       [3.23055880e-02, 9.67694412e-01],\n",
       "       [9.86974483e-01, 1.30255171e-02],\n",
       "       [9.90892897e-01, 9.10710331e-03],\n",
       "       [9.95291560e-01, 4.70843950e-03],\n",
       "       [9.00159082e-08, 9.99999910e-01],\n",
       "       [1.71387966e-02, 9.82861203e-01],\n",
       "       [9.64963256e-01, 3.50367442e-02],\n",
       "       [1.13480262e-05, 9.99988652e-01],\n",
       "       [9.86952003e-01, 1.30479966e-02],\n",
       "       [9.87753378e-01, 1.22466216e-02],\n",
       "       [9.95842287e-01, 4.15771251e-03],\n",
       "       [9.57359220e-01, 4.26407799e-02],\n",
       "       [9.91675233e-01, 8.32476677e-03],\n",
       "       [9.76386555e-06, 9.99990236e-01],\n",
       "       [8.86294148e-01, 1.13705852e-01],\n",
       "       [2.90235035e-03, 9.97097650e-01],\n",
       "       [3.01033649e-07, 9.99999699e-01],\n",
       "       [9.94990277e-01, 5.00972265e-03],\n",
       "       [9.38583199e-01, 6.14168013e-02],\n",
       "       [1.98237115e-02, 9.80176288e-01],\n",
       "       [9.90265418e-01, 9.73458187e-03],\n",
       "       [9.89305209e-01, 1.06947915e-02],\n",
       "       [4.63787263e-06, 9.99995362e-01],\n",
       "       [9.90132023e-01, 9.86797713e-03],\n",
       "       [9.98940811e-03, 9.90010592e-01],\n",
       "       [9.86974483e-01, 1.30255171e-02],\n",
       "       [9.84350824e-01, 1.56491755e-02],\n",
       "       [3.57155654e-03, 9.96428443e-01],\n",
       "       [1.19594483e-02, 9.88040552e-01],\n",
       "       [9.72986319e-01, 2.70136812e-02],\n",
       "       [9.95908632e-01, 4.09136847e-03],\n",
       "       [9.96011262e-01, 3.98873834e-03],\n",
       "       [9.94358621e-01, 5.64137892e-03],\n",
       "       [9.79088710e-01, 2.09112903e-02],\n",
       "       [9.91675233e-01, 8.32476677e-03],\n",
       "       [9.95291560e-01, 4.70843950e-03],\n",
       "       [9.21372360e-01, 7.86276404e-02],\n",
       "       [7.33011989e-01, 2.66988011e-01],\n",
       "       [5.54637945e-02, 9.44536206e-01],\n",
       "       [9.95103800e-01, 4.89620028e-03],\n",
       "       [1.93470932e-06, 9.99998065e-01],\n",
       "       [3.29113176e-02, 9.67088682e-01],\n",
       "       [9.91463622e-01, 8.53637830e-03],\n",
       "       [9.93990295e-01, 6.00970526e-03],\n",
       "       [9.95908632e-01, 4.09136847e-03],\n",
       "       [2.61381004e-02, 9.73861900e-01],\n",
       "       [9.91094883e-01, 8.90511738e-03],\n",
       "       [9.91675233e-01, 8.32476677e-03],\n",
       "       [9.73960921e-01, 2.60390794e-02],\n",
       "       [9.93430952e-01, 6.56904757e-03],\n",
       "       [9.87860261e-01, 1.21397387e-02],\n",
       "       [9.94861618e-01, 5.13838175e-03],\n",
       "       [9.89018945e-01, 1.09810547e-02],\n",
       "       [9.94358621e-01, 5.64137892e-03],\n",
       "       [9.89485574e-01, 1.05144260e-02],\n",
       "       [1.64582793e-02, 9.83541721e-01],\n",
       "       [9.84384352e-01, 1.56156479e-02],\n",
       "       [7.86941185e-01, 2.13058815e-01],\n",
       "       [9.96011262e-01, 3.98873834e-03],\n",
       "       [8.63647325e-06, 9.99991364e-01],\n",
       "       [7.78686098e-02, 9.22131390e-01],\n",
       "       [9.96011262e-01, 3.98873834e-03],\n",
       "       [9.92415404e-01, 7.58459632e-03],\n",
       "       [4.31605634e-07, 9.99999568e-01],\n",
       "       [3.06638901e-03, 9.96933611e-01],\n",
       "       [5.14866557e-06, 9.99994851e-01],\n",
       "       [1.62616726e-01, 8.37383274e-01],\n",
       "       [3.61919364e-03, 9.96380806e-01],\n",
       "       [9.81304616e-01, 1.86953836e-02],\n",
       "       [9.84013761e-01, 1.59862388e-02],\n",
       "       [1.44331029e-01, 8.55668971e-01],\n",
       "       [5.03101425e-07, 9.99999497e-01],\n",
       "       [9.72584677e-01, 2.74153231e-02],\n",
       "       [9.92415404e-01, 7.58459632e-03],\n",
       "       [9.95291560e-01, 4.70843950e-03],\n",
       "       [2.64845047e-02, 9.73515495e-01],\n",
       "       [9.69720191e-01, 3.02798087e-02],\n",
       "       [9.83481592e-01, 1.65184084e-02],\n",
       "       [9.86292793e-01, 1.37072066e-02],\n",
       "       [9.84350824e-01, 1.56491755e-02],\n",
       "       [9.95291560e-01, 4.70843950e-03],\n",
       "       [9.72888681e-01, 2.71113194e-02],\n",
       "       [1.27816576e-05, 9.99987218e-01],\n",
       "       [9.94358621e-01, 5.64137892e-03],\n",
       "       [8.89955768e-03, 9.91100442e-01],\n",
       "       [4.14610578e-03, 9.95853894e-01],\n",
       "       [9.93429341e-01, 6.57065863e-03],\n",
       "       [9.93429341e-01, 6.57065863e-03],\n",
       "       [9.62562743e-01, 3.74372567e-02],\n",
       "       [2.35474566e-01, 7.64525434e-01],\n",
       "       [2.89708963e-03, 9.97102910e-01],\n",
       "       [8.14211481e-03, 9.91857885e-01],\n",
       "       [9.90892897e-01, 9.10710331e-03],\n",
       "       [1.03942820e-05, 9.99989606e-01],\n",
       "       [1.88337147e-02, 9.81166285e-01],\n",
       "       [3.91453748e-02, 9.60854625e-01],\n",
       "       [9.92415404e-01, 7.58459632e-03],\n",
       "       [9.96528929e-01, 3.47107096e-03],\n",
       "       [5.83602037e-07, 9.99999416e-01],\n",
       "       [9.82631371e-01, 1.73686286e-02],\n",
       "       [9.90892897e-01, 9.10710331e-03],\n",
       "       [9.91675233e-01, 8.32476677e-03],\n",
       "       [5.50865365e-01, 4.49134635e-01],\n",
       "       [9.96528929e-01, 3.47107096e-03],\n",
       "       [3.23029216e-03, 9.96769708e-01],\n",
       "       [9.47768321e-06, 9.99990522e-01],\n",
       "       [9.83262247e-01, 1.67377530e-02],\n",
       "       [9.88349078e-01, 1.16509220e-02],\n",
       "       [9.96011262e-01, 3.98873834e-03],\n",
       "       [8.28169304e-01, 1.71830696e-01],\n",
       "       [3.61919364e-03, 9.96380806e-01],\n",
       "       [9.44008956e-01, 5.59910436e-02],\n",
       "       [2.07611818e-02, 9.79238818e-01],\n",
       "       [3.40336608e-02, 9.65966339e-01],\n",
       "       [9.96528929e-01, 3.47107096e-03],\n",
       "       [9.58519914e-01, 4.14800864e-02],\n",
       "       [9.96011262e-01, 3.98873834e-03],\n",
       "       [9.94444245e-01, 5.55575504e-03],\n",
       "       [4.40447838e-02, 9.55955216e-01],\n",
       "       [3.46453933e-06, 9.99996535e-01],\n",
       "       [6.81846212e-02, 9.31815379e-01],\n",
       "       [9.67684873e-01, 3.23151270e-02],\n",
       "       [9.78665470e-01, 2.13345298e-02],\n",
       "       [1.30999210e-06, 9.99998690e-01],\n",
       "       [9.87534192e-01, 1.24658085e-02],\n",
       "       [1.13380811e-05, 9.99988662e-01],\n",
       "       [9.94183228e-01, 5.81677160e-03],\n",
       "       [1.81437059e-01, 8.18562941e-01],\n",
       "       [9.93218002e-01, 6.78199850e-03],\n",
       "       [7.12324914e-08, 9.99999929e-01],\n",
       "       [1.26671442e-06, 9.99998733e-01],\n",
       "       [1.54019169e-01, 8.45980831e-01],\n",
       "       [5.65937637e-02, 9.43406236e-01],\n",
       "       [9.88145227e-01, 1.18547733e-02],\n",
       "       [9.82587407e-01, 1.74125935e-02],\n",
       "       [9.94076136e-01, 5.92386387e-03],\n",
       "       [8.00140195e-03, 9.91998598e-01],\n",
       "       [9.90012273e-01, 9.98772689e-03],\n",
       "       [9.63203022e-01, 3.67969783e-02],\n",
       "       [2.20734711e-02, 9.77926529e-01],\n",
       "       [9.86974483e-01, 1.30255171e-02],\n",
       "       [9.79516259e-01, 2.04837406e-02],\n",
       "       [9.93299943e-01, 6.70005652e-03],\n",
       "       [5.65934970e-01, 4.34065030e-01],\n",
       "       [9.64484710e-01, 3.55152899e-02],\n",
       "       [9.91126943e-01, 8.87305658e-03],\n",
       "       [1.82406492e-05, 9.99981759e-01],\n",
       "       [9.43620753e-01, 5.63792470e-02],\n",
       "       [4.51446234e-01, 5.48553766e-01],\n",
       "       [7.22073856e-02, 9.27792614e-01],\n",
       "       [5.58100938e-03, 9.94418991e-01],\n",
       "       [9.73948918e-01, 2.60510824e-02],\n",
       "       [9.86356428e-01, 1.36435721e-02],\n",
       "       [5.74473089e-01, 4.25526911e-01],\n",
       "       [3.84124102e-02, 9.61587590e-01],\n",
       "       [9.47741397e-01, 5.22586034e-02],\n",
       "       [9.75999386e-01, 2.40006137e-02],\n",
       "       [9.91126943e-01, 8.87305658e-03],\n",
       "       [9.89018945e-01, 1.09810547e-02],\n",
       "       [9.94358621e-01, 5.64137892e-03],\n",
       "       [9.93594789e-01, 6.40521100e-03],\n",
       "       [9.86657925e-01, 1.33420752e-02],\n",
       "       [7.76433373e-01, 2.23566627e-01],\n",
       "       [9.90132023e-01, 9.86797713e-03],\n",
       "       [9.93029663e-01, 6.97033724e-03],\n",
       "       [2.15000092e-01, 7.84999908e-01],\n",
       "       [9.79516259e-01, 2.04837406e-02],\n",
       "       [9.96011262e-01, 3.98873834e-03],\n",
       "       [9.95908632e-01, 4.09136847e-03],\n",
       "       [9.76632890e-01, 2.33671102e-02],\n",
       "       [9.95291560e-01, 4.70843950e-03],\n",
       "       [9.74454669e-01, 2.55453313e-02],\n",
       "       [8.13222474e-03, 9.91867775e-01],\n",
       "       [9.94076136e-01, 5.92386387e-03],\n",
       "       [9.92893364e-01, 7.10663633e-03],\n",
       "       [9.94076136e-01, 5.92386387e-03],\n",
       "       [9.95908632e-01, 4.09136847e-03],\n",
       "       [9.96011262e-01, 3.98873834e-03],\n",
       "       [1.34520336e-02, 9.86547966e-01],\n",
       "       [9.88145227e-01, 1.18547733e-02]])"
      ]
     },
     "execution_count": 32,
     "metadata": {},
     "output_type": "execute_result"
    }
   ],
   "source": [
    "prediction_on_real_dataset"
   ]
  },
  {
   "cell_type": "code",
   "execution_count": 33,
   "metadata": {},
   "outputs": [
    {
     "data": {
      "text/plain": [
       "array([[9.95008987e-01, 4.99101272e-03],\n",
       "       [9.56233554e-01, 4.37664457e-02],\n",
       "       [9.71870810e-01, 2.81291904e-02],\n",
       "       [9.88761876e-01, 1.12381238e-02],\n",
       "       [8.04306570e-06, 9.99991957e-01],\n",
       "       [9.96412146e-01, 3.58785448e-03],\n",
       "       [9.90267675e-01, 9.73232464e-03],\n",
       "       [9.96376741e-01, 3.62325917e-03],\n",
       "       [9.93663468e-01, 6.33653206e-03],\n",
       "       [3.51367458e-01, 6.48632542e-01],\n",
       "       [9.88855910e-01, 1.11440900e-02],\n",
       "       [9.94538977e-01, 5.46102315e-03],\n",
       "       [9.98333903e-01, 1.66609717e-03],\n",
       "       [3.14050885e-01, 6.85949115e-01],\n",
       "       [9.89480982e-01, 1.05190176e-02],\n",
       "       [9.89480982e-01, 1.05190176e-02],\n",
       "       [1.39122269e-06, 9.99998609e-01],\n",
       "       [3.22010127e-06, 9.99996780e-01],\n",
       "       [9.88855910e-01, 1.11440900e-02],\n",
       "       [1.57916027e-05, 9.99984208e-01],\n",
       "       [9.96038127e-01, 3.96187261e-03],\n",
       "       [1.86556260e-02, 9.81344374e-01],\n",
       "       [8.65137203e-03, 9.91348628e-01],\n",
       "       [9.91675041e-01, 8.32495852e-03],\n",
       "       [9.96627612e-01, 3.37238832e-03],\n",
       "       [3.55353626e-02, 9.64464637e-01],\n",
       "       [9.88490501e-01, 1.15094994e-02],\n",
       "       [9.93011054e-01, 6.98894623e-03],\n",
       "       [9.97697224e-01, 2.30277554e-03],\n",
       "       [2.12239228e-07, 9.99999788e-01],\n",
       "       [2.76580871e-02, 9.72341913e-01],\n",
       "       [9.69200330e-01, 3.07996695e-02],\n",
       "       [4.13555160e-06, 9.99995864e-01],\n",
       "       [9.89919812e-01, 1.00801876e-02],\n",
       "       [9.90850070e-01, 9.14993031e-03],\n",
       "       [9.98413292e-01, 1.58670835e-03],\n",
       "       [9.67873748e-01, 3.21262521e-02],\n",
       "       [9.94538977e-01, 5.46102315e-03],\n",
       "       [3.53963010e-06, 9.99996460e-01],\n",
       "       [9.09591457e-01, 9.04085426e-02],\n",
       "       [6.47665108e-03, 9.93523349e-01],\n",
       "       [2.04700826e-07, 9.99999795e-01],\n",
       "       [9.97562676e-01, 2.43732449e-03],\n",
       "       [9.31068342e-01, 6.89316582e-02],\n",
       "       [3.36403850e-02, 9.66359615e-01],\n",
       "       [9.92790796e-01, 7.20920353e-03],\n",
       "       [9.93156729e-01, 6.84327124e-03],\n",
       "       [4.96444639e-06, 9.99995036e-01],\n",
       "       [9.92442512e-01, 7.55748808e-03],\n",
       "       [2.07454205e-02, 9.79254579e-01],\n",
       "       [9.88490501e-01, 1.15094994e-02],\n",
       "       [9.84012413e-01, 1.59875874e-02],\n",
       "       [5.57328643e-03, 9.94426714e-01],\n",
       "       [1.01483584e-02, 9.89851642e-01],\n",
       "       [9.71758579e-01, 2.82414210e-02],\n",
       "       [9.98232892e-01, 1.76710822e-03],\n",
       "       [9.98333903e-01, 1.66609717e-03],\n",
       "       [9.96790785e-01, 3.20921521e-03],\n",
       "       [9.75535163e-01, 2.44648371e-02],\n",
       "       [9.94538977e-01, 5.46102315e-03],\n",
       "       [9.97697224e-01, 2.30277554e-03],\n",
       "       [8.88002926e-01, 1.11997074e-01],\n",
       "       [8.25762162e-01, 1.74237838e-01],\n",
       "       [2.30443930e-02, 9.76955607e-01],\n",
       "       [9.97542343e-01, 2.45765678e-03],\n",
       "       [6.29552416e-07, 9.99999370e-01],\n",
       "       [4.63055999e-02, 9.53694400e-01],\n",
       "       [9.94251504e-01, 5.74849610e-03],\n",
       "       [9.96984403e-01, 3.01559749e-03],\n",
       "       [9.98232892e-01, 1.76710822e-03],\n",
       "       [3.38667703e-02, 9.66133230e-01],\n",
       "       [9.96337379e-01, 3.66262094e-03],\n",
       "       [9.94538977e-01, 5.46102315e-03],\n",
       "       [9.75539835e-01, 2.44601647e-02],\n",
       "       [9.96175837e-01, 3.82416278e-03],\n",
       "       [9.91665411e-01, 8.33458906e-03],\n",
       "       [9.97421030e-01, 2.57897004e-03],\n",
       "       [9.91675041e-01, 8.32495852e-03],\n",
       "       [9.96790785e-01, 3.20921521e-03],\n",
       "       [9.91956904e-01, 8.04309585e-03],\n",
       "       [2.20249316e-02, 9.77975068e-01],\n",
       "       [9.90330334e-01, 9.66966611e-03],\n",
       "       [8.29371546e-01, 1.70628454e-01],\n",
       "       [9.98333903e-01, 1.66609717e-03],\n",
       "       [4.53956592e-03, 9.95460434e-01],\n",
       "       [3.21376060e-02, 9.67862394e-01],\n",
       "       [9.98333903e-01, 1.66609717e-03],\n",
       "       [9.94984531e-01, 5.01546863e-03],\n",
       "       [3.74790892e-07, 9.99999625e-01],\n",
       "       [3.34102849e-03, 9.96658972e-01],\n",
       "       [3.38934334e-03, 9.96610657e-01],\n",
       "       [1.24248980e-01, 8.75751020e-01],\n",
       "       [4.38618115e-03, 9.95613819e-01],\n",
       "       [9.83664155e-01, 1.63358453e-02],\n",
       "       [9.87378181e-01, 1.26218190e-02],\n",
       "       [1.55887695e-01, 8.44112305e-01],\n",
       "       [3.20186748e-06, 9.99996798e-01],\n",
       "       [9.82672444e-01, 1.73275565e-02],\n",
       "       [9.94984531e-01, 5.01546863e-03],\n",
       "       [9.97697224e-01, 2.30277554e-03],\n",
       "       [1.91313198e-02, 9.80868680e-01],\n",
       "       [9.66097148e-01, 3.39028520e-02],\n",
       "       [9.86967205e-01, 1.30327954e-02],\n",
       "       [9.87890211e-01, 1.21097885e-02],\n",
       "       [9.84012413e-01, 1.59875874e-02],\n",
       "       [9.97697224e-01, 2.30277554e-03],\n",
       "       [9.65070122e-01, 3.49298780e-02],\n",
       "       [1.32796866e-05, 9.99986720e-01],\n",
       "       [9.96790785e-01, 3.20921521e-03],\n",
       "       [3.07727802e-03, 9.96922722e-01],\n",
       "       [4.99868788e-03, 9.95001312e-01],\n",
       "       [9.97153328e-01, 2.84667247e-03],\n",
       "       [9.97153328e-01, 2.84667247e-03],\n",
       "       [9.66096758e-01, 3.39032416e-02],\n",
       "       [1.30070418e-01, 8.69929582e-01],\n",
       "       [5.90400603e-03, 9.94095994e-01],\n",
       "       [6.92356263e-03, 9.93076437e-01],\n",
       "       [9.93011054e-01, 6.98894623e-03],\n",
       "       [5.13398913e-06, 9.99994866e-01],\n",
       "       [2.77883986e-02, 9.72211601e-01],\n",
       "       [2.40141226e-02, 9.75985877e-01],\n",
       "       [9.94984531e-01, 5.01546863e-03],\n",
       "       [9.98718184e-01, 1.28181563e-03],\n",
       "       [4.60648867e-06, 9.99995394e-01],\n",
       "       [9.83884554e-01, 1.61154460e-02],\n",
       "       [9.93011054e-01, 6.98894623e-03],\n",
       "       [9.94538977e-01, 5.46102315e-03],\n",
       "       [2.24933811e-01, 7.75066189e-01],\n",
       "       [9.98718184e-01, 1.28181563e-03],\n",
       "       [6.70839178e-03, 9.93291608e-01],\n",
       "       [1.03108695e-05, 9.99989689e-01],\n",
       "       [9.88163372e-01, 1.18366282e-02],\n",
       "       [9.93327775e-01, 6.67222494e-03],\n",
       "       [9.98333903e-01, 1.66609717e-03],\n",
       "       [7.80744430e-01, 2.19255570e-01],\n",
       "       [4.38618115e-03, 9.95613819e-01],\n",
       "       [9.63876316e-01, 3.61236841e-02],\n",
       "       [1.25908607e-02, 9.87409139e-01],\n",
       "       [2.56205950e-02, 9.74379405e-01],\n",
       "       [9.98718184e-01, 1.28181563e-03],\n",
       "       [9.70356336e-01, 2.96436641e-02],\n",
       "       [9.98333903e-01, 1.66609717e-03],\n",
       "       [9.97230239e-01, 2.76976082e-03],\n",
       "       [5.87555524e-02, 9.41244448e-01],\n",
       "       [1.40214029e-05, 9.99985979e-01],\n",
       "       [2.60287694e-02, 9.73971231e-01],\n",
       "       [9.68046904e-01, 3.19530955e-02],\n",
       "       [9.82576403e-01, 1.74235972e-02],\n",
       "       [1.35913496e-06, 9.99998641e-01],\n",
       "       [9.91216012e-01, 8.78398758e-03],\n",
       "       [1.06052494e-05, 9.99989395e-01],\n",
       "       [9.97421577e-01, 2.57842320e-03],\n",
       "       [1.75953012e-01, 8.24046988e-01],\n",
       "       [9.96418581e-01, 3.58141902e-03],\n",
       "       [5.10477337e-07, 9.99999490e-01],\n",
       "       [5.10454444e-06, 9.99994895e-01],\n",
       "       [1.36784332e-01, 8.63215668e-01],\n",
       "       [8.09217495e-02, 9.19078250e-01],\n",
       "       [9.89480982e-01, 1.05190176e-02],\n",
       "       [9.82333305e-01, 1.76666950e-02],\n",
       "       [9.96627612e-01, 3.37238832e-03],\n",
       "       [5.29961643e-03, 9.94700384e-01],\n",
       "       [9.93272134e-01, 6.72786635e-03],\n",
       "       [9.51326594e-01, 4.86734057e-02],\n",
       "       [2.95610728e-02, 9.70438927e-01],\n",
       "       [9.88490501e-01, 1.15094994e-02],\n",
       "       [9.76364529e-01, 2.36354710e-02],\n",
       "       [9.96702132e-01, 3.29786846e-03],\n",
       "       [5.59481262e-01, 4.40518738e-01],\n",
       "       [9.68333153e-01, 3.16668471e-02],\n",
       "       [9.93376988e-01, 6.62301222e-03],\n",
       "       [2.95479737e-03, 9.97045203e-01],\n",
       "       [9.22697105e-01, 7.73028950e-02],\n",
       "       [2.97763062e-01, 7.02236938e-01],\n",
       "       [4.36672132e-02, 9.56332787e-01],\n",
       "       [6.31845552e-03, 9.93681544e-01],\n",
       "       [9.80389437e-01, 1.96105629e-02],\n",
       "       [9.92117056e-01, 7.88294409e-03],\n",
       "       [5.43416112e-01, 4.56583888e-01],\n",
       "       [1.82255000e-02, 9.81774500e-01],\n",
       "       [9.45438212e-01, 5.45617882e-02],\n",
       "       [9.75726052e-01, 2.42739477e-02],\n",
       "       [9.93376988e-01, 6.62301222e-03],\n",
       "       [9.91675041e-01, 8.32495852e-03],\n",
       "       [9.96790785e-01, 3.20921521e-03],\n",
       "       [9.96376741e-01, 3.62325917e-03],\n",
       "       [9.88554341e-01, 1.14456593e-02],\n",
       "       [6.25099511e-01, 3.74900489e-01],\n",
       "       [9.92442512e-01, 7.55748808e-03],\n",
       "       [9.96192236e-01, 3.80776401e-03],\n",
       "       [1.45046951e-01, 8.54953049e-01],\n",
       "       [9.76364529e-01, 2.36354710e-02],\n",
       "       [9.98333903e-01, 1.66609717e-03],\n",
       "       [9.98232892e-01, 1.76710822e-03],\n",
       "       [9.76490554e-01, 2.35094460e-02],\n",
       "       [9.97697224e-01, 2.30277554e-03],\n",
       "       [9.75304006e-01, 2.46959942e-02],\n",
       "       [1.05675502e-02, 9.89432450e-01],\n",
       "       [9.96627612e-01, 3.37238832e-03],\n",
       "       [9.95298736e-01, 4.70126369e-03],\n",
       "       [9.96627612e-01, 3.37238832e-03],\n",
       "       [9.98232892e-01, 1.76710822e-03],\n",
       "       [9.98333903e-01, 1.66609717e-03],\n",
       "       [2.65316120e-02, 9.73468388e-01],\n",
       "       [9.89480982e-01, 1.05190176e-02]])"
      ]
     },
     "execution_count": 33,
     "metadata": {},
     "output_type": "execute_result"
    }
   ],
   "source": [
    "prediction_on_real_dataset_adding_extra"
   ]
  },
  {
   "cell_type": "code",
   "execution_count": null,
   "metadata": {
    "collapsed": true
   },
   "outputs": [],
   "source": []
  },
  {
   "cell_type": "code",
   "execution_count": null,
   "metadata": {
    "collapsed": true
   },
   "outputs": [],
   "source": []
  }
 ],
 "metadata": {
  "kernelspec": {
   "display_name": "Python 3",
   "language": "python",
   "name": "python3"
  },
  "language_info": {
   "codemirror_mode": {
    "name": "ipython",
    "version": 3
   },
   "file_extension": ".py",
   "mimetype": "text/x-python",
   "name": "python",
   "nbconvert_exporter": "python",
   "pygments_lexer": "ipython3",
   "version": "3.6.6"
  }
 },
 "nbformat": 4,
 "nbformat_minor": 2
}
