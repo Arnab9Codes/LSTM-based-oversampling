{
 "cells": [
  {
   "cell_type": "code",
   "execution_count": 1,
   "metadata": {
    "collapsed": true
   },
   "outputs": [],
   "source": [
    "import time\n",
    "import math\n",
    "\n",
    "import numpy as np\n",
    "import pandas as pd\n",
    "from pandas import DataFrame\n",
    "from pandas import concat\n",
    "from matplotlib import pyplot\n",
    "\n",
    "from sklearn.preprocessing import MinMaxScaler\n",
    "from sklearn.preprocessing import LabelEncoder\n",
    "from sklearn.metrics import mean_squared_error\n",
    "\n",
    "from sklearn.preprocessing import StandardScaler\n",
    "from sklearn.model_selection import train_test_split\n",
    "from sklearn.model_selection import KFold\n",
    "from sklearn.model_selection import cross_val_score\n",
    "from sklearn.model_selection import GridSearchCV\n",
    "from sklearn.metrics import classification_report\n",
    "from sklearn.metrics import confusion_matrix\n",
    "from sklearn.metrics import accuracy_score\n",
    "from sklearn.metrics import precision_recall_curve\n",
    "\n",
    "from sklearn.pipeline import Pipeline\n",
    "from sklearn.linear_model import LogisticRegression\n",
    "from sklearn.tree import DecisionTreeClassifier\n",
    "from sklearn.neighbors import KNeighborsClassifier\n",
    "from sklearn.discriminant_analysis import LinearDiscriminantAnalysis\n",
    "from sklearn.naive_bayes import GaussianNB\n",
    "from sklearn.svm import SVC\n",
    "from sklearn.ensemble import AdaBoostClassifier\n",
    "from sklearn.ensemble import GradientBoostingClassifier\n",
    "from sklearn.ensemble import RandomForestClassifier\n",
    "from sklearn.ensemble import ExtraTreesClassifier\n",
    "\n",
    "from sklearn.model_selection import GridSearchCV\n",
    "\n",
    "import pickle"
   ]
  },
  {
   "cell_type": "code",
   "execution_count": 2,
   "metadata": {
    "collapsed": true
   },
   "outputs": [],
   "source": [
    "extra_data=pd.read_csv('new_corrected_data-v1-7-24-2019.csv')# loading extra genereated data genereated by LSTM #prediction_of_1_0007.csv\n",
    "original_data=pd.read_csv('train_Data.csv')#original data"
   ]
  },
  {
   "cell_type": "code",
   "execution_count": 3,
   "metadata": {},
   "outputs": [
    {
     "data": {
      "text/html": [
       "<div>\n",
       "<style scoped>\n",
       "    .dataframe tbody tr th:only-of-type {\n",
       "        vertical-align: middle;\n",
       "    }\n",
       "\n",
       "    .dataframe tbody tr th {\n",
       "        vertical-align: top;\n",
       "    }\n",
       "\n",
       "    .dataframe thead th {\n",
       "        text-align: right;\n",
       "    }\n",
       "</style>\n",
       "<table border=\"1\" class=\"dataframe\">\n",
       "  <thead>\n",
       "    <tr style=\"text-align: right;\">\n",
       "      <th></th>\n",
       "      <th>0</th>\n",
       "      <th>1</th>\n",
       "      <th>2</th>\n",
       "      <th>3</th>\n",
       "      <th>4</th>\n",
       "      <th>5</th>\n",
       "      <th>6</th>\n",
       "      <th>7</th>\n",
       "      <th>8</th>\n",
       "    </tr>\n",
       "  </thead>\n",
       "  <tbody>\n",
       "    <tr>\n",
       "      <th>0</th>\n",
       "      <td>4.812396</td>\n",
       "      <td>159.20404</td>\n",
       "      <td>77.816790</td>\n",
       "      <td>20.643545</td>\n",
       "      <td>123.287605</td>\n",
       "      <td>34.028618</td>\n",
       "      <td>0.573148</td>\n",
       "      <td>41.221733</td>\n",
       "      <td>1.002661</td>\n",
       "    </tr>\n",
       "    <tr>\n",
       "      <th>1</th>\n",
       "      <td>4.589553</td>\n",
       "      <td>146.77528</td>\n",
       "      <td>74.621590</td>\n",
       "      <td>22.294040</td>\n",
       "      <td>51.959854</td>\n",
       "      <td>32.719814</td>\n",
       "      <td>0.471475</td>\n",
       "      <td>40.257744</td>\n",
       "      <td>1.003791</td>\n",
       "    </tr>\n",
       "    <tr>\n",
       "      <th>2</th>\n",
       "      <td>2.976433</td>\n",
       "      <td>140.71884</td>\n",
       "      <td>60.604763</td>\n",
       "      <td>29.038574</td>\n",
       "      <td>75.727020</td>\n",
       "      <td>33.405052</td>\n",
       "      <td>0.601032</td>\n",
       "      <td>32.697693</td>\n",
       "      <td>0.999217</td>\n",
       "    </tr>\n",
       "    <tr>\n",
       "      <th>3</th>\n",
       "      <td>3.695518</td>\n",
       "      <td>149.88083</td>\n",
       "      <td>72.164480</td>\n",
       "      <td>24.268656</td>\n",
       "      <td>145.616210</td>\n",
       "      <td>33.252975</td>\n",
       "      <td>0.636787</td>\n",
       "      <td>36.010700</td>\n",
       "      <td>0.998779</td>\n",
       "    </tr>\n",
       "    <tr>\n",
       "      <th>4</th>\n",
       "      <td>3.849900</td>\n",
       "      <td>137.18088</td>\n",
       "      <td>70.894684</td>\n",
       "      <td>24.478775</td>\n",
       "      <td>78.098200</td>\n",
       "      <td>31.589441</td>\n",
       "      <td>0.546279</td>\n",
       "      <td>36.809635</td>\n",
       "      <td>0.998196</td>\n",
       "    </tr>\n",
       "  </tbody>\n",
       "</table>\n",
       "</div>"
      ],
      "text/plain": [
       "          0          1          2          3           4          5         6  \\\n",
       "0  4.812396  159.20404  77.816790  20.643545  123.287605  34.028618  0.573148   \n",
       "1  4.589553  146.77528  74.621590  22.294040   51.959854  32.719814  0.471475   \n",
       "2  2.976433  140.71884  60.604763  29.038574   75.727020  33.405052  0.601032   \n",
       "3  3.695518  149.88083  72.164480  24.268656  145.616210  33.252975  0.636787   \n",
       "4  3.849900  137.18088  70.894684  24.478775   78.098200  31.589441  0.546279   \n",
       "\n",
       "           7         8  \n",
       "0  41.221733  1.002661  \n",
       "1  40.257744  1.003791  \n",
       "2  32.697693  0.999217  \n",
       "3  36.010700  0.998779  \n",
       "4  36.809635  0.998196  "
      ]
     },
     "execution_count": 3,
     "metadata": {},
     "output_type": "execute_result"
    }
   ],
   "source": [
    "extra_data.head()#displaying LSTM generated data"
   ]
  },
  {
   "cell_type": "code",
   "execution_count": 4,
   "metadata": {},
   "outputs": [
    {
     "name": "stdout",
     "output_type": "stream",
     "text": [
      "(74, 9)\n"
     ]
    }
   ],
   "source": [
    "extra=np.array(extra_data)# getting the original shape\n",
    "print(extra.shape)"
   ]
  },
  {
   "cell_type": "code",
   "execution_count": 5,
   "metadata": {},
   "outputs": [
    {
     "data": {
      "text/plain": [
       "array([  4.8123965, 159.20404  ,  77.81679  ,  20.643545 , 123.287605 ,\n",
       "        34.028618 ,   0.5731477,  41.221733 ,   1.0026615])"
      ]
     },
     "execution_count": 5,
     "metadata": {},
     "output_type": "execute_result"
    }
   ],
   "source": [
    "extra[0] # showing first row vector"
   ]
  },
  {
   "cell_type": "code",
   "execution_count": 6,
   "metadata": {
    "collapsed": true
   },
   "outputs": [],
   "source": [
    "# Setting predictions of all generated data to 1 because their outputs are mostly 0.98, 0.99 etc. \n",
    "for i in range(0,len(extra),1):\n",
    "    extra[i][8]=int(1)"
   ]
  },
  {
   "cell_type": "code",
   "execution_count": 7,
   "metadata": {},
   "outputs": [
    {
     "data": {
      "text/plain": [
       "array([[  4.8123965 , 159.20404   ,  77.81679   ,  20.643545  ,\n",
       "        123.287605  ,  34.028618  ,   0.5731477 ,  41.221733  ,\n",
       "          1.        ],\n",
       "       [  4.589553  , 146.77528   ,  74.62159   ,  22.29404   ,\n",
       "         51.959854  ,  32.719814  ,   0.4714753 ,  40.257744  ,\n",
       "          1.        ],\n",
       "       [  2.9764328 , 140.71884   ,  60.604763  ,  29.038574  ,\n",
       "         75.72702   ,  33.405052  ,   0.6010318 ,  32.697693  ,\n",
       "          1.        ],\n",
       "       [  3.6955185 , 149.88083   ,  72.16448   ,  24.268656  ,\n",
       "        145.61621   ,  33.252975  ,   0.6367866 ,  36.0107    ,\n",
       "          1.        ],\n",
       "       [  3.8498995 , 137.18088   ,  70.894684  ,  24.478775  ,\n",
       "         78.0982    ,  31.589441  ,   0.54627866,  36.809635  ,\n",
       "          1.        ],\n",
       "       [  3.3320422 , 139.19107   ,  74.068054  ,  25.32042   ,\n",
       "        113.345184  ,  35.994232  ,   0.5074461 ,  35.84387   ,\n",
       "          1.        ],\n",
       "       [  4.951198  , 140.11536   ,  69.35093   ,  20.695131  ,\n",
       "         35.20077   ,  33.420166  ,   0.5015443 ,  36.242073  ,\n",
       "          1.        ],\n",
       "       [  3.8790503 , 159.96799   ,  80.218605  ,  23.239744  ,\n",
       "        141.25764   ,  39.416428  ,   0.5225083 ,  40.029346  ,\n",
       "          1.        ],\n",
       "       [  3.6418736 , 143.48178   ,  74.77921   ,  22.899202  ,\n",
       "         30.45315   ,  33.396477  ,   0.48421326,  38.53905   ,\n",
       "          1.        ],\n",
       "       [  4.7358594 , 156.6754    ,  70.33163   ,  23.231544  ,\n",
       "         84.65313   ,  33.940456  ,   0.56191105,  38.807827  ,\n",
       "          1.        ],\n",
       "       [  5.855846  , 132.88931   ,  62.51339   ,  16.427244  ,\n",
       "        188.6309    ,  33.70361   ,   0.5124773 ,  36.916573  ,\n",
       "          1.        ],\n",
       "       [  3.220448  , 151.0431    ,  60.50758   ,  30.554811  ,\n",
       "        158.60097   ,  37.411507  ,   0.6162503 ,  32.31599   ,\n",
       "          1.        ],\n",
       "       [  3.599578  , 149.28777   ,  70.19063   ,  27.61813   ,\n",
       "        126.26386   ,  36.465378  ,   0.6322149 ,  33.645042  ,\n",
       "          1.        ],\n",
       "       [  6.064154  , 144.5659    ,  70.34095   ,  16.819138  ,\n",
       "        253.49435   ,  27.916407  ,   0.6843816 ,  39.493446  ,\n",
       "          1.        ],\n",
       "       [  4.6797624 , 148.71155   ,  64.09974   ,  24.662876  ,\n",
       "        177.83005   ,  33.080456  ,   0.74214745,  35.20038   ,\n",
       "          1.        ],\n",
       "       [  5.8092537 , 159.84447   ,  74.70299   ,  20.993254  ,\n",
       "        134.5356    ,  36.640144  ,   0.5624336 ,  37.889904  ,\n",
       "          1.        ],\n",
       "       [  5.161692  , 153.31369   ,  75.586426  ,  20.305332  ,\n",
       "        137.94182   ,  32.04205   ,   0.4925825 ,  42.54137   ,\n",
       "          1.        ],\n",
       "       [  4.9455223 , 131.256     ,  59.539707  ,  25.201097  ,\n",
       "         49.784298  ,  35.40438   ,   0.48660886,  32.640766  ,\n",
       "          1.        ],\n",
       "       [  4.474451  , 150.22183   ,  76.35366   ,  24.170496  ,\n",
       "         98.20859   ,  34.031376  ,   0.45371947,  39.98739   ,\n",
       "          1.        ],\n",
       "       [  7.0177956 , 142.59778   ,  65.83445   ,  19.805662  ,\n",
       "        110.88694   ,  32.977722  ,   0.53747636,  39.071033  ,\n",
       "          1.        ],\n",
       "       [  3.7133973 , 152.43399   ,  77.91622   ,  26.219498  ,\n",
       "        108.9141    ,  39.159042  ,   0.524328  ,  38.994587  ,\n",
       "          1.        ],\n",
       "       [  5.278493  , 129.03183   ,  50.21075   ,  25.727459  ,\n",
       "        141.34866   ,  34.766888  ,   0.6406235 ,  29.644682  ,\n",
       "          1.        ],\n",
       "       [  3.5982075 , 127.67996   ,  71.86677   ,  21.10362   ,\n",
       "         -7.5327344 ,  31.749628  ,   0.53049815,  34.0637    ,\n",
       "          1.        ],\n",
       "       [  4.5215564 , 155.0817    ,  80.9576    ,  19.738775  ,\n",
       "        155.27379   ,  35.63898   ,   0.5738131 ,  41.43635   ,\n",
       "          1.        ],\n",
       "       [  2.1253915 , 143.76      ,  70.347755  ,  27.276236  ,\n",
       "        108.813965  ,  36.748543  ,   0.503724  ,  35.207153  ,\n",
       "          1.        ],\n",
       "       [  5.1503725 , 133.89275   ,  65.99539   ,  21.951365  ,\n",
       "        127.48527   ,  38.78462   ,   0.53277993,  33.615643  ,\n",
       "          1.        ],\n",
       "       [  3.2056859 , 151.33759   ,  71.474594  ,  24.948133  ,\n",
       "         94.02297   ,  36.367157  ,   0.49681315,  37.951454  ,\n",
       "          1.        ],\n",
       "       [  3.5630755 , 148.0869    ,  72.2166    ,  24.654558  ,\n",
       "        119.78545   ,  35.226154  ,   0.49829578,  38.348454  ,\n",
       "          1.        ],\n",
       "       [  5.3395977 , 160.00578   ,  72.84958   ,  19.281488  ,\n",
       "        180.26868   ,  35.54313   ,   0.58450276,  38.193687  ,\n",
       "          1.        ],\n",
       "       [  2.2437742 , 141.1851    ,  80.28901   ,  26.881685  ,\n",
       "         91.52195   ,  38.116238  ,   0.5065421 ,  37.5667    ,\n",
       "          1.        ],\n",
       "       [  3.575285  , 117.55637   ,  63.548733  ,  23.543255  ,\n",
       "         97.12638   ,  35.01064   ,   0.48584765,  33.39115   ,\n",
       "          1.        ],\n",
       "       [  7.709659  , 143.85202   ,  63.408855  ,  18.235119  ,\n",
       "        124.14848   ,  32.532463  ,   0.37485796,  43.185158  ,\n",
       "          1.        ],\n",
       "       [  5.2041    , 148.45697   ,  67.416275  ,  22.193525  ,\n",
       "         79.129326  ,  35.551296  ,   0.4722764 ,  40.54232   ,\n",
       "          1.        ],\n",
       "       [  5.958637  , 143.80658   ,  56.74713   ,  22.444408  ,\n",
       "         91.36594   ,  35.28183   ,   0.5606018 ,  35.02327   ,\n",
       "          1.        ],\n",
       "       [  3.8523269 , 154.11063   ,  72.28571   ,  24.541239  ,\n",
       "        157.05965   ,  32.4631    ,   0.6056082 ,  40.250988  ,\n",
       "          1.        ],\n",
       "       [  3.8543148 , 142.39377   ,  71.21965   ,  24.665577  ,\n",
       "        109.24987   ,  37.02773   ,   0.4793178 ,  35.74309   ,\n",
       "          1.        ],\n",
       "       [  4.5694    , 141.05235   ,  80.24173   ,  19.523361  ,\n",
       "         23.21892   ,  32.163883  ,   0.4669928 ,  38.2211    ,\n",
       "          1.        ],\n",
       "       [  4.739286  , 145.39438   ,  71.42951   ,  22.466202  ,\n",
       "        166.05286   ,  30.591766  ,   0.68308896,  39.158844  ,\n",
       "          1.        ],\n",
       "       [  4.73567   , 155.94353   ,  69.60775   ,  25.449642  ,\n",
       "        200.37448   ,  34.682617  ,   0.6219033 ,  36.312992  ,\n",
       "          1.        ],\n",
       "       [  5.600245  , 139.29163   ,  60.234783  ,  23.130636  ,\n",
       "         38.629498  ,  32.152477  ,   0.5011954 ,  36.23557   ,\n",
       "          1.        ],\n",
       "       [  2.9800317 , 137.21439   ,  70.633354  ,  25.04004   ,\n",
       "        106.77553   ,  36.11049   ,   0.4693655 ,  37.22133   ,\n",
       "          1.        ],\n",
       "       [  4.285577  , 131.1149    ,  72.11106   ,  18.230623  ,\n",
       "         40.90638   ,  33.794083  ,   0.544005  ,  35.574802  ,\n",
       "          1.        ],\n",
       "       [  5.4019613 , 146.27252   ,  69.232254  ,  21.251715  ,\n",
       "         28.071074  ,  32.5119    ,   0.54660654,  35.49827   ,\n",
       "          1.        ],\n",
       "       [  4.918208  , 142.62956   ,  72.713806  ,  19.654055  ,\n",
       "        141.00891   ,  35.958324  ,   0.51320976,  38.928337  ,\n",
       "          1.        ],\n",
       "       [  4.3307743 , 151.73708   ,  72.85473   ,  24.05654   ,\n",
       "         75.003525  ,  38.860985  ,   0.46990433,  39.036724  ,\n",
       "          1.        ],\n",
       "       [  6.172763  , 164.22876   ,  77.3902    ,  16.988161  ,\n",
       "         51.303986  ,  34.37569   ,   0.47732055,  42.16826   ,\n",
       "          1.        ],\n",
       "       [  4.187237  , 150.31404   ,  70.00425   ,  23.926193  ,\n",
       "        122.13283   ,  34.60367   ,   0.52236396,  37.814785  ,\n",
       "          1.        ],\n",
       "       [  5.868457  , 145.00099   ,  71.75008   ,  19.363747  ,\n",
       "         35.09821   ,  33.8078    ,   0.44901338,  38.785103  ,\n",
       "          1.        ],\n",
       "       [  3.6345768 , 143.16243   ,  75.966125  ,  22.529547  ,\n",
       "         20.095287  ,  37.404713  ,   0.5271879 ,  36.66579   ,\n",
       "          1.        ],\n",
       "       [  4.5087633 , 148.778     ,  79.47963   ,  20.866318  ,\n",
       "        191.25444   ,  32.555576  ,   0.6302359 ,  40.07279   ,\n",
       "          1.        ],\n",
       "       [  4.8449416 , 171.39546   ,  71.34526   ,  23.283638  ,\n",
       "        120.61416   ,  39.186375  ,   0.50243574,  40.225174  ,\n",
       "          1.        ],\n",
       "       [  5.0524135 , 150.39554   ,  80.803474  ,  19.125937  ,\n",
       "        109.86915   ,  34.909378  ,   0.5452957 ,  41.45119   ,\n",
       "          1.        ],\n",
       "       [  5.243019  , 149.26651   ,  76.60785   ,  21.113462  ,\n",
       "        145.9702    ,  34.091175  ,   0.56130195,  39.577194  ,\n",
       "          1.        ],\n",
       "       [  5.74818   , 158.7987    ,  71.47773   ,  21.439335  ,\n",
       "         60.425976  ,  35.366367  ,   0.5355413 ,  37.298946  ,\n",
       "          1.        ],\n",
       "       [  4.1831293 , 162.54778   ,  68.05044   ,  25.500248  ,\n",
       "        185.18146   ,  40.55039   ,   0.5463017 ,  35.78209   ,\n",
       "          1.        ],\n",
       "       [  4.94544   , 148.2715    ,  60.66207   ,  24.903593  ,\n",
       "        159.77509   ,  32.269188  ,   0.6658558 ,  34.498543  ,\n",
       "          1.        ],\n",
       "       [  5.5469227 , 149.36362   ,  67.2786    ,  21.826498  ,\n",
       "        131.72548   ,  36.18088   ,   0.44112855,  39.171608  ,\n",
       "          1.        ],\n",
       "       [  6.743451  , 146.46518   ,  62.80375   ,  20.540142  ,\n",
       "        136.89854   ,  30.375902  ,   0.6614516 ,  37.49802   ,\n",
       "          1.        ],\n",
       "       [  4.350347  , 153.03465   ,  73.35584   ,  22.413544  ,\n",
       "        114.04231   ,  34.55298   ,   0.52010244,  38.52067   ,\n",
       "          1.        ],\n",
       "       [  3.1678329 , 148.22717   ,  83.00182   ,  22.9288    ,\n",
       "         77.20892   ,  38.12928   ,   0.44778663,  39.250614  ,\n",
       "          1.        ],\n",
       "       [  4.681616  , 132.94693   ,  63.382484  ,  25.455572  ,\n",
       "        132.67355   ,  36.017105  ,   0.5045024 ,  35.435814  ,\n",
       "          1.        ],\n",
       "       [  4.622589  , 155.91917   ,  65.34646   ,  26.498133  ,\n",
       "        137.84215   ,  40.722725  ,   0.5178283 ,  35.515636  ,\n",
       "          1.        ],\n",
       "       [  6.9081006 , 157.33447   ,  81.31494   ,  17.637661  ,\n",
       "        115.934166  ,  33.706947  ,   0.49463993,  43.198215  ,\n",
       "          1.        ],\n",
       "       [  4.7108645 , 129.79178   ,  65.26718   ,  22.820026  ,\n",
       "        138.81096   ,  33.938984  ,   0.5084545 ,  35.675556  ,\n",
       "          1.        ],\n",
       "       [  4.37383   , 110.96894   ,  53.825325  ,  27.076668  ,\n",
       "        -20.546999  ,  35.510925  ,   0.34749272,  34.896103  ,\n",
       "          1.        ],\n",
       "       [  3.14787   , 148.73686   ,  76.643684  ,  31.445482  ,\n",
       "        132.89015   ,  39.109684  ,   0.362003  ,  40.407127  ,\n",
       "          1.        ],\n",
       "       [  3.637107  , 157.42627   ,  73.93368   ,  25.1648    ,\n",
       "        164.07779   ,  37.974686  ,   0.55472666,  38.451015  ,\n",
       "          1.        ],\n",
       "       [  3.1193838 , 147.46617   ,  66.912155  ,  29.657148  ,\n",
       "        116.73777   ,  38.01361   ,   0.48723832,  37.02318   ,\n",
       "          1.        ],\n",
       "       [  3.1455183 , 146.34102   ,  67.5795    ,  27.650778  ,\n",
       "         90.880005  ,  36.983562  ,   0.46272317,  36.456234  ,\n",
       "          1.        ],\n",
       "       [  5.071253  , 171.93971   ,  78.98715   ,  22.569202  ,\n",
       "        112.19044   ,  34.90659   ,   0.56093276,  42.79711   ,\n",
       "          1.        ],\n",
       "       [  5.342499  , 151.44617   ,  75.325645  ,  18.856602  ,\n",
       "        166.501     ,  34.35244   ,   0.546555  ,  39.371014  ,\n",
       "          1.        ],\n",
       "       [  4.399362  , 151.65886   ,  70.00823   ,  22.77566   ,\n",
       "        144.63004   ,  31.47505   ,   0.54727095,  40.262337  ,\n",
       "          1.        ],\n",
       "       [  4.5274596 , 146.2909    ,  69.024124  ,  21.043144  ,\n",
       "        107.68653   ,  31.588781  ,   0.61442834,  37.0233    ,\n",
       "          1.        ],\n",
       "       [  4.6120234 , 152.15675   ,  56.98223   ,  26.358374  ,\n",
       "        154.1389    ,  40.577545  ,   0.50700885,  34.145065  ,\n",
       "          1.        ]])"
      ]
     },
     "execution_count": 7,
     "metadata": {},
     "output_type": "execute_result"
    }
   ],
   "source": [
    "extra #showing LSTM generated extra data ready for training"
   ]
  },
  {
   "cell_type": "code",
   "execution_count": 8,
   "metadata": {},
   "outputs": [
    {
     "data": {
      "text/html": [
       "<div>\n",
       "<style scoped>\n",
       "    .dataframe tbody tr th:only-of-type {\n",
       "        vertical-align: middle;\n",
       "    }\n",
       "\n",
       "    .dataframe tbody tr th {\n",
       "        vertical-align: top;\n",
       "    }\n",
       "\n",
       "    .dataframe thead th {\n",
       "        text-align: right;\n",
       "    }\n",
       "</style>\n",
       "<table border=\"1\" class=\"dataframe\">\n",
       "  <thead>\n",
       "    <tr style=\"text-align: right;\">\n",
       "      <th></th>\n",
       "      <th>0</th>\n",
       "      <th>1</th>\n",
       "      <th>2</th>\n",
       "      <th>3</th>\n",
       "      <th>4</th>\n",
       "      <th>5</th>\n",
       "      <th>6</th>\n",
       "      <th>7</th>\n",
       "      <th>8</th>\n",
       "    </tr>\n",
       "  </thead>\n",
       "  <tbody>\n",
       "    <tr>\n",
       "      <th>0</th>\n",
       "      <td>10.0</td>\n",
       "      <td>90.0</td>\n",
       "      <td>85.0</td>\n",
       "      <td>32.0</td>\n",
       "      <td>0.0</td>\n",
       "      <td>34.9</td>\n",
       "      <td>0.825</td>\n",
       "      <td>56.0</td>\n",
       "      <td>1.0</td>\n",
       "    </tr>\n",
       "    <tr>\n",
       "      <th>1</th>\n",
       "      <td>0.0</td>\n",
       "      <td>73.0</td>\n",
       "      <td>0.0</td>\n",
       "      <td>0.0</td>\n",
       "      <td>0.0</td>\n",
       "      <td>21.1</td>\n",
       "      <td>0.342</td>\n",
       "      <td>25.0</td>\n",
       "      <td>0.0</td>\n",
       "    </tr>\n",
       "    <tr>\n",
       "      <th>2</th>\n",
       "      <td>6.0</td>\n",
       "      <td>107.0</td>\n",
       "      <td>88.0</td>\n",
       "      <td>0.0</td>\n",
       "      <td>0.0</td>\n",
       "      <td>36.8</td>\n",
       "      <td>0.727</td>\n",
       "      <td>31.0</td>\n",
       "      <td>0.0</td>\n",
       "    </tr>\n",
       "    <tr>\n",
       "      <th>3</th>\n",
       "      <td>1.0</td>\n",
       "      <td>79.0</td>\n",
       "      <td>60.0</td>\n",
       "      <td>42.0</td>\n",
       "      <td>48.0</td>\n",
       "      <td>43.5</td>\n",
       "      <td>0.678</td>\n",
       "      <td>23.0</td>\n",
       "      <td>0.0</td>\n",
       "    </tr>\n",
       "    <tr>\n",
       "      <th>4</th>\n",
       "      <td>1.0</td>\n",
       "      <td>101.0</td>\n",
       "      <td>50.0</td>\n",
       "      <td>15.0</td>\n",
       "      <td>36.0</td>\n",
       "      <td>24.2</td>\n",
       "      <td>0.526</td>\n",
       "      <td>26.0</td>\n",
       "      <td>0.0</td>\n",
       "    </tr>\n",
       "  </tbody>\n",
       "</table>\n",
       "</div>"
      ],
      "text/plain": [
       "      0      1     2     3     4     5      6     7    8\n",
       "0  10.0   90.0  85.0  32.0   0.0  34.9  0.825  56.0  1.0\n",
       "1   0.0   73.0   0.0   0.0   0.0  21.1  0.342  25.0  0.0\n",
       "2   6.0  107.0  88.0   0.0   0.0  36.8  0.727  31.0  0.0\n",
       "3   1.0   79.0  60.0  42.0  48.0  43.5  0.678  23.0  0.0\n",
       "4   1.0  101.0  50.0  15.0  36.0  24.2  0.526  26.0  0.0"
      ]
     },
     "execution_count": 8,
     "metadata": {},
     "output_type": "execute_result"
    }
   ],
   "source": [
    "original_data.head() #showing original data"
   ]
  },
  {
   "cell_type": "code",
   "execution_count": null,
   "metadata": {
    "collapsed": true
   },
   "outputs": [],
   "source": []
  },
  {
   "cell_type": "code",
   "execution_count": 9,
   "metadata": {
    "collapsed": true
   },
   "outputs": [],
   "source": [
    "#loading data values from original dataset(Pima)\n",
    "val=original_data.values"
   ]
  },
  {
   "cell_type": "code",
   "execution_count": 10,
   "metadata": {
    "collapsed": true
   },
   "outputs": [],
   "source": [
    "X=val[:,:8].astype(float)# getting the feature values\n",
    "Y=val[:,8].astype(int)# getting prediction"
   ]
  },
  {
   "cell_type": "code",
   "execution_count": 11,
   "metadata": {
    "collapsed": true
   },
   "outputs": [],
   "source": [
    "#extra_X denotes the extra training data generated by LSTM \n",
    "extra_X=extra[:,:8].astype(float)\n",
    "\n",
    "#extra_Y denotes extra training prediction data for training the algorithm\n",
    "extra_Y=extra[:,8].astype(int)"
   ]
  },
  {
   "cell_type": "code",
   "execution_count": 12,
   "metadata": {
    "collapsed": true
   },
   "outputs": [],
   "source": [
    "# extrain=original training data + LSTM generated training data\n",
    "\n",
    "# eytrain=original training prediction + LSTM generated\n",
    "\n",
    "extrain=np.concatenate((X,extra_X),axis=0)\n",
    "eytrain=np.concatenate((Y,extra_Y),axis=0)"
   ]
  },
  {
   "cell_type": "code",
   "execution_count": 13,
   "metadata": {},
   "outputs": [
    {
     "name": "stdout",
     "output_type": "stream",
     "text": [
      "(611, 8)\n",
      "(611,)\n"
     ]
    }
   ],
   "source": [
    "print(extrain.shape)\n",
    "print(eytrain.shape)"
   ]
  },
  {
   "cell_type": "code",
   "execution_count": 14,
   "metadata": {
    "collapsed": true
   },
   "outputs": [],
   "source": [
    "test_Data=pd.read_csv('test_Data.csv')"
   ]
  },
  {
   "cell_type": "code",
   "execution_count": 15,
   "metadata": {
    "collapsed": true
   },
   "outputs": [],
   "source": [
    "test_Data=np.array(test_Data)"
   ]
  },
  {
   "cell_type": "code",
   "execution_count": 16,
   "metadata": {},
   "outputs": [
    {
     "data": {
      "text/plain": [
       "(231, 9)"
      ]
     },
     "execution_count": 16,
     "metadata": {},
     "output_type": "execute_result"
    }
   ],
   "source": [
    "test_Data.shape"
   ]
  },
  {
   "cell_type": "code",
   "execution_count": 17,
   "metadata": {
    "collapsed": true
   },
   "outputs": [],
   "source": [
    "X_test=test_Data[:,:8].astype(float)\n",
    "Y_test=test_Data[:,8].astype(int)"
   ]
  },
  {
   "cell_type": "code",
   "execution_count": null,
   "metadata": {
    "collapsed": true
   },
   "outputs": [],
   "source": []
  },
  {
   "cell_type": "code",
   "execution_count": 18,
   "metadata": {
    "collapsed": true
   },
   "outputs": [],
   "source": [
    "def svc_param_selection(X, y, nfolds):\n",
    "    Cs = [0.001, 0.01, 0.1, 1, 10]\n",
    "    gammas = [0.001, 0.01, 0.1, 1]\n",
    "    param_grid = {'C': Cs, 'gamma' : gammas}\n",
    "    grid_search = GridSearchCV(SVC(kernel='rbf',probability=True), param_grid, cv=nfolds)\n",
    "    grid_search.fit(X, y)\n",
    "    grid_search.best_params_\n",
    "    return grid_search.best_estimator_"
   ]
  },
  {
   "cell_type": "code",
   "execution_count": 19,
   "metadata": {
    "collapsed": true
   },
   "outputs": [],
   "source": [
    "# setting seed =7 to produce same results over and over again, it was maintained during different experiments \n",
    "seed=9\n"
   ]
  },
  {
   "cell_type": "code",
   "execution_count": 20,
   "metadata": {
    "collapsed": true
   },
   "outputs": [],
   "source": [
    "# first rbf_svc for training on just the original training data\n",
    "#rbf_svc = SVC(kernel='rbf', gamma=0.00001, C=1000,probability=True).fit(X_train,Y_train)\n",
    "rbf_svc=svc_param_selection(X,Y,5)\n",
    "\n",
    "# secondly rbf_svc_extra for training on original+LSTM\n",
    "rbf_svc_extra = svc_param_selection(extrain,eytrain,5)"
   ]
  },
  {
   "cell_type": "code",
   "execution_count": 21,
   "metadata": {},
   "outputs": [
    {
     "data": {
      "text/plain": [
       "SVC(C=1, cache_size=200, class_weight=None, coef0=0.0,\n",
       "    decision_function_shape='ovr', degree=3, gamma=0.001, kernel='rbf',\n",
       "    max_iter=-1, probability=True, random_state=None, shrinking=True, tol=0.001,\n",
       "    verbose=False)"
      ]
     },
     "execution_count": 21,
     "metadata": {},
     "output_type": "execute_result"
    }
   ],
   "source": [
    "\n",
    "# fitting the data\n",
    "rbf_svc.fit(X,Y)\n",
    "rbf_svc_extra.fit(extrain,eytrain)"
   ]
  },
  {
   "cell_type": "code",
   "execution_count": 22,
   "metadata": {},
   "outputs": [
    {
     "data": {
      "text/plain": [
       "(231, 8)"
      ]
     },
     "execution_count": 22,
     "metadata": {},
     "output_type": "execute_result"
    }
   ],
   "source": [
    "# loading the validation dataset previously set up by validation split(this data was not included in any training procedure)\n",
    "Prediction_data=X_test\n",
    "\n",
    "#producing the shape\n",
    "Prediction_data.shape"
   ]
  },
  {
   "cell_type": "code",
   "execution_count": 23,
   "metadata": {
    "collapsed": true
   },
   "outputs": [],
   "source": [
    "# making predictions on validation dataset using svc trained only on original training data\n",
    "prediction_on_real_dataset=rbf_svc.predict_proba(Prediction_data)\n",
    "\n",
    "#saving probabilities\n",
    "predictions=rbf_svc.predict(Prediction_data)\n",
    "\n",
    "# making predictions on validation dataset using svc trained on original training data + LSTM generated data\n",
    "prediction_on_real_dataset_adding_extra=rbf_svc_extra.predict_proba(Prediction_data)\n",
    "#saving probabilities\n",
    "predictions_extra=rbf_svc_extra.predict(Prediction_data)"
   ]
  },
  {
   "cell_type": "code",
   "execution_count": 24,
   "metadata": {},
   "outputs": [
    {
     "name": "stdout",
     "output_type": "stream",
     "text": [
      "231\n",
      "231\n"
     ]
    }
   ],
   "source": [
    "print(len(prediction_on_real_dataset))\n",
    "\n",
    "print(len(prediction_on_real_dataset_adding_extra))"
   ]
  },
  {
   "cell_type": "code",
   "execution_count": 25,
   "metadata": {
    "collapsed": true
   },
   "outputs": [],
   "source": [
    "from sklearn.metrics import f1_score\n",
    "from sklearn.metrics import auc\n",
    "from sklearn.metrics import average_precision_score\n",
    "\n",
    "from sklearn.metrics import roc_curve, roc_auc_score"
   ]
  },
  {
   "cell_type": "code",
   "execution_count": 26,
   "metadata": {},
   "outputs": [
    {
     "data": {
      "text/plain": [
       "0.5072463768115942"
      ]
     },
     "execution_count": 26,
     "metadata": {},
     "output_type": "execute_result"
    }
   ],
   "source": [
    "f1_score(Y_test,predictions)#without_extra"
   ]
  },
  {
   "cell_type": "code",
   "execution_count": 27,
   "metadata": {},
   "outputs": [
    {
     "data": {
      "text/plain": [
       "0.5405405405405405"
      ]
     },
     "execution_count": 27,
     "metadata": {},
     "output_type": "execute_result"
    }
   ],
   "source": [
    "f1_score(Y_test,predictions_extra)#with_extra"
   ]
  },
  {
   "cell_type": "code",
   "execution_count": 28,
   "metadata": {},
   "outputs": [
    {
     "data": {
      "text/plain": [
       "array([0.64883108, 0.35116892])"
      ]
     },
     "execution_count": 28,
     "metadata": {},
     "output_type": "execute_result"
    }
   ],
   "source": [
    "prediction_on_real_dataset[0]# probabilities of 2 class"
   ]
  },
  {
   "cell_type": "code",
   "execution_count": 29,
   "metadata": {},
   "outputs": [
    {
     "name": "stdout",
     "output_type": "stream",
     "text": [
      "Without extra:  0.7733333333333333\n",
      "With extra:  0.7703703703703703\n"
     ]
    }
   ],
   "source": [
    "# getting AUC score for classifier trained on only original data\n",
    "fpr, tpr, thres=roc_curve(Y_test,prediction_on_real_dataset[:,1],pos_label=1)\n",
    "\n",
    "#getting AUC score for classifier trained on original + LSTM generated data\n",
    "efpr, etpr, ethres=roc_curve(Y_test,prediction_on_real_dataset_adding_extra[:,1],pos_label=1)\n",
    "\n",
    "with_=auc(fpr,tpr)\n",
    "without_=auc(efpr,etpr)\n",
    "print('Without extra: ',auc(fpr,tpr))\n",
    "\n",
    "print('With extra: ',auc(efpr,etpr))"
   ]
  },
  {
   "cell_type": "code",
   "execution_count": 30,
   "metadata": {},
   "outputs": [
    {
     "data": {
      "image/png": "[encoded data removed]",
      "text/plain": [
       "<matplotlib.figure.Figure at 0x34f3e820b8>"
      ]
     },
     "metadata": {},
     "output_type": "display_data"
    }
   ],
   "source": [
    "# plotting data ( for minority predictions , here minority class = 1)\n",
    "\n",
    "Y_probs=prediction_on_real_dataset[:,1]\n",
    "fpr,tpr,_=roc_curve(Y_test,Y_probs)\n",
    "\n",
    "Y_probs_extra=prediction_on_real_dataset_adding_extra[:,1]\n",
    "efpr,etpr,_=roc_curve(Y_test,Y_probs_extra)\n",
    "\n",
    "original=auc(fpr,tpr)\n",
    "lstm_with_extra=auc(efpr,etpr)\n",
    "\n",
    "original=original.astype(float)\n",
    "lstm_with_extra=lstm_with_extra.astype(float)\n",
    "\n",
    "\n",
    "pyplot.clf()\n",
    "pyplot.plot(fpr, tpr,label='original (AUC : %5.4f)'%(with_),linewidth='1.2')\n",
    "pyplot.plot(efpr,etpr,label='LSTM generated+original(AUC : %5.4f)'%(without_),linewidth='1.2')\n",
    "pyplot.xlabel('FPR')\n",
    "pyplot.ylabel('TPR')\n",
    "pyplot.title('ROC curve - Pima dataset')\n",
    "pyplot.legend(loc=4)\n",
    "pyplot.savefig('ROC curve .png',dpi=500)\n",
    "pyplot.show()"
   ]
  },
  {
   "cell_type": "code",
   "execution_count": 50,
   "metadata": {},
   "outputs": [
    {
     "data": {
      "image/png": "[encoded data removed]",
      "text/plain": [
       "<matplotlib.figure.Figure at 0x3a102dd9b0>"
      ]
     },
     "metadata": {},
     "output_type": "display_data"
    }
   ],
   "source": [
    "Y_probs=prediction_on_real_dataset[:,0]\n",
    "fpr,tpr,_=roc_curve(Y_test,Y_probs)\n",
    "\n",
    "Y_probs_extra=prediction_on_real_dataset_adding_extra[:,0]\n",
    "efpr,etpr,_=roc_curve(Y_test,Y_probs_extra)\n",
    "\n",
    "pyplot.clf()\n",
    "pyplot.plot(fpr, tpr,label='original')\n",
    "pyplot.plot(efpr,etpr,label='LSTM generated')\n",
    "pyplot.xlabel('FPR')\n",
    "pyplot.ylabel('TPR(recall)')\n",
    "pyplot.title('ROC curve - Pima dataset')\n",
    "pyplot.legend(loc=2)\n",
    "pyplot.show()"
   ]
  },
  {
   "cell_type": "code",
   "execution_count": 51,
   "metadata": {},
   "outputs": [
    {
     "data": {
      "text/plain": [
       "array([[0.71423122, 0.28576878],\n",
       "       [0.59616684, 0.40383316],\n",
       "       [0.83005919, 0.16994081],\n",
       "       [0.78963776, 0.21036224],\n",
       "       [0.79043351, 0.20956649],\n",
       "       [0.81166888, 0.18833112],\n",
       "       [0.34959236, 0.65040764],\n",
       "       [0.22883841, 0.77116159],\n",
       "       [0.44679005, 0.55320995],\n",
       "       [0.5       , 0.5       ],\n",
       "       [0.44267355, 0.55732645],\n",
       "       [0.71246436, 0.28753564],\n",
       "       [0.44457424, 0.55542576],\n",
       "       [0.78006475, 0.21993525],\n",
       "       [0.79979039, 0.20020961],\n",
       "       [0.81872061, 0.18127939],\n",
       "       [0.81695841, 0.18304159],\n",
       "       [0.40885297, 0.59114703],\n",
       "       [0.68618511, 0.31381489],\n",
       "       [0.81831093, 0.18168907],\n",
       "       [0.77140821, 0.22859179],\n",
       "       [0.21870017, 0.78129983],\n",
       "       [0.79170787, 0.20829213],\n",
       "       [0.14904521, 0.85095479],\n",
       "       [0.6086659 , 0.3913341 ],\n",
       "       [0.76539349, 0.23460651],\n",
       "       [0.63370769, 0.36629231],\n",
       "       [0.44004964, 0.55995036],\n",
       "       [0.69523069, 0.30476931],\n",
       "       [0.63259559, 0.36740441],\n",
       "       [0.80332758, 0.19667242],\n",
       "       [0.72559076, 0.27440924],\n",
       "       [0.65311637, 0.34688363],\n",
       "       [0.83714706, 0.16285294],\n",
       "       [0.56309331, 0.43690669],\n",
       "       [0.7766161 , 0.2233839 ],\n",
       "       [0.74797402, 0.25202598],\n",
       "       [0.70739301, 0.29260699],\n",
       "       [0.79084948, 0.20915052],\n",
       "       [0.80814332, 0.19185668],\n",
       "       [0.81047938, 0.18952062],\n",
       "       [0.64876985, 0.35123015],\n",
       "       [0.78162939, 0.21837061],\n",
       "       [0.4086525 , 0.5913475 ],\n",
       "       [0.82718009, 0.17281991],\n",
       "       [0.44412872, 0.55587128],\n",
       "       [0.44628403, 0.55371597],\n",
       "       [0.80741057, 0.19258943],\n",
       "       [0.70518009, 0.29481991],\n",
       "       [0.70570162, 0.29429838],\n",
       "       [0.38435764, 0.61564236],\n",
       "       [0.81195591, 0.18804409],\n",
       "       [0.40490882, 0.59509118],\n",
       "       [0.41454681, 0.58545319],\n",
       "       [0.79934902, 0.20065098],\n",
       "       [0.68958105, 0.31041895],\n",
       "       [0.7972957 , 0.2027043 ],\n",
       "       [0.80937836, 0.19062164],\n",
       "       [0.33288319, 0.66711681],\n",
       "       [0.85796303, 0.14203697],\n",
       "       [0.50977224, 0.49022776],\n",
       "       [0.33844586, 0.66155414],\n",
       "       [0.28186434, 0.71813566],\n",
       "       [0.8438839 , 0.1561161 ],\n",
       "       [0.69421928, 0.30578072],\n",
       "       [0.81190566, 0.18809434],\n",
       "       [0.77873732, 0.22126268],\n",
       "       [0.68924294, 0.31075706],\n",
       "       [0.47611714, 0.52388286],\n",
       "       [0.62663125, 0.37336875],\n",
       "       [0.10422373, 0.89577627],\n",
       "       [0.75031498, 0.24968502],\n",
       "       [0.81831137, 0.18168863],\n",
       "       [0.50733292, 0.49266708],\n",
       "       [0.37222549, 0.62777451],\n",
       "       [0.33166559, 0.66833441],\n",
       "       [0.8311615 , 0.1688385 ],\n",
       "       [0.23217736, 0.76782264],\n",
       "       [0.57989007, 0.42010993],\n",
       "       [0.82729674, 0.17270326],\n",
       "       [0.31159612, 0.68840388],\n",
       "       [0.45833245, 0.54166755],\n",
       "       [0.59615162, 0.40384838],\n",
       "       [0.56006832, 0.43993168],\n",
       "       [0.80290273, 0.19709727],\n",
       "       [0.76314388, 0.23685612],\n",
       "       [0.82656167, 0.17343833],\n",
       "       [0.68005492, 0.31994508],\n",
       "       [0.70580378, 0.29419622],\n",
       "       [0.73090196, 0.26909804],\n",
       "       [0.15119225, 0.84880775],\n",
       "       [0.81679826, 0.18320174],\n",
       "       [0.80140917, 0.19859083],\n",
       "       [0.73265601, 0.26734399],\n",
       "       [0.80302518, 0.19697482],\n",
       "       [0.22288216, 0.77711784],\n",
       "       [0.2768757 , 0.7231243 ],\n",
       "       [0.78142208, 0.21857792],\n",
       "       [0.82483144, 0.17516856],\n",
       "       [0.8215638 , 0.1784362 ],\n",
       "       [0.80681599, 0.19318401],\n",
       "       [0.81521739, 0.18478261],\n",
       "       [0.33325113, 0.66674887],\n",
       "       [0.51041554, 0.48958446],\n",
       "       [0.78277511, 0.21722489],\n",
       "       [0.53795657, 0.46204343],\n",
       "       [0.79193499, 0.20806501],\n",
       "       [0.79051793, 0.20948207],\n",
       "       [0.21035067, 0.78964933],\n",
       "       [0.77009255, 0.22990745],\n",
       "       [0.78016876, 0.21983124],\n",
       "       [0.12373751, 0.87626249],\n",
       "       [0.70813766, 0.29186234],\n",
       "       [0.7267413 , 0.2732587 ],\n",
       "       [0.70828969, 0.29171031],\n",
       "       [0.77665502, 0.22334498],\n",
       "       [0.73100399, 0.26899601],\n",
       "       [0.5       , 0.5       ],\n",
       "       [0.80028252, 0.19971748],\n",
       "       [0.79430238, 0.20569762],\n",
       "       [0.28479289, 0.71520711],\n",
       "       [0.32274405, 0.67725595],\n",
       "       [0.81137739, 0.18862261],\n",
       "       [0.70951325, 0.29048675],\n",
       "       [0.80443344, 0.19556656],\n",
       "       [0.79664852, 0.20335148],\n",
       "       [0.7956317 , 0.2043683 ],\n",
       "       [0.79544713, 0.20455287],\n",
       "       [0.83236216, 0.16763784],\n",
       "       [0.78795156, 0.21204844],\n",
       "       [0.47219277, 0.52780723],\n",
       "       [0.75550693, 0.24449307],\n",
       "       [0.4637145 , 0.5362855 ],\n",
       "       [0.79111634, 0.20888366],\n",
       "       [0.77769255, 0.22230745],\n",
       "       [0.8305469 , 0.1694531 ],\n",
       "       [0.65322307, 0.34677693],\n",
       "       [0.8176964 , 0.1823036 ],\n",
       "       [0.37186216, 0.62813784],\n",
       "       [0.8217901 , 0.1782099 ],\n",
       "       [0.72027666, 0.27972334],\n",
       "       [0.14679282, 0.85320718],\n",
       "       [0.70801616, 0.29198384],\n",
       "       [0.54375361, 0.45624639],\n",
       "       [0.84423335, 0.15576665],\n",
       "       [0.49449038, 0.50550962],\n",
       "       [0.78468222, 0.21531778],\n",
       "       [0.71528287, 0.28471713],\n",
       "       [0.7582262 , 0.2417738 ],\n",
       "       [0.7920074 , 0.2079926 ],\n",
       "       [0.5467836 , 0.4532164 ],\n",
       "       [0.39799687, 0.60200313],\n",
       "       [0.8432229 , 0.1567771 ],\n",
       "       [0.66369288, 0.33630712],\n",
       "       [0.64365308, 0.35634692],\n",
       "       [0.77372913, 0.22627087],\n",
       "       [0.5       , 0.5       ],\n",
       "       [0.8120698 , 0.1879302 ],\n",
       "       [0.79974383, 0.20025617],\n",
       "       [0.26461396, 0.73538604],\n",
       "       [0.80067017, 0.19932983],\n",
       "       [0.34436777, 0.65563223],\n",
       "       [0.66730132, 0.33269868],\n",
       "       [0.80622776, 0.19377224],\n",
       "       [0.79652878, 0.20347122],\n",
       "       [0.68767729, 0.31232271],\n",
       "       [0.51770938, 0.48229062],\n",
       "       [0.82632661, 0.17367339],\n",
       "       [0.75500808, 0.24499192],\n",
       "       [0.16985891, 0.83014109],\n",
       "       [0.7865865 , 0.2134135 ],\n",
       "       [0.78986285, 0.21013715],\n",
       "       [0.64760238, 0.35239762],\n",
       "       [0.65204781, 0.34795219],\n",
       "       [0.55111792, 0.44888208],\n",
       "       [0.77223877, 0.22776123],\n",
       "       [0.35456112, 0.64543888],\n",
       "       [0.80881653, 0.19118347],\n",
       "       [0.7372917 , 0.2627083 ],\n",
       "       [0.54568465, 0.45431535],\n",
       "       [0.68766096, 0.31233904],\n",
       "       [0.79699008, 0.20300992],\n",
       "       [0.80445998, 0.19554002],\n",
       "       [0.20185035, 0.79814965],\n",
       "       [0.5       , 0.5       ],\n",
       "       [0.80785492, 0.19214508],\n",
       "       [0.35178889, 0.64821111],\n",
       "       [0.56008312, 0.43991688],\n",
       "       [0.19257582, 0.80742418],\n",
       "       [0.51423366, 0.48576634],\n",
       "       [0.34887654, 0.65112346],\n",
       "       [0.1643027 , 0.8356973 ],\n",
       "       [0.61907752, 0.38092248],\n",
       "       [0.44184677, 0.55815323],\n",
       "       [0.8344694 , 0.1655306 ],\n",
       "       [0.3019769 , 0.6980231 ],\n",
       "       [0.84173236, 0.15826764],\n",
       "       [0.5       , 0.5       ],\n",
       "       [0.80280441, 0.19719559],\n",
       "       [0.81414751, 0.18585249],\n",
       "       [0.75911607, 0.24088393],\n",
       "       [0.8106768 , 0.1893232 ],\n",
       "       [0.7832763 , 0.2167237 ],\n",
       "       [0.32061621, 0.67938379],\n",
       "       [0.47287607, 0.52712393],\n",
       "       [0.81053091, 0.18946909],\n",
       "       [0.58771214, 0.41228786],\n",
       "       [0.23107904, 0.76892096],\n",
       "       [0.73380489, 0.26619511],\n",
       "       [0.23678908, 0.76321092],\n",
       "       [0.67644809, 0.32355191],\n",
       "       [0.79380465, 0.20619535],\n",
       "       [0.50875556, 0.49124444],\n",
       "       [0.12151071, 0.87848929],\n",
       "       [0.2624559 , 0.7375441 ],\n",
       "       [0.81797722, 0.18202278],\n",
       "       [0.80125066, 0.19874934],\n",
       "       [0.14365822, 0.85634178],\n",
       "       [0.8324071 , 0.1675929 ],\n",
       "       [0.66557117, 0.33442883],\n",
       "       [0.45846304, 0.54153696],\n",
       "       [0.65427317, 0.34572683],\n",
       "       [0.60278613, 0.39721387],\n",
       "       [0.66103594, 0.33896406],\n",
       "       [0.78117853, 0.21882147],\n",
       "       [0.80958632, 0.19041368],\n",
       "       [0.49289289, 0.50710711],\n",
       "       [0.777706  , 0.222294  ],\n",
       "       [0.81819422, 0.18180578],\n",
       "       [0.816645  , 0.183355  ],\n",
       "       [0.42481152, 0.57518848]])"
      ]
     },
     "execution_count": 51,
     "metadata": {},
     "output_type": "execute_result"
    }
   ],
   "source": [
    "prediction_on_real_dataset"
   ]
  },
  {
   "cell_type": "code",
   "execution_count": 52,
   "metadata": {},
   "outputs": [
    {
     "data": {
      "text/plain": [
       "array([[0.73911479, 0.26088521],\n",
       "       [0.57806086, 0.42193914],\n",
       "       [0.85294776, 0.14705224],\n",
       "       [0.80885662, 0.19114338],\n",
       "       [0.8435121 , 0.1564879 ],\n",
       "       [0.89092182, 0.10907818],\n",
       "       [0.2961195 , 0.7038805 ],\n",
       "       [0.16844994, 0.83155006],\n",
       "       [0.39894046, 0.60105954],\n",
       "       [0.46569347, 0.53430653],\n",
       "       [0.38896452, 0.61103548],\n",
       "       [0.69538521, 0.30461479],\n",
       "       [0.39852046, 0.60147954],\n",
       "       [0.82631933, 0.17368067],\n",
       "       [0.86753988, 0.13246012],\n",
       "       [0.8368405 , 0.1631595 ],\n",
       "       [0.87000314, 0.12999686],\n",
       "       [0.22778975, 0.77221025],\n",
       "       [0.68723362, 0.31276638],\n",
       "       [0.85270747, 0.14729253],\n",
       "       [0.77413579, 0.22586421],\n",
       "       [0.169007  , 0.830993  ],\n",
       "       [0.8269835 , 0.1730165 ],\n",
       "       [0.10278504, 0.89721496],\n",
       "       [0.59269737, 0.40730263],\n",
       "       [0.79649928, 0.20350072],\n",
       "       [0.5       , 0.5       ],\n",
       "       [0.36425576, 0.63574424],\n",
       "       [0.69081665, 0.30918335],\n",
       "       [0.60326403, 0.39673597],\n",
       "       [0.8320349 , 0.1679651 ],\n",
       "       [0.63283085, 0.36716915],\n",
       "       [0.64409107, 0.35590893],\n",
       "       [0.86143765, 0.13856235],\n",
       "       [0.52866863, 0.47133137],\n",
       "       [0.80482081, 0.19517919],\n",
       "       [0.79068494, 0.20931506],\n",
       "       [0.69356412, 0.30643588],\n",
       "       [0.82126161, 0.17873839],\n",
       "       [0.82667895, 0.17332105],\n",
       "       [0.81436665, 0.18563335],\n",
       "       [0.64327603, 0.35672397],\n",
       "       [0.79887612, 0.20112388],\n",
       "       [0.34831416, 0.65168584],\n",
       "       [0.78472024, 0.21527976],\n",
       "       [0.38954545, 0.61045455],\n",
       "       [0.39312822, 0.60687178],\n",
       "       [0.82706823, 0.17293177],\n",
       "       [0.70799305, 0.29200695],\n",
       "       [0.69201441, 0.30798559],\n",
       "       [0.33814417, 0.66185583],\n",
       "       [0.86298492, 0.13701508],\n",
       "       [0.34519832, 0.65480168],\n",
       "       [0.35391878, 0.64608122],\n",
       "       [0.8193826 , 0.1806174 ],\n",
       "       [0.6829426 , 0.3170574 ],\n",
       "       [0.70768244, 0.29231756],\n",
       "       [0.8306043 , 0.1693957 ],\n",
       "       [0.28191051, 0.71808949],\n",
       "       [0.8860606 , 0.1139394 ],\n",
       "       [0.47359316, 0.52640684],\n",
       "       [0.28235715, 0.71764285],\n",
       "       [0.22223225, 0.77776775],\n",
       "       [0.86690709, 0.13309291],\n",
       "       [0.30759963, 0.69240037],\n",
       "       [0.8320146 , 0.1679854 ],\n",
       "       [0.79923819, 0.20076181],\n",
       "       [0.68954442, 0.31045558],\n",
       "       [0.42197282, 0.57802718],\n",
       "       [0.61092153, 0.38907847],\n",
       "       [0.0682271 , 0.9317729 ],\n",
       "       [0.75453342, 0.24546658],\n",
       "       [0.82260846, 0.17739154],\n",
       "       [0.455863  , 0.544137  ],\n",
       "       [0.32193192, 0.67806808],\n",
       "       [0.27341892, 0.72658108],\n",
       "       [0.85789934, 0.14210066],\n",
       "       [0.17827693, 0.82172307],\n",
       "       [0.47752771, 0.52247229],\n",
       "       [0.85960651, 0.14039349],\n",
       "       [0.25252129, 0.74747871],\n",
       "       [0.3561986 , 0.6438014 ],\n",
       "       [0.57544999, 0.42455001],\n",
       "       [0.51697411, 0.48302589],\n",
       "       [0.84829999, 0.15170001],\n",
       "       [0.77222246, 0.22777754],\n",
       "       [0.86091041, 0.13908959],\n",
       "       [0.6806267 , 0.3193733 ],\n",
       "       [0.71045811, 0.28954189],\n",
       "       [0.45574165, 0.54425835],\n",
       "       [0.1055178 , 0.8944822 ],\n",
       "       [0.83558505, 0.16441495],\n",
       "       [0.8119024 , 0.1880976 ],\n",
       "       [0.74064564, 0.25935436],\n",
       "       [0.82781107, 0.17218893],\n",
       "       [0.16651239, 0.83348761],\n",
       "       [0.21470562, 0.78529438],\n",
       "       [0.46977507, 0.53022493],\n",
       "       [0.84495381, 0.15504619],\n",
       "       [0.84403643, 0.15596357],\n",
       "       [0.85744047, 0.14255953],\n",
       "       [0.85214386, 0.14785614],\n",
       "       [0.19059842, 0.80940158],\n",
       "       [0.46510459, 0.53489541],\n",
       "       [0.79856778, 0.20143222],\n",
       "       [0.5       , 0.5       ],\n",
       "       [0.81001652, 0.18998348],\n",
       "       [0.82733773, 0.17266227],\n",
       "       [0.14561221, 0.85438779],\n",
       "       [0.77956407, 0.22043593],\n",
       "       [0.79429866, 0.20570134],\n",
       "       [0.08256346, 0.91743654],\n",
       "       [0.70976294, 0.29023706],\n",
       "       [0.72165844, 0.27834156],\n",
       "       [0.70839443, 0.29160557],\n",
       "       [0.83149515, 0.16850485],\n",
       "       [0.69365048, 0.30634952],\n",
       "       [0.43607608, 0.56392392],\n",
       "       [0.74220083, 0.25779917],\n",
       "       [0.78882685, 0.21117315],\n",
       "       [0.22600665, 0.77399335],\n",
       "       [0.26394113, 0.73605887],\n",
       "       [0.83112487, 0.16887513],\n",
       "       [0.70901649, 0.29098351],\n",
       "       [0.81997223, 0.18002777],\n",
       "       [0.81689769, 0.18310231],\n",
       "       [0.85647316, 0.14352684],\n",
       "       [0.82975009, 0.17024991],\n",
       "       [0.85205841, 0.14794159],\n",
       "       [0.85014606, 0.14985394],\n",
       "       [0.42271943, 0.57728057],\n",
       "       [0.75009603, 0.24990397],\n",
       "       [0.41168008, 0.58831992],\n",
       "       [0.71761884, 0.28238116],\n",
       "       [0.79129341, 0.20870659],\n",
       "       [0.84909683, 0.15090317],\n",
       "       [0.41434055, 0.58565945],\n",
       "       [0.87445819, 0.12554181],\n",
       "       [0.31713214, 0.68286786],\n",
       "       [0.84892426, 0.15107574],\n",
       "       [0.72124173, 0.27875827],\n",
       "       [0.10206846, 0.89793154],\n",
       "       [0.69159801, 0.30840199],\n",
       "       [0.47430047, 0.52569953],\n",
       "       [0.87244018, 0.12755982],\n",
       "       [0.45177073, 0.54822927],\n",
       "       [0.79925928, 0.20074072],\n",
       "       [0.71435919, 0.28564081],\n",
       "       [0.7612992 , 0.2387008 ],\n",
       "       [0.85903944, 0.14096056],\n",
       "       [0.51741506, 0.48258494],\n",
       "       [0.35166582, 0.64833418],\n",
       "       [0.86553922, 0.13446078],\n",
       "       [0.55792385, 0.44207615],\n",
       "       [0.63615429, 0.36384571],\n",
       "       [0.81448262, 0.18551738],\n",
       "       [0.45786007, 0.54213993],\n",
       "       [0.83024228, 0.16975772],\n",
       "       [0.82267598, 0.17732402],\n",
       "       [0.20809303, 0.79190697],\n",
       "       [0.87936287, 0.12063713],\n",
       "       [0.2814817 , 0.7185183 ],\n",
       "       [0.4526897 , 0.5473103 ],\n",
       "       [0.86295871, 0.13704129],\n",
       "       [0.78790321, 0.21209679],\n",
       "       [0.72428917, 0.27571083],\n",
       "       [0.47725218, 0.52274782],\n",
       "       [0.84775167, 0.15224833],\n",
       "       [0.75483384, 0.24516616],\n",
       "       [0.1177316 , 0.8822684 ],\n",
       "       [0.77465752, 0.22534248],\n",
       "       [0.8342829 , 0.1657171 ],\n",
       "       [0.62372283, 0.37627717],\n",
       "       [0.29715369, 0.70284631],\n",
       "       [0.52262972, 0.47737028],\n",
       "       [0.78459192, 0.21540808],\n",
       "       [0.23283215, 0.76716785],\n",
       "       [0.82769364, 0.17230636],\n",
       "       [0.74192621, 0.25807379],\n",
       "       [0.23871104, 0.76128896],\n",
       "       [0.69134555, 0.30865445],\n",
       "       [0.83974935, 0.16025065],\n",
       "       [0.8255974 , 0.1744026 ],\n",
       "       [0.15017586, 0.84982414],\n",
       "       [0.43900148, 0.56099852],\n",
       "       [0.86321357, 0.13678643],\n",
       "       [0.30641401, 0.69358599],\n",
       "       [0.51699182, 0.48300818],\n",
       "       [0.1435797 , 0.8564203 ],\n",
       "       [0.46415103, 0.53584897],\n",
       "       [0.29449666, 0.70550334],\n",
       "       [0.1164534 , 0.8835466 ],\n",
       "       [0.59445436, 0.40554564],\n",
       "       [0.38104444, 0.61895556],\n",
       "       [0.85524959, 0.14475041],\n",
       "       [0.26605889, 0.73394111],\n",
       "       [0.87258542, 0.12741458],\n",
       "       [0.5       , 0.5       ],\n",
       "       [0.82127199, 0.17872801],\n",
       "       [0.83557626, 0.16442374],\n",
       "       [0.76180347, 0.23819653],\n",
       "       [0.7227366 , 0.2772634 ],\n",
       "       [0.80662157, 0.19337843],\n",
       "       [0.25695914, 0.74304086],\n",
       "       [0.48863461, 0.51136539],\n",
       "       [0.89594576, 0.10405424],\n",
       "       [0.48658398, 0.51341602],\n",
       "       [0.17441416, 0.82558584],\n",
       "       [0.73790182, 0.26209818],\n",
       "       [0.17574001, 0.82425999],\n",
       "       [0.67057641, 0.32942359],\n",
       "       [0.80778385, 0.19221615],\n",
       "       [0.47718319, 0.52281681],\n",
       "       [0.08146504, 0.91853496],\n",
       "       [0.20478463, 0.79521537],\n",
       "       [0.83569651, 0.16430349],\n",
       "       [0.81670022, 0.18329978],\n",
       "       [0.09998757, 0.90001243],\n",
       "       [0.84127745, 0.15872255],\n",
       "       [0.65246608, 0.34753392],\n",
       "       [0.41152151, 0.58847849],\n",
       "       [0.63074166, 0.36925834],\n",
       "       [0.58416471, 0.41583529],\n",
       "       [0.63473091, 0.36526909],\n",
       "       [0.71930339, 0.28069661],\n",
       "       [0.86086778, 0.13913222],\n",
       "       [0.44748918, 0.55251082],\n",
       "       [0.79157586, 0.20842414],\n",
       "       [0.90511478, 0.09488522],\n",
       "       [0.87779577, 0.12220423],\n",
       "       [0.37480488, 0.62519512]])"
      ]
     },
     "execution_count": 52,
     "metadata": {},
     "output_type": "execute_result"
    }
   ],
   "source": [
    "prediction_on_real_dataset_adding_extra"
   ]
  },
  {
   "cell_type": "code",
   "execution_count": null,
   "metadata": {
    "collapsed": true
   },
   "outputs": [],
   "source": []
  },
  {
   "cell_type": "code",
   "execution_count": null,
   "metadata": {
    "collapsed": true
   },
   "outputs": [],
   "source": []
  }
 ],
 "metadata": {
  "kernelspec": {
   "display_name": "Python 3",
   "language": "python",
   "name": "python3"
  },
  "language_info": {
   "codemirror_mode": {
    "name": "ipython",
    "version": 3
   },
   "file_extension": ".py",
   "mimetype": "text/x-python",
   "name": "python",
   "nbconvert_exporter": "python",
   "pygments_lexer": "ipython3",
   "version": "3.6.6"
  }
 },
 "nbformat": 4,
 "nbformat_minor": 2
}
