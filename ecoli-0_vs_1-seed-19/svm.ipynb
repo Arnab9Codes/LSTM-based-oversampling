{
 "cells": [
  {
   "cell_type": "code",
   "execution_count": 1,
   "metadata": {
    "collapsed": true
   },
   "outputs": [],
   "source": [
    "import time\n",
    "import math\n",
    "\n",
    "import numpy as np\n",
    "import pandas as pd\n",
    "from pandas import DataFrame\n",
    "from pandas import concat\n",
    "from matplotlib import pyplot\n",
    "\n",
    "from sklearn.preprocessing import MinMaxScaler\n",
    "from sklearn.preprocessing import LabelEncoder\n",
    "from sklearn.metrics import mean_squared_error\n",
    "\n",
    "from sklearn.preprocessing import StandardScaler\n",
    "from sklearn.model_selection import train_test_split\n",
    "from sklearn.model_selection import KFold\n",
    "from sklearn.model_selection import cross_val_score\n",
    "from sklearn.model_selection import GridSearchCV\n",
    "from sklearn.metrics import classification_report\n",
    "from sklearn.metrics import confusion_matrix\n",
    "from sklearn.metrics import accuracy_score\n",
    "from sklearn.metrics import precision_recall_curve\n",
    "\n",
    "from sklearn.pipeline import Pipeline\n",
    "from sklearn.linear_model import LogisticRegression\n",
    "from sklearn.tree import DecisionTreeClassifier\n",
    "from sklearn.neighbors import KNeighborsClassifier\n",
    "from sklearn.discriminant_analysis import LinearDiscriminantAnalysis\n",
    "from sklearn.naive_bayes import GaussianNB\n",
    "from sklearn.svm import SVC\n",
    "from sklearn.ensemble import AdaBoostClassifier\n",
    "from sklearn.ensemble import GradientBoostingClassifier\n",
    "from sklearn.ensemble import RandomForestClassifier\n",
    "from sklearn.ensemble import ExtraTreesClassifier\n",
    "\n",
    "from sklearn.model_selection import GridSearchCV\n",
    "\n",
    "import pickle"
   ]
  },
  {
   "cell_type": "code",
   "execution_count": 2,
   "metadata": {
    "collapsed": true
   },
   "outputs": [],
   "source": [
    "extra_data=pd.read_csv('new_corrected_data-v1-7-24-2019.csv')# loading extra genereated data genereated by LSTM #prediction_of_1_0007.csv\n",
    "original_data=pd.read_csv('train_Data.csv')#original data"
   ]
  },
  {
   "cell_type": "code",
   "execution_count": 3,
   "metadata": {},
   "outputs": [
    {
     "data": {
      "text/html": [
       "<div>\n",
       "<style scoped>\n",
       "    .dataframe tbody tr th:only-of-type {\n",
       "        vertical-align: middle;\n",
       "    }\n",
       "\n",
       "    .dataframe tbody tr th {\n",
       "        vertical-align: top;\n",
       "    }\n",
       "\n",
       "    .dataframe thead th {\n",
       "        text-align: right;\n",
       "    }\n",
       "</style>\n",
       "<table border=\"1\" class=\"dataframe\">\n",
       "  <thead>\n",
       "    <tr style=\"text-align: right;\">\n",
       "      <th></th>\n",
       "      <th>0</th>\n",
       "      <th>1</th>\n",
       "      <th>2</th>\n",
       "      <th>3</th>\n",
       "      <th>4</th>\n",
       "      <th>5</th>\n",
       "      <th>6</th>\n",
       "      <th>7</th>\n",
       "    </tr>\n",
       "  </thead>\n",
       "  <tbody>\n",
       "    <tr>\n",
       "      <th>0</th>\n",
       "      <td>0.598002</td>\n",
       "      <td>0.457883</td>\n",
       "      <td>0.490384</td>\n",
       "      <td>0.499050</td>\n",
       "      <td>0.586562</td>\n",
       "      <td>0.756555</td>\n",
       "      <td>0.809544</td>\n",
       "      <td>0.004867</td>\n",
       "    </tr>\n",
       "    <tr>\n",
       "      <th>1</th>\n",
       "      <td>0.558951</td>\n",
       "      <td>0.537859</td>\n",
       "      <td>0.499129</td>\n",
       "      <td>0.487111</td>\n",
       "      <td>0.564542</td>\n",
       "      <td>0.736694</td>\n",
       "      <td>0.702074</td>\n",
       "      <td>0.026226</td>\n",
       "    </tr>\n",
       "    <tr>\n",
       "      <th>2</th>\n",
       "      <td>0.515619</td>\n",
       "      <td>0.444042</td>\n",
       "      <td>0.492265</td>\n",
       "      <td>0.506917</td>\n",
       "      <td>0.567088</td>\n",
       "      <td>0.777321</td>\n",
       "      <td>0.787234</td>\n",
       "      <td>0.020608</td>\n",
       "    </tr>\n",
       "    <tr>\n",
       "      <th>3</th>\n",
       "      <td>0.582771</td>\n",
       "      <td>0.465194</td>\n",
       "      <td>0.464584</td>\n",
       "      <td>0.522800</td>\n",
       "      <td>0.573742</td>\n",
       "      <td>0.747422</td>\n",
       "      <td>0.790230</td>\n",
       "      <td>-0.014555</td>\n",
       "    </tr>\n",
       "    <tr>\n",
       "      <th>4</th>\n",
       "      <td>0.533497</td>\n",
       "      <td>0.539481</td>\n",
       "      <td>0.463542</td>\n",
       "      <td>0.482720</td>\n",
       "      <td>0.506558</td>\n",
       "      <td>0.744960</td>\n",
       "      <td>0.656253</td>\n",
       "      <td>-0.065056</td>\n",
       "    </tr>\n",
       "  </tbody>\n",
       "</table>\n",
       "</div>"
      ],
      "text/plain": [
       "          0         1         2         3         4         5         6  \\\n",
       "0  0.598002  0.457883  0.490384  0.499050  0.586562  0.756555  0.809544   \n",
       "1  0.558951  0.537859  0.499129  0.487111  0.564542  0.736694  0.702074   \n",
       "2  0.515619  0.444042  0.492265  0.506917  0.567088  0.777321  0.787234   \n",
       "3  0.582771  0.465194  0.464584  0.522800  0.573742  0.747422  0.790230   \n",
       "4  0.533497  0.539481  0.463542  0.482720  0.506558  0.744960  0.656253   \n",
       "\n",
       "          7  \n",
       "0  0.004867  \n",
       "1  0.026226  \n",
       "2  0.020608  \n",
       "3 -0.014555  \n",
       "4 -0.065056  "
      ]
     },
     "execution_count": 3,
     "metadata": {},
     "output_type": "execute_result"
    }
   ],
   "source": [
    "extra_data.head()#displaying LSTM generated data"
   ]
  },
  {
   "cell_type": "code",
   "execution_count": 4,
   "metadata": {},
   "outputs": [
    {
     "name": "stdout",
     "output_type": "stream",
     "text": [
      "(20, 8)\n"
     ]
    }
   ],
   "source": [
    "extra=np.array(extra_data)# getting the original shape\n",
    "print(extra.shape)"
   ]
  },
  {
   "cell_type": "code",
   "execution_count": 5,
   "metadata": {},
   "outputs": [
    {
     "data": {
      "text/plain": [
       "array([0.59800184, 0.45788276, 0.49038416, 0.49904966, 0.5865625 ,\n",
       "       0.7565549 , 0.8095443 , 0.00486689])"
      ]
     },
     "execution_count": 5,
     "metadata": {},
     "output_type": "execute_result"
    }
   ],
   "source": [
    "extra[0] # showing first row vector"
   ]
  },
  {
   "cell_type": "code",
   "execution_count": 6,
   "metadata": {
    "collapsed": true
   },
   "outputs": [],
   "source": [
    "# Setting predictions of all generated data to 1 because their outputs are mostly 0.98, 0.99 etc. \n",
    "for i in range(0,len(extra),1):\n",
    "    extra[i][7]=int(0)"
   ]
  },
  {
   "cell_type": "code",
   "execution_count": 7,
   "metadata": {},
   "outputs": [
    {
     "data": {
      "text/plain": [
       "array([[0.59800184, 0.45788276, 0.49038416, 0.49904966, 0.5865625 ,\n",
       "        0.7565549 , 0.8095443 , 0.        ],\n",
       "       [0.55895096, 0.5378585 , 0.49912938, 0.48711056, 0.56454223,\n",
       "        0.7366945 , 0.7020745 , 0.        ],\n",
       "       [0.5156186 , 0.4440419 , 0.4922645 , 0.50691706, 0.5670879 ,\n",
       "        0.77732104, 0.78723407, 0.        ],\n",
       "       [0.5827706 , 0.4651939 , 0.46458408, 0.5227998 , 0.57374203,\n",
       "        0.74742204, 0.7902301 , 0.        ],\n",
       "       [0.5334965 , 0.5394814 , 0.46354228, 0.48271978, 0.50655776,\n",
       "        0.7449601 , 0.6562533 , 0.        ],\n",
       "       [0.48027188, 0.52334857, 0.47930115, 0.5112459 , 0.53371614,\n",
       "        0.7714329 , 0.695615  , 0.        ],\n",
       "       [0.53538924, 0.44138286, 0.47843897, 0.5040065 , 0.54747117,\n",
       "        0.7732067 , 0.7891837 , 0.        ],\n",
       "       [0.5431051 , 0.50391436, 0.46731484, 0.50579995, 0.5527764 ,\n",
       "        0.75078505, 0.7292066 , 0.        ],\n",
       "       [0.59725   , 0.41025123, 0.4821536 , 0.50653994, 0.602808  ,\n",
       "        0.7731197 , 0.8634603 , 0.        ],\n",
       "       [0.5657001 , 0.5183156 , 0.47309026, 0.5060449 , 0.5231073 ,\n",
       "        0.80176216, 0.79915094, 0.        ],\n",
       "       [0.56977004, 0.51723254, 0.47138694, 0.4934693 , 0.5487343 ,\n",
       "        0.74275035, 0.7313445 , 0.        ],\n",
       "       [0.64212507, 0.43574175, 0.47106317, 0.5011639 , 0.5585657 ,\n",
       "        0.7697659 , 0.82914704, 0.        ],\n",
       "       [0.647172  , 0.3968984 , 0.47036633, 0.5101828 , 0.60296476,\n",
       "        0.72617805, 0.8180153 , 0.        ],\n",
       "       [0.6156211 , 0.48785082, 0.44471768, 0.4909407 , 0.4853781 ,\n",
       "        0.81016403, 0.8162265 , 0.        ],\n",
       "       [0.5789949 , 0.44344938, 0.49851748, 0.49645844, 0.5948926 ,\n",
       "        0.7320394 , 0.76770526, 0.        ],\n",
       "       [0.5617887 , 0.4537874 , 0.50435054, 0.48761123, 0.53953475,\n",
       "        0.7771492 , 0.7755799 , 0.        ],\n",
       "       [0.51947564, 0.49342063, 0.48189637, 0.50112206, 0.58589137,\n",
       "        0.7442777 , 0.74423814, 0.        ],\n",
       "       [0.53642166, 0.4949337 , 0.49128386, 0.4830935 , 0.54924524,\n",
       "        0.7621113 , 0.7466036 , 0.        ],\n",
       "       [0.59094584, 0.44134152, 0.48624945, 0.5096429 , 0.6041443 ,\n",
       "        0.72979015, 0.7742699 , 0.        ],\n",
       "       [0.54557544, 0.5111446 , 0.47018436, 0.49792075, 0.515996  ,\n",
       "        0.7882491 , 0.769502  , 0.        ]])"
      ]
     },
     "execution_count": 7,
     "metadata": {},
     "output_type": "execute_result"
    }
   ],
   "source": [
    "extra #showing LSTM generated extra data ready for training"
   ]
  },
  {
   "cell_type": "code",
   "execution_count": 8,
   "metadata": {},
   "outputs": [
    {
     "data": {
      "text/html": [
       "<div>\n",
       "<style scoped>\n",
       "    .dataframe tbody tr th:only-of-type {\n",
       "        vertical-align: middle;\n",
       "    }\n",
       "\n",
       "    .dataframe tbody tr th {\n",
       "        vertical-align: top;\n",
       "    }\n",
       "\n",
       "    .dataframe thead th {\n",
       "        text-align: right;\n",
       "    }\n",
       "</style>\n",
       "<table border=\"1\" class=\"dataframe\">\n",
       "  <thead>\n",
       "    <tr style=\"text-align: right;\">\n",
       "      <th></th>\n",
       "      <th>0</th>\n",
       "      <th>1</th>\n",
       "      <th>2</th>\n",
       "      <th>3</th>\n",
       "      <th>4</th>\n",
       "      <th>5</th>\n",
       "      <th>6</th>\n",
       "      <th>7</th>\n",
       "    </tr>\n",
       "  </thead>\n",
       "  <tbody>\n",
       "    <tr>\n",
       "      <th>0</th>\n",
       "      <td>0.56</td>\n",
       "      <td>0.40</td>\n",
       "      <td>0.48</td>\n",
       "      <td>0.5</td>\n",
       "      <td>0.49</td>\n",
       "      <td>0.37</td>\n",
       "      <td>0.46</td>\n",
       "      <td>1.0</td>\n",
       "    </tr>\n",
       "    <tr>\n",
       "      <th>1</th>\n",
       "      <td>0.06</td>\n",
       "      <td>0.61</td>\n",
       "      <td>0.48</td>\n",
       "      <td>0.5</td>\n",
       "      <td>0.49</td>\n",
       "      <td>0.92</td>\n",
       "      <td>0.37</td>\n",
       "      <td>0.0</td>\n",
       "    </tr>\n",
       "    <tr>\n",
       "      <th>2</th>\n",
       "      <td>0.49</td>\n",
       "      <td>0.42</td>\n",
       "      <td>0.48</td>\n",
       "      <td>0.5</td>\n",
       "      <td>0.53</td>\n",
       "      <td>0.79</td>\n",
       "      <td>0.81</td>\n",
       "      <td>0.0</td>\n",
       "    </tr>\n",
       "    <tr>\n",
       "      <th>3</th>\n",
       "      <td>0.42</td>\n",
       "      <td>0.38</td>\n",
       "      <td>0.48</td>\n",
       "      <td>0.5</td>\n",
       "      <td>0.54</td>\n",
       "      <td>0.34</td>\n",
       "      <td>0.43</td>\n",
       "      <td>1.0</td>\n",
       "    </tr>\n",
       "    <tr>\n",
       "      <th>4</th>\n",
       "      <td>0.26</td>\n",
       "      <td>0.26</td>\n",
       "      <td>0.48</td>\n",
       "      <td>0.5</td>\n",
       "      <td>0.34</td>\n",
       "      <td>0.25</td>\n",
       "      <td>0.35</td>\n",
       "      <td>1.0</td>\n",
       "    </tr>\n",
       "  </tbody>\n",
       "</table>\n",
       "</div>"
      ],
      "text/plain": [
       "      0     1     2    3     4     5     6    7\n",
       "0  0.56  0.40  0.48  0.5  0.49  0.37  0.46  1.0\n",
       "1  0.06  0.61  0.48  0.5  0.49  0.92  0.37  0.0\n",
       "2  0.49  0.42  0.48  0.5  0.53  0.79  0.81  0.0\n",
       "3  0.42  0.38  0.48  0.5  0.54  0.34  0.43  1.0\n",
       "4  0.26  0.26  0.48  0.5  0.34  0.25  0.35  1.0"
      ]
     },
     "execution_count": 8,
     "metadata": {},
     "output_type": "execute_result"
    }
   ],
   "source": [
    "original_data.head() #showing original data"
   ]
  },
  {
   "cell_type": "code",
   "execution_count": null,
   "metadata": {
    "collapsed": true
   },
   "outputs": [],
   "source": []
  },
  {
   "cell_type": "code",
   "execution_count": 9,
   "metadata": {
    "collapsed": true
   },
   "outputs": [],
   "source": [
    "#loading data values from original dataset(Pima)\n",
    "val=original_data.values"
   ]
  },
  {
   "cell_type": "code",
   "execution_count": 10,
   "metadata": {
    "collapsed": true
   },
   "outputs": [],
   "source": [
    "X=val[:,:7].astype(float)# getting the feature values\n",
    "Y=val[:,7].astype(int)# getting prediction"
   ]
  },
  {
   "cell_type": "code",
   "execution_count": 11,
   "metadata": {
    "collapsed": true
   },
   "outputs": [],
   "source": [
    "#extra_X denotes the extra training data generated by LSTM \n",
    "extra_X=extra[:,:7].astype(float)\n",
    "\n",
    "#extra_Y denotes extra training prediction data for training the algorithm\n",
    "extra_Y=extra[:,7].astype(int)"
   ]
  },
  {
   "cell_type": "code",
   "execution_count": 12,
   "metadata": {
    "collapsed": true
   },
   "outputs": [],
   "source": [
    "# extrain=original training data + LSTM generated training data\n",
    "\n",
    "# eytrain=original training prediction + LSTM generated\n",
    "\n",
    "extrain=np.concatenate((X,extra_X),axis=0)\n",
    "eytrain=np.concatenate((Y,extra_Y),axis=0)"
   ]
  },
  {
   "cell_type": "code",
   "execution_count": 13,
   "metadata": {},
   "outputs": [
    {
     "name": "stdout",
     "output_type": "stream",
     "text": [
      "(174, 7)\n",
      "(174,)\n"
     ]
    }
   ],
   "source": [
    "print(extrain.shape)\n",
    "print(eytrain.shape)"
   ]
  },
  {
   "cell_type": "code",
   "execution_count": 14,
   "metadata": {
    "collapsed": true
   },
   "outputs": [],
   "source": [
    "test_Data=pd.read_csv('test_Data.csv')"
   ]
  },
  {
   "cell_type": "code",
   "execution_count": 15,
   "metadata": {
    "collapsed": true
   },
   "outputs": [],
   "source": [
    "test_Data=np.array(test_Data)"
   ]
  },
  {
   "cell_type": "code",
   "execution_count": 16,
   "metadata": {},
   "outputs": [
    {
     "data": {
      "text/plain": [
       "(66, 8)"
      ]
     },
     "execution_count": 16,
     "metadata": {},
     "output_type": "execute_result"
    }
   ],
   "source": [
    "test_Data.shape"
   ]
  },
  {
   "cell_type": "code",
   "execution_count": 17,
   "metadata": {
    "collapsed": true
   },
   "outputs": [],
   "source": [
    "X_test=test_Data[:,:7].astype(float)\n",
    "Y_test=test_Data[:,7].astype(int)"
   ]
  },
  {
   "cell_type": "code",
   "execution_count": null,
   "metadata": {
    "collapsed": true
   },
   "outputs": [],
   "source": []
  },
  {
   "cell_type": "code",
   "execution_count": 18,
   "metadata": {
    "collapsed": true
   },
   "outputs": [],
   "source": [
    "def svc_param_selection(X, y, nfolds):\n",
    "    Cs = [0.0001,0.001, 0.01, 0.1, 1, 10]\n",
    "    gammas = [0.0001,0.001, 0.01, 0.1, 1,10]\n",
    "    param_grid = {'C': Cs, 'gamma' : gammas}\n",
    "    grid_search = GridSearchCV(SVC(kernel='rbf',probability=True), param_grid, cv=nfolds)\n",
    "    grid_search.fit(X, y)\n",
    "    grid_search.best_params_\n",
    "    return grid_search.best_estimator_"
   ]
  },
  {
   "cell_type": "code",
   "execution_count": 19,
   "metadata": {
    "collapsed": true
   },
   "outputs": [],
   "source": [
    "# setting seed =7 to produce same results over and over again, it was maintained during different experiments \n",
    "seed=19\n"
   ]
  },
  {
   "cell_type": "code",
   "execution_count": 20,
   "metadata": {
    "collapsed": true
   },
   "outputs": [],
   "source": [
    "# first rbf_svc for training on just the original training data\n",
    "#rbf_svc = SVC(kernel='rbf', gamma=0.00001, C=1000,probability=True).fit(X_train,Y_train)\n",
    "rbf_svc=svc_param_selection(X,Y,5)\n",
    "\n",
    "# secondly rbf_svc_extra for training on original+LSTM\n",
    "rbf_svc_extra = svc_param_selection(extrain,eytrain,5)"
   ]
  },
  {
   "cell_type": "code",
   "execution_count": 21,
   "metadata": {},
   "outputs": [
    {
     "data": {
      "text/plain": [
       "SVC(C=1, cache_size=200, class_weight=None, coef0=0.0,\n",
       "    decision_function_shape='ovr', degree=3, gamma=10, kernel='rbf',\n",
       "    max_iter=-1, probability=True, random_state=None, shrinking=True, tol=0.001,\n",
       "    verbose=False)"
      ]
     },
     "execution_count": 21,
     "metadata": {},
     "output_type": "execute_result"
    }
   ],
   "source": [
    "\n",
    "# fitting the data\n",
    "rbf_svc.fit(X,Y)\n",
    "rbf_svc_extra.fit(extrain,eytrain)"
   ]
  },
  {
   "cell_type": "code",
   "execution_count": 22,
   "metadata": {},
   "outputs": [
    {
     "data": {
      "text/plain": [
       "(66, 7)"
      ]
     },
     "execution_count": 22,
     "metadata": {},
     "output_type": "execute_result"
    }
   ],
   "source": [
    "# loading the validation dataset previously set up by validation split(this data was not included in any training procedure)\n",
    "Prediction_data=X_test\n",
    "\n",
    "#producing the shape\n",
    "Prediction_data.shape"
   ]
  },
  {
   "cell_type": "code",
   "execution_count": 23,
   "metadata": {
    "collapsed": true
   },
   "outputs": [],
   "source": [
    "# making predictions on validation dataset using svc trained only on original training data\n",
    "prediction_on_real_dataset=rbf_svc.predict_proba(Prediction_data)\n",
    "\n",
    "#saving probabilities\n",
    "predictions=rbf_svc.predict(Prediction_data)\n",
    "\n",
    "# making predictions on validation dataset using svc trained on original training data + LSTM generated data\n",
    "prediction_on_real_dataset_adding_extra=rbf_svc_extra.predict_proba(Prediction_data)\n",
    "#saving probabilities\n",
    "predictions_extra=rbf_svc_extra.predict(Prediction_data)"
   ]
  },
  {
   "cell_type": "code",
   "execution_count": 24,
   "metadata": {},
   "outputs": [
    {
     "name": "stdout",
     "output_type": "stream",
     "text": [
      "66\n",
      "66\n"
     ]
    }
   ],
   "source": [
    "print(len(prediction_on_real_dataset))\n",
    "\n",
    "print(len(prediction_on_real_dataset_adding_extra))"
   ]
  },
  {
   "cell_type": "code",
   "execution_count": 25,
   "metadata": {
    "collapsed": true
   },
   "outputs": [],
   "source": [
    "from sklearn.metrics import f1_score\n",
    "from sklearn.metrics import auc\n",
    "from sklearn.metrics import average_precision_score\n",
    "\n",
    "from sklearn.metrics import roc_curve, roc_auc_score"
   ]
  },
  {
   "cell_type": "code",
   "execution_count": 26,
   "metadata": {},
   "outputs": [
    {
     "data": {
      "text/plain": [
       "0.9772727272727273"
      ]
     },
     "execution_count": 26,
     "metadata": {},
     "output_type": "execute_result"
    }
   ],
   "source": [
    "f1_score(Y_test,predictions)#without_extra"
   ]
  },
  {
   "cell_type": "code",
   "execution_count": 27,
   "metadata": {},
   "outputs": [
    {
     "data": {
      "text/plain": [
       "0.9772727272727273"
      ]
     },
     "execution_count": 27,
     "metadata": {},
     "output_type": "execute_result"
    }
   ],
   "source": [
    "f1_score(Y_test,predictions_extra)#with_extra"
   ]
  },
  {
   "cell_type": "code",
   "execution_count": 28,
   "metadata": {},
   "outputs": [
    {
     "data": {
      "text/plain": [
       "array([0.00374873, 0.99625127])"
      ]
     },
     "execution_count": 28,
     "metadata": {},
     "output_type": "execute_result"
    }
   ],
   "source": [
    "prediction_on_real_dataset[0]# probabilities of 2 class"
   ]
  },
  {
   "cell_type": "code",
   "execution_count": 29,
   "metadata": {},
   "outputs": [
    {
     "name": "stdout",
     "output_type": "stream",
     "text": [
      "Without extra:  0.020222446916076848\n",
      "With extra:  0.020222446916076848\n"
     ]
    }
   ],
   "source": [
    "# getting AUC score for classifier trained on only original data\n",
    "fpr, tpr, thres=roc_curve(Y_test,prediction_on_real_dataset[:,1],pos_label=0)\n",
    "\n",
    "#getting AUC score for classifier trained on original + LSTM generated data\n",
    "efpr, etpr, ethres=roc_curve(Y_test,prediction_on_real_dataset_adding_extra[:,1],pos_label=0)\n",
    "\n",
    "with_=auc(fpr,tpr)\n",
    "without_=auc(efpr,etpr)\n",
    "print('Without extra: ',auc(fpr,tpr))\n",
    "\n",
    "print('With extra: ',auc(efpr,etpr))"
   ]
  },
  {
   "cell_type": "code",
   "execution_count": 30,
   "metadata": {},
   "outputs": [
    {
     "data": {
      "image/png": "[encoded data removed]",
      "text/plain": [
       "<matplotlib.figure.Figure at 0x180de699b0>"
      ]
     },
     "metadata": {},
     "output_type": "display_data"
    }
   ],
   "source": [
    "# plotting data ( for minority predictions , here minority class = 0)\n",
    "\n",
    "Y_probs=prediction_on_real_dataset[:,0]\n",
    "fpr,tpr,_=roc_curve(Y_test,Y_probs)\n",
    "\n",
    "Y_probs_extra=prediction_on_real_dataset_adding_extra[:,0]\n",
    "efpr,etpr,_=roc_curve(Y_test,Y_probs_extra)\n",
    "\n",
    "original=auc(fpr,tpr)\n",
    "lstm_with_extra=auc(efpr,etpr)\n",
    "\n",
    "original=original.astype(float)\n",
    "lstm_with_extra=lstm_with_extra.astype(float)\n",
    "\n",
    "\n",
    "pyplot.clf()\n",
    "pyplot.plot(fpr, tpr,label='original (AUC : %5.4f)'%(with_),linewidth='1.2')\n",
    "pyplot.plot(efpr,etpr,label='LSTM generated+original(AUC : %5.4f)'%(without_),linewidth='1.2')\n",
    "pyplot.xlabel('FPR')\n",
    "pyplot.ylabel('TPR')\n",
    "pyplot.title('ROC curve -dataset')\n",
    "pyplot.legend(loc=4)\n",
    "pyplot.savefig('ROC curve .png',dpi=500)\n",
    "pyplot.show()"
   ]
  },
  {
   "cell_type": "code",
   "execution_count": 31,
   "metadata": {},
   "outputs": [
    {
     "data": {
      "image/png": "[encoded data removed]",
      "text/plain": [
       "<matplotlib.figure.Figure at 0x180de69978>"
      ]
     },
     "metadata": {},
     "output_type": "display_data"
    }
   ],
   "source": [
    "Y_probs=prediction_on_real_dataset[:,0]\n",
    "fpr,tpr,_=roc_curve(Y_test,Y_probs)\n",
    "\n",
    "Y_probs_extra=prediction_on_real_dataset_adding_extra[:,0]\n",
    "efpr,etpr,_=roc_curve(Y_test,Y_probs_extra)\n",
    "\n",
    "pyplot.clf()\n",
    "pyplot.plot(fpr, tpr,label='original')\n",
    "pyplot.plot(efpr,etpr,label='LSTM generated')\n",
    "pyplot.xlabel('FPR')\n",
    "pyplot.ylabel('TPR(recall)')\n",
    "pyplot.title('ROC curve - dataset')\n",
    "pyplot.legend(loc=2)\n",
    "pyplot.show()"
   ]
  },
  {
   "cell_type": "code",
   "execution_count": null,
   "metadata": {
    "collapsed": true
   },
   "outputs": [],
   "source": []
  },
  {
   "cell_type": "code",
   "execution_count": null,
   "metadata": {
    "collapsed": true
   },
   "outputs": [],
   "source": []
  }
 ],
 "metadata": {
  "kernelspec": {
   "display_name": "Python 3",
   "language": "python",
   "name": "python3"
  },
  "language_info": {
   "codemirror_mode": {
    "name": "ipython",
    "version": 3
   },
   "file_extension": ".py",
   "mimetype": "text/x-python",
   "name": "python",
   "nbconvert_exporter": "python",
   "pygments_lexer": "ipython3",
   "version": "3.6.6"
  }
 },
 "nbformat": 4,
 "nbformat_minor": 2
}
