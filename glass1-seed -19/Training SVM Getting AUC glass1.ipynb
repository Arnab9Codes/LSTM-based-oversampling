{
 "cells": [
  {
   "cell_type": "code",
   "execution_count": 1,
   "metadata": {
    "collapsed": true
   },
   "outputs": [],
   "source": [
    "import time\n",
    "import math\n",
    "\n",
    "import numpy as np\n",
    "import pandas as pd\n",
    "from pandas import DataFrame\n",
    "from pandas import concat\n",
    "from matplotlib import pyplot\n",
    "\n",
    "from sklearn.preprocessing import MinMaxScaler\n",
    "from sklearn.preprocessing import LabelEncoder\n",
    "from sklearn.metrics import mean_squared_error\n",
    "\n",
    "from sklearn.preprocessing import StandardScaler\n",
    "from sklearn.model_selection import train_test_split\n",
    "from sklearn.model_selection import KFold\n",
    "from sklearn.model_selection import cross_val_score\n",
    "from sklearn.model_selection import GridSearchCV\n",
    "from sklearn.metrics import classification_report\n",
    "from sklearn.metrics import confusion_matrix\n",
    "from sklearn.metrics import accuracy_score\n",
    "from sklearn.metrics import precision_recall_curve\n",
    "\n",
    "from sklearn.pipeline import Pipeline\n",
    "from sklearn.linear_model import LogisticRegression\n",
    "from sklearn.tree import DecisionTreeClassifier\n",
    "from sklearn.neighbors import KNeighborsClassifier\n",
    "from sklearn.discriminant_analysis import LinearDiscriminantAnalysis\n",
    "from sklearn.naive_bayes import GaussianNB\n",
    "from sklearn.svm import SVC\n",
    "from sklearn.ensemble import AdaBoostClassifier\n",
    "from sklearn.ensemble import GradientBoostingClassifier\n",
    "from sklearn.ensemble import RandomForestClassifier\n",
    "from sklearn.ensemble import ExtraTreesClassifier\n",
    "\n",
    "from sklearn.model_selection import GridSearchCV\n",
    "\n",
    "import pickle"
   ]
  },
  {
   "cell_type": "code",
   "execution_count": 2,
   "metadata": {
    "collapsed": true
   },
   "outputs": [],
   "source": [
    "extra_data=pd.read_csv('new_corrected_data-v1-7-24-2019.csv')# loading extra genereated data genereated by LSTM #prediction_of_1_0007.csv\n",
    "original_data=pd.read_csv('train_Data.csv')#original data"
   ]
  },
  {
   "cell_type": "code",
   "execution_count": 3,
   "metadata": {},
   "outputs": [
    {
     "data": {
      "text/html": [
       "<div>\n",
       "<style scoped>\n",
       "    .dataframe tbody tr th:only-of-type {\n",
       "        vertical-align: middle;\n",
       "    }\n",
       "\n",
       "    .dataframe tbody tr th {\n",
       "        vertical-align: top;\n",
       "    }\n",
       "\n",
       "    .dataframe thead th {\n",
       "        text-align: right;\n",
       "    }\n",
       "</style>\n",
       "<table border=\"1\" class=\"dataframe\">\n",
       "  <thead>\n",
       "    <tr style=\"text-align: right;\">\n",
       "      <th></th>\n",
       "      <th>0</th>\n",
       "      <th>1</th>\n",
       "      <th>2</th>\n",
       "      <th>3</th>\n",
       "      <th>4</th>\n",
       "      <th>5</th>\n",
       "      <th>6</th>\n",
       "      <th>7</th>\n",
       "      <th>8</th>\n",
       "      <th>9</th>\n",
       "    </tr>\n",
       "  </thead>\n",
       "  <tbody>\n",
       "    <tr>\n",
       "      <th>0</th>\n",
       "      <td>1.518602</td>\n",
       "      <td>13.155336</td>\n",
       "      <td>2.811206</td>\n",
       "      <td>1.393556</td>\n",
       "      <td>72.903750</td>\n",
       "      <td>0.457054</td>\n",
       "      <td>9.189036</td>\n",
       "      <td>-0.015931</td>\n",
       "      <td>0.025359</td>\n",
       "      <td>0.998580</td>\n",
       "    </tr>\n",
       "    <tr>\n",
       "      <th>1</th>\n",
       "      <td>1.519478</td>\n",
       "      <td>13.020131</td>\n",
       "      <td>2.962160</td>\n",
       "      <td>1.159556</td>\n",
       "      <td>72.319640</td>\n",
       "      <td>0.407246</td>\n",
       "      <td>9.751610</td>\n",
       "      <td>-0.005610</td>\n",
       "      <td>0.055463</td>\n",
       "      <td>0.969583</td>\n",
       "    </tr>\n",
       "    <tr>\n",
       "      <th>2</th>\n",
       "      <td>1.518716</td>\n",
       "      <td>12.987177</td>\n",
       "      <td>2.583951</td>\n",
       "      <td>1.133432</td>\n",
       "      <td>72.323235</td>\n",
       "      <td>0.340042</td>\n",
       "      <td>9.559259</td>\n",
       "      <td>-0.015356</td>\n",
       "      <td>0.039221</td>\n",
       "      <td>0.987395</td>\n",
       "    </tr>\n",
       "    <tr>\n",
       "      <th>3</th>\n",
       "      <td>1.518476</td>\n",
       "      <td>13.102087</td>\n",
       "      <td>2.802741</td>\n",
       "      <td>1.329580</td>\n",
       "      <td>72.694440</td>\n",
       "      <td>0.427480</td>\n",
       "      <td>9.484374</td>\n",
       "      <td>-0.010212</td>\n",
       "      <td>0.049317</td>\n",
       "      <td>0.998066</td>\n",
       "    </tr>\n",
       "    <tr>\n",
       "      <th>4</th>\n",
       "      <td>1.518654</td>\n",
       "      <td>13.040389</td>\n",
       "      <td>2.753221</td>\n",
       "      <td>1.360031</td>\n",
       "      <td>72.820440</td>\n",
       "      <td>0.464877</td>\n",
       "      <td>9.159261</td>\n",
       "      <td>-0.010984</td>\n",
       "      <td>0.015531</td>\n",
       "      <td>0.992901</td>\n",
       "    </tr>\n",
       "  </tbody>\n",
       "</table>\n",
       "</div>"
      ],
      "text/plain": [
       "          0          1         2         3          4         5         6  \\\n",
       "0  1.518602  13.155336  2.811206  1.393556  72.903750  0.457054  9.189036   \n",
       "1  1.519478  13.020131  2.962160  1.159556  72.319640  0.407246  9.751610   \n",
       "2  1.518716  12.987177  2.583951  1.133432  72.323235  0.340042  9.559259   \n",
       "3  1.518476  13.102087  2.802741  1.329580  72.694440  0.427480  9.484374   \n",
       "4  1.518654  13.040389  2.753221  1.360031  72.820440  0.464877  9.159261   \n",
       "\n",
       "          7         8         9  \n",
       "0 -0.015931  0.025359  0.998580  \n",
       "1 -0.005610  0.055463  0.969583  \n",
       "2 -0.015356  0.039221  0.987395  \n",
       "3 -0.010212  0.049317  0.998066  \n",
       "4 -0.010984  0.015531  0.992901  "
      ]
     },
     "execution_count": 3,
     "metadata": {},
     "output_type": "execute_result"
    }
   ],
   "source": [
    "extra_data.head()#displaying LSTM generated data"
   ]
  },
  {
   "cell_type": "code",
   "execution_count": 4,
   "metadata": {},
   "outputs": [
    {
     "name": "stdout",
     "output_type": "stream",
     "text": [
      "(22, 10)\n"
     ]
    }
   ],
   "source": [
    "extra=np.array(extra_data)# getting the original shape\n",
    "print(extra.shape)"
   ]
  },
  {
   "cell_type": "code",
   "execution_count": 5,
   "metadata": {},
   "outputs": [
    {
     "data": {
      "text/plain": [
       "array([ 1.5186020e+00,  1.3155336e+01,  2.8112060e+00,  1.3935559e+00,\n",
       "        7.2903750e+01,  4.5705440e-01,  9.1890360e+00, -1.5931072e-02,\n",
       "        2.5359003e-02,  9.9858020e-01])"
      ]
     },
     "execution_count": 5,
     "metadata": {},
     "output_type": "execute_result"
    }
   ],
   "source": [
    "extra[0] # showing first row vector"
   ]
  },
  {
   "cell_type": "code",
   "execution_count": 6,
   "metadata": {
    "collapsed": true
   },
   "outputs": [],
   "source": [
    "# Setting predictions of all generated data to 1 because their outputs are mostly 0.98, 0.99 etc. \n",
    "for i in range(0,len(extra),1):\n",
    "    extra[i][9]=int(1)"
   ]
  },
  {
   "cell_type": "code",
   "execution_count": 7,
   "metadata": {},
   "outputs": [
    {
     "data": {
      "text/plain": [
       "array([[ 1.51860200e+00,  1.31553360e+01,  2.81120600e+00,\n",
       "         1.39355590e+00,  7.29037500e+01,  4.57054400e-01,\n",
       "         9.18903600e+00, -1.59310720e-02,  2.53590030e-02,\n",
       "         1.00000000e+00],\n",
       "       [ 1.51947760e+00,  1.30201310e+01,  2.96216000e+00,\n",
       "         1.15955580e+00,  7.23196400e+01,  4.07246400e-01,\n",
       "         9.75161000e+00, -5.60959430e-03,  5.54626200e-02,\n",
       "         1.00000000e+00],\n",
       "       [ 1.51871630e+00,  1.29871770e+01,  2.58395120e+00,\n",
       "         1.13343230e+00,  7.23232350e+01,  3.40042260e-01,\n",
       "         9.55925900e+00, -1.53560480e-02,  3.92209300e-02,\n",
       "         1.00000000e+00],\n",
       "       [ 1.51847640e+00,  1.31020870e+01,  2.80274100e+00,\n",
       "         1.32957980e+00,  7.26944400e+01,  4.27480100e-01,\n",
       "         9.48437400e+00, -1.02115000e-02,  4.93174700e-02,\n",
       "         1.00000000e+00],\n",
       "       [ 1.51865400e+00,  1.30403890e+01,  2.75322150e+00,\n",
       "         1.36003140e+00,  7.28204400e+01,  4.64876680e-01,\n",
       "         9.15926100e+00, -1.09841590e-02,  1.55305730e-02,\n",
       "         1.00000000e+00],\n",
       "       [ 1.51868800e+00,  1.31649200e+01,  2.87889600e+00,\n",
       "         1.37196900e+00,  7.27907500e+01,  4.54045300e-01,\n",
       "         9.12324900e+00, -1.09965510e-02,  3.71679850e-02,\n",
       "         1.00000000e+00],\n",
       "       [ 1.51931490e+00,  1.33226530e+01,  3.04076050e+00,\n",
       "         1.29700090e+00,  7.26518900e+01,  4.44470500e-01,\n",
       "         9.11422900e+00, -1.21101760e-03,  5.65451720e-02,\n",
       "         1.00000000e+00],\n",
       "       [ 1.51890100e+00,  1.32225240e+01,  2.94769070e+00,\n",
       "         1.30854080e+00,  7.24862600e+01,  4.54896570e-01,\n",
       "         9.19836900e+00,  3.94435650e-03,  4.07623100e-02,\n",
       "         1.00000000e+00],\n",
       "       [ 1.51876970e+00,  1.32310100e+01,  2.78258250e+00,\n",
       "         1.37754060e+00,  7.28162100e+01,  4.53641030e-01,\n",
       "         9.14685250e+00, -8.49432200e-03,  3.70499340e-02,\n",
       "         1.00000000e+00],\n",
       "       [ 1.51811060e+00,  1.29846690e+01,  2.67268250e+00,\n",
       "         1.35757960e+00,  7.26173250e+01,  4.41144700e-01,\n",
       "         9.47141000e+00, -4.67147350e-03,  5.61823920e-02,\n",
       "         1.00000000e+00],\n",
       "       [ 1.51837550e+00,  1.32955010e+01,  2.81711960e+00,\n",
       "         1.32509980e+00,  7.24076600e+01,  4.37200580e-01,\n",
       "         9.21200700e+00,  1.82390850e-03,  4.80265320e-02,\n",
       "         1.00000000e+00],\n",
       "       [ 1.51865070e+00,  1.30891810e+01,  2.84506270e+00,\n",
       "         1.35238910e+00,  7.26839400e+01,  4.64021470e-01,\n",
       "         9.28520800e+00, -1.04894100e-02,  2.89223980e-02,\n",
       "         1.00000000e+00],\n",
       "       [ 1.51849100e+00,  1.30098470e+01,  2.82255360e+00,\n",
       "         1.39069970e+00,  7.28948400e+01,  4.65509770e-01,\n",
       "         9.30112000e+00, -2.28280460e-02,  8.48480800e-03,\n",
       "         1.00000000e+00],\n",
       "       [ 1.51864000e+00,  1.30039630e+01,  2.68877100e+00,\n",
       "         1.25538460e+00,  7.24272160e+01,  4.23709060e-01,\n",
       "         9.19322700e+00, -4.01669800e-03,  7.60508000e-03,\n",
       "         1.00000000e+00],\n",
       "       [ 1.52039780e+00,  1.32255170e+01,  3.25732300e+00,\n",
       "         1.04880760e+00,  7.20049200e+01,  3.80152430e-01,\n",
       "         9.78765500e+00,  5.65490400e-03,  7.04989950e-02,\n",
       "         1.00000000e+00],\n",
       "       [ 1.51894650e+00,  1.29518760e+01,  2.80871730e+00,\n",
       "         1.28550000e+00,  7.24488100e+01,  4.60272300e-01,\n",
       "         9.31618200e+00,  1.81511510e-03, -1.10442630e-03,\n",
       "         1.00000000e+00],\n",
       "       [ 1.51925990e+00,  1.29216530e+01,  2.77637930e+00,\n",
       "         1.11965900e+00,  7.23479200e+01,  3.79919200e-01,\n",
       "         9.72246500e+00, -1.29331695e-02,  2.81897630e-02,\n",
       "         1.00000000e+00],\n",
       "       [ 1.51878580e+00,  1.31175020e+01,  2.82994200e+00,\n",
       "         1.30364320e+00,  7.26126250e+01,  4.52552970e-01,\n",
       "         9.19865300e+00,  2.72644500e-03,  2.95757320e-02,\n",
       "         1.00000000e+00],\n",
       "       [ 1.51851100e+00,  1.28390990e+01,  2.87274720e+00,\n",
       "         1.28083340e+00,  7.25440300e+01,  4.38985140e-01,\n",
       "         9.67225500e+00, -1.08495590e-02,  4.27413020e-02,\n",
       "         1.00000000e+00],\n",
       "       [ 1.51932330e+00,  1.31550430e+01,  2.89352770e+00,\n",
       "         1.28276240e+00,  7.25435940e+01,  4.57768350e-01,\n",
       "         9.19563300e+00,  7.80935300e-03,  2.47078560e-02,\n",
       "         1.00000000e+00],\n",
       "       [ 1.51804630e+00,  1.31546150e+01,  2.64903000e+00,\n",
       "         1.37773910e+00,  7.27191800e+01,  4.20966900e-01,\n",
       "         9.03131400e+00, -8.36115800e-03,  3.50854140e-02,\n",
       "         1.00000000e+00],\n",
       "       [ 1.51940250e+00,  1.33789490e+01,  2.99661830e+00,\n",
       "         1.31120030e+00,  7.26147800e+01,  4.46747600e-01,\n",
       "         9.10673800e+00, -2.43897550e-03,  5.37503000e-02,\n",
       "         1.00000000e+00]])"
      ]
     },
     "execution_count": 7,
     "metadata": {},
     "output_type": "execute_result"
    }
   ],
   "source": [
    "extra #showing LSTM generated extra data ready for training"
   ]
  },
  {
   "cell_type": "code",
   "execution_count": 8,
   "metadata": {},
   "outputs": [
    {
     "data": {
      "text/html": [
       "<div>\n",
       "<style scoped>\n",
       "    .dataframe tbody tr th:only-of-type {\n",
       "        vertical-align: middle;\n",
       "    }\n",
       "\n",
       "    .dataframe tbody tr th {\n",
       "        vertical-align: top;\n",
       "    }\n",
       "\n",
       "    .dataframe thead th {\n",
       "        text-align: right;\n",
       "    }\n",
       "</style>\n",
       "<table border=\"1\" class=\"dataframe\">\n",
       "  <thead>\n",
       "    <tr style=\"text-align: right;\">\n",
       "      <th></th>\n",
       "      <th>0</th>\n",
       "      <th>1</th>\n",
       "      <th>2</th>\n",
       "      <th>3</th>\n",
       "      <th>4</th>\n",
       "      <th>5</th>\n",
       "      <th>6</th>\n",
       "      <th>7</th>\n",
       "      <th>8</th>\n",
       "      <th>9</th>\n",
       "    </tr>\n",
       "  </thead>\n",
       "  <tbody>\n",
       "    <tr>\n",
       "      <th>0</th>\n",
       "      <td>1.524750</td>\n",
       "      <td>11.44820</td>\n",
       "      <td>0.00000</td>\n",
       "      <td>1.87895</td>\n",
       "      <td>72.1900</td>\n",
       "      <td>0.80730</td>\n",
       "      <td>13.24176</td>\n",
       "      <td>0.0000</td>\n",
       "      <td>0.1734</td>\n",
       "      <td>1</td>\n",
       "    </tr>\n",
       "    <tr>\n",
       "      <th>1</th>\n",
       "      <td>1.517096</td>\n",
       "      <td>12.99765</td>\n",
       "      <td>3.47077</td>\n",
       "      <td>1.78907</td>\n",
       "      <td>72.7220</td>\n",
       "      <td>0.65826</td>\n",
       "      <td>8.18456</td>\n",
       "      <td>0.0000</td>\n",
       "      <td>0.0000</td>\n",
       "      <td>1</td>\n",
       "    </tr>\n",
       "    <tr>\n",
       "      <th>2</th>\n",
       "      <td>1.516048</td>\n",
       "      <td>12.89790</td>\n",
       "      <td>3.43934</td>\n",
       "      <td>1.44881</td>\n",
       "      <td>73.5800</td>\n",
       "      <td>0.44091</td>\n",
       "      <td>8.27064</td>\n",
       "      <td>0.0000</td>\n",
       "      <td>0.0000</td>\n",
       "      <td>1</td>\n",
       "    </tr>\n",
       "    <tr>\n",
       "      <th>3</th>\n",
       "      <td>1.515137</td>\n",
       "      <td>14.85300</td>\n",
       "      <td>0.00000</td>\n",
       "      <td>2.42144</td>\n",
       "      <td>73.7188</td>\n",
       "      <td>0.00000</td>\n",
       "      <td>8.38900</td>\n",
       "      <td>0.5607</td>\n",
       "      <td>0.0000</td>\n",
       "      <td>0</td>\n",
       "    </tr>\n",
       "    <tr>\n",
       "      <th>4</th>\n",
       "      <td>1.515706</td>\n",
       "      <td>12.71835</td>\n",
       "      <td>3.46179</td>\n",
       "      <td>1.56116</td>\n",
       "      <td>73.1980</td>\n",
       "      <td>0.67068</td>\n",
       "      <td>8.08772</td>\n",
       "      <td>0.0000</td>\n",
       "      <td>0.1224</td>\n",
       "      <td>0</td>\n",
       "    </tr>\n",
       "  </tbody>\n",
       "</table>\n",
       "</div>"
      ],
      "text/plain": [
       "          0         1        2        3        4        5         6       7  \\\n",
       "0  1.524750  11.44820  0.00000  1.87895  72.1900  0.80730  13.24176  0.0000   \n",
       "1  1.517096  12.99765  3.47077  1.78907  72.7220  0.65826   8.18456  0.0000   \n",
       "2  1.516048  12.89790  3.43934  1.44881  73.5800  0.44091   8.27064  0.0000   \n",
       "3  1.515137  14.85300  0.00000  2.42144  73.7188  0.00000   8.38900  0.5607   \n",
       "4  1.515706  12.71835  3.46179  1.56116  73.1980  0.67068   8.08772  0.0000   \n",
       "\n",
       "        8  9  \n",
       "0  0.1734  1  \n",
       "1  0.0000  1  \n",
       "2  0.0000  1  \n",
       "3  0.0000  0  \n",
       "4  0.1224  0  "
      ]
     },
     "execution_count": 8,
     "metadata": {},
     "output_type": "execute_result"
    }
   ],
   "source": [
    "original_data.head() #showing original data"
   ]
  },
  {
   "cell_type": "code",
   "execution_count": null,
   "metadata": {
    "collapsed": true
   },
   "outputs": [],
   "source": []
  },
  {
   "cell_type": "code",
   "execution_count": 9,
   "metadata": {
    "collapsed": true
   },
   "outputs": [],
   "source": [
    "#loading data values from original dataset(Pima)\n",
    "val=original_data.values"
   ]
  },
  {
   "cell_type": "code",
   "execution_count": 10,
   "metadata": {
    "collapsed": true
   },
   "outputs": [],
   "source": [
    "X=val[:,:9].astype(float)# getting the feature values\n",
    "Y=val[:,9].astype(int)# getting prediction"
   ]
  },
  {
   "cell_type": "code",
   "execution_count": 11,
   "metadata": {
    "collapsed": true
   },
   "outputs": [],
   "source": [
    "#extra_X denotes the extra training data generated by LSTM \n",
    "extra_X=extra[:,:9].astype(float)\n",
    "\n",
    "#extra_Y denotes extra training prediction data for training the algorithm\n",
    "extra_Y=extra[:,9].astype(int)"
   ]
  },
  {
   "cell_type": "code",
   "execution_count": 12,
   "metadata": {
    "collapsed": true
   },
   "outputs": [],
   "source": [
    "# extrain=original training data + LSTM generated training data\n",
    "\n",
    "# eytrain=original training prediction + LSTM generated\n",
    "\n",
    "extrain=np.concatenate((X,extra_X),axis=0)\n",
    "eytrain=np.concatenate((Y,extra_Y),axis=0)"
   ]
  },
  {
   "cell_type": "code",
   "execution_count": 13,
   "metadata": {},
   "outputs": [
    {
     "name": "stdout",
     "output_type": "stream",
     "text": [
      "(171, 9)\n",
      "(171,)\n"
     ]
    }
   ],
   "source": [
    "print(extrain.shape)\n",
    "print(eytrain.shape)"
   ]
  },
  {
   "cell_type": "code",
   "execution_count": 14,
   "metadata": {
    "collapsed": true
   },
   "outputs": [],
   "source": [
    "test_Data=pd.read_csv('test_Data.csv')"
   ]
  },
  {
   "cell_type": "code",
   "execution_count": 15,
   "metadata": {
    "collapsed": true
   },
   "outputs": [],
   "source": [
    "test_Data=np.array(test_Data)"
   ]
  },
  {
   "cell_type": "code",
   "execution_count": 16,
   "metadata": {},
   "outputs": [
    {
     "data": {
      "text/plain": [
       "(65, 10)"
      ]
     },
     "execution_count": 16,
     "metadata": {},
     "output_type": "execute_result"
    }
   ],
   "source": [
    "test_Data.shape"
   ]
  },
  {
   "cell_type": "code",
   "execution_count": 17,
   "metadata": {
    "collapsed": true
   },
   "outputs": [],
   "source": [
    "X_test=test_Data[:,:9].astype(float)\n",
    "Y_test=test_Data[:,9].astype(int)"
   ]
  },
  {
   "cell_type": "code",
   "execution_count": null,
   "metadata": {
    "collapsed": true
   },
   "outputs": [],
   "source": []
  },
  {
   "cell_type": "code",
   "execution_count": 18,
   "metadata": {
    "collapsed": true
   },
   "outputs": [],
   "source": [
    "def svc_param_selection(X, y, nfolds):\n",
    "    Cs = [0.0001,0.001, 0.01, 0.1, 1, 10,100,1000]\n",
    "    gammas = [0.0001,0.001, 0.01, 0.1, 1,10]\n",
    "    param_grid = {'C': Cs, 'gamma' : gammas}\n",
    "    grid_search = GridSearchCV(SVC(kernel='rbf',probability=True),param_grid, cv=nfolds)\n",
    "    grid_search.fit(X, y)\n",
    "    grid_search.best_params_\n",
    "    return grid_search.best_estimator_"
   ]
  },
  {
   "cell_type": "code",
   "execution_count": 19,
   "metadata": {
    "collapsed": true
   },
   "outputs": [],
   "source": [
    "# setting seed =7 to produce same results over and over again, it was maintained during different experiments \n",
    "seed=19\n"
   ]
  },
  {
   "cell_type": "code",
   "execution_count": 20,
   "metadata": {},
   "outputs": [
    {
     "name": "stderr",
     "output_type": "stream",
     "text": [
      "G:\\newage2\\envs\\tensorflow\\lib\\site-packages\\sklearn\\model_selection\\_search.py:813: DeprecationWarning: The default of the `iid` parameter will change from True to False in version 0.22 and will be removed in 0.24. This will change numeric results when test-set sizes are unequal.\n",
      "  DeprecationWarning)\n",
      "G:\\newage2\\envs\\tensorflow\\lib\\site-packages\\sklearn\\model_selection\\_search.py:813: DeprecationWarning: The default of the `iid` parameter will change from True to False in version 0.22 and will be removed in 0.24. This will change numeric results when test-set sizes are unequal.\n",
      "  DeprecationWarning)\n"
     ]
    }
   ],
   "source": [
    "# first rbf_svc for training on just the original training data\n",
    "#rbf_svc = SVC(kernel='rbf', gamma=0.00001, C=1000,probability=True).fit(X_train,Y_train)\n",
    "rbf_svc=svc_param_selection(X,Y,5)\n",
    "\n",
    "# secondly rbf_svc_extra for training on original+LSTM\n",
    "rbf_svc_extra = svc_param_selection(extrain,eytrain,5)"
   ]
  },
  {
   "cell_type": "code",
   "execution_count": 21,
   "metadata": {},
   "outputs": [
    {
     "data": {
      "text/plain": [
       "SVC(C=100, cache_size=200, class_weight=None, coef0=0.0,\n",
       "    decision_function_shape='ovr', degree=3, gamma=0.1, kernel='rbf',\n",
       "    max_iter=-1, probability=True, random_state=None, shrinking=True, tol=0.001,\n",
       "    verbose=False)"
      ]
     },
     "execution_count": 21,
     "metadata": {},
     "output_type": "execute_result"
    }
   ],
   "source": [
    "\n",
    "# fitting the data\n",
    "rbf_svc.fit(X,Y)\n",
    "rbf_svc_extra.fit(extrain,eytrain)"
   ]
  },
  {
   "cell_type": "code",
   "execution_count": 22,
   "metadata": {},
   "outputs": [
    {
     "data": {
      "text/plain": [
       "(65, 9)"
      ]
     },
     "execution_count": 22,
     "metadata": {},
     "output_type": "execute_result"
    }
   ],
   "source": [
    "# loading the validation dataset previously set up by validation split(this data was not included in any training procedure)\n",
    "Prediction_data=X_test\n",
    "\n",
    "#producing the shape\n",
    "Prediction_data.shape"
   ]
  },
  {
   "cell_type": "code",
   "execution_count": 23,
   "metadata": {
    "collapsed": true
   },
   "outputs": [],
   "source": [
    "# making predictions on validation dataset using svc trained only on original training data\n",
    "prediction_on_real_dataset=rbf_svc.predict_proba(Prediction_data)\n",
    "\n",
    "#saving probabilities\n",
    "predictions=rbf_svc.predict(Prediction_data)\n",
    "\n",
    "# making predictions on validation dataset using svc trained on original training data + LSTM generated data\n",
    "prediction_on_real_dataset_adding_extra=rbf_svc_extra.predict_proba(Prediction_data)\n",
    "#saving probabilities\n",
    "predictions_extra=rbf_svc_extra.predict(Prediction_data)"
   ]
  },
  {
   "cell_type": "code",
   "execution_count": 24,
   "metadata": {},
   "outputs": [
    {
     "name": "stdout",
     "output_type": "stream",
     "text": [
      "65\n",
      "65\n"
     ]
    }
   ],
   "source": [
    "print(len(prediction_on_real_dataset))\n",
    "\n",
    "print(len(prediction_on_real_dataset_adding_extra))"
   ]
  },
  {
   "cell_type": "code",
   "execution_count": 25,
   "metadata": {
    "collapsed": true
   },
   "outputs": [],
   "source": [
    "from sklearn.metrics import f1_score\n",
    "from sklearn.metrics import auc\n",
    "from sklearn.metrics import average_precision_score\n",
    "\n",
    "from sklearn.metrics import roc_curve, roc_auc_score"
   ]
  },
  {
   "cell_type": "code",
   "execution_count": 26,
   "metadata": {},
   "outputs": [
    {
     "data": {
      "text/plain": [
       "0.4666666666666667"
      ]
     },
     "execution_count": 26,
     "metadata": {},
     "output_type": "execute_result"
    }
   ],
   "source": [
    "f1_score(Y_test,predictions)#without_extra"
   ]
  },
  {
   "cell_type": "code",
   "execution_count": 27,
   "metadata": {},
   "outputs": [
    {
     "data": {
      "text/plain": [
       "0.5777777777777778"
      ]
     },
     "execution_count": 27,
     "metadata": {},
     "output_type": "execute_result"
    }
   ],
   "source": [
    "f1_score(Y_test,predictions_extra)#with_extra"
   ]
  },
  {
   "cell_type": "code",
   "execution_count": 28,
   "metadata": {},
   "outputs": [
    {
     "data": {
      "text/plain": [
       "array([0.48816645, 0.51183355])"
      ]
     },
     "execution_count": 28,
     "metadata": {},
     "output_type": "execute_result"
    }
   ],
   "source": [
    "prediction_on_real_dataset[0]# probabilities of 2 class"
   ]
  },
  {
   "cell_type": "code",
   "execution_count": 29,
   "metadata": {},
   "outputs": [
    {
     "name": "stdout",
     "output_type": "stream",
     "text": [
      "Without extra:  0.8213333333333334\n",
      "With extra:  0.8079999999999999\n"
     ]
    }
   ],
   "source": [
    "# getting AUC score for classifier trained on only original data\n",
    "fpr, tpr, thres=roc_curve(Y_test,prediction_on_real_dataset[:,1],pos_label=1)\n",
    "\n",
    "#getting AUC score for classifier trained on original + LSTM generated data\n",
    "efpr, etpr, ethres=roc_curve(Y_test,prediction_on_real_dataset_adding_extra[:,1],pos_label=1)\n",
    "\n",
    "with_=auc(fpr,tpr)\n",
    "without_=auc(efpr,etpr)\n",
    "print('Without extra: ',auc(fpr,tpr))\n",
    "\n",
    "print('With extra: ',auc(efpr,etpr))"
   ]
  },
  {
   "cell_type": "code",
   "execution_count": 30,
   "metadata": {},
   "outputs": [
    {
     "data": {
      "image/png": "[encoded data removed]",
      "text/plain": [
       "<matplotlib.figure.Figure at 0x97131b9c18>"
      ]
     },
     "metadata": {},
     "output_type": "display_data"
    }
   ],
   "source": [
    "# plotting data ( for minority predictions , here minority class = 1)\n",
    "\n",
    "Y_probs=prediction_on_real_dataset[:,1]\n",
    "fpr,tpr,_=roc_curve(Y_test,Y_probs)\n",
    "\n",
    "Y_probs_extra=prediction_on_real_dataset_adding_extra[:,1]\n",
    "efpr,etpr,_=roc_curve(Y_test,Y_probs_extra)\n",
    "\n",
    "original=auc(fpr,tpr)\n",
    "lstm_with_extra=auc(efpr,etpr)\n",
    "\n",
    "original=original.astype(float)\n",
    "lstm_with_extra=lstm_with_extra.astype(float)\n",
    "\n",
    "\n",
    "pyplot.clf()\n",
    "pyplot.plot(fpr, tpr,label='original (AUC : %5.4f)'%(with_),linewidth='1.2')\n",
    "pyplot.plot(efpr,etpr,label='LSTM generated+original(AUC : %5.4f)'%(without_),linewidth='1.2')\n",
    "pyplot.xlabel('FPR')\n",
    "pyplot.ylabel('TPR')\n",
    "pyplot.title('ROC curve')\n",
    "pyplot.legend(loc=4)\n",
    "pyplot.savefig('ROC curve .png',dpi=500)\n",
    "pyplot.show()"
   ]
  },
  {
   "cell_type": "code",
   "execution_count": 31,
   "metadata": {},
   "outputs": [
    {
     "data": {
      "image/png": "[encoded data removed]",
      "text/plain": [
       "<matplotlib.figure.Figure at 0x97131d67b8>"
      ]
     },
     "metadata": {},
     "output_type": "display_data"
    }
   ],
   "source": [
    "Y_probs=prediction_on_real_dataset[:,0]\n",
    "fpr,tpr,_=roc_curve(Y_test,Y_probs)\n",
    "\n",
    "Y_probs_extra=prediction_on_real_dataset_adding_extra[:,0]\n",
    "efpr,etpr,_=roc_curve(Y_test,Y_probs_extra)\n",
    "\n",
    "pyplot.clf()\n",
    "pyplot.plot(fpr, tpr,label='original')\n",
    "pyplot.plot(efpr,etpr,label='LSTM generated')\n",
    "pyplot.xlabel('FPR')\n",
    "pyplot.ylabel('TPR(recall)')\n",
    "pyplot.title('ROC curve')\n",
    "pyplot.legend(loc=2)\n",
    "pyplot.show()"
   ]
  },
  {
   "cell_type": "code",
   "execution_count": 32,
   "metadata": {},
   "outputs": [
    {
     "data": {
      "text/plain": [
       "array([[0.48816645, 0.51183355],\n",
       "       [0.86011126, 0.13988874],\n",
       "       [0.79961245, 0.20038755],\n",
       "       [0.64066498, 0.35933502],\n",
       "       [0.85069532, 0.14930468],\n",
       "       [0.48946653, 0.51053347],\n",
       "       [0.1495837 , 0.8504163 ],\n",
       "       [0.77144702, 0.22855298],\n",
       "       [0.89005897, 0.10994103],\n",
       "       [0.8650787 , 0.1349213 ],\n",
       "       [0.11730448, 0.88269552],\n",
       "       [0.82592593, 0.17407407],\n",
       "       [0.46734643, 0.53265357],\n",
       "       [0.13234179, 0.86765821],\n",
       "       [0.95671991, 0.04328009],\n",
       "       [0.73339259, 0.26660741],\n",
       "       [0.84297042, 0.15702958],\n",
       "       [0.79977339, 0.20022661],\n",
       "       [0.90034085, 0.09965915],\n",
       "       [0.8883346 , 0.1116654 ],\n",
       "       [0.32935979, 0.67064021],\n",
       "       [0.20524674, 0.79475326],\n",
       "       [0.89530926, 0.10469074],\n",
       "       [0.92858575, 0.07141425],\n",
       "       [0.90951118, 0.09048882],\n",
       "       [0.91643349, 0.08356651],\n",
       "       [0.70189068, 0.29810932],\n",
       "       [0.77946388, 0.22053612],\n",
       "       [0.84998802, 0.15001198],\n",
       "       [0.6366473 , 0.3633527 ],\n",
       "       [0.63656465, 0.36343535],\n",
       "       [0.04820973, 0.95179027],\n",
       "       [0.80154121, 0.19845879],\n",
       "       [0.89530926, 0.10469074],\n",
       "       [0.87513427, 0.12486573],\n",
       "       [0.84288593, 0.15711407],\n",
       "       [0.31479443, 0.68520557],\n",
       "       [0.09929752, 0.90070248],\n",
       "       [0.23251593, 0.76748407],\n",
       "       [0.88332933, 0.11667067],\n",
       "       [0.88612097, 0.11387903],\n",
       "       [0.91396255, 0.08603745],\n",
       "       [0.10166642, 0.89833358],\n",
       "       [0.63082112, 0.36917888],\n",
       "       [0.91786771, 0.08213229],\n",
       "       [0.23787114, 0.76212886],\n",
       "       [0.67952311, 0.32047689],\n",
       "       [0.88366011, 0.11633989],\n",
       "       [0.88204104, 0.11795896],\n",
       "       [0.64320054, 0.35679946],\n",
       "       [0.53959185, 0.46040815],\n",
       "       [0.77248978, 0.22751022],\n",
       "       [0.17711629, 0.82288371],\n",
       "       [0.79720966, 0.20279034],\n",
       "       [0.63719397, 0.36280603],\n",
       "       [0.34200623, 0.65799377],\n",
       "       [0.75080594, 0.24919406],\n",
       "       [0.83486063, 0.16513937],\n",
       "       [0.95279748, 0.04720252],\n",
       "       [0.13715447, 0.86284553],\n",
       "       [0.89245259, 0.10754741],\n",
       "       [0.03677451, 0.96322549],\n",
       "       [0.79831195, 0.20168805],\n",
       "       [0.63983799, 0.36016201],\n",
       "       [0.87188822, 0.12811178]])"
      ]
     },
     "execution_count": 32,
     "metadata": {},
     "output_type": "execute_result"
    }
   ],
   "source": [
    "prediction_on_real_dataset"
   ]
  },
  {
   "cell_type": "code",
   "execution_count": 33,
   "metadata": {},
   "outputs": [
    {
     "data": {
      "text/plain": [
       "array([[1.11020271e-01, 8.88979729e-01],\n",
       "       [9.96020994e-01, 3.97900588e-03],\n",
       "       [5.32598822e-01, 4.67401178e-01],\n",
       "       [8.61416863e-01, 1.38583137e-01],\n",
       "       [3.56885604e-01, 6.43114396e-01],\n",
       "       [5.35647346e-01, 4.64352654e-01],\n",
       "       [3.07833936e-01, 6.92166064e-01],\n",
       "       [5.71718667e-01, 4.28281333e-01],\n",
       "       [9.93492719e-01, 6.50728075e-03],\n",
       "       [7.91572081e-01, 2.08427919e-01],\n",
       "       [2.55724882e-01, 7.44275118e-01],\n",
       "       [6.04672143e-01, 3.95327857e-01],\n",
       "       [8.15648913e-02, 9.18435109e-01],\n",
       "       [2.31020380e-01, 7.68979620e-01],\n",
       "       [7.90718482e-01, 2.09281518e-01],\n",
       "       [4.78083341e-01, 5.21916659e-01],\n",
       "       [7.05589556e-01, 2.94410444e-01],\n",
       "       [4.23829498e-01, 5.76170502e-01],\n",
       "       [9.48318575e-01, 5.16814253e-02],\n",
       "       [8.85465079e-01, 1.14534921e-01],\n",
       "       [3.50462839e-02, 9.64953716e-01],\n",
       "       [4.92363042e-01, 5.07636958e-01],\n",
       "       [9.89314022e-01, 1.06859779e-02],\n",
       "       [7.19773607e-01, 2.80226393e-01],\n",
       "       [9.66037279e-01, 3.39627210e-02],\n",
       "       [7.47756920e-01, 2.52243080e-01],\n",
       "       [6.12587130e-01, 3.87412870e-01],\n",
       "       [5.95689322e-01, 4.04310678e-01],\n",
       "       [9.72092432e-01, 2.79075680e-02],\n",
       "       [1.23284158e-06, 9.99998767e-01],\n",
       "       [3.59679600e-01, 6.40320400e-01],\n",
       "       [1.85090589e-01, 8.14909411e-01],\n",
       "       [4.87229807e-01, 5.12770193e-01],\n",
       "       [9.89314022e-01, 1.06859779e-02],\n",
       "       [9.83532379e-01, 1.64676214e-02],\n",
       "       [9.93466466e-01, 6.53353409e-03],\n",
       "       [4.63557819e-01, 5.36442181e-01],\n",
       "       [2.50119649e-01, 7.49880351e-01],\n",
       "       [3.26102590e-01, 6.73897410e-01],\n",
       "       [6.17138792e-01, 3.82861208e-01],\n",
       "       [6.50673314e-01, 3.49326686e-01],\n",
       "       [7.20410241e-01, 2.79589759e-01],\n",
       "       [3.94947699e-01, 6.05052301e-01],\n",
       "       [9.57105919e-06, 9.99990429e-01],\n",
       "       [9.60959727e-01, 3.90402733e-02],\n",
       "       [3.76500108e-01, 6.23499892e-01],\n",
       "       [2.48351386e-01, 7.51648614e-01],\n",
       "       [6.43067109e-01, 3.56932891e-01],\n",
       "       [7.34656315e-01, 2.65343685e-01],\n",
       "       [1.10064096e-02, 9.88993590e-01],\n",
       "       [2.97272179e-01, 7.02727821e-01],\n",
       "       [4.41055377e-01, 5.58944623e-01],\n",
       "       [1.01123343e-01, 8.98876657e-01],\n",
       "       [1.81034735e-01, 8.18965265e-01],\n",
       "       [1.14919984e-05, 9.99988508e-01],\n",
       "       [4.61305700e-01, 5.38694300e-01],\n",
       "       [9.26684615e-01, 7.33153851e-02],\n",
       "       [2.17258056e-01, 7.82741944e-01],\n",
       "       [6.46830092e-01, 3.53169908e-01],\n",
       "       [3.93061305e-01, 6.06938695e-01],\n",
       "       [9.95263081e-01, 4.73691877e-03],\n",
       "       [2.01903048e-01, 7.98096952e-01],\n",
       "       [9.38394872e-02, 9.06160513e-01],\n",
       "       [7.30822870e-01, 2.69177130e-01],\n",
       "       [6.96682795e-01, 3.03317205e-01]])"
      ]
     },
     "execution_count": 33,
     "metadata": {},
     "output_type": "execute_result"
    }
   ],
   "source": [
    "prediction_on_real_dataset_adding_extra"
   ]
  },
  {
   "cell_type": "code",
   "execution_count": null,
   "metadata": {
    "collapsed": true
   },
   "outputs": [],
   "source": []
  },
  {
   "cell_type": "code",
   "execution_count": null,
   "metadata": {
    "collapsed": true
   },
   "outputs": [],
   "source": []
  }
 ],
 "metadata": {
  "kernelspec": {
   "display_name": "Python 3",
   "language": "python",
   "name": "python3"
  },
  "language_info": {
   "codemirror_mode": {
    "name": "ipython",
    "version": 3
   },
   "file_extension": ".py",
   "mimetype": "text/x-python",
   "name": "python",
   "nbconvert_exporter": "python",
   "pygments_lexer": "ipython3",
   "version": "3.6.6"
  }
 },
 "nbformat": 4,
 "nbformat_minor": 2
}
