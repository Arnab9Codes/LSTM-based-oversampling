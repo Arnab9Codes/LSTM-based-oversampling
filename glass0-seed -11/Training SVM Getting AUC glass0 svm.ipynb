{
 "cells": [
  {
   "cell_type": "code",
   "execution_count": 1,
   "metadata": {
    "collapsed": true
   },
   "outputs": [],
   "source": [
    "import time\n",
    "import math\n",
    "\n",
    "import numpy as np\n",
    "import pandas as pd\n",
    "from pandas import DataFrame\n",
    "from pandas import concat\n",
    "from matplotlib import pyplot\n",
    "\n",
    "from sklearn.preprocessing import MinMaxScaler\n",
    "from sklearn.preprocessing import LabelEncoder\n",
    "from sklearn.metrics import mean_squared_error\n",
    "\n",
    "from sklearn.preprocessing import StandardScaler\n",
    "from sklearn.model_selection import train_test_split\n",
    "from sklearn.model_selection import KFold\n",
    "from sklearn.model_selection import cross_val_score\n",
    "from sklearn.model_selection import GridSearchCV\n",
    "from sklearn.metrics import classification_report\n",
    "from sklearn.metrics import confusion_matrix\n",
    "from sklearn.metrics import accuracy_score\n",
    "from sklearn.metrics import precision_recall_curve\n",
    "\n",
    "from sklearn.pipeline import Pipeline\n",
    "from sklearn.linear_model import LogisticRegression\n",
    "from sklearn.tree import DecisionTreeClassifier\n",
    "from sklearn.neighbors import KNeighborsClassifier\n",
    "from sklearn.discriminant_analysis import LinearDiscriminantAnalysis\n",
    "from sklearn.naive_bayes import GaussianNB\n",
    "from sklearn.svm import SVC\n",
    "from sklearn.ensemble import AdaBoostClassifier\n",
    "from sklearn.ensemble import GradientBoostingClassifier\n",
    "from sklearn.ensemble import RandomForestClassifier\n",
    "from sklearn.ensemble import ExtraTreesClassifier\n",
    "\n",
    "from sklearn.model_selection import GridSearchCV\n",
    "\n",
    "import pickle"
   ]
  },
  {
   "cell_type": "code",
   "execution_count": 2,
   "metadata": {
    "collapsed": true
   },
   "outputs": [],
   "source": [
    "extra_data=pd.read_csv('new_corrected_data-v1.csv')# loading extra genereated data genereated by LSTM #prediction_of_1_0007.csv\n",
    "original_data=pd.read_csv('train_Data.csv')#original data"
   ]
  },
  {
   "cell_type": "code",
   "execution_count": 3,
   "metadata": {},
   "outputs": [
    {
     "data": {
      "text/html": [
       "<div>\n",
       "<style scoped>\n",
       "    .dataframe tbody tr th:only-of-type {\n",
       "        vertical-align: middle;\n",
       "    }\n",
       "\n",
       "    .dataframe tbody tr th {\n",
       "        vertical-align: top;\n",
       "    }\n",
       "\n",
       "    .dataframe thead th {\n",
       "        text-align: right;\n",
       "    }\n",
       "</style>\n",
       "<table border=\"1\" class=\"dataframe\">\n",
       "  <thead>\n",
       "    <tr style=\"text-align: right;\">\n",
       "      <th></th>\n",
       "      <th>0</th>\n",
       "      <th>1</th>\n",
       "      <th>2</th>\n",
       "      <th>3</th>\n",
       "      <th>4</th>\n",
       "      <th>5</th>\n",
       "      <th>6</th>\n",
       "      <th>7</th>\n",
       "      <th>8</th>\n",
       "      <th>9</th>\n",
       "    </tr>\n",
       "  </thead>\n",
       "  <tbody>\n",
       "    <tr>\n",
       "      <th>0</th>\n",
       "      <td>1.515481</td>\n",
       "      <td>13.191317</td>\n",
       "      <td>3.487700</td>\n",
       "      <td>1.461036</td>\n",
       "      <td>73.243324</td>\n",
       "      <td>0.622769</td>\n",
       "      <td>7.965521</td>\n",
       "      <td>-0.000223</td>\n",
       "      <td>0.010303</td>\n",
       "      <td>1.029770</td>\n",
       "    </tr>\n",
       "    <tr>\n",
       "      <th>1</th>\n",
       "      <td>1.519823</td>\n",
       "      <td>13.539906</td>\n",
       "      <td>3.651618</td>\n",
       "      <td>1.127917</td>\n",
       "      <td>72.368126</td>\n",
       "      <td>0.323076</td>\n",
       "      <td>8.981581</td>\n",
       "      <td>-0.019813</td>\n",
       "      <td>-0.003503</td>\n",
       "      <td>1.017034</td>\n",
       "    </tr>\n",
       "    <tr>\n",
       "      <th>2</th>\n",
       "      <td>1.518027</td>\n",
       "      <td>13.049285</td>\n",
       "      <td>3.469256</td>\n",
       "      <td>1.318269</td>\n",
       "      <td>72.945854</td>\n",
       "      <td>0.576212</td>\n",
       "      <td>8.246383</td>\n",
       "      <td>-0.018860</td>\n",
       "      <td>-0.036927</td>\n",
       "      <td>1.021161</td>\n",
       "    </tr>\n",
       "    <tr>\n",
       "      <th>3</th>\n",
       "      <td>1.517131</td>\n",
       "      <td>13.297189</td>\n",
       "      <td>3.645126</td>\n",
       "      <td>1.426159</td>\n",
       "      <td>73.141540</td>\n",
       "      <td>0.487137</td>\n",
       "      <td>8.257478</td>\n",
       "      <td>0.022445</td>\n",
       "      <td>0.044293</td>\n",
       "      <td>1.032619</td>\n",
       "    </tr>\n",
       "    <tr>\n",
       "      <th>4</th>\n",
       "      <td>1.517377</td>\n",
       "      <td>13.672755</td>\n",
       "      <td>3.439851</td>\n",
       "      <td>1.403843</td>\n",
       "      <td>72.505510</td>\n",
       "      <td>0.464343</td>\n",
       "      <td>8.251581</td>\n",
       "      <td>-0.004013</td>\n",
       "      <td>-0.027428</td>\n",
       "      <td>0.999047</td>\n",
       "    </tr>\n",
       "  </tbody>\n",
       "</table>\n",
       "</div>"
      ],
      "text/plain": [
       "          0          1         2         3          4         5         6  \\\n",
       "0  1.515481  13.191317  3.487700  1.461036  73.243324  0.622769  7.965521   \n",
       "1  1.519823  13.539906  3.651618  1.127917  72.368126  0.323076  8.981581   \n",
       "2  1.518027  13.049285  3.469256  1.318269  72.945854  0.576212  8.246383   \n",
       "3  1.517131  13.297189  3.645126  1.426159  73.141540  0.487137  8.257478   \n",
       "4  1.517377  13.672755  3.439851  1.403843  72.505510  0.464343  8.251581   \n",
       "\n",
       "          7         8         9  \n",
       "0 -0.000223  0.010303  1.029770  \n",
       "1 -0.019813 -0.003503  1.017034  \n",
       "2 -0.018860 -0.036927  1.021161  \n",
       "3  0.022445  0.044293  1.032619  \n",
       "4 -0.004013 -0.027428  0.999047  "
      ]
     },
     "execution_count": 3,
     "metadata": {},
     "output_type": "execute_result"
    }
   ],
   "source": [
    "extra_data.head()#displaying LSTM generated data"
   ]
  },
  {
   "cell_type": "code",
   "execution_count": 4,
   "metadata": {},
   "outputs": [
    {
     "name": "stdout",
     "output_type": "stream",
     "text": [
      "(15, 10)\n"
     ]
    }
   ],
   "source": [
    "extra=np.array(extra_data)# getting the original shape\n",
    "print(extra.shape)"
   ]
  },
  {
   "cell_type": "code",
   "execution_count": 5,
   "metadata": {},
   "outputs": [
    {
     "data": {
      "text/plain": [
       "array([ 1.5154805e+00,  1.3191317e+01,  3.4876995e+00,  1.4610358e+00,\n",
       "        7.3243324e+01,  6.2276924e-01,  7.9655213e+00, -2.2319678e-04,\n",
       "        1.0303342e-02,  1.0297695e+00])"
      ]
     },
     "execution_count": 5,
     "metadata": {},
     "output_type": "execute_result"
    }
   ],
   "source": [
    "extra[0] # showing first row vector"
   ]
  },
  {
   "cell_type": "code",
   "execution_count": 6,
   "metadata": {
    "collapsed": true
   },
   "outputs": [],
   "source": [
    "# Setting predictions of all generated data to 1 because their outputs are mostly 0.98, 0.99 etc. \n",
    "for i in range(0,len(extra),1):\n",
    "    extra[i][9]=int(1)"
   ]
  },
  {
   "cell_type": "code",
   "execution_count": 7,
   "metadata": {},
   "outputs": [
    {
     "data": {
      "text/plain": [
       "array([[ 1.5154805e+00,  1.3191317e+01,  3.4876995e+00,  1.4610358e+00,\n",
       "         7.3243324e+01,  6.2276924e-01,  7.9655213e+00, -2.2319678e-04,\n",
       "         1.0303342e-02,  1.0000000e+00],\n",
       "       [ 1.5198228e+00,  1.3539906e+01,  3.6516180e+00,  1.1279175e+00,\n",
       "         7.2368126e+01,  3.2307570e-01,  8.9815810e+00, -1.9813498e-02,\n",
       "        -3.5026213e-03,  1.0000000e+00],\n",
       "       [ 1.5180272e+00,  1.3049285e+01,  3.4692560e+00,  1.3182689e+00,\n",
       "         7.2945854e+01,  5.7621217e-01,  8.2463830e+00, -1.8860092e-02,\n",
       "        -3.6927100e-02,  1.0000000e+00],\n",
       "       [ 1.5171306e+00,  1.3297189e+01,  3.6451259e+00,  1.4261590e+00,\n",
       "         7.3141540e+01,  4.8713714e-01,  8.2574780e+00,  2.2445051e-02,\n",
       "         4.4293010e-02,  1.0000000e+00],\n",
       "       [ 1.5173767e+00,  1.3672755e+01,  3.4398508e+00,  1.4038433e+00,\n",
       "         7.2505510e+01,  4.6434307e-01,  8.2515810e+00, -4.0130024e-03,\n",
       "        -2.7427710e-02,  1.0000000e+00],\n",
       "       [ 1.5174015e+00,  1.3300732e+01,  3.4391344e+00,  1.1345694e+00,\n",
       "         7.2773870e+01,  5.2754146e-01,  8.8006010e+00, -4.7234150e-03,\n",
       "         1.6875928e-02,  1.0000000e+00],\n",
       "       [ 1.5177556e+00,  1.3495369e+01,  3.5865593e+00,  1.5220821e+00,\n",
       "         7.2773770e+01,  4.6308800e-01,  8.1172700e+00,  2.8876178e-03,\n",
       "         4.9387855e-03,  1.0000000e+00],\n",
       "       [ 1.5167475e+00,  1.3529312e+01,  3.4881210e+00,  1.3203863e+00,\n",
       "         7.2767560e+01,  4.7650215e-01,  8.4836630e+00, -2.7697394e-04,\n",
       "         1.2129538e-02,  1.0000000e+00],\n",
       "       [ 1.5155607e+00,  1.2877540e+01,  3.5857582e+00,  1.4096178e+00,\n",
       "         7.3282160e+01,  6.1986920e-01,  8.1457500e+00,  2.2107866e-02,\n",
       "         4.7780108e-02,  1.0000000e+00],\n",
       "       [ 1.5164781e+00,  1.2920615e+01,  3.6632404e+00,  1.6059943e+00,\n",
       "         7.3084564e+01,  5.5922663e-01,  7.9020130e+00, -2.9150213e-03,\n",
       "        -4.7979250e-03,  1.0000000e+00],\n",
       "       [ 1.5149741e+00,  1.2385888e+01,  3.7371090e+00,  1.4252635e+00,\n",
       "         7.3342180e+01,  6.3170576e-01,  8.1884540e+00,  2.7052028e-02,\n",
       "         7.2642920e-02,  1.0000000e+00],\n",
       "       [ 1.5152444e+00,  1.2838853e+01,  3.4616420e+00,  1.2813046e+00,\n",
       "         7.3364380e+01,  6.3262385e-01,  8.2242310e+00,  1.4966436e-03,\n",
       "         3.8833532e-02,  1.0000000e+00],\n",
       "       [ 1.5156871e+00,  1.2753982e+01,  3.4995875e+00,  1.1868477e+00,\n",
       "         7.3064644e+01,  6.7065567e-01,  8.4707350e+00,  5.5423565e-03,\n",
       "         2.5118973e-02,  1.0000000e+00],\n",
       "       [ 1.5185677e+00,  1.3301319e+01,  3.5504180e+00,  1.2586592e+00,\n",
       "         7.2688800e+01,  4.5631197e-01,  8.6610560e+00, -2.1336086e-02,\n",
       "         8.7308560e-03,  1.0000000e+00],\n",
       "       [ 1.5169497e+00,  1.3138319e+01,  3.6060607e+00,  1.2087588e+00,\n",
       "         7.2747610e+01,  4.1810620e-01,  8.5738610e+00, -1.5626904e-03,\n",
       "         1.1076727e-02,  1.0000000e+00]])"
      ]
     },
     "execution_count": 7,
     "metadata": {},
     "output_type": "execute_result"
    }
   ],
   "source": [
    "extra #showing LSTM generated extra data ready for training"
   ]
  },
  {
   "cell_type": "code",
   "execution_count": 8,
   "metadata": {},
   "outputs": [
    {
     "data": {
      "text/html": [
       "<div>\n",
       "<style scoped>\n",
       "    .dataframe tbody tr th:only-of-type {\n",
       "        vertical-align: middle;\n",
       "    }\n",
       "\n",
       "    .dataframe tbody tr th {\n",
       "        vertical-align: top;\n",
       "    }\n",
       "\n",
       "    .dataframe thead th {\n",
       "        text-align: right;\n",
       "    }\n",
       "</style>\n",
       "<table border=\"1\" class=\"dataframe\">\n",
       "  <thead>\n",
       "    <tr style=\"text-align: right;\">\n",
       "      <th></th>\n",
       "      <th>0</th>\n",
       "      <th>1</th>\n",
       "      <th>2</th>\n",
       "      <th>3</th>\n",
       "      <th>4</th>\n",
       "      <th>5</th>\n",
       "      <th>6</th>\n",
       "      <th>7</th>\n",
       "      <th>8</th>\n",
       "      <th>9</th>\n",
       "    </tr>\n",
       "  </thead>\n",
       "  <tbody>\n",
       "    <tr>\n",
       "      <th>0</th>\n",
       "      <td>1.524750</td>\n",
       "      <td>11.44820</td>\n",
       "      <td>0.00000</td>\n",
       "      <td>1.87895</td>\n",
       "      <td>72.1900</td>\n",
       "      <td>0.80730</td>\n",
       "      <td>13.24176</td>\n",
       "      <td>0.0000</td>\n",
       "      <td>0.1734</td>\n",
       "      <td>0</td>\n",
       "    </tr>\n",
       "    <tr>\n",
       "      <th>1</th>\n",
       "      <td>1.517096</td>\n",
       "      <td>12.99765</td>\n",
       "      <td>3.47077</td>\n",
       "      <td>1.78907</td>\n",
       "      <td>72.7220</td>\n",
       "      <td>0.65826</td>\n",
       "      <td>8.18456</td>\n",
       "      <td>0.0000</td>\n",
       "      <td>0.0000</td>\n",
       "      <td>0</td>\n",
       "    </tr>\n",
       "    <tr>\n",
       "      <th>2</th>\n",
       "      <td>1.516048</td>\n",
       "      <td>12.89790</td>\n",
       "      <td>3.43934</td>\n",
       "      <td>1.44881</td>\n",
       "      <td>73.5800</td>\n",
       "      <td>0.44091</td>\n",
       "      <td>8.27064</td>\n",
       "      <td>0.0000</td>\n",
       "      <td>0.0000</td>\n",
       "      <td>0</td>\n",
       "    </tr>\n",
       "    <tr>\n",
       "      <th>3</th>\n",
       "      <td>1.515137</td>\n",
       "      <td>14.85300</td>\n",
       "      <td>0.00000</td>\n",
       "      <td>2.42144</td>\n",
       "      <td>73.7188</td>\n",
       "      <td>0.00000</td>\n",
       "      <td>8.38900</td>\n",
       "      <td>0.5607</td>\n",
       "      <td>0.0000</td>\n",
       "      <td>0</td>\n",
       "    </tr>\n",
       "    <tr>\n",
       "      <th>4</th>\n",
       "      <td>1.515706</td>\n",
       "      <td>12.71835</td>\n",
       "      <td>3.46179</td>\n",
       "      <td>1.56116</td>\n",
       "      <td>73.1980</td>\n",
       "      <td>0.67068</td>\n",
       "      <td>8.08772</td>\n",
       "      <td>0.0000</td>\n",
       "      <td>0.1224</td>\n",
       "      <td>1</td>\n",
       "    </tr>\n",
       "  </tbody>\n",
       "</table>\n",
       "</div>"
      ],
      "text/plain": [
       "          0         1        2        3        4        5         6       7  \\\n",
       "0  1.524750  11.44820  0.00000  1.87895  72.1900  0.80730  13.24176  0.0000   \n",
       "1  1.517096  12.99765  3.47077  1.78907  72.7220  0.65826   8.18456  0.0000   \n",
       "2  1.516048  12.89790  3.43934  1.44881  73.5800  0.44091   8.27064  0.0000   \n",
       "3  1.515137  14.85300  0.00000  2.42144  73.7188  0.00000   8.38900  0.5607   \n",
       "4  1.515706  12.71835  3.46179  1.56116  73.1980  0.67068   8.08772  0.0000   \n",
       "\n",
       "        8  9  \n",
       "0  0.1734  0  \n",
       "1  0.0000  0  \n",
       "2  0.0000  0  \n",
       "3  0.0000  0  \n",
       "4  0.1224  1  "
      ]
     },
     "execution_count": 8,
     "metadata": {},
     "output_type": "execute_result"
    }
   ],
   "source": [
    "original_data.head() #showing original data"
   ]
  },
  {
   "cell_type": "code",
   "execution_count": null,
   "metadata": {
    "collapsed": true
   },
   "outputs": [],
   "source": []
  },
  {
   "cell_type": "code",
   "execution_count": 9,
   "metadata": {
    "collapsed": true
   },
   "outputs": [],
   "source": [
    "#loading data values from original dataset(Pima)\n",
    "val=original_data.values"
   ]
  },
  {
   "cell_type": "code",
   "execution_count": 10,
   "metadata": {
    "collapsed": true
   },
   "outputs": [],
   "source": [
    "X=val[:,:9].astype(float)# getting the feature values\n",
    "Y=val[:,9].astype(int)# getting prediction"
   ]
  },
  {
   "cell_type": "code",
   "execution_count": 11,
   "metadata": {
    "collapsed": true
   },
   "outputs": [],
   "source": [
    "#extra_X denotes the extra training data generated by LSTM \n",
    "extra_X=extra[:,:9].astype(float)\n",
    "\n",
    "#extra_Y denotes extra training prediction data for training the algorithm\n",
    "extra_Y=extra[:,9].astype(int)"
   ]
  },
  {
   "cell_type": "code",
   "execution_count": 12,
   "metadata": {
    "collapsed": true
   },
   "outputs": [],
   "source": [
    "# extrain=original training data + LSTM generated training data\n",
    "\n",
    "# eytrain=original training prediction + LSTM generated\n",
    "\n",
    "extrain=np.concatenate((X,extra_X),axis=0)\n",
    "eytrain=np.concatenate((Y,extra_Y),axis=0)"
   ]
  },
  {
   "cell_type": "code",
   "execution_count": 13,
   "metadata": {},
   "outputs": [
    {
     "name": "stdout",
     "output_type": "stream",
     "text": [
      "(164, 9)\n",
      "(164,)\n"
     ]
    }
   ],
   "source": [
    "print(extrain.shape)\n",
    "print(eytrain.shape)"
   ]
  },
  {
   "cell_type": "code",
   "execution_count": 14,
   "metadata": {
    "collapsed": true
   },
   "outputs": [],
   "source": [
    "test_Data=pd.read_csv('test_Data.csv')"
   ]
  },
  {
   "cell_type": "code",
   "execution_count": 15,
   "metadata": {
    "collapsed": true
   },
   "outputs": [],
   "source": [
    "test_Data=np.array(test_Data)"
   ]
  },
  {
   "cell_type": "code",
   "execution_count": 16,
   "metadata": {},
   "outputs": [
    {
     "data": {
      "text/plain": [
       "(65, 10)"
      ]
     },
     "execution_count": 16,
     "metadata": {},
     "output_type": "execute_result"
    }
   ],
   "source": [
    "test_Data.shape"
   ]
  },
  {
   "cell_type": "code",
   "execution_count": 17,
   "metadata": {
    "collapsed": true
   },
   "outputs": [],
   "source": [
    "X_test=test_Data[:,:9].astype(float)\n",
    "Y_test=test_Data[:,9].astype(int)"
   ]
  },
  {
   "cell_type": "code",
   "execution_count": null,
   "metadata": {
    "collapsed": true
   },
   "outputs": [],
   "source": []
  },
  {
   "cell_type": "code",
   "execution_count": 18,
   "metadata": {
    "collapsed": true
   },
   "outputs": [],
   "source": [
    "def svc_param_selection(X, y, nfolds):\n",
    "    Cs = [0.0001,0.001, 0.01, 0.1, 1, 10]\n",
    "    gammas = [0.0001,0.001, 0.01, 0.1, 1,10]\n",
    "    param_grid = {'C': Cs, 'gamma' : gammas}\n",
    "    grid_search = GridSearchCV(SVC(kernel='rbf',probability=True), param_grid, cv=nfolds)\n",
    "    grid_search.fit(X, y)\n",
    "    grid_search.best_params_\n",
    "    return grid_search.best_estimator_"
   ]
  },
  {
   "cell_type": "code",
   "execution_count": 19,
   "metadata": {
    "collapsed": true
   },
   "outputs": [],
   "source": [
    "# setting seed =7 to produce same results over and over again, it was maintained during different experiments \n",
    "seed=11\n"
   ]
  },
  {
   "cell_type": "code",
   "execution_count": 20,
   "metadata": {},
   "outputs": [
    {
     "name": "stderr",
     "output_type": "stream",
     "text": [
      "G:\\newage2\\envs\\tensorflow\\lib\\site-packages\\sklearn\\model_selection\\_search.py:813: DeprecationWarning: The default of the `iid` parameter will change from True to False in version 0.22 and will be removed in 0.24. This will change numeric results when test-set sizes are unequal.\n",
      "  DeprecationWarning)\n",
      "G:\\newage2\\envs\\tensorflow\\lib\\site-packages\\sklearn\\model_selection\\_search.py:813: DeprecationWarning: The default of the `iid` parameter will change from True to False in version 0.22 and will be removed in 0.24. This will change numeric results when test-set sizes are unequal.\n",
      "  DeprecationWarning)\n"
     ]
    }
   ],
   "source": [
    "# first rbf_svc for training on just the original training data\n",
    "#rbf_svc = SVC(kernel='rbf', gamma=0.00001, C=1000,probability=True).fit(X_train,Y_train)\n",
    "rbf_svc=svc_param_selection(X,Y,5)\n",
    "\n",
    "# secondly rbf_svc_extra for training on original+LSTM\n",
    "rbf_svc_extra = svc_param_selection(extrain,eytrain,5)"
   ]
  },
  {
   "cell_type": "code",
   "execution_count": 21,
   "metadata": {},
   "outputs": [
    {
     "data": {
      "text/plain": [
       "SVC(C=10, cache_size=200, class_weight=None, coef0=0.0,\n",
       "    decision_function_shape='ovr', degree=3, gamma=1, kernel='rbf', max_iter=-1,\n",
       "    probability=True, random_state=None, shrinking=True, tol=0.001,\n",
       "    verbose=False)"
      ]
     },
     "execution_count": 21,
     "metadata": {},
     "output_type": "execute_result"
    }
   ],
   "source": [
    "\n",
    "# fitting the data\n",
    "rbf_svc.fit(X,Y)\n",
    "rbf_svc_extra.fit(extrain,eytrain)"
   ]
  },
  {
   "cell_type": "code",
   "execution_count": 22,
   "metadata": {},
   "outputs": [
    {
     "data": {
      "text/plain": [
       "(65, 9)"
      ]
     },
     "execution_count": 22,
     "metadata": {},
     "output_type": "execute_result"
    }
   ],
   "source": [
    "# loading the validation dataset previously set up by validation split(this data was not included in any training procedure)\n",
    "Prediction_data=X_test\n",
    "\n",
    "#producing the shape\n",
    "Prediction_data.shape"
   ]
  },
  {
   "cell_type": "code",
   "execution_count": 23,
   "metadata": {
    "collapsed": true
   },
   "outputs": [],
   "source": [
    "# making predictions on validation dataset using svc trained only on original training data\n",
    "prediction_on_real_dataset=rbf_svc.predict_proba(Prediction_data)\n",
    "\n",
    "#saving probabilities\n",
    "predictions=rbf_svc.predict(Prediction_data)\n",
    "\n",
    "# making predictions on validation dataset using svc trained on original training data + LSTM generated data\n",
    "prediction_on_real_dataset_adding_extra=rbf_svc_extra.predict_proba(Prediction_data)\n",
    "#saving probabilities\n",
    "predictions_extra=rbf_svc_extra.predict(Prediction_data)"
   ]
  },
  {
   "cell_type": "code",
   "execution_count": 24,
   "metadata": {},
   "outputs": [
    {
     "name": "stdout",
     "output_type": "stream",
     "text": [
      "65\n",
      "65\n"
     ]
    }
   ],
   "source": [
    "print(len(prediction_on_real_dataset))\n",
    "\n",
    "print(len(prediction_on_real_dataset_adding_extra))"
   ]
  },
  {
   "cell_type": "code",
   "execution_count": 25,
   "metadata": {
    "collapsed": true
   },
   "outputs": [],
   "source": [
    "from sklearn.metrics import f1_score\n",
    "from sklearn.metrics import auc\n",
    "from sklearn.metrics import average_precision_score\n",
    "\n",
    "from sklearn.metrics import roc_curve, roc_auc_score"
   ]
  },
  {
   "cell_type": "code",
   "execution_count": 26,
   "metadata": {},
   "outputs": [
    {
     "data": {
      "text/plain": [
       "0.6666666666666667"
      ]
     },
     "execution_count": 26,
     "metadata": {},
     "output_type": "execute_result"
    }
   ],
   "source": [
    "f1_score(Y_test,predictions)#without_extra"
   ]
  },
  {
   "cell_type": "code",
   "execution_count": 27,
   "metadata": {},
   "outputs": [
    {
     "data": {
      "text/plain": [
       "0.76"
      ]
     },
     "execution_count": 27,
     "metadata": {},
     "output_type": "execute_result"
    }
   ],
   "source": [
    "f1_score(Y_test,predictions_extra)#with_extra"
   ]
  },
  {
   "cell_type": "code",
   "execution_count": 28,
   "metadata": {},
   "outputs": [
    {
     "data": {
      "text/plain": [
       "array([0.86507391, 0.13492609])"
      ]
     },
     "execution_count": 28,
     "metadata": {},
     "output_type": "execute_result"
    }
   ],
   "source": [
    "prediction_on_real_dataset[0]# probabilities of 2 class"
   ]
  },
  {
   "cell_type": "code",
   "execution_count": 29,
   "metadata": {},
   "outputs": [
    {
     "name": "stdout",
     "output_type": "stream",
     "text": [
      "Without extra:  0.868421052631579\n",
      "With extra:  0.8099415204678362\n"
     ]
    }
   ],
   "source": [
    "# getting AUC score for classifier trained on only original data\n",
    "fpr, tpr, thres=roc_curve(Y_test,prediction_on_real_dataset[:,1],pos_label=1)\n",
    "\n",
    "#getting AUC score for classifier trained on original + LSTM generated data\n",
    "efpr, etpr, ethres=roc_curve(Y_test,prediction_on_real_dataset_adding_extra[:,1],pos_label=1)\n",
    "\n",
    "with_=auc(fpr,tpr)\n",
    "without_=auc(efpr,etpr)\n",
    "print('Without extra: ',auc(fpr,tpr))\n",
    "\n",
    "print('With extra: ',auc(efpr,etpr))"
   ]
  },
  {
   "cell_type": "code",
   "execution_count": 30,
   "metadata": {},
   "outputs": [
    {
     "data": {
      "image/png": "[encoded data removed]",
      "text/plain": [
       "<matplotlib.figure.Figure at 0x190d0a7b8>"
      ]
     },
     "metadata": {},
     "output_type": "display_data"
    }
   ],
   "source": [
    "# plotting data ( for minority predictions , here minority class = 1)\n",
    "\n",
    "Y_probs=prediction_on_real_dataset[:,1]\n",
    "fpr,tpr,_=roc_curve(Y_test,Y_probs)\n",
    "\n",
    "Y_probs_extra=prediction_on_real_dataset_adding_extra[:,1]\n",
    "efpr,etpr,_=roc_curve(Y_test,Y_probs_extra)\n",
    "\n",
    "original=auc(fpr,tpr)\n",
    "lstm_with_extra=auc(efpr,etpr)\n",
    "\n",
    "original=original.astype(float)\n",
    "lstm_with_extra=lstm_with_extra.astype(float)\n",
    "\n",
    "\n",
    "pyplot.clf()\n",
    "pyplot.plot(fpr, tpr,label='original (AUC : %5.4f)'%(with_),linewidth='1.2')\n",
    "pyplot.plot(efpr,etpr,label='LSTM generated+original(AUC : %5.4f)'%(without_),linewidth='1.2')\n",
    "pyplot.xlabel('FPR')\n",
    "pyplot.ylabel('TPR')\n",
    "pyplot.title('ROC curve - Pima dataset')\n",
    "pyplot.legend(loc=4)\n",
    "pyplot.savefig('ROC curve .png',dpi=500)\n",
    "pyplot.show()"
   ]
  },
  {
   "cell_type": "code",
   "execution_count": 31,
   "metadata": {},
   "outputs": [
    {
     "data": {
      "image/png": "[encoded data removed]",
      "text/plain": [
       "<matplotlib.figure.Figure at 0x1862b2f98>"
      ]
     },
     "metadata": {},
     "output_type": "display_data"
    }
   ],
   "source": [
    "Y_probs=prediction_on_real_dataset[:,0]\n",
    "fpr,tpr,_=roc_curve(Y_test,Y_probs)\n",
    "\n",
    "Y_probs_extra=prediction_on_real_dataset_adding_extra[:,0]\n",
    "efpr,etpr,_=roc_curve(Y_test,Y_probs_extra)\n",
    "\n",
    "pyplot.clf()\n",
    "pyplot.plot(fpr, tpr,label='original')\n",
    "pyplot.plot(efpr,etpr,label='LSTM generated')\n",
    "pyplot.xlabel('FPR')\n",
    "pyplot.ylabel('TPR(recall)')\n",
    "pyplot.title('ROC curve - Pima dataset')\n",
    "pyplot.legend(loc=2)\n",
    "pyplot.show()"
   ]
  },
  {
   "cell_type": "code",
   "execution_count": 32,
   "metadata": {},
   "outputs": [
    {
     "data": {
      "text/plain": [
       "array([[0.86507391, 0.13492609],\n",
       "       [0.8725682 , 0.1274318 ],\n",
       "       [0.66472227, 0.33527773],\n",
       "       [0.8517467 , 0.1482533 ],\n",
       "       [0.82660957, 0.17339043],\n",
       "       [0.75032376, 0.24967624],\n",
       "       [0.8826679 , 0.1173321 ],\n",
       "       [0.28300997, 0.71699003],\n",
       "       [0.8768828 , 0.1231172 ],\n",
       "       [0.1978152 , 0.8021848 ],\n",
       "       [0.79508966, 0.20491034],\n",
       "       [0.38381018, 0.61618982],\n",
       "       [0.86558735, 0.13441265],\n",
       "       [0.92502334, 0.07497666],\n",
       "       [0.1180336 , 0.8819664 ],\n",
       "       [0.800258  , 0.199742  ],\n",
       "       [0.66523489, 0.33476511],\n",
       "       [0.7699848 , 0.2300152 ],\n",
       "       [0.14021632, 0.85978368],\n",
       "       [0.16041428, 0.83958572],\n",
       "       [0.83276038, 0.16723962],\n",
       "       [0.71857313, 0.28142687],\n",
       "       [0.2652324 , 0.7347676 ],\n",
       "       [0.15294086, 0.84705914],\n",
       "       [0.88037559, 0.11962441],\n",
       "       [0.11919243, 0.88080757],\n",
       "       [0.56134531, 0.43865469],\n",
       "       [0.2106148 , 0.7893852 ],\n",
       "       [0.88680655, 0.11319345],\n",
       "       [0.85151999, 0.14848001],\n",
       "       [0.85141574, 0.14858426],\n",
       "       [0.91741581, 0.08258419],\n",
       "       [0.34876019, 0.65123981],\n",
       "       [0.2652324 , 0.7347676 ],\n",
       "       [0.87457081, 0.12542919],\n",
       "       [0.87045655, 0.12954345],\n",
       "       [0.82879237, 0.17120763],\n",
       "       [0.81350063, 0.18649937],\n",
       "       [0.78774084, 0.21225916],\n",
       "       [0.67752618, 0.32247382],\n",
       "       [0.20999577, 0.79000423],\n",
       "       [0.13548444, 0.86451556],\n",
       "       [0.87878091, 0.12121909],\n",
       "       [0.84533689, 0.15466311],\n",
       "       [0.15952488, 0.84047512],\n",
       "       [0.8273172 , 0.1726828 ],\n",
       "       [0.85492071, 0.14507929],\n",
       "       [0.17592336, 0.82407664],\n",
       "       [0.24491129, 0.75508871],\n",
       "       [0.85213688, 0.14786312],\n",
       "       [0.78317292, 0.21682708],\n",
       "       [0.5889074 , 0.4110926 ],\n",
       "       [0.90916108, 0.09083892],\n",
       "       [0.83682424, 0.16317576],\n",
       "       [0.85150818, 0.14849182],\n",
       "       [0.75474886, 0.24525114],\n",
       "       [0.44667977, 0.55332023],\n",
       "       [0.8726797 , 0.1273203 ],\n",
       "       [0.53718785, 0.46281215],\n",
       "       [0.88632208, 0.11367792],\n",
       "       [0.87719899, 0.12280101],\n",
       "       [0.94228684, 0.05771316],\n",
       "       [0.85155049, 0.14844951],\n",
       "       [0.85222337, 0.14777663],\n",
       "       [0.87417021, 0.12582979]])"
      ]
     },
     "execution_count": 32,
     "metadata": {},
     "output_type": "execute_result"
    }
   ],
   "source": [
    "prediction_on_real_dataset"
   ]
  },
  {
   "cell_type": "code",
   "execution_count": 33,
   "metadata": {},
   "outputs": [
    {
     "data": {
      "text/plain": [
       "array([[0.82809522, 0.17190478],\n",
       "       [0.82125006, 0.17874994],\n",
       "       [0.5469987 , 0.4530013 ],\n",
       "       [0.81584233, 0.18415767],\n",
       "       [0.64948121, 0.35051879],\n",
       "       [0.58628565, 0.41371435],\n",
       "       [0.92133991, 0.07866009],\n",
       "       [0.24290568, 0.75709432],\n",
       "       [0.82238956, 0.17761044],\n",
       "       [0.31005685, 0.68994315],\n",
       "       [0.70141128, 0.29858872],\n",
       "       [0.40968926, 0.59031074],\n",
       "       [0.89070814, 0.10929186],\n",
       "       [0.9336606 , 0.0663394 ],\n",
       "       [0.19686105, 0.80313895],\n",
       "       [0.68343215, 0.31656785],\n",
       "       [0.5       , 0.5       ],\n",
       "       [0.53378743, 0.46621257],\n",
       "       [0.44815429, 0.55184571],\n",
       "       [0.31653722, 0.68346278],\n",
       "       [0.89011872, 0.10988128],\n",
       "       [0.57623306, 0.42376694],\n",
       "       [0.87450423, 0.12549577],\n",
       "       [0.20095104, 0.79904896],\n",
       "       [0.82345147, 0.17654853],\n",
       "       [0.11889926, 0.88110074],\n",
       "       [0.71147983, 0.28852017],\n",
       "       [0.18842002, 0.81157998],\n",
       "       [0.88425272, 0.11574728],\n",
       "       [0.81567639, 0.18432361],\n",
       "       [0.8157649 , 0.1842351 ],\n",
       "       [0.84717004, 0.15282996],\n",
       "       [0.25877662, 0.74122338],\n",
       "       [0.87450423, 0.12549577],\n",
       "       [0.82189256, 0.17810744],\n",
       "       [0.82056583, 0.17943417],\n",
       "       [0.65138926, 0.34861074],\n",
       "       [0.68386658, 0.31613342],\n",
       "       [0.6626549 , 0.3373451 ],\n",
       "       [0.60344444, 0.39655556],\n",
       "       [0.2375357 , 0.7624643 ],\n",
       "       [0.19421732, 0.80578268],\n",
       "       [0.75405574, 0.24594426],\n",
       "       [0.76131817, 0.23868183],\n",
       "       [0.21176936, 0.78823064],\n",
       "       [0.72024088, 0.27975912],\n",
       "       [0.81661744, 0.18338256],\n",
       "       [0.21552309, 0.78447691],\n",
       "       [0.31233417, 0.68766583],\n",
       "       [0.80305574, 0.19694426],\n",
       "       [0.59785042, 0.40214958],\n",
       "       [0.41870166, 0.58129834],\n",
       "       [0.9632535 , 0.0367465 ],\n",
       "       [0.73004054, 0.26995946],\n",
       "       [0.81578718, 0.18421282],\n",
       "       [0.54988452, 0.45011548],\n",
       "       [0.40900529, 0.59099471],\n",
       "       [0.82121309, 0.17878691],\n",
       "       [0.20423241, 0.79576759],\n",
       "       [0.97684456, 0.02315544],\n",
       "       [0.82255525, 0.17744475],\n",
       "       [0.97338136, 0.02661864],\n",
       "       [0.73795604, 0.26204396],\n",
       "       [0.81874749, 0.18125251],\n",
       "       [0.82163   , 0.17837   ]])"
      ]
     },
     "execution_count": 33,
     "metadata": {},
     "output_type": "execute_result"
    }
   ],
   "source": [
    "prediction_on_real_dataset_adding_extra"
   ]
  },
  {
   "cell_type": "code",
   "execution_count": null,
   "metadata": {
    "collapsed": true
   },
   "outputs": [],
   "source": []
  },
  {
   "cell_type": "code",
   "execution_count": null,
   "metadata": {
    "collapsed": true
   },
   "outputs": [],
   "source": []
  }
 ],
 "metadata": {
  "kernelspec": {
   "display_name": "Python 3",
   "language": "python",
   "name": "python3"
  },
  "language_info": {
   "codemirror_mode": {
    "name": "ipython",
    "version": 3
   },
   "file_extension": ".py",
   "mimetype": "text/x-python",
   "name": "python",
   "nbconvert_exporter": "python",
   "pygments_lexer": "ipython3",
   "version": "3.6.6"
  }
 },
 "nbformat": 4,
 "nbformat_minor": 2
}
