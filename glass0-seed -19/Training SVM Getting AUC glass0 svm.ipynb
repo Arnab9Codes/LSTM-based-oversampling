{
 "cells": [
  {
   "cell_type": "code",
   "execution_count": 1,
   "metadata": {
    "collapsed": true
   },
   "outputs": [],
   "source": [
    "import time\n",
    "import math\n",
    "\n",
    "import numpy as np\n",
    "import pandas as pd\n",
    "from pandas import DataFrame\n",
    "from pandas import concat\n",
    "from matplotlib import pyplot\n",
    "\n",
    "from sklearn.preprocessing import MinMaxScaler\n",
    "from sklearn.preprocessing import LabelEncoder\n",
    "from sklearn.metrics import mean_squared_error\n",
    "\n",
    "from sklearn.preprocessing import StandardScaler\n",
    "from sklearn.model_selection import train_test_split\n",
    "from sklearn.model_selection import KFold\n",
    "from sklearn.model_selection import cross_val_score\n",
    "from sklearn.model_selection import GridSearchCV\n",
    "from sklearn.metrics import classification_report\n",
    "from sklearn.metrics import confusion_matrix\n",
    "from sklearn.metrics import accuracy_score\n",
    "from sklearn.metrics import precision_recall_curve\n",
    "\n",
    "from sklearn.pipeline import Pipeline\n",
    "from sklearn.linear_model import LogisticRegression\n",
    "from sklearn.tree import DecisionTreeClassifier\n",
    "from sklearn.neighbors import KNeighborsClassifier\n",
    "from sklearn.discriminant_analysis import LinearDiscriminantAnalysis\n",
    "from sklearn.naive_bayes import GaussianNB\n",
    "from sklearn.svm import SVC\n",
    "from sklearn.ensemble import AdaBoostClassifier\n",
    "from sklearn.ensemble import GradientBoostingClassifier\n",
    "from sklearn.ensemble import RandomForestClassifier\n",
    "from sklearn.ensemble import ExtraTreesClassifier\n",
    "\n",
    "from sklearn.model_selection import GridSearchCV\n",
    "\n",
    "import pickle"
   ]
  },
  {
   "cell_type": "code",
   "execution_count": 2,
   "metadata": {
    "collapsed": true
   },
   "outputs": [],
   "source": [
    "extra_data=pd.read_csv('new_corrected_data-v1.csv')# loading extra genereated data genereated by LSTM #prediction_of_1_0007.csv\n",
    "original_data=pd.read_csv('train_Data.csv')#original data"
   ]
  },
  {
   "cell_type": "code",
   "execution_count": 3,
   "metadata": {},
   "outputs": [
    {
     "data": {
      "text/html": [
       "<div>\n",
       "<style scoped>\n",
       "    .dataframe tbody tr th:only-of-type {\n",
       "        vertical-align: middle;\n",
       "    }\n",
       "\n",
       "    .dataframe tbody tr th {\n",
       "        vertical-align: top;\n",
       "    }\n",
       "\n",
       "    .dataframe thead th {\n",
       "        text-align: right;\n",
       "    }\n",
       "</style>\n",
       "<table border=\"1\" class=\"dataframe\">\n",
       "  <thead>\n",
       "    <tr style=\"text-align: right;\">\n",
       "      <th></th>\n",
       "      <th>0</th>\n",
       "      <th>1</th>\n",
       "      <th>2</th>\n",
       "      <th>3</th>\n",
       "      <th>4</th>\n",
       "      <th>5</th>\n",
       "      <th>6</th>\n",
       "      <th>7</th>\n",
       "      <th>8</th>\n",
       "      <th>9</th>\n",
       "    </tr>\n",
       "  </thead>\n",
       "  <tbody>\n",
       "    <tr>\n",
       "      <th>0</th>\n",
       "      <td>1.516282</td>\n",
       "      <td>13.329209</td>\n",
       "      <td>3.550051</td>\n",
       "      <td>1.443499</td>\n",
       "      <td>73.155940</td>\n",
       "      <td>0.594685</td>\n",
       "      <td>7.940725</td>\n",
       "      <td>0.030795</td>\n",
       "      <td>-0.037475</td>\n",
       "      <td>1.060840</td>\n",
       "    </tr>\n",
       "    <tr>\n",
       "      <th>1</th>\n",
       "      <td>1.520721</td>\n",
       "      <td>13.074271</td>\n",
       "      <td>3.558149</td>\n",
       "      <td>0.897148</td>\n",
       "      <td>72.449814</td>\n",
       "      <td>0.317063</td>\n",
       "      <td>9.527458</td>\n",
       "      <td>-0.029370</td>\n",
       "      <td>0.064371</td>\n",
       "      <td>0.981878</td>\n",
       "    </tr>\n",
       "    <tr>\n",
       "      <th>2</th>\n",
       "      <td>1.518030</td>\n",
       "      <td>13.747853</td>\n",
       "      <td>3.626358</td>\n",
       "      <td>1.241550</td>\n",
       "      <td>72.522070</td>\n",
       "      <td>0.380146</td>\n",
       "      <td>8.316919</td>\n",
       "      <td>0.208055</td>\n",
       "      <td>0.006868</td>\n",
       "      <td>1.016780</td>\n",
       "    </tr>\n",
       "    <tr>\n",
       "      <th>3</th>\n",
       "      <td>1.521096</td>\n",
       "      <td>13.673444</td>\n",
       "      <td>3.849871</td>\n",
       "      <td>1.055982</td>\n",
       "      <td>71.557690</td>\n",
       "      <td>0.101076</td>\n",
       "      <td>9.297729</td>\n",
       "      <td>0.540765</td>\n",
       "      <td>-0.069994</td>\n",
       "      <td>1.017836</td>\n",
       "    </tr>\n",
       "    <tr>\n",
       "      <th>4</th>\n",
       "      <td>1.521161</td>\n",
       "      <td>13.357327</td>\n",
       "      <td>3.705099</td>\n",
       "      <td>0.887174</td>\n",
       "      <td>72.335920</td>\n",
       "      <td>0.285412</td>\n",
       "      <td>9.506760</td>\n",
       "      <td>-0.029966</td>\n",
       "      <td>0.023302</td>\n",
       "      <td>1.000883</td>\n",
       "    </tr>\n",
       "  </tbody>\n",
       "</table>\n",
       "</div>"
      ],
      "text/plain": [
       "          0          1         2         3          4         5         6  \\\n",
       "0  1.516282  13.329209  3.550051  1.443499  73.155940  0.594685  7.940725   \n",
       "1  1.520721  13.074271  3.558149  0.897148  72.449814  0.317063  9.527458   \n",
       "2  1.518030  13.747853  3.626358  1.241550  72.522070  0.380146  8.316919   \n",
       "3  1.521096  13.673444  3.849871  1.055982  71.557690  0.101076  9.297729   \n",
       "4  1.521161  13.357327  3.705099  0.887174  72.335920  0.285412  9.506760   \n",
       "\n",
       "          7         8         9  \n",
       "0  0.030795 -0.037475  1.060840  \n",
       "1 -0.029370  0.064371  0.981878  \n",
       "2  0.208055  0.006868  1.016780  \n",
       "3  0.540765 -0.069994  1.017836  \n",
       "4 -0.029966  0.023302  1.000883  "
      ]
     },
     "execution_count": 3,
     "metadata": {},
     "output_type": "execute_result"
    }
   ],
   "source": [
    "extra_data.head()#displaying LSTM generated data"
   ]
  },
  {
   "cell_type": "code",
   "execution_count": 4,
   "metadata": {},
   "outputs": [
    {
     "name": "stdout",
     "output_type": "stream",
     "text": [
      "(18, 10)\n"
     ]
    }
   ],
   "source": [
    "extra=np.array(extra_data)# getting the original shape\n",
    "print(extra.shape)"
   ]
  },
  {
   "cell_type": "code",
   "execution_count": 5,
   "metadata": {},
   "outputs": [
    {
     "data": {
      "text/plain": [
       "array([ 1.5162823e+00,  1.3329209e+01,  3.5500507e+00,  1.4434992e+00,\n",
       "        7.3155940e+01,  5.9468526e-01,  7.9407253e+00,  3.0794527e-02,\n",
       "       -3.7474807e-02,  1.0608401e+00])"
      ]
     },
     "execution_count": 5,
     "metadata": {},
     "output_type": "execute_result"
    }
   ],
   "source": [
    "extra[0] # showing first row vector"
   ]
  },
  {
   "cell_type": "code",
   "execution_count": 6,
   "metadata": {
    "collapsed": true
   },
   "outputs": [],
   "source": [
    "# Setting predictions of all generated data to 1 because their outputs are mostly 0.98, 0.99 etc. \n",
    "for i in range(0,len(extra),1):\n",
    "    extra[i][9]=int(1)"
   ]
  },
  {
   "cell_type": "code",
   "execution_count": 7,
   "metadata": {},
   "outputs": [
    {
     "data": {
      "text/plain": [
       "array([[ 1.5162823e+00,  1.3329209e+01,  3.5500507e+00,  1.4434992e+00,\n",
       "         7.3155940e+01,  5.9468526e-01,  7.9407253e+00,  3.0794527e-02,\n",
       "        -3.7474807e-02,  1.0000000e+00],\n",
       "       [ 1.5207211e+00,  1.3074271e+01,  3.5581490e+00,  8.9714843e-01,\n",
       "         7.2449814e+01,  3.1706270e-01,  9.5274580e+00, -2.9370015e-02,\n",
       "         6.4370560e-02,  1.0000000e+00],\n",
       "       [ 1.5180303e+00,  1.3747853e+01,  3.6263576e+00,  1.2415501e+00,\n",
       "         7.2522070e+01,  3.8014650e-01,  8.3169190e+00,  2.0805523e-01,\n",
       "         6.8678823e-03,  1.0000000e+00],\n",
       "       [ 1.5210959e+00,  1.3673444e+01,  3.8498712e+00,  1.0559815e+00,\n",
       "         7.1557690e+01,  1.0107623e-01,  9.2977290e+00,  5.4076546e-01,\n",
       "        -6.9993790e-02,  1.0000000e+00],\n",
       "       [ 1.5211610e+00,  1.3357327e+01,  3.7050986e+00,  8.8717425e-01,\n",
       "         7.2335920e+01,  2.8541220e-01,  9.5067600e+00, -2.9966425e-02,\n",
       "         2.3301536e-02,  1.0000000e+00],\n",
       "       [ 1.5183735e+00,  1.3210247e+01,  3.8423696e+00,  1.3135273e+00,\n",
       "         7.2877830e+01,  5.9823450e-01,  8.0933690e+00, -1.0969957e-01,\n",
       "         7.0895070e-03,  1.0000000e+00],\n",
       "       [ 1.5194945e+00,  1.3782359e+01,  3.7144039e+00,  1.0573523e+00,\n",
       "         7.2238170e+01,  2.9173076e-01,  8.8534200e+00,  7.1938890e-02,\n",
       "         1.7388865e-02,  1.0000000e+00],\n",
       "       [ 1.5187511e+00,  1.3458711e+01,  3.5484886e+00,  1.1412487e+00,\n",
       "         7.2790020e+01,  4.1491240e-01,  8.7644005e+00,  9.2461610e-03,\n",
       "        -1.5570700e-02,  1.0000000e+00],\n",
       "       [ 1.5176950e+00,  1.3293746e+01,  3.7658405e+00,  1.2961792e+00,\n",
       "         7.2609344e+01,  4.5642194e-01,  8.4763970e+00,  1.1133717e-01,\n",
       "         2.6827844e-02,  1.0000000e+00],\n",
       "       [ 1.5186542e+00,  1.2943812e+01,  3.5984510e+00,  1.2066817e+00,\n",
       "         7.2566320e+01,  5.1942880e-01,  8.8892640e+00,  1.4226637e-02,\n",
       "         3.4362216e-02,  1.0000000e+00],\n",
       "       [ 1.5191536e+00,  1.3509105e+01,  3.6883805e+00,  1.1295143e+00,\n",
       "         7.2750860e+01,  4.8890942e-01,  8.5025660e+00, -6.5304020e-02,\n",
       "         2.1921134e-02,  1.0000000e+00],\n",
       "       [ 1.5224539e+00,  1.3324609e+01,  3.6857934e+00,  7.7215630e-01,\n",
       "         7.2208885e+01,  1.7631260e-01,  9.8231050e+00, -9.8719810e-03,\n",
       "         4.3030800e-02,  1.0000000e+00],\n",
       "       [ 1.5173582e+00,  1.3680496e+01,  3.5777600e+00,  1.3767972e+00,\n",
       "         7.2679420e+01,  4.3815446e-01,  8.1215720e+00,  8.3999590e-02,\n",
       "        -2.2789061e-02,  1.0000000e+00],\n",
       "       [ 1.5173475e+00,  1.3164710e+01,  3.5502670e+00,  1.2096872e+00,\n",
       "         7.3295490e+01,  6.2294300e-01,  8.1653190e+00, -1.6828970e-01,\n",
       "         7.0264940e-02,  1.0000000e+00],\n",
       "       [ 1.5198752e+00,  1.3331691e+01,  3.6148884e+00,  1.0009216e+00,\n",
       "         7.2753530e+01,  3.9051798e-01,  8.7849245e+00,  2.0407123e-02,\n",
       "        -4.5346115e-03,  1.0000000e+00],\n",
       "       [ 1.5207830e+00,  1.3342025e+01,  3.7937288e+00,  1.0056455e+00,\n",
       "         7.2164320e+01,  2.1855170e-01,  9.5193840e+00,  6.4198220e-02,\n",
       "         1.0333684e-02,  1.0000000e+00],\n",
       "       [ 1.5167544e+00,  1.3424308e+01,  3.5703910e+00,  1.3404653e+00,\n",
       "         7.2892300e+01,  4.9327457e-01,  8.2573020e+00,  1.2233786e-01,\n",
       "         3.2774250e-02,  1.0000000e+00],\n",
       "       [ 1.5182859e+00,  1.3485422e+01,  3.9825687e+00,  1.2293197e+00,\n",
       "         7.2273544e+01,  3.2674580e-01,  8.4614170e+00,  1.8232767e-01,\n",
       "        -5.6192600e-02,  1.0000000e+00]])"
      ]
     },
     "execution_count": 7,
     "metadata": {},
     "output_type": "execute_result"
    }
   ],
   "source": [
    "extra #showing LSTM generated extra data ready for training"
   ]
  },
  {
   "cell_type": "code",
   "execution_count": 8,
   "metadata": {},
   "outputs": [
    {
     "data": {
      "text/html": [
       "<div>\n",
       "<style scoped>\n",
       "    .dataframe tbody tr th:only-of-type {\n",
       "        vertical-align: middle;\n",
       "    }\n",
       "\n",
       "    .dataframe tbody tr th {\n",
       "        vertical-align: top;\n",
       "    }\n",
       "\n",
       "    .dataframe thead th {\n",
       "        text-align: right;\n",
       "    }\n",
       "</style>\n",
       "<table border=\"1\" class=\"dataframe\">\n",
       "  <thead>\n",
       "    <tr style=\"text-align: right;\">\n",
       "      <th></th>\n",
       "      <th>0</th>\n",
       "      <th>1</th>\n",
       "      <th>2</th>\n",
       "      <th>3</th>\n",
       "      <th>4</th>\n",
       "      <th>5</th>\n",
       "      <th>6</th>\n",
       "      <th>7</th>\n",
       "      <th>8</th>\n",
       "      <th>9</th>\n",
       "    </tr>\n",
       "  </thead>\n",
       "  <tbody>\n",
       "    <tr>\n",
       "      <th>0</th>\n",
       "      <td>1.515091</td>\n",
       "      <td>15.15225</td>\n",
       "      <td>0.00000</td>\n",
       "      <td>2.25131</td>\n",
       "      <td>73.5004</td>\n",
       "      <td>0.00000</td>\n",
       "      <td>8.33520</td>\n",
       "      <td>0.6300</td>\n",
       "      <td>0.0000</td>\n",
       "      <td>0</td>\n",
       "    </tr>\n",
       "    <tr>\n",
       "      <th>1</th>\n",
       "      <td>1.516503</td>\n",
       "      <td>14.38085</td>\n",
       "      <td>0.00000</td>\n",
       "      <td>1.93994</td>\n",
       "      <td>73.6124</td>\n",
       "      <td>0.00000</td>\n",
       "      <td>8.47508</td>\n",
       "      <td>1.5687</td>\n",
       "      <td>0.0000</td>\n",
       "      <td>0</td>\n",
       "    </tr>\n",
       "    <tr>\n",
       "      <th>2</th>\n",
       "      <td>1.517688</td>\n",
       "      <td>12.65185</td>\n",
       "      <td>3.56057</td>\n",
       "      <td>1.30115</td>\n",
       "      <td>73.0804</td>\n",
       "      <td>0.60858</td>\n",
       "      <td>8.69028</td>\n",
       "      <td>0.0000</td>\n",
       "      <td>0.0714</td>\n",
       "      <td>1</td>\n",
       "    </tr>\n",
       "    <tr>\n",
       "      <th>3</th>\n",
       "      <td>1.517688</td>\n",
       "      <td>12.45235</td>\n",
       "      <td>2.71196</td>\n",
       "      <td>1.29152</td>\n",
       "      <td>73.7020</td>\n",
       "      <td>0.55890</td>\n",
       "      <td>9.05612</td>\n",
       "      <td>0.0000</td>\n",
       "      <td>0.1224</td>\n",
       "      <td>1</td>\n",
       "    </tr>\n",
       "    <tr>\n",
       "      <th>4</th>\n",
       "      <td>1.515137</td>\n",
       "      <td>14.00845</td>\n",
       "      <td>2.68053</td>\n",
       "      <td>3.50000</td>\n",
       "      <td>69.8884</td>\n",
       "      <td>1.68291</td>\n",
       "      <td>5.87116</td>\n",
       "      <td>2.1987</td>\n",
       "      <td>0.0000</td>\n",
       "      <td>0</td>\n",
       "    </tr>\n",
       "  </tbody>\n",
       "</table>\n",
       "</div>"
      ],
      "text/plain": [
       "          0         1        2        3        4        5        6       7  \\\n",
       "0  1.515091  15.15225  0.00000  2.25131  73.5004  0.00000  8.33520  0.6300   \n",
       "1  1.516503  14.38085  0.00000  1.93994  73.6124  0.00000  8.47508  1.5687   \n",
       "2  1.517688  12.65185  3.56057  1.30115  73.0804  0.60858  8.69028  0.0000   \n",
       "3  1.517688  12.45235  2.71196  1.29152  73.7020  0.55890  9.05612  0.0000   \n",
       "4  1.515137  14.00845  2.68053  3.50000  69.8884  1.68291  5.87116  2.1987   \n",
       "\n",
       "        8  9  \n",
       "0  0.0000  0  \n",
       "1  0.0000  0  \n",
       "2  0.0714  1  \n",
       "3  0.1224  1  \n",
       "4  0.0000  0  "
      ]
     },
     "execution_count": 8,
     "metadata": {},
     "output_type": "execute_result"
    }
   ],
   "source": [
    "original_data.head() #showing original data"
   ]
  },
  {
   "cell_type": "code",
   "execution_count": null,
   "metadata": {
    "collapsed": true
   },
   "outputs": [],
   "source": []
  },
  {
   "cell_type": "code",
   "execution_count": 9,
   "metadata": {
    "collapsed": true
   },
   "outputs": [],
   "source": [
    "#loading data values from original dataset(Pima)\n",
    "val=original_data.values"
   ]
  },
  {
   "cell_type": "code",
   "execution_count": 10,
   "metadata": {
    "collapsed": true
   },
   "outputs": [],
   "source": [
    "X=val[:,:9].astype(float)# getting the feature values\n",
    "Y=val[:,9].astype(int)# getting prediction"
   ]
  },
  {
   "cell_type": "code",
   "execution_count": 11,
   "metadata": {
    "collapsed": true
   },
   "outputs": [],
   "source": [
    "#extra_X denotes the extra training data generated by LSTM \n",
    "extra_X=extra[:,:9].astype(float)\n",
    "\n",
    "#extra_Y denotes extra training prediction data for training the algorithm\n",
    "extra_Y=extra[:,9].astype(int)"
   ]
  },
  {
   "cell_type": "code",
   "execution_count": 12,
   "metadata": {
    "collapsed": true
   },
   "outputs": [],
   "source": [
    "# extrain=original training data + LSTM generated training data\n",
    "\n",
    "# eytrain=original training prediction + LSTM generated\n",
    "\n",
    "extrain=np.concatenate((X,extra_X),axis=0)\n",
    "eytrain=np.concatenate((Y,extra_Y),axis=0)"
   ]
  },
  {
   "cell_type": "code",
   "execution_count": 13,
   "metadata": {},
   "outputs": [
    {
     "name": "stdout",
     "output_type": "stream",
     "text": [
      "(167, 9)\n",
      "(167,)\n"
     ]
    }
   ],
   "source": [
    "print(extrain.shape)\n",
    "print(eytrain.shape)"
   ]
  },
  {
   "cell_type": "code",
   "execution_count": 14,
   "metadata": {
    "collapsed": true
   },
   "outputs": [],
   "source": [
    "test_Data=pd.read_csv('test_Data.csv')"
   ]
  },
  {
   "cell_type": "code",
   "execution_count": 15,
   "metadata": {
    "collapsed": true
   },
   "outputs": [],
   "source": [
    "test_Data=np.array(test_Data)"
   ]
  },
  {
   "cell_type": "code",
   "execution_count": 16,
   "metadata": {},
   "outputs": [
    {
     "data": {
      "text/plain": [
       "(65, 10)"
      ]
     },
     "execution_count": 16,
     "metadata": {},
     "output_type": "execute_result"
    }
   ],
   "source": [
    "test_Data.shape"
   ]
  },
  {
   "cell_type": "code",
   "execution_count": 17,
   "metadata": {
    "collapsed": true
   },
   "outputs": [],
   "source": [
    "X_test=test_Data[:,:9].astype(float)\n",
    "Y_test=test_Data[:,9].astype(int)"
   ]
  },
  {
   "cell_type": "code",
   "execution_count": null,
   "metadata": {
    "collapsed": true
   },
   "outputs": [],
   "source": []
  },
  {
   "cell_type": "code",
   "execution_count": 45,
   "metadata": {
    "collapsed": true
   },
   "outputs": [],
   "source": [
    "def svc_param_selection(X, y, nfolds):\n",
    "    Cs = [0.0001,0.001, 0.01, 0.1, 1, 10]\n",
    "    gammas = [0.0001,0.001, 0.01, 0.1, 1,10]\n",
    "    param_grid = {'C': Cs, 'gamma' : gammas}\n",
    "    grid_search = GridSearchCV(SVC(kernel='rbf',probability=True), param_grid, cv=nfolds)\n",
    "    grid_search.fit(X, y)\n",
    "    grid_search.best_params_\n",
    "    return grid_search.best_estimator_"
   ]
  },
  {
   "cell_type": "code",
   "execution_count": 46,
   "metadata": {
    "collapsed": true
   },
   "outputs": [],
   "source": [
    "# setting seed =7 to produce same results over and over again, it was maintained during different experiments \n",
    "seed=9\n"
   ]
  },
  {
   "cell_type": "code",
   "execution_count": 47,
   "metadata": {},
   "outputs": [
    {
     "name": "stderr",
     "output_type": "stream",
     "text": [
      "G:\\newage2\\envs\\tensorflow\\lib\\site-packages\\sklearn\\model_selection\\_search.py:813: DeprecationWarning: The default of the `iid` parameter will change from True to False in version 0.22 and will be removed in 0.24. This will change numeric results when test-set sizes are unequal.\n",
      "  DeprecationWarning)\n",
      "G:\\newage2\\envs\\tensorflow\\lib\\site-packages\\sklearn\\model_selection\\_search.py:813: DeprecationWarning: The default of the `iid` parameter will change from True to False in version 0.22 and will be removed in 0.24. This will change numeric results when test-set sizes are unequal.\n",
      "  DeprecationWarning)\n"
     ]
    }
   ],
   "source": [
    "# first rbf_svc for training on just the original training data\n",
    "#rbf_svc = SVC(kernel='rbf', gamma=0.00001, C=1000,probability=True).fit(X_train,Y_train)\n",
    "rbf_svc=svc_param_selection(X,Y,5)\n",
    "\n",
    "# secondly rbf_svc_extra for training on original+LSTM\n",
    "rbf_svc_extra = svc_param_selection(extrain,eytrain,5)"
   ]
  },
  {
   "cell_type": "code",
   "execution_count": 48,
   "metadata": {},
   "outputs": [
    {
     "data": {
      "text/plain": [
       "SVC(C=1, cache_size=200, class_weight=None, coef0=0.0,\n",
       "    decision_function_shape='ovr', degree=3, gamma=1, kernel='rbf', max_iter=-1,\n",
       "    probability=True, random_state=None, shrinking=True, tol=0.001,\n",
       "    verbose=False)"
      ]
     },
     "execution_count": 48,
     "metadata": {},
     "output_type": "execute_result"
    }
   ],
   "source": [
    "\n",
    "# fitting the data\n",
    "rbf_svc.fit(X,Y)\n",
    "rbf_svc_extra.fit(extrain,eytrain)"
   ]
  },
  {
   "cell_type": "code",
   "execution_count": 49,
   "metadata": {},
   "outputs": [
    {
     "data": {
      "text/plain": [
       "(65, 9)"
      ]
     },
     "execution_count": 49,
     "metadata": {},
     "output_type": "execute_result"
    }
   ],
   "source": [
    "# loading the validation dataset previously set up by validation split(this data was not included in any training procedure)\n",
    "Prediction_data=X_test\n",
    "\n",
    "#producing the shape\n",
    "Prediction_data.shape"
   ]
  },
  {
   "cell_type": "code",
   "execution_count": 50,
   "metadata": {
    "collapsed": true
   },
   "outputs": [],
   "source": [
    "# making predictions on validation dataset using svc trained only on original training data\n",
    "prediction_on_real_dataset=rbf_svc.predict_proba(Prediction_data)\n",
    "\n",
    "#saving probabilities\n",
    "predictions=rbf_svc.predict(Prediction_data)\n",
    "\n",
    "# making predictions on validation dataset using svc trained on original training data + LSTM generated data\n",
    "prediction_on_real_dataset_adding_extra=rbf_svc_extra.predict_proba(Prediction_data)\n",
    "#saving probabilities\n",
    "predictions_extra=rbf_svc_extra.predict(Prediction_data)"
   ]
  },
  {
   "cell_type": "code",
   "execution_count": 51,
   "metadata": {},
   "outputs": [
    {
     "name": "stdout",
     "output_type": "stream",
     "text": [
      "65\n",
      "65\n"
     ]
    }
   ],
   "source": [
    "print(len(prediction_on_real_dataset))\n",
    "\n",
    "print(len(prediction_on_real_dataset_adding_extra))"
   ]
  },
  {
   "cell_type": "code",
   "execution_count": 52,
   "metadata": {
    "collapsed": true
   },
   "outputs": [],
   "source": [
    "from sklearn.metrics import f1_score\n",
    "from sklearn.metrics import auc\n",
    "from sklearn.metrics import average_precision_score\n",
    "\n",
    "from sklearn.metrics import roc_curve, roc_auc_score"
   ]
  },
  {
   "cell_type": "code",
   "execution_count": 53,
   "metadata": {},
   "outputs": [
    {
     "data": {
      "text/plain": [
       "0.7931034482758621"
      ]
     },
     "execution_count": 53,
     "metadata": {},
     "output_type": "execute_result"
    }
   ],
   "source": [
    "f1_score(Y_test,predictions)#without_extra"
   ]
  },
  {
   "cell_type": "code",
   "execution_count": 27,
   "metadata": {},
   "outputs": [
    {
     "data": {
      "text/plain": [
       "0.7666666666666667"
      ]
     },
     "execution_count": 27,
     "metadata": {},
     "output_type": "execute_result"
    }
   ],
   "source": [
    "f1_score(Y_test,predictions_extra)#with_extra"
   ]
  },
  {
   "cell_type": "code",
   "execution_count": 28,
   "metadata": {},
   "outputs": [
    {
     "data": {
      "text/plain": [
       "array([0.91662226, 0.08337774])"
      ]
     },
     "execution_count": 28,
     "metadata": {},
     "output_type": "execute_result"
    }
   ],
   "source": [
    "prediction_on_real_dataset[0]# probabilities of 2 class"
   ]
  },
  {
   "cell_type": "code",
   "execution_count": 29,
   "metadata": {},
   "outputs": [
    {
     "name": "stdout",
     "output_type": "stream",
     "text": [
      "Without extra:  0.7759740259740259\n",
      "With extra:  0.7683982683982684\n"
     ]
    }
   ],
   "source": [
    "# getting AUC score for classifier trained on only original data\n",
    "fpr, tpr, thres=roc_curve(Y_test,prediction_on_real_dataset[:,1],pos_label=1)\n",
    "\n",
    "#getting AUC score for classifier trained on original + LSTM generated data\n",
    "efpr, etpr, ethres=roc_curve(Y_test,prediction_on_real_dataset_adding_extra[:,1],pos_label=1)\n",
    "\n",
    "with_=auc(fpr,tpr)\n",
    "without_=auc(efpr,etpr)\n",
    "print('Without extra: ',auc(fpr,tpr))\n",
    "\n",
    "print('With extra: ',auc(efpr,etpr))"
   ]
  },
  {
   "cell_type": "code",
   "execution_count": 30,
   "metadata": {},
   "outputs": [
    {
     "data": {
      "image/png": "[encoded data removed]",
      "text/plain": [
       "<matplotlib.figure.Figure at 0x6fa1bc7fd0>"
      ]
     },
     "metadata": {},
     "output_type": "display_data"
    }
   ],
   "source": [
    "# plotting data ( for minority predictions , here minority class = 1)\n",
    "\n",
    "Y_probs=prediction_on_real_dataset[:,1]\n",
    "fpr,tpr,_=roc_curve(Y_test,Y_probs)\n",
    "\n",
    "Y_probs_extra=prediction_on_real_dataset_adding_extra[:,1]\n",
    "efpr,etpr,_=roc_curve(Y_test,Y_probs_extra)\n",
    "\n",
    "original=auc(fpr,tpr)\n",
    "lstm_with_extra=auc(efpr,etpr)\n",
    "\n",
    "original=original.astype(float)\n",
    "lstm_with_extra=lstm_with_extra.astype(float)\n",
    "\n",
    "\n",
    "pyplot.clf()\n",
    "pyplot.plot(fpr, tpr,label='original (AUC : %5.4f)'%(with_),linewidth='1.2')\n",
    "pyplot.plot(efpr,etpr,label='LSTM generated+original(AUC : %5.4f)'%(without_),linewidth='1.2')\n",
    "pyplot.xlabel('FPR')\n",
    "pyplot.ylabel('TPR')\n",
    "pyplot.title('ROC curve - Pima dataset')\n",
    "pyplot.legend(loc=4)\n",
    "pyplot.savefig('ROC curve .png',dpi=500)\n",
    "pyplot.show()"
   ]
  },
  {
   "cell_type": "code",
   "execution_count": 50,
   "metadata": {},
   "outputs": [
    {
     "data": {
      "image/png": "[encoded data removed]",
      "text/plain": [
       "<matplotlib.figure.Figure at 0x3a102dd9b0>"
      ]
     },
     "metadata": {},
     "output_type": "display_data"
    }
   ],
   "source": [
    "Y_probs=prediction_on_real_dataset[:,0]\n",
    "fpr,tpr,_=roc_curve(Y_test,Y_probs)\n",
    "\n",
    "Y_probs_extra=prediction_on_real_dataset_adding_extra[:,0]\n",
    "efpr,etpr,_=roc_curve(Y_test,Y_probs_extra)\n",
    "\n",
    "pyplot.clf()\n",
    "pyplot.plot(fpr, tpr,label='original')\n",
    "pyplot.plot(efpr,etpr,label='LSTM generated')\n",
    "pyplot.xlabel('FPR')\n",
    "pyplot.ylabel('TPR(recall)')\n",
    "pyplot.title('ROC curve - Pima dataset')\n",
    "pyplot.legend(loc=2)\n",
    "pyplot.show()"
   ]
  },
  {
   "cell_type": "code",
   "execution_count": 51,
   "metadata": {},
   "outputs": [
    {
     "data": {
      "text/plain": [
       "array([[0.71423122, 0.28576878],\n",
       "       [0.59616684, 0.40383316],\n",
       "       [0.83005919, 0.16994081],\n",
       "       [0.78963776, 0.21036224],\n",
       "       [0.79043351, 0.20956649],\n",
       "       [0.81166888, 0.18833112],\n",
       "       [0.34959236, 0.65040764],\n",
       "       [0.22883841, 0.77116159],\n",
       "       [0.44679005, 0.55320995],\n",
       "       [0.5       , 0.5       ],\n",
       "       [0.44267355, 0.55732645],\n",
       "       [0.71246436, 0.28753564],\n",
       "       [0.44457424, 0.55542576],\n",
       "       [0.78006475, 0.21993525],\n",
       "       [0.79979039, 0.20020961],\n",
       "       [0.81872061, 0.18127939],\n",
       "       [0.81695841, 0.18304159],\n",
       "       [0.40885297, 0.59114703],\n",
       "       [0.68618511, 0.31381489],\n",
       "       [0.81831093, 0.18168907],\n",
       "       [0.77140821, 0.22859179],\n",
       "       [0.21870017, 0.78129983],\n",
       "       [0.79170787, 0.20829213],\n",
       "       [0.14904521, 0.85095479],\n",
       "       [0.6086659 , 0.3913341 ],\n",
       "       [0.76539349, 0.23460651],\n",
       "       [0.63370769, 0.36629231],\n",
       "       [0.44004964, 0.55995036],\n",
       "       [0.69523069, 0.30476931],\n",
       "       [0.63259559, 0.36740441],\n",
       "       [0.80332758, 0.19667242],\n",
       "       [0.72559076, 0.27440924],\n",
       "       [0.65311637, 0.34688363],\n",
       "       [0.83714706, 0.16285294],\n",
       "       [0.56309331, 0.43690669],\n",
       "       [0.7766161 , 0.2233839 ],\n",
       "       [0.74797402, 0.25202598],\n",
       "       [0.70739301, 0.29260699],\n",
       "       [0.79084948, 0.20915052],\n",
       "       [0.80814332, 0.19185668],\n",
       "       [0.81047938, 0.18952062],\n",
       "       [0.64876985, 0.35123015],\n",
       "       [0.78162939, 0.21837061],\n",
       "       [0.4086525 , 0.5913475 ],\n",
       "       [0.82718009, 0.17281991],\n",
       "       [0.44412872, 0.55587128],\n",
       "       [0.44628403, 0.55371597],\n",
       "       [0.80741057, 0.19258943],\n",
       "       [0.70518009, 0.29481991],\n",
       "       [0.70570162, 0.29429838],\n",
       "       [0.38435764, 0.61564236],\n",
       "       [0.81195591, 0.18804409],\n",
       "       [0.40490882, 0.59509118],\n",
       "       [0.41454681, 0.58545319],\n",
       "       [0.79934902, 0.20065098],\n",
       "       [0.68958105, 0.31041895],\n",
       "       [0.7972957 , 0.2027043 ],\n",
       "       [0.80937836, 0.19062164],\n",
       "       [0.33288319, 0.66711681],\n",
       "       [0.85796303, 0.14203697],\n",
       "       [0.50977224, 0.49022776],\n",
       "       [0.33844586, 0.66155414],\n",
       "       [0.28186434, 0.71813566],\n",
       "       [0.8438839 , 0.1561161 ],\n",
       "       [0.69421928, 0.30578072],\n",
       "       [0.81190566, 0.18809434],\n",
       "       [0.77873732, 0.22126268],\n",
       "       [0.68924294, 0.31075706],\n",
       "       [0.47611714, 0.52388286],\n",
       "       [0.62663125, 0.37336875],\n",
       "       [0.10422373, 0.89577627],\n",
       "       [0.75031498, 0.24968502],\n",
       "       [0.81831137, 0.18168863],\n",
       "       [0.50733292, 0.49266708],\n",
       "       [0.37222549, 0.62777451],\n",
       "       [0.33166559, 0.66833441],\n",
       "       [0.8311615 , 0.1688385 ],\n",
       "       [0.23217736, 0.76782264],\n",
       "       [0.57989007, 0.42010993],\n",
       "       [0.82729674, 0.17270326],\n",
       "       [0.31159612, 0.68840388],\n",
       "       [0.45833245, 0.54166755],\n",
       "       [0.59615162, 0.40384838],\n",
       "       [0.56006832, 0.43993168],\n",
       "       [0.80290273, 0.19709727],\n",
       "       [0.76314388, 0.23685612],\n",
       "       [0.82656167, 0.17343833],\n",
       "       [0.68005492, 0.31994508],\n",
       "       [0.70580378, 0.29419622],\n",
       "       [0.73090196, 0.26909804],\n",
       "       [0.15119225, 0.84880775],\n",
       "       [0.81679826, 0.18320174],\n",
       "       [0.80140917, 0.19859083],\n",
       "       [0.73265601, 0.26734399],\n",
       "       [0.80302518, 0.19697482],\n",
       "       [0.22288216, 0.77711784],\n",
       "       [0.2768757 , 0.7231243 ],\n",
       "       [0.78142208, 0.21857792],\n",
       "       [0.82483144, 0.17516856],\n",
       "       [0.8215638 , 0.1784362 ],\n",
       "       [0.80681599, 0.19318401],\n",
       "       [0.81521739, 0.18478261],\n",
       "       [0.33325113, 0.66674887],\n",
       "       [0.51041554, 0.48958446],\n",
       "       [0.78277511, 0.21722489],\n",
       "       [0.53795657, 0.46204343],\n",
       "       [0.79193499, 0.20806501],\n",
       "       [0.79051793, 0.20948207],\n",
       "       [0.21035067, 0.78964933],\n",
       "       [0.77009255, 0.22990745],\n",
       "       [0.78016876, 0.21983124],\n",
       "       [0.12373751, 0.87626249],\n",
       "       [0.70813766, 0.29186234],\n",
       "       [0.7267413 , 0.2732587 ],\n",
       "       [0.70828969, 0.29171031],\n",
       "       [0.77665502, 0.22334498],\n",
       "       [0.73100399, 0.26899601],\n",
       "       [0.5       , 0.5       ],\n",
       "       [0.80028252, 0.19971748],\n",
       "       [0.79430238, 0.20569762],\n",
       "       [0.28479289, 0.71520711],\n",
       "       [0.32274405, 0.67725595],\n",
       "       [0.81137739, 0.18862261],\n",
       "       [0.70951325, 0.29048675],\n",
       "       [0.80443344, 0.19556656],\n",
       "       [0.79664852, 0.20335148],\n",
       "       [0.7956317 , 0.2043683 ],\n",
       "       [0.79544713, 0.20455287],\n",
       "       [0.83236216, 0.16763784],\n",
       "       [0.78795156, 0.21204844],\n",
       "       [0.47219277, 0.52780723],\n",
       "       [0.75550693, 0.24449307],\n",
       "       [0.4637145 , 0.5362855 ],\n",
       "       [0.79111634, 0.20888366],\n",
       "       [0.77769255, 0.22230745],\n",
       "       [0.8305469 , 0.1694531 ],\n",
       "       [0.65322307, 0.34677693],\n",
       "       [0.8176964 , 0.1823036 ],\n",
       "       [0.37186216, 0.62813784],\n",
       "       [0.8217901 , 0.1782099 ],\n",
       "       [0.72027666, 0.27972334],\n",
       "       [0.14679282, 0.85320718],\n",
       "       [0.70801616, 0.29198384],\n",
       "       [0.54375361, 0.45624639],\n",
       "       [0.84423335, 0.15576665],\n",
       "       [0.49449038, 0.50550962],\n",
       "       [0.78468222, 0.21531778],\n",
       "       [0.71528287, 0.28471713],\n",
       "       [0.7582262 , 0.2417738 ],\n",
       "       [0.7920074 , 0.2079926 ],\n",
       "       [0.5467836 , 0.4532164 ],\n",
       "       [0.39799687, 0.60200313],\n",
       "       [0.8432229 , 0.1567771 ],\n",
       "       [0.66369288, 0.33630712],\n",
       "       [0.64365308, 0.35634692],\n",
       "       [0.77372913, 0.22627087],\n",
       "       [0.5       , 0.5       ],\n",
       "       [0.8120698 , 0.1879302 ],\n",
       "       [0.79974383, 0.20025617],\n",
       "       [0.26461396, 0.73538604],\n",
       "       [0.80067017, 0.19932983],\n",
       "       [0.34436777, 0.65563223],\n",
       "       [0.66730132, 0.33269868],\n",
       "       [0.80622776, 0.19377224],\n",
       "       [0.79652878, 0.20347122],\n",
       "       [0.68767729, 0.31232271],\n",
       "       [0.51770938, 0.48229062],\n",
       "       [0.82632661, 0.17367339],\n",
       "       [0.75500808, 0.24499192],\n",
       "       [0.16985891, 0.83014109],\n",
       "       [0.7865865 , 0.2134135 ],\n",
       "       [0.78986285, 0.21013715],\n",
       "       [0.64760238, 0.35239762],\n",
       "       [0.65204781, 0.34795219],\n",
       "       [0.55111792, 0.44888208],\n",
       "       [0.77223877, 0.22776123],\n",
       "       [0.35456112, 0.64543888],\n",
       "       [0.80881653, 0.19118347],\n",
       "       [0.7372917 , 0.2627083 ],\n",
       "       [0.54568465, 0.45431535],\n",
       "       [0.68766096, 0.31233904],\n",
       "       [0.79699008, 0.20300992],\n",
       "       [0.80445998, 0.19554002],\n",
       "       [0.20185035, 0.79814965],\n",
       "       [0.5       , 0.5       ],\n",
       "       [0.80785492, 0.19214508],\n",
       "       [0.35178889, 0.64821111],\n",
       "       [0.56008312, 0.43991688],\n",
       "       [0.19257582, 0.80742418],\n",
       "       [0.51423366, 0.48576634],\n",
       "       [0.34887654, 0.65112346],\n",
       "       [0.1643027 , 0.8356973 ],\n",
       "       [0.61907752, 0.38092248],\n",
       "       [0.44184677, 0.55815323],\n",
       "       [0.8344694 , 0.1655306 ],\n",
       "       [0.3019769 , 0.6980231 ],\n",
       "       [0.84173236, 0.15826764],\n",
       "       [0.5       , 0.5       ],\n",
       "       [0.80280441, 0.19719559],\n",
       "       [0.81414751, 0.18585249],\n",
       "       [0.75911607, 0.24088393],\n",
       "       [0.8106768 , 0.1893232 ],\n",
       "       [0.7832763 , 0.2167237 ],\n",
       "       [0.32061621, 0.67938379],\n",
       "       [0.47287607, 0.52712393],\n",
       "       [0.81053091, 0.18946909],\n",
       "       [0.58771214, 0.41228786],\n",
       "       [0.23107904, 0.76892096],\n",
       "       [0.73380489, 0.26619511],\n",
       "       [0.23678908, 0.76321092],\n",
       "       [0.67644809, 0.32355191],\n",
       "       [0.79380465, 0.20619535],\n",
       "       [0.50875556, 0.49124444],\n",
       "       [0.12151071, 0.87848929],\n",
       "       [0.2624559 , 0.7375441 ],\n",
       "       [0.81797722, 0.18202278],\n",
       "       [0.80125066, 0.19874934],\n",
       "       [0.14365822, 0.85634178],\n",
       "       [0.8324071 , 0.1675929 ],\n",
       "       [0.66557117, 0.33442883],\n",
       "       [0.45846304, 0.54153696],\n",
       "       [0.65427317, 0.34572683],\n",
       "       [0.60278613, 0.39721387],\n",
       "       [0.66103594, 0.33896406],\n",
       "       [0.78117853, 0.21882147],\n",
       "       [0.80958632, 0.19041368],\n",
       "       [0.49289289, 0.50710711],\n",
       "       [0.777706  , 0.222294  ],\n",
       "       [0.81819422, 0.18180578],\n",
       "       [0.816645  , 0.183355  ],\n",
       "       [0.42481152, 0.57518848]])"
      ]
     },
     "execution_count": 51,
     "metadata": {},
     "output_type": "execute_result"
    }
   ],
   "source": [
    "prediction_on_real_dataset"
   ]
  },
  {
   "cell_type": "code",
   "execution_count": 52,
   "metadata": {},
   "outputs": [
    {
     "data": {
      "text/plain": [
       "array([[0.73911479, 0.26088521],\n",
       "       [0.57806086, 0.42193914],\n",
       "       [0.85294776, 0.14705224],\n",
       "       [0.80885662, 0.19114338],\n",
       "       [0.8435121 , 0.1564879 ],\n",
       "       [0.89092182, 0.10907818],\n",
       "       [0.2961195 , 0.7038805 ],\n",
       "       [0.16844994, 0.83155006],\n",
       "       [0.39894046, 0.60105954],\n",
       "       [0.46569347, 0.53430653],\n",
       "       [0.38896452, 0.61103548],\n",
       "       [0.69538521, 0.30461479],\n",
       "       [0.39852046, 0.60147954],\n",
       "       [0.82631933, 0.17368067],\n",
       "       [0.86753988, 0.13246012],\n",
       "       [0.8368405 , 0.1631595 ],\n",
       "       [0.87000314, 0.12999686],\n",
       "       [0.22778975, 0.77221025],\n",
       "       [0.68723362, 0.31276638],\n",
       "       [0.85270747, 0.14729253],\n",
       "       [0.77413579, 0.22586421],\n",
       "       [0.169007  , 0.830993  ],\n",
       "       [0.8269835 , 0.1730165 ],\n",
       "       [0.10278504, 0.89721496],\n",
       "       [0.59269737, 0.40730263],\n",
       "       [0.79649928, 0.20350072],\n",
       "       [0.5       , 0.5       ],\n",
       "       [0.36425576, 0.63574424],\n",
       "       [0.69081665, 0.30918335],\n",
       "       [0.60326403, 0.39673597],\n",
       "       [0.8320349 , 0.1679651 ],\n",
       "       [0.63283085, 0.36716915],\n",
       "       [0.64409107, 0.35590893],\n",
       "       [0.86143765, 0.13856235],\n",
       "       [0.52866863, 0.47133137],\n",
       "       [0.80482081, 0.19517919],\n",
       "       [0.79068494, 0.20931506],\n",
       "       [0.69356412, 0.30643588],\n",
       "       [0.82126161, 0.17873839],\n",
       "       [0.82667895, 0.17332105],\n",
       "       [0.81436665, 0.18563335],\n",
       "       [0.64327603, 0.35672397],\n",
       "       [0.79887612, 0.20112388],\n",
       "       [0.34831416, 0.65168584],\n",
       "       [0.78472024, 0.21527976],\n",
       "       [0.38954545, 0.61045455],\n",
       "       [0.39312822, 0.60687178],\n",
       "       [0.82706823, 0.17293177],\n",
       "       [0.70799305, 0.29200695],\n",
       "       [0.69201441, 0.30798559],\n",
       "       [0.33814417, 0.66185583],\n",
       "       [0.86298492, 0.13701508],\n",
       "       [0.34519832, 0.65480168],\n",
       "       [0.35391878, 0.64608122],\n",
       "       [0.8193826 , 0.1806174 ],\n",
       "       [0.6829426 , 0.3170574 ],\n",
       "       [0.70768244, 0.29231756],\n",
       "       [0.8306043 , 0.1693957 ],\n",
       "       [0.28191051, 0.71808949],\n",
       "       [0.8860606 , 0.1139394 ],\n",
       "       [0.47359316, 0.52640684],\n",
       "       [0.28235715, 0.71764285],\n",
       "       [0.22223225, 0.77776775],\n",
       "       [0.86690709, 0.13309291],\n",
       "       [0.30759963, 0.69240037],\n",
       "       [0.8320146 , 0.1679854 ],\n",
       "       [0.79923819, 0.20076181],\n",
       "       [0.68954442, 0.31045558],\n",
       "       [0.42197282, 0.57802718],\n",
       "       [0.61092153, 0.38907847],\n",
       "       [0.0682271 , 0.9317729 ],\n",
       "       [0.75453342, 0.24546658],\n",
       "       [0.82260846, 0.17739154],\n",
       "       [0.455863  , 0.544137  ],\n",
       "       [0.32193192, 0.67806808],\n",
       "       [0.27341892, 0.72658108],\n",
       "       [0.85789934, 0.14210066],\n",
       "       [0.17827693, 0.82172307],\n",
       "       [0.47752771, 0.52247229],\n",
       "       [0.85960651, 0.14039349],\n",
       "       [0.25252129, 0.74747871],\n",
       "       [0.3561986 , 0.6438014 ],\n",
       "       [0.57544999, 0.42455001],\n",
       "       [0.51697411, 0.48302589],\n",
       "       [0.84829999, 0.15170001],\n",
       "       [0.77222246, 0.22777754],\n",
       "       [0.86091041, 0.13908959],\n",
       "       [0.6806267 , 0.3193733 ],\n",
       "       [0.71045811, 0.28954189],\n",
       "       [0.45574165, 0.54425835],\n",
       "       [0.1055178 , 0.8944822 ],\n",
       "       [0.83558505, 0.16441495],\n",
       "       [0.8119024 , 0.1880976 ],\n",
       "       [0.74064564, 0.25935436],\n",
       "       [0.82781107, 0.17218893],\n",
       "       [0.16651239, 0.83348761],\n",
       "       [0.21470562, 0.78529438],\n",
       "       [0.46977507, 0.53022493],\n",
       "       [0.84495381, 0.15504619],\n",
       "       [0.84403643, 0.15596357],\n",
       "       [0.85744047, 0.14255953],\n",
       "       [0.85214386, 0.14785614],\n",
       "       [0.19059842, 0.80940158],\n",
       "       [0.46510459, 0.53489541],\n",
       "       [0.79856778, 0.20143222],\n",
       "       [0.5       , 0.5       ],\n",
       "       [0.81001652, 0.18998348],\n",
       "       [0.82733773, 0.17266227],\n",
       "       [0.14561221, 0.85438779],\n",
       "       [0.77956407, 0.22043593],\n",
       "       [0.79429866, 0.20570134],\n",
       "       [0.08256346, 0.91743654],\n",
       "       [0.70976294, 0.29023706],\n",
       "       [0.72165844, 0.27834156],\n",
       "       [0.70839443, 0.29160557],\n",
       "       [0.83149515, 0.16850485],\n",
       "       [0.69365048, 0.30634952],\n",
       "       [0.43607608, 0.56392392],\n",
       "       [0.74220083, 0.25779917],\n",
       "       [0.78882685, 0.21117315],\n",
       "       [0.22600665, 0.77399335],\n",
       "       [0.26394113, 0.73605887],\n",
       "       [0.83112487, 0.16887513],\n",
       "       [0.70901649, 0.29098351],\n",
       "       [0.81997223, 0.18002777],\n",
       "       [0.81689769, 0.18310231],\n",
       "       [0.85647316, 0.14352684],\n",
       "       [0.82975009, 0.17024991],\n",
       "       [0.85205841, 0.14794159],\n",
       "       [0.85014606, 0.14985394],\n",
       "       [0.42271943, 0.57728057],\n",
       "       [0.75009603, 0.24990397],\n",
       "       [0.41168008, 0.58831992],\n",
       "       [0.71761884, 0.28238116],\n",
       "       [0.79129341, 0.20870659],\n",
       "       [0.84909683, 0.15090317],\n",
       "       [0.41434055, 0.58565945],\n",
       "       [0.87445819, 0.12554181],\n",
       "       [0.31713214, 0.68286786],\n",
       "       [0.84892426, 0.15107574],\n",
       "       [0.72124173, 0.27875827],\n",
       "       [0.10206846, 0.89793154],\n",
       "       [0.69159801, 0.30840199],\n",
       "       [0.47430047, 0.52569953],\n",
       "       [0.87244018, 0.12755982],\n",
       "       [0.45177073, 0.54822927],\n",
       "       [0.79925928, 0.20074072],\n",
       "       [0.71435919, 0.28564081],\n",
       "       [0.7612992 , 0.2387008 ],\n",
       "       [0.85903944, 0.14096056],\n",
       "       [0.51741506, 0.48258494],\n",
       "       [0.35166582, 0.64833418],\n",
       "       [0.86553922, 0.13446078],\n",
       "       [0.55792385, 0.44207615],\n",
       "       [0.63615429, 0.36384571],\n",
       "       [0.81448262, 0.18551738],\n",
       "       [0.45786007, 0.54213993],\n",
       "       [0.83024228, 0.16975772],\n",
       "       [0.82267598, 0.17732402],\n",
       "       [0.20809303, 0.79190697],\n",
       "       [0.87936287, 0.12063713],\n",
       "       [0.2814817 , 0.7185183 ],\n",
       "       [0.4526897 , 0.5473103 ],\n",
       "       [0.86295871, 0.13704129],\n",
       "       [0.78790321, 0.21209679],\n",
       "       [0.72428917, 0.27571083],\n",
       "       [0.47725218, 0.52274782],\n",
       "       [0.84775167, 0.15224833],\n",
       "       [0.75483384, 0.24516616],\n",
       "       [0.1177316 , 0.8822684 ],\n",
       "       [0.77465752, 0.22534248],\n",
       "       [0.8342829 , 0.1657171 ],\n",
       "       [0.62372283, 0.37627717],\n",
       "       [0.29715369, 0.70284631],\n",
       "       [0.52262972, 0.47737028],\n",
       "       [0.78459192, 0.21540808],\n",
       "       [0.23283215, 0.76716785],\n",
       "       [0.82769364, 0.17230636],\n",
       "       [0.74192621, 0.25807379],\n",
       "       [0.23871104, 0.76128896],\n",
       "       [0.69134555, 0.30865445],\n",
       "       [0.83974935, 0.16025065],\n",
       "       [0.8255974 , 0.1744026 ],\n",
       "       [0.15017586, 0.84982414],\n",
       "       [0.43900148, 0.56099852],\n",
       "       [0.86321357, 0.13678643],\n",
       "       [0.30641401, 0.69358599],\n",
       "       [0.51699182, 0.48300818],\n",
       "       [0.1435797 , 0.8564203 ],\n",
       "       [0.46415103, 0.53584897],\n",
       "       [0.29449666, 0.70550334],\n",
       "       [0.1164534 , 0.8835466 ],\n",
       "       [0.59445436, 0.40554564],\n",
       "       [0.38104444, 0.61895556],\n",
       "       [0.85524959, 0.14475041],\n",
       "       [0.26605889, 0.73394111],\n",
       "       [0.87258542, 0.12741458],\n",
       "       [0.5       , 0.5       ],\n",
       "       [0.82127199, 0.17872801],\n",
       "       [0.83557626, 0.16442374],\n",
       "       [0.76180347, 0.23819653],\n",
       "       [0.7227366 , 0.2772634 ],\n",
       "       [0.80662157, 0.19337843],\n",
       "       [0.25695914, 0.74304086],\n",
       "       [0.48863461, 0.51136539],\n",
       "       [0.89594576, 0.10405424],\n",
       "       [0.48658398, 0.51341602],\n",
       "       [0.17441416, 0.82558584],\n",
       "       [0.73790182, 0.26209818],\n",
       "       [0.17574001, 0.82425999],\n",
       "       [0.67057641, 0.32942359],\n",
       "       [0.80778385, 0.19221615],\n",
       "       [0.47718319, 0.52281681],\n",
       "       [0.08146504, 0.91853496],\n",
       "       [0.20478463, 0.79521537],\n",
       "       [0.83569651, 0.16430349],\n",
       "       [0.81670022, 0.18329978],\n",
       "       [0.09998757, 0.90001243],\n",
       "       [0.84127745, 0.15872255],\n",
       "       [0.65246608, 0.34753392],\n",
       "       [0.41152151, 0.58847849],\n",
       "       [0.63074166, 0.36925834],\n",
       "       [0.58416471, 0.41583529],\n",
       "       [0.63473091, 0.36526909],\n",
       "       [0.71930339, 0.28069661],\n",
       "       [0.86086778, 0.13913222],\n",
       "       [0.44748918, 0.55251082],\n",
       "       [0.79157586, 0.20842414],\n",
       "       [0.90511478, 0.09488522],\n",
       "       [0.87779577, 0.12220423],\n",
       "       [0.37480488, 0.62519512]])"
      ]
     },
     "execution_count": 52,
     "metadata": {},
     "output_type": "execute_result"
    }
   ],
   "source": [
    "prediction_on_real_dataset_adding_extra"
   ]
  },
  {
   "cell_type": "code",
   "execution_count": null,
   "metadata": {
    "collapsed": true
   },
   "outputs": [],
   "source": []
  },
  {
   "cell_type": "code",
   "execution_count": null,
   "metadata": {
    "collapsed": true
   },
   "outputs": [],
   "source": []
  }
 ],
 "metadata": {
  "kernelspec": {
   "display_name": "Python 3",
   "language": "python",
   "name": "python3"
  },
  "language_info": {
   "codemirror_mode": {
    "name": "ipython",
    "version": 3
   },
   "file_extension": ".py",
   "mimetype": "text/x-python",
   "name": "python",
   "nbconvert_exporter": "python",
   "pygments_lexer": "ipython3",
   "version": "3.6.6"
  }
 },
 "nbformat": 4,
 "nbformat_minor": 2
}
