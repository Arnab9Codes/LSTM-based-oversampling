{
 "cells": [
  {
   "cell_type": "code",
   "execution_count": 1,
   "metadata": {
    "collapsed": true
   },
   "outputs": [],
   "source": [
    "import time\n",
    "import math\n",
    "\n",
    "import numpy as np\n",
    "import pandas as pd\n",
    "from pandas import DataFrame\n",
    "from pandas import concat\n",
    "from matplotlib import pyplot\n",
    "\n",
    "from sklearn.preprocessing import MinMaxScaler\n",
    "from sklearn.preprocessing import LabelEncoder\n",
    "from sklearn.metrics import mean_squared_error\n",
    "\n",
    "from sklearn.preprocessing import StandardScaler\n",
    "from sklearn.model_selection import train_test_split\n",
    "from sklearn.model_selection import KFold\n",
    "from sklearn.model_selection import cross_val_score\n",
    "from sklearn.model_selection import GridSearchCV\n",
    "from sklearn.metrics import classification_report\n",
    "from sklearn.metrics import confusion_matrix\n",
    "from sklearn.metrics import accuracy_score\n",
    "from sklearn.metrics import precision_recall_curve\n",
    "\n",
    "from sklearn.pipeline import Pipeline\n",
    "from sklearn.linear_model import LogisticRegression\n",
    "from sklearn.tree import DecisionTreeClassifier\n",
    "from sklearn.neighbors import KNeighborsClassifier\n",
    "from sklearn.discriminant_analysis import LinearDiscriminantAnalysis\n",
    "from sklearn.naive_bayes import GaussianNB\n",
    "from sklearn.svm import SVC\n",
    "from sklearn.ensemble import AdaBoostClassifier\n",
    "from sklearn.ensemble import GradientBoostingClassifier\n",
    "from sklearn.ensemble import RandomForestClassifier\n",
    "from sklearn.ensemble import ExtraTreesClassifier\n",
    "\n",
    "from sklearn.model_selection import GridSearchCV\n",
    "\n",
    "import pickle"
   ]
  },
  {
   "cell_type": "code",
   "execution_count": 10,
   "metadata": {},
   "outputs": [],
   "source": [
    "extra_data=pd.read_csv('new_corrected_data-v1-7-24-2019.csv')# loading extra genereated data genereated by LSTM #prediction_of_1_0007.csv\n",
    "original_data=pd.read_csv('train_Data.csv')#original data"
   ]
  },
  {
   "cell_type": "code",
   "execution_count": 11,
   "metadata": {},
   "outputs": [
    {
     "data": {
      "text/html": [
       "<div>\n",
       "<style scoped>\n",
       "    .dataframe tbody tr th:only-of-type {\n",
       "        vertical-align: middle;\n",
       "    }\n",
       "\n",
       "    .dataframe tbody tr th {\n",
       "        vertical-align: top;\n",
       "    }\n",
       "\n",
       "    .dataframe thead th {\n",
       "        text-align: right;\n",
       "    }\n",
       "</style>\n",
       "<table border=\"1\" class=\"dataframe\">\n",
       "  <thead>\n",
       "    <tr style=\"text-align: right;\">\n",
       "      <th></th>\n",
       "      <th>0</th>\n",
       "      <th>1</th>\n",
       "      <th>2</th>\n",
       "      <th>3</th>\n",
       "      <th>4</th>\n",
       "      <th>5</th>\n",
       "      <th>6</th>\n",
       "      <th>7</th>\n",
       "      <th>8</th>\n",
       "    </tr>\n",
       "  </thead>\n",
       "  <tbody>\n",
       "    <tr>\n",
       "      <th>0</th>\n",
       "      <td>5.782527</td>\n",
       "      <td>144.390180</td>\n",
       "      <td>63.160316</td>\n",
       "      <td>25.719593</td>\n",
       "      <td>90.079765</td>\n",
       "      <td>34.010190</td>\n",
       "      <td>0.423198</td>\n",
       "      <td>39.791267</td>\n",
       "      <td>1.000094</td>\n",
       "    </tr>\n",
       "    <tr>\n",
       "      <th>1</th>\n",
       "      <td>5.688424</td>\n",
       "      <td>131.824280</td>\n",
       "      <td>68.767790</td>\n",
       "      <td>21.041159</td>\n",
       "      <td>104.544240</td>\n",
       "      <td>31.559423</td>\n",
       "      <td>0.615806</td>\n",
       "      <td>39.473010</td>\n",
       "      <td>0.996553</td>\n",
       "    </tr>\n",
       "    <tr>\n",
       "      <th>2</th>\n",
       "      <td>4.688519</td>\n",
       "      <td>145.650040</td>\n",
       "      <td>69.039770</td>\n",
       "      <td>18.886486</td>\n",
       "      <td>81.191260</td>\n",
       "      <td>34.437160</td>\n",
       "      <td>0.392304</td>\n",
       "      <td>45.171402</td>\n",
       "      <td>0.992644</td>\n",
       "    </tr>\n",
       "    <tr>\n",
       "      <th>3</th>\n",
       "      <td>5.127816</td>\n",
       "      <td>132.253570</td>\n",
       "      <td>77.172330</td>\n",
       "      <td>25.414267</td>\n",
       "      <td>125.694330</td>\n",
       "      <td>36.171543</td>\n",
       "      <td>0.371415</td>\n",
       "      <td>43.220997</td>\n",
       "      <td>0.995531</td>\n",
       "    </tr>\n",
       "    <tr>\n",
       "      <th>4</th>\n",
       "      <td>5.630936</td>\n",
       "      <td>121.717514</td>\n",
       "      <td>70.003470</td>\n",
       "      <td>21.499983</td>\n",
       "      <td>68.298004</td>\n",
       "      <td>32.413610</td>\n",
       "      <td>0.493032</td>\n",
       "      <td>38.173565</td>\n",
       "      <td>1.005283</td>\n",
       "    </tr>\n",
       "  </tbody>\n",
       "</table>\n",
       "</div>"
      ],
      "text/plain": [
       "          0           1          2          3           4          5  \\\n",
       "0  5.782527  144.390180  63.160316  25.719593   90.079765  34.010190   \n",
       "1  5.688424  131.824280  68.767790  21.041159  104.544240  31.559423   \n",
       "2  4.688519  145.650040  69.039770  18.886486   81.191260  34.437160   \n",
       "3  5.127816  132.253570  77.172330  25.414267  125.694330  36.171543   \n",
       "4  5.630936  121.717514  70.003470  21.499983   68.298004  32.413610   \n",
       "\n",
       "          6          7         8  \n",
       "0  0.423198  39.791267  1.000094  \n",
       "1  0.615806  39.473010  0.996553  \n",
       "2  0.392304  45.171402  0.992644  \n",
       "3  0.371415  43.220997  0.995531  \n",
       "4  0.493032  38.173565  1.005283  "
      ]
     },
     "execution_count": 11,
     "metadata": {},
     "output_type": "execute_result"
    }
   ],
   "source": [
    "extra_data.head()#displaying LSTM generated data"
   ]
  },
  {
   "cell_type": "code",
   "execution_count": 12,
   "metadata": {},
   "outputs": [
    {
     "name": "stdout",
     "output_type": "stream",
     "text": [
      "(78, 9)\n"
     ]
    }
   ],
   "source": [
    "extra=np.array(extra_data)# getting the original shape\n",
    "print(extra.shape)"
   ]
  },
  {
   "cell_type": "markdown",
   "metadata": {},
   "source": [
    "# removing index \n",
    "extra=extra[:,:8]\n",
    "print(extra.shape)"
   ]
  },
  {
   "cell_type": "code",
   "execution_count": 13,
   "metadata": {},
   "outputs": [
    {
     "data": {
      "text/plain": [
       "array([  5.7825265 , 144.39018   ,  63.160316  ,  25.719593  ,\n",
       "        90.079765  ,  34.01019   ,   0.42319793,  39.791267  ,\n",
       "         1.0000939 ])"
      ]
     },
     "execution_count": 13,
     "metadata": {},
     "output_type": "execute_result"
    }
   ],
   "source": [
    "extra[0] # showing first row vector"
   ]
  },
  {
   "cell_type": "code",
   "execution_count": 14,
   "metadata": {
    "collapsed": true
   },
   "outputs": [],
   "source": [
    "# Setting predictions of all generated data to 1 because their outputs are mostly 0.98, 0.99 etc. \n",
    "for i in range(0,len(extra),1):\n",
    "    extra[i][8]=int(1)"
   ]
  },
  {
   "cell_type": "code",
   "execution_count": 15,
   "metadata": {
    "collapsed": true
   },
   "outputs": [
    {
     "data": {
      "text/plain": [
       "array([[  5.7825265 , 144.39018   ,  63.160316  ,  25.719593  ,\n",
       "         90.079765  ,  34.01019   ,   0.42319793,  39.791267  ,\n",
       "          1.        ],\n",
       "       [  5.688424  , 131.82428   ,  68.76779   ,  21.041159  ,\n",
       "        104.54424   ,  31.559423  ,   0.61580646,  39.47301   ,\n",
       "          1.        ],\n",
       "       [  4.688519  , 145.65004   ,  69.03977   ,  18.886486  ,\n",
       "         81.19126   ,  34.43716   ,   0.39230388,  45.171402  ,\n",
       "          1.        ],\n",
       "       [  5.1278157 , 132.25357   ,  77.17233   ,  25.414267  ,\n",
       "        125.69433   ,  36.171543  ,   0.3714146 ,  43.220997  ,\n",
       "          1.        ],\n",
       "       [  5.630936  , 121.717514  ,  70.00347   ,  21.499983  ,\n",
       "         68.298004  ,  32.41361   ,   0.4930318 ,  38.173565  ,\n",
       "          1.        ],\n",
       "       [  4.5988884 , 139.7334    ,  74.47313   ,  17.430925  ,\n",
       "        100.54282   ,  32.635025  ,   0.5509485 ,  38.926132  ,\n",
       "          1.        ],\n",
       "       [  3.5146122 , 140.95813   ,  68.36866   ,  12.0007715 ,\n",
       "         42.29106   ,  34.724964  ,   0.5068531 ,  40.3089    ,\n",
       "          1.        ],\n",
       "       [  6.370515  , 137.93314   ,  67.28468   ,  25.459026  ,\n",
       "         67.86621   ,  28.263083  ,   0.3660255 ,  43.78621   ,\n",
       "          1.        ],\n",
       "       [  4.6029716 , 119.30738   ,  61.176727  ,  21.996084  ,\n",
       "         88.50281   ,  30.638323  ,   0.6161291 ,  33.192303  ,\n",
       "          1.        ],\n",
       "       [  5.968375  , 138.36043   ,  73.97222   ,  20.945871  ,\n",
       "         86.79829   ,  36.013626  ,   0.48924246,  43.05347   ,\n",
       "          1.        ],\n",
       "       [  3.2063496 , 136.85951   ,  68.826614  ,  20.166826  ,\n",
       "         93.311134  ,  34.583096  ,   0.42845884,  34.390156  ,\n",
       "          1.        ],\n",
       "       [  7.1689787 , 159.30801   ,  71.78519   ,  22.666073  ,\n",
       "        149.6441    ,  35.438377  ,   0.45078662,  43.82507   ,\n",
       "          1.        ],\n",
       "       [  5.1585865 , 147.97838   ,  71.5549    ,  20.242456  ,\n",
       "        178.61163   ,  36.491543  ,   0.6183551 ,  37.872025  ,\n",
       "          1.        ],\n",
       "       [  4.751844  , 113.77834   ,  50.373566  ,  25.594955  ,\n",
       "         93.322655  ,  34.9412    ,   0.65164125,  28.583721  ,\n",
       "          1.        ],\n",
       "       [  3.8480146 , 143.50755   ,  67.59995   ,  22.991411  ,\n",
       "        108.52733   ,  34.356224  ,   0.4249924 ,  35.599792  ,\n",
       "          1.        ],\n",
       "       [  3.088744  , 138.40652   ,  72.882576  ,  18.971985  ,\n",
       "        103.08781   ,  38.418125  ,   0.53663105,  30.875183  ,\n",
       "          1.        ],\n",
       "       [  5.2324386 , 145.6358    ,  69.40313   ,  23.371973  ,\n",
       "        127.46764   ,  35.369385  ,   0.44028896,  40.52581   ,\n",
       "          1.        ],\n",
       "       [  3.8954666 , 140.6907    ,  77.8956    ,  22.068914  ,\n",
       "        137.72694   ,  38.92939   ,   0.556744  ,  34.168083  ,\n",
       "          1.        ],\n",
       "       [  4.1047916 , 135.04364   ,  66.05924   ,  23.02522   ,\n",
       "        109.64232   ,  33.329124  ,   0.565606  ,  30.511528  ,\n",
       "          1.        ],\n",
       "       [  4.630997  , 152.26897   ,  49.592815  ,  21.338621  ,\n",
       "        109.216225  ,  38.803967  ,   0.42484385,  37.25452   ,\n",
       "          1.        ],\n",
       "       [  4.3256803 , 153.7931    ,  81.047035  ,   6.2837105 ,\n",
       "         75.785065  ,  34.30262   ,   0.47447944,  46.772717  ,\n",
       "          1.        ],\n",
       "       [  2.6095026 , 118.89871   ,  61.416336  ,  17.070827  ,\n",
       "         80.79131   ,  33.354618  ,   0.62704295,  27.572983  ,\n",
       "          1.        ],\n",
       "       [  6.2751293 , 138.46742   ,  65.635216  ,  21.84961   ,\n",
       "         80.27125   ,  29.702763  ,   0.6579277 ,  37.616337  ,\n",
       "          1.        ],\n",
       "       [  4.211468  , 118.34162   ,  62.378227  ,  21.99826   ,\n",
       "        104.98948   ,  34.9291    ,   0.61385137,  30.765762  ,\n",
       "          1.        ],\n",
       "       [  4.1408477 , 133.18149   ,  69.00624   ,  25.60064   ,\n",
       "         82.45889   ,  31.949644  ,   0.39173824,  34.738346  ,\n",
       "          1.        ],\n",
       "       [  6.0621514 , 141.2476    ,  62.340195  ,  27.853645  ,\n",
       "        104.32185   ,  34.19964   ,   0.4465891 ,  37.662403  ,\n",
       "          1.        ],\n",
       "       [  4.1378603 , 161.14922   ,  79.00222   ,  16.00326   ,\n",
       "        125.21404   ,  36.153473  ,   0.48882508,  41.898247  ,\n",
       "          1.        ],\n",
       "       [  3.192567  , 132.8293    ,  70.4878    ,   9.895996  ,\n",
       "         54.959293  ,  34.05392   ,   0.6252677 ,  33.900818  ,\n",
       "          1.        ],\n",
       "       [  5.0703144 , 126.13317   ,  51.926044  ,  22.45347   ,\n",
       "         66.68976   ,  33.606747  ,   0.6102883 ,  34.316433  ,\n",
       "          1.        ],\n",
       "       [  3.492839  , 162.63036   ,  83.5174    ,  18.256895  ,\n",
       "        154.02016   ,  38.104996  ,   0.52769923,  41.183987  ,\n",
       "          1.        ],\n",
       "       [  4.181161  , 127.646255  ,  63.866142  ,  26.379728  ,\n",
       "        121.97276   ,  36.45469   ,   0.53322667,  30.16858   ,\n",
       "          1.        ],\n",
       "       [  3.8959367 , 132.4087    ,  61.0415    ,  26.328037  ,\n",
       "         94.78261   ,  34.854286  ,   0.41172385,  33.979675  ,\n",
       "          1.        ],\n",
       "       [  5.564212  , 121.66721   ,  73.13865   ,  26.191662  ,\n",
       "         40.278427  ,  32.756462  ,   0.35309458,  37.380707  ,\n",
       "          1.        ],\n",
       "       [  5.6362076 , 157.28381   ,  68.85823   ,  21.404305  ,\n",
       "        111.199715  ,  34.525417  ,   0.52868336,  39.579956  ,\n",
       "          1.        ],\n",
       "       [  2.6947615 , 118.59685   ,  65.40754   ,  17.334259  ,\n",
       "         81.78294   ,  35.788322  ,   0.4610311 ,  35.085342  ,\n",
       "          1.        ],\n",
       "       [  4.995082  , 148.44876   ,  71.46351   ,  17.36127   ,\n",
       "        117.01347   ,  30.75814   ,   0.5994213 ,  38.411312  ,\n",
       "          1.        ],\n",
       "       [  2.8131344 , 120.044975  ,  60.731937  ,  26.377098  ,\n",
       "        139.9389    ,  35.582333  ,   0.51384795,  29.295727  ,\n",
       "          1.        ],\n",
       "       [  4.359476  , 127.218704  ,  57.379036  ,  12.8663    ,\n",
       "        108.78909   ,  35.792698  ,   0.61852664,  36.4107    ,\n",
       "          1.        ],\n",
       "       [  4.9211164 , 139.4424    ,  64.32606   ,  21.86922   ,\n",
       "        116.51592   ,  36.761654  ,   0.6300549 ,  32.95497   ,\n",
       "          1.        ],\n",
       "       [  3.0538366 , 141.50237   ,  72.112076  ,  19.311287  ,\n",
       "        110.442474  ,  39.46839   ,   0.40266842,  37.715477  ,\n",
       "          1.        ],\n",
       "       [  2.560742  , 134.02002   ,  50.88343   ,  23.721483  ,\n",
       "        148.72214   ,  40.48399   ,   0.4118636 ,  34.459854  ,\n",
       "          1.        ],\n",
       "       [  6.491865  , 144.44287   ,  69.20579   ,  23.370684  ,\n",
       "         93.80852   ,  35.32737   ,   0.50685835,  38.340633  ,\n",
       "          1.        ],\n",
       "       [  1.1662254 , 122.200134  ,  75.21639   ,  17.830475  ,\n",
       "         47.8173    ,  36.32862   ,   0.3486153 ,  32.442524  ,\n",
       "          1.        ],\n",
       "       [  4.1569114 , 143.89977   ,  78.71646   ,  11.813486  ,\n",
       "         70.527985  ,  32.890076  ,   0.4578364 ,  42.24569   ,\n",
       "          1.        ],\n",
       "       [  5.924317  , 121.73831   ,  68.88939   ,  20.960405  ,\n",
       "         59.215797  ,  33.947784  ,   0.57766783,  35.310856  ,\n",
       "          1.        ],\n",
       "       [  7.9400387 , 141.8654    ,  75.02775   ,  20.347809  ,\n",
       "         46.643684  ,  32.673256  ,   0.5003163 ,  47.19625   ,\n",
       "          1.        ],\n",
       "       [  4.136921  , 139.83994   ,  62.400547  ,  23.238419  ,\n",
       "        109.09148   ,  36.53571   ,   0.37822154,  37.317696  ,\n",
       "          1.        ],\n",
       "       [  5.857622  , 133.18466   ,  71.56296   ,  18.449888  ,\n",
       "         99.24144   ,  33.020916  ,   0.6721993 ,  38.233093  ,\n",
       "          1.        ],\n",
       "       [  2.479116  , 139.67802   ,  65.39282   ,  14.722955  ,\n",
       "         71.97986   ,  36.95523   ,   0.38133538,  39.034393  ,\n",
       "          1.        ],\n",
       "       [  4.868502  , 142.99794   ,  64.7918    ,  23.026308  ,\n",
       "        100.09718   ,  33.807026  ,   0.3143818 ,  42.630516  ,\n",
       "          1.        ],\n",
       "       [  6.299839  , 126.62644   ,  61.261143  ,  24.554546  ,\n",
       "         89.691414  ,  34.373062  ,   0.6249356 ,  34.52315   ,\n",
       "          1.        ],\n",
       "       [  5.4081573 , 145.58856   ,  67.63014   ,  24.648281  ,\n",
       "        114.75798   ,  35.173443  ,   0.45346808,  38.8436    ,\n",
       "          1.        ],\n",
       "       [ 12.425903  , 192.42313   ,  50.368988  ,  25.429697  ,\n",
       "         97.16271   ,  31.28171   ,   0.48695993,  65.71449   ,\n",
       "          1.        ],\n",
       "       [  5.2983117 , 158.32982   ,  58.953964  ,  20.35483   ,\n",
       "        134.91518   ,  38.98003   ,   0.4212473 ,  42.487587  ,\n",
       "          1.        ],\n",
       "       [  6.9030704 , 127.23538   ,  66.73931   ,  25.608751  ,\n",
       "        125.77017   ,  32.20701   ,   0.6824917 ,  35.780235  ,\n",
       "          1.        ],\n",
       "       [  6.2395167 , 134.91286   ,  80.08423   ,  25.731073  ,\n",
       "         93.59741   ,  32.286728  ,   0.3945862 ,  43.021416  ,\n",
       "          1.        ],\n",
       "       [  8.053329  , 143.4537    ,  55.586704  ,  24.9591    ,\n",
       "         68.29679   ,  33.08228   ,   0.5087083 ,  42.665024  ,\n",
       "          1.        ],\n",
       "       [  3.022851  , 125.146416  ,  64.46857   ,  17.985199  ,\n",
       "         84.70166   ,  34.26474   ,   0.4949067 ,  33.37192   ,\n",
       "          1.        ],\n",
       "       [  5.447009  , 140.75452   ,  66.779526  ,  22.742731  ,\n",
       "         78.62885   ,  33.08073   ,   0.47203904,  36.143402  ,\n",
       "          1.        ],\n",
       "       [  5.314458  , 123.86696   ,  74.39579   ,  16.634851  ,\n",
       "         73.92313   ,  31.70819   ,   0.57492065,  38.05722   ,\n",
       "          1.        ],\n",
       "       [  7.1130767 , 138.5398    ,  55.521416  ,  28.376621  ,\n",
       "         73.69636   ,  32.904037  ,   0.55609155,  36.341385  ,\n",
       "          1.        ],\n",
       "       [  5.9313927 , 133.62117   ,  74.179596  ,  17.881845  ,\n",
       "         63.589462  ,  31.118885  ,   0.45029783,  44.205116  ,\n",
       "          1.        ],\n",
       "       [  3.4494483 , 139.26294   ,  84.59643   ,   8.700099  ,\n",
       "        113.58947   ,  36.148365  ,   0.57275856,  41.597458  ,\n",
       "          1.        ],\n",
       "       [  7.9241977 , 208.663     ,  72.472755  ,   2.4656515 ,\n",
       "        103.71417   ,  37.159615  ,   0.4806167 ,  66.9627    ,\n",
       "          1.        ],\n",
       "       [  5.138817  , 120.25171   ,  65.67121   ,  25.103544  ,\n",
       "         98.531624  ,  32.01455   ,   0.4977135 ,  37.031807  ,\n",
       "          1.        ],\n",
       "       [  4.2750645 , 130.70453   ,  66.035934  ,  19.496008  ,\n",
       "         77.90633   ,  35.531467  ,   0.3954048 ,  40.67748   ,\n",
       "          1.        ],\n",
       "       [  5.1127925 , 145.23929   ,  73.23437   ,  25.940256  ,\n",
       "        114.84005   ,  35.360153  ,   0.41902837,  40.622078  ,\n",
       "          1.        ],\n",
       "       [  4.4508486 , 148.63995   ,  70.47751   ,  17.717285  ,\n",
       "         89.928085  ,  32.070908  ,   0.4225446 ,  42.149937  ,\n",
       "          1.        ],\n",
       "       [  6.0042353 , 160.10152   ,  79.40519   ,  11.818162  ,\n",
       "         99.78794   ,  32.75557   ,   0.6499871 ,  45.242756  ,\n",
       "          1.        ],\n",
       "       [  4.926434  , 136.19447   ,  68.38973   ,  18.792849  ,\n",
       "         71.34483   ,  31.973732  ,   0.52045673,  38.081463  ,\n",
       "          1.        ],\n",
       "       [  3.5855968 , 128.30952   ,  57.331287  ,  21.632841  ,\n",
       "         93.727585  ,  36.105877  ,   0.50919515,  33.381706  ,\n",
       "          1.        ],\n",
       "       [  5.419867  , 141.50491   ,  54.78243   ,  17.94872   ,\n",
       "        127.62124   ,  35.192635  ,   0.5598687 ,  41.612183  ,\n",
       "          1.        ],\n",
       "       [  5.4597597 , 118.140686  ,  64.40261   ,  26.478712  ,\n",
       "         84.062096  ,  34.33498   ,   0.59185755,  30.71809   ,\n",
       "          1.        ],\n",
       "       [  5.3078566 , 129.16838   ,  68.29272   ,  22.302763  ,\n",
       "         60.152733  ,  32.36223   ,   0.49502447,  38.35265   ,\n",
       "          1.        ],\n",
       "       [  6.0342875 , 147.47026   ,  53.668217  ,  17.916096  ,\n",
       "         98.86368   ,  34.81291   ,   0.6273965 ,  40.94445   ,\n",
       "          1.        ],\n",
       "       [  7.0294847 , 154.40082   ,  69.524445  ,  23.508102  ,\n",
       "        104.89284   ,  32.54966   ,   0.48905942,  42.402798  ,\n",
       "          1.        ],\n",
       "       [  4.127474  , 124.08348   ,  53.74619   ,  24.238573  ,\n",
       "         80.74229   ,  34.04281   ,   0.5514389 ,  28.717882  ,\n",
       "          1.        ],\n",
       "       [  4.861149  , 190.87334   ,  78.300156  ,   1.7989575 ,\n",
       "         74.496895  ,  36.57148   ,   0.47935587,  54.186626  ,\n",
       "          1.        ]])"
      ]
     },
     "execution_count": 15,
     "metadata": {},
     "output_type": "execute_result"
    }
   ],
   "source": [
    "extra #showing LSTM generated extra data ready for training"
   ]
  },
  {
   "cell_type": "code",
   "execution_count": 16,
   "metadata": {},
   "outputs": [
    {
     "data": {
      "text/html": [
       "<div>\n",
       "<style scoped>\n",
       "    .dataframe tbody tr th:only-of-type {\n",
       "        vertical-align: middle;\n",
       "    }\n",
       "\n",
       "    .dataframe tbody tr th {\n",
       "        vertical-align: top;\n",
       "    }\n",
       "\n",
       "    .dataframe thead th {\n",
       "        text-align: right;\n",
       "    }\n",
       "</style>\n",
       "<table border=\"1\" class=\"dataframe\">\n",
       "  <thead>\n",
       "    <tr style=\"text-align: right;\">\n",
       "      <th></th>\n",
       "      <th>0</th>\n",
       "      <th>1</th>\n",
       "      <th>2</th>\n",
       "      <th>3</th>\n",
       "      <th>4</th>\n",
       "      <th>5</th>\n",
       "      <th>6</th>\n",
       "      <th>7</th>\n",
       "      <th>8</th>\n",
       "    </tr>\n",
       "  </thead>\n",
       "  <tbody>\n",
       "    <tr>\n",
       "      <th>0</th>\n",
       "      <td>5.0</td>\n",
       "      <td>44.0</td>\n",
       "      <td>62.0</td>\n",
       "      <td>0.0</td>\n",
       "      <td>0.0</td>\n",
       "      <td>25.0</td>\n",
       "      <td>0.587</td>\n",
       "      <td>36.0</td>\n",
       "      <td>0.0</td>\n",
       "    </tr>\n",
       "    <tr>\n",
       "      <th>1</th>\n",
       "      <td>10.0</td>\n",
       "      <td>129.0</td>\n",
       "      <td>76.0</td>\n",
       "      <td>28.0</td>\n",
       "      <td>122.0</td>\n",
       "      <td>35.9</td>\n",
       "      <td>0.280</td>\n",
       "      <td>39.0</td>\n",
       "      <td>0.0</td>\n",
       "    </tr>\n",
       "    <tr>\n",
       "      <th>2</th>\n",
       "      <td>4.0</td>\n",
       "      <td>148.0</td>\n",
       "      <td>60.0</td>\n",
       "      <td>27.0</td>\n",
       "      <td>318.0</td>\n",
       "      <td>30.9</td>\n",
       "      <td>0.150</td>\n",
       "      <td>29.0</td>\n",
       "      <td>1.0</td>\n",
       "    </tr>\n",
       "    <tr>\n",
       "      <th>3</th>\n",
       "      <td>13.0</td>\n",
       "      <td>153.0</td>\n",
       "      <td>88.0</td>\n",
       "      <td>37.0</td>\n",
       "      <td>140.0</td>\n",
       "      <td>40.6</td>\n",
       "      <td>1.174</td>\n",
       "      <td>39.0</td>\n",
       "      <td>0.0</td>\n",
       "    </tr>\n",
       "    <tr>\n",
       "      <th>4</th>\n",
       "      <td>1.0</td>\n",
       "      <td>128.0</td>\n",
       "      <td>48.0</td>\n",
       "      <td>45.0</td>\n",
       "      <td>194.0</td>\n",
       "      <td>40.5</td>\n",
       "      <td>0.613</td>\n",
       "      <td>24.0</td>\n",
       "      <td>1.0</td>\n",
       "    </tr>\n",
       "  </tbody>\n",
       "</table>\n",
       "</div>"
      ],
      "text/plain": [
       "      0      1     2     3      4     5      6     7    8\n",
       "0   5.0   44.0  62.0   0.0    0.0  25.0  0.587  36.0  0.0\n",
       "1  10.0  129.0  76.0  28.0  122.0  35.9  0.280  39.0  0.0\n",
       "2   4.0  148.0  60.0  27.0  318.0  30.9  0.150  29.0  1.0\n",
       "3  13.0  153.0  88.0  37.0  140.0  40.6  1.174  39.0  0.0\n",
       "4   1.0  128.0  48.0  45.0  194.0  40.5  0.613  24.0  1.0"
      ]
     },
     "execution_count": 16,
     "metadata": {},
     "output_type": "execute_result"
    }
   ],
   "source": [
    "original_data.head() #showing original data"
   ]
  },
  {
   "cell_type": "code",
   "execution_count": null,
   "metadata": {
    "collapsed": true
   },
   "outputs": [],
   "source": []
  },
  {
   "cell_type": "code",
   "execution_count": 17,
   "metadata": {
    "collapsed": true
   },
   "outputs": [],
   "source": [
    "#loading data values from original dataset(Pima)\n",
    "val=original_data.values"
   ]
  },
  {
   "cell_type": "code",
   "execution_count": 18,
   "metadata": {
    "collapsed": true
   },
   "outputs": [],
   "source": [
    "X=val[:,:8].astype(float)# getting the feature values\n",
    "Y=val[:,8].astype(int)# getting prediction"
   ]
  },
  {
   "cell_type": "markdown",
   "metadata": {
    "collapsed": true
   },
   "source": [
    "# validation split shown here to be 0.25 , it is changed to 0.10, 0.20, 0.30 on other occasions\n",
    "#seed =5 is maintained to generate same results( same during Pima and haberman dataset)\n",
    "validation=0.40\n",
    "seed=5"
   ]
  },
  {
   "cell_type": "markdown",
   "metadata": {
    "collapsed": true
   },
   "source": [
    "# Setting up validation and test data\n",
    "X_train,X_validation,Y_train,Y_validation=train_test_split(X,Y,test_size=validation,random_state=seed)"
   ]
  },
  {
   "cell_type": "code",
   "execution_count": 19,
   "metadata": {
    "collapsed": true
   },
   "outputs": [],
   "source": [
    "#extra_X denotes the extra training data generated by LSTM \n",
    "extra_X=extra[:,:8].astype(float)\n",
    "\n",
    "#extra_Y denotes extra training prediction data for training the algorithm\n",
    "extra_Y=extra[:,8].astype(int)"
   ]
  },
  {
   "cell_type": "code",
   "execution_count": 20,
   "metadata": {
    "collapsed": true
   },
   "outputs": [],
   "source": [
    "# extrain=original training data + LSTM generated training data\n",
    "\n",
    "# eytrain=original training prediction + LSTM generated\n",
    "\n",
    "extrain=np.concatenate((X,extra_X),axis=0)\n",
    "eytrain=np.concatenate((Y,extra_Y),axis=0)"
   ]
  },
  {
   "cell_type": "code",
   "execution_count": 21,
   "metadata": {},
   "outputs": [
    {
     "name": "stdout",
     "output_type": "stream",
     "text": [
      "(615, 8)\n",
      "(615,)\n"
     ]
    }
   ],
   "source": [
    "print(extrain.shape)\n",
    "print(eytrain.shape)"
   ]
  },
  {
   "cell_type": "code",
   "execution_count": 30,
   "metadata": {
    "collapsed": true
   },
   "outputs": [],
   "source": [
    "test_Data=pd.read_csv('test_Data.csv')"
   ]
  },
  {
   "cell_type": "code",
   "execution_count": 31,
   "metadata": {
    "collapsed": true
   },
   "outputs": [],
   "source": [
    "test_Data=np.array(test_Data)"
   ]
  },
  {
   "cell_type": "code",
   "execution_count": 32,
   "metadata": {},
   "outputs": [
    {
     "data": {
      "text/plain": [
       "(231, 9)"
      ]
     },
     "execution_count": 32,
     "metadata": {},
     "output_type": "execute_result"
    }
   ],
   "source": [
    "test_Data.shape"
   ]
  },
  {
   "cell_type": "code",
   "execution_count": 33,
   "metadata": {},
   "outputs": [],
   "source": [
    "X_test=test_Data[:,:8].astype(float)\n",
    "Y_test=test_Data[:,8].astype(int)"
   ]
  },
  {
   "cell_type": "code",
   "execution_count": null,
   "metadata": {
    "collapsed": true
   },
   "outputs": [],
   "source": []
  },
  {
   "cell_type": "code",
   "execution_count": 34,
   "metadata": {
    "collapsed": true
   },
   "outputs": [],
   "source": [
    "def svc_param_selection(X, y, nfolds):\n",
    "    Cs = [0.001, 0.01, 0.1, 1, 10]\n",
    "    gammas = [0.001, 0.01, 0.1, 1]\n",
    "    param_grid = {'C': Cs, 'gamma' : gammas}\n",
    "    grid_search = GridSearchCV(SVC(kernel='rbf',probability=True), param_grid, cv=nfolds)\n",
    "    grid_search.fit(X, y)\n",
    "    grid_search.best_params_\n",
    "    return grid_search.best_estimator_"
   ]
  },
  {
   "cell_type": "code",
   "execution_count": 35,
   "metadata": {
    "collapsed": true
   },
   "outputs": [],
   "source": [
    "# setting seed =7 to produce same results over and over again, it was maintained during different experiments \n",
    "seed=5\n"
   ]
  },
  {
   "cell_type": "code",
   "execution_count": 36,
   "metadata": {},
   "outputs": [],
   "source": [
    "# first rbf_svc for training on just the original training data\n",
    "#rbf_svc = SVC(kernel='rbf', gamma=0.00001, C=1000,probability=True).fit(X_train,Y_train)\n",
    "rbf_svc=svc_param_selection(X,Y,5)\n",
    "\n",
    "# secondly rbf_svc_extra for training on original+LSTM\n",
    "rbf_svc_extra = svc_param_selection(extrain,eytrain,5)"
   ]
  },
  {
   "cell_type": "code",
   "execution_count": 37,
   "metadata": {},
   "outputs": [
    {
     "data": {
      "text/plain": [
       "SVC(C=1, cache_size=200, class_weight=None, coef0=0.0,\n",
       "    decision_function_shape='ovr', degree=3, gamma=0.001, kernel='rbf',\n",
       "    max_iter=-1, probability=True, random_state=None, shrinking=True, tol=0.001,\n",
       "    verbose=False)"
      ]
     },
     "execution_count": 37,
     "metadata": {},
     "output_type": "execute_result"
    }
   ],
   "source": [
    "\n",
    "# fitting the data\n",
    "rbf_svc.fit(X,Y)\n",
    "rbf_svc_extra.fit(extrain,eytrain)"
   ]
  },
  {
   "cell_type": "code",
   "execution_count": 38,
   "metadata": {},
   "outputs": [
    {
     "data": {
      "text/plain": [
       "(231, 8)"
      ]
     },
     "execution_count": 38,
     "metadata": {},
     "output_type": "execute_result"
    }
   ],
   "source": [
    "# loading the validation dataset previously set up by validation split(this data was not included in any training procedure)\n",
    "Prediction_data=X_test\n",
    "\n",
    "#producing the shape\n",
    "Prediction_data.shape"
   ]
  },
  {
   "cell_type": "code",
   "execution_count": 39,
   "metadata": {
    "collapsed": true
   },
   "outputs": [],
   "source": [
    "# making predictions on validation dataset using svc trained only on original training data\n",
    "prediction_on_real_dataset=rbf_svc.predict_proba(Prediction_data)\n",
    "\n",
    "#saving probabilities\n",
    "predictions=rbf_svc.predict(Prediction_data)\n",
    "\n",
    "# making predictions on validation dataset using svc trained on original training data + LSTM generated data\n",
    "prediction_on_real_dataset_adding_extra=rbf_svc_extra.predict_proba(Prediction_data)\n",
    "#saving probabilities\n",
    "predictions_extra=rbf_svc_extra.predict(Prediction_data)"
   ]
  },
  {
   "cell_type": "code",
   "execution_count": 40,
   "metadata": {},
   "outputs": [
    {
     "name": "stdout",
     "output_type": "stream",
     "text": [
      "231\n",
      "231\n"
     ]
    }
   ],
   "source": [
    "print(len(prediction_on_real_dataset))\n",
    "\n",
    "print(len(prediction_on_real_dataset_adding_extra))"
   ]
  },
  {
   "cell_type": "code",
   "execution_count": 41,
   "metadata": {
    "collapsed": true
   },
   "outputs": [],
   "source": [
    "from sklearn.metrics import f1_score\n",
    "from sklearn.metrics import auc\n",
    "from sklearn.metrics import average_precision_score\n",
    "\n",
    "from sklearn.metrics import roc_curve, roc_auc_score"
   ]
  },
  {
   "cell_type": "code",
   "execution_count": 132,
   "metadata": {},
   "outputs": [
    {
     "data": {
      "text/plain": [
       "0.5699481865284974"
      ]
     },
     "execution_count": 132,
     "metadata": {},
     "output_type": "execute_result"
    }
   ],
   "source": [
    "f1_score(Y_test,predictions)#without_extra"
   ]
  },
  {
   "cell_type": "code",
   "execution_count": 42,
   "metadata": {},
   "outputs": [
    {
     "data": {
      "text/plain": [
       "0.6438356164383562"
      ]
     },
     "execution_count": 42,
     "metadata": {},
     "output_type": "execute_result"
    }
   ],
   "source": [
    "f1_score(Y_test,predictions_extra)#with_extra"
   ]
  },
  {
   "cell_type": "code",
   "execution_count": 43,
   "metadata": {},
   "outputs": [
    {
     "data": {
      "text/plain": [
       "array([0.71423122, 0.28576878])"
      ]
     },
     "execution_count": 43,
     "metadata": {},
     "output_type": "execute_result"
    }
   ],
   "source": [
    "prediction_on_real_dataset[0]# probabilities of 2 class"
   ]
  },
  {
   "cell_type": "code",
   "execution_count": 47,
   "metadata": {},
   "outputs": [
    {
     "name": "stdout",
     "output_type": "stream",
     "text": [
      "Without extra:  0.7963908450704225\n",
      "With extra:  0.8110915492957746\n"
     ]
    }
   ],
   "source": [
    "# getting AUC score for classifier trained on only original data\n",
    "fpr, tpr, thres=roc_curve(Y_test,prediction_on_real_dataset[:,1],pos_label=1)\n",
    "\n",
    "#getting AUC score for classifier trained on original + LSTM generated data\n",
    "efpr, etpr, ethres=roc_curve(Y_test,prediction_on_real_dataset_adding_extra[:,1],pos_label=1)\n",
    "\n",
    "with_=auc(fpr,tpr)\n",
    "without_=auc(efpr,etpr)\n",
    "print('Without extra: ',auc(fpr,tpr))\n",
    "\n",
    "print('With extra: ',auc(efpr,etpr))"
   ]
  },
  {
   "cell_type": "code",
   "execution_count": 48,
   "metadata": {},
   "outputs": [
    {
     "data": {
      "image/png": "[encoded data removed]",
      "text/plain": [
       "<matplotlib.figure.Figure at 0x3a102a6b70>"
      ]
     },
     "metadata": {},
     "output_type": "display_data"
    }
   ],
   "source": [
    "# plotting data ( for minority predictions , here minority class = 1)\n",
    "\n",
    "Y_probs=prediction_on_real_dataset[:,1]\n",
    "fpr,tpr,_=roc_curve(Y_test,Y_probs)\n",
    "\n",
    "Y_probs_extra=prediction_on_real_dataset_adding_extra[:,1]\n",
    "efpr,etpr,_=roc_curve(Y_test,Y_probs_extra)\n",
    "\n",
    "original=auc(fpr,tpr)\n",
    "lstm_with_extra=auc(efpr,etpr)\n",
    "\n",
    "original=original.astype(float)\n",
    "lstm_with_extra=lstm_with_extra.astype(float)\n",
    "\n",
    "\n",
    "pyplot.clf()\n",
    "pyplot.plot(fpr, tpr,label='original (AUC : %5.4f)'%(with_),linewidth='1.2')\n",
    "pyplot.plot(efpr,etpr,label='LSTM generated+original(AUC : %5.4f)'%(without_),linewidth='1.2')\n",
    "pyplot.xlabel('FPR')\n",
    "pyplot.ylabel('TPR')\n",
    "pyplot.title('ROC curve - Pima dataset')\n",
    "pyplot.legend(loc=4)\n",
    "pyplot.savefig('ROC curve .png',dpi=500)\n",
    "pyplot.show()"
   ]
  },
  {
   "cell_type": "code",
   "execution_count": 50,
   "metadata": {},
   "outputs": [
    {
     "data": {
      "image/png": "[encoded data removed]",
      "text/plain": [
       "<matplotlib.figure.Figure at 0x3a102dd9b0>"
      ]
     },
     "metadata": {},
     "output_type": "display_data"
    }
   ],
   "source": [
    "Y_probs=prediction_on_real_dataset[:,0]\n",
    "fpr,tpr,_=roc_curve(Y_test,Y_probs)\n",
    "\n",
    "Y_probs_extra=prediction_on_real_dataset_adding_extra[:,0]\n",
    "efpr,etpr,_=roc_curve(Y_test,Y_probs_extra)\n",
    "\n",
    "pyplot.clf()\n",
    "pyplot.plot(fpr, tpr,label='original')\n",
    "pyplot.plot(efpr,etpr,label='LSTM generated')\n",
    "pyplot.xlabel('FPR')\n",
    "pyplot.ylabel('TPR(recall)')\n",
    "pyplot.title('ROC curve - Pima dataset')\n",
    "pyplot.legend(loc=2)\n",
    "pyplot.show()"
   ]
  },
  {
   "cell_type": "code",
   "execution_count": 51,
   "metadata": {},
   "outputs": [
    {
     "data": {
      "text/plain": [
       "array([[0.71423122, 0.28576878],\n",
       "       [0.59616684, 0.40383316],\n",
       "       [0.83005919, 0.16994081],\n",
       "       [0.78963776, 0.21036224],\n",
       "       [0.79043351, 0.20956649],\n",
       "       [0.81166888, 0.18833112],\n",
       "       [0.34959236, 0.65040764],\n",
       "       [0.22883841, 0.77116159],\n",
       "       [0.44679005, 0.55320995],\n",
       "       [0.5       , 0.5       ],\n",
       "       [0.44267355, 0.55732645],\n",
       "       [0.71246436, 0.28753564],\n",
       "       [0.44457424, 0.55542576],\n",
       "       [0.78006475, 0.21993525],\n",
       "       [0.79979039, 0.20020961],\n",
       "       [0.81872061, 0.18127939],\n",
       "       [0.81695841, 0.18304159],\n",
       "       [0.40885297, 0.59114703],\n",
       "       [0.68618511, 0.31381489],\n",
       "       [0.81831093, 0.18168907],\n",
       "       [0.77140821, 0.22859179],\n",
       "       [0.21870017, 0.78129983],\n",
       "       [0.79170787, 0.20829213],\n",
       "       [0.14904521, 0.85095479],\n",
       "       [0.6086659 , 0.3913341 ],\n",
       "       [0.76539349, 0.23460651],\n",
       "       [0.63370769, 0.36629231],\n",
       "       [0.44004964, 0.55995036],\n",
       "       [0.69523069, 0.30476931],\n",
       "       [0.63259559, 0.36740441],\n",
       "       [0.80332758, 0.19667242],\n",
       "       [0.72559076, 0.27440924],\n",
       "       [0.65311637, 0.34688363],\n",
       "       [0.83714706, 0.16285294],\n",
       "       [0.56309331, 0.43690669],\n",
       "       [0.7766161 , 0.2233839 ],\n",
       "       [0.74797402, 0.25202598],\n",
       "       [0.70739301, 0.29260699],\n",
       "       [0.79084948, 0.20915052],\n",
       "       [0.80814332, 0.19185668],\n",
       "       [0.81047938, 0.18952062],\n",
       "       [0.64876985, 0.35123015],\n",
       "       [0.78162939, 0.21837061],\n",
       "       [0.4086525 , 0.5913475 ],\n",
       "       [0.82718009, 0.17281991],\n",
       "       [0.44412872, 0.55587128],\n",
       "       [0.44628403, 0.55371597],\n",
       "       [0.80741057, 0.19258943],\n",
       "       [0.70518009, 0.29481991],\n",
       "       [0.70570162, 0.29429838],\n",
       "       [0.38435764, 0.61564236],\n",
       "       [0.81195591, 0.18804409],\n",
       "       [0.40490882, 0.59509118],\n",
       "       [0.41454681, 0.58545319],\n",
       "       [0.79934902, 0.20065098],\n",
       "       [0.68958105, 0.31041895],\n",
       "       [0.7972957 , 0.2027043 ],\n",
       "       [0.80937836, 0.19062164],\n",
       "       [0.33288319, 0.66711681],\n",
       "       [0.85796303, 0.14203697],\n",
       "       [0.50977224, 0.49022776],\n",
       "       [0.33844586, 0.66155414],\n",
       "       [0.28186434, 0.71813566],\n",
       "       [0.8438839 , 0.1561161 ],\n",
       "       [0.69421928, 0.30578072],\n",
       "       [0.81190566, 0.18809434],\n",
       "       [0.77873732, 0.22126268],\n",
       "       [0.68924294, 0.31075706],\n",
       "       [0.47611714, 0.52388286],\n",
       "       [0.62663125, 0.37336875],\n",
       "       [0.10422373, 0.89577627],\n",
       "       [0.75031498, 0.24968502],\n",
       "       [0.81831137, 0.18168863],\n",
       "       [0.50733292, 0.49266708],\n",
       "       [0.37222549, 0.62777451],\n",
       "       [0.33166559, 0.66833441],\n",
       "       [0.8311615 , 0.1688385 ],\n",
       "       [0.23217736, 0.76782264],\n",
       "       [0.57989007, 0.42010993],\n",
       "       [0.82729674, 0.17270326],\n",
       "       [0.31159612, 0.68840388],\n",
       "       [0.45833245, 0.54166755],\n",
       "       [0.59615162, 0.40384838],\n",
       "       [0.56006832, 0.43993168],\n",
       "       [0.80290273, 0.19709727],\n",
       "       [0.76314388, 0.23685612],\n",
       "       [0.82656167, 0.17343833],\n",
       "       [0.68005492, 0.31994508],\n",
       "       [0.70580378, 0.29419622],\n",
       "       [0.73090196, 0.26909804],\n",
       "       [0.15119225, 0.84880775],\n",
       "       [0.81679826, 0.18320174],\n",
       "       [0.80140917, 0.19859083],\n",
       "       [0.73265601, 0.26734399],\n",
       "       [0.80302518, 0.19697482],\n",
       "       [0.22288216, 0.77711784],\n",
       "       [0.2768757 , 0.7231243 ],\n",
       "       [0.78142208, 0.21857792],\n",
       "       [0.82483144, 0.17516856],\n",
       "       [0.8215638 , 0.1784362 ],\n",
       "       [0.80681599, 0.19318401],\n",
       "       [0.81521739, 0.18478261],\n",
       "       [0.33325113, 0.66674887],\n",
       "       [0.51041554, 0.48958446],\n",
       "       [0.78277511, 0.21722489],\n",
       "       [0.53795657, 0.46204343],\n",
       "       [0.79193499, 0.20806501],\n",
       "       [0.79051793, 0.20948207],\n",
       "       [0.21035067, 0.78964933],\n",
       "       [0.77009255, 0.22990745],\n",
       "       [0.78016876, 0.21983124],\n",
       "       [0.12373751, 0.87626249],\n",
       "       [0.70813766, 0.29186234],\n",
       "       [0.7267413 , 0.2732587 ],\n",
       "       [0.70828969, 0.29171031],\n",
       "       [0.77665502, 0.22334498],\n",
       "       [0.73100399, 0.26899601],\n",
       "       [0.5       , 0.5       ],\n",
       "       [0.80028252, 0.19971748],\n",
       "       [0.79430238, 0.20569762],\n",
       "       [0.28479289, 0.71520711],\n",
       "       [0.32274405, 0.67725595],\n",
       "       [0.81137739, 0.18862261],\n",
       "       [0.70951325, 0.29048675],\n",
       "       [0.80443344, 0.19556656],\n",
       "       [0.79664852, 0.20335148],\n",
       "       [0.7956317 , 0.2043683 ],\n",
       "       [0.79544713, 0.20455287],\n",
       "       [0.83236216, 0.16763784],\n",
       "       [0.78795156, 0.21204844],\n",
       "       [0.47219277, 0.52780723],\n",
       "       [0.75550693, 0.24449307],\n",
       "       [0.4637145 , 0.5362855 ],\n",
       "       [0.79111634, 0.20888366],\n",
       "       [0.77769255, 0.22230745],\n",
       "       [0.8305469 , 0.1694531 ],\n",
       "       [0.65322307, 0.34677693],\n",
       "       [0.8176964 , 0.1823036 ],\n",
       "       [0.37186216, 0.62813784],\n",
       "       [0.8217901 , 0.1782099 ],\n",
       "       [0.72027666, 0.27972334],\n",
       "       [0.14679282, 0.85320718],\n",
       "       [0.70801616, 0.29198384],\n",
       "       [0.54375361, 0.45624639],\n",
       "       [0.84423335, 0.15576665],\n",
       "       [0.49449038, 0.50550962],\n",
       "       [0.78468222, 0.21531778],\n",
       "       [0.71528287, 0.28471713],\n",
       "       [0.7582262 , 0.2417738 ],\n",
       "       [0.7920074 , 0.2079926 ],\n",
       "       [0.5467836 , 0.4532164 ],\n",
       "       [0.39799687, 0.60200313],\n",
       "       [0.8432229 , 0.1567771 ],\n",
       "       [0.66369288, 0.33630712],\n",
       "       [0.64365308, 0.35634692],\n",
       "       [0.77372913, 0.22627087],\n",
       "       [0.5       , 0.5       ],\n",
       "       [0.8120698 , 0.1879302 ],\n",
       "       [0.79974383, 0.20025617],\n",
       "       [0.26461396, 0.73538604],\n",
       "       [0.80067017, 0.19932983],\n",
       "       [0.34436777, 0.65563223],\n",
       "       [0.66730132, 0.33269868],\n",
       "       [0.80622776, 0.19377224],\n",
       "       [0.79652878, 0.20347122],\n",
       "       [0.68767729, 0.31232271],\n",
       "       [0.51770938, 0.48229062],\n",
       "       [0.82632661, 0.17367339],\n",
       "       [0.75500808, 0.24499192],\n",
       "       [0.16985891, 0.83014109],\n",
       "       [0.7865865 , 0.2134135 ],\n",
       "       [0.78986285, 0.21013715],\n",
       "       [0.64760238, 0.35239762],\n",
       "       [0.65204781, 0.34795219],\n",
       "       [0.55111792, 0.44888208],\n",
       "       [0.77223877, 0.22776123],\n",
       "       [0.35456112, 0.64543888],\n",
       "       [0.80881653, 0.19118347],\n",
       "       [0.7372917 , 0.2627083 ],\n",
       "       [0.54568465, 0.45431535],\n",
       "       [0.68766096, 0.31233904],\n",
       "       [0.79699008, 0.20300992],\n",
       "       [0.80445998, 0.19554002],\n",
       "       [0.20185035, 0.79814965],\n",
       "       [0.5       , 0.5       ],\n",
       "       [0.80785492, 0.19214508],\n",
       "       [0.35178889, 0.64821111],\n",
       "       [0.56008312, 0.43991688],\n",
       "       [0.19257582, 0.80742418],\n",
       "       [0.51423366, 0.48576634],\n",
       "       [0.34887654, 0.65112346],\n",
       "       [0.1643027 , 0.8356973 ],\n",
       "       [0.61907752, 0.38092248],\n",
       "       [0.44184677, 0.55815323],\n",
       "       [0.8344694 , 0.1655306 ],\n",
       "       [0.3019769 , 0.6980231 ],\n",
       "       [0.84173236, 0.15826764],\n",
       "       [0.5       , 0.5       ],\n",
       "       [0.80280441, 0.19719559],\n",
       "       [0.81414751, 0.18585249],\n",
       "       [0.75911607, 0.24088393],\n",
       "       [0.8106768 , 0.1893232 ],\n",
       "       [0.7832763 , 0.2167237 ],\n",
       "       [0.32061621, 0.67938379],\n",
       "       [0.47287607, 0.52712393],\n",
       "       [0.81053091, 0.18946909],\n",
       "       [0.58771214, 0.41228786],\n",
       "       [0.23107904, 0.76892096],\n",
       "       [0.73380489, 0.26619511],\n",
       "       [0.23678908, 0.76321092],\n",
       "       [0.67644809, 0.32355191],\n",
       "       [0.79380465, 0.20619535],\n",
       "       [0.50875556, 0.49124444],\n",
       "       [0.12151071, 0.87848929],\n",
       "       [0.2624559 , 0.7375441 ],\n",
       "       [0.81797722, 0.18202278],\n",
       "       [0.80125066, 0.19874934],\n",
       "       [0.14365822, 0.85634178],\n",
       "       [0.8324071 , 0.1675929 ],\n",
       "       [0.66557117, 0.33442883],\n",
       "       [0.45846304, 0.54153696],\n",
       "       [0.65427317, 0.34572683],\n",
       "       [0.60278613, 0.39721387],\n",
       "       [0.66103594, 0.33896406],\n",
       "       [0.78117853, 0.21882147],\n",
       "       [0.80958632, 0.19041368],\n",
       "       [0.49289289, 0.50710711],\n",
       "       [0.777706  , 0.222294  ],\n",
       "       [0.81819422, 0.18180578],\n",
       "       [0.816645  , 0.183355  ],\n",
       "       [0.42481152, 0.57518848]])"
      ]
     },
     "execution_count": 51,
     "metadata": {},
     "output_type": "execute_result"
    }
   ],
   "source": [
    "prediction_on_real_dataset"
   ]
  },
  {
   "cell_type": "code",
   "execution_count": 52,
   "metadata": {},
   "outputs": [
    {
     "data": {
      "text/plain": [
       "array([[0.73911479, 0.26088521],\n",
       "       [0.57806086, 0.42193914],\n",
       "       [0.85294776, 0.14705224],\n",
       "       [0.80885662, 0.19114338],\n",
       "       [0.8435121 , 0.1564879 ],\n",
       "       [0.89092182, 0.10907818],\n",
       "       [0.2961195 , 0.7038805 ],\n",
       "       [0.16844994, 0.83155006],\n",
       "       [0.39894046, 0.60105954],\n",
       "       [0.46569347, 0.53430653],\n",
       "       [0.38896452, 0.61103548],\n",
       "       [0.69538521, 0.30461479],\n",
       "       [0.39852046, 0.60147954],\n",
       "       [0.82631933, 0.17368067],\n",
       "       [0.86753988, 0.13246012],\n",
       "       [0.8368405 , 0.1631595 ],\n",
       "       [0.87000314, 0.12999686],\n",
       "       [0.22778975, 0.77221025],\n",
       "       [0.68723362, 0.31276638],\n",
       "       [0.85270747, 0.14729253],\n",
       "       [0.77413579, 0.22586421],\n",
       "       [0.169007  , 0.830993  ],\n",
       "       [0.8269835 , 0.1730165 ],\n",
       "       [0.10278504, 0.89721496],\n",
       "       [0.59269737, 0.40730263],\n",
       "       [0.79649928, 0.20350072],\n",
       "       [0.5       , 0.5       ],\n",
       "       [0.36425576, 0.63574424],\n",
       "       [0.69081665, 0.30918335],\n",
       "       [0.60326403, 0.39673597],\n",
       "       [0.8320349 , 0.1679651 ],\n",
       "       [0.63283085, 0.36716915],\n",
       "       [0.64409107, 0.35590893],\n",
       "       [0.86143765, 0.13856235],\n",
       "       [0.52866863, 0.47133137],\n",
       "       [0.80482081, 0.19517919],\n",
       "       [0.79068494, 0.20931506],\n",
       "       [0.69356412, 0.30643588],\n",
       "       [0.82126161, 0.17873839],\n",
       "       [0.82667895, 0.17332105],\n",
       "       [0.81436665, 0.18563335],\n",
       "       [0.64327603, 0.35672397],\n",
       "       [0.79887612, 0.20112388],\n",
       "       [0.34831416, 0.65168584],\n",
       "       [0.78472024, 0.21527976],\n",
       "       [0.38954545, 0.61045455],\n",
       "       [0.39312822, 0.60687178],\n",
       "       [0.82706823, 0.17293177],\n",
       "       [0.70799305, 0.29200695],\n",
       "       [0.69201441, 0.30798559],\n",
       "       [0.33814417, 0.66185583],\n",
       "       [0.86298492, 0.13701508],\n",
       "       [0.34519832, 0.65480168],\n",
       "       [0.35391878, 0.64608122],\n",
       "       [0.8193826 , 0.1806174 ],\n",
       "       [0.6829426 , 0.3170574 ],\n",
       "       [0.70768244, 0.29231756],\n",
       "       [0.8306043 , 0.1693957 ],\n",
       "       [0.28191051, 0.71808949],\n",
       "       [0.8860606 , 0.1139394 ],\n",
       "       [0.47359316, 0.52640684],\n",
       "       [0.28235715, 0.71764285],\n",
       "       [0.22223225, 0.77776775],\n",
       "       [0.86690709, 0.13309291],\n",
       "       [0.30759963, 0.69240037],\n",
       "       [0.8320146 , 0.1679854 ],\n",
       "       [0.79923819, 0.20076181],\n",
       "       [0.68954442, 0.31045558],\n",
       "       [0.42197282, 0.57802718],\n",
       "       [0.61092153, 0.38907847],\n",
       "       [0.0682271 , 0.9317729 ],\n",
       "       [0.75453342, 0.24546658],\n",
       "       [0.82260846, 0.17739154],\n",
       "       [0.455863  , 0.544137  ],\n",
       "       [0.32193192, 0.67806808],\n",
       "       [0.27341892, 0.72658108],\n",
       "       [0.85789934, 0.14210066],\n",
       "       [0.17827693, 0.82172307],\n",
       "       [0.47752771, 0.52247229],\n",
       "       [0.85960651, 0.14039349],\n",
       "       [0.25252129, 0.74747871],\n",
       "       [0.3561986 , 0.6438014 ],\n",
       "       [0.57544999, 0.42455001],\n",
       "       [0.51697411, 0.48302589],\n",
       "       [0.84829999, 0.15170001],\n",
       "       [0.77222246, 0.22777754],\n",
       "       [0.86091041, 0.13908959],\n",
       "       [0.6806267 , 0.3193733 ],\n",
       "       [0.71045811, 0.28954189],\n",
       "       [0.45574165, 0.54425835],\n",
       "       [0.1055178 , 0.8944822 ],\n",
       "       [0.83558505, 0.16441495],\n",
       "       [0.8119024 , 0.1880976 ],\n",
       "       [0.74064564, 0.25935436],\n",
       "       [0.82781107, 0.17218893],\n",
       "       [0.16651239, 0.83348761],\n",
       "       [0.21470562, 0.78529438],\n",
       "       [0.46977507, 0.53022493],\n",
       "       [0.84495381, 0.15504619],\n",
       "       [0.84403643, 0.15596357],\n",
       "       [0.85744047, 0.14255953],\n",
       "       [0.85214386, 0.14785614],\n",
       "       [0.19059842, 0.80940158],\n",
       "       [0.46510459, 0.53489541],\n",
       "       [0.79856778, 0.20143222],\n",
       "       [0.5       , 0.5       ],\n",
       "       [0.81001652, 0.18998348],\n",
       "       [0.82733773, 0.17266227],\n",
       "       [0.14561221, 0.85438779],\n",
       "       [0.77956407, 0.22043593],\n",
       "       [0.79429866, 0.20570134],\n",
       "       [0.08256346, 0.91743654],\n",
       "       [0.70976294, 0.29023706],\n",
       "       [0.72165844, 0.27834156],\n",
       "       [0.70839443, 0.29160557],\n",
       "       [0.83149515, 0.16850485],\n",
       "       [0.69365048, 0.30634952],\n",
       "       [0.43607608, 0.56392392],\n",
       "       [0.74220083, 0.25779917],\n",
       "       [0.78882685, 0.21117315],\n",
       "       [0.22600665, 0.77399335],\n",
       "       [0.26394113, 0.73605887],\n",
       "       [0.83112487, 0.16887513],\n",
       "       [0.70901649, 0.29098351],\n",
       "       [0.81997223, 0.18002777],\n",
       "       [0.81689769, 0.18310231],\n",
       "       [0.85647316, 0.14352684],\n",
       "       [0.82975009, 0.17024991],\n",
       "       [0.85205841, 0.14794159],\n",
       "       [0.85014606, 0.14985394],\n",
       "       [0.42271943, 0.57728057],\n",
       "       [0.75009603, 0.24990397],\n",
       "       [0.41168008, 0.58831992],\n",
       "       [0.71761884, 0.28238116],\n",
       "       [0.79129341, 0.20870659],\n",
       "       [0.84909683, 0.15090317],\n",
       "       [0.41434055, 0.58565945],\n",
       "       [0.87445819, 0.12554181],\n",
       "       [0.31713214, 0.68286786],\n",
       "       [0.84892426, 0.15107574],\n",
       "       [0.72124173, 0.27875827],\n",
       "       [0.10206846, 0.89793154],\n",
       "       [0.69159801, 0.30840199],\n",
       "       [0.47430047, 0.52569953],\n",
       "       [0.87244018, 0.12755982],\n",
       "       [0.45177073, 0.54822927],\n",
       "       [0.79925928, 0.20074072],\n",
       "       [0.71435919, 0.28564081],\n",
       "       [0.7612992 , 0.2387008 ],\n",
       "       [0.85903944, 0.14096056],\n",
       "       [0.51741506, 0.48258494],\n",
       "       [0.35166582, 0.64833418],\n",
       "       [0.86553922, 0.13446078],\n",
       "       [0.55792385, 0.44207615],\n",
       "       [0.63615429, 0.36384571],\n",
       "       [0.81448262, 0.18551738],\n",
       "       [0.45786007, 0.54213993],\n",
       "       [0.83024228, 0.16975772],\n",
       "       [0.82267598, 0.17732402],\n",
       "       [0.20809303, 0.79190697],\n",
       "       [0.87936287, 0.12063713],\n",
       "       [0.2814817 , 0.7185183 ],\n",
       "       [0.4526897 , 0.5473103 ],\n",
       "       [0.86295871, 0.13704129],\n",
       "       [0.78790321, 0.21209679],\n",
       "       [0.72428917, 0.27571083],\n",
       "       [0.47725218, 0.52274782],\n",
       "       [0.84775167, 0.15224833],\n",
       "       [0.75483384, 0.24516616],\n",
       "       [0.1177316 , 0.8822684 ],\n",
       "       [0.77465752, 0.22534248],\n",
       "       [0.8342829 , 0.1657171 ],\n",
       "       [0.62372283, 0.37627717],\n",
       "       [0.29715369, 0.70284631],\n",
       "       [0.52262972, 0.47737028],\n",
       "       [0.78459192, 0.21540808],\n",
       "       [0.23283215, 0.76716785],\n",
       "       [0.82769364, 0.17230636],\n",
       "       [0.74192621, 0.25807379],\n",
       "       [0.23871104, 0.76128896],\n",
       "       [0.69134555, 0.30865445],\n",
       "       [0.83974935, 0.16025065],\n",
       "       [0.8255974 , 0.1744026 ],\n",
       "       [0.15017586, 0.84982414],\n",
       "       [0.43900148, 0.56099852],\n",
       "       [0.86321357, 0.13678643],\n",
       "       [0.30641401, 0.69358599],\n",
       "       [0.51699182, 0.48300818],\n",
       "       [0.1435797 , 0.8564203 ],\n",
       "       [0.46415103, 0.53584897],\n",
       "       [0.29449666, 0.70550334],\n",
       "       [0.1164534 , 0.8835466 ],\n",
       "       [0.59445436, 0.40554564],\n",
       "       [0.38104444, 0.61895556],\n",
       "       [0.85524959, 0.14475041],\n",
       "       [0.26605889, 0.73394111],\n",
       "       [0.87258542, 0.12741458],\n",
       "       [0.5       , 0.5       ],\n",
       "       [0.82127199, 0.17872801],\n",
       "       [0.83557626, 0.16442374],\n",
       "       [0.76180347, 0.23819653],\n",
       "       [0.7227366 , 0.2772634 ],\n",
       "       [0.80662157, 0.19337843],\n",
       "       [0.25695914, 0.74304086],\n",
       "       [0.48863461, 0.51136539],\n",
       "       [0.89594576, 0.10405424],\n",
       "       [0.48658398, 0.51341602],\n",
       "       [0.17441416, 0.82558584],\n",
       "       [0.73790182, 0.26209818],\n",
       "       [0.17574001, 0.82425999],\n",
       "       [0.67057641, 0.32942359],\n",
       "       [0.80778385, 0.19221615],\n",
       "       [0.47718319, 0.52281681],\n",
       "       [0.08146504, 0.91853496],\n",
       "       [0.20478463, 0.79521537],\n",
       "       [0.83569651, 0.16430349],\n",
       "       [0.81670022, 0.18329978],\n",
       "       [0.09998757, 0.90001243],\n",
       "       [0.84127745, 0.15872255],\n",
       "       [0.65246608, 0.34753392],\n",
       "       [0.41152151, 0.58847849],\n",
       "       [0.63074166, 0.36925834],\n",
       "       [0.58416471, 0.41583529],\n",
       "       [0.63473091, 0.36526909],\n",
       "       [0.71930339, 0.28069661],\n",
       "       [0.86086778, 0.13913222],\n",
       "       [0.44748918, 0.55251082],\n",
       "       [0.79157586, 0.20842414],\n",
       "       [0.90511478, 0.09488522],\n",
       "       [0.87779577, 0.12220423],\n",
       "       [0.37480488, 0.62519512]])"
      ]
     },
     "execution_count": 52,
     "metadata": {},
     "output_type": "execute_result"
    }
   ],
   "source": [
    "prediction_on_real_dataset_adding_extra"
   ]
  },
  {
   "cell_type": "code",
   "execution_count": null,
   "metadata": {
    "collapsed": true
   },
   "outputs": [],
   "source": []
  },
  {
   "cell_type": "code",
   "execution_count": null,
   "metadata": {
    "collapsed": true
   },
   "outputs": [],
   "source": []
  }
 ],
 "metadata": {
  "kernelspec": {
   "display_name": "Python 3",
   "language": "python",
   "name": "python3"
  },
  "language_info": {
   "codemirror_mode": {
    "name": "ipython",
    "version": 3
   },
   "file_extension": ".py",
   "mimetype": "text/x-python",
   "name": "python",
   "nbconvert_exporter": "python",
   "pygments_lexer": "ipython3",
   "version": "3.6.6"
  }
 },
 "nbformat": 4,
 "nbformat_minor": 2
}
