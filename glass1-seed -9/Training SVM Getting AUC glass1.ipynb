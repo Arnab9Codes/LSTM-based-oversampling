{
 "cells": [
  {
   "cell_type": "code",
   "execution_count": 1,
   "metadata": {
    "collapsed": true
   },
   "outputs": [],
   "source": [
    "import time\n",
    "import math\n",
    "\n",
    "import numpy as np\n",
    "import pandas as pd\n",
    "from pandas import DataFrame\n",
    "from pandas import concat\n",
    "from matplotlib import pyplot\n",
    "\n",
    "from sklearn.preprocessing import MinMaxScaler\n",
    "from sklearn.preprocessing import LabelEncoder\n",
    "from sklearn.metrics import mean_squared_error\n",
    "\n",
    "from sklearn.preprocessing import StandardScaler\n",
    "from sklearn.model_selection import train_test_split\n",
    "from sklearn.model_selection import KFold\n",
    "from sklearn.model_selection import cross_val_score\n",
    "from sklearn.model_selection import GridSearchCV\n",
    "from sklearn.metrics import classification_report\n",
    "from sklearn.metrics import confusion_matrix\n",
    "from sklearn.metrics import accuracy_score\n",
    "from sklearn.metrics import precision_recall_curve\n",
    "\n",
    "from sklearn.pipeline import Pipeline\n",
    "from sklearn.linear_model import LogisticRegression\n",
    "from sklearn.tree import DecisionTreeClassifier\n",
    "from sklearn.neighbors import KNeighborsClassifier\n",
    "from sklearn.discriminant_analysis import LinearDiscriminantAnalysis\n",
    "from sklearn.naive_bayes import GaussianNB\n",
    "from sklearn.svm import SVC\n",
    "from sklearn.ensemble import AdaBoostClassifier\n",
    "from sklearn.ensemble import GradientBoostingClassifier\n",
    "from sklearn.ensemble import RandomForestClassifier\n",
    "from sklearn.ensemble import ExtraTreesClassifier\n",
    "\n",
    "from sklearn.model_selection import GridSearchCV\n",
    "\n",
    "import pickle"
   ]
  },
  {
   "cell_type": "code",
   "execution_count": 2,
   "metadata": {
    "collapsed": true
   },
   "outputs": [],
   "source": [
    "extra_data=pd.read_csv('new_corrected_data-v1-7-24-2019.csv')# loading extra genereated data genereated by LSTM #prediction_of_1_0007.csv\n",
    "original_data=pd.read_csv('train_Data.csv')#original data"
   ]
  },
  {
   "cell_type": "code",
   "execution_count": 3,
   "metadata": {},
   "outputs": [
    {
     "data": {
      "text/html": [
       "<div>\n",
       "<style scoped>\n",
       "    .dataframe tbody tr th:only-of-type {\n",
       "        vertical-align: middle;\n",
       "    }\n",
       "\n",
       "    .dataframe tbody tr th {\n",
       "        vertical-align: top;\n",
       "    }\n",
       "\n",
       "    .dataframe thead th {\n",
       "        text-align: right;\n",
       "    }\n",
       "</style>\n",
       "<table border=\"1\" class=\"dataframe\">\n",
       "  <thead>\n",
       "    <tr style=\"text-align: right;\">\n",
       "      <th></th>\n",
       "      <th>0</th>\n",
       "      <th>1</th>\n",
       "      <th>2</th>\n",
       "      <th>3</th>\n",
       "      <th>4</th>\n",
       "      <th>5</th>\n",
       "      <th>6</th>\n",
       "      <th>7</th>\n",
       "      <th>8</th>\n",
       "      <th>9</th>\n",
       "    </tr>\n",
       "  </thead>\n",
       "  <tbody>\n",
       "    <tr>\n",
       "      <th>0</th>\n",
       "      <td>1.516059</td>\n",
       "      <td>13.665171</td>\n",
       "      <td>3.684438</td>\n",
       "      <td>1.344994</td>\n",
       "      <td>72.88793</td>\n",
       "      <td>0.670918</td>\n",
       "      <td>7.568337</td>\n",
       "      <td>-0.229317</td>\n",
       "      <td>0.008261</td>\n",
       "      <td>0.987270</td>\n",
       "    </tr>\n",
       "    <tr>\n",
       "      <th>1</th>\n",
       "      <td>1.520750</td>\n",
       "      <td>13.206833</td>\n",
       "      <td>1.896539</td>\n",
       "      <td>1.419143</td>\n",
       "      <td>71.84798</td>\n",
       "      <td>0.331396</td>\n",
       "      <td>9.141667</td>\n",
       "      <td>0.414664</td>\n",
       "      <td>0.067732</td>\n",
       "      <td>1.053974</td>\n",
       "    </tr>\n",
       "    <tr>\n",
       "      <th>2</th>\n",
       "      <td>1.519609</td>\n",
       "      <td>12.730011</td>\n",
       "      <td>3.233287</td>\n",
       "      <td>1.597547</td>\n",
       "      <td>72.50635</td>\n",
       "      <td>0.471753</td>\n",
       "      <td>8.687597</td>\n",
       "      <td>0.223986</td>\n",
       "      <td>0.077770</td>\n",
       "      <td>1.026704</td>\n",
       "    </tr>\n",
       "    <tr>\n",
       "      <th>3</th>\n",
       "      <td>1.520042</td>\n",
       "      <td>12.977668</td>\n",
       "      <td>2.873337</td>\n",
       "      <td>1.473638</td>\n",
       "      <td>72.06560</td>\n",
       "      <td>0.458800</td>\n",
       "      <td>9.754704</td>\n",
       "      <td>0.205538</td>\n",
       "      <td>0.120574</td>\n",
       "      <td>0.992393</td>\n",
       "    </tr>\n",
       "    <tr>\n",
       "      <th>4</th>\n",
       "      <td>1.518492</td>\n",
       "      <td>14.157096</td>\n",
       "      <td>3.787873</td>\n",
       "      <td>1.215723</td>\n",
       "      <td>73.25188</td>\n",
       "      <td>0.618025</td>\n",
       "      <td>7.129230</td>\n",
       "      <td>-0.763804</td>\n",
       "      <td>-0.014849</td>\n",
       "      <td>0.973595</td>\n",
       "    </tr>\n",
       "  </tbody>\n",
       "</table>\n",
       "</div>"
      ],
      "text/plain": [
       "          0          1         2         3         4         5         6  \\\n",
       "0  1.516059  13.665171  3.684438  1.344994  72.88793  0.670918  7.568337   \n",
       "1  1.520750  13.206833  1.896539  1.419143  71.84798  0.331396  9.141667   \n",
       "2  1.519609  12.730011  3.233287  1.597547  72.50635  0.471753  8.687597   \n",
       "3  1.520042  12.977668  2.873337  1.473638  72.06560  0.458800  9.754704   \n",
       "4  1.518492  14.157096  3.787873  1.215723  73.25188  0.618025  7.129230   \n",
       "\n",
       "          7         8         9  \n",
       "0 -0.229317  0.008261  0.987270  \n",
       "1  0.414664  0.067732  1.053974  \n",
       "2  0.223986  0.077770  1.026704  \n",
       "3  0.205538  0.120574  0.992393  \n",
       "4 -0.763804 -0.014849  0.973595  "
      ]
     },
     "execution_count": 3,
     "metadata": {},
     "output_type": "execute_result"
    }
   ],
   "source": [
    "extra_data.head()#displaying LSTM generated data"
   ]
  },
  {
   "cell_type": "code",
   "execution_count": 4,
   "metadata": {},
   "outputs": [
    {
     "name": "stdout",
     "output_type": "stream",
     "text": [
      "(21, 10)\n"
     ]
    }
   ],
   "source": [
    "extra=np.array(extra_data)# getting the original shape\n",
    "print(extra.shape)"
   ]
  },
  {
   "cell_type": "code",
   "execution_count": 5,
   "metadata": {},
   "outputs": [
    {
     "data": {
      "text/plain": [
       "array([ 1.5160589e+00,  1.3665171e+01,  3.6844378e+00,  1.3449940e+00,\n",
       "        7.2887930e+01,  6.7091763e-01,  7.5683370e+00, -2.2931707e-01,\n",
       "        8.2611660e-03,  9.8727036e-01])"
      ]
     },
     "execution_count": 5,
     "metadata": {},
     "output_type": "execute_result"
    }
   ],
   "source": [
    "extra[0] # showing first row vector"
   ]
  },
  {
   "cell_type": "code",
   "execution_count": 6,
   "metadata": {
    "collapsed": true
   },
   "outputs": [],
   "source": [
    "# Setting predictions of all generated data to 1 because their outputs are mostly 0.98, 0.99 etc. \n",
    "for i in range(0,len(extra),1):\n",
    "    extra[i][9]=int(1)"
   ]
  },
  {
   "cell_type": "code",
   "execution_count": 7,
   "metadata": {},
   "outputs": [
    {
     "data": {
      "text/plain": [
       "array([[ 1.51605890e+00,  1.36651710e+01,  3.68443780e+00,\n",
       "         1.34499400e+00,  7.28879300e+01,  6.70917630e-01,\n",
       "         7.56833700e+00, -2.29317070e-01,  8.26116600e-03,\n",
       "         1.00000000e+00],\n",
       "       [ 1.52075050e+00,  1.32068330e+01,  1.89653890e+00,\n",
       "         1.41914340e+00,  7.18479800e+01,  3.31395950e-01,\n",
       "         9.14166700e+00,  4.14663940e-01,  6.77321400e-02,\n",
       "         1.00000000e+00],\n",
       "       [ 1.51960930e+00,  1.27300110e+01,  3.23328700e+00,\n",
       "         1.59754690e+00,  7.25063500e+01,  4.71752730e-01,\n",
       "         8.68759700e+00,  2.23986250e-01,  7.77701100e-02,\n",
       "         1.00000000e+00],\n",
       "       [ 1.52004240e+00,  1.29776680e+01,  2.87333660e+00,\n",
       "         1.47363800e+00,  7.20656000e+01,  4.58799720e-01,\n",
       "         9.75470400e+00,  2.05537950e-01,  1.20573744e-01,\n",
       "         1.00000000e+00],\n",
       "       [ 1.51849200e+00,  1.41570960e+01,  3.78787300e+00,\n",
       "         1.21572270e+00,  7.32518800e+01,  6.18024650e-01,\n",
       "         7.12922950e+00, -7.63803600e-01, -1.48493545e-02,\n",
       "         1.00000000e+00],\n",
       "       [ 1.52086770e+00,  1.35907135e+01,  2.49199000e+00,\n",
       "         1.29025320e+00,  7.25150000e+01,  3.77693440e-01,\n",
       "         9.95512100e+00, -2.79311240e-01,  4.52491570e-02,\n",
       "         1.00000000e+00],\n",
       "       [ 1.52141360e+00,  1.36603080e+01,  2.01979000e+00,\n",
       "         1.15551960e+00,  7.25549400e+01,  2.63702420e-01,\n",
       "         9.78308600e+00,  1.32247910e-02,  5.95915430e-02,\n",
       "         1.00000000e+00],\n",
       "       [ 1.51549940e+00,  1.32996670e+01,  3.72078300e+00,\n",
       "         1.47277600e+00,  7.31216700e+01,  6.43037260e-01,\n",
       "         7.58168000e+00, -3.13044760e-01,  3.28629400e-02,\n",
       "         1.00000000e+00],\n",
       "       [ 1.51588670e+00,  1.38108240e+01,  4.20783200e+00,\n",
       "         1.34139780e+00,  7.35695400e+01,  6.88677800e-01,\n",
       "         6.47267600e+00, -8.02207470e-01, -2.52134950e-02,\n",
       "         1.00000000e+00],\n",
       "       [ 1.51547160e+00,  1.32798020e+01,  4.01555900e+00,\n",
       "         1.50300130e+00,  7.31990500e+01,  6.62486260e-01,\n",
       "         7.59483100e+00, -2.62600660e-01, -9.72847550e-03,\n",
       "         1.00000000e+00],\n",
       "       [ 1.51782950e+00,  1.36916360e+01,  3.39491150e+00,\n",
       "         1.38796090e+00,  7.27540800e+01,  5.86154700e-01,\n",
       "         8.49907000e+00, -3.54819540e-01,  2.73282750e-02,\n",
       "         1.00000000e+00],\n",
       "       [ 1.51692940e+00,  1.26383570e+01,  3.78931380e+00,\n",
       "         1.61011160e+00,  7.29131900e+01,  5.83934000e-01,\n",
       "         8.37061800e+00,  2.87514800e-01,  5.77080900e-02,\n",
       "         1.00000000e+00],\n",
       "       [ 1.51351960e+00,  1.22724900e+01,  4.00174700e+00,\n",
       "         1.58984610e+00,  7.33527500e+01,  6.32585940e-01,\n",
       "         7.36249100e+00,  2.52922620e-01,  6.89550900e-02,\n",
       "         1.00000000e+00],\n",
       "       [ 1.51588240e+00,  1.28683970e+01,  3.50422360e+00,\n",
       "         1.56900720e+00,  7.24935700e+01,  6.49943500e-01,\n",
       "         8.09001700e+00,  4.49323830e-01,  6.49054800e-02,\n",
       "         1.00000000e+00],\n",
       "       [ 1.51970530e+00,  1.31922050e+01,  2.92719460e+00,\n",
       "         1.50639470e+00,  7.20100200e+01,  6.02133870e-01,\n",
       "         9.72038900e+00,  5.12695300e-01,  1.03653360e-01,\n",
       "         1.00000000e+00],\n",
       "       [ 1.51722660e+00,  1.39040630e+01,  3.38943200e+00,\n",
       "         1.30263660e+00,  7.25358700e+01,  6.50938330e-01,\n",
       "         8.09089850e+00, -2.71314900e-01,  3.49412670e-02,\n",
       "         1.00000000e+00],\n",
       "       [ 1.51803950e+00,  1.40371160e+01,  3.14355330e+00,\n",
       "         1.24991870e+00,  7.25072800e+01,  6.41065060e-01,\n",
       "         8.35293500e+00, -1.43806060e-01,  2.13181170e-02,\n",
       "         1.00000000e+00],\n",
       "       [ 1.51251070e+00,  1.23567360e+01,  4.19050460e+00,\n",
       "         1.58784260e+00,  7.35678100e+01,  6.66562560e-01,\n",
       "         7.09562830e+00,  7.18879250e-02,  2.95868140e-02,\n",
       "         1.00000000e+00],\n",
       "       [ 1.51884070e+00,  1.33710850e+01,  2.77029750e+00,\n",
       "         1.36444080e+00,  7.26209400e+01,  5.16038100e-01,\n",
       "         9.12792800e+00, -3.18696950e-02,  7.97197000e-02,\n",
       "         1.00000000e+00],\n",
       "       [ 1.51851500e+00,  1.43392200e+01,  3.62943960e+00,\n",
       "         1.14657950e+00,  7.29343300e+01,  5.94320600e-01,\n",
       "         7.34735870e+00, -6.32604500e-01, -7.26416150e-03,\n",
       "         1.00000000e+00],\n",
       "       [ 1.51868630e+00,  1.30902420e+01,  3.15116950e+00,\n",
       "         1.47608100e+00,  7.22208000e+01,  5.46526000e-01,\n",
       "         8.91790600e+00,  1.77427050e-01,  1.15630835e-01,\n",
       "         1.00000000e+00]])"
      ]
     },
     "execution_count": 7,
     "metadata": {},
     "output_type": "execute_result"
    }
   ],
   "source": [
    "extra #showing LSTM generated extra data ready for training"
   ]
  },
  {
   "cell_type": "code",
   "execution_count": 8,
   "metadata": {},
   "outputs": [
    {
     "data": {
      "text/html": [
       "<div>\n",
       "<style scoped>\n",
       "    .dataframe tbody tr th:only-of-type {\n",
       "        vertical-align: middle;\n",
       "    }\n",
       "\n",
       "    .dataframe tbody tr th {\n",
       "        vertical-align: top;\n",
       "    }\n",
       "\n",
       "    .dataframe thead th {\n",
       "        text-align: right;\n",
       "    }\n",
       "</style>\n",
       "<table border=\"1\" class=\"dataframe\">\n",
       "  <thead>\n",
       "    <tr style=\"text-align: right;\">\n",
       "      <th></th>\n",
       "      <th>0</th>\n",
       "      <th>1</th>\n",
       "      <th>2</th>\n",
       "      <th>3</th>\n",
       "      <th>4</th>\n",
       "      <th>5</th>\n",
       "      <th>6</th>\n",
       "      <th>7</th>\n",
       "      <th>8</th>\n",
       "      <th>9</th>\n",
       "    </tr>\n",
       "  </thead>\n",
       "  <tbody>\n",
       "    <tr>\n",
       "      <th>0</th>\n",
       "      <td>1.518462</td>\n",
       "      <td>13.40995</td>\n",
       "      <td>3.88834</td>\n",
       "      <td>1.33004</td>\n",
       "      <td>72.3804</td>\n",
       "      <td>0.50922</td>\n",
       "      <td>8.28140</td>\n",
       "      <td>0.00000</td>\n",
       "      <td>0.0</td>\n",
       "      <td>1</td>\n",
       "    </tr>\n",
       "    <tr>\n",
       "      <th>1</th>\n",
       "      <td>1.518189</td>\n",
       "      <td>13.72250</td>\n",
       "      <td>0.00000</td>\n",
       "      <td>0.55964</td>\n",
       "      <td>74.4524</td>\n",
       "      <td>0.00000</td>\n",
       "      <td>10.99292</td>\n",
       "      <td>0.00000</td>\n",
       "      <td>0.0</td>\n",
       "      <td>1</td>\n",
       "    </tr>\n",
       "    <tr>\n",
       "      <th>2</th>\n",
       "      <td>1.517756</td>\n",
       "      <td>13.52965</td>\n",
       "      <td>3.40791</td>\n",
       "      <td>1.51943</td>\n",
       "      <td>72.0388</td>\n",
       "      <td>0.57753</td>\n",
       "      <td>8.78712</td>\n",
       "      <td>0.00000</td>\n",
       "      <td>0.0</td>\n",
       "      <td>0</td>\n",
       "    </tr>\n",
       "    <tr>\n",
       "      <th>3</th>\n",
       "      <td>1.518371</td>\n",
       "      <td>14.32100</td>\n",
       "      <td>3.25974</td>\n",
       "      <td>2.21921</td>\n",
       "      <td>71.2492</td>\n",
       "      <td>1.45935</td>\n",
       "      <td>5.78508</td>\n",
       "      <td>1.62855</td>\n",
       "      <td>0.0</td>\n",
       "      <td>0</td>\n",
       "    </tr>\n",
       "    <tr>\n",
       "      <th>4</th>\n",
       "      <td>1.519055</td>\n",
       "      <td>14.00180</td>\n",
       "      <td>2.38868</td>\n",
       "      <td>1.56116</td>\n",
       "      <td>72.3692</td>\n",
       "      <td>0.00000</td>\n",
       "      <td>9.57260</td>\n",
       "      <td>0.00000</td>\n",
       "      <td>0.0</td>\n",
       "      <td>0</td>\n",
       "    </tr>\n",
       "  </tbody>\n",
       "</table>\n",
       "</div>"
      ],
      "text/plain": [
       "          0         1        2        3        4        5         6        7  \\\n",
       "0  1.518462  13.40995  3.88834  1.33004  72.3804  0.50922   8.28140  0.00000   \n",
       "1  1.518189  13.72250  0.00000  0.55964  74.4524  0.00000  10.99292  0.00000   \n",
       "2  1.517756  13.52965  3.40791  1.51943  72.0388  0.57753   8.78712  0.00000   \n",
       "3  1.518371  14.32100  3.25974  2.21921  71.2492  1.45935   5.78508  1.62855   \n",
       "4  1.519055  14.00180  2.38868  1.56116  72.3692  0.00000   9.57260  0.00000   \n",
       "\n",
       "     8  9  \n",
       "0  0.0  1  \n",
       "1  0.0  1  \n",
       "2  0.0  0  \n",
       "3  0.0  0  \n",
       "4  0.0  0  "
      ]
     },
     "execution_count": 8,
     "metadata": {},
     "output_type": "execute_result"
    }
   ],
   "source": [
    "original_data.head() #showing original data"
   ]
  },
  {
   "cell_type": "code",
   "execution_count": null,
   "metadata": {
    "collapsed": true
   },
   "outputs": [],
   "source": []
  },
  {
   "cell_type": "code",
   "execution_count": 9,
   "metadata": {
    "collapsed": true
   },
   "outputs": [],
   "source": [
    "#loading data values from original dataset(Pima)\n",
    "val=original_data.values"
   ]
  },
  {
   "cell_type": "code",
   "execution_count": 10,
   "metadata": {
    "collapsed": true
   },
   "outputs": [],
   "source": [
    "X=val[:,:9].astype(float)# getting the feature values\n",
    "Y=val[:,9].astype(int)# getting prediction"
   ]
  },
  {
   "cell_type": "code",
   "execution_count": 11,
   "metadata": {
    "collapsed": true
   },
   "outputs": [],
   "source": [
    "#extra_X denotes the extra training data generated by LSTM \n",
    "extra_X=extra[:,:9].astype(float)\n",
    "\n",
    "#extra_Y denotes extra training prediction data for training the algorithm\n",
    "extra_Y=extra[:,9].astype(int)"
   ]
  },
  {
   "cell_type": "code",
   "execution_count": 12,
   "metadata": {
    "collapsed": true
   },
   "outputs": [],
   "source": [
    "# extrain=original training data + LSTM generated training data\n",
    "\n",
    "# eytrain=original training prediction + LSTM generated\n",
    "\n",
    "extrain=np.concatenate((X,extra_X),axis=0)\n",
    "eytrain=np.concatenate((Y,extra_Y),axis=0)"
   ]
  },
  {
   "cell_type": "code",
   "execution_count": 13,
   "metadata": {},
   "outputs": [
    {
     "name": "stdout",
     "output_type": "stream",
     "text": [
      "(170, 9)\n",
      "(170,)\n"
     ]
    }
   ],
   "source": [
    "print(extrain.shape)\n",
    "print(eytrain.shape)"
   ]
  },
  {
   "cell_type": "code",
   "execution_count": 14,
   "metadata": {
    "collapsed": true
   },
   "outputs": [],
   "source": [
    "test_Data=pd.read_csv('test_Data.csv')"
   ]
  },
  {
   "cell_type": "code",
   "execution_count": 15,
   "metadata": {
    "collapsed": true
   },
   "outputs": [],
   "source": [
    "test_Data=np.array(test_Data)"
   ]
  },
  {
   "cell_type": "code",
   "execution_count": 16,
   "metadata": {},
   "outputs": [
    {
     "data": {
      "text/plain": [
       "(65, 10)"
      ]
     },
     "execution_count": 16,
     "metadata": {},
     "output_type": "execute_result"
    }
   ],
   "source": [
    "test_Data.shape"
   ]
  },
  {
   "cell_type": "code",
   "execution_count": 17,
   "metadata": {
    "collapsed": true
   },
   "outputs": [],
   "source": [
    "X_test=test_Data[:,:9].astype(float)\n",
    "Y_test=test_Data[:,9].astype(int)"
   ]
  },
  {
   "cell_type": "code",
   "execution_count": null,
   "metadata": {
    "collapsed": true
   },
   "outputs": [],
   "source": []
  },
  {
   "cell_type": "code",
   "execution_count": 18,
   "metadata": {
    "collapsed": true
   },
   "outputs": [],
   "source": [
    "def svc_param_selection(X, y, nfolds):\n",
    "    Cs = [0.0001,0.001, 0.01, 0.1, 1, 10,100,1000]\n",
    "    gammas = [0.0001,0.001, 0.01, 0.1, 1,10]\n",
    "    param_grid = {'C': Cs, 'gamma' : gammas}\n",
    "    grid_search = GridSearchCV(SVC(kernel='rbf',probability=True),param_grid, cv=nfolds)\n",
    "    grid_search.fit(X, y)\n",
    "    grid_search.best_params_\n",
    "    return grid_search.best_estimator_"
   ]
  },
  {
   "cell_type": "code",
   "execution_count": 19,
   "metadata": {
    "collapsed": true
   },
   "outputs": [],
   "source": [
    "# setting seed =7 to produce same results over and over again, it was maintained during different experiments \n",
    "seed=9\n"
   ]
  },
  {
   "cell_type": "code",
   "execution_count": 20,
   "metadata": {},
   "outputs": [
    {
     "name": "stderr",
     "output_type": "stream",
     "text": [
      "G:\\newage2\\envs\\tensorflow\\lib\\site-packages\\sklearn\\model_selection\\_search.py:813: DeprecationWarning: The default of the `iid` parameter will change from True to False in version 0.22 and will be removed in 0.24. This will change numeric results when test-set sizes are unequal.\n",
      "  DeprecationWarning)\n",
      "G:\\newage2\\envs\\tensorflow\\lib\\site-packages\\sklearn\\model_selection\\_search.py:813: DeprecationWarning: The default of the `iid` parameter will change from True to False in version 0.22 and will be removed in 0.24. This will change numeric results when test-set sizes are unequal.\n",
      "  DeprecationWarning)\n"
     ]
    }
   ],
   "source": [
    "# first rbf_svc for training on just the original training data\n",
    "#rbf_svc = SVC(kernel='rbf', gamma=0.00001, C=1000,probability=True).fit(X_train,Y_train)\n",
    "rbf_svc=svc_param_selection(X,Y,5)\n",
    "\n",
    "# secondly rbf_svc_extra for training on original+LSTM\n",
    "rbf_svc_extra = svc_param_selection(extrain,eytrain,5)"
   ]
  },
  {
   "cell_type": "code",
   "execution_count": 21,
   "metadata": {},
   "outputs": [
    {
     "data": {
      "text/plain": [
       "SVC(C=10, cache_size=200, class_weight=None, coef0=0.0,\n",
       "    decision_function_shape='ovr', degree=3, gamma=1, kernel='rbf', max_iter=-1,\n",
       "    probability=True, random_state=None, shrinking=True, tol=0.001,\n",
       "    verbose=False)"
      ]
     },
     "execution_count": 21,
     "metadata": {},
     "output_type": "execute_result"
    }
   ],
   "source": [
    "\n",
    "# fitting the data\n",
    "rbf_svc.fit(X,Y)\n",
    "rbf_svc_extra.fit(extrain,eytrain)"
   ]
  },
  {
   "cell_type": "code",
   "execution_count": 22,
   "metadata": {},
   "outputs": [
    {
     "data": {
      "text/plain": [
       "(65, 9)"
      ]
     },
     "execution_count": 22,
     "metadata": {},
     "output_type": "execute_result"
    }
   ],
   "source": [
    "# loading the validation dataset previously set up by validation split(this data was not included in any training procedure)\n",
    "Prediction_data=X_test\n",
    "\n",
    "#producing the shape\n",
    "Prediction_data.shape"
   ]
  },
  {
   "cell_type": "code",
   "execution_count": 23,
   "metadata": {
    "collapsed": true
   },
   "outputs": [],
   "source": [
    "# making predictions on validation dataset using svc trained only on original training data\n",
    "prediction_on_real_dataset=rbf_svc.predict_proba(Prediction_data)\n",
    "\n",
    "#saving probabilities\n",
    "predictions=rbf_svc.predict(Prediction_data)\n",
    "\n",
    "# making predictions on validation dataset using svc trained on original training data + LSTM generated data\n",
    "prediction_on_real_dataset_adding_extra=rbf_svc_extra.predict_proba(Prediction_data)\n",
    "#saving probabilities\n",
    "predictions_extra=rbf_svc_extra.predict(Prediction_data)"
   ]
  },
  {
   "cell_type": "code",
   "execution_count": 24,
   "metadata": {},
   "outputs": [
    {
     "name": "stdout",
     "output_type": "stream",
     "text": [
      "65\n",
      "65\n"
     ]
    }
   ],
   "source": [
    "print(len(prediction_on_real_dataset))\n",
    "\n",
    "print(len(prediction_on_real_dataset_adding_extra))"
   ]
  },
  {
   "cell_type": "code",
   "execution_count": 25,
   "metadata": {
    "collapsed": true
   },
   "outputs": [],
   "source": [
    "from sklearn.metrics import f1_score\n",
    "from sklearn.metrics import auc\n",
    "from sklearn.metrics import average_precision_score\n",
    "\n",
    "from sklearn.metrics import roc_curve, roc_auc_score"
   ]
  },
  {
   "cell_type": "code",
   "execution_count": 26,
   "metadata": {},
   "outputs": [
    {
     "data": {
      "text/plain": [
       "0.6060606060606061"
      ]
     },
     "execution_count": 26,
     "metadata": {},
     "output_type": "execute_result"
    }
   ],
   "source": [
    "f1_score(Y_test,predictions)#without_extra"
   ]
  },
  {
   "cell_type": "code",
   "execution_count": 27,
   "metadata": {},
   "outputs": [
    {
     "data": {
      "text/plain": [
       "0.6666666666666667"
      ]
     },
     "execution_count": 27,
     "metadata": {},
     "output_type": "execute_result"
    }
   ],
   "source": [
    "f1_score(Y_test,predictions_extra)#with_extra"
   ]
  },
  {
   "cell_type": "code",
   "execution_count": 28,
   "metadata": {},
   "outputs": [
    {
     "data": {
      "text/plain": [
       "array([0.6561629, 0.3438371])"
      ]
     },
     "execution_count": 28,
     "metadata": {},
     "output_type": "execute_result"
    }
   ],
   "source": [
    "prediction_on_real_dataset[0]# probabilities of 2 class"
   ]
  },
  {
   "cell_type": "code",
   "execution_count": 29,
   "metadata": {},
   "outputs": [
    {
     "name": "stdout",
     "output_type": "stream",
     "text": [
      "Without extra:  0.7820366132723111\n",
      "With extra:  0.7837528604118992\n"
     ]
    }
   ],
   "source": [
    "# getting AUC score for classifier trained on only original data\n",
    "fpr, tpr, thres=roc_curve(Y_test,prediction_on_real_dataset[:,1],pos_label=1)\n",
    "\n",
    "#getting AUC score for classifier trained on original + LSTM generated data\n",
    "efpr, etpr, ethres=roc_curve(Y_test,prediction_on_real_dataset_adding_extra[:,1],pos_label=1)\n",
    "\n",
    "with_=auc(fpr,tpr)\n",
    "without_=auc(efpr,etpr)\n",
    "print('Without extra: ',auc(fpr,tpr))\n",
    "\n",
    "print('With extra: ',auc(efpr,etpr))"
   ]
  },
  {
   "cell_type": "code",
   "execution_count": 31,
   "metadata": {},
   "outputs": [
    {
     "data": {
      "image/png": "[encoded data removed]",
      "text/plain": [
       "<matplotlib.figure.Figure at 0xbb54d57400>"
      ]
     },
     "metadata": {},
     "output_type": "display_data"
    }
   ],
   "source": [
    "# plotting data ( for minority predictions , here minority class = 1)\n",
    "\n",
    "Y_probs=prediction_on_real_dataset[:,1]\n",
    "fpr,tpr,_=roc_curve(Y_test,Y_probs)\n",
    "\n",
    "Y_probs_extra=prediction_on_real_dataset_adding_extra[:,1]\n",
    "efpr,etpr,_=roc_curve(Y_test,Y_probs_extra)\n",
    "\n",
    "original=auc(fpr,tpr)\n",
    "lstm_with_extra=auc(efpr,etpr)\n",
    "\n",
    "original=original.astype(float)\n",
    "lstm_with_extra=lstm_with_extra.astype(float)\n",
    "\n",
    "\n",
    "pyplot.clf()\n",
    "pyplot.plot(fpr, tpr,label='original (AUC : %5.4f)'%(with_),linewidth='1.2')\n",
    "pyplot.plot(efpr,etpr,label='LSTM generated+original(AUC : %5.4f)'%(without_),linewidth='1.2')\n",
    "pyplot.xlabel('FPR')\n",
    "pyplot.ylabel('TPR')\n",
    "pyplot.title('ROC curve ')\n",
    "pyplot.legend(loc=4)\n",
    "pyplot.savefig('ROC curve .png',dpi=500)\n",
    "pyplot.show()"
   ]
  },
  {
   "cell_type": "code",
   "execution_count": 32,
   "metadata": {},
   "outputs": [
    {
     "data": {
      "image/png": "[encoded data removed]",
      "text/plain": [
       "<matplotlib.figure.Figure at 0xbb57254d68>"
      ]
     },
     "metadata": {},
     "output_type": "display_data"
    }
   ],
   "source": [
    "Y_probs=prediction_on_real_dataset[:,0]\n",
    "fpr,tpr,_=roc_curve(Y_test,Y_probs)\n",
    "\n",
    "Y_probs_extra=prediction_on_real_dataset_adding_extra[:,0]\n",
    "efpr,etpr,_=roc_curve(Y_test,Y_probs_extra)\n",
    "\n",
    "pyplot.clf()\n",
    "pyplot.plot(fpr, tpr,label='original')\n",
    "pyplot.plot(efpr,etpr,label='LSTM generated')\n",
    "pyplot.xlabel('FPR')\n",
    "pyplot.ylabel('TPR(recall)')\n",
    "pyplot.title('ROC curve ')\n",
    "pyplot.legend(loc=2)\n",
    "pyplot.show()"
   ]
  },
  {
   "cell_type": "code",
   "execution_count": 33,
   "metadata": {},
   "outputs": [
    {
     "data": {
      "text/plain": [
       "array([[0.6561629 , 0.3438371 ],\n",
       "       [0.93894391, 0.06105609],\n",
       "       [0.38556852, 0.61443148],\n",
       "       [0.5       , 0.5       ],\n",
       "       [0.82067984, 0.17932016],\n",
       "       [0.88738364, 0.11261636],\n",
       "       [0.38045501, 0.61954499],\n",
       "       [0.21680562, 0.78319438],\n",
       "       [0.6079038 , 0.3920962 ],\n",
       "       [0.62595215, 0.37404785],\n",
       "       [0.79342218, 0.20657782],\n",
       "       [0.95902203, 0.04097797],\n",
       "       [0.91574645, 0.08425355],\n",
       "       [0.80906282, 0.19093718],\n",
       "       [0.70549091, 0.29450909],\n",
       "       [0.89177457, 0.10822543],\n",
       "       [0.85022059, 0.14977941],\n",
       "       [0.26991063, 0.73008937],\n",
       "       [0.8785768 , 0.1214232 ],\n",
       "       [0.83722075, 0.16277925],\n",
       "       [0.86833342, 0.13166658],\n",
       "       [0.80039198, 0.19960802],\n",
       "       [0.84251664, 0.15748336],\n",
       "       [0.79824978, 0.20175022],\n",
       "       [0.82436405, 0.17563595],\n",
       "       [0.46277003, 0.53722997],\n",
       "       [0.8194283 , 0.1805717 ],\n",
       "       [0.71055308, 0.28944692],\n",
       "       [0.34192168, 0.65807832],\n",
       "       [0.84091086, 0.15908914],\n",
       "       [0.85456037, 0.14543963],\n",
       "       [0.7687636 , 0.2312364 ],\n",
       "       [0.70061165, 0.29938835],\n",
       "       [0.92507479, 0.07492521],\n",
       "       [0.68198519, 0.31801481],\n",
       "       [0.58930865, 0.41069135],\n",
       "       [0.84016335, 0.15983665],\n",
       "       [0.83106449, 0.16893551],\n",
       "       [0.85496954, 0.14503046],\n",
       "       [0.58793541, 0.41206459],\n",
       "       [0.5654132 , 0.4345868 ],\n",
       "       [0.5       , 0.5       ],\n",
       "       [0.89403809, 0.10596191],\n",
       "       [0.84249223, 0.15750777],\n",
       "       [0.38433306, 0.61566694],\n",
       "       [0.85128269, 0.14871731],\n",
       "       [0.84181122, 0.15818878],\n",
       "       [0.92226523, 0.07773477],\n",
       "       [0.90020091, 0.09979909],\n",
       "       [0.25373414, 0.74626586],\n",
       "       [0.91157523, 0.08842477],\n",
       "       [0.51082155, 0.48917845],\n",
       "       [0.93591909, 0.06408091],\n",
       "       [0.88096289, 0.11903711],\n",
       "       [0.7830319 , 0.2169681 ],\n",
       "       [0.17007166, 0.82992834],\n",
       "       [0.7067191 , 0.2932809 ],\n",
       "       [0.08331265, 0.91668735],\n",
       "       [0.88719674, 0.11280326],\n",
       "       [0.40431722, 0.59568278],\n",
       "       [0.86631326, 0.13368674],\n",
       "       [0.85691502, 0.14308498],\n",
       "       [0.8889754 , 0.1110246 ],\n",
       "       [0.8625854 , 0.1374146 ],\n",
       "       [0.75503817, 0.24496183]])"
      ]
     },
     "execution_count": 33,
     "metadata": {},
     "output_type": "execute_result"
    }
   ],
   "source": [
    "prediction_on_real_dataset"
   ]
  },
  {
   "cell_type": "code",
   "execution_count": 34,
   "metadata": {},
   "outputs": [
    {
     "data": {
      "text/plain": [
       "array([[0.59472137, 0.40527863],\n",
       "       [0.96136073, 0.03863927],\n",
       "       [0.27587237, 0.72412763],\n",
       "       [0.12952561, 0.87047439],\n",
       "       [0.85883674, 0.14116326],\n",
       "       [0.31980084, 0.68019916],\n",
       "       [0.26956972, 0.73043028],\n",
       "       [0.12945994, 0.87054006],\n",
       "       [0.4063031 , 0.5936969 ],\n",
       "       [0.33762146, 0.66237854],\n",
       "       [0.79512969, 0.20487031],\n",
       "       [0.78058132, 0.21941868],\n",
       "       [0.94135641, 0.05864359],\n",
       "       [0.83135313, 0.16864687],\n",
       "       [0.7195307 , 0.2804693 ],\n",
       "       [0.88385088, 0.11614912],\n",
       "       [0.8028826 , 0.1971174 ],\n",
       "       [0.16413674, 0.83586326],\n",
       "       [0.91022225, 0.08977775],\n",
       "       [0.85916169, 0.14083831],\n",
       "       [0.86977938, 0.13022062],\n",
       "       [0.84275063, 0.15724937],\n",
       "       [0.86888917, 0.13111083],\n",
       "       [0.76412199, 0.23587801],\n",
       "       [0.84265524, 0.15734476],\n",
       "       [0.30392694, 0.69607306],\n",
       "       [0.83494349, 0.16505651],\n",
       "       [0.17679912, 0.82320088],\n",
       "       [0.53962889, 0.46037111],\n",
       "       [0.8610818 , 0.1389182 ],\n",
       "       [0.70408028, 0.29591972],\n",
       "       [0.79693422, 0.20306578],\n",
       "       [0.65186364, 0.34813636],\n",
       "       [0.92496877, 0.07503123],\n",
       "       [0.60516364, 0.39483636],\n",
       "       [0.22042928, 0.77957072],\n",
       "       [0.88781809, 0.11218191],\n",
       "       [0.85247579, 0.14752421],\n",
       "       [0.90873194, 0.09126806],\n",
       "       [0.36791606, 0.63208394],\n",
       "       [0.46252471, 0.53747529],\n",
       "       [0.20378146, 0.79621854],\n",
       "       [0.93660516, 0.06339484],\n",
       "       [0.86899579, 0.13100421],\n",
       "       [0.33119103, 0.66880897],\n",
       "       [0.92665153, 0.07334847],\n",
       "       [0.86799897, 0.13200103],\n",
       "       [0.93916681, 0.06083319],\n",
       "       [0.86692552, 0.13307448],\n",
       "       [0.16618234, 0.83381766],\n",
       "       [0.93089535, 0.06910465],\n",
       "       [0.38813087, 0.61186913],\n",
       "       [0.87955064, 0.12044936],\n",
       "       [0.91812262, 0.08187738],\n",
       "       [0.78140246, 0.21859754],\n",
       "       [0.07807376, 0.92192624],\n",
       "       [0.64190944, 0.35809056],\n",
       "       [0.03585123, 0.96414877],\n",
       "       [0.93687807, 0.06312193],\n",
       "       [0.2776759 , 0.7223241 ],\n",
       "       [0.94482442, 0.05517558],\n",
       "       [0.91704075, 0.08295925],\n",
       "       [0.90737442, 0.09262558],\n",
       "       [0.87894326, 0.12105674],\n",
       "       [0.83324932, 0.16675068]])"
      ]
     },
     "execution_count": 34,
     "metadata": {},
     "output_type": "execute_result"
    }
   ],
   "source": [
    "prediction_on_real_dataset_adding_extra"
   ]
  },
  {
   "cell_type": "code",
   "execution_count": null,
   "metadata": {
    "collapsed": true
   },
   "outputs": [],
   "source": []
  },
  {
   "cell_type": "code",
   "execution_count": null,
   "metadata": {
    "collapsed": true
   },
   "outputs": [],
   "source": []
  }
 ],
 "metadata": {
  "kernelspec": {
   "display_name": "Python 3",
   "language": "python",
   "name": "python3"
  },
  "language_info": {
   "codemirror_mode": {
    "name": "ipython",
    "version": 3
   },
   "file_extension": ".py",
   "mimetype": "text/x-python",
   "name": "python",
   "nbconvert_exporter": "python",
   "pygments_lexer": "ipython3",
   "version": "3.6.6"
  }
 },
 "nbformat": 4,
 "nbformat_minor": 2
}
