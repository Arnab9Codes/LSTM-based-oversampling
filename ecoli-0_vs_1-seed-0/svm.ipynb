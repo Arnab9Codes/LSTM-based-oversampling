{
 "cells": [
  {
   "cell_type": "code",
   "execution_count": 1,
   "metadata": {
    "collapsed": true
   },
   "outputs": [],
   "source": [
    "import time\n",
    "import math\n",
    "\n",
    "import numpy as np\n",
    "import pandas as pd\n",
    "from pandas import DataFrame\n",
    "from pandas import concat\n",
    "from matplotlib import pyplot\n",
    "\n",
    "from sklearn.preprocessing import MinMaxScaler\n",
    "from sklearn.preprocessing import LabelEncoder\n",
    "from sklearn.metrics import mean_squared_error\n",
    "\n",
    "from sklearn.preprocessing import StandardScaler\n",
    "from sklearn.model_selection import train_test_split\n",
    "from sklearn.model_selection import KFold\n",
    "from sklearn.model_selection import cross_val_score\n",
    "from sklearn.model_selection import GridSearchCV\n",
    "from sklearn.metrics import classification_report\n",
    "from sklearn.metrics import confusion_matrix\n",
    "from sklearn.metrics import accuracy_score\n",
    "from sklearn.metrics import precision_recall_curve\n",
    "\n",
    "from sklearn.pipeline import Pipeline\n",
    "from sklearn.linear_model import LogisticRegression\n",
    "from sklearn.tree import DecisionTreeClassifier\n",
    "from sklearn.neighbors import KNeighborsClassifier\n",
    "from sklearn.discriminant_analysis import LinearDiscriminantAnalysis\n",
    "from sklearn.naive_bayes import GaussianNB\n",
    "from sklearn.svm import SVC\n",
    "from sklearn.ensemble import AdaBoostClassifier\n",
    "from sklearn.ensemble import GradientBoostingClassifier\n",
    "from sklearn.ensemble import RandomForestClassifier\n",
    "from sklearn.ensemble import ExtraTreesClassifier\n",
    "\n",
    "from sklearn.model_selection import GridSearchCV\n",
    "\n",
    "import pickle"
   ]
  },
  {
   "cell_type": "code",
   "execution_count": 4,
   "metadata": {
    "collapsed": true
   },
   "outputs": [],
   "source": [
    "extra_data=pd.read_csv('new_corrected_data-v1-7-24-2019.csv')# loading extra genereated data genereated by LSTM #prediction_of_1_0007.csv\n",
    "original_data=pd.read_csv('train_Data.csv')#original data"
   ]
  },
  {
   "cell_type": "code",
   "execution_count": 5,
   "metadata": {},
   "outputs": [
    {
     "data": {
      "text/html": [
       "<div>\n",
       "<style scoped>\n",
       "    .dataframe tbody tr th:only-of-type {\n",
       "        vertical-align: middle;\n",
       "    }\n",
       "\n",
       "    .dataframe tbody tr th {\n",
       "        vertical-align: top;\n",
       "    }\n",
       "\n",
       "    .dataframe thead th {\n",
       "        text-align: right;\n",
       "    }\n",
       "</style>\n",
       "<table border=\"1\" class=\"dataframe\">\n",
       "  <thead>\n",
       "    <tr style=\"text-align: right;\">\n",
       "      <th></th>\n",
       "      <th>0</th>\n",
       "      <th>1</th>\n",
       "      <th>2</th>\n",
       "      <th>3</th>\n",
       "      <th>4</th>\n",
       "      <th>5</th>\n",
       "      <th>6</th>\n",
       "      <th>7</th>\n",
       "    </tr>\n",
       "  </thead>\n",
       "  <tbody>\n",
       "    <tr>\n",
       "      <th>0</th>\n",
       "      <td>0.442443</td>\n",
       "      <td>0.500189</td>\n",
       "      <td>0.558820</td>\n",
       "      <td>0.490731</td>\n",
       "      <td>0.482094</td>\n",
       "      <td>0.717612</td>\n",
       "      <td>0.505122</td>\n",
       "      <td>0.010985</td>\n",
       "    </tr>\n",
       "    <tr>\n",
       "      <th>1</th>\n",
       "      <td>0.580929</td>\n",
       "      <td>0.464762</td>\n",
       "      <td>0.479090</td>\n",
       "      <td>0.488998</td>\n",
       "      <td>0.626075</td>\n",
       "      <td>0.812169</td>\n",
       "      <td>0.973192</td>\n",
       "      <td>0.020269</td>\n",
       "    </tr>\n",
       "    <tr>\n",
       "      <th>2</th>\n",
       "      <td>0.662192</td>\n",
       "      <td>0.706873</td>\n",
       "      <td>0.577565</td>\n",
       "      <td>0.501630</td>\n",
       "      <td>0.655455</td>\n",
       "      <td>0.693474</td>\n",
       "      <td>0.646947</td>\n",
       "      <td>-0.022093</td>\n",
       "    </tr>\n",
       "    <tr>\n",
       "      <th>3</th>\n",
       "      <td>0.625915</td>\n",
       "      <td>0.382669</td>\n",
       "      <td>0.617940</td>\n",
       "      <td>0.546241</td>\n",
       "      <td>0.576731</td>\n",
       "      <td>0.799117</td>\n",
       "      <td>0.817055</td>\n",
       "      <td>-0.037312</td>\n",
       "    </tr>\n",
       "    <tr>\n",
       "      <th>4</th>\n",
       "      <td>0.476672</td>\n",
       "      <td>0.543732</td>\n",
       "      <td>0.491314</td>\n",
       "      <td>0.524920</td>\n",
       "      <td>0.556531</td>\n",
       "      <td>0.766922</td>\n",
       "      <td>0.650351</td>\n",
       "      <td>-0.009625</td>\n",
       "    </tr>\n",
       "  </tbody>\n",
       "</table>\n",
       "</div>"
      ],
      "text/plain": [
       "          0         1         2         3         4         5         6  \\\n",
       "0  0.442443  0.500189  0.558820  0.490731  0.482094  0.717612  0.505122   \n",
       "1  0.580929  0.464762  0.479090  0.488998  0.626075  0.812169  0.973192   \n",
       "2  0.662192  0.706873  0.577565  0.501630  0.655455  0.693474  0.646947   \n",
       "3  0.625915  0.382669  0.617940  0.546241  0.576731  0.799117  0.817055   \n",
       "4  0.476672  0.543732  0.491314  0.524920  0.556531  0.766922  0.650351   \n",
       "\n",
       "          7  \n",
       "0  0.010985  \n",
       "1  0.020269  \n",
       "2 -0.022093  \n",
       "3 -0.037312  \n",
       "4 -0.009625  "
      ]
     },
     "execution_count": 5,
     "metadata": {},
     "output_type": "execute_result"
    }
   ],
   "source": [
    "extra_data.head()#displaying LSTM generated data"
   ]
  },
  {
   "cell_type": "code",
   "execution_count": 6,
   "metadata": {},
   "outputs": [
    {
     "name": "stdout",
     "output_type": "stream",
     "text": [
      "(18, 8)\n"
     ]
    }
   ],
   "source": [
    "extra=np.array(extra_data)# getting the original shape\n",
    "print(extra.shape)"
   ]
  },
  {
   "cell_type": "code",
   "execution_count": 7,
   "metadata": {},
   "outputs": [
    {
     "data": {
      "text/plain": [
       "array([0.44244307, 0.5001893 , 0.5588203 , 0.4907313 , 0.48209417,\n",
       "       0.7176117 , 0.5051217 , 0.0109848 ])"
      ]
     },
     "execution_count": 7,
     "metadata": {},
     "output_type": "execute_result"
    }
   ],
   "source": [
    "extra[0] # showing first row vector"
   ]
  },
  {
   "cell_type": "code",
   "execution_count": 8,
   "metadata": {
    "collapsed": true
   },
   "outputs": [],
   "source": [
    "# Setting predictions of all generated data to 1 because their outputs are mostly 0.98, 0.99 etc. \n",
    "for i in range(0,len(extra),1):\n",
    "    extra[i][7]=int(0)"
   ]
  },
  {
   "cell_type": "code",
   "execution_count": 9,
   "metadata": {},
   "outputs": [
    {
     "data": {
      "text/plain": [
       "array([[0.44244307, 0.5001893 , 0.5588203 , 0.4907313 , 0.48209417,\n",
       "        0.7176117 , 0.5051217 , 0.        ],\n",
       "       [0.58092856, 0.46476203, 0.47909045, 0.48899817, 0.6260748 ,\n",
       "        0.81216866, 0.9731922 , 0.        ],\n",
       "       [0.66219246, 0.706873  , 0.57756525, 0.5016299 , 0.655455  ,\n",
       "        0.6934737 , 0.6469474 , 0.        ],\n",
       "       [0.62591475, 0.3826693 , 0.6179403 , 0.54624057, 0.5767307 ,\n",
       "        0.7991167 , 0.8170545 , 0.        ],\n",
       "       [0.47667223, 0.54373187, 0.49131384, 0.52491957, 0.5565306 ,\n",
       "        0.7669215 , 0.6503506 , 0.        ],\n",
       "       [0.4289136 , 0.51680255, 0.4765906 , 0.49410477, 0.5147486 ,\n",
       "        0.7507539 , 0.84528124, 0.        ],\n",
       "       [0.63367295, 0.6061333 , 0.5332647 , 0.5059169 , 0.60084796,\n",
       "        0.7471648 , 0.7130717 , 0.        ],\n",
       "       [0.35914457, 0.52970934, 0.5027195 , 0.49623093, 0.53570914,\n",
       "        0.7360926 , 0.5043026 , 0.        ],\n",
       "       [0.54972404, 0.41619867, 0.39876482, 0.49848557, 0.5427027 ,\n",
       "        0.8617649 , 0.7846627 , 0.        ],\n",
       "       [0.5577942 , 0.5069459 , 0.38833815, 0.50434   , 0.5923384 ,\n",
       "        0.8352093 , 0.88280296, 0.        ],\n",
       "       [0.8062373 , 0.71620387, 0.61057127, 0.5073262 , 0.6765186 ,\n",
       "        0.70292044, 0.716146  , 0.        ],\n",
       "       [0.48072234, 0.38752168, 0.42962497, 0.50817394, 0.5614845 ,\n",
       "        0.84823596, 0.8431381 , 0.        ],\n",
       "       [0.5314602 , 0.6947261 , 0.57367754, 0.48284957, 0.61605376,\n",
       "        0.6660219 , 0.5965909 , 0.        ],\n",
       "       [0.4092205 , 0.50862336, 0.4378533 , 0.51147   , 0.5109786 ,\n",
       "        0.78856385, 0.626766  , 0.        ],\n",
       "       [0.59732425, 0.50038373, 0.5191604 , 0.50760037, 0.6304833 ,\n",
       "        0.7892598 , 0.74029815, 0.        ],\n",
       "       [0.28671926, 0.51579845, 0.43520713, 0.5099597 , 0.43059167,\n",
       "        0.72993183, 0.84493244, 0.        ],\n",
       "       [0.6126974 , 0.47025862, 0.36166012, 0.48507136, 0.59557754,\n",
       "        0.8530819 , 0.9036168 , 0.        ],\n",
       "       [0.6550865 , 0.5188445 , 0.5525781 , 0.5150176 , 0.56143737,\n",
       "        0.77317196, 0.7485351 , 0.        ]])"
      ]
     },
     "execution_count": 9,
     "metadata": {},
     "output_type": "execute_result"
    }
   ],
   "source": [
    "extra #showing LSTM generated extra data ready for training"
   ]
  },
  {
   "cell_type": "code",
   "execution_count": 10,
   "metadata": {},
   "outputs": [
    {
     "data": {
      "text/html": [
       "<div>\n",
       "<style scoped>\n",
       "    .dataframe tbody tr th:only-of-type {\n",
       "        vertical-align: middle;\n",
       "    }\n",
       "\n",
       "    .dataframe tbody tr th {\n",
       "        vertical-align: top;\n",
       "    }\n",
       "\n",
       "    .dataframe thead th {\n",
       "        text-align: right;\n",
       "    }\n",
       "</style>\n",
       "<table border=\"1\" class=\"dataframe\">\n",
       "  <thead>\n",
       "    <tr style=\"text-align: right;\">\n",
       "      <th></th>\n",
       "      <th>0</th>\n",
       "      <th>1</th>\n",
       "      <th>2</th>\n",
       "      <th>3</th>\n",
       "      <th>4</th>\n",
       "      <th>5</th>\n",
       "      <th>6</th>\n",
       "      <th>7</th>\n",
       "    </tr>\n",
       "  </thead>\n",
       "  <tbody>\n",
       "    <tr>\n",
       "      <th>0</th>\n",
       "      <td>0.33</td>\n",
       "      <td>0.45</td>\n",
       "      <td>0.48</td>\n",
       "      <td>0.5</td>\n",
       "      <td>0.52</td>\n",
       "      <td>0.32</td>\n",
       "      <td>0.41</td>\n",
       "      <td>1.0</td>\n",
       "    </tr>\n",
       "    <tr>\n",
       "      <th>1</th>\n",
       "      <td>0.51</td>\n",
       "      <td>0.50</td>\n",
       "      <td>0.48</td>\n",
       "      <td>0.5</td>\n",
       "      <td>0.46</td>\n",
       "      <td>0.32</td>\n",
       "      <td>0.35</td>\n",
       "      <td>1.0</td>\n",
       "    </tr>\n",
       "    <tr>\n",
       "      <th>2</th>\n",
       "      <td>0.25</td>\n",
       "      <td>0.51</td>\n",
       "      <td>0.48</td>\n",
       "      <td>0.5</td>\n",
       "      <td>0.37</td>\n",
       "      <td>0.42</td>\n",
       "      <td>0.50</td>\n",
       "      <td>1.0</td>\n",
       "    </tr>\n",
       "    <tr>\n",
       "      <th>3</th>\n",
       "      <td>0.34</td>\n",
       "      <td>0.55</td>\n",
       "      <td>0.48</td>\n",
       "      <td>0.5</td>\n",
       "      <td>0.58</td>\n",
       "      <td>0.31</td>\n",
       "      <td>0.41</td>\n",
       "      <td>1.0</td>\n",
       "    </tr>\n",
       "    <tr>\n",
       "      <th>4</th>\n",
       "      <td>0.36</td>\n",
       "      <td>0.39</td>\n",
       "      <td>0.48</td>\n",
       "      <td>0.5</td>\n",
       "      <td>0.48</td>\n",
       "      <td>0.22</td>\n",
       "      <td>0.23</td>\n",
       "      <td>1.0</td>\n",
       "    </tr>\n",
       "  </tbody>\n",
       "</table>\n",
       "</div>"
      ],
      "text/plain": [
       "      0     1     2    3     4     5     6    7\n",
       "0  0.33  0.45  0.48  0.5  0.52  0.32  0.41  1.0\n",
       "1  0.51  0.50  0.48  0.5  0.46  0.32  0.35  1.0\n",
       "2  0.25  0.51  0.48  0.5  0.37  0.42  0.50  1.0\n",
       "3  0.34  0.55  0.48  0.5  0.58  0.31  0.41  1.0\n",
       "4  0.36  0.39  0.48  0.5  0.48  0.22  0.23  1.0"
      ]
     },
     "execution_count": 10,
     "metadata": {},
     "output_type": "execute_result"
    }
   ],
   "source": [
    "original_data.head() #showing original data"
   ]
  },
  {
   "cell_type": "code",
   "execution_count": null,
   "metadata": {
    "collapsed": true
   },
   "outputs": [],
   "source": []
  },
  {
   "cell_type": "code",
   "execution_count": 11,
   "metadata": {
    "collapsed": true
   },
   "outputs": [],
   "source": [
    "#loading data values from original dataset(Pima)\n",
    "val=original_data.values"
   ]
  },
  {
   "cell_type": "code",
   "execution_count": 12,
   "metadata": {
    "collapsed": true
   },
   "outputs": [],
   "source": [
    "X=val[:,:7].astype(float)# getting the feature values\n",
    "Y=val[:,7].astype(int)# getting prediction"
   ]
  },
  {
   "cell_type": "code",
   "execution_count": 13,
   "metadata": {
    "collapsed": true
   },
   "outputs": [],
   "source": [
    "#extra_X denotes the extra training data generated by LSTM \n",
    "extra_X=extra[:,:7].astype(float)\n",
    "\n",
    "#extra_Y denotes extra training prediction data for training the algorithm\n",
    "extra_Y=extra[:,7].astype(int)"
   ]
  },
  {
   "cell_type": "code",
   "execution_count": 14,
   "metadata": {
    "collapsed": true
   },
   "outputs": [],
   "source": [
    "# extrain=original training data + LSTM generated training data\n",
    "\n",
    "# eytrain=original training prediction + LSTM generated\n",
    "\n",
    "extrain=np.concatenate((X,extra_X),axis=0)\n",
    "eytrain=np.concatenate((Y,extra_Y),axis=0)"
   ]
  },
  {
   "cell_type": "code",
   "execution_count": 15,
   "metadata": {},
   "outputs": [
    {
     "name": "stdout",
     "output_type": "stream",
     "text": [
      "(172, 7)\n",
      "(172,)\n"
     ]
    }
   ],
   "source": [
    "print(extrain.shape)\n",
    "print(eytrain.shape)"
   ]
  },
  {
   "cell_type": "code",
   "execution_count": 16,
   "metadata": {
    "collapsed": true
   },
   "outputs": [],
   "source": [
    "test_Data=pd.read_csv('test_Data.csv')"
   ]
  },
  {
   "cell_type": "code",
   "execution_count": 17,
   "metadata": {
    "collapsed": true
   },
   "outputs": [],
   "source": [
    "test_Data=np.array(test_Data)"
   ]
  },
  {
   "cell_type": "code",
   "execution_count": 18,
   "metadata": {},
   "outputs": [
    {
     "data": {
      "text/plain": [
       "(66, 8)"
      ]
     },
     "execution_count": 18,
     "metadata": {},
     "output_type": "execute_result"
    }
   ],
   "source": [
    "test_Data.shape"
   ]
  },
  {
   "cell_type": "code",
   "execution_count": 19,
   "metadata": {
    "collapsed": true
   },
   "outputs": [],
   "source": [
    "X_test=test_Data[:,:7].astype(float)\n",
    "Y_test=test_Data[:,7].astype(int)"
   ]
  },
  {
   "cell_type": "code",
   "execution_count": null,
   "metadata": {
    "collapsed": true
   },
   "outputs": [],
   "source": []
  },
  {
   "cell_type": "code",
   "execution_count": 20,
   "metadata": {
    "collapsed": true
   },
   "outputs": [],
   "source": [
    "def svc_param_selection(X, y, nfolds):\n",
    "    Cs = [0.0001,0.001, 0.01, 0.1, 1, 10]\n",
    "    gammas = [0.0001,0.001, 0.01, 0.1, 1,10]\n",
    "    param_grid = {'C': Cs, 'gamma' : gammas}\n",
    "    grid_search = GridSearchCV(SVC(kernel='rbf',probability=True), param_grid, cv=nfolds)\n",
    "    grid_search.fit(X, y)\n",
    "    grid_search.best_params_\n",
    "    return grid_search.best_estimator_"
   ]
  },
  {
   "cell_type": "code",
   "execution_count": 21,
   "metadata": {
    "collapsed": true
   },
   "outputs": [],
   "source": [
    "# setting seed =7 to produce same results over and over again, it was maintained during different experiments \n",
    "seed=0\n"
   ]
  },
  {
   "cell_type": "code",
   "execution_count": 22,
   "metadata": {},
   "outputs": [
    {
     "name": "stderr",
     "output_type": "stream",
     "text": [
      "G:\\newage2\\envs\\tensorflow\\lib\\site-packages\\sklearn\\model_selection\\_search.py:813: DeprecationWarning: The default of the `iid` parameter will change from True to False in version 0.22 and will be removed in 0.24. This will change numeric results when test-set sizes are unequal.\n",
      "  DeprecationWarning)\n",
      "G:\\newage2\\envs\\tensorflow\\lib\\site-packages\\sklearn\\model_selection\\_search.py:813: DeprecationWarning: The default of the `iid` parameter will change from True to False in version 0.22 and will be removed in 0.24. This will change numeric results when test-set sizes are unequal.\n",
      "  DeprecationWarning)\n"
     ]
    }
   ],
   "source": [
    "# first rbf_svc for training on just the original training data\n",
    "#rbf_svc = SVC(kernel='rbf', gamma=0.00001, C=1000,probability=True).fit(X_train,Y_train)\n",
    "rbf_svc=svc_param_selection(X,Y,5)\n",
    "\n",
    "# secondly rbf_svc_extra for training on original+LSTM\n",
    "rbf_svc_extra = svc_param_selection(extrain,eytrain,5)"
   ]
  },
  {
   "cell_type": "code",
   "execution_count": 23,
   "metadata": {},
   "outputs": [
    {
     "data": {
      "text/plain": [
       "SVC(C=1, cache_size=200, class_weight=None, coef0=0.0,\n",
       "    decision_function_shape='ovr', degree=3, gamma=10, kernel='rbf',\n",
       "    max_iter=-1, probability=True, random_state=None, shrinking=True, tol=0.001,\n",
       "    verbose=False)"
      ]
     },
     "execution_count": 23,
     "metadata": {},
     "output_type": "execute_result"
    }
   ],
   "source": [
    "\n",
    "# fitting the data\n",
    "rbf_svc.fit(X,Y)\n",
    "rbf_svc_extra.fit(extrain,eytrain)"
   ]
  },
  {
   "cell_type": "code",
   "execution_count": 24,
   "metadata": {},
   "outputs": [
    {
     "data": {
      "text/plain": [
       "(66, 7)"
      ]
     },
     "execution_count": 24,
     "metadata": {},
     "output_type": "execute_result"
    }
   ],
   "source": [
    "# loading the validation dataset previously set up by validation split(this data was not included in any training procedure)\n",
    "Prediction_data=X_test\n",
    "\n",
    "#producing the shape\n",
    "Prediction_data.shape"
   ]
  },
  {
   "cell_type": "code",
   "execution_count": 25,
   "metadata": {
    "collapsed": true
   },
   "outputs": [],
   "source": [
    "# making predictions on validation dataset using svc trained only on original training data\n",
    "prediction_on_real_dataset=rbf_svc.predict_proba(Prediction_data)\n",
    "\n",
    "#saving probabilities\n",
    "predictions=rbf_svc.predict(Prediction_data)\n",
    "\n",
    "# making predictions on validation dataset using svc trained on original training data + LSTM generated data\n",
    "prediction_on_real_dataset_adding_extra=rbf_svc_extra.predict_proba(Prediction_data)\n",
    "#saving probabilities\n",
    "predictions_extra=rbf_svc_extra.predict(Prediction_data)"
   ]
  },
  {
   "cell_type": "code",
   "execution_count": 26,
   "metadata": {},
   "outputs": [
    {
     "name": "stdout",
     "output_type": "stream",
     "text": [
      "66\n",
      "66\n"
     ]
    }
   ],
   "source": [
    "print(len(prediction_on_real_dataset))\n",
    "\n",
    "print(len(prediction_on_real_dataset_adding_extra))"
   ]
  },
  {
   "cell_type": "code",
   "execution_count": 27,
   "metadata": {
    "collapsed": true
   },
   "outputs": [],
   "source": [
    "from sklearn.metrics import f1_score\n",
    "from sklearn.metrics import auc\n",
    "from sklearn.metrics import average_precision_score\n",
    "\n",
    "from sklearn.metrics import roc_curve, roc_auc_score"
   ]
  },
  {
   "cell_type": "code",
   "execution_count": 28,
   "metadata": {},
   "outputs": [
    {
     "data": {
      "text/plain": [
       "0.9743589743589743"
      ]
     },
     "execution_count": 28,
     "metadata": {},
     "output_type": "execute_result"
    }
   ],
   "source": [
    "f1_score(Y_test,predictions)#without_extra"
   ]
  },
  {
   "cell_type": "code",
   "execution_count": 29,
   "metadata": {},
   "outputs": [
    {
     "data": {
      "text/plain": [
       "0.9743589743589743"
      ]
     },
     "execution_count": 29,
     "metadata": {},
     "output_type": "execute_result"
    }
   ],
   "source": [
    "f1_score(Y_test,predictions_extra)#with_extra"
   ]
  },
  {
   "cell_type": "code",
   "execution_count": 30,
   "metadata": {},
   "outputs": [
    {
     "data": {
      "text/plain": [
       "array([0.95020135, 0.04979865])"
      ]
     },
     "execution_count": 30,
     "metadata": {},
     "output_type": "execute_result"
    }
   ],
   "source": [
    "prediction_on_real_dataset[0]# probabilities of 2 class"
   ]
  },
  {
   "cell_type": "code",
   "execution_count": 31,
   "metadata": {},
   "outputs": [
    {
     "name": "stdout",
     "output_type": "stream",
     "text": [
      "Without extra:  0.007518796992481203\n",
      "With extra:  0.013157894736842106\n"
     ]
    }
   ],
   "source": [
    "# getting AUC score for classifier trained on only original data\n",
    "fpr, tpr, thres=roc_curve(Y_test,prediction_on_real_dataset[:,1],pos_label=0)\n",
    "\n",
    "#getting AUC score for classifier trained on original + LSTM generated data\n",
    "efpr, etpr, ethres=roc_curve(Y_test,prediction_on_real_dataset_adding_extra[:,1],pos_label=0)\n",
    "\n",
    "with_=auc(fpr,tpr)\n",
    "without_=auc(efpr,etpr)\n",
    "print('Without extra: ',auc(fpr,tpr))\n",
    "\n",
    "print('With extra: ',auc(efpr,etpr))"
   ]
  },
  {
   "cell_type": "code",
   "execution_count": 32,
   "metadata": {},
   "outputs": [
    {
     "data": {
      "image/png": "[encoded data removed]",
      "text/plain": [
       "<matplotlib.figure.Figure at 0x916e34a6a0>"
      ]
     },
     "metadata": {},
     "output_type": "display_data"
    }
   ],
   "source": [
    "# plotting data ( for minority predictions , here minority class = 0)\n",
    "\n",
    "Y_probs=prediction_on_real_dataset[:,0]\n",
    "fpr,tpr,_=roc_curve(Y_test,Y_probs)\n",
    "\n",
    "Y_probs_extra=prediction_on_real_dataset_adding_extra[:,0]\n",
    "efpr,etpr,_=roc_curve(Y_test,Y_probs_extra)\n",
    "\n",
    "original=auc(fpr,tpr)\n",
    "lstm_with_extra=auc(efpr,etpr)\n",
    "\n",
    "original=original.astype(float)\n",
    "lstm_with_extra=lstm_with_extra.astype(float)\n",
    "\n",
    "\n",
    "pyplot.clf()\n",
    "pyplot.plot(fpr, tpr,label='original (AUC : %5.4f)'%(with_),linewidth='1.2')\n",
    "pyplot.plot(efpr,etpr,label='LSTM generated+original(AUC : %5.4f)'%(without_),linewidth='1.2')\n",
    "pyplot.xlabel('FPR')\n",
    "pyplot.ylabel('TPR')\n",
    "pyplot.title('ROC curve')\n",
    "pyplot.legend(loc=4)\n",
    "pyplot.savefig('ROC curve .png',dpi=500)\n",
    "pyplot.show()"
   ]
  },
  {
   "cell_type": "code",
   "execution_count": 34,
   "metadata": {},
   "outputs": [
    {
     "data": {
      "image/png": "[encoded data removed]",
      "text/plain": [
       "<matplotlib.figure.Figure at 0x916e468dd8>"
      ]
     },
     "metadata": {},
     "output_type": "display_data"
    }
   ],
   "source": [
    "Y_probs=prediction_on_real_dataset[:,0]\n",
    "fpr,tpr,_=roc_curve(Y_test,Y_probs)\n",
    "\n",
    "Y_probs_extra=prediction_on_real_dataset_adding_extra[:,0]\n",
    "efpr,etpr,_=roc_curve(Y_test,Y_probs_extra)\n",
    "\n",
    "pyplot.clf()\n",
    "pyplot.plot(fpr, tpr,label='original')\n",
    "pyplot.plot(efpr,etpr,label='LSTM generated')\n",
    "pyplot.xlabel('FPR')\n",
    "pyplot.ylabel('TPR(recall)')\n",
    "pyplot.title('ROC curve -  dataset')\n",
    "pyplot.legend(loc=2)\n",
    "pyplot.show()"
   ]
  },
  {
   "cell_type": "code",
   "execution_count": 77,
   "metadata": {},
   "outputs": [
    {
     "data": {
      "text/plain": [
       "array([[9.54610913e-01, 4.53890867e-02],\n",
       "       [1.31781688e-05, 9.99986822e-01],\n",
       "       [5.57130220e-06, 9.99994429e-01],\n",
       "       [9.99486022e-01, 5.13977985e-04],\n",
       "       [9.35752351e-01, 6.42476494e-02],\n",
       "       [9.99442854e-01, 5.57145507e-04],\n",
       "       [1.23227300e-05, 9.99987677e-01],\n",
       "       [9.96185069e-01, 3.81493083e-03],\n",
       "       [9.99941162e-01, 5.88383007e-05],\n",
       "       [3.19759799e-03, 9.96802402e-01],\n",
       "       [9.99263985e-01, 7.36014525e-04],\n",
       "       [1.02698230e-02, 9.89730177e-01],\n",
       "       [5.78124591e-03, 9.94218754e-01],\n",
       "       [9.99342394e-01, 6.57606346e-04],\n",
       "       [9.70309092e-01, 2.96909078e-02],\n",
       "       [9.85105728e-01, 1.48942716e-02],\n",
       "       [9.45877646e-01, 5.41223544e-02],\n",
       "       [3.01543133e-03, 9.96984569e-01],\n",
       "       [6.91291320e-03, 9.93087087e-01],\n",
       "       [3.50965489e-06, 9.99996490e-01],\n",
       "       [3.33114008e-03, 9.96668860e-01],\n",
       "       [2.12082018e-06, 9.99997879e-01],\n",
       "       [9.82131613e-01, 1.78683866e-02],\n",
       "       [2.97317109e-03, 9.97026829e-01],\n",
       "       [5.88737378e-03, 9.94112626e-01],\n",
       "       [2.02397280e-01, 7.97602720e-01],\n",
       "       [1.93457758e-02, 9.80654224e-01],\n",
       "       [4.88927285e-06, 9.99995111e-01],\n",
       "       [1.62251511e-01, 8.37748489e-01],\n",
       "       [1.34109483e-05, 9.99986589e-01],\n",
       "       [9.99777625e-01, 2.22375175e-04],\n",
       "       [2.96446358e-02, 9.70355364e-01],\n",
       "       [1.80359325e-05, 9.99981964e-01],\n",
       "       [2.76686320e-03, 9.97233137e-01],\n",
       "       [5.62788839e-03, 9.94372112e-01],\n",
       "       [9.98806984e-01, 1.19301577e-03],\n",
       "       [1.29939681e-06, 9.99998701e-01],\n",
       "       [5.36040471e-02, 9.46395953e-01],\n",
       "       [9.84096701e-01, 1.59032988e-02],\n",
       "       [9.98955555e-01, 1.04444514e-03],\n",
       "       [3.57907535e-03, 9.96420925e-01],\n",
       "       [3.20458847e-03, 9.96795412e-01],\n",
       "       [2.82907619e-03, 9.97170924e-01],\n",
       "       [9.96224279e-01, 3.77572131e-03],\n",
       "       [7.77574092e-01, 2.22425908e-01],\n",
       "       [9.88713454e-01, 1.12865461e-02],\n",
       "       [9.95688437e-01, 4.31156306e-03],\n",
       "       [9.84395041e-01, 1.56049587e-02],\n",
       "       [2.68065474e-06, 9.99997319e-01],\n",
       "       [9.98104586e-01, 1.89541412e-03],\n",
       "       [9.81905487e-01, 1.80945126e-02],\n",
       "       [9.99479727e-01, 5.20272523e-04],\n",
       "       [4.45544463e-03, 9.95544555e-01],\n",
       "       [2.01823362e-02, 9.79817664e-01],\n",
       "       [2.70015071e-02, 9.72998493e-01],\n",
       "       [9.98823056e-01, 1.17694402e-03],\n",
       "       [1.40738035e-05, 9.99985926e-01],\n",
       "       [5.62607950e-01, 4.37392050e-01],\n",
       "       [6.21841978e-06, 9.99993782e-01],\n",
       "       [6.24201002e-03, 9.93757990e-01],\n",
       "       [7.74564796e-03, 9.92254352e-01],\n",
       "       [1.02289991e-02, 9.89771001e-01],\n",
       "       [7.35498480e-02, 9.26450152e-01],\n",
       "       [2.74402920e-06, 9.99997256e-01],\n",
       "       [4.18306918e-03, 9.95816931e-01],\n",
       "       [2.73454156e-06, 9.99997265e-01]])"
      ]
     },
     "execution_count": 77,
     "metadata": {},
     "output_type": "execute_result"
    }
   ],
   "source": [
    "prediction_on_real_dataset"
   ]
  },
  {
   "cell_type": "code",
   "execution_count": 52,
   "metadata": {},
   "outputs": [
    {
     "data": {
      "text/plain": [
       "array([[0.73911479, 0.26088521],\n",
       "       [0.57806086, 0.42193914],\n",
       "       [0.85294776, 0.14705224],\n",
       "       [0.80885662, 0.19114338],\n",
       "       [0.8435121 , 0.1564879 ],\n",
       "       [0.89092182, 0.10907818],\n",
       "       [0.2961195 , 0.7038805 ],\n",
       "       [0.16844994, 0.83155006],\n",
       "       [0.39894046, 0.60105954],\n",
       "       [0.46569347, 0.53430653],\n",
       "       [0.38896452, 0.61103548],\n",
       "       [0.69538521, 0.30461479],\n",
       "       [0.39852046, 0.60147954],\n",
       "       [0.82631933, 0.17368067],\n",
       "       [0.86753988, 0.13246012],\n",
       "       [0.8368405 , 0.1631595 ],\n",
       "       [0.87000314, 0.12999686],\n",
       "       [0.22778975, 0.77221025],\n",
       "       [0.68723362, 0.31276638],\n",
       "       [0.85270747, 0.14729253],\n",
       "       [0.77413579, 0.22586421],\n",
       "       [0.169007  , 0.830993  ],\n",
       "       [0.8269835 , 0.1730165 ],\n",
       "       [0.10278504, 0.89721496],\n",
       "       [0.59269737, 0.40730263],\n",
       "       [0.79649928, 0.20350072],\n",
       "       [0.5       , 0.5       ],\n",
       "       [0.36425576, 0.63574424],\n",
       "       [0.69081665, 0.30918335],\n",
       "       [0.60326403, 0.39673597],\n",
       "       [0.8320349 , 0.1679651 ],\n",
       "       [0.63283085, 0.36716915],\n",
       "       [0.64409107, 0.35590893],\n",
       "       [0.86143765, 0.13856235],\n",
       "       [0.52866863, 0.47133137],\n",
       "       [0.80482081, 0.19517919],\n",
       "       [0.79068494, 0.20931506],\n",
       "       [0.69356412, 0.30643588],\n",
       "       [0.82126161, 0.17873839],\n",
       "       [0.82667895, 0.17332105],\n",
       "       [0.81436665, 0.18563335],\n",
       "       [0.64327603, 0.35672397],\n",
       "       [0.79887612, 0.20112388],\n",
       "       [0.34831416, 0.65168584],\n",
       "       [0.78472024, 0.21527976],\n",
       "       [0.38954545, 0.61045455],\n",
       "       [0.39312822, 0.60687178],\n",
       "       [0.82706823, 0.17293177],\n",
       "       [0.70799305, 0.29200695],\n",
       "       [0.69201441, 0.30798559],\n",
       "       [0.33814417, 0.66185583],\n",
       "       [0.86298492, 0.13701508],\n",
       "       [0.34519832, 0.65480168],\n",
       "       [0.35391878, 0.64608122],\n",
       "       [0.8193826 , 0.1806174 ],\n",
       "       [0.6829426 , 0.3170574 ],\n",
       "       [0.70768244, 0.29231756],\n",
       "       [0.8306043 , 0.1693957 ],\n",
       "       [0.28191051, 0.71808949],\n",
       "       [0.8860606 , 0.1139394 ],\n",
       "       [0.47359316, 0.52640684],\n",
       "       [0.28235715, 0.71764285],\n",
       "       [0.22223225, 0.77776775],\n",
       "       [0.86690709, 0.13309291],\n",
       "       [0.30759963, 0.69240037],\n",
       "       [0.8320146 , 0.1679854 ],\n",
       "       [0.79923819, 0.20076181],\n",
       "       [0.68954442, 0.31045558],\n",
       "       [0.42197282, 0.57802718],\n",
       "       [0.61092153, 0.38907847],\n",
       "       [0.0682271 , 0.9317729 ],\n",
       "       [0.75453342, 0.24546658],\n",
       "       [0.82260846, 0.17739154],\n",
       "       [0.455863  , 0.544137  ],\n",
       "       [0.32193192, 0.67806808],\n",
       "       [0.27341892, 0.72658108],\n",
       "       [0.85789934, 0.14210066],\n",
       "       [0.17827693, 0.82172307],\n",
       "       [0.47752771, 0.52247229],\n",
       "       [0.85960651, 0.14039349],\n",
       "       [0.25252129, 0.74747871],\n",
       "       [0.3561986 , 0.6438014 ],\n",
       "       [0.57544999, 0.42455001],\n",
       "       [0.51697411, 0.48302589],\n",
       "       [0.84829999, 0.15170001],\n",
       "       [0.77222246, 0.22777754],\n",
       "       [0.86091041, 0.13908959],\n",
       "       [0.6806267 , 0.3193733 ],\n",
       "       [0.71045811, 0.28954189],\n",
       "       [0.45574165, 0.54425835],\n",
       "       [0.1055178 , 0.8944822 ],\n",
       "       [0.83558505, 0.16441495],\n",
       "       [0.8119024 , 0.1880976 ],\n",
       "       [0.74064564, 0.25935436],\n",
       "       [0.82781107, 0.17218893],\n",
       "       [0.16651239, 0.83348761],\n",
       "       [0.21470562, 0.78529438],\n",
       "       [0.46977507, 0.53022493],\n",
       "       [0.84495381, 0.15504619],\n",
       "       [0.84403643, 0.15596357],\n",
       "       [0.85744047, 0.14255953],\n",
       "       [0.85214386, 0.14785614],\n",
       "       [0.19059842, 0.80940158],\n",
       "       [0.46510459, 0.53489541],\n",
       "       [0.79856778, 0.20143222],\n",
       "       [0.5       , 0.5       ],\n",
       "       [0.81001652, 0.18998348],\n",
       "       [0.82733773, 0.17266227],\n",
       "       [0.14561221, 0.85438779],\n",
       "       [0.77956407, 0.22043593],\n",
       "       [0.79429866, 0.20570134],\n",
       "       [0.08256346, 0.91743654],\n",
       "       [0.70976294, 0.29023706],\n",
       "       [0.72165844, 0.27834156],\n",
       "       [0.70839443, 0.29160557],\n",
       "       [0.83149515, 0.16850485],\n",
       "       [0.69365048, 0.30634952],\n",
       "       [0.43607608, 0.56392392],\n",
       "       [0.74220083, 0.25779917],\n",
       "       [0.78882685, 0.21117315],\n",
       "       [0.22600665, 0.77399335],\n",
       "       [0.26394113, 0.73605887],\n",
       "       [0.83112487, 0.16887513],\n",
       "       [0.70901649, 0.29098351],\n",
       "       [0.81997223, 0.18002777],\n",
       "       [0.81689769, 0.18310231],\n",
       "       [0.85647316, 0.14352684],\n",
       "       [0.82975009, 0.17024991],\n",
       "       [0.85205841, 0.14794159],\n",
       "       [0.85014606, 0.14985394],\n",
       "       [0.42271943, 0.57728057],\n",
       "       [0.75009603, 0.24990397],\n",
       "       [0.41168008, 0.58831992],\n",
       "       [0.71761884, 0.28238116],\n",
       "       [0.79129341, 0.20870659],\n",
       "       [0.84909683, 0.15090317],\n",
       "       [0.41434055, 0.58565945],\n",
       "       [0.87445819, 0.12554181],\n",
       "       [0.31713214, 0.68286786],\n",
       "       [0.84892426, 0.15107574],\n",
       "       [0.72124173, 0.27875827],\n",
       "       [0.10206846, 0.89793154],\n",
       "       [0.69159801, 0.30840199],\n",
       "       [0.47430047, 0.52569953],\n",
       "       [0.87244018, 0.12755982],\n",
       "       [0.45177073, 0.54822927],\n",
       "       [0.79925928, 0.20074072],\n",
       "       [0.71435919, 0.28564081],\n",
       "       [0.7612992 , 0.2387008 ],\n",
       "       [0.85903944, 0.14096056],\n",
       "       [0.51741506, 0.48258494],\n",
       "       [0.35166582, 0.64833418],\n",
       "       [0.86553922, 0.13446078],\n",
       "       [0.55792385, 0.44207615],\n",
       "       [0.63615429, 0.36384571],\n",
       "       [0.81448262, 0.18551738],\n",
       "       [0.45786007, 0.54213993],\n",
       "       [0.83024228, 0.16975772],\n",
       "       [0.82267598, 0.17732402],\n",
       "       [0.20809303, 0.79190697],\n",
       "       [0.87936287, 0.12063713],\n",
       "       [0.2814817 , 0.7185183 ],\n",
       "       [0.4526897 , 0.5473103 ],\n",
       "       [0.86295871, 0.13704129],\n",
       "       [0.78790321, 0.21209679],\n",
       "       [0.72428917, 0.27571083],\n",
       "       [0.47725218, 0.52274782],\n",
       "       [0.84775167, 0.15224833],\n",
       "       [0.75483384, 0.24516616],\n",
       "       [0.1177316 , 0.8822684 ],\n",
       "       [0.77465752, 0.22534248],\n",
       "       [0.8342829 , 0.1657171 ],\n",
       "       [0.62372283, 0.37627717],\n",
       "       [0.29715369, 0.70284631],\n",
       "       [0.52262972, 0.47737028],\n",
       "       [0.78459192, 0.21540808],\n",
       "       [0.23283215, 0.76716785],\n",
       "       [0.82769364, 0.17230636],\n",
       "       [0.74192621, 0.25807379],\n",
       "       [0.23871104, 0.76128896],\n",
       "       [0.69134555, 0.30865445],\n",
       "       [0.83974935, 0.16025065],\n",
       "       [0.8255974 , 0.1744026 ],\n",
       "       [0.15017586, 0.84982414],\n",
       "       [0.43900148, 0.56099852],\n",
       "       [0.86321357, 0.13678643],\n",
       "       [0.30641401, 0.69358599],\n",
       "       [0.51699182, 0.48300818],\n",
       "       [0.1435797 , 0.8564203 ],\n",
       "       [0.46415103, 0.53584897],\n",
       "       [0.29449666, 0.70550334],\n",
       "       [0.1164534 , 0.8835466 ],\n",
       "       [0.59445436, 0.40554564],\n",
       "       [0.38104444, 0.61895556],\n",
       "       [0.85524959, 0.14475041],\n",
       "       [0.26605889, 0.73394111],\n",
       "       [0.87258542, 0.12741458],\n",
       "       [0.5       , 0.5       ],\n",
       "       [0.82127199, 0.17872801],\n",
       "       [0.83557626, 0.16442374],\n",
       "       [0.76180347, 0.23819653],\n",
       "       [0.7227366 , 0.2772634 ],\n",
       "       [0.80662157, 0.19337843],\n",
       "       [0.25695914, 0.74304086],\n",
       "       [0.48863461, 0.51136539],\n",
       "       [0.89594576, 0.10405424],\n",
       "       [0.48658398, 0.51341602],\n",
       "       [0.17441416, 0.82558584],\n",
       "       [0.73790182, 0.26209818],\n",
       "       [0.17574001, 0.82425999],\n",
       "       [0.67057641, 0.32942359],\n",
       "       [0.80778385, 0.19221615],\n",
       "       [0.47718319, 0.52281681],\n",
       "       [0.08146504, 0.91853496],\n",
       "       [0.20478463, 0.79521537],\n",
       "       [0.83569651, 0.16430349],\n",
       "       [0.81670022, 0.18329978],\n",
       "       [0.09998757, 0.90001243],\n",
       "       [0.84127745, 0.15872255],\n",
       "       [0.65246608, 0.34753392],\n",
       "       [0.41152151, 0.58847849],\n",
       "       [0.63074166, 0.36925834],\n",
       "       [0.58416471, 0.41583529],\n",
       "       [0.63473091, 0.36526909],\n",
       "       [0.71930339, 0.28069661],\n",
       "       [0.86086778, 0.13913222],\n",
       "       [0.44748918, 0.55251082],\n",
       "       [0.79157586, 0.20842414],\n",
       "       [0.90511478, 0.09488522],\n",
       "       [0.87779577, 0.12220423],\n",
       "       [0.37480488, 0.62519512]])"
      ]
     },
     "execution_count": 52,
     "metadata": {},
     "output_type": "execute_result"
    }
   ],
   "source": [
    "prediction_on_real_dataset_adding_extra"
   ]
  },
  {
   "cell_type": "code",
   "execution_count": null,
   "metadata": {
    "collapsed": true
   },
   "outputs": [],
   "source": []
  },
  {
   "cell_type": "code",
   "execution_count": null,
   "metadata": {
    "collapsed": true
   },
   "outputs": [],
   "source": []
  }
 ],
 "metadata": {
  "kernelspec": {
   "display_name": "Python 3",
   "language": "python",
   "name": "python3"
  },
  "language_info": {
   "codemirror_mode": {
    "name": "ipython",
    "version": 3
   },
   "file_extension": ".py",
   "mimetype": "text/x-python",
   "name": "python",
   "nbconvert_exporter": "python",
   "pygments_lexer": "ipython3",
   "version": "3.6.6"
  }
 },
 "nbformat": 4,
 "nbformat_minor": 2
}
