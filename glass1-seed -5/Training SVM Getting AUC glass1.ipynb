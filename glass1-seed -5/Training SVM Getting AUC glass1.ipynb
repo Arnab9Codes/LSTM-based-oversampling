{
 "cells": [
  {
   "cell_type": "code",
   "execution_count": 1,
   "metadata": {
    "collapsed": true
   },
   "outputs": [],
   "source": [
    "import time\n",
    "import math\n",
    "\n",
    "import numpy as np\n",
    "import pandas as pd\n",
    "from pandas import DataFrame\n",
    "from pandas import concat\n",
    "from matplotlib import pyplot\n",
    "\n",
    "from sklearn.preprocessing import MinMaxScaler\n",
    "from sklearn.preprocessing import LabelEncoder\n",
    "from sklearn.metrics import mean_squared_error\n",
    "\n",
    "from sklearn.preprocessing import StandardScaler\n",
    "from sklearn.model_selection import train_test_split\n",
    "from sklearn.model_selection import KFold\n",
    "from sklearn.model_selection import cross_val_score\n",
    "from sklearn.model_selection import GridSearchCV\n",
    "from sklearn.metrics import classification_report\n",
    "from sklearn.metrics import confusion_matrix\n",
    "from sklearn.metrics import accuracy_score\n",
    "from sklearn.metrics import precision_recall_curve\n",
    "\n",
    "from sklearn.pipeline import Pipeline\n",
    "from sklearn.linear_model import LogisticRegression\n",
    "from sklearn.tree import DecisionTreeClassifier\n",
    "from sklearn.neighbors import KNeighborsClassifier\n",
    "from sklearn.discriminant_analysis import LinearDiscriminantAnalysis\n",
    "from sklearn.naive_bayes import GaussianNB\n",
    "from sklearn.svm import SVC\n",
    "from sklearn.ensemble import AdaBoostClassifier\n",
    "from sklearn.ensemble import GradientBoostingClassifier\n",
    "from sklearn.ensemble import RandomForestClassifier\n",
    "from sklearn.ensemble import ExtraTreesClassifier\n",
    "\n",
    "from sklearn.model_selection import GridSearchCV\n",
    "\n",
    "import pickle"
   ]
  },
  {
   "cell_type": "code",
   "execution_count": 2,
   "metadata": {
    "collapsed": true
   },
   "outputs": [],
   "source": [
    "extra_data=pd.read_csv('new_corrected_data-v1-7-24-2019.csv')# loading extra genereated data genereated by LSTM #prediction_of_1_0007.csv\n",
    "original_data=pd.read_csv('train_Data.csv')#original data"
   ]
  },
  {
   "cell_type": "code",
   "execution_count": 3,
   "metadata": {},
   "outputs": [
    {
     "data": {
      "text/html": [
       "<div>\n",
       "<style scoped>\n",
       "    .dataframe tbody tr th:only-of-type {\n",
       "        vertical-align: middle;\n",
       "    }\n",
       "\n",
       "    .dataframe tbody tr th {\n",
       "        vertical-align: top;\n",
       "    }\n",
       "\n",
       "    .dataframe thead th {\n",
       "        text-align: right;\n",
       "    }\n",
       "</style>\n",
       "<table border=\"1\" class=\"dataframe\">\n",
       "  <thead>\n",
       "    <tr style=\"text-align: right;\">\n",
       "      <th></th>\n",
       "      <th>0</th>\n",
       "      <th>1</th>\n",
       "      <th>2</th>\n",
       "      <th>3</th>\n",
       "      <th>4</th>\n",
       "      <th>5</th>\n",
       "      <th>6</th>\n",
       "      <th>7</th>\n",
       "      <th>8</th>\n",
       "      <th>9</th>\n",
       "    </tr>\n",
       "  </thead>\n",
       "  <tbody>\n",
       "    <tr>\n",
       "      <th>0</th>\n",
       "      <td>1.518301</td>\n",
       "      <td>13.028523</td>\n",
       "      <td>3.232528</td>\n",
       "      <td>1.410707</td>\n",
       "      <td>72.660950</td>\n",
       "      <td>0.524984</td>\n",
       "      <td>8.651169</td>\n",
       "      <td>0.250186</td>\n",
       "      <td>0.007195</td>\n",
       "      <td>1.052541</td>\n",
       "    </tr>\n",
       "    <tr>\n",
       "      <th>1</th>\n",
       "      <td>1.519603</td>\n",
       "      <td>12.392509</td>\n",
       "      <td>2.794166</td>\n",
       "      <td>1.874933</td>\n",
       "      <td>72.618460</td>\n",
       "      <td>0.622260</td>\n",
       "      <td>8.691109</td>\n",
       "      <td>0.917225</td>\n",
       "      <td>0.120020</td>\n",
       "      <td>1.045010</td>\n",
       "    </tr>\n",
       "    <tr>\n",
       "      <th>2</th>\n",
       "      <td>1.521837</td>\n",
       "      <td>12.861373</td>\n",
       "      <td>2.388196</td>\n",
       "      <td>1.113002</td>\n",
       "      <td>72.621414</td>\n",
       "      <td>0.308940</td>\n",
       "      <td>11.059434</td>\n",
       "      <td>-0.075376</td>\n",
       "      <td>0.021345</td>\n",
       "      <td>1.031243</td>\n",
       "    </tr>\n",
       "    <tr>\n",
       "      <th>3</th>\n",
       "      <td>1.522303</td>\n",
       "      <td>12.668812</td>\n",
       "      <td>1.885162</td>\n",
       "      <td>1.442246</td>\n",
       "      <td>72.432100</td>\n",
       "      <td>0.332151</td>\n",
       "      <td>11.112808</td>\n",
       "      <td>0.575346</td>\n",
       "      <td>0.074622</td>\n",
       "      <td>1.017164</td>\n",
       "    </tr>\n",
       "    <tr>\n",
       "      <th>4</th>\n",
       "      <td>1.518588</td>\n",
       "      <td>12.794850</td>\n",
       "      <td>2.763852</td>\n",
       "      <td>1.668766</td>\n",
       "      <td>72.577190</td>\n",
       "      <td>0.576546</td>\n",
       "      <td>8.696341</td>\n",
       "      <td>0.712674</td>\n",
       "      <td>0.073805</td>\n",
       "      <td>1.021496</td>\n",
       "    </tr>\n",
       "  </tbody>\n",
       "</table>\n",
       "</div>"
      ],
      "text/plain": [
       "          0          1         2         3          4         5          6  \\\n",
       "0  1.518301  13.028523  3.232528  1.410707  72.660950  0.524984   8.651169   \n",
       "1  1.519603  12.392509  2.794166  1.874933  72.618460  0.622260   8.691109   \n",
       "2  1.521837  12.861373  2.388196  1.113002  72.621414  0.308940  11.059434   \n",
       "3  1.522303  12.668812  1.885162  1.442246  72.432100  0.332151  11.112808   \n",
       "4  1.518588  12.794850  2.763852  1.668766  72.577190  0.576546   8.696341   \n",
       "\n",
       "          7         8         9  \n",
       "0  0.250186  0.007195  1.052541  \n",
       "1  0.917225  0.120020  1.045010  \n",
       "2 -0.075376  0.021345  1.031243  \n",
       "3  0.575346  0.074622  1.017164  \n",
       "4  0.712674  0.073805  1.021496  "
      ]
     },
     "execution_count": 3,
     "metadata": {},
     "output_type": "execute_result"
    }
   ],
   "source": [
    "extra_data.head()#displaying LSTM generated data"
   ]
  },
  {
   "cell_type": "code",
   "execution_count": 4,
   "metadata": {},
   "outputs": [
    {
     "name": "stdout",
     "output_type": "stream",
     "text": [
      "(20, 10)\n"
     ]
    }
   ],
   "source": [
    "extra=np.array(extra_data)# getting the original shape\n",
    "print(extra.shape)"
   ]
  },
  {
   "cell_type": "code",
   "execution_count": 5,
   "metadata": {},
   "outputs": [
    {
     "data": {
      "text/plain": [
       "array([1.51830140e+00, 1.30285225e+01, 3.23252820e+00, 1.41070690e+00,\n",
       "       7.26609500e+01, 5.24983500e-01, 8.65116900e+00, 2.50186200e-01,\n",
       "       7.19456900e-03, 1.05254080e+00])"
      ]
     },
     "execution_count": 5,
     "metadata": {},
     "output_type": "execute_result"
    }
   ],
   "source": [
    "extra[0] # showing first row vector"
   ]
  },
  {
   "cell_type": "code",
   "execution_count": 6,
   "metadata": {
    "collapsed": true
   },
   "outputs": [],
   "source": [
    "# Setting predictions of all generated data to 1 because their outputs are mostly 0.98, 0.99 etc. \n",
    "for i in range(0,len(extra),1):\n",
    "    extra[i][9]=int(1)"
   ]
  },
  {
   "cell_type": "code",
   "execution_count": 7,
   "metadata": {},
   "outputs": [
    {
     "data": {
      "text/plain": [
       "array([[ 1.51830140e+00,  1.30285225e+01,  3.23252820e+00,\n",
       "         1.41070690e+00,  7.26609500e+01,  5.24983500e-01,\n",
       "         8.65116900e+00,  2.50186200e-01,  7.19456900e-03,\n",
       "         1.00000000e+00],\n",
       "       [ 1.51960330e+00,  1.23925090e+01,  2.79416580e+00,\n",
       "         1.87493310e+00,  7.26184600e+01,  6.22260200e-01,\n",
       "         8.69110900e+00,  9.17225100e-01,  1.20019816e-01,\n",
       "         1.00000000e+00],\n",
       "       [ 1.52183680e+00,  1.28613730e+01,  2.38819600e+00,\n",
       "         1.11300180e+00,  7.26214140e+01,  3.08939580e-01,\n",
       "         1.10594340e+01, -7.53761000e-02,  2.13447160e-02,\n",
       "         1.00000000e+00],\n",
       "       [ 1.52230310e+00,  1.26688120e+01,  1.88516180e+00,\n",
       "         1.44224640e+00,  7.24321000e+01,  3.32150550e-01,\n",
       "         1.11128080e+01,  5.75346230e-01,  7.46221800e-02,\n",
       "         1.00000000e+00],\n",
       "       [ 1.51858810e+00,  1.27948500e+01,  2.76385200e+00,\n",
       "         1.66876640e+00,  7.25771900e+01,  5.76545600e-01,\n",
       "         8.69634100e+00,  7.12673840e-01,  7.38052400e-02,\n",
       "         1.00000000e+00],\n",
       "       [ 1.51542340e+00,  1.31125590e+01,  3.81973720e+00,\n",
       "         1.58165040e+00,  7.27795700e+01,  6.67624000e-01,\n",
       "         7.69781640e+00, -3.43967080e-02,  7.14083600e-02,\n",
       "         1.00000000e+00],\n",
       "       [ 1.52074960e+00,  1.29778260e+01,  2.02858420e+00,\n",
       "         1.29082320e+00,  7.25543000e+01,  3.42848780e-01,\n",
       "         1.06132930e+01,  1.94496590e-01,  4.35634780e-02,\n",
       "         1.00000000e+00],\n",
       "       [ 1.51602980e+00,  1.32755190e+01,  3.82719680e+00,\n",
       "         1.45943490e+00,  7.28972400e+01,  6.58100200e-01,\n",
       "         7.98059200e+00, -2.59343530e-01,  5.57375500e-02,\n",
       "         1.00000000e+00],\n",
       "       [ 1.51750460e+00,  1.27875410e+01,  4.17590900e+00,\n",
       "         1.60720930e+00,  7.28743100e+01,  5.78980860e-01,\n",
       "         7.83680600e+00, -8.13074860e-02,  9.61716200e-02,\n",
       "         1.00000000e+00],\n",
       "       [ 1.52240600e+00,  1.27307180e+01,  1.61061320e+00,\n",
       "         1.30127130e+00,  7.23393250e+01,  3.18530140e-01,\n",
       "         1.15322060e+01,  2.50404860e-01,  3.95238440e-02,\n",
       "         1.00000000e+00],\n",
       "       [ 1.52300010e+00,  1.26749770e+01,  1.57987980e+00,\n",
       "         1.25997820e+00,  7.23993800e+01,  2.70870860e-01,\n",
       "         1.16235660e+01,  2.99814580e-01,  5.17316270e-02,\n",
       "         1.00000000e+00],\n",
       "       [ 1.51843020e+00,  1.29240200e+01,  3.22768100e+00,\n",
       "         1.52553400e+00,  7.26401440e+01,  5.72088400e-01,\n",
       "         9.02918900e+00,  1.47040830e-01,  5.72465960e-02,\n",
       "         1.00000000e+00],\n",
       "       [ 1.53080640e+00,  1.13268780e+01,  6.84701200e-01,\n",
       "         1.01133850e+00,  7.21234700e+01, -1.19262130e-01,\n",
       "         1.53054770e+01,  5.12044770e-02,  1.04761450e-01,\n",
       "         1.00000000e+00],\n",
       "       [ 1.52009520e+00,  1.29605260e+01,  1.87347890e+00,\n",
       "         1.36288070e+00,  7.24509050e+01,  3.81752640e-01,\n",
       "         1.04474750e+01,  2.92841550e-01,  3.46016600e-02,\n",
       "         1.00000000e+00],\n",
       "       [ 1.51878420e+00,  1.28002205e+01,  3.10171460e+00,\n",
       "         1.54538610e+00,  7.27631900e+01,  5.50777200e-01,\n",
       "         8.57945700e+00,  3.26173700e-01,  8.72471100e-02,\n",
       "         1.00000000e+00],\n",
       "       [ 1.52041750e+00,  1.27354980e+01,  2.53375500e+00,\n",
       "         1.40717740e+00,  7.24587200e+01,  5.01703200e-01,\n",
       "         9.31407800e+00,  4.78899600e-01,  3.91272500e-02,\n",
       "         1.00000000e+00],\n",
       "       [ 1.51764600e+00,  1.30843750e+01,  3.17064070e+00,\n",
       "         1.30425350e+00,  7.25856600e+01,  4.46950670e-01,\n",
       "         8.37278800e+00, -8.43405550e-04,  2.84614220e-04,\n",
       "         1.00000000e+00],\n",
       "       [ 1.51971660e+00,  1.27642750e+01,  2.81819320e+00,\n",
       "         1.46374940e+00,  7.25277250e+01,  5.55311700e-01,\n",
       "         9.28261700e+00,  3.04007260e-01,  6.57372000e-02,\n",
       "         1.00000000e+00],\n",
       "       [ 1.52398290e+00,  1.25466730e+01,  2.33953210e+00,\n",
       "         1.24841320e+00,  7.22013900e+01,  6.69287600e-01,\n",
       "         1.09772350e+01,  9.42174700e-02,  6.26204600e-02,\n",
       "         1.00000000e+00],\n",
       "       [ 1.51752080e+00,  1.32243730e+01,  2.96326300e+00,\n",
       "         1.32860860e+00,  7.26428100e+01,  5.43409940e-01,\n",
       "         8.85581500e+00, -1.23988610e-01,  3.29056800e-02,\n",
       "         1.00000000e+00]])"
      ]
     },
     "execution_count": 7,
     "metadata": {},
     "output_type": "execute_result"
    }
   ],
   "source": [
    "extra #showing LSTM generated extra data ready for training"
   ]
  },
  {
   "cell_type": "code",
   "execution_count": 8,
   "metadata": {},
   "outputs": [
    {
     "data": {
      "text/html": [
       "<div>\n",
       "<style scoped>\n",
       "    .dataframe tbody tr th:only-of-type {\n",
       "        vertical-align: middle;\n",
       "    }\n",
       "\n",
       "    .dataframe tbody tr th {\n",
       "        vertical-align: top;\n",
       "    }\n",
       "\n",
       "    .dataframe thead th {\n",
       "        text-align: right;\n",
       "    }\n",
       "</style>\n",
       "<table border=\"1\" class=\"dataframe\">\n",
       "  <thead>\n",
       "    <tr style=\"text-align: right;\">\n",
       "      <th></th>\n",
       "      <th>0</th>\n",
       "      <th>1</th>\n",
       "      <th>2</th>\n",
       "      <th>3</th>\n",
       "      <th>4</th>\n",
       "      <th>5</th>\n",
       "      <th>6</th>\n",
       "      <th>7</th>\n",
       "      <th>8</th>\n",
       "      <th>9</th>\n",
       "    </tr>\n",
       "  </thead>\n",
       "  <tbody>\n",
       "    <tr>\n",
       "      <th>0</th>\n",
       "      <td>1.518531</td>\n",
       "      <td>14.08825</td>\n",
       "      <td>2.19112</td>\n",
       "      <td>1.66067</td>\n",
       "      <td>72.6716</td>\n",
       "      <td>0.00000</td>\n",
       "      <td>9.32512</td>\n",
       "      <td>0.00000</td>\n",
       "      <td>0.0000</td>\n",
       "      <td>0</td>\n",
       "    </tr>\n",
       "    <tr>\n",
       "      <th>1</th>\n",
       "      <td>1.522996</td>\n",
       "      <td>13.31020</td>\n",
       "      <td>3.57853</td>\n",
       "      <td>0.81965</td>\n",
       "      <td>71.9884</td>\n",
       "      <td>0.11799</td>\n",
       "      <td>10.17516</td>\n",
       "      <td>0.00000</td>\n",
       "      <td>0.0153</td>\n",
       "      <td>0</td>\n",
       "    </tr>\n",
       "    <tr>\n",
       "      <th>2</th>\n",
       "      <td>1.519055</td>\n",
       "      <td>13.60280</td>\n",
       "      <td>3.61894</td>\n",
       "      <td>1.10855</td>\n",
       "      <td>72.6380</td>\n",
       "      <td>0.14283</td>\n",
       "      <td>8.75484</td>\n",
       "      <td>0.00000</td>\n",
       "      <td>0.0000</td>\n",
       "      <td>0</td>\n",
       "    </tr>\n",
       "    <tr>\n",
       "      <th>3</th>\n",
       "      <td>1.516230</td>\n",
       "      <td>14.20130</td>\n",
       "      <td>0.00000</td>\n",
       "      <td>2.79059</td>\n",
       "      <td>73.4612</td>\n",
       "      <td>0.03726</td>\n",
       "      <td>9.04536</td>\n",
       "      <td>0.40005</td>\n",
       "      <td>0.4590</td>\n",
       "      <td>0</td>\n",
       "    </tr>\n",
       "    <tr>\n",
       "      <th>4</th>\n",
       "      <td>1.516389</td>\n",
       "      <td>14.36755</td>\n",
       "      <td>0.00000</td>\n",
       "      <td>2.73923</td>\n",
       "      <td>72.8508</td>\n",
       "      <td>0.00000</td>\n",
       "      <td>9.45424</td>\n",
       "      <td>0.53865</td>\n",
       "      <td>0.0000</td>\n",
       "      <td>0</td>\n",
       "    </tr>\n",
       "  </tbody>\n",
       "</table>\n",
       "</div>"
      ],
      "text/plain": [
       "          0         1        2        3        4        5         6        7  \\\n",
       "0  1.518531  14.08825  2.19112  1.66067  72.6716  0.00000   9.32512  0.00000   \n",
       "1  1.522996  13.31020  3.57853  0.81965  71.9884  0.11799  10.17516  0.00000   \n",
       "2  1.519055  13.60280  3.61894  1.10855  72.6380  0.14283   8.75484  0.00000   \n",
       "3  1.516230  14.20130  0.00000  2.79059  73.4612  0.03726   9.04536  0.40005   \n",
       "4  1.516389  14.36755  0.00000  2.73923  72.8508  0.00000   9.45424  0.53865   \n",
       "\n",
       "        8  9  \n",
       "0  0.0000  0  \n",
       "1  0.0153  0  \n",
       "2  0.0000  0  \n",
       "3  0.4590  0  \n",
       "4  0.0000  0  "
      ]
     },
     "execution_count": 8,
     "metadata": {},
     "output_type": "execute_result"
    }
   ],
   "source": [
    "original_data.head() #showing original data"
   ]
  },
  {
   "cell_type": "code",
   "execution_count": null,
   "metadata": {
    "collapsed": true
   },
   "outputs": [],
   "source": []
  },
  {
   "cell_type": "code",
   "execution_count": 9,
   "metadata": {
    "collapsed": true
   },
   "outputs": [],
   "source": [
    "#loading data values from original dataset(Pima)\n",
    "val=original_data.values"
   ]
  },
  {
   "cell_type": "code",
   "execution_count": 10,
   "metadata": {
    "collapsed": true
   },
   "outputs": [],
   "source": [
    "X=val[:,:9].astype(float)# getting the feature values\n",
    "Y=val[:,9].astype(int)# getting prediction"
   ]
  },
  {
   "cell_type": "code",
   "execution_count": 11,
   "metadata": {
    "collapsed": true
   },
   "outputs": [],
   "source": [
    "#extra_X denotes the extra training data generated by LSTM \n",
    "extra_X=extra[:,:9].astype(float)\n",
    "\n",
    "#extra_Y denotes extra training prediction data for training the algorithm\n",
    "extra_Y=extra[:,9].astype(int)"
   ]
  },
  {
   "cell_type": "code",
   "execution_count": 12,
   "metadata": {
    "collapsed": true
   },
   "outputs": [],
   "source": [
    "# extrain=original training data + LSTM generated training data\n",
    "\n",
    "# eytrain=original training prediction + LSTM generated\n",
    "\n",
    "extrain=np.concatenate((X,extra_X),axis=0)\n",
    "eytrain=np.concatenate((Y,extra_Y),axis=0)"
   ]
  },
  {
   "cell_type": "code",
   "execution_count": 13,
   "metadata": {},
   "outputs": [
    {
     "name": "stdout",
     "output_type": "stream",
     "text": [
      "(169, 9)\n",
      "(169,)\n"
     ]
    }
   ],
   "source": [
    "print(extrain.shape)\n",
    "print(eytrain.shape)"
   ]
  },
  {
   "cell_type": "code",
   "execution_count": 14,
   "metadata": {
    "collapsed": true
   },
   "outputs": [],
   "source": [
    "test_Data=pd.read_csv('test_Data.csv')"
   ]
  },
  {
   "cell_type": "code",
   "execution_count": 15,
   "metadata": {
    "collapsed": true
   },
   "outputs": [],
   "source": [
    "test_Data=np.array(test_Data)"
   ]
  },
  {
   "cell_type": "code",
   "execution_count": 16,
   "metadata": {},
   "outputs": [
    {
     "data": {
      "text/plain": [
       "(65, 10)"
      ]
     },
     "execution_count": 16,
     "metadata": {},
     "output_type": "execute_result"
    }
   ],
   "source": [
    "test_Data.shape"
   ]
  },
  {
   "cell_type": "code",
   "execution_count": 17,
   "metadata": {
    "collapsed": true
   },
   "outputs": [],
   "source": [
    "X_test=test_Data[:,:9].astype(float)\n",
    "Y_test=test_Data[:,9].astype(int)"
   ]
  },
  {
   "cell_type": "code",
   "execution_count": null,
   "metadata": {
    "collapsed": true
   },
   "outputs": [],
   "source": []
  },
  {
   "cell_type": "code",
   "execution_count": 18,
   "metadata": {
    "collapsed": true
   },
   "outputs": [],
   "source": [
    "def svc_param_selection(X, y, nfolds):\n",
    "    Cs = [0.0001,0.001, 0.01, 0.1, 1, 10,100,1000]\n",
    "    gammas = [0.0001,0.001, 0.01, 0.1, 1,10]\n",
    "    param_grid = {'C': Cs, 'gamma' : gammas}\n",
    "    grid_search = GridSearchCV(SVC(kernel='rbf',probability=True),param_grid, cv=nfolds)\n",
    "    grid_search.fit(X, y)\n",
    "    grid_search.best_params_\n",
    "    return grid_search.best_estimator_"
   ]
  },
  {
   "cell_type": "code",
   "execution_count": 19,
   "metadata": {
    "collapsed": true
   },
   "outputs": [],
   "source": [
    "# setting seed =7 to produce same results over and over again, it was maintained during different experiments \n",
    "seed=5\n"
   ]
  },
  {
   "cell_type": "code",
   "execution_count": 20,
   "metadata": {},
   "outputs": [
    {
     "name": "stderr",
     "output_type": "stream",
     "text": [
      "G:\\newage2\\envs\\tensorflow\\lib\\site-packages\\sklearn\\model_selection\\_search.py:813: DeprecationWarning: The default of the `iid` parameter will change from True to False in version 0.22 and will be removed in 0.24. This will change numeric results when test-set sizes are unequal.\n",
      "  DeprecationWarning)\n",
      "G:\\newage2\\envs\\tensorflow\\lib\\site-packages\\sklearn\\model_selection\\_search.py:813: DeprecationWarning: The default of the `iid` parameter will change from True to False in version 0.22 and will be removed in 0.24. This will change numeric results when test-set sizes are unequal.\n",
      "  DeprecationWarning)\n"
     ]
    }
   ],
   "source": [
    "# first rbf_svc for training on just the original training data\n",
    "#rbf_svc = SVC(kernel='rbf', gamma=0.00001, C=1000,probability=True).fit(X_train,Y_train)\n",
    "rbf_svc=svc_param_selection(X,Y,5)\n",
    "\n",
    "# secondly rbf_svc_extra for training on original+LSTM\n",
    "rbf_svc_extra = svc_param_selection(extrain,eytrain,5)"
   ]
  },
  {
   "cell_type": "code",
   "execution_count": 21,
   "metadata": {},
   "outputs": [
    {
     "data": {
      "text/plain": [
       "SVC(C=10, cache_size=200, class_weight=None, coef0=0.0,\n",
       "    decision_function_shape='ovr', degree=3, gamma=1, kernel='rbf', max_iter=-1,\n",
       "    probability=True, random_state=None, shrinking=True, tol=0.001,\n",
       "    verbose=False)"
      ]
     },
     "execution_count": 21,
     "metadata": {},
     "output_type": "execute_result"
    }
   ],
   "source": [
    "\n",
    "# fitting the data\n",
    "rbf_svc.fit(X,Y)\n",
    "rbf_svc_extra.fit(extrain,eytrain)"
   ]
  },
  {
   "cell_type": "code",
   "execution_count": 22,
   "metadata": {},
   "outputs": [
    {
     "data": {
      "text/plain": [
       "(65, 9)"
      ]
     },
     "execution_count": 22,
     "metadata": {},
     "output_type": "execute_result"
    }
   ],
   "source": [
    "# loading the validation dataset previously set up by validation split(this data was not included in any training procedure)\n",
    "Prediction_data=X_test\n",
    "\n",
    "#producing the shape\n",
    "Prediction_data.shape"
   ]
  },
  {
   "cell_type": "code",
   "execution_count": 23,
   "metadata": {
    "collapsed": true
   },
   "outputs": [],
   "source": [
    "# making predictions on validation dataset using svc trained only on original training data\n",
    "prediction_on_real_dataset=rbf_svc.predict_proba(Prediction_data)\n",
    "\n",
    "#saving probabilities\n",
    "predictions=rbf_svc.predict(Prediction_data)\n",
    "\n",
    "# making predictions on validation dataset using svc trained on original training data + LSTM generated data\n",
    "prediction_on_real_dataset_adding_extra=rbf_svc_extra.predict_proba(Prediction_data)\n",
    "#saving probabilities\n",
    "predictions_extra=rbf_svc_extra.predict(Prediction_data)"
   ]
  },
  {
   "cell_type": "code",
   "execution_count": 24,
   "metadata": {},
   "outputs": [
    {
     "name": "stdout",
     "output_type": "stream",
     "text": [
      "65\n",
      "65\n"
     ]
    }
   ],
   "source": [
    "print(len(prediction_on_real_dataset))\n",
    "\n",
    "print(len(prediction_on_real_dataset_adding_extra))"
   ]
  },
  {
   "cell_type": "code",
   "execution_count": 25,
   "metadata": {
    "collapsed": true
   },
   "outputs": [],
   "source": [
    "from sklearn.metrics import f1_score\n",
    "from sklearn.metrics import auc\n",
    "from sklearn.metrics import average_precision_score\n",
    "\n",
    "from sklearn.metrics import roc_curve, roc_auc_score"
   ]
  },
  {
   "cell_type": "code",
   "execution_count": 26,
   "metadata": {},
   "outputs": [
    {
     "data": {
      "text/plain": [
       "0.7894736842105262"
      ]
     },
     "execution_count": 26,
     "metadata": {},
     "output_type": "execute_result"
    }
   ],
   "source": [
    "f1_score(Y_test,predictions)#without_extra"
   ]
  },
  {
   "cell_type": "code",
   "execution_count": 27,
   "metadata": {},
   "outputs": [
    {
     "data": {
      "text/plain": [
       "0.7142857142857143"
      ]
     },
     "execution_count": 27,
     "metadata": {},
     "output_type": "execute_result"
    }
   ],
   "source": [
    "f1_score(Y_test,predictions_extra)#with_extra"
   ]
  },
  {
   "cell_type": "code",
   "execution_count": 28,
   "metadata": {},
   "outputs": [
    {
     "data": {
      "text/plain": [
       "array([0.93392855, 0.06607145])"
      ]
     },
     "execution_count": 28,
     "metadata": {},
     "output_type": "execute_result"
    }
   ],
   "source": [
    "prediction_on_real_dataset[0]# probabilities of 2 class"
   ]
  },
  {
   "cell_type": "code",
   "execution_count": 29,
   "metadata": {},
   "outputs": [
    {
     "name": "stdout",
     "output_type": "stream",
     "text": [
      "Without extra:  0.8644444444444443\n",
      "With extra:  0.88\n"
     ]
    }
   ],
   "source": [
    "# getting AUC score for classifier trained on only original data\n",
    "fpr, tpr, thres=roc_curve(Y_test,prediction_on_real_dataset[:,1],pos_label=1)\n",
    "\n",
    "#getting AUC score for classifier trained on original + LSTM generated data\n",
    "efpr, etpr, ethres=roc_curve(Y_test,prediction_on_real_dataset_adding_extra[:,1],pos_label=1)\n",
    "\n",
    "with_=auc(fpr,tpr)\n",
    "without_=auc(efpr,etpr)\n",
    "print('Without extra: ',auc(fpr,tpr))\n",
    "\n",
    "print('With extra: ',auc(efpr,etpr))"
   ]
  },
  {
   "cell_type": "code",
   "execution_count": 30,
   "metadata": {},
   "outputs": [
    {
     "data": {
      "image/png": "[encoded data removed]",
      "text/plain": [
       "<matplotlib.figure.Figure at 0x28c04b860>"
      ]
     },
     "metadata": {},
     "output_type": "display_data"
    }
   ],
   "source": [
    "# plotting data ( for minority predictions , here minority class = 1)\n",
    "\n",
    "Y_probs=prediction_on_real_dataset[:,1]\n",
    "fpr,tpr,_=roc_curve(Y_test,Y_probs)\n",
    "\n",
    "Y_probs_extra=prediction_on_real_dataset_adding_extra[:,1]\n",
    "efpr,etpr,_=roc_curve(Y_test,Y_probs_extra)\n",
    "\n",
    "original=auc(fpr,tpr)\n",
    "lstm_with_extra=auc(efpr,etpr)\n",
    "\n",
    "original=original.astype(float)\n",
    "lstm_with_extra=lstm_with_extra.astype(float)\n",
    "\n",
    "\n",
    "pyplot.clf()\n",
    "pyplot.plot(fpr, tpr,label='original (AUC : %5.4f)'%(with_),linewidth='1.2')\n",
    "pyplot.plot(efpr,etpr,label='LSTM generated+original(AUC : %5.4f)'%(without_),linewidth='1.2')\n",
    "pyplot.xlabel('FPR')\n",
    "pyplot.ylabel('TPR')\n",
    "pyplot.title('ROC curve ')\n",
    "pyplot.legend(loc=4)\n",
    "pyplot.savefig('ROC curve .png',dpi=500)\n",
    "pyplot.show()"
   ]
  },
  {
   "cell_type": "code",
   "execution_count": 31,
   "metadata": {},
   "outputs": [
    {
     "data": {
      "image/png": "[encoded data removed]",
      "text/plain": [
       "<matplotlib.figure.Figure at 0x28c0b86d8>"
      ]
     },
     "metadata": {},
     "output_type": "display_data"
    }
   ],
   "source": [
    "Y_probs=prediction_on_real_dataset[:,0]\n",
    "fpr,tpr,_=roc_curve(Y_test,Y_probs)\n",
    "\n",
    "Y_probs_extra=prediction_on_real_dataset_adding_extra[:,0]\n",
    "efpr,etpr,_=roc_curve(Y_test,Y_probs_extra)\n",
    "\n",
    "pyplot.clf()\n",
    "pyplot.plot(fpr, tpr,label='original')\n",
    "pyplot.plot(efpr,etpr,label='LSTM generated')\n",
    "pyplot.xlabel('FPR')\n",
    "pyplot.ylabel('TPR(recall)')\n",
    "pyplot.title('ROC curve')\n",
    "pyplot.legend(loc=2)\n",
    "pyplot.show()"
   ]
  },
  {
   "cell_type": "code",
   "execution_count": 32,
   "metadata": {},
   "outputs": [
    {
     "data": {
      "text/plain": [
       "array([[0.93392855, 0.06607145],\n",
       "       [0.95814212, 0.04185788],\n",
       "       [0.12904303, 0.87095697],\n",
       "       [0.0148074 , 0.9851926 ],\n",
       "       [0.66818095, 0.33181905],\n",
       "       [0.86267231, 0.13732769],\n",
       "       [0.8829314 , 0.1170686 ],\n",
       "       [0.95419598, 0.04580402],\n",
       "       [0.90402447, 0.09597553],\n",
       "       [0.91399197, 0.08600803],\n",
       "       [0.6303985 , 0.3696015 ],\n",
       "       [0.15954817, 0.84045183],\n",
       "       [0.12857859, 0.87142141],\n",
       "       [0.09774567, 0.90225433],\n",
       "       [0.70462079, 0.29537921],\n",
       "       [0.80386802, 0.19613198],\n",
       "       [0.55251857, 0.44748143],\n",
       "       [0.86771271, 0.13228729],\n",
       "       [0.33210002, 0.66789998],\n",
       "       [0.04198511, 0.95801489],\n",
       "       [0.9389329 , 0.0610671 ],\n",
       "       [0.36190375, 0.63809625],\n",
       "       [0.67016422, 0.32983578],\n",
       "       [0.67747231, 0.32252769],\n",
       "       [0.89152231, 0.10847769],\n",
       "       [0.95065258, 0.04934742],\n",
       "       [0.63024693, 0.36975307],\n",
       "       [0.84979734, 0.15020266],\n",
       "       [0.15947952, 0.84052048],\n",
       "       [0.89233823, 0.10766177],\n",
       "       [0.84278714, 0.15721286],\n",
       "       [0.88016636, 0.11983364],\n",
       "       [0.87326957, 0.12673043],\n",
       "       [0.92198775, 0.07801225],\n",
       "       [0.91439834, 0.08560166],\n",
       "       [0.66539477, 0.33460523],\n",
       "       [0.60805703, 0.39194297],\n",
       "       [0.34243656, 0.65756344],\n",
       "       [0.75872929, 0.24127071],\n",
       "       [0.33846353, 0.66153647],\n",
       "       [0.08237223, 0.91762777],\n",
       "       [0.87403245, 0.12596755],\n",
       "       [0.47803598, 0.52196402],\n",
       "       [0.96883011, 0.03116989],\n",
       "       [0.71160305, 0.28839695],\n",
       "       [0.81593353, 0.18406647],\n",
       "       [0.88378993, 0.11621007],\n",
       "       [0.95796164, 0.04203836],\n",
       "       [0.76262732, 0.23737268],\n",
       "       [0.01498261, 0.98501739],\n",
       "       [0.84637221, 0.15362779],\n",
       "       [0.86754555, 0.13245445],\n",
       "       [0.86984241, 0.13015759],\n",
       "       [0.61505357, 0.38494643],\n",
       "       [0.65342768, 0.34657232],\n",
       "       [0.13537421, 0.86462579],\n",
       "       [0.8425249 , 0.1574751 ],\n",
       "       [0.5333021 , 0.4666979 ],\n",
       "       [0.92134578, 0.07865422],\n",
       "       [0.70104995, 0.29895005],\n",
       "       [0.92451532, 0.07548468],\n",
       "       [0.88395609, 0.11604391],\n",
       "       [0.02736956, 0.97263044],\n",
       "       [0.85017343, 0.14982657],\n",
       "       [0.82715287, 0.17284713]])"
      ]
     },
     "execution_count": 32,
     "metadata": {},
     "output_type": "execute_result"
    }
   ],
   "source": [
    "prediction_on_real_dataset"
   ]
  },
  {
   "cell_type": "code",
   "execution_count": 33,
   "metadata": {},
   "outputs": [
    {
     "data": {
      "text/plain": [
       "array([[0.87453402, 0.12546598],\n",
       "       [0.63869525, 0.36130475],\n",
       "       [0.09802722, 0.90197278],\n",
       "       [0.02077808, 0.97922192],\n",
       "       [0.46168169, 0.53831831],\n",
       "       [0.8552945 , 0.1447055 ],\n",
       "       [0.8795108 , 0.1204892 ],\n",
       "       [0.90505428, 0.09494572],\n",
       "       [0.87734204, 0.12265796],\n",
       "       [0.90830744, 0.09169256],\n",
       "       [0.56906922, 0.43093078],\n",
       "       [0.13778126, 0.86221874],\n",
       "       [0.06656979, 0.93343021],\n",
       "       [0.11608606, 0.88391394],\n",
       "       [0.68511411, 0.31488589],\n",
       "       [0.80860604, 0.19139396],\n",
       "       [0.06327259, 0.93672741],\n",
       "       [0.86126541, 0.13873459],\n",
       "       [0.26271013, 0.73728987],\n",
       "       [0.04895868, 0.95104132],\n",
       "       [0.89332588, 0.10667412],\n",
       "       [0.62117908, 0.37882092],\n",
       "       [0.85137234, 0.14862766],\n",
       "       [0.60022226, 0.39977774],\n",
       "       [0.88743523, 0.11256477],\n",
       "       [0.8608376 , 0.1391624 ],\n",
       "       [0.56888059, 0.43111941],\n",
       "       [0.83962975, 0.16037025],\n",
       "       [0.12102384, 0.87897616],\n",
       "       [0.89369377, 0.10630623],\n",
       "       [0.83105937, 0.16894063],\n",
       "       [0.51970751, 0.48029249],\n",
       "       [0.85829779, 0.14170221],\n",
       "       [0.83679108, 0.16320892],\n",
       "       [0.93420983, 0.06579017],\n",
       "       [0.63189966, 0.36810034],\n",
       "       [0.55814923, 0.44185077],\n",
       "       [0.29720122, 0.70279878],\n",
       "       [0.82839574, 0.17160426],\n",
       "       [0.29940036, 0.70059964],\n",
       "       [0.31324739, 0.68675261],\n",
       "       [0.83494667, 0.16505333],\n",
       "       [0.42745903, 0.57254097],\n",
       "       [0.99017893, 0.00982107],\n",
       "       [0.64473002, 0.35526998],\n",
       "       [0.86310836, 0.13689164],\n",
       "       [0.89511696, 0.10488304],\n",
       "       [0.9360932 , 0.0639068 ],\n",
       "       [0.7450607 , 0.2549393 ],\n",
       "       [0.02257859, 0.97742141],\n",
       "       [0.83562271, 0.16437729],\n",
       "       [0.86115513, 0.13884487],\n",
       "       [0.86328496, 0.13671504],\n",
       "       [0.75752136, 0.24247864],\n",
       "       [0.76953579, 0.23046421],\n",
       "       [0.10744917, 0.89255083],\n",
       "       [0.83064733, 0.16935267],\n",
       "       [0.5       , 0.5       ],\n",
       "       [0.18257166, 0.81742834],\n",
       "       [0.47280364, 0.52719636],\n",
       "       [0.93742186, 0.06257814],\n",
       "       [0.88077996, 0.11922004],\n",
       "       [0.03172652, 0.96827348],\n",
       "       [0.12593965, 0.87406035],\n",
       "       [0.8196116 , 0.1803884 ]])"
      ]
     },
     "execution_count": 33,
     "metadata": {},
     "output_type": "execute_result"
    }
   ],
   "source": [
    "prediction_on_real_dataset_adding_extra"
   ]
  },
  {
   "cell_type": "code",
   "execution_count": null,
   "metadata": {
    "collapsed": true
   },
   "outputs": [],
   "source": []
  },
  {
   "cell_type": "code",
   "execution_count": null,
   "metadata": {
    "collapsed": true
   },
   "outputs": [],
   "source": []
  }
 ],
 "metadata": {
  "kernelspec": {
   "display_name": "Python 3",
   "language": "python",
   "name": "python3"
  },
  "language_info": {
   "codemirror_mode": {
    "name": "ipython",
    "version": 3
   },
   "file_extension": ".py",
   "mimetype": "text/x-python",
   "name": "python",
   "nbconvert_exporter": "python",
   "pygments_lexer": "ipython3",
   "version": "3.6.6"
  }
 },
 "nbformat": 4,
 "nbformat_minor": 2
}
