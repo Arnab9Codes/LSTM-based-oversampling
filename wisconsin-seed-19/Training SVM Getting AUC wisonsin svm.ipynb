{
 "cells": [
  {
   "cell_type": "code",
   "execution_count": 1,
   "metadata": {
    "collapsed": true
   },
   "outputs": [],
   "source": [
    "import time\n",
    "import math\n",
    "\n",
    "import numpy as np\n",
    "import pandas as pd\n",
    "from pandas import DataFrame\n",
    "from pandas import concat\n",
    "from matplotlib import pyplot\n",
    "\n",
    "from sklearn.preprocessing import MinMaxScaler\n",
    "from sklearn.preprocessing import LabelEncoder\n",
    "from sklearn.metrics import mean_squared_error\n",
    "\n",
    "from sklearn.preprocessing import StandardScaler\n",
    "from sklearn.model_selection import train_test_split\n",
    "from sklearn.model_selection import KFold\n",
    "from sklearn.model_selection import cross_val_score\n",
    "from sklearn.model_selection import GridSearchCV\n",
    "from sklearn.metrics import classification_report\n",
    "from sklearn.metrics import confusion_matrix\n",
    "from sklearn.metrics import accuracy_score\n",
    "from sklearn.metrics import precision_recall_curve\n",
    "\n",
    "from sklearn.pipeline import Pipeline\n",
    "from sklearn.linear_model import LogisticRegression\n",
    "from sklearn.tree import DecisionTreeClassifier\n",
    "from sklearn.neighbors import KNeighborsClassifier\n",
    "from sklearn.discriminant_analysis import LinearDiscriminantAnalysis\n",
    "from sklearn.naive_bayes import GaussianNB\n",
    "from sklearn.svm import SVC\n",
    "from sklearn.ensemble import AdaBoostClassifier\n",
    "from sklearn.ensemble import GradientBoostingClassifier\n",
    "from sklearn.ensemble import RandomForestClassifier\n",
    "from sklearn.ensemble import ExtraTreesClassifier\n",
    "\n",
    "from sklearn.model_selection import GridSearchCV\n",
    "\n",
    "import pickle"
   ]
  },
  {
   "cell_type": "code",
   "execution_count": 2,
   "metadata": {
    "collapsed": true
   },
   "outputs": [],
   "source": [
    "extra_data=pd.read_csv('new_corrected_data-v1-7-24-2019.csv')# loading extra genereated data genereated by LSTM #prediction_of_1_0007.csv\n",
    "original_data=pd.read_csv('train_Data.csv')#original data"
   ]
  },
  {
   "cell_type": "code",
   "execution_count": 3,
   "metadata": {},
   "outputs": [
    {
     "data": {
      "text/html": [
       "<div>\n",
       "<style scoped>\n",
       "    .dataframe tbody tr th:only-of-type {\n",
       "        vertical-align: middle;\n",
       "    }\n",
       "\n",
       "    .dataframe tbody tr th {\n",
       "        vertical-align: top;\n",
       "    }\n",
       "\n",
       "    .dataframe thead th {\n",
       "        text-align: right;\n",
       "    }\n",
       "</style>\n",
       "<table border=\"1\" class=\"dataframe\">\n",
       "  <thead>\n",
       "    <tr style=\"text-align: right;\">\n",
       "      <th></th>\n",
       "      <th>0</th>\n",
       "      <th>1</th>\n",
       "      <th>2</th>\n",
       "      <th>3</th>\n",
       "      <th>4</th>\n",
       "      <th>5</th>\n",
       "      <th>6</th>\n",
       "      <th>7</th>\n",
       "      <th>8</th>\n",
       "      <th>9</th>\n",
       "    </tr>\n",
       "  </thead>\n",
       "  <tbody>\n",
       "    <tr>\n",
       "      <th>0</th>\n",
       "      <td>8.213179</td>\n",
       "      <td>7.956887</td>\n",
       "      <td>7.985211</td>\n",
       "      <td>7.039815</td>\n",
       "      <td>6.441762</td>\n",
       "      <td>5.528186</td>\n",
       "      <td>6.827155</td>\n",
       "      <td>5.674344</td>\n",
       "      <td>4.052913</td>\n",
       "      <td>1.019331</td>\n",
       "    </tr>\n",
       "    <tr>\n",
       "      <th>1</th>\n",
       "      <td>5.853565</td>\n",
       "      <td>7.448690</td>\n",
       "      <td>6.761450</td>\n",
       "      <td>6.457089</td>\n",
       "      <td>5.100515</td>\n",
       "      <td>7.462279</td>\n",
       "      <td>5.927097</td>\n",
       "      <td>5.725271</td>\n",
       "      <td>1.487844</td>\n",
       "      <td>0.977387</td>\n",
       "    </tr>\n",
       "    <tr>\n",
       "      <th>2</th>\n",
       "      <td>8.039509</td>\n",
       "      <td>7.862047</td>\n",
       "      <td>7.456043</td>\n",
       "      <td>5.872805</td>\n",
       "      <td>5.737973</td>\n",
       "      <td>7.603287</td>\n",
       "      <td>6.512905</td>\n",
       "      <td>5.102243</td>\n",
       "      <td>3.585238</td>\n",
       "      <td>1.002272</td>\n",
       "    </tr>\n",
       "    <tr>\n",
       "      <th>3</th>\n",
       "      <td>8.754688</td>\n",
       "      <td>8.109513</td>\n",
       "      <td>7.553387</td>\n",
       "      <td>5.199614</td>\n",
       "      <td>5.617423</td>\n",
       "      <td>4.840391</td>\n",
       "      <td>6.423357</td>\n",
       "      <td>7.167247</td>\n",
       "      <td>1.502209</td>\n",
       "      <td>0.973343</td>\n",
       "    </tr>\n",
       "    <tr>\n",
       "      <th>4</th>\n",
       "      <td>7.281917</td>\n",
       "      <td>7.234398</td>\n",
       "      <td>6.648367</td>\n",
       "      <td>7.077949</td>\n",
       "      <td>5.915668</td>\n",
       "      <td>7.446934</td>\n",
       "      <td>6.322988</td>\n",
       "      <td>7.176251</td>\n",
       "      <td>2.569568</td>\n",
       "      <td>0.974945</td>\n",
       "    </tr>\n",
       "  </tbody>\n",
       "</table>\n",
       "</div>"
      ],
      "text/plain": [
       "          0         1         2         3         4         5         6  \\\n",
       "0  8.213179  7.956887  7.985211  7.039815  6.441762  5.528186  6.827155   \n",
       "1  5.853565  7.448690  6.761450  6.457089  5.100515  7.462279  5.927097   \n",
       "2  8.039509  7.862047  7.456043  5.872805  5.737973  7.603287  6.512905   \n",
       "3  8.754688  8.109513  7.553387  5.199614  5.617423  4.840391  6.423357   \n",
       "4  7.281917  7.234398  6.648367  7.077949  5.915668  7.446934  6.322988   \n",
       "\n",
       "          7         8         9  \n",
       "0  5.674344  4.052913  1.019331  \n",
       "1  5.725271  1.487844  0.977387  \n",
       "2  5.102243  3.585238  1.002272  \n",
       "3  7.167247  1.502209  0.973343  \n",
       "4  7.176251  2.569568  0.974945  "
      ]
     },
     "execution_count": 3,
     "metadata": {},
     "output_type": "execute_result"
    }
   ],
   "source": [
    "extra_data.head()#displaying LSTM generated data"
   ]
  },
  {
   "cell_type": "code",
   "execution_count": 4,
   "metadata": {},
   "outputs": [
    {
     "name": "stdout",
     "output_type": "stream",
     "text": [
      "(66, 10)\n"
     ]
    }
   ],
   "source": [
    "extra=np.array(extra_data)# getting the original shape\n",
    "print(extra.shape)"
   ]
  },
  {
   "cell_type": "code",
   "execution_count": 5,
   "metadata": {},
   "outputs": [
    {
     "data": {
      "text/plain": [
       "array([8.213179 , 7.9568872, 7.985211 , 7.0398154, 6.441762 , 5.528186 ,\n",
       "       6.8271546, 5.6743436, 4.052913 , 1.0193306])"
      ]
     },
     "execution_count": 5,
     "metadata": {},
     "output_type": "execute_result"
    }
   ],
   "source": [
    "extra[0] # showing first row vector"
   ]
  },
  {
   "cell_type": "code",
   "execution_count": 6,
   "metadata": {
    "collapsed": true
   },
   "outputs": [],
   "source": [
    "# Setting predictions of all generated data to 1 because their outputs are mostly 0.98, 0.99 etc. \n",
    "for i in range(0,len(extra),1):\n",
    "    extra[i][9]=int(1)"
   ]
  },
  {
   "cell_type": "code",
   "execution_count": 7,
   "metadata": {},
   "outputs": [
    {
     "data": {
      "text/plain": [
       "array([[ 8.213179  ,  7.9568872 ,  7.985211  ,  7.0398154 ,  6.441762  ,\n",
       "         5.528186  ,  6.8271546 ,  5.6743436 ,  4.052913  ,  1.        ],\n",
       "       [ 5.853565  ,  7.4486904 ,  6.76145   ,  6.4570885 ,  5.100515  ,\n",
       "         7.4622793 ,  5.9270973 ,  5.7252707 ,  1.487844  ,  1.        ],\n",
       "       [ 8.039509  ,  7.8620467 ,  7.456043  ,  5.8728046 ,  5.737973  ,\n",
       "         7.603287  ,  6.5129046 ,  5.1022425 ,  3.5852385 ,  1.        ],\n",
       "       [ 8.754688  ,  8.109513  ,  7.553387  ,  5.199614  ,  5.6174226 ,\n",
       "         4.840391  ,  6.423357  ,  7.167247  ,  1.5022091 ,  1.        ],\n",
       "       [ 7.2819166 ,  7.2343984 ,  6.6483674 ,  7.0779486 ,  5.9156675 ,\n",
       "         7.4469337 ,  6.3229876 ,  7.176251  ,  2.5695682 ,  1.        ],\n",
       "       [ 7.031058  ,  5.471603  ,  5.0840435 ,  4.63274   ,  4.102884  ,\n",
       "         7.4334903 ,  5.760535  ,  5.462757  ,  2.6551952 ,  1.        ],\n",
       "       [ 6.6641335 ,  7.708604  ,  5.9814434 ,  5.381884  ,  5.354077  ,\n",
       "         5.776764  ,  7.2585    ,  7.628896  ,  2.2477336 ,  1.        ],\n",
       "       [ 6.7284803 ,  6.320571  ,  6.404564  ,  6.0116515 ,  5.105606  ,\n",
       "         7.7188597 ,  6.0155044 ,  4.655752  ,  3.2972255 ,  1.        ],\n",
       "       [ 6.6918597 ,  5.550612  ,  5.789727  ,  4.0761795 ,  3.5573838 ,\n",
       "         6.5521755 ,  5.499937  ,  4.464795  ,  2.4411514 ,  1.        ],\n",
       "       [ 7.6485615 ,  7.5158076 ,  7.1628623 ,  6.525002  ,  5.480464  ,\n",
       "         8.725999  ,  6.443129  ,  6.1873903 ,  2.7901459 ,  1.        ],\n",
       "       [ 4.581347  ,  4.56276   ,  4.4169183 ,  4.800878  ,  3.1124547 ,\n",
       "         4.3416862 ,  5.358286  ,  6.8899174 ,  0.22306404,  1.        ],\n",
       "       [ 7.144927  ,  6.0369167 ,  5.23478   ,  5.405981  ,  4.8663383 ,\n",
       "         5.26791   ,  5.6826982 ,  7.190769  ,  1.47076   ,  1.        ],\n",
       "       [ 7.2732396 ,  4.8432965 ,  6.1477633 ,  7.958383  ,  6.3153524 ,\n",
       "         7.2545414 ,  5.0604215 ,  6.305773  ,  3.2843065 ,  1.        ],\n",
       "       [ 8.725708  ,  9.071434  ,  8.337964  ,  6.562383  ,  7.362742  ,\n",
       "         5.351667  ,  5.9887757 ,  6.3653293 ,  1.9591302 ,  1.        ],\n",
       "       [ 9.001492  ,  7.3293757 ,  7.1348276 ,  4.8400583 ,  6.35808   ,\n",
       "         5.880267  ,  4.7818856 ,  6.2263327 ,  1.7447461 ,  1.        ],\n",
       "       [10.305737  ,  7.240445  ,  7.2471294 ,  4.222257  ,  5.2655053 ,\n",
       "         5.7102795 ,  6.6958456 ,  4.614238  ,  4.3952837 ,  1.        ],\n",
       "       [ 7.0672626 ,  5.6183734 ,  5.9513326 ,  5.332378  ,  4.9472456 ,\n",
       "         8.833834  ,  6.127413  ,  5.511308  ,  4.519174  ,  1.        ],\n",
       "       [ 6.3168364 ,  7.118066  ,  6.126044  ,  3.9564402 ,  4.928099  ,\n",
       "         6.3975034 ,  5.442778  ,  5.0899796 ,  2.1612697 ,  1.        ],\n",
       "       [ 6.6310725 ,  4.8683095 ,  5.1016974 ,  7.4679494 ,  5.5575037 ,\n",
       "         8.153801  ,  5.3896537 ,  7.5273027 ,  3.0839348 ,  1.        ],\n",
       "       [ 6.9489727 ,  7.3865376 ,  6.044725  ,  6.8316665 ,  6.079479  ,\n",
       "         9.61445   ,  6.949502  ,  6.747092  ,  3.6070411 ,  1.        ],\n",
       "       [ 8.055113  ,  7.39204   ,  6.9500165 ,  6.600377  ,  6.2582297 ,\n",
       "         8.36516   ,  5.582121  ,  6.6555314 ,  2.2472618 ,  1.        ],\n",
       "       [ 6.1207666 ,  7.2885947 ,  7.278633  ,  6.809379  ,  4.8661704 ,\n",
       "         6.420632  ,  5.7861886 ,  5.8599243 ,  0.86171937,  1.        ],\n",
       "       [ 7.582091  ,  6.115883  ,  5.9842353 ,  6.569675  ,  5.190842  ,\n",
       "         7.2122245 ,  6.7584987 ,  6.562623  ,  3.4747272 ,  1.        ],\n",
       "       [ 8.071218  ,  7.212498  ,  7.56524   ,  6.7371907 ,  6.692701  ,\n",
       "         5.496038  ,  5.9593    ,  6.35555   ,  3.5235531 ,  1.        ],\n",
       "       [ 5.91533   ,  4.8995295 ,  4.8608828 ,  7.4980345 ,  5.284542  ,\n",
       "         5.9599543 ,  6.5173907 ,  7.560302  ,  3.4019997 ,  1.        ],\n",
       "       [ 9.675254  ,  7.7157784 ,  7.831975  ,  6.832518  ,  6.039109  ,\n",
       "         3.6603684 ,  6.9038563 ,  7.0894165 ,  1.5408659 ,  1.        ],\n",
       "       [ 5.520543  ,  4.609247  ,  4.4505634 ,  5.064595  ,  3.5179675 ,\n",
       "         5.370603  ,  5.326857  ,  6.3479943 ,  1.4186279 ,  1.        ],\n",
       "       [ 7.12477   ,  6.466266  ,  6.596835  ,  7.769397  ,  5.746222  ,\n",
       "         4.574483  ,  7.0850472 ,  7.774102  ,  1.877448  ,  1.        ],\n",
       "       [ 5.997753  ,  5.367971  ,  4.789088  ,  5.872107  ,  4.645828  ,\n",
       "         7.331009  ,  6.2593665 ,  6.359275  ,  3.6323874 ,  1.        ],\n",
       "       [ 6.347599  ,  7.7186294 ,  7.260466  ,  7.445956  ,  6.430082  ,\n",
       "         7.367857  ,  5.6050572 ,  7.0649834 ,  1.1598374 ,  1.        ],\n",
       "       [ 8.419842  ,  5.778619  ,  6.783641  ,  4.67234   ,  4.32625   ,\n",
       "         6.335027  ,  5.540066  ,  5.229543  ,  2.9038544 ,  1.        ],\n",
       "       [ 6.7906694 ,  7.621199  ,  7.3675046 ,  7.963776  ,  6.087644  ,\n",
       "         6.4200835 ,  6.6242933 ,  6.721484  ,  2.722153  ,  1.        ],\n",
       "       [ 8.3688755 ,  5.9754734 ,  5.818081  ,  2.8290184 ,  4.639922  ,\n",
       "         8.57996   ,  5.1664805 ,  4.727407  ,  3.9062228 ,  1.        ],\n",
       "       [ 7.6920643 ,  5.517021  ,  6.174518  ,  6.259572  ,  4.406486  ,\n",
       "         7.1854024 ,  6.6931367 ,  6.2291784 ,  3.231341  ,  1.        ],\n",
       "       [ 7.2272916 ,  5.5354557 ,  6.65289   ,  5.2833157 ,  4.415994  ,\n",
       "         5.5471654 ,  5.3311377 ,  5.400393  ,  1.6567298 ,  1.        ],\n",
       "       [ 8.450605  ,  6.755219  ,  7.505512  ,  6.325606  ,  5.9858265 ,\n",
       "         8.803856  ,  6.1321816 ,  5.6625786 ,  3.9278522 ,  1.        ],\n",
       "       [ 9.533435  ,  6.415725  ,  6.5259433 ,  4.201843  ,  4.972963  ,\n",
       "         7.0136504 ,  5.3599324 ,  5.86109   ,  2.8907297 ,  1.        ],\n",
       "       [ 7.688813  ,  7.714385  ,  7.137428  ,  6.169188  ,  5.7031317 ,\n",
       "         6.0575013 ,  6.0124955 ,  5.247891  ,  1.7522311 ,  1.        ],\n",
       "       [ 9.429053  ,  6.2665114 ,  7.305933  ,  4.908617  ,  4.9142675 ,\n",
       "         7.280049  ,  5.568156  ,  3.4813292 ,  4.350938  ,  1.        ],\n",
       "       [ 8.866306  ,  7.545606  ,  6.335516  ,  3.1619046 ,  5.628977  ,\n",
       "         1.987837  ,  5.981161  ,  7.6549377 ,  1.8615779 ,  1.        ],\n",
       "       [ 5.635245  ,  4.9133677 ,  5.20383   ,  5.554817  ,  4.8016863 ,\n",
       "        10.133292  ,  4.8693824 ,  5.7140007 ,  2.5997088 ,  1.        ],\n",
       "       [ 7.4685745 ,  6.8056855 ,  6.2667527 ,  5.493675  ,  5.5151296 ,\n",
       "         8.018699  ,  6.104246  ,  5.625017  ,  3.356494  ,  1.        ],\n",
       "       [ 8.812164  ,  6.700743  ,  6.851382  ,  5.5877357 ,  4.740376  ,\n",
       "         3.1414018 ,  6.7247987 ,  6.090646  ,  1.4156091 ,  1.        ],\n",
       "       [ 8.5317955 ,  5.084509  ,  5.811329  ,  5.213563  ,  4.7733026 ,\n",
       "         9.941483  ,  5.3352494 ,  4.173867  ,  4.062661  ,  1.        ],\n",
       "       [ 8.761829  ,  7.798665  ,  7.246555  ,  5.445716  ,  5.7439456 ,\n",
       "         8.706432  ,  5.787851  ,  5.3932724 ,  3.069108  ,  1.        ],\n",
       "       [ 7.300908  ,  6.206158  ,  6.349024  ,  7.608766  ,  5.669272  ,\n",
       "         6.5214686 ,  5.8915095 ,  6.927465  ,  1.9921339 ,  1.        ],\n",
       "       [ 5.892102  ,  6.7037334 ,  5.49503   ,  5.702306  ,  5.207267  ,\n",
       "         7.413178  ,  6.5002193 ,  6.86728   ,  3.1208558 ,  1.        ],\n",
       "       [ 8.665047  ,  7.9722433 ,  7.3438625 ,  4.356453  ,  6.6447854 ,\n",
       "         9.773468  ,  5.102734  ,  4.9406137 ,  4.3574834 ,  1.        ],\n",
       "       [ 7.6105094 ,  5.4299583 ,  7.216799  ,  6.4921227 ,  5.3113112 ,\n",
       "         7.018145  ,  3.9678986 ,  5.331289  ,  1.908749  ,  1.        ],\n",
       "       [ 8.060275  ,  8.229871  ,  7.053888  ,  5.175733  ,  6.7320433 ,\n",
       "         7.644594  ,  5.5227923 ,  6.0126834 ,  3.0819473 ,  1.        ],\n",
       "       [ 6.8023024 ,  8.005332  ,  7.444434  ,  7.984912  ,  6.753202  ,\n",
       "         5.4400406 ,  6.3145084 ,  7.462138  ,  2.4611886 ,  1.        ],\n",
       "       [ 7.3465414 ,  7.9942904 ,  7.7801056 ,  4.4844565 ,  4.862227  ,\n",
       "         7.690163  ,  6.216979  ,  4.5308833 ,  3.413708  ,  1.        ],\n",
       "       [ 8.1971245 ,  9.344717  ,  7.6544056 ,  6.471684  ,  7.454697  ,\n",
       "         6.781454  ,  6.5849037 ,  6.274777  ,  3.4555156 ,  1.        ],\n",
       "       [ 8.29269   ,  6.470343  ,  6.1444902 ,  3.5648618 ,  4.8361382 ,\n",
       "         6.7566805 ,  4.958361  ,  5.2143655 ,  1.7673626 ,  1.        ],\n",
       "       [ 9.486     ,  5.549234  ,  7.1013145 ,  4.1836205 ,  4.8300123 ,\n",
       "         6.7713046 ,  5.3006234 ,  4.5045915 ,  3.9497132 ,  1.        ],\n",
       "       [ 7.0477886 ,  6.7285666 ,  6.634121  ,  6.2858486 ,  5.3432093 ,\n",
       "         8.06364   ,  5.9343114 ,  5.413866  ,  3.4786196 ,  1.        ],\n",
       "       [ 7.8267574 ,  7.2861385 ,  6.75842   ,  4.1517315 ,  5.7085037 ,\n",
       "         3.4410117 ,  4.9695873 ,  6.5390444 ,  0.8477187 ,  1.        ],\n",
       "       [ 8.612447  ,  8.024462  ,  7.5920057 ,  6.414612  ,  7.083253  ,\n",
       "         7.4216366 ,  5.523187  ,  5.948418  ,  2.632242  ,  1.        ],\n",
       "       [ 9.376755  ,  8.119541  ,  7.552989  ,  3.151022  ,  5.5077934 ,\n",
       "         5.284523  ,  5.4776025 ,  5.3273234 ,  1.9708993 ,  1.        ],\n",
       "       [ 5.8412485 ,  4.9769325 ,  5.50722   ,  7.567022  ,  4.9288664 ,\n",
       "         6.037672  ,  6.1598616 ,  7.689635  ,  2.0596144 ,  1.        ],\n",
       "       [ 7.0437737 ,  6.0767455 ,  6.2092533 ,  4.8008933 ,  4.1269746 ,\n",
       "         7.0570073 ,  5.316941  ,  5.2155824 ,  1.3379824 ,  1.        ],\n",
       "       [ 8.327272  ,  6.5916023 ,  6.7811017 ,  6.280626  ,  5.240161  ,\n",
       "         5.83032   ,  6.7327223 ,  7.047494  ,  2.8944595 ,  1.        ],\n",
       "       [ 8.819145  ,  5.2745123 ,  6.9613476 ,  4.6320586 ,  4.8182125 ,\n",
       "         7.5983763 ,  4.559739  ,  5.386434  ,  2.470482  ,  1.        ],\n",
       "       [ 6.935893  ,  6.6999774 ,  6.192753  ,  6.764738  ,  5.4906693 ,\n",
       "         7.2840843 ,  6.5177145 ,  6.25401   ,  3.3988233 ,  1.        ],\n",
       "       [ 4.8029304 ,  5.111576  ,  4.932049  ,  5.815566  ,  3.8145835 ,\n",
       "         7.119923  ,  5.225298  ,  6.3452954 ,  0.71933895,  1.        ],\n",
       "       [ 5.702873  ,  6.8985686 ,  5.8852606 ,  5.9616413 ,  5.6765347 ,\n",
       "         8.744481  ,  4.923932  ,  6.3162923 ,  1.9806522 ,  1.        ]])"
      ]
     },
     "execution_count": 7,
     "metadata": {},
     "output_type": "execute_result"
    }
   ],
   "source": [
    "extra #showing LSTM generated extra data ready for training"
   ]
  },
  {
   "cell_type": "code",
   "execution_count": 8,
   "metadata": {},
   "outputs": [
    {
     "data": {
      "text/html": [
       "<div>\n",
       "<style scoped>\n",
       "    .dataframe tbody tr th:only-of-type {\n",
       "        vertical-align: middle;\n",
       "    }\n",
       "\n",
       "    .dataframe tbody tr th {\n",
       "        vertical-align: top;\n",
       "    }\n",
       "\n",
       "    .dataframe thead th {\n",
       "        text-align: right;\n",
       "    }\n",
       "</style>\n",
       "<table border=\"1\" class=\"dataframe\">\n",
       "  <thead>\n",
       "    <tr style=\"text-align: right;\">\n",
       "      <th></th>\n",
       "      <th>0</th>\n",
       "      <th>1</th>\n",
       "      <th>2</th>\n",
       "      <th>3</th>\n",
       "      <th>4</th>\n",
       "      <th>5</th>\n",
       "      <th>6</th>\n",
       "      <th>7</th>\n",
       "      <th>8</th>\n",
       "      <th>9</th>\n",
       "    </tr>\n",
       "  </thead>\n",
       "  <tbody>\n",
       "    <tr>\n",
       "      <th>0</th>\n",
       "      <td>3.0</td>\n",
       "      <td>5.0</td>\n",
       "      <td>7.0</td>\n",
       "      <td>8.0</td>\n",
       "      <td>8.0</td>\n",
       "      <td>9.0</td>\n",
       "      <td>7.0</td>\n",
       "      <td>10.0</td>\n",
       "      <td>7.0</td>\n",
       "      <td>1.0</td>\n",
       "    </tr>\n",
       "    <tr>\n",
       "      <th>1</th>\n",
       "      <td>5.0</td>\n",
       "      <td>1.0</td>\n",
       "      <td>1.0</td>\n",
       "      <td>1.0</td>\n",
       "      <td>1.0</td>\n",
       "      <td>1.0</td>\n",
       "      <td>3.0</td>\n",
       "      <td>1.0</td>\n",
       "      <td>1.0</td>\n",
       "      <td>0.0</td>\n",
       "    </tr>\n",
       "    <tr>\n",
       "      <th>2</th>\n",
       "      <td>4.0</td>\n",
       "      <td>10.0</td>\n",
       "      <td>4.0</td>\n",
       "      <td>7.0</td>\n",
       "      <td>3.0</td>\n",
       "      <td>10.0</td>\n",
       "      <td>9.0</td>\n",
       "      <td>10.0</td>\n",
       "      <td>1.0</td>\n",
       "      <td>1.0</td>\n",
       "    </tr>\n",
       "    <tr>\n",
       "      <th>3</th>\n",
       "      <td>2.0</td>\n",
       "      <td>1.0</td>\n",
       "      <td>1.0</td>\n",
       "      <td>2.0</td>\n",
       "      <td>2.0</td>\n",
       "      <td>1.0</td>\n",
       "      <td>3.0</td>\n",
       "      <td>1.0</td>\n",
       "      <td>1.0</td>\n",
       "      <td>0.0</td>\n",
       "    </tr>\n",
       "    <tr>\n",
       "      <th>4</th>\n",
       "      <td>6.0</td>\n",
       "      <td>1.0</td>\n",
       "      <td>3.0</td>\n",
       "      <td>1.0</td>\n",
       "      <td>2.0</td>\n",
       "      <td>1.0</td>\n",
       "      <td>3.0</td>\n",
       "      <td>1.0</td>\n",
       "      <td>1.0</td>\n",
       "      <td>0.0</td>\n",
       "    </tr>\n",
       "  </tbody>\n",
       "</table>\n",
       "</div>"
      ],
      "text/plain": [
       "     0     1    2    3    4     5    6     7    8    9\n",
       "0  3.0   5.0  7.0  8.0  8.0   9.0  7.0  10.0  7.0  1.0\n",
       "1  5.0   1.0  1.0  1.0  1.0   1.0  3.0   1.0  1.0  0.0\n",
       "2  4.0  10.0  4.0  7.0  3.0  10.0  9.0  10.0  1.0  1.0\n",
       "3  2.0   1.0  1.0  2.0  2.0   1.0  3.0   1.0  1.0  0.0\n",
       "4  6.0   1.0  3.0  1.0  2.0   1.0  3.0   1.0  1.0  0.0"
      ]
     },
     "execution_count": 8,
     "metadata": {},
     "output_type": "execute_result"
    }
   ],
   "source": [
    "original_data.head() #showing original data"
   ]
  },
  {
   "cell_type": "code",
   "execution_count": null,
   "metadata": {
    "collapsed": true
   },
   "outputs": [],
   "source": []
  },
  {
   "cell_type": "code",
   "execution_count": 9,
   "metadata": {
    "collapsed": true
   },
   "outputs": [],
   "source": [
    "#loading data values from original dataset(Pima)\n",
    "val=original_data.values"
   ]
  },
  {
   "cell_type": "code",
   "execution_count": 10,
   "metadata": {
    "collapsed": true
   },
   "outputs": [],
   "source": [
    "X=val[:,:9].astype(float)# getting the feature values\n",
    "Y=val[:,9].astype(int)# getting prediction"
   ]
  },
  {
   "cell_type": "code",
   "execution_count": 11,
   "metadata": {
    "collapsed": true
   },
   "outputs": [],
   "source": [
    "#extra_X denotes the extra training data generated by LSTM \n",
    "extra_X=extra[:,:9].astype(float)\n",
    "\n",
    "#extra_Y denotes extra training prediction data for training the algorithm\n",
    "extra_Y=extra[:,9].astype(int)"
   ]
  },
  {
   "cell_type": "code",
   "execution_count": 12,
   "metadata": {
    "collapsed": true
   },
   "outputs": [],
   "source": [
    "# extrain=original training data + LSTM generated training data\n",
    "\n",
    "# eytrain=original training prediction + LSTM generated\n",
    "\n",
    "extrain=np.concatenate((X,extra_X),axis=0)\n",
    "eytrain=np.concatenate((Y,extra_Y),axis=0)"
   ]
  },
  {
   "cell_type": "code",
   "execution_count": 13,
   "metadata": {},
   "outputs": [
    {
     "name": "stdout",
     "output_type": "stream",
     "text": [
      "(544, 9)\n",
      "(544,)\n"
     ]
    }
   ],
   "source": [
    "print(extrain.shape)\n",
    "print(eytrain.shape)"
   ]
  },
  {
   "cell_type": "code",
   "execution_count": 14,
   "metadata": {
    "collapsed": true
   },
   "outputs": [],
   "source": [
    "test_Data=pd.read_csv('test_Data.csv')"
   ]
  },
  {
   "cell_type": "code",
   "execution_count": 15,
   "metadata": {
    "collapsed": true
   },
   "outputs": [],
   "source": [
    "test_Data=np.array(test_Data)"
   ]
  },
  {
   "cell_type": "code",
   "execution_count": 16,
   "metadata": {},
   "outputs": [
    {
     "data": {
      "text/plain": [
       "(205, 10)"
      ]
     },
     "execution_count": 16,
     "metadata": {},
     "output_type": "execute_result"
    }
   ],
   "source": [
    "test_Data.shape"
   ]
  },
  {
   "cell_type": "code",
   "execution_count": 17,
   "metadata": {
    "collapsed": true
   },
   "outputs": [],
   "source": [
    "X_test=test_Data[:,:9].astype(float)\n",
    "Y_test=test_Data[:,9].astype(int)"
   ]
  },
  {
   "cell_type": "code",
   "execution_count": null,
   "metadata": {
    "collapsed": true
   },
   "outputs": [],
   "source": []
  },
  {
   "cell_type": "code",
   "execution_count": 18,
   "metadata": {
    "collapsed": true
   },
   "outputs": [],
   "source": [
    "def svc_param_selection(X, y, nfolds):\n",
    "    Cs = [0.0001,0.001, 0.01, 0.1, 1, 10]\n",
    "    gammas = [0.0001,0.001, 0.01, 0.1, 1,10]\n",
    "    param_grid = {'C': Cs, 'gamma' : gammas}\n",
    "    grid_search = GridSearchCV(SVC(kernel='rbf',probability=True), param_grid, cv=nfolds)\n",
    "    grid_search.fit(X, y)\n",
    "    grid_search.best_params_\n",
    "    return grid_search.best_estimator_"
   ]
  },
  {
   "cell_type": "code",
   "execution_count": 19,
   "metadata": {
    "collapsed": true
   },
   "outputs": [],
   "source": [
    "# setting seed =7 to produce same results over and over again, it was maintained during different experiments \n",
    "seed=19\n"
   ]
  },
  {
   "cell_type": "code",
   "execution_count": 20,
   "metadata": {},
   "outputs": [
    {
     "name": "stderr",
     "output_type": "stream",
     "text": [
      "G:\\newage2\\envs\\tensorflow\\lib\\site-packages\\sklearn\\model_selection\\_search.py:813: DeprecationWarning: The default of the `iid` parameter will change from True to False in version 0.22 and will be removed in 0.24. This will change numeric results when test-set sizes are unequal.\n",
      "  DeprecationWarning)\n"
     ]
    }
   ],
   "source": [
    "# first rbf_svc for training on just the original training data\n",
    "#rbf_svc = SVC(kernel='rbf', gamma=0.00001, C=1000,probability=True).fit(X_train,Y_train)\n",
    "rbf_svc=svc_param_selection(X,Y,5)\n",
    "\n",
    "# secondly rbf_svc_extra for training on original+LSTM\n",
    "rbf_svc_extra = svc_param_selection(extrain,eytrain,5)"
   ]
  },
  {
   "cell_type": "code",
   "execution_count": 21,
   "metadata": {},
   "outputs": [
    {
     "data": {
      "text/plain": [
       "SVC(C=1, cache_size=200, class_weight=None, coef0=0.0,\n",
       "    decision_function_shape='ovr', degree=3, gamma=0.01, kernel='rbf',\n",
       "    max_iter=-1, probability=True, random_state=None, shrinking=True, tol=0.001,\n",
       "    verbose=False)"
      ]
     },
     "execution_count": 21,
     "metadata": {},
     "output_type": "execute_result"
    }
   ],
   "source": [
    "\n",
    "# fitting the data\n",
    "rbf_svc.fit(X,Y)\n",
    "rbf_svc_extra.fit(extrain,eytrain)"
   ]
  },
  {
   "cell_type": "code",
   "execution_count": 22,
   "metadata": {},
   "outputs": [
    {
     "data": {
      "text/plain": [
       "(205, 9)"
      ]
     },
     "execution_count": 22,
     "metadata": {},
     "output_type": "execute_result"
    }
   ],
   "source": [
    "# loading the validation dataset previously set up by validation split(this data was not included in any training procedure)\n",
    "Prediction_data=X_test\n",
    "\n",
    "#producing the shape\n",
    "Prediction_data.shape"
   ]
  },
  {
   "cell_type": "code",
   "execution_count": 23,
   "metadata": {
    "collapsed": true
   },
   "outputs": [],
   "source": [
    "# making predictions on validation dataset using svc trained only on original training data\n",
    "prediction_on_real_dataset=rbf_svc.predict_proba(Prediction_data)\n",
    "\n",
    "#saving probabilities\n",
    "predictions=rbf_svc.predict(Prediction_data)\n",
    "\n",
    "# making predictions on validation dataset using svc trained on original training data + LSTM generated data\n",
    "prediction_on_real_dataset_adding_extra=rbf_svc_extra.predict_proba(Prediction_data)\n",
    "#saving probabilities\n",
    "predictions_extra=rbf_svc_extra.predict(Prediction_data)"
   ]
  },
  {
   "cell_type": "code",
   "execution_count": 24,
   "metadata": {},
   "outputs": [
    {
     "name": "stdout",
     "output_type": "stream",
     "text": [
      "205\n",
      "205\n"
     ]
    }
   ],
   "source": [
    "print(len(prediction_on_real_dataset))\n",
    "\n",
    "print(len(prediction_on_real_dataset_adding_extra))"
   ]
  },
  {
   "cell_type": "code",
   "execution_count": 25,
   "metadata": {
    "collapsed": true
   },
   "outputs": [],
   "source": [
    "from sklearn.metrics import f1_score\n",
    "from sklearn.metrics import auc\n",
    "from sklearn.metrics import average_precision_score\n",
    "\n",
    "from sklearn.metrics import roc_curve, roc_auc_score"
   ]
  },
  {
   "cell_type": "code",
   "execution_count": 26,
   "metadata": {},
   "outputs": [
    {
     "data": {
      "text/plain": [
       "0.9503546099290779"
      ]
     },
     "execution_count": 26,
     "metadata": {},
     "output_type": "execute_result"
    }
   ],
   "source": [
    "f1_score(Y_test,predictions)#without_extra"
   ]
  },
  {
   "cell_type": "code",
   "execution_count": 27,
   "metadata": {},
   "outputs": [
    {
     "data": {
      "text/plain": [
       "0.943661971830986"
      ]
     },
     "execution_count": 27,
     "metadata": {},
     "output_type": "execute_result"
    }
   ],
   "source": [
    "f1_score(Y_test,predictions_extra)#with_extra"
   ]
  },
  {
   "cell_type": "code",
   "execution_count": 28,
   "metadata": {},
   "outputs": [
    {
     "data": {
      "text/plain": [
       "array([0.99128677, 0.00871323])"
      ]
     },
     "execution_count": 28,
     "metadata": {},
     "output_type": "execute_result"
    }
   ],
   "source": [
    "prediction_on_real_dataset[0]# probabilities of 2 class"
   ]
  },
  {
   "cell_type": "code",
   "execution_count": 29,
   "metadata": {},
   "outputs": [
    {
     "name": "stdout",
     "output_type": "stream",
     "text": [
      "Without extra:  0.9874409617861744\n",
      "With extra:  0.9818591670244741\n"
     ]
    }
   ],
   "source": [
    "# getting AUC score for classifier trained on only original data\n",
    "fpr, tpr, thres=roc_curve(Y_test,prediction_on_real_dataset[:,1],pos_label=1)\n",
    "\n",
    "#getting AUC score for classifier trained on original + LSTM generated data\n",
    "efpr, etpr, ethres=roc_curve(Y_test,prediction_on_real_dataset_adding_extra[:,1],pos_label=1)\n",
    "\n",
    "with_=auc(fpr,tpr)\n",
    "without_=auc(efpr,etpr)\n",
    "print('Without extra: ',auc(fpr,tpr))\n",
    "\n",
    "print('With extra: ',auc(efpr,etpr))"
   ]
  },
  {
   "cell_type": "code",
   "execution_count": 30,
   "metadata": {},
   "outputs": [
    {
     "data": {
      "image/png": "[encoded data removed]",
      "text/plain": [
       "<matplotlib.figure.Figure at 0x1ee4b329e8>"
      ]
     },
     "metadata": {},
     "output_type": "display_data"
    }
   ],
   "source": [
    "# plotting data ( for minority predictions , here minority class = 1)\n",
    "\n",
    "Y_probs=prediction_on_real_dataset[:,1]\n",
    "fpr,tpr,_=roc_curve(Y_test,Y_probs)\n",
    "\n",
    "Y_probs_extra=prediction_on_real_dataset_adding_extra[:,1]\n",
    "efpr,etpr,_=roc_curve(Y_test,Y_probs_extra)\n",
    "\n",
    "original=auc(fpr,tpr)\n",
    "lstm_with_extra=auc(efpr,etpr)\n",
    "\n",
    "original=original.astype(float)\n",
    "lstm_with_extra=lstm_with_extra.astype(float)\n",
    "\n",
    "\n",
    "pyplot.clf()\n",
    "pyplot.plot(fpr, tpr,label='original (AUC : %5.4f)'%(with_),linewidth='1.2')\n",
    "pyplot.plot(efpr,etpr,label='LSTM generated+original(AUC : %5.4f)'%(without_),linewidth='1.2')\n",
    "pyplot.xlabel('FPR')\n",
    "pyplot.ylabel('TPR')\n",
    "pyplot.title('ROC curve ')\n",
    "pyplot.legend(loc=4)\n",
    "pyplot.savefig('ROC curve .png',dpi=500)\n",
    "pyplot.show()"
   ]
  },
  {
   "cell_type": "code",
   "execution_count": 34,
   "metadata": {},
   "outputs": [
    {
     "data": {
      "image/png": "[encoded data removed]",
      "text/plain": [
       "<matplotlib.figure.Figure at 0x1ee4b32438>"
      ]
     },
     "metadata": {},
     "output_type": "display_data"
    }
   ],
   "source": [
    "Y_probs=prediction_on_real_dataset[:,0]\n",
    "fpr,tpr,_=roc_curve(Y_test,Y_probs)\n",
    "\n",
    "Y_probs_extra=prediction_on_real_dataset_adding_extra[:,0]\n",
    "efpr,etpr,_=roc_curve(Y_test,Y_probs_extra)\n",
    "\n",
    "pyplot.clf()\n",
    "pyplot.plot(fpr, tpr,label='original')\n",
    "pyplot.plot(efpr,etpr,label='LSTM generated')\n",
    "pyplot.xlabel('FPR')\n",
    "pyplot.ylabel('TPR(recall)')\n",
    "pyplot.title('ROC curve')\n",
    "pyplot.legend(loc=2)\n",
    "pyplot.show()"
   ]
  },
  {
   "cell_type": "code",
   "execution_count": 35,
   "metadata": {},
   "outputs": [
    {
     "data": {
      "text/plain": [
       "array([[0.99128677, 0.00871323],\n",
       "       [0.99211214, 0.00788786],\n",
       "       [0.98544575, 0.01455425],\n",
       "       [0.98263859, 0.01736141],\n",
       "       [0.99395226, 0.00604774],\n",
       "       [0.99416386, 0.00583614],\n",
       "       [0.98401158, 0.01598842],\n",
       "       [0.00802268, 0.99197732],\n",
       "       [0.98697251, 0.01302749],\n",
       "       [0.01572562, 0.98427438],\n",
       "       [0.01064872, 0.98935128],\n",
       "       [0.99328464, 0.00671536],\n",
       "       [0.02082307, 0.97917693],\n",
       "       [0.04823906, 0.95176094],\n",
       "       [0.99211214, 0.00788786],\n",
       "       [0.01810603, 0.98189397],\n",
       "       [0.01320583, 0.98679417],\n",
       "       [0.00784905, 0.99215095],\n",
       "       [0.99070501, 0.00929499],\n",
       "       [0.99416386, 0.00583614],\n",
       "       [0.99473068, 0.00526932],\n",
       "       [0.02232249, 0.97767751],\n",
       "       [0.01169743, 0.98830257],\n",
       "       [0.9936508 , 0.0063492 ],\n",
       "       [0.99286805, 0.00713195],\n",
       "       [0.99263696, 0.00736304],\n",
       "       [0.01332826, 0.98667174],\n",
       "       [0.00709231, 0.99290769],\n",
       "       [0.99440301, 0.00559699],\n",
       "       [0.01514797, 0.98485203],\n",
       "       [0.97232278, 0.02767722],\n",
       "       [0.99286805, 0.00713195],\n",
       "       [0.02365874, 0.97634126],\n",
       "       [0.99440301, 0.00559699],\n",
       "       [0.99304494, 0.00695506],\n",
       "       [0.99072792, 0.00927208],\n",
       "       [0.98836874, 0.01163126],\n",
       "       [0.99128677, 0.00871323],\n",
       "       [0.99360761, 0.00639239],\n",
       "       [0.99396799, 0.00603201],\n",
       "       [0.01014868, 0.98985132],\n",
       "       [0.01138835, 0.98861165],\n",
       "       [0.98383593, 0.01616407],\n",
       "       [0.97507868, 0.02492132],\n",
       "       [0.9942744 , 0.0057256 ],\n",
       "       [0.0104465 , 0.9895535 ],\n",
       "       [0.01062303, 0.98937697],\n",
       "       [0.99304494, 0.00695506],\n",
       "       [0.01734291, 0.98265709],\n",
       "       [0.02287917, 0.97712083],\n",
       "       [0.99122031, 0.00877969],\n",
       "       [0.92890836, 0.07109164],\n",
       "       [0.99365263, 0.00634737],\n",
       "       [0.01705759, 0.98294241],\n",
       "       [0.98989237, 0.01010763],\n",
       "       [0.01380932, 0.98619068],\n",
       "       [0.99172667, 0.00827333],\n",
       "       [0.40020221, 0.59979779],\n",
       "       [0.90145509, 0.09854491],\n",
       "       [0.99328464, 0.00671536],\n",
       "       [0.99211214, 0.00788786],\n",
       "       [0.99360761, 0.00639239],\n",
       "       [0.00902102, 0.99097898],\n",
       "       [0.99217069, 0.00782931],\n",
       "       [0.00673942, 0.99326058],\n",
       "       [0.01657899, 0.98342101],\n",
       "       [0.9888468 , 0.0111532 ],\n",
       "       [0.99223003, 0.00776997],\n",
       "       [0.99462795, 0.00537205],\n",
       "       [0.97856541, 0.02143459],\n",
       "       [0.9536355 , 0.0463645 ],\n",
       "       [0.99211214, 0.00788786],\n",
       "       [0.95128228, 0.04871772],\n",
       "       [0.98921811, 0.01078189],\n",
       "       [0.14339316, 0.85660684],\n",
       "       [0.99149212, 0.00850788],\n",
       "       [0.0072781 , 0.9927219 ],\n",
       "       [0.04640297, 0.95359703],\n",
       "       [0.00869969, 0.99130031],\n",
       "       [0.99018787, 0.00981213],\n",
       "       [0.99286805, 0.00713195],\n",
       "       [0.99060449, 0.00939551],\n",
       "       [0.9936508 , 0.0063492 ],\n",
       "       [0.02556756, 0.97443244],\n",
       "       [0.01311411, 0.98688589],\n",
       "       [0.99190684, 0.00809316],\n",
       "       [0.99304494, 0.00695506],\n",
       "       [0.02027912, 0.97972088],\n",
       "       [0.00673659, 0.99326341],\n",
       "       [0.99076755, 0.00923245],\n",
       "       [0.99444231, 0.00555769],\n",
       "       [0.00617177, 0.99382823],\n",
       "       [0.99128677, 0.00871323],\n",
       "       [0.99179883, 0.00820117],\n",
       "       [0.95703048, 0.04296952],\n",
       "       [0.01887748, 0.98112252],\n",
       "       [0.99060449, 0.00939551],\n",
       "       [0.9703815 , 0.0296185 ],\n",
       "       [0.01094137, 0.98905863],\n",
       "       [0.01246279, 0.98753721],\n",
       "       [0.00874181, 0.99125819],\n",
       "       [0.99473068, 0.00526932],\n",
       "       [0.8808643 , 0.1191357 ],\n",
       "       [0.01054364, 0.98945636],\n",
       "       [0.99407561, 0.00592439],\n",
       "       [0.99211214, 0.00788786],\n",
       "       [0.02599572, 0.97400428],\n",
       "       [0.98981173, 0.01018827],\n",
       "       [0.99328464, 0.00671536],\n",
       "       [0.99304494, 0.00695506],\n",
       "       [0.01486925, 0.98513075],\n",
       "       [0.99038281, 0.00961719],\n",
       "       [0.01306668, 0.98693332],\n",
       "       [0.01909069, 0.98090931],\n",
       "       [0.99286805, 0.00713195],\n",
       "       [0.9942744 , 0.0057256 ],\n",
       "       [0.99128677, 0.00871323],\n",
       "       [0.98245178, 0.01754822],\n",
       "       [0.99462795, 0.00537205],\n",
       "       [0.99416386, 0.00583614],\n",
       "       [0.01054364, 0.98945636],\n",
       "       [0.00873683, 0.99126317],\n",
       "       [0.04855783, 0.95144217],\n",
       "       [0.68989509, 0.31010491],\n",
       "       [0.0132857 , 0.9867143 ],\n",
       "       [0.99462795, 0.00537205],\n",
       "       [0.9926247 , 0.0073753 ],\n",
       "       [0.02414569, 0.97585431],\n",
       "       [0.99388832, 0.00611168],\n",
       "       [0.99070501, 0.00929499],\n",
       "       [0.99122031, 0.00877969],\n",
       "       [0.99105852, 0.00894148],\n",
       "       [0.99128677, 0.00871323],\n",
       "       [0.99076755, 0.00923245],\n",
       "       [0.99407561, 0.00592439],\n",
       "       [0.98972148, 0.01027852],\n",
       "       [0.99152283, 0.00847717],\n",
       "       [0.99304494, 0.00695506],\n",
       "       [0.0411759 , 0.9588241 ],\n",
       "       [0.99304494, 0.00695506],\n",
       "       [0.0129939 , 0.9870061 ],\n",
       "       [0.99283701, 0.00716299],\n",
       "       [0.99038281, 0.00961719],\n",
       "       [0.01567903, 0.98432097],\n",
       "       [0.15240811, 0.84759189],\n",
       "       [0.19137292, 0.80862708],\n",
       "       [0.99060449, 0.00939551],\n",
       "       [0.99235176, 0.00764824],\n",
       "       [0.99462795, 0.00537205],\n",
       "       [0.0105226 , 0.9894774 ],\n",
       "       [0.39031878, 0.60968122],\n",
       "       [0.98868232, 0.01131768],\n",
       "       [0.00984716, 0.99015284],\n",
       "       [0.99304494, 0.00695506],\n",
       "       [0.98620467, 0.01379533],\n",
       "       [0.01171842, 0.98828158],\n",
       "       [0.99473068, 0.00526932],\n",
       "       [0.00992276, 0.99007724],\n",
       "       [0.99328464, 0.00671536],\n",
       "       [0.99339711, 0.00660289],\n",
       "       [0.98833008, 0.01166992],\n",
       "       [0.99429962, 0.00570038],\n",
       "       [0.9942744 , 0.0057256 ],\n",
       "       [0.99286805, 0.00713195],\n",
       "       [0.99304494, 0.00695506],\n",
       "       [0.0112687 , 0.9887313 ],\n",
       "       [0.99242793, 0.00757207],\n",
       "       [0.99462795, 0.00537205],\n",
       "       [0.99152283, 0.00847717],\n",
       "       [0.99306677, 0.00693323],\n",
       "       [0.99416386, 0.00583614],\n",
       "       [0.00930346, 0.99069654],\n",
       "       [0.98993255, 0.01006745],\n",
       "       [0.00780075, 0.99219925],\n",
       "       [0.99304494, 0.00695506],\n",
       "       [0.01617144, 0.98382856],\n",
       "       [0.99242793, 0.00757207],\n",
       "       [0.00768362, 0.99231638],\n",
       "       [0.00606155, 0.99393845],\n",
       "       [0.98594306, 0.01405694],\n",
       "       [0.99101651, 0.00898349],\n",
       "       [0.14199015, 0.85800985],\n",
       "       [0.89278804, 0.10721196],\n",
       "       [0.00748337, 0.99251663],\n",
       "       [0.99421178, 0.00578822],\n",
       "       [0.99396712, 0.00603288],\n",
       "       [0.27358392, 0.72641608],\n",
       "       [0.00907606, 0.99092394],\n",
       "       [0.98947337, 0.01052663],\n",
       "       [0.98682024, 0.01317976],\n",
       "       [0.01652978, 0.98347022],\n",
       "       [0.99293426, 0.00706574],\n",
       "       [0.99316694, 0.00683306],\n",
       "       [0.99304494, 0.00695506],\n",
       "       [0.99152283, 0.00847717],\n",
       "       [0.99190499, 0.00809501],\n",
       "       [0.01514751, 0.98485249],\n",
       "       [0.99286805, 0.00713195],\n",
       "       [0.03947908, 0.96052092],\n",
       "       [0.01694976, 0.98305024],\n",
       "       [0.98829744, 0.01170256],\n",
       "       [0.99473068, 0.00526932],\n",
       "       [0.99152283, 0.00847717],\n",
       "       [0.98603685, 0.01396315],\n",
       "       [0.99378892, 0.00621108]])"
      ]
     },
     "execution_count": 35,
     "metadata": {},
     "output_type": "execute_result"
    }
   ],
   "source": [
    "prediction_on_real_dataset"
   ]
  },
  {
   "cell_type": "code",
   "execution_count": 36,
   "metadata": {},
   "outputs": [
    {
     "data": {
      "text/plain": [
       "array([[0.99158654, 0.00841346],\n",
       "       [0.99747127, 0.00252873],\n",
       "       [0.98438607, 0.01561393],\n",
       "       [0.97146981, 0.02853019],\n",
       "       [0.9967872 , 0.0032128 ],\n",
       "       [0.99559159, 0.00440841],\n",
       "       [0.99053787, 0.00946213],\n",
       "       [0.02081031, 0.97918969],\n",
       "       [0.98305613, 0.01694387],\n",
       "       [0.01041883, 0.98958117],\n",
       "       [0.00898016, 0.99101984],\n",
       "       [0.99521451, 0.00478549],\n",
       "       [0.01929814, 0.98070186],\n",
       "       [0.00878178, 0.99121822],\n",
       "       [0.99747127, 0.00252873],\n",
       "       [0.04434879, 0.95565121],\n",
       "       [0.03064881, 0.96935119],\n",
       "       [0.01765707, 0.98234293],\n",
       "       [0.99555524, 0.00444476],\n",
       "       [0.99559159, 0.00440841],\n",
       "       [0.99701783, 0.00298217],\n",
       "       [0.05625843, 0.94374157],\n",
       "       [0.01449745, 0.98550255],\n",
       "       [0.99426448, 0.00573552],\n",
       "       [0.99741614, 0.00258386],\n",
       "       [0.99306363, 0.00693637],\n",
       "       [0.03311725, 0.96688275],\n",
       "       [0.00855456, 0.99144544],\n",
       "       [0.99757377, 0.00242623],\n",
       "       [0.01848828, 0.98151172],\n",
       "       [0.98224203, 0.01775797],\n",
       "       [0.99741614, 0.00258386],\n",
       "       [0.01842157, 0.98157843],\n",
       "       [0.99757377, 0.00242623],\n",
       "       [0.99761385, 0.00238615],\n",
       "       [0.9876352 , 0.0123648 ],\n",
       "       [0.98644383, 0.01355617],\n",
       "       [0.99158654, 0.00841346],\n",
       "       [0.99740735, 0.00259265],\n",
       "       [0.99601653, 0.00398347],\n",
       "       [0.00687847, 0.99312153],\n",
       "       [0.01561575, 0.98438425],\n",
       "       [0.96824802, 0.03175198],\n",
       "       [0.97881686, 0.02118314],\n",
       "       [0.99739514, 0.00260486],\n",
       "       [0.02639038, 0.97360962],\n",
       "       [0.02025572, 0.97974428],\n",
       "       [0.99761385, 0.00238615],\n",
       "       [0.01989736, 0.98010264],\n",
       "       [0.0596581 , 0.9403419 ],\n",
       "       [0.98931338, 0.01068662],\n",
       "       [0.83163769, 0.16836231],\n",
       "       [0.99684161, 0.00315839],\n",
       "       [0.04593404, 0.95406596],\n",
       "       [0.99566751, 0.00433249],\n",
       "       [0.03216559, 0.96783441],\n",
       "       [0.98988429, 0.01011571],\n",
       "       [0.22946505, 0.77053495],\n",
       "       [0.95897669, 0.04102331],\n",
       "       [0.99521451, 0.00478549],\n",
       "       [0.99747127, 0.00252873],\n",
       "       [0.99740735, 0.00259265],\n",
       "       [0.01288475, 0.98711525],\n",
       "       [0.99133359, 0.00866641],\n",
       "       [0.01547806, 0.98452194],\n",
       "       [0.01423212, 0.98576788],\n",
       "       [0.99390777, 0.00609223],\n",
       "       [0.99718131, 0.00281869],\n",
       "       [0.99683601, 0.00316399],\n",
       "       [0.97294231, 0.02705769],\n",
       "       [0.97974607, 0.02025393],\n",
       "       [0.99747127, 0.00252873],\n",
       "       [0.9856773 , 0.0143227 ],\n",
       "       [0.99119196, 0.00880804],\n",
       "       [0.04003089, 0.95996911],\n",
       "       [0.99645765, 0.00354235],\n",
       "       [0.01358026, 0.98641974],\n",
       "       [0.03197986, 0.96802014],\n",
       "       [0.01995377, 0.98004623],\n",
       "       [0.99562031, 0.00437969],\n",
       "       [0.99741614, 0.00258386],\n",
       "       [0.98882864, 0.01117136],\n",
       "       [0.99426448, 0.00573552],\n",
       "       [0.04587101, 0.95412899],\n",
       "       [0.01517489, 0.98482511],\n",
       "       [0.99401538, 0.00598462],\n",
       "       [0.99761385, 0.00238615],\n",
       "       [0.01687128, 0.98312872],\n",
       "       [0.01593812, 0.98406188],\n",
       "       [0.99570237, 0.00429763],\n",
       "       [0.99628989, 0.00371011],\n",
       "       [0.01010997, 0.98989003],\n",
       "       [0.99158654, 0.00841346],\n",
       "       [0.99316639, 0.00683361],\n",
       "       [0.98012238, 0.01987762],\n",
       "       [0.03045334, 0.96954666],\n",
       "       [0.98882864, 0.01117136],\n",
       "       [0.90813634, 0.09186366],\n",
       "       [0.01468547, 0.98531453],\n",
       "       [0.0131586 , 0.9868414 ],\n",
       "       [0.00667364, 0.99332636],\n",
       "       [0.99701783, 0.00298217],\n",
       "       [0.65687601, 0.34312399],\n",
       "       [0.0201175 , 0.9798825 ],\n",
       "       [0.99539082, 0.00460918],\n",
       "       [0.99747127, 0.00252873],\n",
       "       [0.00520063, 0.99479937],\n",
       "       [0.9956856 , 0.0043144 ],\n",
       "       [0.99521451, 0.00478549],\n",
       "       [0.99761385, 0.00238615],\n",
       "       [0.0389996 , 0.9610004 ],\n",
       "       [0.98872899, 0.01127101],\n",
       "       [0.03495466, 0.96504534],\n",
       "       [0.04915708, 0.95084292],\n",
       "       [0.99741614, 0.00258386],\n",
       "       [0.99739514, 0.00260486],\n",
       "       [0.99158654, 0.00841346],\n",
       "       [0.98561273, 0.01438727],\n",
       "       [0.99683601, 0.00316399],\n",
       "       [0.99559159, 0.00440841],\n",
       "       [0.0201175 , 0.9798825 ],\n",
       "       [0.00794227, 0.99205773],\n",
       "       [0.02180707, 0.97819293],\n",
       "       [0.48425108, 0.51574892],\n",
       "       [0.01834473, 0.98165527],\n",
       "       [0.99683601, 0.00316399],\n",
       "       [0.99363895, 0.00636105],\n",
       "       [0.05223194, 0.94776806],\n",
       "       [0.99471876, 0.00528124],\n",
       "       [0.99555524, 0.00444476],\n",
       "       [0.98931338, 0.01068662],\n",
       "       [0.9956066 , 0.0043934 ],\n",
       "       [0.99158654, 0.00841346],\n",
       "       [0.99570237, 0.00429763],\n",
       "       [0.99539082, 0.00460918],\n",
       "       [0.99148621, 0.00851379],\n",
       "       [0.99731983, 0.00268017],\n",
       "       [0.99761385, 0.00238615],\n",
       "       [0.09923233, 0.90076767],\n",
       "       [0.99761385, 0.00238615],\n",
       "       [0.01777494, 0.98222506],\n",
       "       [0.99729063, 0.00270937],\n",
       "       [0.98872899, 0.01127101],\n",
       "       [0.03646819, 0.96353181],\n",
       "       [0.0366108 , 0.9633892 ],\n",
       "       [0.10027366, 0.89972634],\n",
       "       [0.98882864, 0.01117136],\n",
       "       [0.99208291, 0.00791709],\n",
       "       [0.99683601, 0.00316399],\n",
       "       [0.02664821, 0.97335179],\n",
       "       [0.10582457, 0.89417543],\n",
       "       [0.99400978, 0.00599022],\n",
       "       [0.01901021, 0.98098979],\n",
       "       [0.99761385, 0.00238615],\n",
       "       [0.97952157, 0.02047843],\n",
       "       [0.03082731, 0.96917269],\n",
       "       [0.99701783, 0.00298217],\n",
       "       [0.01304924, 0.98695076],\n",
       "       [0.99521451, 0.00478549],\n",
       "       [0.99577775, 0.00422225],\n",
       "       [0.98247474, 0.01752526],\n",
       "       [0.99616182, 0.00383818],\n",
       "       [0.99739514, 0.00260486],\n",
       "       [0.99741614, 0.00258386],\n",
       "       [0.99761385, 0.00238615],\n",
       "       [0.00579577, 0.99420423],\n",
       "       [0.99230025, 0.00769975],\n",
       "       [0.99683601, 0.00316399],\n",
       "       [0.99731983, 0.00268017],\n",
       "       [0.99664146, 0.00335854],\n",
       "       [0.99559159, 0.00440841],\n",
       "       [0.02022449, 0.97977551],\n",
       "       [0.98778523, 0.01221477],\n",
       "       [0.0125395 , 0.9874605 ],\n",
       "       [0.99761385, 0.00238615],\n",
       "       [0.02709561, 0.97290439],\n",
       "       [0.99230025, 0.00769975],\n",
       "       [0.01525132, 0.98474868],\n",
       "       [0.01280587, 0.98719413],\n",
       "       [0.99296528, 0.00703472],\n",
       "       [0.99597211, 0.00402789],\n",
       "       [0.03202349, 0.96797651],\n",
       "       [0.75739942, 0.24260058],\n",
       "       [0.00676295, 0.99323705],\n",
       "       [0.99674297, 0.00325703],\n",
       "       [0.99746221, 0.00253779],\n",
       "       [0.16505086, 0.83494914],\n",
       "       [0.01144491, 0.98855509],\n",
       "       [0.98508443, 0.01491557],\n",
       "       [0.99301752, 0.00698248],\n",
       "       [0.055366  , 0.944634  ],\n",
       "       [0.99424733, 0.00575267],\n",
       "       [0.99733391, 0.00266609],\n",
       "       [0.99761385, 0.00238615],\n",
       "       [0.99731983, 0.00268017],\n",
       "       [0.99699953, 0.00300047],\n",
       "       [0.04324345, 0.95675655],\n",
       "       [0.99741614, 0.00258386],\n",
       "       [0.01233351, 0.98766649],\n",
       "       [0.01177162, 0.98822838],\n",
       "       [0.99518951, 0.00481049],\n",
       "       [0.99701783, 0.00298217],\n",
       "       [0.99731983, 0.00268017],\n",
       "       [0.98523724, 0.01476276],\n",
       "       [0.99723328, 0.00276672]])"
      ]
     },
     "execution_count": 36,
     "metadata": {},
     "output_type": "execute_result"
    }
   ],
   "source": [
    "prediction_on_real_dataset_adding_extra"
   ]
  },
  {
   "cell_type": "code",
   "execution_count": null,
   "metadata": {
    "collapsed": true
   },
   "outputs": [],
   "source": []
  },
  {
   "cell_type": "code",
   "execution_count": null,
   "metadata": {
    "collapsed": true
   },
   "outputs": [],
   "source": []
  },
  {
   "cell_type": "code",
   "execution_count": null,
   "metadata": {
    "collapsed": true
   },
   "outputs": [],
   "source": []
  }
 ],
 "metadata": {
  "kernelspec": {
   "display_name": "Python 3",
   "language": "python",
   "name": "python3"
  },
  "language_info": {
   "codemirror_mode": {
    "name": "ipython",
    "version": 3
   },
   "file_extension": ".py",
   "mimetype": "text/x-python",
   "name": "python",
   "nbconvert_exporter": "python",
   "pygments_lexer": "ipython3",
   "version": "3.6.6"
  }
 },
 "nbformat": 4,
 "nbformat_minor": 2
}
