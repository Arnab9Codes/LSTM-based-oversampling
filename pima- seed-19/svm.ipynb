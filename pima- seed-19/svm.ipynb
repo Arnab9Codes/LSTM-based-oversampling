{
 "cells": [
  {
   "cell_type": "code",
   "execution_count": 1,
   "metadata": {
    "collapsed": true
   },
   "outputs": [],
   "source": [
    "import time\n",
    "import math\n",
    "\n",
    "import numpy as np\n",
    "import pandas as pd\n",
    "from pandas import DataFrame\n",
    "from pandas import concat\n",
    "from matplotlib import pyplot\n",
    "\n",
    "from sklearn.preprocessing import MinMaxScaler\n",
    "from sklearn.preprocessing import LabelEncoder\n",
    "from sklearn.metrics import mean_squared_error\n",
    "\n",
    "from sklearn.preprocessing import StandardScaler\n",
    "from sklearn.model_selection import train_test_split\n",
    "from sklearn.model_selection import KFold\n",
    "from sklearn.model_selection import cross_val_score\n",
    "from sklearn.model_selection import GridSearchCV\n",
    "from sklearn.metrics import classification_report\n",
    "from sklearn.metrics import confusion_matrix\n",
    "from sklearn.metrics import accuracy_score\n",
    "from sklearn.metrics import precision_recall_curve\n",
    "\n",
    "from sklearn.pipeline import Pipeline\n",
    "from sklearn.linear_model import LogisticRegression\n",
    "from sklearn.tree import DecisionTreeClassifier\n",
    "from sklearn.neighbors import KNeighborsClassifier\n",
    "from sklearn.discriminant_analysis import LinearDiscriminantAnalysis\n",
    "from sklearn.naive_bayes import GaussianNB\n",
    "from sklearn.svm import SVC\n",
    "from sklearn.ensemble import AdaBoostClassifier\n",
    "from sklearn.ensemble import GradientBoostingClassifier\n",
    "from sklearn.ensemble import RandomForestClassifier\n",
    "from sklearn.ensemble import ExtraTreesClassifier\n",
    "\n",
    "from sklearn.model_selection import GridSearchCV\n",
    "\n",
    "import pickle"
   ]
  },
  {
   "cell_type": "code",
   "execution_count": 2,
   "metadata": {
    "collapsed": true
   },
   "outputs": [],
   "source": [
    "extra_data=pd.read_csv('new_corrected_data-v1-7-24-2019.csv')# loading extra genereated data genereated by LSTM #prediction_of_1_0007.csv\n",
    "original_data=pd.read_csv('train_Data.csv')#original data"
   ]
  },
  {
   "cell_type": "code",
   "execution_count": 3,
   "metadata": {},
   "outputs": [
    {
     "data": {
      "text/html": [
       "<div>\n",
       "<style scoped>\n",
       "    .dataframe tbody tr th:only-of-type {\n",
       "        vertical-align: middle;\n",
       "    }\n",
       "\n",
       "    .dataframe tbody tr th {\n",
       "        vertical-align: top;\n",
       "    }\n",
       "\n",
       "    .dataframe thead th {\n",
       "        text-align: right;\n",
       "    }\n",
       "</style>\n",
       "<table border=\"1\" class=\"dataframe\">\n",
       "  <thead>\n",
       "    <tr style=\"text-align: right;\">\n",
       "      <th></th>\n",
       "      <th>0</th>\n",
       "      <th>1</th>\n",
       "      <th>2</th>\n",
       "      <th>3</th>\n",
       "      <th>4</th>\n",
       "      <th>5</th>\n",
       "      <th>6</th>\n",
       "      <th>7</th>\n",
       "      <th>8</th>\n",
       "    </tr>\n",
       "  </thead>\n",
       "  <tbody>\n",
       "    <tr>\n",
       "      <th>0</th>\n",
       "      <td>4.341349</td>\n",
       "      <td>143.92891</td>\n",
       "      <td>71.67020</td>\n",
       "      <td>24.094166</td>\n",
       "      <td>129.127240</td>\n",
       "      <td>37.779068</td>\n",
       "      <td>0.580094</td>\n",
       "      <td>36.881523</td>\n",
       "      <td>0.993189</td>\n",
       "    </tr>\n",
       "    <tr>\n",
       "      <th>1</th>\n",
       "      <td>5.164178</td>\n",
       "      <td>144.74280</td>\n",
       "      <td>72.41555</td>\n",
       "      <td>17.762987</td>\n",
       "      <td>60.365063</td>\n",
       "      <td>36.783245</td>\n",
       "      <td>0.539068</td>\n",
       "      <td>37.303555</td>\n",
       "      <td>1.008120</td>\n",
       "    </tr>\n",
       "    <tr>\n",
       "      <th>2</th>\n",
       "      <td>1.211306</td>\n",
       "      <td>139.43942</td>\n",
       "      <td>67.42413</td>\n",
       "      <td>29.611921</td>\n",
       "      <td>147.881240</td>\n",
       "      <td>38.855690</td>\n",
       "      <td>0.771871</td>\n",
       "      <td>33.160988</td>\n",
       "      <td>1.006949</td>\n",
       "    </tr>\n",
       "    <tr>\n",
       "      <th>3</th>\n",
       "      <td>2.778680</td>\n",
       "      <td>135.46446</td>\n",
       "      <td>67.74266</td>\n",
       "      <td>16.307844</td>\n",
       "      <td>121.939120</td>\n",
       "      <td>33.428650</td>\n",
       "      <td>0.624382</td>\n",
       "      <td>38.961360</td>\n",
       "      <td>1.009172</td>\n",
       "    </tr>\n",
       "    <tr>\n",
       "      <th>4</th>\n",
       "      <td>5.319354</td>\n",
       "      <td>138.32138</td>\n",
       "      <td>67.35764</td>\n",
       "      <td>17.316612</td>\n",
       "      <td>81.831340</td>\n",
       "      <td>34.794630</td>\n",
       "      <td>0.545181</td>\n",
       "      <td>38.406910</td>\n",
       "      <td>0.995097</td>\n",
       "    </tr>\n",
       "  </tbody>\n",
       "</table>\n",
       "</div>"
      ],
      "text/plain": [
       "          0          1         2          3           4          5         6  \\\n",
       "0  4.341349  143.92891  71.67020  24.094166  129.127240  37.779068  0.580094   \n",
       "1  5.164178  144.74280  72.41555  17.762987   60.365063  36.783245  0.539068   \n",
       "2  1.211306  139.43942  67.42413  29.611921  147.881240  38.855690  0.771871   \n",
       "3  2.778680  135.46446  67.74266  16.307844  121.939120  33.428650  0.624382   \n",
       "4  5.319354  138.32138  67.35764  17.316612   81.831340  34.794630  0.545181   \n",
       "\n",
       "           7         8  \n",
       "0  36.881523  0.993189  \n",
       "1  37.303555  1.008120  \n",
       "2  33.160988  1.006949  \n",
       "3  38.961360  1.009172  \n",
       "4  38.406910  0.995097  "
      ]
     },
     "execution_count": 3,
     "metadata": {},
     "output_type": "execute_result"
    }
   ],
   "source": [
    "extra_data.head()#displaying LSTM generated data"
   ]
  },
  {
   "cell_type": "code",
   "execution_count": 4,
   "metadata": {},
   "outputs": [
    {
     "name": "stdout",
     "output_type": "stream",
     "text": [
      "(75, 9)\n"
     ]
    }
   ],
   "source": [
    "extra=np.array(extra_data)# getting the original shape\n",
    "print(extra.shape)"
   ]
  },
  {
   "cell_type": "code",
   "execution_count": 5,
   "metadata": {},
   "outputs": [
    {
     "data": {
      "text/plain": [
       "array([  4.341349 , 143.92891  ,  71.6702   ,  24.094166 , 129.12724  ,\n",
       "        37.779068 ,   0.5800937,  36.881523 ,   0.9931889])"
      ]
     },
     "execution_count": 5,
     "metadata": {},
     "output_type": "execute_result"
    }
   ],
   "source": [
    "extra[0] # showing first row vector"
   ]
  },
  {
   "cell_type": "code",
   "execution_count": 6,
   "metadata": {
    "collapsed": true
   },
   "outputs": [],
   "source": [
    "# Setting predictions of all generated data to 1 because their outputs are mostly 0.98, 0.99 etc. \n",
    "for i in range(0,len(extra),1):\n",
    "    extra[i][8]=int(1)"
   ]
  },
  {
   "cell_type": "code",
   "execution_count": 7,
   "metadata": {},
   "outputs": [
    {
     "data": {
      "text/plain": [
       "array([[  4.341349  , 143.92891   ,  71.6702    ,  24.094166  ,\n",
       "        129.12724   ,  37.779068  ,   0.5800937 ,  36.881523  ,\n",
       "          1.        ],\n",
       "       [  5.1641784 , 144.7428    ,  72.41555   ,  17.762987  ,\n",
       "         60.365063  ,  36.783245  ,   0.5390681 ,  37.303555  ,\n",
       "          1.        ],\n",
       "       [  1.2113057 , 139.43942   ,  67.42413   ,  29.611921  ,\n",
       "        147.88124   ,  38.85569   ,   0.7718705 ,  33.160988  ,\n",
       "          1.        ],\n",
       "       [  2.7786803 , 135.46446   ,  67.74266   ,  16.307844  ,\n",
       "        121.93912   ,  33.42865   ,   0.6243819 ,  38.96136   ,\n",
       "          1.        ],\n",
       "       [  5.319354  , 138.32138   ,  67.35764   ,  17.316612  ,\n",
       "         81.83134   ,  34.79463   ,   0.5451814 ,  38.40691   ,\n",
       "          1.        ],\n",
       "       [  5.725618  , 153.62355   ,  74.41108   ,  13.650689  ,\n",
       "         11.742638  ,  36.865917  ,   0.44241405,  33.8713    ,\n",
       "          1.        ],\n",
       "       [  5.4415593 , 150.53828   ,  71.211296  ,  25.314222  ,\n",
       "        179.40453   ,  38.874115  ,   0.7668069 ,  37.242073  ,\n",
       "          1.        ],\n",
       "       [  5.151514  , 150.50346   ,  72.12914   ,  19.770517  ,\n",
       "        118.22278   ,  33.601067  ,   0.4251024 ,  39.02142   ,\n",
       "          1.        ],\n",
       "       [  6.486396  , 128.65913   ,  68.84463   ,  16.383781  ,\n",
       "        152.01195   ,  35.808567  ,   0.62636673,  42.696026  ,\n",
       "          1.        ],\n",
       "       [  4.545313  , 129.16023   ,  70.56053   ,  17.696272  ,\n",
       "        132.1657    ,  34.39905   ,   0.47756532,  38.021507  ,\n",
       "          1.        ],\n",
       "       [  6.642066  , 146.47607   ,  71.32166   ,  19.901297  ,\n",
       "         68.95379   ,  39.399864  ,   0.5703228 ,  37.58422   ,\n",
       "          1.        ],\n",
       "       [  5.3162174 , 147.85146   ,  73.68405   ,  18.758968  ,\n",
       "         99.88084   ,  36.119938  ,   0.59940207,  34.71702   ,\n",
       "          1.        ],\n",
       "       [  8.21376   , 148.33275   ,  71.180016  ,  15.167383  ,\n",
       "         43.722305  ,  37.98024   ,   0.35032815,  41.22444   ,\n",
       "          1.        ],\n",
       "       [  5.6147003 , 148.6962    ,  73.45305   ,  16.193336  ,\n",
       "         34.082207  ,  37.224087  ,   0.5462253 ,  34.15149   ,\n",
       "          1.        ],\n",
       "       [  3.1334689 , 149.65283   ,  70.69112   ,  29.30837   ,\n",
       "        151.94576   ,  36.544926  ,   0.7146903 ,  35.7852    ,\n",
       "          1.        ],\n",
       "       [  8.056691  , 136.18602   ,  77.04894   ,  20.600664  ,\n",
       "        207.8972    ,  32.42797   ,   0.50624704,  43.628826  ,\n",
       "          1.        ],\n",
       "       [  6.9659443 , 150.47487   ,  76.13738   ,  22.048836  ,\n",
       "        111.29066   ,  36.876472  ,   0.56840247,  40.138733  ,\n",
       "          1.        ],\n",
       "       [  9.74544   , 141.9994    ,  74.79926   ,  17.68597   ,\n",
       "        154.24803   ,  31.114492  ,   0.49633116,  46.781307  ,\n",
       "          1.        ],\n",
       "       [  5.1807685 , 137.8549    ,  67.17288   ,  15.576106  ,\n",
       "        116.684395  ,  36.643818  ,   0.55337906,  37.313076  ,\n",
       "          1.        ],\n",
       "       [  7.664675  , 155.90715   ,  76.12501   ,  15.414921  ,\n",
       "        169.84023   ,  32.88749   ,   0.42120233,  45.92694   ,\n",
       "          1.        ],\n",
       "       [  3.6211607 , 142.39124   ,  70.96973   ,  23.652576  ,\n",
       "        100.615425  ,  38.551586  ,   0.8967791 ,  33.051643  ,\n",
       "          1.        ],\n",
       "       [  2.385774  , 158.648     ,  70.60567   ,  21.18105   ,\n",
       "         81.55511   ,  34.21806   ,   0.6597069 ,  27.900707  ,\n",
       "          1.        ],\n",
       "       [  1.5349588 , 156.79239   ,  74.04469   ,  19.2874    ,\n",
       "         97.5802    ,  30.839048  ,   0.70307153,  29.131329  ,\n",
       "          1.        ],\n",
       "       [  4.712303  , 150.63861   ,  69.59056   ,  13.796762  ,\n",
       "         43.106422  ,  36.953236  ,   0.5474922 ,  35.327877  ,\n",
       "          1.        ],\n",
       "       [  5.1671286 , 153.83195   ,  68.65367   ,  16.544006  ,\n",
       "        -15.336263  ,  38.564922  ,   0.5722853 ,  32.12733   ,\n",
       "          1.        ],\n",
       "       [  8.308615  , 151.26451   ,  77.90385   ,  15.957077  ,\n",
       "        181.2607    ,  29.872347  ,   0.464845  ,  44.924427  ,\n",
       "          1.        ],\n",
       "       [  7.6942134 , 140.45355   ,  75.444046  ,  15.81373   ,\n",
       "        200.27      ,  30.880915  ,   0.3692293 ,  48.005726  ,\n",
       "          1.        ],\n",
       "       [  8.335365  , 160.52019   ,  73.19989   ,  23.861149  ,\n",
       "         18.514862  ,  36.991787  ,   0.44426405,  36.709843  ,\n",
       "          1.        ],\n",
       "       [  4.78761   , 147.34578   ,  74.6707    ,  25.242748  ,\n",
       "        136.22722   ,  34.382538  ,   0.50862944,  34.480328  ,\n",
       "          1.        ],\n",
       "       [  3.6405754 , 135.83624   ,  71.4394    ,  19.177948  ,\n",
       "         61.8625    ,  40.41093   ,   0.59599674,  31.085337  ,\n",
       "          1.        ],\n",
       "       [  5.626881  , 155.70888   ,  73.74535   ,  12.689829  ,\n",
       "         75.973755  ,  32.964947  ,   0.47120193,  41.99554   ,\n",
       "          1.        ],\n",
       "       [  4.2430754 , 132.5937    ,  64.02076   ,  27.559225  ,\n",
       "        146.53477   ,  36.447723  ,   0.6775509 ,  38.01871   ,\n",
       "          1.        ],\n",
       "       [  4.386705  , 168.10872   ,  79.51405   ,  16.661407  ,\n",
       "         74.364624  ,  33.756573  ,   0.5801505 ,  38.074043  ,\n",
       "          1.        ],\n",
       "       [  4.6042976 , 141.62485   ,  71.12269   ,  22.667713  ,\n",
       "        124.36844   ,  35.580933  ,   0.6028455 ,  38.685024  ,\n",
       "          1.        ],\n",
       "       [  6.1562343 , 140.43167   ,  70.77823   ,  18.312021  ,\n",
       "        132.74371   ,  36.8587    ,   0.7195587 ,  40.405228  ,\n",
       "          1.        ],\n",
       "       [  6.085974  , 137.09888   ,  71.471634  ,  19.041304  ,\n",
       "        131.74779   ,  34.415775  ,   0.5583718 ,  42.552593  ,\n",
       "          1.        ],\n",
       "       [  4.574792  , 148.94336   ,  70.57492   ,  21.949934  ,\n",
       "        133.96507   ,  36.137978  ,   0.52454525,  39.447388  ,\n",
       "          1.        ],\n",
       "       [  4.6782207 , 145.20345   ,  74.514465  ,  21.731256  ,\n",
       "         69.47721   ,  40.583984  ,   0.64666796,  32.56198   ,\n",
       "          1.        ],\n",
       "       [  2.0679696 , 131.6387    ,  67.65163   ,  19.702526  ,\n",
       "        206.00443   ,  32.53043   ,   0.79193795,  38.850677  ,\n",
       "          1.        ],\n",
       "       [  4.7950935 , 171.90263   ,  73.46202   ,  19.767588  ,\n",
       "        -16.464787  ,  35.451916  ,   0.6547321 ,  30.594606  ,\n",
       "          1.        ],\n",
       "       [  3.6330462 , 135.29582   ,  70.14928   ,  29.554981  ,\n",
       "         98.09897   ,  40.437206  ,   0.75310314,  27.201347  ,\n",
       "          1.        ],\n",
       "       [  5.533738  , 140.9983    ,  73.07256   ,  18.432213  ,\n",
       "        134.90573   ,  33.75095   ,   0.43586916,  39.63073   ,\n",
       "          1.        ],\n",
       "       [  4.952105  , 152.35365   ,  72.434235  ,  19.145681  ,\n",
       "        128.8347    ,  30.95954   ,   0.6446099 ,  38.51094   ,\n",
       "          1.        ],\n",
       "       [  6.156452  , 155.39677   ,  78.26578   ,  33.58014   ,\n",
       "        167.90916   ,  36.32946   ,   0.68201625,  34.87414   ,\n",
       "          1.        ],\n",
       "       [  3.8951147 , 143.50708   ,  67.4239    ,  26.792057  ,\n",
       "        108.88556   ,  40.959312  ,   0.6419429 ,  34.104034  ,\n",
       "          1.        ],\n",
       "       [  6.706181  , 130.24323   ,  71.45511   ,  32.768448  ,\n",
       "        258.94998   ,  36.778522  ,   0.64497733,  43.64076   ,\n",
       "          1.        ],\n",
       "       [  6.459067  , 135.38907   ,  68.291046  ,  16.838251  ,\n",
       "         66.980995  ,  36.024605  ,   0.49240172,  39.70368   ,\n",
       "          1.        ],\n",
       "       [  6.5558157 , 137.16273   ,  72.10217   ,  17.787197  ,\n",
       "        164.37747   ,  35.210205  ,   0.4979378 ,  42.94637   ,\n",
       "          1.        ],\n",
       "       [  4.0910244 , 147.9266    ,  70.25079   ,  23.892721  ,\n",
       "         97.44547   ,  35.856544  ,   0.61706245,  29.923483  ,\n",
       "          1.        ],\n",
       "       [  5.6021852 , 151.38573   ,  74.31906   ,  17.670668  ,\n",
       "         20.895754  ,  41.860435  ,   0.5907215 ,  34.23667   ,\n",
       "          1.        ],\n",
       "       [  5.338609  , 148.46391   ,  75.000824  ,  23.671297  ,\n",
       "        214.3591    ,  31.167446  ,   0.6034266 ,  42.86511   ,\n",
       "          1.        ],\n",
       "       [  4.3965254 , 156.69223   ,  71.99541   ,  22.5833    ,\n",
       "         43.020977  ,  38.31868   ,   0.5825523 ,  34.59636   ,\n",
       "          1.        ],\n",
       "       [  5.128946  , 150.43607   ,  69.48464   ,  18.365107  ,\n",
       "        -35.851562  ,  37.025837  ,   0.42511386,  30.911695  ,\n",
       "          1.        ],\n",
       "       [  8.530239  , 136.3967    ,  68.59059   ,  14.129131  ,\n",
       "         41.44688   ,  40.123188  ,   0.45290056,  42.279305  ,\n",
       "          1.        ],\n",
       "       [  2.577775  , 156.99693   ,  71.15222   ,  23.311066  ,\n",
       "        117.41612   ,  38.441822  ,   0.73925334,  28.657253  ,\n",
       "          1.        ],\n",
       "       [  6.102746  , 127.87497   ,  68.24271   ,  24.254389  ,\n",
       "        255.7689    ,  35.84612   ,   0.56728333,  43.56225   ,\n",
       "          1.        ],\n",
       "       [  5.796807  , 133.94763   ,  74.917915  ,  18.252268  ,\n",
       "        154.6816    ,  33.24475   ,   0.65024847,  40.032455  ,\n",
       "          1.        ],\n",
       "       [  5.7064395 , 146.29533   ,  72.784706  ,  15.636467  ,\n",
       "        168.33318   ,  34.060894  ,   0.44078076,  45.42398   ,\n",
       "          1.        ],\n",
       "       [  5.51802   , 143.33882   ,  71.24985   ,  29.225767  ,\n",
       "         78.99353   ,  40.150314  ,   0.55275965,  35.148827  ,\n",
       "          1.        ],\n",
       "       [  4.6016936 , 166.69293   ,  77.014725  ,  14.039989  ,\n",
       "        -20.798609  ,  37.798725  ,   0.60952646,  29.818636  ,\n",
       "          1.        ],\n",
       "       [  6.249102  , 132.67873   ,  64.96444   ,  11.8307905 ,\n",
       "        -16.00822   ,  37.434975  ,   0.50483966,  33.520847  ,\n",
       "          1.        ],\n",
       "       [  6.4231987 , 158.3793    ,  78.4427    ,  20.511738  ,\n",
       "          7.679058  ,  38.25854   ,   0.68725336,  31.231176  ,\n",
       "          1.        ],\n",
       "       [  5.2868385 , 154.2595    ,  75.76091   ,  10.883918  ,\n",
       "         66.727646  ,  35.07332   ,   0.47697464,  38.13857   ,\n",
       "          1.        ],\n",
       "       [  6.882058  , 145.65236   ,  72.17798   ,  20.91681   ,\n",
       "        144.14447   ,  33.87581   ,   0.43049258,  43.1655    ,\n",
       "          1.        ],\n",
       "       [  7.7332234 , 146.37366   ,  70.894844  ,  15.674075  ,\n",
       "         69.64801   ,  35.654957  ,   0.3180599 ,  43.743996  ,\n",
       "          1.        ],\n",
       "       [  8.874914  , 151.834     ,  78.56735   ,  17.138294  ,\n",
       "        207.29088   ,  36.36831   ,   0.44929674,  52.184875  ,\n",
       "          1.        ],\n",
       "       [  7.2231874 , 144.20471   ,  71.53524   ,  23.263676  ,\n",
       "        115.477036  ,  37.374104  ,   0.462368  ,  40.21846   ,\n",
       "          1.        ],\n",
       "       [  5.4890394 , 147.67972   ,  66.94815   ,  12.623502  ,\n",
       "         49.897217  ,  38.064255  ,   0.35646397,  35.685757  ,\n",
       "          1.        ],\n",
       "       [  1.7292397 , 146.76192   ,  70.02919   ,  30.591988  ,\n",
       "         36.90276   ,  42.013638  ,   0.76508355,  26.144426  ,\n",
       "          1.        ],\n",
       "       [  9.985788  , 127.808975  ,  70.849945  ,  16.898249  ,\n",
       "        119.880295  ,  39.148563  ,   0.4107694 ,  46.554905  ,\n",
       "          1.        ],\n",
       "       [  8.75063   , 127.880806  ,  69.46799   ,  12.800822  ,\n",
       "        130.37982   ,  35.37772   ,   0.41644365,  48.154694  ,\n",
       "          1.        ],\n",
       "       [  4.508252  , 150.38388   ,  68.59655   ,  16.936563  ,\n",
       "         -1.9348339 ,  40.692165  ,   0.4261614 ,  32.071476  ,\n",
       "          1.        ],\n",
       "       [  5.386801  , 142.09923   ,  71.93755   ,  17.80486   ,\n",
       "        221.40068   ,  30.605654  ,   0.44598645,  48.21694   ,\n",
       "          1.        ],\n",
       "       [  5.0075994 , 130.0682    ,  65.93653   ,  33.174427  ,\n",
       "        163.14607   ,  40.089973  ,   0.7594106 ,  39.816803  ,\n",
       "          1.        ],\n",
       "       [  6.387988  , 143.65677   ,  73.04132   ,  16.728647  ,\n",
       "         76.022156  ,  34.076008  ,   0.50240207,  35.835445  ,\n",
       "          1.        ]])"
      ]
     },
     "execution_count": 7,
     "metadata": {},
     "output_type": "execute_result"
    }
   ],
   "source": [
    "extra #showing LSTM generated extra data ready for training"
   ]
  },
  {
   "cell_type": "code",
   "execution_count": 8,
   "metadata": {},
   "outputs": [
    {
     "data": {
      "text/html": [
       "<div>\n",
       "<style scoped>\n",
       "    .dataframe tbody tr th:only-of-type {\n",
       "        vertical-align: middle;\n",
       "    }\n",
       "\n",
       "    .dataframe tbody tr th {\n",
       "        vertical-align: top;\n",
       "    }\n",
       "\n",
       "    .dataframe thead th {\n",
       "        text-align: right;\n",
       "    }\n",
       "</style>\n",
       "<table border=\"1\" class=\"dataframe\">\n",
       "  <thead>\n",
       "    <tr style=\"text-align: right;\">\n",
       "      <th></th>\n",
       "      <th>0</th>\n",
       "      <th>1</th>\n",
       "      <th>2</th>\n",
       "      <th>3</th>\n",
       "      <th>4</th>\n",
       "      <th>5</th>\n",
       "      <th>6</th>\n",
       "      <th>7</th>\n",
       "      <th>8</th>\n",
       "    </tr>\n",
       "  </thead>\n",
       "  <tbody>\n",
       "    <tr>\n",
       "      <th>0</th>\n",
       "      <td>7.0</td>\n",
       "      <td>187.0</td>\n",
       "      <td>50.0</td>\n",
       "      <td>33.0</td>\n",
       "      <td>392.0</td>\n",
       "      <td>33.9</td>\n",
       "      <td>0.826</td>\n",
       "      <td>34.0</td>\n",
       "      <td>1.0</td>\n",
       "    </tr>\n",
       "    <tr>\n",
       "      <th>1</th>\n",
       "      <td>5.0</td>\n",
       "      <td>111.0</td>\n",
       "      <td>72.0</td>\n",
       "      <td>28.0</td>\n",
       "      <td>0.0</td>\n",
       "      <td>23.9</td>\n",
       "      <td>0.407</td>\n",
       "      <td>27.0</td>\n",
       "      <td>0.0</td>\n",
       "    </tr>\n",
       "    <tr>\n",
       "      <th>2</th>\n",
       "      <td>0.0</td>\n",
       "      <td>119.0</td>\n",
       "      <td>66.0</td>\n",
       "      <td>27.0</td>\n",
       "      <td>0.0</td>\n",
       "      <td>38.8</td>\n",
       "      <td>0.259</td>\n",
       "      <td>22.0</td>\n",
       "      <td>0.0</td>\n",
       "    </tr>\n",
       "    <tr>\n",
       "      <th>3</th>\n",
       "      <td>2.0</td>\n",
       "      <td>108.0</td>\n",
       "      <td>52.0</td>\n",
       "      <td>26.0</td>\n",
       "      <td>63.0</td>\n",
       "      <td>32.5</td>\n",
       "      <td>0.318</td>\n",
       "      <td>22.0</td>\n",
       "      <td>0.0</td>\n",
       "    </tr>\n",
       "    <tr>\n",
       "      <th>4</th>\n",
       "      <td>3.0</td>\n",
       "      <td>176.0</td>\n",
       "      <td>86.0</td>\n",
       "      <td>27.0</td>\n",
       "      <td>156.0</td>\n",
       "      <td>33.3</td>\n",
       "      <td>1.154</td>\n",
       "      <td>52.0</td>\n",
       "      <td>1.0</td>\n",
       "    </tr>\n",
       "  </tbody>\n",
       "</table>\n",
       "</div>"
      ],
      "text/plain": [
       "     0      1     2     3      4     5      6     7    8\n",
       "0  7.0  187.0  50.0  33.0  392.0  33.9  0.826  34.0  1.0\n",
       "1  5.0  111.0  72.0  28.0    0.0  23.9  0.407  27.0  0.0\n",
       "2  0.0  119.0  66.0  27.0    0.0  38.8  0.259  22.0  0.0\n",
       "3  2.0  108.0  52.0  26.0   63.0  32.5  0.318  22.0  0.0\n",
       "4  3.0  176.0  86.0  27.0  156.0  33.3  1.154  52.0  1.0"
      ]
     },
     "execution_count": 8,
     "metadata": {},
     "output_type": "execute_result"
    }
   ],
   "source": [
    "original_data.head() #showing original data"
   ]
  },
  {
   "cell_type": "code",
   "execution_count": null,
   "metadata": {
    "collapsed": true
   },
   "outputs": [],
   "source": []
  },
  {
   "cell_type": "code",
   "execution_count": 9,
   "metadata": {
    "collapsed": true
   },
   "outputs": [],
   "source": [
    "#loading data values from original dataset(Pima)\n",
    "val=original_data.values"
   ]
  },
  {
   "cell_type": "code",
   "execution_count": 10,
   "metadata": {
    "collapsed": true
   },
   "outputs": [],
   "source": [
    "X=val[:,:8].astype(float)# getting the feature values\n",
    "Y=val[:,8].astype(int)# getting prediction"
   ]
  },
  {
   "cell_type": "code",
   "execution_count": 11,
   "metadata": {
    "collapsed": true
   },
   "outputs": [],
   "source": [
    "#extra_X denotes the extra training data generated by LSTM \n",
    "extra_X=extra[:,:8].astype(float)\n",
    "\n",
    "#extra_Y denotes extra training prediction data for training the algorithm\n",
    "extra_Y=extra[:,8].astype(int)"
   ]
  },
  {
   "cell_type": "code",
   "execution_count": 12,
   "metadata": {
    "collapsed": true
   },
   "outputs": [],
   "source": [
    "# extrain=original training data + LSTM generated training data\n",
    "\n",
    "# eytrain=original training prediction + LSTM generated\n",
    "\n",
    "extrain=np.concatenate((X,extra_X),axis=0)\n",
    "eytrain=np.concatenate((Y,extra_Y),axis=0)"
   ]
  },
  {
   "cell_type": "code",
   "execution_count": 13,
   "metadata": {},
   "outputs": [
    {
     "name": "stdout",
     "output_type": "stream",
     "text": [
      "(612, 8)\n",
      "(612,)\n"
     ]
    }
   ],
   "source": [
    "print(extrain.shape)\n",
    "print(eytrain.shape)"
   ]
  },
  {
   "cell_type": "code",
   "execution_count": 14,
   "metadata": {
    "collapsed": true
   },
   "outputs": [],
   "source": [
    "test_Data=pd.read_csv('test_Data.csv')"
   ]
  },
  {
   "cell_type": "code",
   "execution_count": 15,
   "metadata": {
    "collapsed": true
   },
   "outputs": [],
   "source": [
    "test_Data=np.array(test_Data)"
   ]
  },
  {
   "cell_type": "code",
   "execution_count": 16,
   "metadata": {},
   "outputs": [
    {
     "data": {
      "text/plain": [
       "(231, 9)"
      ]
     },
     "execution_count": 16,
     "metadata": {},
     "output_type": "execute_result"
    }
   ],
   "source": [
    "test_Data.shape"
   ]
  },
  {
   "cell_type": "code",
   "execution_count": 17,
   "metadata": {
    "collapsed": true
   },
   "outputs": [],
   "source": [
    "X_test=test_Data[:,:8].astype(float)\n",
    "Y_test=test_Data[:,8].astype(int)"
   ]
  },
  {
   "cell_type": "code",
   "execution_count": null,
   "metadata": {
    "collapsed": true
   },
   "outputs": [],
   "source": []
  },
  {
   "cell_type": "code",
   "execution_count": 18,
   "metadata": {
    "collapsed": true
   },
   "outputs": [],
   "source": [
    "def svc_param_selection(X, y, nfolds):\n",
    "    Cs = [0.001, 0.01, 0.1, 1, 10]\n",
    "    gammas = [0.001, 0.01, 0.1, 1]\n",
    "    param_grid = {'C': Cs, 'gamma' : gammas}\n",
    "    grid_search = GridSearchCV(SVC(kernel='rbf',probability=True), param_grid, cv=nfolds)\n",
    "    grid_search.fit(X, y)\n",
    "    grid_search.best_params_\n",
    "    return grid_search.best_estimator_"
   ]
  },
  {
   "cell_type": "code",
   "execution_count": 19,
   "metadata": {
    "collapsed": true
   },
   "outputs": [],
   "source": [
    "# setting seed =7 to produce same results over and over again, it was maintained during different experiments \n",
    "seed=19\n"
   ]
  },
  {
   "cell_type": "code",
   "execution_count": null,
   "metadata": {},
   "outputs": [],
   "source": [
    "# first rbf_svc for training on just the original training data\n",
    "#rbf_svc = SVC(kernel='rbf', gamma=0.00001, C=1000,probability=True).fit(X_train,Y_train)\n",
    "rbf_svc=svc_param_selection(X,Y,5)\n",
    "\n",
    "# secondly rbf_svc_extra for training on original+LSTM\n",
    "rbf_svc_extra = svc_param_selection(extrain,eytrain,5)"
   ]
  },
  {
   "cell_type": "code",
   "execution_count": 25,
   "metadata": {},
   "outputs": [
    {
     "data": {
      "text/plain": [
       "SVC(C=1, cache_size=200, class_weight=None, coef0=0.0,\n",
       "    decision_function_shape='ovr', degree=3, gamma=0.001, kernel='rbf',\n",
       "    max_iter=-1, probability=True, random_state=None, shrinking=True, tol=0.001,\n",
       "    verbose=False)"
      ]
     },
     "execution_count": 25,
     "metadata": {},
     "output_type": "execute_result"
    }
   ],
   "source": [
    "\n",
    "# fitting the data\n",
    "rbf_svc.fit(X,Y)\n",
    "rbf_svc_extra.fit(extrain,eytrain)"
   ]
  },
  {
   "cell_type": "code",
   "execution_count": 26,
   "metadata": {},
   "outputs": [
    {
     "data": {
      "text/plain": [
       "(231, 8)"
      ]
     },
     "execution_count": 26,
     "metadata": {},
     "output_type": "execute_result"
    }
   ],
   "source": [
    "# loading the validation dataset previously set up by validation split(this data was not included in any training procedure)\n",
    "Prediction_data=X_test\n",
    "\n",
    "#producing the shape\n",
    "Prediction_data.shape"
   ]
  },
  {
   "cell_type": "code",
   "execution_count": 27,
   "metadata": {
    "collapsed": true
   },
   "outputs": [],
   "source": [
    "# making predictions on validation dataset using svc trained only on original training data\n",
    "prediction_on_real_dataset=rbf_svc.predict_proba(Prediction_data)\n",
    "\n",
    "#saving probabilities\n",
    "predictions=rbf_svc.predict(Prediction_data)\n",
    "\n",
    "# making predictions on validation dataset using svc trained on original training data + LSTM generated data\n",
    "prediction_on_real_dataset_adding_extra=rbf_svc_extra.predict_proba(Prediction_data)\n",
    "#saving probabilities\n",
    "predictions_extra=rbf_svc_extra.predict(Prediction_data)"
   ]
  },
  {
   "cell_type": "code",
   "execution_count": 28,
   "metadata": {},
   "outputs": [
    {
     "name": "stdout",
     "output_type": "stream",
     "text": [
      "231\n",
      "231\n"
     ]
    }
   ],
   "source": [
    "print(len(prediction_on_real_dataset))\n",
    "\n",
    "print(len(prediction_on_real_dataset_adding_extra))"
   ]
  },
  {
   "cell_type": "code",
   "execution_count": 29,
   "metadata": {
    "collapsed": true
   },
   "outputs": [],
   "source": [
    "from sklearn.metrics import f1_score\n",
    "from sklearn.metrics import auc\n",
    "from sklearn.metrics import average_precision_score\n",
    "\n",
    "from sklearn.metrics import roc_curve, roc_auc_score"
   ]
  },
  {
   "cell_type": "code",
   "execution_count": 30,
   "metadata": {},
   "outputs": [
    {
     "data": {
      "text/plain": [
       "0.5161290322580646"
      ]
     },
     "execution_count": 30,
     "metadata": {},
     "output_type": "execute_result"
    }
   ],
   "source": [
    "f1_score(Y_test,predictions)#without_extra"
   ]
  },
  {
   "cell_type": "code",
   "execution_count": 31,
   "metadata": {},
   "outputs": [
    {
     "data": {
      "text/plain": [
       "0.5942028985507246"
      ]
     },
     "execution_count": 31,
     "metadata": {},
     "output_type": "execute_result"
    }
   ],
   "source": [
    "f1_score(Y_test,predictions_extra)#with_extra"
   ]
  },
  {
   "cell_type": "code",
   "execution_count": 29,
   "metadata": {},
   "outputs": [
    {
     "data": {
      "text/plain": [
       "array([0.30716498, 0.69283502])"
      ]
     },
     "execution_count": 29,
     "metadata": {},
     "output_type": "execute_result"
    }
   ],
   "source": [
    "prediction_on_real_dataset[0]# probabilities of 2 class"
   ]
  },
  {
   "cell_type": "code",
   "execution_count": 30,
   "metadata": {},
   "outputs": [
    {
     "name": "stdout",
     "output_type": "stream",
     "text": [
      "Without extra:  0.7401015665346876\n",
      "With extra:  0.7459975899466346\n"
     ]
    }
   ],
   "source": [
    "# getting AUC score for classifier trained on only original data\n",
    "fpr, tpr, thres=roc_curve(Y_test,prediction_on_real_dataset[:,1],pos_label=1)\n",
    "\n",
    "#getting AUC score for classifier trained on original + LSTM generated data\n",
    "efpr, etpr, ethres=roc_curve(Y_test,prediction_on_real_dataset_adding_extra[:,1],pos_label=1)\n",
    "\n",
    "with_=auc(fpr,tpr)\n",
    "without_=auc(efpr,etpr)\n",
    "print('Without extra: ',auc(fpr,tpr))\n",
    "\n",
    "print('With extra: ',auc(efpr,etpr))"
   ]
  },
  {
   "cell_type": "code",
   "execution_count": 31,
   "metadata": {},
   "outputs": [
    {
     "data": {
      "image/png": "[encoded data removed]",
      "text/plain": [
       "<matplotlib.figure.Figure at 0xaaaee1dc88>"
      ]
     },
     "metadata": {},
     "output_type": "display_data"
    }
   ],
   "source": [
    "# plotting data ( for minority predictions , here minority class = 1)\n",
    "\n",
    "Y_probs=prediction_on_real_dataset[:,1]\n",
    "fpr,tpr,_=roc_curve(Y_test,Y_probs)\n",
    "\n",
    "Y_probs_extra=prediction_on_real_dataset_adding_extra[:,1]\n",
    "efpr,etpr,_=roc_curve(Y_test,Y_probs_extra)\n",
    "\n",
    "original=auc(fpr,tpr)\n",
    "lstm_with_extra=auc(efpr,etpr)\n",
    "\n",
    "original=original.astype(float)\n",
    "lstm_with_extra=lstm_with_extra.astype(float)\n",
    "\n",
    "\n",
    "pyplot.clf()\n",
    "pyplot.plot(fpr, tpr,label='original (AUC : %5.4f)'%(with_),linewidth='1.2')\n",
    "pyplot.plot(efpr,etpr,label='LSTM generated+original(AUC : %5.4f)'%(without_),linewidth='1.2')\n",
    "pyplot.xlabel('FPR')\n",
    "pyplot.ylabel('TPR')\n",
    "pyplot.title('ROC curve - Pima dataset')\n",
    "pyplot.legend(loc=4)\n",
    "pyplot.savefig('ROC curve .png',dpi=500)\n",
    "pyplot.show()"
   ]
  },
  {
   "cell_type": "code",
   "execution_count": 50,
   "metadata": {},
   "outputs": [
    {
     "data": {
      "image/png": "[encoded data removed]",
      "text/plain": [
       "<matplotlib.figure.Figure at 0x3a102dd9b0>"
      ]
     },
     "metadata": {},
     "output_type": "display_data"
    }
   ],
   "source": [
    "Y_probs=prediction_on_real_dataset[:,0]\n",
    "fpr,tpr,_=roc_curve(Y_test,Y_probs)\n",
    "\n",
    "Y_probs_extra=prediction_on_real_dataset_adding_extra[:,0]\n",
    "efpr,etpr,_=roc_curve(Y_test,Y_probs_extra)\n",
    "\n",
    "pyplot.clf()\n",
    "pyplot.plot(fpr, tpr,label='original')\n",
    "pyplot.plot(efpr,etpr,label='LSTM generated')\n",
    "pyplot.xlabel('FPR')\n",
    "pyplot.ylabel('TPR(recall)')\n",
    "pyplot.title('ROC curve - Pima dataset')\n",
    "pyplot.legend(loc=2)\n",
    "pyplot.show()"
   ]
  },
  {
   "cell_type": "code",
   "execution_count": 51,
   "metadata": {},
   "outputs": [
    {
     "data": {
      "text/plain": [
       "array([[0.71423122, 0.28576878],\n",
       "       [0.59616684, 0.40383316],\n",
       "       [0.83005919, 0.16994081],\n",
       "       [0.78963776, 0.21036224],\n",
       "       [0.79043351, 0.20956649],\n",
       "       [0.81166888, 0.18833112],\n",
       "       [0.34959236, 0.65040764],\n",
       "       [0.22883841, 0.77116159],\n",
       "       [0.44679005, 0.55320995],\n",
       "       [0.5       , 0.5       ],\n",
       "       [0.44267355, 0.55732645],\n",
       "       [0.71246436, 0.28753564],\n",
       "       [0.44457424, 0.55542576],\n",
       "       [0.78006475, 0.21993525],\n",
       "       [0.79979039, 0.20020961],\n",
       "       [0.81872061, 0.18127939],\n",
       "       [0.81695841, 0.18304159],\n",
       "       [0.40885297, 0.59114703],\n",
       "       [0.68618511, 0.31381489],\n",
       "       [0.81831093, 0.18168907],\n",
       "       [0.77140821, 0.22859179],\n",
       "       [0.21870017, 0.78129983],\n",
       "       [0.79170787, 0.20829213],\n",
       "       [0.14904521, 0.85095479],\n",
       "       [0.6086659 , 0.3913341 ],\n",
       "       [0.76539349, 0.23460651],\n",
       "       [0.63370769, 0.36629231],\n",
       "       [0.44004964, 0.55995036],\n",
       "       [0.69523069, 0.30476931],\n",
       "       [0.63259559, 0.36740441],\n",
       "       [0.80332758, 0.19667242],\n",
       "       [0.72559076, 0.27440924],\n",
       "       [0.65311637, 0.34688363],\n",
       "       [0.83714706, 0.16285294],\n",
       "       [0.56309331, 0.43690669],\n",
       "       [0.7766161 , 0.2233839 ],\n",
       "       [0.74797402, 0.25202598],\n",
       "       [0.70739301, 0.29260699],\n",
       "       [0.79084948, 0.20915052],\n",
       "       [0.80814332, 0.19185668],\n",
       "       [0.81047938, 0.18952062],\n",
       "       [0.64876985, 0.35123015],\n",
       "       [0.78162939, 0.21837061],\n",
       "       [0.4086525 , 0.5913475 ],\n",
       "       [0.82718009, 0.17281991],\n",
       "       [0.44412872, 0.55587128],\n",
       "       [0.44628403, 0.55371597],\n",
       "       [0.80741057, 0.19258943],\n",
       "       [0.70518009, 0.29481991],\n",
       "       [0.70570162, 0.29429838],\n",
       "       [0.38435764, 0.61564236],\n",
       "       [0.81195591, 0.18804409],\n",
       "       [0.40490882, 0.59509118],\n",
       "       [0.41454681, 0.58545319],\n",
       "       [0.79934902, 0.20065098],\n",
       "       [0.68958105, 0.31041895],\n",
       "       [0.7972957 , 0.2027043 ],\n",
       "       [0.80937836, 0.19062164],\n",
       "       [0.33288319, 0.66711681],\n",
       "       [0.85796303, 0.14203697],\n",
       "       [0.50977224, 0.49022776],\n",
       "       [0.33844586, 0.66155414],\n",
       "       [0.28186434, 0.71813566],\n",
       "       [0.8438839 , 0.1561161 ],\n",
       "       [0.69421928, 0.30578072],\n",
       "       [0.81190566, 0.18809434],\n",
       "       [0.77873732, 0.22126268],\n",
       "       [0.68924294, 0.31075706],\n",
       "       [0.47611714, 0.52388286],\n",
       "       [0.62663125, 0.37336875],\n",
       "       [0.10422373, 0.89577627],\n",
       "       [0.75031498, 0.24968502],\n",
       "       [0.81831137, 0.18168863],\n",
       "       [0.50733292, 0.49266708],\n",
       "       [0.37222549, 0.62777451],\n",
       "       [0.33166559, 0.66833441],\n",
       "       [0.8311615 , 0.1688385 ],\n",
       "       [0.23217736, 0.76782264],\n",
       "       [0.57989007, 0.42010993],\n",
       "       [0.82729674, 0.17270326],\n",
       "       [0.31159612, 0.68840388],\n",
       "       [0.45833245, 0.54166755],\n",
       "       [0.59615162, 0.40384838],\n",
       "       [0.56006832, 0.43993168],\n",
       "       [0.80290273, 0.19709727],\n",
       "       [0.76314388, 0.23685612],\n",
       "       [0.82656167, 0.17343833],\n",
       "       [0.68005492, 0.31994508],\n",
       "       [0.70580378, 0.29419622],\n",
       "       [0.73090196, 0.26909804],\n",
       "       [0.15119225, 0.84880775],\n",
       "       [0.81679826, 0.18320174],\n",
       "       [0.80140917, 0.19859083],\n",
       "       [0.73265601, 0.26734399],\n",
       "       [0.80302518, 0.19697482],\n",
       "       [0.22288216, 0.77711784],\n",
       "       [0.2768757 , 0.7231243 ],\n",
       "       [0.78142208, 0.21857792],\n",
       "       [0.82483144, 0.17516856],\n",
       "       [0.8215638 , 0.1784362 ],\n",
       "       [0.80681599, 0.19318401],\n",
       "       [0.81521739, 0.18478261],\n",
       "       [0.33325113, 0.66674887],\n",
       "       [0.51041554, 0.48958446],\n",
       "       [0.78277511, 0.21722489],\n",
       "       [0.53795657, 0.46204343],\n",
       "       [0.79193499, 0.20806501],\n",
       "       [0.79051793, 0.20948207],\n",
       "       [0.21035067, 0.78964933],\n",
       "       [0.77009255, 0.22990745],\n",
       "       [0.78016876, 0.21983124],\n",
       "       [0.12373751, 0.87626249],\n",
       "       [0.70813766, 0.29186234],\n",
       "       [0.7267413 , 0.2732587 ],\n",
       "       [0.70828969, 0.29171031],\n",
       "       [0.77665502, 0.22334498],\n",
       "       [0.73100399, 0.26899601],\n",
       "       [0.5       , 0.5       ],\n",
       "       [0.80028252, 0.19971748],\n",
       "       [0.79430238, 0.20569762],\n",
       "       [0.28479289, 0.71520711],\n",
       "       [0.32274405, 0.67725595],\n",
       "       [0.81137739, 0.18862261],\n",
       "       [0.70951325, 0.29048675],\n",
       "       [0.80443344, 0.19556656],\n",
       "       [0.79664852, 0.20335148],\n",
       "       [0.7956317 , 0.2043683 ],\n",
       "       [0.79544713, 0.20455287],\n",
       "       [0.83236216, 0.16763784],\n",
       "       [0.78795156, 0.21204844],\n",
       "       [0.47219277, 0.52780723],\n",
       "       [0.75550693, 0.24449307],\n",
       "       [0.4637145 , 0.5362855 ],\n",
       "       [0.79111634, 0.20888366],\n",
       "       [0.77769255, 0.22230745],\n",
       "       [0.8305469 , 0.1694531 ],\n",
       "       [0.65322307, 0.34677693],\n",
       "       [0.8176964 , 0.1823036 ],\n",
       "       [0.37186216, 0.62813784],\n",
       "       [0.8217901 , 0.1782099 ],\n",
       "       [0.72027666, 0.27972334],\n",
       "       [0.14679282, 0.85320718],\n",
       "       [0.70801616, 0.29198384],\n",
       "       [0.54375361, 0.45624639],\n",
       "       [0.84423335, 0.15576665],\n",
       "       [0.49449038, 0.50550962],\n",
       "       [0.78468222, 0.21531778],\n",
       "       [0.71528287, 0.28471713],\n",
       "       [0.7582262 , 0.2417738 ],\n",
       "       [0.7920074 , 0.2079926 ],\n",
       "       [0.5467836 , 0.4532164 ],\n",
       "       [0.39799687, 0.60200313],\n",
       "       [0.8432229 , 0.1567771 ],\n",
       "       [0.66369288, 0.33630712],\n",
       "       [0.64365308, 0.35634692],\n",
       "       [0.77372913, 0.22627087],\n",
       "       [0.5       , 0.5       ],\n",
       "       [0.8120698 , 0.1879302 ],\n",
       "       [0.79974383, 0.20025617],\n",
       "       [0.26461396, 0.73538604],\n",
       "       [0.80067017, 0.19932983],\n",
       "       [0.34436777, 0.65563223],\n",
       "       [0.66730132, 0.33269868],\n",
       "       [0.80622776, 0.19377224],\n",
       "       [0.79652878, 0.20347122],\n",
       "       [0.68767729, 0.31232271],\n",
       "       [0.51770938, 0.48229062],\n",
       "       [0.82632661, 0.17367339],\n",
       "       [0.75500808, 0.24499192],\n",
       "       [0.16985891, 0.83014109],\n",
       "       [0.7865865 , 0.2134135 ],\n",
       "       [0.78986285, 0.21013715],\n",
       "       [0.64760238, 0.35239762],\n",
       "       [0.65204781, 0.34795219],\n",
       "       [0.55111792, 0.44888208],\n",
       "       [0.77223877, 0.22776123],\n",
       "       [0.35456112, 0.64543888],\n",
       "       [0.80881653, 0.19118347],\n",
       "       [0.7372917 , 0.2627083 ],\n",
       "       [0.54568465, 0.45431535],\n",
       "       [0.68766096, 0.31233904],\n",
       "       [0.79699008, 0.20300992],\n",
       "       [0.80445998, 0.19554002],\n",
       "       [0.20185035, 0.79814965],\n",
       "       [0.5       , 0.5       ],\n",
       "       [0.80785492, 0.19214508],\n",
       "       [0.35178889, 0.64821111],\n",
       "       [0.56008312, 0.43991688],\n",
       "       [0.19257582, 0.80742418],\n",
       "       [0.51423366, 0.48576634],\n",
       "       [0.34887654, 0.65112346],\n",
       "       [0.1643027 , 0.8356973 ],\n",
       "       [0.61907752, 0.38092248],\n",
       "       [0.44184677, 0.55815323],\n",
       "       [0.8344694 , 0.1655306 ],\n",
       "       [0.3019769 , 0.6980231 ],\n",
       "       [0.84173236, 0.15826764],\n",
       "       [0.5       , 0.5       ],\n",
       "       [0.80280441, 0.19719559],\n",
       "       [0.81414751, 0.18585249],\n",
       "       [0.75911607, 0.24088393],\n",
       "       [0.8106768 , 0.1893232 ],\n",
       "       [0.7832763 , 0.2167237 ],\n",
       "       [0.32061621, 0.67938379],\n",
       "       [0.47287607, 0.52712393],\n",
       "       [0.81053091, 0.18946909],\n",
       "       [0.58771214, 0.41228786],\n",
       "       [0.23107904, 0.76892096],\n",
       "       [0.73380489, 0.26619511],\n",
       "       [0.23678908, 0.76321092],\n",
       "       [0.67644809, 0.32355191],\n",
       "       [0.79380465, 0.20619535],\n",
       "       [0.50875556, 0.49124444],\n",
       "       [0.12151071, 0.87848929],\n",
       "       [0.2624559 , 0.7375441 ],\n",
       "       [0.81797722, 0.18202278],\n",
       "       [0.80125066, 0.19874934],\n",
       "       [0.14365822, 0.85634178],\n",
       "       [0.8324071 , 0.1675929 ],\n",
       "       [0.66557117, 0.33442883],\n",
       "       [0.45846304, 0.54153696],\n",
       "       [0.65427317, 0.34572683],\n",
       "       [0.60278613, 0.39721387],\n",
       "       [0.66103594, 0.33896406],\n",
       "       [0.78117853, 0.21882147],\n",
       "       [0.80958632, 0.19041368],\n",
       "       [0.49289289, 0.50710711],\n",
       "       [0.777706  , 0.222294  ],\n",
       "       [0.81819422, 0.18180578],\n",
       "       [0.816645  , 0.183355  ],\n",
       "       [0.42481152, 0.57518848]])"
      ]
     },
     "execution_count": 51,
     "metadata": {},
     "output_type": "execute_result"
    }
   ],
   "source": [
    "prediction_on_real_dataset"
   ]
  },
  {
   "cell_type": "code",
   "execution_count": 52,
   "metadata": {},
   "outputs": [
    {
     "data": {
      "text/plain": [
       "array([[0.73911479, 0.26088521],\n",
       "       [0.57806086, 0.42193914],\n",
       "       [0.85294776, 0.14705224],\n",
       "       [0.80885662, 0.19114338],\n",
       "       [0.8435121 , 0.1564879 ],\n",
       "       [0.89092182, 0.10907818],\n",
       "       [0.2961195 , 0.7038805 ],\n",
       "       [0.16844994, 0.83155006],\n",
       "       [0.39894046, 0.60105954],\n",
       "       [0.46569347, 0.53430653],\n",
       "       [0.38896452, 0.61103548],\n",
       "       [0.69538521, 0.30461479],\n",
       "       [0.39852046, 0.60147954],\n",
       "       [0.82631933, 0.17368067],\n",
       "       [0.86753988, 0.13246012],\n",
       "       [0.8368405 , 0.1631595 ],\n",
       "       [0.87000314, 0.12999686],\n",
       "       [0.22778975, 0.77221025],\n",
       "       [0.68723362, 0.31276638],\n",
       "       [0.85270747, 0.14729253],\n",
       "       [0.77413579, 0.22586421],\n",
       "       [0.169007  , 0.830993  ],\n",
       "       [0.8269835 , 0.1730165 ],\n",
       "       [0.10278504, 0.89721496],\n",
       "       [0.59269737, 0.40730263],\n",
       "       [0.79649928, 0.20350072],\n",
       "       [0.5       , 0.5       ],\n",
       "       [0.36425576, 0.63574424],\n",
       "       [0.69081665, 0.30918335],\n",
       "       [0.60326403, 0.39673597],\n",
       "       [0.8320349 , 0.1679651 ],\n",
       "       [0.63283085, 0.36716915],\n",
       "       [0.64409107, 0.35590893],\n",
       "       [0.86143765, 0.13856235],\n",
       "       [0.52866863, 0.47133137],\n",
       "       [0.80482081, 0.19517919],\n",
       "       [0.79068494, 0.20931506],\n",
       "       [0.69356412, 0.30643588],\n",
       "       [0.82126161, 0.17873839],\n",
       "       [0.82667895, 0.17332105],\n",
       "       [0.81436665, 0.18563335],\n",
       "       [0.64327603, 0.35672397],\n",
       "       [0.79887612, 0.20112388],\n",
       "       [0.34831416, 0.65168584],\n",
       "       [0.78472024, 0.21527976],\n",
       "       [0.38954545, 0.61045455],\n",
       "       [0.39312822, 0.60687178],\n",
       "       [0.82706823, 0.17293177],\n",
       "       [0.70799305, 0.29200695],\n",
       "       [0.69201441, 0.30798559],\n",
       "       [0.33814417, 0.66185583],\n",
       "       [0.86298492, 0.13701508],\n",
       "       [0.34519832, 0.65480168],\n",
       "       [0.35391878, 0.64608122],\n",
       "       [0.8193826 , 0.1806174 ],\n",
       "       [0.6829426 , 0.3170574 ],\n",
       "       [0.70768244, 0.29231756],\n",
       "       [0.8306043 , 0.1693957 ],\n",
       "       [0.28191051, 0.71808949],\n",
       "       [0.8860606 , 0.1139394 ],\n",
       "       [0.47359316, 0.52640684],\n",
       "       [0.28235715, 0.71764285],\n",
       "       [0.22223225, 0.77776775],\n",
       "       [0.86690709, 0.13309291],\n",
       "       [0.30759963, 0.69240037],\n",
       "       [0.8320146 , 0.1679854 ],\n",
       "       [0.79923819, 0.20076181],\n",
       "       [0.68954442, 0.31045558],\n",
       "       [0.42197282, 0.57802718],\n",
       "       [0.61092153, 0.38907847],\n",
       "       [0.0682271 , 0.9317729 ],\n",
       "       [0.75453342, 0.24546658],\n",
       "       [0.82260846, 0.17739154],\n",
       "       [0.455863  , 0.544137  ],\n",
       "       [0.32193192, 0.67806808],\n",
       "       [0.27341892, 0.72658108],\n",
       "       [0.85789934, 0.14210066],\n",
       "       [0.17827693, 0.82172307],\n",
       "       [0.47752771, 0.52247229],\n",
       "       [0.85960651, 0.14039349],\n",
       "       [0.25252129, 0.74747871],\n",
       "       [0.3561986 , 0.6438014 ],\n",
       "       [0.57544999, 0.42455001],\n",
       "       [0.51697411, 0.48302589],\n",
       "       [0.84829999, 0.15170001],\n",
       "       [0.77222246, 0.22777754],\n",
       "       [0.86091041, 0.13908959],\n",
       "       [0.6806267 , 0.3193733 ],\n",
       "       [0.71045811, 0.28954189],\n",
       "       [0.45574165, 0.54425835],\n",
       "       [0.1055178 , 0.8944822 ],\n",
       "       [0.83558505, 0.16441495],\n",
       "       [0.8119024 , 0.1880976 ],\n",
       "       [0.74064564, 0.25935436],\n",
       "       [0.82781107, 0.17218893],\n",
       "       [0.16651239, 0.83348761],\n",
       "       [0.21470562, 0.78529438],\n",
       "       [0.46977507, 0.53022493],\n",
       "       [0.84495381, 0.15504619],\n",
       "       [0.84403643, 0.15596357],\n",
       "       [0.85744047, 0.14255953],\n",
       "       [0.85214386, 0.14785614],\n",
       "       [0.19059842, 0.80940158],\n",
       "       [0.46510459, 0.53489541],\n",
       "       [0.79856778, 0.20143222],\n",
       "       [0.5       , 0.5       ],\n",
       "       [0.81001652, 0.18998348],\n",
       "       [0.82733773, 0.17266227],\n",
       "       [0.14561221, 0.85438779],\n",
       "       [0.77956407, 0.22043593],\n",
       "       [0.79429866, 0.20570134],\n",
       "       [0.08256346, 0.91743654],\n",
       "       [0.70976294, 0.29023706],\n",
       "       [0.72165844, 0.27834156],\n",
       "       [0.70839443, 0.29160557],\n",
       "       [0.83149515, 0.16850485],\n",
       "       [0.69365048, 0.30634952],\n",
       "       [0.43607608, 0.56392392],\n",
       "       [0.74220083, 0.25779917],\n",
       "       [0.78882685, 0.21117315],\n",
       "       [0.22600665, 0.77399335],\n",
       "       [0.26394113, 0.73605887],\n",
       "       [0.83112487, 0.16887513],\n",
       "       [0.70901649, 0.29098351],\n",
       "       [0.81997223, 0.18002777],\n",
       "       [0.81689769, 0.18310231],\n",
       "       [0.85647316, 0.14352684],\n",
       "       [0.82975009, 0.17024991],\n",
       "       [0.85205841, 0.14794159],\n",
       "       [0.85014606, 0.14985394],\n",
       "       [0.42271943, 0.57728057],\n",
       "       [0.75009603, 0.24990397],\n",
       "       [0.41168008, 0.58831992],\n",
       "       [0.71761884, 0.28238116],\n",
       "       [0.79129341, 0.20870659],\n",
       "       [0.84909683, 0.15090317],\n",
       "       [0.41434055, 0.58565945],\n",
       "       [0.87445819, 0.12554181],\n",
       "       [0.31713214, 0.68286786],\n",
       "       [0.84892426, 0.15107574],\n",
       "       [0.72124173, 0.27875827],\n",
       "       [0.10206846, 0.89793154],\n",
       "       [0.69159801, 0.30840199],\n",
       "       [0.47430047, 0.52569953],\n",
       "       [0.87244018, 0.12755982],\n",
       "       [0.45177073, 0.54822927],\n",
       "       [0.79925928, 0.20074072],\n",
       "       [0.71435919, 0.28564081],\n",
       "       [0.7612992 , 0.2387008 ],\n",
       "       [0.85903944, 0.14096056],\n",
       "       [0.51741506, 0.48258494],\n",
       "       [0.35166582, 0.64833418],\n",
       "       [0.86553922, 0.13446078],\n",
       "       [0.55792385, 0.44207615],\n",
       "       [0.63615429, 0.36384571],\n",
       "       [0.81448262, 0.18551738],\n",
       "       [0.45786007, 0.54213993],\n",
       "       [0.83024228, 0.16975772],\n",
       "       [0.82267598, 0.17732402],\n",
       "       [0.20809303, 0.79190697],\n",
       "       [0.87936287, 0.12063713],\n",
       "       [0.2814817 , 0.7185183 ],\n",
       "       [0.4526897 , 0.5473103 ],\n",
       "       [0.86295871, 0.13704129],\n",
       "       [0.78790321, 0.21209679],\n",
       "       [0.72428917, 0.27571083],\n",
       "       [0.47725218, 0.52274782],\n",
       "       [0.84775167, 0.15224833],\n",
       "       [0.75483384, 0.24516616],\n",
       "       [0.1177316 , 0.8822684 ],\n",
       "       [0.77465752, 0.22534248],\n",
       "       [0.8342829 , 0.1657171 ],\n",
       "       [0.62372283, 0.37627717],\n",
       "       [0.29715369, 0.70284631],\n",
       "       [0.52262972, 0.47737028],\n",
       "       [0.78459192, 0.21540808],\n",
       "       [0.23283215, 0.76716785],\n",
       "       [0.82769364, 0.17230636],\n",
       "       [0.74192621, 0.25807379],\n",
       "       [0.23871104, 0.76128896],\n",
       "       [0.69134555, 0.30865445],\n",
       "       [0.83974935, 0.16025065],\n",
       "       [0.8255974 , 0.1744026 ],\n",
       "       [0.15017586, 0.84982414],\n",
       "       [0.43900148, 0.56099852],\n",
       "       [0.86321357, 0.13678643],\n",
       "       [0.30641401, 0.69358599],\n",
       "       [0.51699182, 0.48300818],\n",
       "       [0.1435797 , 0.8564203 ],\n",
       "       [0.46415103, 0.53584897],\n",
       "       [0.29449666, 0.70550334],\n",
       "       [0.1164534 , 0.8835466 ],\n",
       "       [0.59445436, 0.40554564],\n",
       "       [0.38104444, 0.61895556],\n",
       "       [0.85524959, 0.14475041],\n",
       "       [0.26605889, 0.73394111],\n",
       "       [0.87258542, 0.12741458],\n",
       "       [0.5       , 0.5       ],\n",
       "       [0.82127199, 0.17872801],\n",
       "       [0.83557626, 0.16442374],\n",
       "       [0.76180347, 0.23819653],\n",
       "       [0.7227366 , 0.2772634 ],\n",
       "       [0.80662157, 0.19337843],\n",
       "       [0.25695914, 0.74304086],\n",
       "       [0.48863461, 0.51136539],\n",
       "       [0.89594576, 0.10405424],\n",
       "       [0.48658398, 0.51341602],\n",
       "       [0.17441416, 0.82558584],\n",
       "       [0.73790182, 0.26209818],\n",
       "       [0.17574001, 0.82425999],\n",
       "       [0.67057641, 0.32942359],\n",
       "       [0.80778385, 0.19221615],\n",
       "       [0.47718319, 0.52281681],\n",
       "       [0.08146504, 0.91853496],\n",
       "       [0.20478463, 0.79521537],\n",
       "       [0.83569651, 0.16430349],\n",
       "       [0.81670022, 0.18329978],\n",
       "       [0.09998757, 0.90001243],\n",
       "       [0.84127745, 0.15872255],\n",
       "       [0.65246608, 0.34753392],\n",
       "       [0.41152151, 0.58847849],\n",
       "       [0.63074166, 0.36925834],\n",
       "       [0.58416471, 0.41583529],\n",
       "       [0.63473091, 0.36526909],\n",
       "       [0.71930339, 0.28069661],\n",
       "       [0.86086778, 0.13913222],\n",
       "       [0.44748918, 0.55251082],\n",
       "       [0.79157586, 0.20842414],\n",
       "       [0.90511478, 0.09488522],\n",
       "       [0.87779577, 0.12220423],\n",
       "       [0.37480488, 0.62519512]])"
      ]
     },
     "execution_count": 52,
     "metadata": {},
     "output_type": "execute_result"
    }
   ],
   "source": [
    "prediction_on_real_dataset_adding_extra"
   ]
  },
  {
   "cell_type": "code",
   "execution_count": null,
   "metadata": {
    "collapsed": true
   },
   "outputs": [],
   "source": []
  },
  {
   "cell_type": "code",
   "execution_count": null,
   "metadata": {
    "collapsed": true
   },
   "outputs": [],
   "source": []
  }
 ],
 "metadata": {
  "kernelspec": {
   "display_name": "Python 3",
   "language": "python",
   "name": "python3"
  },
  "language_info": {
   "codemirror_mode": {
    "name": "ipython",
    "version": 3
   },
   "file_extension": ".py",
   "mimetype": "text/x-python",
   "name": "python",
   "nbconvert_exporter": "python",
   "pygments_lexer": "ipython3",
   "version": "3.6.6"
  }
 },
 "nbformat": 4,
 "nbformat_minor": 2
}
