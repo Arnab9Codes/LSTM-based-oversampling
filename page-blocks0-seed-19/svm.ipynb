{
 "cells": [
  {
   "cell_type": "code",
   "execution_count": 1,
   "metadata": {
    "collapsed": true
   },
   "outputs": [],
   "source": [
    "import time\n",
    "import math\n",
    "\n",
    "import numpy as np\n",
    "import pandas as pd\n",
    "from pandas import DataFrame\n",
    "from pandas import concat\n",
    "from matplotlib import pyplot\n",
    "\n",
    "from sklearn.preprocessing import MinMaxScaler\n",
    "from sklearn.preprocessing import LabelEncoder\n",
    "from sklearn.metrics import mean_squared_error\n",
    "\n",
    "from sklearn.preprocessing import StandardScaler\n",
    "from sklearn.model_selection import train_test_split\n",
    "from sklearn.model_selection import KFold\n",
    "from sklearn.model_selection import cross_val_score\n",
    "from sklearn.model_selection import GridSearchCV\n",
    "from sklearn.metrics import classification_report\n",
    "from sklearn.metrics import confusion_matrix\n",
    "from sklearn.metrics import accuracy_score\n",
    "from sklearn.metrics import precision_recall_curve\n",
    "\n",
    "from sklearn.pipeline import Pipeline\n",
    "from sklearn.linear_model import LogisticRegression\n",
    "from sklearn.tree import DecisionTreeClassifier\n",
    "from sklearn.neighbors import KNeighborsClassifier\n",
    "from sklearn.discriminant_analysis import LinearDiscriminantAnalysis\n",
    "from sklearn.naive_bayes import GaussianNB\n",
    "from sklearn.svm import SVC\n",
    "from sklearn.ensemble import AdaBoostClassifier\n",
    "from sklearn.ensemble import GradientBoostingClassifier\n",
    "from sklearn.ensemble import RandomForestClassifier\n",
    "from sklearn.ensemble import ExtraTreesClassifier\n",
    "\n",
    "from sklearn.model_selection import GridSearchCV\n",
    "\n",
    "import pickle"
   ]
  },
  {
   "cell_type": "code",
   "execution_count": 2,
   "metadata": {
    "collapsed": true
   },
   "outputs": [],
   "source": [
    "extra_data=pd.read_csv('new_corrected_data-v1.csv')# loading extra genereated data genereated by LSTM #prediction_of_1_0007.csv\n",
    "original_data=pd.read_csv('train_Data.csv')#original data"
   ]
  },
  {
   "cell_type": "code",
   "execution_count": 3,
   "metadata": {},
   "outputs": [
    {
     "data": {
      "text/html": [
       "<div>\n",
       "<style scoped>\n",
       "    .dataframe tbody tr th:only-of-type {\n",
       "        vertical-align: middle;\n",
       "    }\n",
       "\n",
       "    .dataframe tbody tr th {\n",
       "        vertical-align: top;\n",
       "    }\n",
       "\n",
       "    .dataframe thead th {\n",
       "        text-align: right;\n",
       "    }\n",
       "</style>\n",
       "<table border=\"1\" class=\"dataframe\">\n",
       "  <thead>\n",
       "    <tr style=\"text-align: right;\">\n",
       "      <th></th>\n",
       "      <th>0</th>\n",
       "      <th>1</th>\n",
       "      <th>2</th>\n",
       "      <th>3</th>\n",
       "      <th>4</th>\n",
       "      <th>5</th>\n",
       "      <th>6</th>\n",
       "      <th>7</th>\n",
       "      <th>8</th>\n",
       "      <th>9</th>\n",
       "      <th>10</th>\n",
       "    </tr>\n",
       "  </thead>\n",
       "  <tbody>\n",
       "    <tr>\n",
       "      <th>0</th>\n",
       "      <td>42.101994</td>\n",
       "      <td>165.060500</td>\n",
       "      <td>11130.3050</td>\n",
       "      <td>82.07807</td>\n",
       "      <td>0.466909</td>\n",
       "      <td>0.688991</td>\n",
       "      <td>26.851719</td>\n",
       "      <td>1243.2200</td>\n",
       "      <td>3086.0750</td>\n",
       "      <td>211.16808</td>\n",
       "      <td>0.999503</td>\n",
       "    </tr>\n",
       "    <tr>\n",
       "      <th>1</th>\n",
       "      <td>-6.951393</td>\n",
       "      <td>53.553783</td>\n",
       "      <td>-2126.9055</td>\n",
       "      <td>57.51599</td>\n",
       "      <td>0.243188</td>\n",
       "      <td>0.496180</td>\n",
       "      <td>19.804680</td>\n",
       "      <td>-581.0136</td>\n",
       "      <td>-2101.1338</td>\n",
       "      <td>-103.37398</td>\n",
       "      <td>0.999798</td>\n",
       "    </tr>\n",
       "    <tr>\n",
       "      <th>2</th>\n",
       "      <td>46.652820</td>\n",
       "      <td>189.147020</td>\n",
       "      <td>10726.1700</td>\n",
       "      <td>103.83028</td>\n",
       "      <td>0.504874</td>\n",
       "      <td>0.728695</td>\n",
       "      <td>25.292486</td>\n",
       "      <td>2963.2021</td>\n",
       "      <td>4542.4785</td>\n",
       "      <td>239.93225</td>\n",
       "      <td>0.999855</td>\n",
       "    </tr>\n",
       "    <tr>\n",
       "      <th>3</th>\n",
       "      <td>97.266266</td>\n",
       "      <td>286.245500</td>\n",
       "      <td>20067.6150</td>\n",
       "      <td>70.67423</td>\n",
       "      <td>0.661183</td>\n",
       "      <td>0.805054</td>\n",
       "      <td>29.420465</td>\n",
       "      <td>8472.3450</td>\n",
       "      <td>11484.0780</td>\n",
       "      <td>825.31070</td>\n",
       "      <td>0.999990</td>\n",
       "    </tr>\n",
       "    <tr>\n",
       "      <th>4</th>\n",
       "      <td>74.341400</td>\n",
       "      <td>167.443600</td>\n",
       "      <td>14935.6680</td>\n",
       "      <td>27.41037</td>\n",
       "      <td>0.320366</td>\n",
       "      <td>0.428258</td>\n",
       "      <td>29.850327</td>\n",
       "      <td>1036.6412</td>\n",
       "      <td>3976.6782</td>\n",
       "      <td>344.62850</td>\n",
       "      <td>0.999580</td>\n",
       "    </tr>\n",
       "  </tbody>\n",
       "</table>\n",
       "</div>"
      ],
      "text/plain": [
       "           0           1           2          3         4         5  \\\n",
       "0  42.101994  165.060500  11130.3050   82.07807  0.466909  0.688991   \n",
       "1  -6.951393   53.553783  -2126.9055   57.51599  0.243188  0.496180   \n",
       "2  46.652820  189.147020  10726.1700  103.83028  0.504874  0.728695   \n",
       "3  97.266266  286.245500  20067.6150   70.67423  0.661183  0.805054   \n",
       "4  74.341400  167.443600  14935.6680   27.41037  0.320366  0.428258   \n",
       "\n",
       "           6          7           8          9        10  \n",
       "0  26.851719  1243.2200   3086.0750  211.16808  0.999503  \n",
       "1  19.804680  -581.0136  -2101.1338 -103.37398  0.999798  \n",
       "2  25.292486  2963.2021   4542.4785  239.93225  0.999855  \n",
       "3  29.420465  8472.3450  11484.0780  825.31070  0.999990  \n",
       "4  29.850327  1036.6412   3976.6782  344.62850  0.999580  "
      ]
     },
     "execution_count": 3,
     "metadata": {},
     "output_type": "execute_result"
    }
   ],
   "source": [
    "extra_data.head()#displaying LSTM generated data"
   ]
  },
  {
   "cell_type": "code",
   "execution_count": 4,
   "metadata": {},
   "outputs": [
    {
     "name": "stdout",
     "output_type": "stream",
     "text": [
      "(158, 11)\n"
     ]
    }
   ],
   "source": [
    "extra=np.array(extra_data)# getting the original shape\n",
    "print(extra.shape)"
   ]
  },
  {
   "cell_type": "code",
   "execution_count": 5,
   "metadata": {},
   "outputs": [
    {
     "data": {
      "text/plain": [
       "array([4.2101994e+01, 1.6506050e+02, 1.1130305e+04, 8.2078070e+01,\n",
       "       4.6690887e-01, 6.8899080e-01, 2.6851719e+01, 1.2432200e+03,\n",
       "       3.0860750e+03, 2.1116808e+02, 9.9950340e-01])"
      ]
     },
     "execution_count": 5,
     "metadata": {},
     "output_type": "execute_result"
    }
   ],
   "source": [
    "extra[0] # showing first row vector"
   ]
  },
  {
   "cell_type": "code",
   "execution_count": 6,
   "metadata": {
    "collapsed": true
   },
   "outputs": [],
   "source": [
    "# Setting predictions of all generated data to 1 because their outputs are mostly 0.98, 0.99 etc. \n",
    "for i in range(0,len(extra),1):\n",
    "    extra[i][8]=int(1)"
   ]
  },
  {
   "cell_type": "code",
   "execution_count": 7,
   "metadata": {},
   "outputs": [
    {
     "data": {
      "text/plain": [
       "array([[ 4.2101994e+01,  1.6506050e+02,  1.1130305e+04, ...,\n",
       "         1.0000000e+00,  2.1116808e+02,  9.9950340e-01],\n",
       "       [-6.9513930e+00,  5.3553783e+01, -2.1269055e+03, ...,\n",
       "         1.0000000e+00, -1.0337398e+02,  9.9979776e-01],\n",
       "       [ 4.6652820e+01,  1.8914702e+02,  1.0726170e+04, ...,\n",
       "         1.0000000e+00,  2.3993225e+02,  9.9985456e-01],\n",
       "       ...,\n",
       "       [ 1.0129494e+01, -8.5703560e+01, -7.6004697e+03, ...,\n",
       "         1.0000000e+00,  7.0601120e+01,  1.0020401e+00],\n",
       "       [ 2.1263197e+01,  2.1617750e+02,  5.0056190e+03, ...,\n",
       "         1.0000000e+00,  1.3904668e+02,  9.9966234e-01],\n",
       "       [ 3.6879498e+01,  2.1817941e+02,  8.3901580e+03, ...,\n",
       "         1.0000000e+00,  1.3272324e+02,  9.9972105e-01]])"
      ]
     },
     "execution_count": 7,
     "metadata": {},
     "output_type": "execute_result"
    }
   ],
   "source": [
    "extra #showing LSTM generated extra data ready for training"
   ]
  },
  {
   "cell_type": "code",
   "execution_count": 8,
   "metadata": {},
   "outputs": [
    {
     "data": {
      "text/html": [
       "<div>\n",
       "<style scoped>\n",
       "    .dataframe tbody tr th:only-of-type {\n",
       "        vertical-align: middle;\n",
       "    }\n",
       "\n",
       "    .dataframe tbody tr th {\n",
       "        vertical-align: top;\n",
       "    }\n",
       "\n",
       "    .dataframe thead th {\n",
       "        text-align: right;\n",
       "    }\n",
       "</style>\n",
       "<table border=\"1\" class=\"dataframe\">\n",
       "  <thead>\n",
       "    <tr style=\"text-align: right;\">\n",
       "      <th></th>\n",
       "      <th>0</th>\n",
       "      <th>1</th>\n",
       "      <th>2</th>\n",
       "      <th>3</th>\n",
       "      <th>4</th>\n",
       "      <th>5</th>\n",
       "      <th>6</th>\n",
       "      <th>7</th>\n",
       "      <th>8</th>\n",
       "      <th>9</th>\n",
       "      <th>10</th>\n",
       "    </tr>\n",
       "  </thead>\n",
       "  <tbody>\n",
       "    <tr>\n",
       "      <th>0</th>\n",
       "      <td>8.0</td>\n",
       "      <td>141.0</td>\n",
       "      <td>1128.0</td>\n",
       "      <td>17.625</td>\n",
       "      <td>0.447</td>\n",
       "      <td>0.932</td>\n",
       "      <td>2.45</td>\n",
       "      <td>504.0</td>\n",
       "      <td>1051.0</td>\n",
       "      <td>206.0</td>\n",
       "      <td>0</td>\n",
       "    </tr>\n",
       "    <tr>\n",
       "      <th>1</th>\n",
       "      <td>8.0</td>\n",
       "      <td>9.0</td>\n",
       "      <td>72.0</td>\n",
       "      <td>1.125</td>\n",
       "      <td>0.389</td>\n",
       "      <td>0.792</td>\n",
       "      <td>2.00</td>\n",
       "      <td>28.0</td>\n",
       "      <td>57.0</td>\n",
       "      <td>14.0</td>\n",
       "      <td>0</td>\n",
       "    </tr>\n",
       "    <tr>\n",
       "      <th>2</th>\n",
       "      <td>6.0</td>\n",
       "      <td>96.0</td>\n",
       "      <td>576.0</td>\n",
       "      <td>16.000</td>\n",
       "      <td>0.267</td>\n",
       "      <td>0.939</td>\n",
       "      <td>1.51</td>\n",
       "      <td>154.0</td>\n",
       "      <td>541.0</td>\n",
       "      <td>102.0</td>\n",
       "      <td>0</td>\n",
       "    </tr>\n",
       "    <tr>\n",
       "      <th>3</th>\n",
       "      <td>11.0</td>\n",
       "      <td>25.0</td>\n",
       "      <td>275.0</td>\n",
       "      <td>2.273</td>\n",
       "      <td>0.327</td>\n",
       "      <td>0.840</td>\n",
       "      <td>1.96</td>\n",
       "      <td>90.0</td>\n",
       "      <td>231.0</td>\n",
       "      <td>46.0</td>\n",
       "      <td>0</td>\n",
       "    </tr>\n",
       "    <tr>\n",
       "      <th>4</th>\n",
       "      <td>11.0</td>\n",
       "      <td>8.0</td>\n",
       "      <td>88.0</td>\n",
       "      <td>0.727</td>\n",
       "      <td>0.693</td>\n",
       "      <td>0.989</td>\n",
       "      <td>10.17</td>\n",
       "      <td>61.0</td>\n",
       "      <td>87.0</td>\n",
       "      <td>6.0</td>\n",
       "      <td>0</td>\n",
       "    </tr>\n",
       "  </tbody>\n",
       "</table>\n",
       "</div>"
      ],
      "text/plain": [
       "      0      1       2       3      4      5      6      7       8      9  10\n",
       "0   8.0  141.0  1128.0  17.625  0.447  0.932   2.45  504.0  1051.0  206.0   0\n",
       "1   8.0    9.0    72.0   1.125  0.389  0.792   2.00   28.0    57.0   14.0   0\n",
       "2   6.0   96.0   576.0  16.000  0.267  0.939   1.51  154.0   541.0  102.0   0\n",
       "3  11.0   25.0   275.0   2.273  0.327  0.840   1.96   90.0   231.0   46.0   0\n",
       "4  11.0    8.0    88.0   0.727  0.693  0.989  10.17   61.0    87.0    6.0   0"
      ]
     },
     "execution_count": 8,
     "metadata": {},
     "output_type": "execute_result"
    }
   ],
   "source": [
    "original_data.head() #showing original data"
   ]
  },
  {
   "cell_type": "code",
   "execution_count": null,
   "metadata": {
    "collapsed": true
   },
   "outputs": [],
   "source": []
  },
  {
   "cell_type": "code",
   "execution_count": 9,
   "metadata": {
    "collapsed": true
   },
   "outputs": [],
   "source": [
    "#loading data values from original dataset(Pima)\n",
    "val=original_data.values"
   ]
  },
  {
   "cell_type": "code",
   "execution_count": 10,
   "metadata": {
    "collapsed": true
   },
   "outputs": [],
   "source": [
    "X=val[:,:10].astype(float)# getting the feature values\n",
    "Y=val[:,10].astype(int)# getting prediction"
   ]
  },
  {
   "cell_type": "code",
   "execution_count": 11,
   "metadata": {
    "collapsed": true
   },
   "outputs": [],
   "source": [
    "#extra_X denotes the extra training data generated by LSTM \n",
    "extra_X=extra[:,:10].astype(float)\n",
    "\n",
    "#extra_Y denotes extra training prediction data for training the algorithm\n",
    "extra_Y=extra[:,10].astype(int)"
   ]
  },
  {
   "cell_type": "code",
   "execution_count": 12,
   "metadata": {
    "collapsed": true
   },
   "outputs": [],
   "source": [
    "# extrain=original training data + LSTM generated training data\n",
    "\n",
    "# eytrain=original training prediction + LSTM generated\n",
    "\n",
    "extrain=np.concatenate((X,extra_X),axis=0)\n",
    "eytrain=np.concatenate((Y,extra_Y),axis=0)"
   ]
  },
  {
   "cell_type": "code",
   "execution_count": 13,
   "metadata": {},
   "outputs": [
    {
     "name": "stdout",
     "output_type": "stream",
     "text": [
      "(3988, 10)\n",
      "(3988,)\n"
     ]
    }
   ],
   "source": [
    "print(extrain.shape)\n",
    "print(eytrain.shape)"
   ]
  },
  {
   "cell_type": "code",
   "execution_count": 14,
   "metadata": {
    "collapsed": true
   },
   "outputs": [],
   "source": [
    "test_Data=pd.read_csv('test_Data.csv')"
   ]
  },
  {
   "cell_type": "code",
   "execution_count": 15,
   "metadata": {
    "collapsed": true
   },
   "outputs": [],
   "source": [
    "test_Data=np.array(test_Data)"
   ]
  },
  {
   "cell_type": "code",
   "execution_count": 16,
   "metadata": {},
   "outputs": [
    {
     "data": {
      "text/plain": [
       "(1642, 11)"
      ]
     },
     "execution_count": 16,
     "metadata": {},
     "output_type": "execute_result"
    }
   ],
   "source": [
    "test_Data.shape"
   ]
  },
  {
   "cell_type": "code",
   "execution_count": 17,
   "metadata": {
    "collapsed": true
   },
   "outputs": [],
   "source": [
    "X_test=test_Data[:,:10].astype(float)\n",
    "Y_test=test_Data[:,10].astype(int)"
   ]
  },
  {
   "cell_type": "code",
   "execution_count": null,
   "metadata": {
    "collapsed": true
   },
   "outputs": [],
   "source": []
  },
  {
   "cell_type": "code",
   "execution_count": 18,
   "metadata": {
    "collapsed": true
   },
   "outputs": [],
   "source": [
    "def svc_param_selection(X, y, nfolds):\n",
    "    Cs = [0.0001,0.001, 0.01, 0.1, 1, 10]\n",
    "    gammas = [0.0001,0.001, 0.01, 0.1, 1,10]\n",
    "    param_grid = {'C': Cs, 'gamma' : gammas}\n",
    "    grid_search = GridSearchCV(SVC(kernel='rbf',probability=True), param_grid, cv=nfolds)\n",
    "    grid_search.fit(X, y)\n",
    "    grid_search.best_params_\n",
    "    return grid_search.best_estimator_"
   ]
  },
  {
   "cell_type": "code",
   "execution_count": 19,
   "metadata": {
    "collapsed": true
   },
   "outputs": [],
   "source": [
    "# setting seed =7 to produce same results over and over again, it was maintained during different experiments \n",
    "seed=19\n"
   ]
  },
  {
   "cell_type": "code",
   "execution_count": 20,
   "metadata": {
    "collapsed": true
   },
   "outputs": [],
   "source": [
    "# first rbf_svc for training on just the original training data\n",
    "#rbf_svc = SVC(kernel='rbf', gamma=0.00001, C=1000,probability=True).fit(X_train,Y_train)\n",
    "rbf_svc=svc_param_selection(X,Y,5)\n",
    "\n",
    "# secondly rbf_svc_extra for training on original+LSTM\n",
    "rbf_svc_extra = svc_param_selection(extrain,eytrain,5)"
   ]
  },
  {
   "cell_type": "code",
   "execution_count": 21,
   "metadata": {},
   "outputs": [
    {
     "data": {
      "text/plain": [
       "SVC(C=10, cache_size=200, class_weight=None, coef0=0.0,\n",
       "    decision_function_shape='ovr', degree=3, gamma=0.0001, kernel='rbf',\n",
       "    max_iter=-1, probability=True, random_state=None, shrinking=True, tol=0.001,\n",
       "    verbose=False)"
      ]
     },
     "execution_count": 21,
     "metadata": {},
     "output_type": "execute_result"
    }
   ],
   "source": [
    "\n",
    "# fitting the data\n",
    "rbf_svc.fit(X,Y)\n",
    "rbf_svc_extra.fit(extrain,eytrain)"
   ]
  },
  {
   "cell_type": "code",
   "execution_count": 22,
   "metadata": {},
   "outputs": [
    {
     "data": {
      "text/plain": [
       "(1642, 10)"
      ]
     },
     "execution_count": 22,
     "metadata": {},
     "output_type": "execute_result"
    }
   ],
   "source": [
    "# loading the validation dataset previously set up by validation split(this data was not included in any training procedure)\n",
    "Prediction_data=X_test\n",
    "\n",
    "#producing the shape\n",
    "Prediction_data.shape"
   ]
  },
  {
   "cell_type": "code",
   "execution_count": 23,
   "metadata": {
    "collapsed": true
   },
   "outputs": [],
   "source": [
    "# making predictions on validation dataset using svc trained only on original training data\n",
    "prediction_on_real_dataset=rbf_svc.predict_proba(Prediction_data)\n",
    "\n",
    "#saving probabilities\n",
    "predictions=rbf_svc.predict(Prediction_data)\n",
    "\n",
    "# making predictions on validation dataset using svc trained on original training data + LSTM generated data\n",
    "prediction_on_real_dataset_adding_extra=rbf_svc_extra.predict_proba(Prediction_data)\n",
    "#saving probabilities\n",
    "predictions_extra=rbf_svc_extra.predict(Prediction_data)"
   ]
  },
  {
   "cell_type": "code",
   "execution_count": 24,
   "metadata": {},
   "outputs": [
    {
     "name": "stdout",
     "output_type": "stream",
     "text": [
      "1642\n",
      "1642\n"
     ]
    }
   ],
   "source": [
    "print(len(prediction_on_real_dataset))\n",
    "\n",
    "print(len(prediction_on_real_dataset_adding_extra))"
   ]
  },
  {
   "cell_type": "code",
   "execution_count": 25,
   "metadata": {
    "collapsed": true
   },
   "outputs": [],
   "source": [
    "from sklearn.metrics import f1_score\n",
    "from sklearn.metrics import auc\n",
    "from sklearn.metrics import average_precision_score\n",
    "\n",
    "from sklearn.metrics import roc_curve, roc_auc_score"
   ]
  },
  {
   "cell_type": "code",
   "execution_count": 26,
   "metadata": {},
   "outputs": [
    {
     "data": {
      "text/plain": [
       "0.7214285714285715"
      ]
     },
     "execution_count": 26,
     "metadata": {},
     "output_type": "execute_result"
    }
   ],
   "source": [
    "f1_score(Y_test,predictions)#without_extra"
   ]
  },
  {
   "cell_type": "code",
   "execution_count": 27,
   "metadata": {},
   "outputs": [
    {
     "data": {
      "text/plain": [
       "0.7214285714285715"
      ]
     },
     "execution_count": 27,
     "metadata": {},
     "output_type": "execute_result"
    }
   ],
   "source": [
    "f1_score(Y_test,predictions_extra)#with_extra"
   ]
  },
  {
   "cell_type": "code",
   "execution_count": 28,
   "metadata": {},
   "outputs": [
    {
     "data": {
      "text/plain": [
       "array([0.97631204, 0.02368796])"
      ]
     },
     "execution_count": 28,
     "metadata": {},
     "output_type": "execute_result"
    }
   ],
   "source": [
    "prediction_on_real_dataset[0]# probabilities of 2 class"
   ]
  },
  {
   "cell_type": "code",
   "execution_count": 29,
   "metadata": {},
   "outputs": [
    {
     "name": "stdout",
     "output_type": "stream",
     "text": [
      "Without extra:  0.9403894708110138\n",
      "With extra:  0.9393872189429869\n"
     ]
    }
   ],
   "source": [
    "# getting AUC score for classifier trained on only original data\n",
    "fpr, tpr, thres=roc_curve(Y_test,prediction_on_real_dataset[:,1],pos_label=1)\n",
    "\n",
    "#getting AUC score for classifier trained on original + LSTM generated data\n",
    "efpr, etpr, ethres=roc_curve(Y_test,prediction_on_real_dataset_adding_extra[:,1],pos_label=1)\n",
    "\n",
    "with_=auc(fpr,tpr)\n",
    "without_=auc(efpr,etpr)\n",
    "print('Without extra: ',auc(fpr,tpr))\n",
    "\n",
    "print('With extra: ',auc(efpr,etpr))"
   ]
  },
  {
   "cell_type": "code",
   "execution_count": 30,
   "metadata": {},
   "outputs": [
    {
     "data": {
      "image/png": "[encoded data removed]",
      "text/plain": [
       "<matplotlib.figure.Figure at 0x928455b908>"
      ]
     },
     "metadata": {},
     "output_type": "display_data"
    }
   ],
   "source": [
    "# plotting data ( for minority predictions , here minority class = 1)\n",
    "\n",
    "Y_probs=prediction_on_real_dataset[:,1]\n",
    "fpr,tpr,_=roc_curve(Y_test,Y_probs)\n",
    "\n",
    "Y_probs_extra=prediction_on_real_dataset_adding_extra[:,1]\n",
    "efpr,etpr,_=roc_curve(Y_test,Y_probs_extra)\n",
    "\n",
    "original=auc(fpr,tpr)\n",
    "lstm_with_extra=auc(efpr,etpr)\n",
    "\n",
    "original=original.astype(float)\n",
    "lstm_with_extra=lstm_with_extra.astype(float)\n",
    "\n",
    "\n",
    "pyplot.clf()\n",
    "pyplot.plot(fpr, tpr,label='original (AUC : %5.4f)'%(with_),linewidth='1.2')\n",
    "pyplot.plot(efpr,etpr,label='LSTM generated+original(AUC : %5.4f)'%(without_),linewidth='1.2')\n",
    "pyplot.xlabel('FPR')\n",
    "pyplot.ylabel('TPR')\n",
    "pyplot.title('ROC curve')\n",
    "pyplot.legend(loc=4)\n",
    "pyplot.savefig('ROC curve .png',dpi=500)\n",
    "pyplot.show()"
   ]
  },
  {
   "cell_type": "code",
   "execution_count": null,
   "metadata": {
    "collapsed": true
   },
   "outputs": [],
   "source": []
  },
  {
   "cell_type": "code",
   "execution_count": null,
   "metadata": {
    "collapsed": true
   },
   "outputs": [],
   "source": []
  },
  {
   "cell_type": "code",
   "execution_count": null,
   "metadata": {
    "collapsed": true
   },
   "outputs": [],
   "source": []
  }
 ],
 "metadata": {
  "kernelspec": {
   "display_name": "Python 3",
   "language": "python",
   "name": "python3"
  },
  "language_info": {
   "codemirror_mode": {
    "name": "ipython",
    "version": 3
   },
   "file_extension": ".py",
   "mimetype": "text/x-python",
   "name": "python",
   "nbconvert_exporter": "python",
   "pygments_lexer": "ipython3",
   "version": "3.6.6"
  }
 },
 "nbformat": 4,
 "nbformat_minor": 2
}
