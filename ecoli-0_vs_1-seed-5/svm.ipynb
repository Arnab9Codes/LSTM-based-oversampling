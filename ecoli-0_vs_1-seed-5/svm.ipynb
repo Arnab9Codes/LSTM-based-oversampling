{
 "cells": [
  {
   "cell_type": "code",
   "execution_count": 1,
   "metadata": {
    "collapsed": true
   },
   "outputs": [],
   "source": [
    "import time\n",
    "import math\n",
    "\n",
    "import numpy as np\n",
    "import pandas as pd\n",
    "from pandas import DataFrame\n",
    "from pandas import concat\n",
    "from matplotlib import pyplot\n",
    "\n",
    "from sklearn.preprocessing import MinMaxScaler\n",
    "from sklearn.preprocessing import LabelEncoder\n",
    "from sklearn.metrics import mean_squared_error\n",
    "\n",
    "from sklearn.preprocessing import StandardScaler\n",
    "from sklearn.model_selection import train_test_split\n",
    "from sklearn.model_selection import KFold\n",
    "from sklearn.model_selection import cross_val_score\n",
    "from sklearn.model_selection import GridSearchCV\n",
    "from sklearn.metrics import classification_report\n",
    "from sklearn.metrics import confusion_matrix\n",
    "from sklearn.metrics import accuracy_score\n",
    "from sklearn.metrics import precision_recall_curve\n",
    "\n",
    "from sklearn.pipeline import Pipeline\n",
    "from sklearn.linear_model import LogisticRegression\n",
    "from sklearn.tree import DecisionTreeClassifier\n",
    "from sklearn.neighbors import KNeighborsClassifier\n",
    "from sklearn.discriminant_analysis import LinearDiscriminantAnalysis\n",
    "from sklearn.naive_bayes import GaussianNB\n",
    "from sklearn.svm import SVC\n",
    "from sklearn.ensemble import AdaBoostClassifier\n",
    "from sklearn.ensemble import GradientBoostingClassifier\n",
    "from sklearn.ensemble import RandomForestClassifier\n",
    "from sklearn.ensemble import ExtraTreesClassifier\n",
    "\n",
    "from sklearn.model_selection import GridSearchCV\n",
    "\n",
    "import pickle"
   ]
  },
  {
   "cell_type": "code",
   "execution_count": 2,
   "metadata": {
    "collapsed": true
   },
   "outputs": [],
   "source": [
    "extra_data=pd.read_csv('new_corrected_data-v1-7-24-2019.csv')# loading extra genereated data genereated by LSTM #prediction_of_1_0007.csv\n",
    "original_data=pd.read_csv('train_Data.csv')#original data"
   ]
  },
  {
   "cell_type": "code",
   "execution_count": 3,
   "metadata": {},
   "outputs": [
    {
     "data": {
      "text/html": [
       "<div>\n",
       "<style scoped>\n",
       "    .dataframe tbody tr th:only-of-type {\n",
       "        vertical-align: middle;\n",
       "    }\n",
       "\n",
       "    .dataframe tbody tr th {\n",
       "        vertical-align: top;\n",
       "    }\n",
       "\n",
       "    .dataframe thead th {\n",
       "        text-align: right;\n",
       "    }\n",
       "</style>\n",
       "<table border=\"1\" class=\"dataframe\">\n",
       "  <thead>\n",
       "    <tr style=\"text-align: right;\">\n",
       "      <th></th>\n",
       "      <th>0</th>\n",
       "      <th>1</th>\n",
       "      <th>2</th>\n",
       "      <th>3</th>\n",
       "      <th>4</th>\n",
       "      <th>5</th>\n",
       "      <th>6</th>\n",
       "      <th>7</th>\n",
       "    </tr>\n",
       "  </thead>\n",
       "  <tbody>\n",
       "    <tr>\n",
       "      <th>0</th>\n",
       "      <td>0.521371</td>\n",
       "      <td>0.461328</td>\n",
       "      <td>0.467081</td>\n",
       "      <td>0.476533</td>\n",
       "      <td>0.526326</td>\n",
       "      <td>0.783938</td>\n",
       "      <td>0.554671</td>\n",
       "      <td>-0.004775</td>\n",
       "    </tr>\n",
       "    <tr>\n",
       "      <th>1</th>\n",
       "      <td>0.280637</td>\n",
       "      <td>0.458235</td>\n",
       "      <td>0.510619</td>\n",
       "      <td>0.616327</td>\n",
       "      <td>0.579185</td>\n",
       "      <td>0.695613</td>\n",
       "      <td>0.574235</td>\n",
       "      <td>-0.004772</td>\n",
       "    </tr>\n",
       "    <tr>\n",
       "      <th>2</th>\n",
       "      <td>0.782706</td>\n",
       "      <td>0.569311</td>\n",
       "      <td>0.474567</td>\n",
       "      <td>0.496908</td>\n",
       "      <td>0.567643</td>\n",
       "      <td>0.787006</td>\n",
       "      <td>0.781818</td>\n",
       "      <td>0.002823</td>\n",
       "    </tr>\n",
       "    <tr>\n",
       "      <th>3</th>\n",
       "      <td>0.764369</td>\n",
       "      <td>0.512991</td>\n",
       "      <td>0.481269</td>\n",
       "      <td>0.498513</td>\n",
       "      <td>0.557592</td>\n",
       "      <td>0.785816</td>\n",
       "      <td>0.788374</td>\n",
       "      <td>0.001499</td>\n",
       "    </tr>\n",
       "    <tr>\n",
       "      <th>4</th>\n",
       "      <td>0.358377</td>\n",
       "      <td>0.550485</td>\n",
       "      <td>0.472809</td>\n",
       "      <td>0.502781</td>\n",
       "      <td>0.562695</td>\n",
       "      <td>0.742875</td>\n",
       "      <td>0.734355</td>\n",
       "      <td>-0.006633</td>\n",
       "    </tr>\n",
       "  </tbody>\n",
       "</table>\n",
       "</div>"
      ],
      "text/plain": [
       "          0         1         2         3         4         5         6  \\\n",
       "0  0.521371  0.461328  0.467081  0.476533  0.526326  0.783938  0.554671   \n",
       "1  0.280637  0.458235  0.510619  0.616327  0.579185  0.695613  0.574235   \n",
       "2  0.782706  0.569311  0.474567  0.496908  0.567643  0.787006  0.781818   \n",
       "3  0.764369  0.512991  0.481269  0.498513  0.557592  0.785816  0.788374   \n",
       "4  0.358377  0.550485  0.472809  0.502781  0.562695  0.742875  0.734355   \n",
       "\n",
       "          7  \n",
       "0 -0.004775  \n",
       "1 -0.004772  \n",
       "2  0.002823  \n",
       "3  0.001499  \n",
       "4 -0.006633  "
      ]
     },
     "execution_count": 3,
     "metadata": {},
     "output_type": "execute_result"
    }
   ],
   "source": [
    "extra_data.head()#displaying LSTM generated data"
   ]
  },
  {
   "cell_type": "code",
   "execution_count": 4,
   "metadata": {},
   "outputs": [
    {
     "name": "stdout",
     "output_type": "stream",
     "text": [
      "(19, 8)\n"
     ]
    }
   ],
   "source": [
    "extra=np.array(extra_data)# getting the original shape\n",
    "print(extra.shape)"
   ]
  },
  {
   "cell_type": "code",
   "execution_count": 5,
   "metadata": {},
   "outputs": [
    {
     "data": {
      "text/plain": [
       "array([ 0.5213709 ,  0.4613285 ,  0.4670807 ,  0.47653297,  0.5263263 ,\n",
       "        0.78393835,  0.5546712 , -0.00477529])"
      ]
     },
     "execution_count": 5,
     "metadata": {},
     "output_type": "execute_result"
    }
   ],
   "source": [
    "extra[0] # showing first row vector"
   ]
  },
  {
   "cell_type": "code",
   "execution_count": 6,
   "metadata": {
    "collapsed": true
   },
   "outputs": [],
   "source": [
    "# Setting predictions of all generated data to 1 because their outputs are mostly 0.98, 0.99 etc. \n",
    "for i in range(0,len(extra),1):\n",
    "    extra[i][7]=int(0)"
   ]
  },
  {
   "cell_type": "code",
   "execution_count": 7,
   "metadata": {},
   "outputs": [
    {
     "data": {
      "text/plain": [
       "array([[0.5213709 , 0.4613285 , 0.4670807 , 0.47653297, 0.5263263 ,\n",
       "        0.78393835, 0.5546712 , 0.        ],\n",
       "       [0.28063658, 0.45823482, 0.5106191 , 0.6163273 , 0.5791849 ,\n",
       "        0.6956131 , 0.5742352 , 0.        ],\n",
       "       [0.7827056 , 0.56931126, 0.4745667 , 0.49690822, 0.56764346,\n",
       "        0.787006  , 0.7818177 , 0.        ],\n",
       "       [0.7643691 , 0.5129906 , 0.4812692 , 0.49851257, 0.5575915 ,\n",
       "        0.78581595, 0.788374  , 0.        ],\n",
       "       [0.35837734, 0.55048484, 0.4728088 , 0.5027808 , 0.5626951 ,\n",
       "        0.7428746 , 0.7343554 , 0.        ],\n",
       "       [0.50121915, 0.48085356, 0.4774343 , 0.46520036, 0.54939234,\n",
       "        0.7879753 , 0.65590876, 0.        ],\n",
       "       [0.70907813, 0.46919462, 0.47398344, 0.48138493, 0.545348  ,\n",
       "        0.78924084, 0.84429216, 0.        ],\n",
       "       [0.6289244 , 0.48795667, 0.47867933, 0.5191427 , 0.5499243 ,\n",
       "        0.760222  , 0.8929027 , 0.        ],\n",
       "       [0.28206238, 0.37607333, 0.50435185, 0.5936458 , 0.5582325 ,\n",
       "        0.71362704, 0.6414438 , 0.        ],\n",
       "       [0.37339482, 0.41484028, 0.48067492, 0.5163627 , 0.5302885 ,\n",
       "        0.743565  , 0.76656485, 0.        ],\n",
       "       [0.34323603, 0.480732  , 0.4877035 , 0.476954  , 0.5154863 ,\n",
       "        0.76288897, 0.48154694, 0.        ],\n",
       "       [0.9157548 , 0.483846  , 0.47369915, 0.49233067, 0.58271873,\n",
       "        0.8168569 , 1.0284374 , 0.        ],\n",
       "       [0.61813855, 0.5767629 , 0.46706432, 0.47339943, 0.54550034,\n",
       "        0.77868783, 0.6887402 , 0.        ],\n",
       "       [0.57210636, 0.48898146, 0.4901971 , 0.50163233, 0.5539909 ,\n",
       "        0.776995  , 0.81126463, 0.        ],\n",
       "       [0.8516601 , 0.44751424, 0.4761434 , 0.47744584, 0.5769461 ,\n",
       "        0.820281  , 0.9896564 , 0.        ],\n",
       "       [0.49272028, 0.3801924 , 0.5083174 , 0.5748422 , 0.56226325,\n",
       "        0.75334114, 0.8959201 , 0.        ],\n",
       "       [0.48974267, 0.40988067, 0.473644  , 0.48111305, 0.5345484 ,\n",
       "        0.7697406 , 0.69410205, 0.        ],\n",
       "       [0.8161164 , 0.5202777 , 0.46205464, 0.4961246 , 0.52309906,\n",
       "        0.7618478 , 0.82449377, 0.        ],\n",
       "       [0.8208971 , 0.49515754, 0.46612734, 0.459906  , 0.5600138 ,\n",
       "        0.83007795, 0.9145282 , 0.        ]])"
      ]
     },
     "execution_count": 7,
     "metadata": {},
     "output_type": "execute_result"
    }
   ],
   "source": [
    "extra #showing LSTM generated extra data ready for training"
   ]
  },
  {
   "cell_type": "code",
   "execution_count": 8,
   "metadata": {},
   "outputs": [
    {
     "data": {
      "text/html": [
       "<div>\n",
       "<style scoped>\n",
       "    .dataframe tbody tr th:only-of-type {\n",
       "        vertical-align: middle;\n",
       "    }\n",
       "\n",
       "    .dataframe tbody tr th {\n",
       "        vertical-align: top;\n",
       "    }\n",
       "\n",
       "    .dataframe thead th {\n",
       "        text-align: right;\n",
       "    }\n",
       "</style>\n",
       "<table border=\"1\" class=\"dataframe\">\n",
       "  <thead>\n",
       "    <tr style=\"text-align: right;\">\n",
       "      <th></th>\n",
       "      <th>0</th>\n",
       "      <th>1</th>\n",
       "      <th>2</th>\n",
       "      <th>3</th>\n",
       "      <th>4</th>\n",
       "      <th>5</th>\n",
       "      <th>6</th>\n",
       "      <th>7</th>\n",
       "    </tr>\n",
       "  </thead>\n",
       "  <tbody>\n",
       "    <tr>\n",
       "      <th>0</th>\n",
       "      <td>0.74</td>\n",
       "      <td>0.70</td>\n",
       "      <td>0.48</td>\n",
       "      <td>0.5</td>\n",
       "      <td>0.66</td>\n",
       "      <td>0.65</td>\n",
       "      <td>0.69</td>\n",
       "      <td>0.0</td>\n",
       "    </tr>\n",
       "    <tr>\n",
       "      <th>1</th>\n",
       "      <td>0.28</td>\n",
       "      <td>0.38</td>\n",
       "      <td>0.48</td>\n",
       "      <td>0.5</td>\n",
       "      <td>0.50</td>\n",
       "      <td>0.33</td>\n",
       "      <td>0.42</td>\n",
       "      <td>1.0</td>\n",
       "    </tr>\n",
       "    <tr>\n",
       "      <th>2</th>\n",
       "      <td>0.36</td>\n",
       "      <td>0.41</td>\n",
       "      <td>0.48</td>\n",
       "      <td>0.5</td>\n",
       "      <td>0.48</td>\n",
       "      <td>0.47</td>\n",
       "      <td>0.54</td>\n",
       "      <td>1.0</td>\n",
       "    </tr>\n",
       "    <tr>\n",
       "      <th>3</th>\n",
       "      <td>0.51</td>\n",
       "      <td>0.49</td>\n",
       "      <td>0.48</td>\n",
       "      <td>0.5</td>\n",
       "      <td>0.53</td>\n",
       "      <td>0.14</td>\n",
       "      <td>0.26</td>\n",
       "      <td>1.0</td>\n",
       "    </tr>\n",
       "    <tr>\n",
       "      <th>4</th>\n",
       "      <td>0.30</td>\n",
       "      <td>0.37</td>\n",
       "      <td>0.48</td>\n",
       "      <td>0.5</td>\n",
       "      <td>0.43</td>\n",
       "      <td>0.18</td>\n",
       "      <td>0.30</td>\n",
       "      <td>1.0</td>\n",
       "    </tr>\n",
       "  </tbody>\n",
       "</table>\n",
       "</div>"
      ],
      "text/plain": [
       "      0     1     2    3     4     5     6    7\n",
       "0  0.74  0.70  0.48  0.5  0.66  0.65  0.69  0.0\n",
       "1  0.28  0.38  0.48  0.5  0.50  0.33  0.42  1.0\n",
       "2  0.36  0.41  0.48  0.5  0.48  0.47  0.54  1.0\n",
       "3  0.51  0.49  0.48  0.5  0.53  0.14  0.26  1.0\n",
       "4  0.30  0.37  0.48  0.5  0.43  0.18  0.30  1.0"
      ]
     },
     "execution_count": 8,
     "metadata": {},
     "output_type": "execute_result"
    }
   ],
   "source": [
    "original_data.head() #showing original data"
   ]
  },
  {
   "cell_type": "code",
   "execution_count": null,
   "metadata": {
    "collapsed": true
   },
   "outputs": [],
   "source": []
  },
  {
   "cell_type": "code",
   "execution_count": 9,
   "metadata": {
    "collapsed": true
   },
   "outputs": [],
   "source": [
    "#loading data values from original dataset(Pima)\n",
    "val=original_data.values"
   ]
  },
  {
   "cell_type": "code",
   "execution_count": 10,
   "metadata": {
    "collapsed": true
   },
   "outputs": [],
   "source": [
    "X=val[:,:7].astype(float)# getting the feature values\n",
    "Y=val[:,7].astype(int)# getting prediction"
   ]
  },
  {
   "cell_type": "code",
   "execution_count": 11,
   "metadata": {
    "collapsed": true
   },
   "outputs": [],
   "source": [
    "#extra_X denotes the extra training data generated by LSTM \n",
    "extra_X=extra[:,:7].astype(float)\n",
    "\n",
    "#extra_Y denotes extra training prediction data for training the algorithm\n",
    "extra_Y=extra[:,7].astype(int)"
   ]
  },
  {
   "cell_type": "code",
   "execution_count": 12,
   "metadata": {
    "collapsed": true
   },
   "outputs": [],
   "source": [
    "# extrain=original training data + LSTM generated training data\n",
    "\n",
    "# eytrain=original training prediction + LSTM generated\n",
    "\n",
    "extrain=np.concatenate((X,extra_X),axis=0)\n",
    "eytrain=np.concatenate((Y,extra_Y),axis=0)"
   ]
  },
  {
   "cell_type": "code",
   "execution_count": 13,
   "metadata": {},
   "outputs": [
    {
     "name": "stdout",
     "output_type": "stream",
     "text": [
      "(173, 7)\n",
      "(173,)\n"
     ]
    }
   ],
   "source": [
    "print(extrain.shape)\n",
    "print(eytrain.shape)"
   ]
  },
  {
   "cell_type": "code",
   "execution_count": 14,
   "metadata": {
    "collapsed": true
   },
   "outputs": [],
   "source": [
    "test_Data=pd.read_csv('test_Data.csv')"
   ]
  },
  {
   "cell_type": "code",
   "execution_count": 15,
   "metadata": {
    "collapsed": true
   },
   "outputs": [],
   "source": [
    "test_Data=np.array(test_Data)"
   ]
  },
  {
   "cell_type": "code",
   "execution_count": 16,
   "metadata": {},
   "outputs": [
    {
     "data": {
      "text/plain": [
       "(66, 8)"
      ]
     },
     "execution_count": 16,
     "metadata": {},
     "output_type": "execute_result"
    }
   ],
   "source": [
    "test_Data.shape"
   ]
  },
  {
   "cell_type": "code",
   "execution_count": 17,
   "metadata": {
    "collapsed": true
   },
   "outputs": [],
   "source": [
    "X_test=test_Data[:,:7].astype(float)\n",
    "Y_test=test_Data[:,7].astype(int)"
   ]
  },
  {
   "cell_type": "code",
   "execution_count": null,
   "metadata": {
    "collapsed": true
   },
   "outputs": [],
   "source": []
  },
  {
   "cell_type": "code",
   "execution_count": 18,
   "metadata": {
    "collapsed": true
   },
   "outputs": [],
   "source": [
    "def svc_param_selection(X, y, nfolds):\n",
    "    Cs = [0.0001,0.001, 0.01, 0.1, 1, 10]\n",
    "    gammas = [0.0001,0.001, 0.01, 0.1, 1,10]\n",
    "    param_grid = {'C': Cs, 'gamma' : gammas}\n",
    "    grid_search = GridSearchCV(SVC(kernel='rbf',probability=True), param_grid, cv=nfolds)\n",
    "    grid_search.fit(X, y)\n",
    "    grid_search.best_params_\n",
    "    return grid_search.best_estimator_"
   ]
  },
  {
   "cell_type": "code",
   "execution_count": 19,
   "metadata": {
    "collapsed": true
   },
   "outputs": [],
   "source": [
    "# setting seed =7 to produce same results over and over again, it was maintained during different experiments \n",
    "seed=5\n"
   ]
  },
  {
   "cell_type": "code",
   "execution_count": 20,
   "metadata": {},
   "outputs": [
    {
     "name": "stderr",
     "output_type": "stream",
     "text": [
      "G:\\newage2\\envs\\tensorflow\\lib\\site-packages\\sklearn\\model_selection\\_search.py:813: DeprecationWarning: The default of the `iid` parameter will change from True to False in version 0.22 and will be removed in 0.24. This will change numeric results when test-set sizes are unequal.\n",
      "  DeprecationWarning)\n",
      "G:\\newage2\\envs\\tensorflow\\lib\\site-packages\\sklearn\\model_selection\\_search.py:813: DeprecationWarning: The default of the `iid` parameter will change from True to False in version 0.22 and will be removed in 0.24. This will change numeric results when test-set sizes are unequal.\n",
      "  DeprecationWarning)\n"
     ]
    }
   ],
   "source": [
    "# first rbf_svc for training on just the original training data\n",
    "#rbf_svc = SVC(kernel='rbf', gamma=0.00001, C=1000,probability=True).fit(X_train,Y_train)\n",
    "rbf_svc=svc_param_selection(X,Y,5)\n",
    "\n",
    "# secondly rbf_svc_extra for training on original+LSTM\n",
    "rbf_svc_extra = svc_param_selection(extrain,eytrain,5)"
   ]
  },
  {
   "cell_type": "code",
   "execution_count": 21,
   "metadata": {},
   "outputs": [
    {
     "data": {
      "text/plain": [
       "SVC(C=1, cache_size=200, class_weight=None, coef0=0.0,\n",
       "    decision_function_shape='ovr', degree=3, gamma=10, kernel='rbf',\n",
       "    max_iter=-1, probability=True, random_state=None, shrinking=True, tol=0.001,\n",
       "    verbose=False)"
      ]
     },
     "execution_count": 21,
     "metadata": {},
     "output_type": "execute_result"
    }
   ],
   "source": [
    "\n",
    "# fitting the data\n",
    "rbf_svc.fit(X,Y)\n",
    "rbf_svc_extra.fit(extrain,eytrain)"
   ]
  },
  {
   "cell_type": "code",
   "execution_count": 22,
   "metadata": {},
   "outputs": [
    {
     "data": {
      "text/plain": [
       "(66, 7)"
      ]
     },
     "execution_count": 22,
     "metadata": {},
     "output_type": "execute_result"
    }
   ],
   "source": [
    "# loading the validation dataset previously set up by validation split(this data was not included in any training procedure)\n",
    "Prediction_data=X_test\n",
    "\n",
    "#producing the shape\n",
    "Prediction_data.shape"
   ]
  },
  {
   "cell_type": "code",
   "execution_count": 23,
   "metadata": {
    "collapsed": true
   },
   "outputs": [],
   "source": [
    "# making predictions on validation dataset using svc trained only on original training data\n",
    "prediction_on_real_dataset=rbf_svc.predict_proba(Prediction_data)\n",
    "\n",
    "#saving probabilities\n",
    "predictions=rbf_svc.predict(Prediction_data)\n",
    "\n",
    "# making predictions on validation dataset using svc trained on original training data + LSTM generated data\n",
    "prediction_on_real_dataset_adding_extra=rbf_svc_extra.predict_proba(Prediction_data)\n",
    "#saving probabilities\n",
    "predictions_extra=rbf_svc_extra.predict(Prediction_data)"
   ]
  },
  {
   "cell_type": "code",
   "execution_count": 24,
   "metadata": {},
   "outputs": [
    {
     "name": "stdout",
     "output_type": "stream",
     "text": [
      "66\n",
      "66\n"
     ]
    }
   ],
   "source": [
    "print(len(prediction_on_real_dataset))\n",
    "\n",
    "print(len(prediction_on_real_dataset_adding_extra))"
   ]
  },
  {
   "cell_type": "code",
   "execution_count": 25,
   "metadata": {
    "collapsed": true
   },
   "outputs": [],
   "source": [
    "from sklearn.metrics import f1_score\n",
    "from sklearn.metrics import auc\n",
    "from sklearn.metrics import average_precision_score\n",
    "\n",
    "from sklearn.metrics import roc_curve, roc_auc_score"
   ]
  },
  {
   "cell_type": "code",
   "execution_count": 26,
   "metadata": {},
   "outputs": [
    {
     "data": {
      "text/plain": [
       "1.0"
      ]
     },
     "execution_count": 26,
     "metadata": {},
     "output_type": "execute_result"
    }
   ],
   "source": [
    "f1_score(Y_test,predictions)#without_extra"
   ]
  },
  {
   "cell_type": "code",
   "execution_count": 27,
   "metadata": {},
   "outputs": [
    {
     "data": {
      "text/plain": [
       "1.0"
      ]
     },
     "execution_count": 27,
     "metadata": {},
     "output_type": "execute_result"
    }
   ],
   "source": [
    "f1_score(Y_test,predictions_extra)#with_extra"
   ]
  },
  {
   "cell_type": "code",
   "execution_count": 28,
   "metadata": {},
   "outputs": [
    {
     "data": {
      "text/plain": [
       "array([0.01062435, 0.98937565])"
      ]
     },
     "execution_count": 28,
     "metadata": {},
     "output_type": "execute_result"
    }
   ],
   "source": [
    "prediction_on_real_dataset[0]# probabilities of 2 class"
   ]
  },
  {
   "cell_type": "code",
   "execution_count": 29,
   "metadata": {},
   "outputs": [
    {
     "name": "stdout",
     "output_type": "stream",
     "text": [
      "Without extra:  0.0\n",
      "With extra:  0.0\n"
     ]
    }
   ],
   "source": [
    "# getting AUC score for classifier trained on only original data\n",
    "fpr, tpr, thres=roc_curve(Y_test,prediction_on_real_dataset[:,1],pos_label=0)\n",
    "\n",
    "#getting AUC score for classifier trained on original + LSTM generated data\n",
    "efpr, etpr, ethres=roc_curve(Y_test,prediction_on_real_dataset_adding_extra[:,1],pos_label=0)\n",
    "\n",
    "with_=auc(fpr,tpr)\n",
    "without_=auc(efpr,etpr)\n",
    "print('Without extra: ',auc(fpr,tpr))\n",
    "\n",
    "print('With extra: ',auc(efpr,etpr))"
   ]
  },
  {
   "cell_type": "code",
   "execution_count": 30,
   "metadata": {},
   "outputs": [
    {
     "data": {
      "image/png": "[encoded data removed]",
      "text/plain": [
       "<matplotlib.figure.Figure at 0x3d432e8978>"
      ]
     },
     "metadata": {},
     "output_type": "display_data"
    }
   ],
   "source": [
    "# plotting data ( for minority predictions , here minority class = 0)\n",
    "\n",
    "Y_probs=prediction_on_real_dataset[:,0]\n",
    "fpr,tpr,_=roc_curve(Y_test,Y_probs)\n",
    "\n",
    "Y_probs_extra=prediction_on_real_dataset_adding_extra[:,0]\n",
    "efpr,etpr,_=roc_curve(Y_test,Y_probs_extra)\n",
    "\n",
    "original=auc(fpr,tpr)\n",
    "lstm_with_extra=auc(efpr,etpr)\n",
    "\n",
    "original=original.astype(float)\n",
    "lstm_with_extra=lstm_with_extra.astype(float)\n",
    "\n",
    "\n",
    "pyplot.clf()\n",
    "pyplot.plot(fpr, tpr,label='original (AUC : %5.4f)'%(with_),linewidth='1.2')\n",
    "pyplot.plot(efpr,etpr,label='LSTM generated+original(AUC : %5.4f)'%(without_),linewidth='1.2')\n",
    "pyplot.xlabel('FPR')\n",
    "pyplot.ylabel('TPR')\n",
    "pyplot.title('ROC curve - Pima dataset')\n",
    "pyplot.legend(loc=4)\n",
    "pyplot.savefig('ROC curve .png',dpi=500)\n",
    "pyplot.show()"
   ]
  },
  {
   "cell_type": "code",
   "execution_count": 79,
   "metadata": {},
   "outputs": [
    {
     "data": {
      "image/png": "[encoded data removed]",
      "text/plain": [
       "<matplotlib.figure.Figure at 0x2bad18d2e8>"
      ]
     },
     "metadata": {},
     "output_type": "display_data"
    }
   ],
   "source": [
    "Y_probs=prediction_on_real_dataset[:,0]\n",
    "fpr,tpr,_=roc_curve(Y_test,Y_probs)\n",
    "\n",
    "Y_probs_extra=prediction_on_real_dataset_adding_extra[:,0]\n",
    "efpr,etpr,_=roc_curve(Y_test,Y_probs_extra)\n",
    "\n",
    "pyplot.clf()\n",
    "pyplot.plot(fpr, tpr,label='original')\n",
    "pyplot.plot(efpr,etpr,label='LSTM generated')\n",
    "pyplot.xlabel('FPR')\n",
    "pyplot.ylabel('TPR(recall)')\n",
    "pyplot.title('ROC curve - Pima dataset')\n",
    "pyplot.legend(loc=2)\n",
    "pyplot.show()"
   ]
  },
  {
   "cell_type": "code",
   "execution_count": 77,
   "metadata": {},
   "outputs": [
    {
     "data": {
      "text/plain": [
       "array([[9.54610913e-01, 4.53890867e-02],\n",
       "       [1.31781688e-05, 9.99986822e-01],\n",
       "       [5.57130220e-06, 9.99994429e-01],\n",
       "       [9.99486022e-01, 5.13977985e-04],\n",
       "       [9.35752351e-01, 6.42476494e-02],\n",
       "       [9.99442854e-01, 5.57145507e-04],\n",
       "       [1.23227300e-05, 9.99987677e-01],\n",
       "       [9.96185069e-01, 3.81493083e-03],\n",
       "       [9.99941162e-01, 5.88383007e-05],\n",
       "       [3.19759799e-03, 9.96802402e-01],\n",
       "       [9.99263985e-01, 7.36014525e-04],\n",
       "       [1.02698230e-02, 9.89730177e-01],\n",
       "       [5.78124591e-03, 9.94218754e-01],\n",
       "       [9.99342394e-01, 6.57606346e-04],\n",
       "       [9.70309092e-01, 2.96909078e-02],\n",
       "       [9.85105728e-01, 1.48942716e-02],\n",
       "       [9.45877646e-01, 5.41223544e-02],\n",
       "       [3.01543133e-03, 9.96984569e-01],\n",
       "       [6.91291320e-03, 9.93087087e-01],\n",
       "       [3.50965489e-06, 9.99996490e-01],\n",
       "       [3.33114008e-03, 9.96668860e-01],\n",
       "       [2.12082018e-06, 9.99997879e-01],\n",
       "       [9.82131613e-01, 1.78683866e-02],\n",
       "       [2.97317109e-03, 9.97026829e-01],\n",
       "       [5.88737378e-03, 9.94112626e-01],\n",
       "       [2.02397280e-01, 7.97602720e-01],\n",
       "       [1.93457758e-02, 9.80654224e-01],\n",
       "       [4.88927285e-06, 9.99995111e-01],\n",
       "       [1.62251511e-01, 8.37748489e-01],\n",
       "       [1.34109483e-05, 9.99986589e-01],\n",
       "       [9.99777625e-01, 2.22375175e-04],\n",
       "       [2.96446358e-02, 9.70355364e-01],\n",
       "       [1.80359325e-05, 9.99981964e-01],\n",
       "       [2.76686320e-03, 9.97233137e-01],\n",
       "       [5.62788839e-03, 9.94372112e-01],\n",
       "       [9.98806984e-01, 1.19301577e-03],\n",
       "       [1.29939681e-06, 9.99998701e-01],\n",
       "       [5.36040471e-02, 9.46395953e-01],\n",
       "       [9.84096701e-01, 1.59032988e-02],\n",
       "       [9.98955555e-01, 1.04444514e-03],\n",
       "       [3.57907535e-03, 9.96420925e-01],\n",
       "       [3.20458847e-03, 9.96795412e-01],\n",
       "       [2.82907619e-03, 9.97170924e-01],\n",
       "       [9.96224279e-01, 3.77572131e-03],\n",
       "       [7.77574092e-01, 2.22425908e-01],\n",
       "       [9.88713454e-01, 1.12865461e-02],\n",
       "       [9.95688437e-01, 4.31156306e-03],\n",
       "       [9.84395041e-01, 1.56049587e-02],\n",
       "       [2.68065474e-06, 9.99997319e-01],\n",
       "       [9.98104586e-01, 1.89541412e-03],\n",
       "       [9.81905487e-01, 1.80945126e-02],\n",
       "       [9.99479727e-01, 5.20272523e-04],\n",
       "       [4.45544463e-03, 9.95544555e-01],\n",
       "       [2.01823362e-02, 9.79817664e-01],\n",
       "       [2.70015071e-02, 9.72998493e-01],\n",
       "       [9.98823056e-01, 1.17694402e-03],\n",
       "       [1.40738035e-05, 9.99985926e-01],\n",
       "       [5.62607950e-01, 4.37392050e-01],\n",
       "       [6.21841978e-06, 9.99993782e-01],\n",
       "       [6.24201002e-03, 9.93757990e-01],\n",
       "       [7.74564796e-03, 9.92254352e-01],\n",
       "       [1.02289991e-02, 9.89771001e-01],\n",
       "       [7.35498480e-02, 9.26450152e-01],\n",
       "       [2.74402920e-06, 9.99997256e-01],\n",
       "       [4.18306918e-03, 9.95816931e-01],\n",
       "       [2.73454156e-06, 9.99997265e-01]])"
      ]
     },
     "execution_count": 77,
     "metadata": {},
     "output_type": "execute_result"
    }
   ],
   "source": [
    "prediction_on_real_dataset"
   ]
  },
  {
   "cell_type": "code",
   "execution_count": 52,
   "metadata": {},
   "outputs": [
    {
     "data": {
      "text/plain": [
       "array([[0.73911479, 0.26088521],\n",
       "       [0.57806086, 0.42193914],\n",
       "       [0.85294776, 0.14705224],\n",
       "       [0.80885662, 0.19114338],\n",
       "       [0.8435121 , 0.1564879 ],\n",
       "       [0.89092182, 0.10907818],\n",
       "       [0.2961195 , 0.7038805 ],\n",
       "       [0.16844994, 0.83155006],\n",
       "       [0.39894046, 0.60105954],\n",
       "       [0.46569347, 0.53430653],\n",
       "       [0.38896452, 0.61103548],\n",
       "       [0.69538521, 0.30461479],\n",
       "       [0.39852046, 0.60147954],\n",
       "       [0.82631933, 0.17368067],\n",
       "       [0.86753988, 0.13246012],\n",
       "       [0.8368405 , 0.1631595 ],\n",
       "       [0.87000314, 0.12999686],\n",
       "       [0.22778975, 0.77221025],\n",
       "       [0.68723362, 0.31276638],\n",
       "       [0.85270747, 0.14729253],\n",
       "       [0.77413579, 0.22586421],\n",
       "       [0.169007  , 0.830993  ],\n",
       "       [0.8269835 , 0.1730165 ],\n",
       "       [0.10278504, 0.89721496],\n",
       "       [0.59269737, 0.40730263],\n",
       "       [0.79649928, 0.20350072],\n",
       "       [0.5       , 0.5       ],\n",
       "       [0.36425576, 0.63574424],\n",
       "       [0.69081665, 0.30918335],\n",
       "       [0.60326403, 0.39673597],\n",
       "       [0.8320349 , 0.1679651 ],\n",
       "       [0.63283085, 0.36716915],\n",
       "       [0.64409107, 0.35590893],\n",
       "       [0.86143765, 0.13856235],\n",
       "       [0.52866863, 0.47133137],\n",
       "       [0.80482081, 0.19517919],\n",
       "       [0.79068494, 0.20931506],\n",
       "       [0.69356412, 0.30643588],\n",
       "       [0.82126161, 0.17873839],\n",
       "       [0.82667895, 0.17332105],\n",
       "       [0.81436665, 0.18563335],\n",
       "       [0.64327603, 0.35672397],\n",
       "       [0.79887612, 0.20112388],\n",
       "       [0.34831416, 0.65168584],\n",
       "       [0.78472024, 0.21527976],\n",
       "       [0.38954545, 0.61045455],\n",
       "       [0.39312822, 0.60687178],\n",
       "       [0.82706823, 0.17293177],\n",
       "       [0.70799305, 0.29200695],\n",
       "       [0.69201441, 0.30798559],\n",
       "       [0.33814417, 0.66185583],\n",
       "       [0.86298492, 0.13701508],\n",
       "       [0.34519832, 0.65480168],\n",
       "       [0.35391878, 0.64608122],\n",
       "       [0.8193826 , 0.1806174 ],\n",
       "       [0.6829426 , 0.3170574 ],\n",
       "       [0.70768244, 0.29231756],\n",
       "       [0.8306043 , 0.1693957 ],\n",
       "       [0.28191051, 0.71808949],\n",
       "       [0.8860606 , 0.1139394 ],\n",
       "       [0.47359316, 0.52640684],\n",
       "       [0.28235715, 0.71764285],\n",
       "       [0.22223225, 0.77776775],\n",
       "       [0.86690709, 0.13309291],\n",
       "       [0.30759963, 0.69240037],\n",
       "       [0.8320146 , 0.1679854 ],\n",
       "       [0.79923819, 0.20076181],\n",
       "       [0.68954442, 0.31045558],\n",
       "       [0.42197282, 0.57802718],\n",
       "       [0.61092153, 0.38907847],\n",
       "       [0.0682271 , 0.9317729 ],\n",
       "       [0.75453342, 0.24546658],\n",
       "       [0.82260846, 0.17739154],\n",
       "       [0.455863  , 0.544137  ],\n",
       "       [0.32193192, 0.67806808],\n",
       "       [0.27341892, 0.72658108],\n",
       "       [0.85789934, 0.14210066],\n",
       "       [0.17827693, 0.82172307],\n",
       "       [0.47752771, 0.52247229],\n",
       "       [0.85960651, 0.14039349],\n",
       "       [0.25252129, 0.74747871],\n",
       "       [0.3561986 , 0.6438014 ],\n",
       "       [0.57544999, 0.42455001],\n",
       "       [0.51697411, 0.48302589],\n",
       "       [0.84829999, 0.15170001],\n",
       "       [0.77222246, 0.22777754],\n",
       "       [0.86091041, 0.13908959],\n",
       "       [0.6806267 , 0.3193733 ],\n",
       "       [0.71045811, 0.28954189],\n",
       "       [0.45574165, 0.54425835],\n",
       "       [0.1055178 , 0.8944822 ],\n",
       "       [0.83558505, 0.16441495],\n",
       "       [0.8119024 , 0.1880976 ],\n",
       "       [0.74064564, 0.25935436],\n",
       "       [0.82781107, 0.17218893],\n",
       "       [0.16651239, 0.83348761],\n",
       "       [0.21470562, 0.78529438],\n",
       "       [0.46977507, 0.53022493],\n",
       "       [0.84495381, 0.15504619],\n",
       "       [0.84403643, 0.15596357],\n",
       "       [0.85744047, 0.14255953],\n",
       "       [0.85214386, 0.14785614],\n",
       "       [0.19059842, 0.80940158],\n",
       "       [0.46510459, 0.53489541],\n",
       "       [0.79856778, 0.20143222],\n",
       "       [0.5       , 0.5       ],\n",
       "       [0.81001652, 0.18998348],\n",
       "       [0.82733773, 0.17266227],\n",
       "       [0.14561221, 0.85438779],\n",
       "       [0.77956407, 0.22043593],\n",
       "       [0.79429866, 0.20570134],\n",
       "       [0.08256346, 0.91743654],\n",
       "       [0.70976294, 0.29023706],\n",
       "       [0.72165844, 0.27834156],\n",
       "       [0.70839443, 0.29160557],\n",
       "       [0.83149515, 0.16850485],\n",
       "       [0.69365048, 0.30634952],\n",
       "       [0.43607608, 0.56392392],\n",
       "       [0.74220083, 0.25779917],\n",
       "       [0.78882685, 0.21117315],\n",
       "       [0.22600665, 0.77399335],\n",
       "       [0.26394113, 0.73605887],\n",
       "       [0.83112487, 0.16887513],\n",
       "       [0.70901649, 0.29098351],\n",
       "       [0.81997223, 0.18002777],\n",
       "       [0.81689769, 0.18310231],\n",
       "       [0.85647316, 0.14352684],\n",
       "       [0.82975009, 0.17024991],\n",
       "       [0.85205841, 0.14794159],\n",
       "       [0.85014606, 0.14985394],\n",
       "       [0.42271943, 0.57728057],\n",
       "       [0.75009603, 0.24990397],\n",
       "       [0.41168008, 0.58831992],\n",
       "       [0.71761884, 0.28238116],\n",
       "       [0.79129341, 0.20870659],\n",
       "       [0.84909683, 0.15090317],\n",
       "       [0.41434055, 0.58565945],\n",
       "       [0.87445819, 0.12554181],\n",
       "       [0.31713214, 0.68286786],\n",
       "       [0.84892426, 0.15107574],\n",
       "       [0.72124173, 0.27875827],\n",
       "       [0.10206846, 0.89793154],\n",
       "       [0.69159801, 0.30840199],\n",
       "       [0.47430047, 0.52569953],\n",
       "       [0.87244018, 0.12755982],\n",
       "       [0.45177073, 0.54822927],\n",
       "       [0.79925928, 0.20074072],\n",
       "       [0.71435919, 0.28564081],\n",
       "       [0.7612992 , 0.2387008 ],\n",
       "       [0.85903944, 0.14096056],\n",
       "       [0.51741506, 0.48258494],\n",
       "       [0.35166582, 0.64833418],\n",
       "       [0.86553922, 0.13446078],\n",
       "       [0.55792385, 0.44207615],\n",
       "       [0.63615429, 0.36384571],\n",
       "       [0.81448262, 0.18551738],\n",
       "       [0.45786007, 0.54213993],\n",
       "       [0.83024228, 0.16975772],\n",
       "       [0.82267598, 0.17732402],\n",
       "       [0.20809303, 0.79190697],\n",
       "       [0.87936287, 0.12063713],\n",
       "       [0.2814817 , 0.7185183 ],\n",
       "       [0.4526897 , 0.5473103 ],\n",
       "       [0.86295871, 0.13704129],\n",
       "       [0.78790321, 0.21209679],\n",
       "       [0.72428917, 0.27571083],\n",
       "       [0.47725218, 0.52274782],\n",
       "       [0.84775167, 0.15224833],\n",
       "       [0.75483384, 0.24516616],\n",
       "       [0.1177316 , 0.8822684 ],\n",
       "       [0.77465752, 0.22534248],\n",
       "       [0.8342829 , 0.1657171 ],\n",
       "       [0.62372283, 0.37627717],\n",
       "       [0.29715369, 0.70284631],\n",
       "       [0.52262972, 0.47737028],\n",
       "       [0.78459192, 0.21540808],\n",
       "       [0.23283215, 0.76716785],\n",
       "       [0.82769364, 0.17230636],\n",
       "       [0.74192621, 0.25807379],\n",
       "       [0.23871104, 0.76128896],\n",
       "       [0.69134555, 0.30865445],\n",
       "       [0.83974935, 0.16025065],\n",
       "       [0.8255974 , 0.1744026 ],\n",
       "       [0.15017586, 0.84982414],\n",
       "       [0.43900148, 0.56099852],\n",
       "       [0.86321357, 0.13678643],\n",
       "       [0.30641401, 0.69358599],\n",
       "       [0.51699182, 0.48300818],\n",
       "       [0.1435797 , 0.8564203 ],\n",
       "       [0.46415103, 0.53584897],\n",
       "       [0.29449666, 0.70550334],\n",
       "       [0.1164534 , 0.8835466 ],\n",
       "       [0.59445436, 0.40554564],\n",
       "       [0.38104444, 0.61895556],\n",
       "       [0.85524959, 0.14475041],\n",
       "       [0.26605889, 0.73394111],\n",
       "       [0.87258542, 0.12741458],\n",
       "       [0.5       , 0.5       ],\n",
       "       [0.82127199, 0.17872801],\n",
       "       [0.83557626, 0.16442374],\n",
       "       [0.76180347, 0.23819653],\n",
       "       [0.7227366 , 0.2772634 ],\n",
       "       [0.80662157, 0.19337843],\n",
       "       [0.25695914, 0.74304086],\n",
       "       [0.48863461, 0.51136539],\n",
       "       [0.89594576, 0.10405424],\n",
       "       [0.48658398, 0.51341602],\n",
       "       [0.17441416, 0.82558584],\n",
       "       [0.73790182, 0.26209818],\n",
       "       [0.17574001, 0.82425999],\n",
       "       [0.67057641, 0.32942359],\n",
       "       [0.80778385, 0.19221615],\n",
       "       [0.47718319, 0.52281681],\n",
       "       [0.08146504, 0.91853496],\n",
       "       [0.20478463, 0.79521537],\n",
       "       [0.83569651, 0.16430349],\n",
       "       [0.81670022, 0.18329978],\n",
       "       [0.09998757, 0.90001243],\n",
       "       [0.84127745, 0.15872255],\n",
       "       [0.65246608, 0.34753392],\n",
       "       [0.41152151, 0.58847849],\n",
       "       [0.63074166, 0.36925834],\n",
       "       [0.58416471, 0.41583529],\n",
       "       [0.63473091, 0.36526909],\n",
       "       [0.71930339, 0.28069661],\n",
       "       [0.86086778, 0.13913222],\n",
       "       [0.44748918, 0.55251082],\n",
       "       [0.79157586, 0.20842414],\n",
       "       [0.90511478, 0.09488522],\n",
       "       [0.87779577, 0.12220423],\n",
       "       [0.37480488, 0.62519512]])"
      ]
     },
     "execution_count": 52,
     "metadata": {},
     "output_type": "execute_result"
    }
   ],
   "source": [
    "prediction_on_real_dataset_adding_extra"
   ]
  },
  {
   "cell_type": "code",
   "execution_count": null,
   "metadata": {
    "collapsed": true
   },
   "outputs": [],
   "source": []
  },
  {
   "cell_type": "code",
   "execution_count": null,
   "metadata": {
    "collapsed": true
   },
   "outputs": [],
   "source": []
  }
 ],
 "metadata": {
  "kernelspec": {
   "display_name": "Python 3",
   "language": "python",
   "name": "python3"
  },
  "language_info": {
   "codemirror_mode": {
    "name": "ipython",
    "version": 3
   },
   "file_extension": ".py",
   "mimetype": "text/x-python",
   "name": "python",
   "nbconvert_exporter": "python",
   "pygments_lexer": "ipython3",
   "version": "3.6.6"
  }
 },
 "nbformat": 4,
 "nbformat_minor": 2
}
