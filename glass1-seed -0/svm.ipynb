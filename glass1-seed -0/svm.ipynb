{
 "cells": [
  {
   "cell_type": "code",
   "execution_count": 1,
   "metadata": {
    "collapsed": true
   },
   "outputs": [],
   "source": [
    "import time\n",
    "import math\n",
    "\n",
    "import numpy as np\n",
    "import pandas as pd\n",
    "from pandas import DataFrame\n",
    "from pandas import concat\n",
    "from matplotlib import pyplot\n",
    "\n",
    "from sklearn.preprocessing import MinMaxScaler\n",
    "from sklearn.preprocessing import LabelEncoder\n",
    "from sklearn.metrics import mean_squared_error\n",
    "\n",
    "from sklearn.preprocessing import StandardScaler\n",
    "from sklearn.model_selection import train_test_split\n",
    "from sklearn.model_selection import KFold\n",
    "from sklearn.model_selection import cross_val_score\n",
    "from sklearn.model_selection import GridSearchCV\n",
    "from sklearn.metrics import classification_report\n",
    "from sklearn.metrics import confusion_matrix\n",
    "from sklearn.metrics import accuracy_score\n",
    "from sklearn.metrics import precision_recall_curve\n",
    "\n",
    "from sklearn.pipeline import Pipeline\n",
    "from sklearn.linear_model import LogisticRegression\n",
    "from sklearn.tree import DecisionTreeClassifier\n",
    "from sklearn.neighbors import KNeighborsClassifier\n",
    "from sklearn.discriminant_analysis import LinearDiscriminantAnalysis\n",
    "from sklearn.naive_bayes import GaussianNB\n",
    "from sklearn.svm import SVC\n",
    "from sklearn.ensemble import AdaBoostClassifier\n",
    "from sklearn.ensemble import GradientBoostingClassifier\n",
    "from sklearn.ensemble import RandomForestClassifier\n",
    "from sklearn.ensemble import ExtraTreesClassifier\n",
    "\n",
    "from sklearn.model_selection import GridSearchCV\n",
    "\n",
    "import pickle"
   ]
  },
  {
   "cell_type": "code",
   "execution_count": 2,
   "metadata": {
    "collapsed": true
   },
   "outputs": [],
   "source": [
    "extra_data=pd.read_csv('new_corrected_data-v1-7-24-2019.csv')# loading extra genereated data genereated by LSTM #prediction_of_1_0007.csv\n",
    "original_data=pd.read_csv('train_Data.csv')#original data"
   ]
  },
  {
   "cell_type": "code",
   "execution_count": 3,
   "metadata": {},
   "outputs": [
    {
     "data": {
      "text/html": [
       "<div>\n",
       "<style scoped>\n",
       "    .dataframe tbody tr th:only-of-type {\n",
       "        vertical-align: middle;\n",
       "    }\n",
       "\n",
       "    .dataframe tbody tr th {\n",
       "        vertical-align: top;\n",
       "    }\n",
       "\n",
       "    .dataframe thead th {\n",
       "        text-align: right;\n",
       "    }\n",
       "</style>\n",
       "<table border=\"1\" class=\"dataframe\">\n",
       "  <thead>\n",
       "    <tr style=\"text-align: right;\">\n",
       "      <th></th>\n",
       "      <th>0</th>\n",
       "      <th>1</th>\n",
       "      <th>2</th>\n",
       "      <th>3</th>\n",
       "      <th>4</th>\n",
       "      <th>5</th>\n",
       "      <th>6</th>\n",
       "      <th>7</th>\n",
       "      <th>8</th>\n",
       "      <th>9</th>\n",
       "    </tr>\n",
       "  </thead>\n",
       "  <tbody>\n",
       "    <tr>\n",
       "      <th>0</th>\n",
       "      <td>1.513337</td>\n",
       "      <td>12.451314</td>\n",
       "      <td>4.365003</td>\n",
       "      <td>1.863744</td>\n",
       "      <td>73.57759</td>\n",
       "      <td>0.900427</td>\n",
       "      <td>4.901718</td>\n",
       "      <td>0.273487</td>\n",
       "      <td>0.142782</td>\n",
       "      <td>1.129581</td>\n",
       "    </tr>\n",
       "    <tr>\n",
       "      <th>1</th>\n",
       "      <td>1.514958</td>\n",
       "      <td>13.354996</td>\n",
       "      <td>3.413177</td>\n",
       "      <td>1.517865</td>\n",
       "      <td>72.82614</td>\n",
       "      <td>0.586627</td>\n",
       "      <td>7.790089</td>\n",
       "      <td>-0.013334</td>\n",
       "      <td>0.048748</td>\n",
       "      <td>0.997964</td>\n",
       "    </tr>\n",
       "    <tr>\n",
       "      <th>2</th>\n",
       "      <td>1.521869</td>\n",
       "      <td>12.389948</td>\n",
       "      <td>1.519445</td>\n",
       "      <td>1.342013</td>\n",
       "      <td>72.75249</td>\n",
       "      <td>0.346408</td>\n",
       "      <td>10.692095</td>\n",
       "      <td>-0.022254</td>\n",
       "      <td>0.203463</td>\n",
       "      <td>1.026861</td>\n",
       "    </tr>\n",
       "    <tr>\n",
       "      <th>3</th>\n",
       "      <td>1.516090</td>\n",
       "      <td>13.210794</td>\n",
       "      <td>3.725634</td>\n",
       "      <td>1.680887</td>\n",
       "      <td>72.52323</td>\n",
       "      <td>0.662025</td>\n",
       "      <td>7.794427</td>\n",
       "      <td>-0.026253</td>\n",
       "      <td>0.151121</td>\n",
       "      <td>0.985067</td>\n",
       "    </tr>\n",
       "    <tr>\n",
       "      <th>4</th>\n",
       "      <td>1.518705</td>\n",
       "      <td>12.924210</td>\n",
       "      <td>2.724850</td>\n",
       "      <td>1.439466</td>\n",
       "      <td>72.70623</td>\n",
       "      <td>0.554561</td>\n",
       "      <td>9.282241</td>\n",
       "      <td>0.003334</td>\n",
       "      <td>0.082600</td>\n",
       "      <td>0.985869</td>\n",
       "    </tr>\n",
       "  </tbody>\n",
       "</table>\n",
       "</div>"
      ],
      "text/plain": [
       "          0          1         2         3         4         5          6  \\\n",
       "0  1.513337  12.451314  4.365003  1.863744  73.57759  0.900427   4.901718   \n",
       "1  1.514958  13.354996  3.413177  1.517865  72.82614  0.586627   7.790089   \n",
       "2  1.521869  12.389948  1.519445  1.342013  72.75249  0.346408  10.692095   \n",
       "3  1.516090  13.210794  3.725634  1.680887  72.52323  0.662025   7.794427   \n",
       "4  1.518705  12.924210  2.724850  1.439466  72.70623  0.554561   9.282241   \n",
       "\n",
       "          7         8         9  \n",
       "0  0.273487  0.142782  1.129581  \n",
       "1 -0.013334  0.048748  0.997964  \n",
       "2 -0.022254  0.203463  1.026861  \n",
       "3 -0.026253  0.151121  0.985067  \n",
       "4  0.003334  0.082600  0.985869  "
      ]
     },
     "execution_count": 3,
     "metadata": {},
     "output_type": "execute_result"
    }
   ],
   "source": [
    "extra_data.head()#displaying LSTM generated data"
   ]
  },
  {
   "cell_type": "code",
   "execution_count": 4,
   "metadata": {},
   "outputs": [
    {
     "name": "stdout",
     "output_type": "stream",
     "text": [
      "(18, 10)\n"
     ]
    }
   ],
   "source": [
    "extra=np.array(extra_data)# getting the original shape\n",
    "print(extra.shape)"
   ]
  },
  {
   "cell_type": "code",
   "execution_count": 5,
   "metadata": {},
   "outputs": [
    {
     "data": {
      "text/plain": [
       "array([ 1.5133367 , 12.451314  ,  4.365003  ,  1.8637435 , 73.57759   ,\n",
       "        0.90042657,  4.9017177 ,  0.27348727,  0.14278217,  1.1295812 ])"
      ]
     },
     "execution_count": 5,
     "metadata": {},
     "output_type": "execute_result"
    }
   ],
   "source": [
    "extra[0] # showing first row vector"
   ]
  },
  {
   "cell_type": "code",
   "execution_count": 6,
   "metadata": {
    "collapsed": true
   },
   "outputs": [],
   "source": [
    "# Setting predictions of all generated data to 1 because their outputs are mostly 0.98, 0.99 etc. \n",
    "for i in range(0,len(extra),1):\n",
    "    extra[i][9]=int(1)"
   ]
  },
  {
   "cell_type": "code",
   "execution_count": 7,
   "metadata": {},
   "outputs": [
    {
     "data": {
      "text/plain": [
       "array([[ 1.5133367e+00,  1.2451314e+01,  4.3650030e+00,  1.8637435e+00,\n",
       "         7.3577590e+01,  9.0042657e-01,  4.9017177e+00,  2.7348727e-01,\n",
       "         1.4278217e-01,  1.0000000e+00],\n",
       "       [ 1.5149578e+00,  1.3354996e+01,  3.4131770e+00,  1.5178646e+00,\n",
       "         7.2826140e+01,  5.8662730e-01,  7.7900887e+00, -1.3333911e-02,\n",
       "         4.8748065e-02,  1.0000000e+00],\n",
       "       [ 1.5218687e+00,  1.2389948e+01,  1.5194450e+00,  1.3420135e+00,\n",
       "         7.2752490e+01,  3.4640834e-01,  1.0692095e+01, -2.2253571e-02,\n",
       "         2.0346314e-01,  1.0000000e+00],\n",
       "       [ 1.5160898e+00,  1.3210794e+01,  3.7256343e+00,  1.6808865e+00,\n",
       "         7.2523230e+01,  6.6202450e-01,  7.7944270e+00, -2.6253030e-02,\n",
       "         1.5112075e-01,  1.0000000e+00],\n",
       "       [ 1.5187052e+00,  1.2924210e+01,  2.7248502e+00,  1.4394660e+00,\n",
       "         7.2706230e+01,  5.5456096e-01,  9.2822410e+00,  3.3342438e-03,\n",
       "         8.2599774e-02,  1.0000000e+00],\n",
       "       [ 1.5190531e+00,  1.2923448e+01,  2.8640702e+00,  1.4807187e+00,\n",
       "         7.2582190e+01,  5.0640124e-01,  9.5855840e+00, -3.6019538e-02,\n",
       "         1.4630792e-01,  1.0000000e+00],\n",
       "       [ 1.5174710e+00,  1.3316030e+01,  3.2986999e+00,  1.3527313e+00,\n",
       "         7.2701680e+01,  5.3892200e-01,  8.9513920e+00,  5.9486110e-02,\n",
       "        -2.4776857e-02,  1.0000000e+00],\n",
       "       [ 1.5143344e+00,  1.2701609e+01,  3.7147243e+00,  1.7708796e+00,\n",
       "         7.3234825e+01,  7.0219195e-01,  6.8060403e+00,  3.7839680e-02,\n",
       "         3.1246486e-01,  1.0000000e+00],\n",
       "       [ 1.5189309e+00,  1.2091364e+01,  2.0326853e+00,  1.3789419e+00,\n",
       "         7.3341774e+01,  4.4546020e-01,  8.2385830e+00,  1.2516621e-01,\n",
       "         7.8196610e-02,  1.0000000e+00],\n",
       "       [ 1.5172892e+00,  1.2984683e+01,  3.3407333e+00,  1.5256830e+00,\n",
       "         7.2710785e+01,  6.3982695e-01,  7.6711210e+00,  4.6223800e-02,\n",
       "         7.0428406e-03,  1.0000000e+00],\n",
       "       [ 1.5181111e+00,  1.3093635e+01,  2.6804060e+00,  1.4036157e+00,\n",
       "         7.2650510e+01,  4.6085304e-01,  9.2972760e+00, -3.4905475e-02,\n",
       "         9.4974920e-02,  1.0000000e+00],\n",
       "       [ 1.5185955e+00,  1.3000031e+01,  3.1301480e+00,  1.6132033e+00,\n",
       "         7.2465570e+01,  6.0148346e-01,  8.9052750e+00, -2.7584665e-02,\n",
       "         1.4843374e-01,  1.0000000e+00],\n",
       "       [ 1.5157743e+00,  1.2338819e+01,  3.3837497e+00,  1.5882808e+00,\n",
       "         7.3640870e+01,  7.0006940e-01,  7.0934160e+00,  3.0015140e-01,\n",
       "         7.0223376e-02,  1.0000000e+00],\n",
       "       [ 1.5174255e+00,  1.2791493e+01,  3.8433676e+00,  1.4694434e+00,\n",
       "         7.3131780e+01,  7.1208817e-01,  8.9650800e+00,  1.7525049e-01,\n",
       "        -8.9657720e-02,  1.0000000e+00],\n",
       "       [ 1.5193510e+00,  1.2879065e+01,  2.9294412e+00,  1.5346287e+00,\n",
       "         7.2512730e+01,  5.5646980e-01,  9.3863140e+00,  1.9326905e-02,\n",
       "         1.3051036e-01,  1.0000000e+00],\n",
       "       [ 1.5178155e+00,  1.3043074e+01,  3.1442623e+00,  1.5183761e+00,\n",
       "         7.2498320e+01,  6.1953090e-01,  8.8437605e+00, -8.9366274e-04,\n",
       "         7.6253280e-02,  1.0000000e+00],\n",
       "       [ 1.5130100e+00,  1.3211354e+01,  3.9548848e+00,  1.7421665e+00,\n",
       "         7.2761790e+01,  7.9366523e-01,  6.7094097e+00,  8.4657170e-03,\n",
       "         1.0619186e-01,  1.0000000e+00],\n",
       "       [ 1.5160446e+00,  1.3197482e+01,  3.7343802e+00,  1.6670636e+00,\n",
       "         7.2640540e+01,  6.5852620e-01,  7.8263720e+00, -1.5621815e-02,\n",
       "         1.3224123e-01,  1.0000000e+00]])"
      ]
     },
     "execution_count": 7,
     "metadata": {},
     "output_type": "execute_result"
    }
   ],
   "source": [
    "extra #showing LSTM generated extra data ready for training"
   ]
  },
  {
   "cell_type": "code",
   "execution_count": 8,
   "metadata": {},
   "outputs": [
    {
     "data": {
      "text/html": [
       "<div>\n",
       "<style scoped>\n",
       "    .dataframe tbody tr th:only-of-type {\n",
       "        vertical-align: middle;\n",
       "    }\n",
       "\n",
       "    .dataframe tbody tr th {\n",
       "        vertical-align: top;\n",
       "    }\n",
       "\n",
       "    .dataframe thead th {\n",
       "        text-align: right;\n",
       "    }\n",
       "</style>\n",
       "<table border=\"1\" class=\"dataframe\">\n",
       "  <thead>\n",
       "    <tr style=\"text-align: right;\">\n",
       "      <th></th>\n",
       "      <th>0</th>\n",
       "      <th>1</th>\n",
       "      <th>2</th>\n",
       "      <th>3</th>\n",
       "      <th>4</th>\n",
       "      <th>5</th>\n",
       "      <th>6</th>\n",
       "      <th>7</th>\n",
       "      <th>8</th>\n",
       "      <th>9</th>\n",
       "    </tr>\n",
       "  </thead>\n",
       "  <tbody>\n",
       "    <tr>\n",
       "      <th>0</th>\n",
       "      <td>1.518121</td>\n",
       "      <td>13.42990</td>\n",
       "      <td>3.97814</td>\n",
       "      <td>1.17917</td>\n",
       "      <td>72.4924</td>\n",
       "      <td>0.57753</td>\n",
       "      <td>8.15228</td>\n",
       "      <td>0.0</td>\n",
       "      <td>0.0000</td>\n",
       "      <td>1</td>\n",
       "    </tr>\n",
       "    <tr>\n",
       "      <th>1</th>\n",
       "      <td>1.516708</td>\n",
       "      <td>13.23705</td>\n",
       "      <td>3.56955</td>\n",
       "      <td>1.38140</td>\n",
       "      <td>72.6996</td>\n",
       "      <td>0.55890</td>\n",
       "      <td>8.44280</td>\n",
       "      <td>0.0</td>\n",
       "      <td>0.0510</td>\n",
       "      <td>0</td>\n",
       "    </tr>\n",
       "    <tr>\n",
       "      <th>2</th>\n",
       "      <td>1.521515</td>\n",
       "      <td>13.05085</td>\n",
       "      <td>3.65037</td>\n",
       "      <td>0.87101</td>\n",
       "      <td>72.2180</td>\n",
       "      <td>0.19251</td>\n",
       "      <td>9.85236</td>\n",
       "      <td>0.0</td>\n",
       "      <td>0.0867</td>\n",
       "      <td>0</td>\n",
       "    </tr>\n",
       "    <tr>\n",
       "      <th>3</th>\n",
       "      <td>1.521515</td>\n",
       "      <td>13.05085</td>\n",
       "      <td>3.65037</td>\n",
       "      <td>0.87101</td>\n",
       "      <td>72.3188</td>\n",
       "      <td>0.19251</td>\n",
       "      <td>9.85236</td>\n",
       "      <td>0.0</td>\n",
       "      <td>0.0867</td>\n",
       "      <td>0</td>\n",
       "    </tr>\n",
       "    <tr>\n",
       "      <th>4</th>\n",
       "      <td>1.517551</td>\n",
       "      <td>12.71170</td>\n",
       "      <td>3.42138</td>\n",
       "      <td>1.19843</td>\n",
       "      <td>73.1980</td>\n",
       "      <td>0.58995</td>\n",
       "      <td>8.63648</td>\n",
       "      <td>0.0</td>\n",
       "      <td>0.0000</td>\n",
       "      <td>0</td>\n",
       "    </tr>\n",
       "  </tbody>\n",
       "</table>\n",
       "</div>"
      ],
      "text/plain": [
       "          0         1        2        3        4        5        6    7  \\\n",
       "0  1.518121  13.42990  3.97814  1.17917  72.4924  0.57753  8.15228  0.0   \n",
       "1  1.516708  13.23705  3.56955  1.38140  72.6996  0.55890  8.44280  0.0   \n",
       "2  1.521515  13.05085  3.65037  0.87101  72.2180  0.19251  9.85236  0.0   \n",
       "3  1.521515  13.05085  3.65037  0.87101  72.3188  0.19251  9.85236  0.0   \n",
       "4  1.517551  12.71170  3.42138  1.19843  73.1980  0.58995  8.63648  0.0   \n",
       "\n",
       "        8  9  \n",
       "0  0.0000  1  \n",
       "1  0.0510  0  \n",
       "2  0.0867  0  \n",
       "3  0.0867  0  \n",
       "4  0.0000  0  "
      ]
     },
     "execution_count": 8,
     "metadata": {},
     "output_type": "execute_result"
    }
   ],
   "source": [
    "original_data.head() #showing original data"
   ]
  },
  {
   "cell_type": "code",
   "execution_count": null,
   "metadata": {
    "collapsed": true
   },
   "outputs": [],
   "source": []
  },
  {
   "cell_type": "code",
   "execution_count": 9,
   "metadata": {
    "collapsed": true
   },
   "outputs": [],
   "source": [
    "#loading data values from original dataset(Pima)\n",
    "val=original_data.values"
   ]
  },
  {
   "cell_type": "code",
   "execution_count": 10,
   "metadata": {
    "collapsed": true
   },
   "outputs": [],
   "source": [
    "X=val[:,:9].astype(float)# getting the feature values\n",
    "Y=val[:,9].astype(int)# getting prediction"
   ]
  },
  {
   "cell_type": "code",
   "execution_count": 11,
   "metadata": {
    "collapsed": true
   },
   "outputs": [],
   "source": [
    "#extra_X denotes the extra training data generated by LSTM \n",
    "extra_X=extra[:,:9].astype(float)\n",
    "\n",
    "#extra_Y denotes extra training prediction data for training the algorithm\n",
    "extra_Y=extra[:,9].astype(int)"
   ]
  },
  {
   "cell_type": "code",
   "execution_count": 12,
   "metadata": {
    "collapsed": true
   },
   "outputs": [],
   "source": [
    "# extrain=original training data + LSTM generated training data\n",
    "\n",
    "# eytrain=original training prediction + LSTM generated\n",
    "\n",
    "extrain=np.concatenate((X,extra_X),axis=0)\n",
    "eytrain=np.concatenate((Y,extra_Y),axis=0)"
   ]
  },
  {
   "cell_type": "code",
   "execution_count": 13,
   "metadata": {},
   "outputs": [
    {
     "name": "stdout",
     "output_type": "stream",
     "text": [
      "(167, 9)\n",
      "(167,)\n"
     ]
    }
   ],
   "source": [
    "print(extrain.shape)\n",
    "print(eytrain.shape)"
   ]
  },
  {
   "cell_type": "code",
   "execution_count": 14,
   "metadata": {
    "collapsed": true
   },
   "outputs": [],
   "source": [
    "test_Data=pd.read_csv('test_Data.csv')"
   ]
  },
  {
   "cell_type": "code",
   "execution_count": 15,
   "metadata": {
    "collapsed": true
   },
   "outputs": [],
   "source": [
    "test_Data=np.array(test_Data)"
   ]
  },
  {
   "cell_type": "code",
   "execution_count": 16,
   "metadata": {},
   "outputs": [
    {
     "data": {
      "text/plain": [
       "(65, 10)"
      ]
     },
     "execution_count": 16,
     "metadata": {},
     "output_type": "execute_result"
    }
   ],
   "source": [
    "test_Data.shape"
   ]
  },
  {
   "cell_type": "code",
   "execution_count": 17,
   "metadata": {
    "collapsed": true
   },
   "outputs": [],
   "source": [
    "X_test=test_Data[:,:9].astype(float)\n",
    "Y_test=test_Data[:,9].astype(int)"
   ]
  },
  {
   "cell_type": "code",
   "execution_count": null,
   "metadata": {
    "collapsed": true
   },
   "outputs": [],
   "source": []
  },
  {
   "cell_type": "code",
   "execution_count": 18,
   "metadata": {
    "collapsed": true
   },
   "outputs": [],
   "source": [
    "def svc_param_selection(X, y, nfolds):\n",
    "    Cs = [0.0001,0.001, 0.01, 0.1, 1, 10]\n",
    "    gammas = [0.0001,0.001, 0.01, 0.1, 1,10]\n",
    "    param_grid = {'C': Cs, 'gamma' : gammas}\n",
    "    grid_search = GridSearchCV(SVC(kernel='rbf',probability=True), param_grid, cv=nfolds)\n",
    "    grid_search.fit(X, y)\n",
    "    grid_search.best_params_\n",
    "    return grid_search.best_estimator_"
   ]
  },
  {
   "cell_type": "code",
   "execution_count": 19,
   "metadata": {
    "collapsed": true
   },
   "outputs": [],
   "source": [
    "# setting seed =7 to produce same results over and over again, it was maintained during different experiments \n",
    "seed=0\n"
   ]
  },
  {
   "cell_type": "code",
   "execution_count": 20,
   "metadata": {},
   "outputs": [
    {
     "name": "stderr",
     "output_type": "stream",
     "text": [
      "G:\\newage2\\envs\\tensorflow\\lib\\site-packages\\sklearn\\model_selection\\_search.py:813: DeprecationWarning: The default of the `iid` parameter will change from True to False in version 0.22 and will be removed in 0.24. This will change numeric results when test-set sizes are unequal.\n",
      "  DeprecationWarning)\n",
      "G:\\newage2\\envs\\tensorflow\\lib\\site-packages\\sklearn\\model_selection\\_search.py:813: DeprecationWarning: The default of the `iid` parameter will change from True to False in version 0.22 and will be removed in 0.24. This will change numeric results when test-set sizes are unequal.\n",
      "  DeprecationWarning)\n"
     ]
    }
   ],
   "source": [
    "# first rbf_svc for training on just the original training data\n",
    "#rbf_svc = SVC(kernel='rbf', gamma=0.00001, C=1000,probability=True).fit(X_train,Y_train)\n",
    "rbf_svc=svc_param_selection(X,Y,5)\n",
    "\n",
    "# secondly rbf_svc_extra for training on original+LSTM\n",
    "rbf_svc_extra = svc_param_selection(extrain,eytrain,5)"
   ]
  },
  {
   "cell_type": "code",
   "execution_count": 21,
   "metadata": {},
   "outputs": [
    {
     "data": {
      "text/plain": [
       "SVC(C=10, cache_size=200, class_weight=None, coef0=0.0,\n",
       "    decision_function_shape='ovr', degree=3, gamma=1, kernel='rbf', max_iter=-1,\n",
       "    probability=True, random_state=None, shrinking=True, tol=0.001,\n",
       "    verbose=False)"
      ]
     },
     "execution_count": 21,
     "metadata": {},
     "output_type": "execute_result"
    }
   ],
   "source": [
    "\n",
    "# fitting the data\n",
    "rbf_svc.fit(X,Y)\n",
    "rbf_svc_extra.fit(extrain,eytrain)"
   ]
  },
  {
   "cell_type": "code",
   "execution_count": 22,
   "metadata": {},
   "outputs": [
    {
     "data": {
      "text/plain": [
       "(65, 9)"
      ]
     },
     "execution_count": 22,
     "metadata": {},
     "output_type": "execute_result"
    }
   ],
   "source": [
    "# loading the validation dataset previously set up by validation split(this data was not included in any training procedure)\n",
    "Prediction_data=X_test\n",
    "\n",
    "#producing the shape\n",
    "Prediction_data.shape"
   ]
  },
  {
   "cell_type": "code",
   "execution_count": 23,
   "metadata": {
    "collapsed": true
   },
   "outputs": [],
   "source": [
    "# making predictions on validation dataset using svc trained only on original training data\n",
    "prediction_on_real_dataset=rbf_svc.predict_proba(Prediction_data)\n",
    "\n",
    "#saving probabilities\n",
    "predictions=rbf_svc.predict(Prediction_data)\n",
    "\n",
    "# making predictions on validation dataset using svc trained on original training data + LSTM generated data\n",
    "prediction_on_real_dataset_adding_extra=rbf_svc_extra.predict_proba(Prediction_data)\n",
    "#saving probabilities\n",
    "predictions_extra=rbf_svc_extra.predict(Prediction_data)"
   ]
  },
  {
   "cell_type": "code",
   "execution_count": 24,
   "metadata": {},
   "outputs": [
    {
     "name": "stdout",
     "output_type": "stream",
     "text": [
      "65\n",
      "65\n"
     ]
    }
   ],
   "source": [
    "print(len(prediction_on_real_dataset))\n",
    "\n",
    "print(len(prediction_on_real_dataset_adding_extra))"
   ]
  },
  {
   "cell_type": "code",
   "execution_count": 25,
   "metadata": {
    "collapsed": true
   },
   "outputs": [],
   "source": [
    "from sklearn.metrics import f1_score\n",
    "from sklearn.metrics import auc\n",
    "from sklearn.metrics import average_precision_score\n",
    "\n",
    "from sklearn.metrics import roc_curve, roc_auc_score"
   ]
  },
  {
   "cell_type": "code",
   "execution_count": 26,
   "metadata": {},
   "outputs": [
    {
     "data": {
      "text/plain": [
       "0.6530612244897959"
      ]
     },
     "execution_count": 26,
     "metadata": {},
     "output_type": "execute_result"
    }
   ],
   "source": [
    "f1_score(Y_test,predictions)#without_extra"
   ]
  },
  {
   "cell_type": "code",
   "execution_count": 27,
   "metadata": {},
   "outputs": [
    {
     "data": {
      "text/plain": [
       "0.64"
      ]
     },
     "execution_count": 27,
     "metadata": {},
     "output_type": "execute_result"
    }
   ],
   "source": [
    "f1_score(Y_test,predictions_extra)#with_extra"
   ]
  },
  {
   "cell_type": "code",
   "execution_count": 28,
   "metadata": {},
   "outputs": [
    {
     "data": {
      "text/plain": [
       "array([0.86881809, 0.13118191])"
      ]
     },
     "execution_count": 28,
     "metadata": {},
     "output_type": "execute_result"
    }
   ],
   "source": [
    "prediction_on_real_dataset[0]# probabilities of 2 class"
   ]
  },
  {
   "cell_type": "code",
   "execution_count": 29,
   "metadata": {},
   "outputs": [
    {
     "name": "stdout",
     "output_type": "stream",
     "text": [
      "Without extra:  0.8264299802761342\n",
      "With extra:  0.8264299802761341\n"
     ]
    }
   ],
   "source": [
    "# getting AUC score for classifier trained on only original data\n",
    "fpr, tpr, thres=roc_curve(Y_test,prediction_on_real_dataset[:,1],pos_label=1)\n",
    "\n",
    "#getting AUC score for classifier trained on original + LSTM generated data\n",
    "efpr, etpr, ethres=roc_curve(Y_test,prediction_on_real_dataset_adding_extra[:,1],pos_label=1)\n",
    "\n",
    "with_=auc(fpr,tpr)\n",
    "without_=auc(efpr,etpr)\n",
    "print('Without extra: ',auc(fpr,tpr))\n",
    "\n",
    "print('With extra: ',auc(efpr,etpr))"
   ]
  },
  {
   "cell_type": "code",
   "execution_count": 30,
   "metadata": {},
   "outputs": [
    {
     "data": {
      "image/png": "[encoded data removed]",
      "text/plain": [
       "<matplotlib.figure.Figure at 0x3bf5998898>"
      ]
     },
     "metadata": {},
     "output_type": "display_data"
    }
   ],
   "source": [
    "# plotting data ( for minority predictions , here minority class = 1)\n",
    "\n",
    "Y_probs=prediction_on_real_dataset[:,1]\n",
    "fpr,tpr,_=roc_curve(Y_test,Y_probs)\n",
    "\n",
    "Y_probs_extra=prediction_on_real_dataset_adding_extra[:,1]\n",
    "efpr,etpr,_=roc_curve(Y_test,Y_probs_extra)\n",
    "\n",
    "original=auc(fpr,tpr)\n",
    "lstm_with_extra=auc(efpr,etpr)\n",
    "\n",
    "original=original.astype(float)\n",
    "lstm_with_extra=lstm_with_extra.astype(float)\n",
    "\n",
    "\n",
    "pyplot.clf()\n",
    "pyplot.plot(fpr, tpr,label='original (AUC : %5.4f)'%(with_),linewidth='1.2')\n",
    "pyplot.plot(efpr,etpr,label='LSTM generated+original(AUC : %5.4f)'%(without_),linewidth='1.2')\n",
    "pyplot.xlabel('FPR')\n",
    "pyplot.ylabel('TPR')\n",
    "pyplot.title('ROC curve')\n",
    "pyplot.legend(loc=4)\n",
    "pyplot.savefig('ROC curve .png',dpi=500)\n",
    "pyplot.show()"
   ]
  },
  {
   "cell_type": "code",
   "execution_count": 31,
   "metadata": {},
   "outputs": [
    {
     "data": {
      "image/png": "[encoded data removed]",
      "text/plain": [
       "<matplotlib.figure.Figure at 0x3bf7df2ba8>"
      ]
     },
     "metadata": {},
     "output_type": "display_data"
    }
   ],
   "source": [
    "Y_probs=prediction_on_real_dataset[:,0]\n",
    "fpr,tpr,_=roc_curve(Y_test,Y_probs)\n",
    "\n",
    "Y_probs_extra=prediction_on_real_dataset_adding_extra[:,0]\n",
    "efpr,etpr,_=roc_curve(Y_test,Y_probs_extra)\n",
    "\n",
    "pyplot.clf()\n",
    "pyplot.plot(fpr, tpr,label='original')\n",
    "pyplot.plot(efpr,etpr,label='LSTM generated')\n",
    "pyplot.xlabel('FPR')\n",
    "pyplot.ylabel('TPR(recall)')\n",
    "pyplot.title('ROC curve')\n",
    "pyplot.legend(loc=2)\n",
    "pyplot.show()"
   ]
  },
  {
   "cell_type": "code",
   "execution_count": 32,
   "metadata": {},
   "outputs": [
    {
     "data": {
      "text/plain": [
       "array([[0.86881809, 0.13118191],\n",
       "       [0.77005461, 0.22994539],\n",
       "       [0.72449103, 0.27550897],\n",
       "       [0.52131973, 0.47868027],\n",
       "       [0.73008848, 0.26991152],\n",
       "       [0.31666576, 0.68333424],\n",
       "       [0.09846643, 0.90153357],\n",
       "       [0.75765587, 0.24234413],\n",
       "       [0.94170737, 0.05829263],\n",
       "       [0.5700511 , 0.4299489 ],\n",
       "       [0.8605089 , 0.1394911 ],\n",
       "       [0.87992731, 0.12007269],\n",
       "       [0.87837748, 0.12162252],\n",
       "       [0.12176994, 0.87823006],\n",
       "       [0.05023082, 0.94976918],\n",
       "       [0.84993318, 0.15006682],\n",
       "       [0.32693014, 0.67306986],\n",
       "       [0.1582433 , 0.8417567 ],\n",
       "       [0.91295418, 0.08704582],\n",
       "       [0.89070276, 0.10929724],\n",
       "       [0.78635046, 0.21364954],\n",
       "       [0.70217485, 0.29782515],\n",
       "       [0.864905  , 0.135095  ],\n",
       "       [0.86102924, 0.13897076],\n",
       "       [0.3488563 , 0.6511437 ],\n",
       "       [0.37623288, 0.62376712],\n",
       "       [0.86637704, 0.13362296],\n",
       "       [0.91701597, 0.08298403],\n",
       "       [0.43608033, 0.56391967],\n",
       "       [0.7057907 , 0.2942093 ],\n",
       "       [0.84966744, 0.15033256],\n",
       "       [0.23890942, 0.76109058],\n",
       "       [0.54571207, 0.45428793],\n",
       "       [0.6175232 , 0.3824768 ],\n",
       "       [0.11237029, 0.88762971],\n",
       "       [0.86717644, 0.13282356],\n",
       "       [0.78771846, 0.21228154],\n",
       "       [0.84991885, 0.15008115],\n",
       "       [0.17068278, 0.82931722],\n",
       "       [0.83812113, 0.16187887],\n",
       "       [0.22344902, 0.77655098],\n",
       "       [0.89777879, 0.10222121],\n",
       "       [0.21114745, 0.78885255],\n",
       "       [0.90288609, 0.09711391],\n",
       "       [0.09613068, 0.90386932],\n",
       "       [0.36481399, 0.63518601],\n",
       "       [0.93191111, 0.06808889],\n",
       "       [0.70431799, 0.29568201],\n",
       "       [0.69549567, 0.30450433],\n",
       "       [0.78634228, 0.21365772],\n",
       "       [0.61387339, 0.38612661],\n",
       "       [0.65876537, 0.34123463],\n",
       "       [0.87430811, 0.12569189],\n",
       "       [0.51769188, 0.48230812],\n",
       "       [0.19249055, 0.80750945],\n",
       "       [0.79232555, 0.20767445],\n",
       "       [0.74403517, 0.25596483],\n",
       "       [0.49133768, 0.50866232],\n",
       "       [0.08408002, 0.91591998],\n",
       "       [0.62242072, 0.37757928],\n",
       "       [0.81591454, 0.18408546],\n",
       "       [0.59739436, 0.40260564],\n",
       "       [0.7161801 , 0.2838199 ],\n",
       "       [0.6930065 , 0.3069935 ],\n",
       "       [0.92509807, 0.07490193]])"
      ]
     },
     "execution_count": 32,
     "metadata": {},
     "output_type": "execute_result"
    }
   ],
   "source": [
    "prediction_on_real_dataset"
   ]
  },
  {
   "cell_type": "code",
   "execution_count": 33,
   "metadata": {},
   "outputs": [
    {
     "data": {
      "text/plain": [
       "array([[0.86355841, 0.13644159],\n",
       "       [0.74008509, 0.25991491],\n",
       "       [0.63760811, 0.36239189],\n",
       "       [0.42142175, 0.57857825],\n",
       "       [0.64498311, 0.35501689],\n",
       "       [0.24949684, 0.75050316],\n",
       "       [0.08324639, 0.91675361],\n",
       "       [0.75553769, 0.24446231],\n",
       "       [0.93990218, 0.06009782],\n",
       "       [0.45009109, 0.54990891],\n",
       "       [0.84606359, 0.15393641],\n",
       "       [0.90525433, 0.09474567],\n",
       "       [0.84357742, 0.15642258],\n",
       "       [0.08223131, 0.91776869],\n",
       "       [0.03760717, 0.96239283],\n",
       "       [0.83617399, 0.16382601],\n",
       "       [0.28147314, 0.71852686],\n",
       "       [0.11594816, 0.88405184],\n",
       "       [0.9090641 , 0.0909359 ],\n",
       "       [0.66085572, 0.33914428],\n",
       "       [0.78233665, 0.21766335],\n",
       "       [0.60389773, 0.39610227],\n",
       "       [0.85775335, 0.14224665],\n",
       "       [0.85237556, 0.14762444],\n",
       "       [0.27977713, 0.72022287],\n",
       "       [0.4266583 , 0.5733417 ],\n",
       "       [0.85999691, 0.14000309],\n",
       "       [0.93716835, 0.06283165],\n",
       "       [0.40347652, 0.59652348],\n",
       "       [0.61544149, 0.38455851],\n",
       "       [0.87157886, 0.12842114],\n",
       "       [0.21186343, 0.78813657],\n",
       "       [0.29034555, 0.70965445],\n",
       "       [0.61510757, 0.38489243],\n",
       "       [0.07804776, 0.92195224],\n",
       "       [0.90841495, 0.09158505],\n",
       "       [0.81054912, 0.18945088],\n",
       "       [0.80778294, 0.19221706],\n",
       "       [0.11937483, 0.88062517],\n",
       "       [0.81786981, 0.18213019],\n",
       "       [0.11199733, 0.88800267],\n",
       "       [0.89217434, 0.10782566],\n",
       "       [0.15551627, 0.84448373],\n",
       "       [0.89858496, 0.10141504],\n",
       "       [0.1347113 , 0.8652887 ],\n",
       "       [0.08446224, 0.91553776],\n",
       "       [0.94449928, 0.05550072],\n",
       "       [0.60976916, 0.39023084],\n",
       "       [0.57561722, 0.42438278],\n",
       "       [0.81361608, 0.18638392],\n",
       "       [0.60141991, 0.39858009],\n",
       "       [0.58891066, 0.41108934],\n",
       "       [0.87127543, 0.12872457],\n",
       "       [0.37110192, 0.62889808],\n",
       "       [0.14556942, 0.85443058],\n",
       "       [0.77902594, 0.22097406],\n",
       "       [0.69010142, 0.30989858],\n",
       "       [0.236071  , 0.763929  ],\n",
       "       [0.083389  , 0.916611  ],\n",
       "       [0.64644106, 0.35355894],\n",
       "       [0.79493107, 0.20506893],\n",
       "       [0.49312597, 0.50687403],\n",
       "       [0.69074054, 0.30925946],\n",
       "       [0.59488396, 0.40511604],\n",
       "       [0.91309501, 0.08690499]])"
      ]
     },
     "execution_count": 33,
     "metadata": {},
     "output_type": "execute_result"
    }
   ],
   "source": [
    "prediction_on_real_dataset_adding_extra"
   ]
  },
  {
   "cell_type": "code",
   "execution_count": null,
   "metadata": {
    "collapsed": true
   },
   "outputs": [],
   "source": []
  },
  {
   "cell_type": "code",
   "execution_count": null,
   "metadata": {
    "collapsed": true
   },
   "outputs": [],
   "source": []
  }
 ],
 "metadata": {
  "kernelspec": {
   "display_name": "Python 3",
   "language": "python",
   "name": "python3"
  },
  "language_info": {
   "codemirror_mode": {
    "name": "ipython",
    "version": 3
   },
   "file_extension": ".py",
   "mimetype": "text/x-python",
   "name": "python",
   "nbconvert_exporter": "python",
   "pygments_lexer": "ipython3",
   "version": "3.6.6"
  }
 },
 "nbformat": 4,
 "nbformat_minor": 2
}
