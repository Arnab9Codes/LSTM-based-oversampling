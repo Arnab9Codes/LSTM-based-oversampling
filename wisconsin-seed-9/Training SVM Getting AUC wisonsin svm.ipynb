{
 "cells": [
  {
   "cell_type": "code",
   "execution_count": 1,
   "metadata": {
    "collapsed": true
   },
   "outputs": [],
   "source": [
    "import time\n",
    "import math\n",
    "\n",
    "import numpy as np\n",
    "import pandas as pd\n",
    "from pandas import DataFrame\n",
    "from pandas import concat\n",
    "from matplotlib import pyplot\n",
    "\n",
    "from sklearn.preprocessing import MinMaxScaler\n",
    "from sklearn.preprocessing import LabelEncoder\n",
    "from sklearn.metrics import mean_squared_error\n",
    "\n",
    "from sklearn.preprocessing import StandardScaler\n",
    "from sklearn.model_selection import train_test_split\n",
    "from sklearn.model_selection import KFold\n",
    "from sklearn.model_selection import cross_val_score\n",
    "from sklearn.model_selection import GridSearchCV\n",
    "from sklearn.metrics import classification_report\n",
    "from sklearn.metrics import confusion_matrix\n",
    "from sklearn.metrics import accuracy_score\n",
    "from sklearn.metrics import precision_recall_curve\n",
    "\n",
    "from sklearn.pipeline import Pipeline\n",
    "from sklearn.linear_model import LogisticRegression\n",
    "from sklearn.tree import DecisionTreeClassifier\n",
    "from sklearn.neighbors import KNeighborsClassifier\n",
    "from sklearn.discriminant_analysis import LinearDiscriminantAnalysis\n",
    "from sklearn.naive_bayes import GaussianNB\n",
    "from sklearn.svm import SVC\n",
    "from sklearn.ensemble import AdaBoostClassifier\n",
    "from sklearn.ensemble import GradientBoostingClassifier\n",
    "from sklearn.ensemble import RandomForestClassifier\n",
    "from sklearn.ensemble import ExtraTreesClassifier\n",
    "\n",
    "from sklearn.model_selection import GridSearchCV\n",
    "\n",
    "import pickle"
   ]
  },
  {
   "cell_type": "code",
   "execution_count": 2,
   "metadata": {
    "collapsed": true
   },
   "outputs": [],
   "source": [
    "extra_data=pd.read_csv('new_corrected_data-v1-7-24-2019.csv')# loading extra genereated data genereated by LSTM #prediction_of_1_0007.csv\n",
    "original_data=pd.read_csv('train_Data.csv')#original data"
   ]
  },
  {
   "cell_type": "code",
   "execution_count": 3,
   "metadata": {},
   "outputs": [
    {
     "data": {
      "text/html": [
       "<div>\n",
       "<style scoped>\n",
       "    .dataframe tbody tr th:only-of-type {\n",
       "        vertical-align: middle;\n",
       "    }\n",
       "\n",
       "    .dataframe tbody tr th {\n",
       "        vertical-align: top;\n",
       "    }\n",
       "\n",
       "    .dataframe thead th {\n",
       "        text-align: right;\n",
       "    }\n",
       "</style>\n",
       "<table border=\"1\" class=\"dataframe\">\n",
       "  <thead>\n",
       "    <tr style=\"text-align: right;\">\n",
       "      <th></th>\n",
       "      <th>0</th>\n",
       "      <th>1</th>\n",
       "      <th>2</th>\n",
       "      <th>3</th>\n",
       "      <th>4</th>\n",
       "      <th>5</th>\n",
       "      <th>6</th>\n",
       "      <th>7</th>\n",
       "      <th>8</th>\n",
       "      <th>9</th>\n",
       "    </tr>\n",
       "  </thead>\n",
       "  <tbody>\n",
       "    <tr>\n",
       "      <th>0</th>\n",
       "      <td>7.903659</td>\n",
       "      <td>6.279731</td>\n",
       "      <td>5.663460</td>\n",
       "      <td>4.714429</td>\n",
       "      <td>5.069189</td>\n",
       "      <td>6.137249</td>\n",
       "      <td>5.517492</td>\n",
       "      <td>6.099836</td>\n",
       "      <td>3.202351</td>\n",
       "      <td>1.026000</td>\n",
       "    </tr>\n",
       "    <tr>\n",
       "      <th>1</th>\n",
       "      <td>6.767930</td>\n",
       "      <td>7.383300</td>\n",
       "      <td>7.630663</td>\n",
       "      <td>5.957628</td>\n",
       "      <td>5.707922</td>\n",
       "      <td>7.828517</td>\n",
       "      <td>6.793605</td>\n",
       "      <td>5.900436</td>\n",
       "      <td>3.279221</td>\n",
       "      <td>0.987710</td>\n",
       "    </tr>\n",
       "    <tr>\n",
       "      <th>2</th>\n",
       "      <td>7.801611</td>\n",
       "      <td>7.989228</td>\n",
       "      <td>7.660059</td>\n",
       "      <td>6.488984</td>\n",
       "      <td>6.032620</td>\n",
       "      <td>8.142220</td>\n",
       "      <td>6.505702</td>\n",
       "      <td>7.250526</td>\n",
       "      <td>4.424272</td>\n",
       "      <td>0.980065</td>\n",
       "    </tr>\n",
       "    <tr>\n",
       "      <th>3</th>\n",
       "      <td>7.424890</td>\n",
       "      <td>5.936189</td>\n",
       "      <td>6.336848</td>\n",
       "      <td>5.827035</td>\n",
       "      <td>5.293990</td>\n",
       "      <td>6.837958</td>\n",
       "      <td>6.270918</td>\n",
       "      <td>5.995950</td>\n",
       "      <td>2.237774</td>\n",
       "      <td>0.992783</td>\n",
       "    </tr>\n",
       "    <tr>\n",
       "      <th>4</th>\n",
       "      <td>5.889823</td>\n",
       "      <td>7.005722</td>\n",
       "      <td>7.792346</td>\n",
       "      <td>6.828343</td>\n",
       "      <td>5.042692</td>\n",
       "      <td>9.059222</td>\n",
       "      <td>7.299890</td>\n",
       "      <td>6.803778</td>\n",
       "      <td>3.073994</td>\n",
       "      <td>0.985880</td>\n",
       "    </tr>\n",
       "  </tbody>\n",
       "</table>\n",
       "</div>"
      ],
      "text/plain": [
       "          0         1         2         3         4         5         6  \\\n",
       "0  7.903659  6.279731  5.663460  4.714429  5.069189  6.137249  5.517492   \n",
       "1  6.767930  7.383300  7.630663  5.957628  5.707922  7.828517  6.793605   \n",
       "2  7.801611  7.989228  7.660059  6.488984  6.032620  8.142220  6.505702   \n",
       "3  7.424890  5.936189  6.336848  5.827035  5.293990  6.837958  6.270918   \n",
       "4  5.889823  7.005722  7.792346  6.828343  5.042692  9.059222  7.299890   \n",
       "\n",
       "          7         8         9  \n",
       "0  6.099836  3.202351  1.026000  \n",
       "1  5.900436  3.279221  0.987710  \n",
       "2  7.250526  4.424272  0.980065  \n",
       "3  5.995950  2.237774  0.992783  \n",
       "4  6.803778  3.073994  0.985880  "
      ]
     },
     "execution_count": 3,
     "metadata": {},
     "output_type": "execute_result"
    }
   ],
   "source": [
    "extra_data.head()#displaying LSTM generated data"
   ]
  },
  {
   "cell_type": "code",
   "execution_count": 4,
   "metadata": {},
   "outputs": [
    {
     "name": "stdout",
     "output_type": "stream",
     "text": [
      "(66, 10)\n"
     ]
    }
   ],
   "source": [
    "extra=np.array(extra_data)# getting the original shape\n",
    "print(extra.shape)"
   ]
  },
  {
   "cell_type": "code",
   "execution_count": 5,
   "metadata": {},
   "outputs": [
    {
     "data": {
      "text/plain": [
       "array([7.9036593, 6.279731 , 5.66346  , 4.714429 , 5.0691895, 6.137249 ,\n",
       "       5.517492 , 6.0998363, 3.2023509, 1.0259998])"
      ]
     },
     "execution_count": 5,
     "metadata": {},
     "output_type": "execute_result"
    }
   ],
   "source": [
    "extra[0] # showing first row vector"
   ]
  },
  {
   "cell_type": "code",
   "execution_count": 6,
   "metadata": {
    "collapsed": true
   },
   "outputs": [],
   "source": [
    "# Setting predictions of all generated data to 1 because their outputs are mostly 0.98, 0.99 etc. \n",
    "for i in range(0,len(extra),1):\n",
    "    extra[i][9]=int(1)"
   ]
  },
  {
   "cell_type": "code",
   "execution_count": 7,
   "metadata": {},
   "outputs": [
    {
     "data": {
      "text/plain": [
       "array([[7.9036593, 6.279731 , 5.66346  , 4.714429 , 5.0691895, 6.137249 ,\n",
       "        5.517492 , 6.0998363, 3.2023509, 1.       ],\n",
       "       [6.7679305, 7.3833003, 7.630663 , 5.957628 , 5.707922 , 7.828517 ,\n",
       "        6.793605 , 5.900436 , 3.279221 , 1.       ],\n",
       "       [7.801611 , 7.9892282, 7.6600585, 6.4889836, 6.0326204, 8.14222  ,\n",
       "        6.505702 , 7.2505264, 4.4242716, 1.       ],\n",
       "       [7.42489  , 5.9361887, 6.3368483, 5.8270354, 5.2939897, 6.837958 ,\n",
       "        6.270918 , 5.99595  , 2.2377741, 1.       ],\n",
       "       [5.889823 , 7.005722 , 7.7923465, 6.8283434, 5.0426917, 9.059222 ,\n",
       "        7.29989  , 6.803778 , 3.0739944, 1.       ],\n",
       "       [6.846113 , 7.7851324, 7.7069736, 6.2682886, 5.2760916, 7.9042654,\n",
       "        6.870595 , 7.58936  , 3.2892272, 1.       ],\n",
       "       [6.6607966, 6.437877 , 6.2891746, 6.443118 , 4.824224 , 7.583761 ,\n",
       "        6.2628627, 5.7071557, 3.7919054, 1.       ],\n",
       "       [6.912099 , 8.152166 , 7.16276  , 5.7106767, 4.895206 , 7.2883873,\n",
       "        6.110071 , 8.102528 , 4.202277 , 1.       ],\n",
       "       [7.668792 , 6.382919 , 6.4244947, 5.670946 , 5.4068017, 7.0518136,\n",
       "        6.167238 , 5.7461505, 2.7550497, 1.       ],\n",
       "       [7.54893  , 6.871511 , 6.735029 , 5.3795977, 5.3408575, 7.0508413,\n",
       "        6.1671615, 6.6351786, 3.4069371, 1.       ],\n",
       "       [8.127104 , 7.371351 , 6.7787323, 5.321856 , 5.2640224, 6.1295037,\n",
       "        6.43438  , 7.154144 , 3.5532146, 1.       ],\n",
       "       [7.6508718, 6.351099 , 6.5460806, 4.588933 , 5.5944376, 6.612821 ,\n",
       "        6.234006 , 5.8074636, 2.6965835, 1.       ],\n",
       "       [8.5213585, 6.094431 , 5.770644 , 4.333672 , 5.5414186, 5.2550178,\n",
       "        5.4137335, 5.5897846, 2.2252483, 1.       ],\n",
       "       [7.640126 , 6.1808414, 5.5965767, 4.289022 , 4.7625504, 5.8988123,\n",
       "        5.7562404, 5.8545485, 2.949662 , 1.       ],\n",
       "       [7.178504 , 7.4714727, 7.7999487, 6.0467553, 5.747122 , 7.887015 ,\n",
       "        6.676938 , 6.6720324, 3.2271116, 1.       ],\n",
       "       [7.552028 , 7.597468 , 6.44113  , 5.3427463, 5.099228 , 6.6025715,\n",
       "        6.104925 , 6.9954515, 3.6457255, 1.       ],\n",
       "       [7.295772 , 5.5748653, 6.010973 , 5.52376  , 5.2667937, 7.2023797,\n",
       "        6.165623 , 6.105888 , 2.196107 , 1.       ],\n",
       "       [6.9748344, 7.4307017, 6.2960315, 6.4206276, 4.4617176, 7.5540547,\n",
       "        6.335343 , 6.8840036, 4.214355 , 1.       ],\n",
       "       [7.2662134, 6.4060388, 6.3888474, 4.1592116, 5.5204086, 5.736022 ,\n",
       "        6.17651  , 5.42544  , 2.2214446, 1.       ],\n",
       "       [6.932947 , 7.708578 , 7.3297634, 5.5964518, 5.236795 , 7.4770994,\n",
       "        6.420093 , 6.500937 , 3.8629801, 1.       ],\n",
       "       [7.7899103, 6.9214587, 7.03617  , 4.416547 , 6.340672 , 6.413548 ,\n",
       "        6.0530276, 5.084002 , 2.5277047, 1.       ],\n",
       "       [8.979919 , 5.002745 , 5.4037104, 4.2000136, 5.6887236, 5.0910764,\n",
       "        5.1695013, 5.505737 , 1.973146 , 1.       ],\n",
       "       [6.6926117, 7.99485  , 7.912569 , 5.96902  , 5.8303657, 8.011447 ,\n",
       "        6.435414 , 7.1452103, 3.7813091, 1.       ],\n",
       "       [5.9865346, 7.242991 , 7.70028  , 5.836213 , 5.434459 , 7.863137 ,\n",
       "        6.8272333, 5.808013 , 3.7523718, 1.       ],\n",
       "       [7.3206444, 5.2322507, 5.502038 , 5.3746443, 5.3966546, 6.728345 ,\n",
       "        5.769264 , 3.7432415, 2.391371 , 1.       ],\n",
       "       [6.0826674, 7.317822 , 7.818772 , 6.2089224, 5.4035854, 8.40431  ,\n",
       "        6.8911347, 7.248555 , 3.0472946, 1.       ],\n",
       "       [6.7779765, 5.466014 , 5.617963 , 5.4478765, 4.4724064, 6.868241 ,\n",
       "        6.104577 , 6.0096283, 2.1512215, 1.       ],\n",
       "       [6.2882867, 7.218387 , 7.969141 , 6.1962786, 5.360805 , 8.408613 ,\n",
       "        6.8636875, 7.798078 , 3.0158877, 1.       ],\n",
       "       [5.098901 , 7.081268 , 7.4299965, 6.556727 , 5.272732 , 9.199231 ,\n",
       "        6.953132 , 5.281084 , 3.3996515, 1.       ],\n",
       "       [7.9418063, 7.5628715, 6.422079 , 5.965393 , 4.9074697, 6.693725 ,\n",
       "        6.1439137, 7.5656796, 4.0929585, 1.       ],\n",
       "       [6.570514 , 7.255182 , 7.2568407, 6.262987 , 4.9967713, 7.47146  ,\n",
       "        6.7156425, 6.0692735, 3.4055793, 1.       ],\n",
       "       [8.077205 , 6.298292 , 6.457595 , 4.479219 , 5.4941177, 6.006576 ,\n",
       "        6.1940393, 6.5364914, 2.811442 , 1.       ],\n",
       "       [6.8221784, 6.8840303, 7.2319226, 6.92634  , 5.5122647, 8.927745 ,\n",
       "        6.6504006, 6.9005327, 3.0606117, 1.       ],\n",
       "       [7.5736256, 6.7286897, 6.590209 , 6.3407435, 5.6611605, 7.012433 ,\n",
       "        6.0330667, 6.402563 , 2.9194748, 1.       ],\n",
       "       [8.618954 , 6.648339 , 5.5828934, 4.690544 , 5.4192934, 5.4370275,\n",
       "        5.478939 , 5.9342666, 2.8441277, 1.       ],\n",
       "       [7.050694 , 7.074689 , 6.553177 , 5.3323073, 5.2676535, 6.828425 ,\n",
       "        6.287562 , 5.5233335, 3.3084006, 1.       ],\n",
       "       [6.4668746, 7.109866 , 7.076431 , 5.5969234, 5.0524535, 7.3457737,\n",
       "        6.996046 , 5.923984 , 3.0112677, 1.       ],\n",
       "       [7.39925  , 6.419928 , 6.298295 , 4.895847 , 5.3567038, 6.7895317,\n",
       "        5.98185  , 5.597036 , 3.6355965, 1.       ],\n",
       "       [7.946436 , 6.9939017, 6.7887774, 5.231027 , 5.52135  , 6.653964 ,\n",
       "        6.26022  , 6.001347 , 3.1415887, 1.       ],\n",
       "       [6.580953 , 6.303038 , 6.5781584, 6.2034917, 4.720301 , 8.004645 ,\n",
       "        6.348518 , 6.954758 , 3.1291595, 1.       ],\n",
       "       [7.947564 , 5.8123827, 6.03801  , 5.266178 , 5.425983 , 6.4482718,\n",
       "        5.9885283, 5.3242617, 2.6001122, 1.       ],\n",
       "       [6.801727 , 6.633365 , 7.01313  , 5.1473875, 5.669004 , 6.87733  ,\n",
       "        6.4218445, 5.499826 , 2.4193075, 1.       ],\n",
       "       [8.056802 , 5.9771633, 6.107976 , 4.478555 , 5.5799875, 5.7003746,\n",
       "        5.377678 , 5.6415906, 2.707624 , 1.       ],\n",
       "       [6.9719076, 8.552754 , 8.431729 , 6.2057266, 5.826377 , 8.665398 ,\n",
       "        6.929494 , 8.478232 , 3.6980758, 1.       ],\n",
       "       [7.37014  , 5.1607585, 5.8228526, 5.2511587, 5.2156153, 6.5946383,\n",
       "        6.0394764, 4.9945483, 1.8837073, 1.       ],\n",
       "       [7.7609267, 7.9718394, 7.7912374, 6.2657804, 5.9371023, 8.128867 ,\n",
       "        6.7081523, 7.5006714, 3.548629 , 1.       ],\n",
       "       [7.4646726, 7.9090586, 7.653864 , 5.9021807, 5.7829905, 7.5106006,\n",
       "        6.8073874, 6.538706 , 3.8796012, 1.       ],\n",
       "       [8.252521 , 6.303588 , 5.2700195, 5.0972137, 4.9423375, 5.840739 ,\n",
       "        5.46583  , 6.470708 , 2.7905228, 1.       ],\n",
       "       [6.7649546, 7.752992 , 8.382686 , 5.705253 , 6.770951 , 7.891451 ,\n",
       "        6.839508 , 5.179194 , 3.139775 , 1.       ],\n",
       "       [7.139085 , 6.020344 , 5.7028303, 4.585203 , 4.8690977, 5.897616 ,\n",
       "        5.9033556, 5.068348 , 2.658153 , 1.       ],\n",
       "       [8.193998 , 5.8244133, 5.5631332, 5.5001125, 5.185586 , 5.9214106,\n",
       "        5.6655507, 4.9685097, 2.519592 , 1.       ],\n",
       "       [6.9696474, 7.001694 , 7.424243 , 5.551526 , 5.6562366, 7.32431  ,\n",
       "        6.698427 , 6.65865  , 3.2673259, 1.       ],\n",
       "       [7.9265184, 6.45503  , 6.1650705, 4.669022 , 5.572139 , 5.9684067,\n",
       "        5.719748 , 5.6539946, 2.639553 , 1.       ],\n",
       "       [5.809709 , 7.8454814, 8.372989 , 5.7258096, 6.003835 , 8.114867 ,\n",
       "        6.9845757, 6.235604 , 3.2928166, 1.       ],\n",
       "       [7.023664 , 6.8537993, 6.706439 , 4.4920206, 5.8597927, 6.6615167,\n",
       "        6.354416 , 4.438241 , 3.0450265, 1.       ],\n",
       "       [7.001468 , 6.5580997, 6.715032 , 4.9128885, 5.1605287, 6.24603  ,\n",
       "        6.4026203, 5.9307036, 2.3805757, 1.       ],\n",
       "       [6.763497 , 7.2440968, 7.725564 , 6.044111 , 5.727078 , 8.07079  ,\n",
       "        6.8764014, 6.9659147, 3.1728766, 1.       ],\n",
       "       [7.7606473, 6.26809  , 6.789705 , 5.233719 , 6.3115506, 6.7098575,\n",
       "        6.097222 , 4.569248 , 2.6778097, 1.       ],\n",
       "       [8.011226 , 5.0254264, 5.5415993, 4.890523 , 5.5165052, 6.083499 ,\n",
       "        5.868972 , 3.905447 , 2.3617823, 1.       ],\n",
       "       [6.436351 , 6.6070004, 6.943886 , 5.1156287, 5.2869515, 6.902094 ,\n",
       "        6.522793 , 6.2015777, 2.0551252, 1.       ],\n",
       "       [7.616568 , 6.3148108, 6.3292522, 5.5479236, 5.261662 , 6.1582646,\n",
       "        5.9950047, 4.9527893, 3.3117275, 1.       ],\n",
       "       [6.6672807, 6.6689425, 7.1143384, 4.5409346, 5.559617 , 6.8983583,\n",
       "        6.449102 , 6.5528646, 2.252217 , 1.       ],\n",
       "       [6.495905 , 7.6949224, 7.228752 , 4.5821147, 5.5373306, 6.6455693,\n",
       "        6.3473783, 5.9444947, 2.9651515, 1.       ],\n",
       "       [6.6933007, 6.19686  , 6.2573233, 5.5210238, 4.950038 , 7.818977 ,\n",
       "        6.226192 , 6.4466925, 2.8243854, 1.       ],\n",
       "       [7.0945106, 6.6100497, 6.6035156, 4.5595665, 5.5300965, 6.2527285,\n",
       "        6.2793593, 5.1081586, 3.0335035, 1.       ],\n",
       "       [6.587906 , 5.526766 , 5.7380657, 5.5092177, 5.0110016, 7.508837 ,\n",
       "        6.008427 , 5.163367 , 2.8724513, 1.       ]])"
      ]
     },
     "execution_count": 7,
     "metadata": {},
     "output_type": "execute_result"
    }
   ],
   "source": [
    "extra #showing LSTM generated extra data ready for training"
   ]
  },
  {
   "cell_type": "code",
   "execution_count": 8,
   "metadata": {},
   "outputs": [
    {
     "data": {
      "text/html": [
       "<div>\n",
       "<style scoped>\n",
       "    .dataframe tbody tr th:only-of-type {\n",
       "        vertical-align: middle;\n",
       "    }\n",
       "\n",
       "    .dataframe tbody tr th {\n",
       "        vertical-align: top;\n",
       "    }\n",
       "\n",
       "    .dataframe thead th {\n",
       "        text-align: right;\n",
       "    }\n",
       "</style>\n",
       "<table border=\"1\" class=\"dataframe\">\n",
       "  <thead>\n",
       "    <tr style=\"text-align: right;\">\n",
       "      <th></th>\n",
       "      <th>0</th>\n",
       "      <th>1</th>\n",
       "      <th>2</th>\n",
       "      <th>3</th>\n",
       "      <th>4</th>\n",
       "      <th>5</th>\n",
       "      <th>6</th>\n",
       "      <th>7</th>\n",
       "      <th>8</th>\n",
       "      <th>9</th>\n",
       "    </tr>\n",
       "  </thead>\n",
       "  <tbody>\n",
       "    <tr>\n",
       "      <th>0</th>\n",
       "      <td>1.0</td>\n",
       "      <td>1.0</td>\n",
       "      <td>1.0</td>\n",
       "      <td>1.0</td>\n",
       "      <td>2.0</td>\n",
       "      <td>1.0</td>\n",
       "      <td>1.0</td>\n",
       "      <td>1.0</td>\n",
       "      <td>1.0</td>\n",
       "      <td>0.0</td>\n",
       "    </tr>\n",
       "    <tr>\n",
       "      <th>1</th>\n",
       "      <td>4.0</td>\n",
       "      <td>1.0</td>\n",
       "      <td>1.0</td>\n",
       "      <td>1.0</td>\n",
       "      <td>2.0</td>\n",
       "      <td>1.0</td>\n",
       "      <td>1.0</td>\n",
       "      <td>1.0</td>\n",
       "      <td>1.0</td>\n",
       "      <td>0.0</td>\n",
       "    </tr>\n",
       "    <tr>\n",
       "      <th>2</th>\n",
       "      <td>1.0</td>\n",
       "      <td>1.0</td>\n",
       "      <td>1.0</td>\n",
       "      <td>1.0</td>\n",
       "      <td>2.0</td>\n",
       "      <td>3.0</td>\n",
       "      <td>3.0</td>\n",
       "      <td>1.0</td>\n",
       "      <td>1.0</td>\n",
       "      <td>0.0</td>\n",
       "    </tr>\n",
       "    <tr>\n",
       "      <th>3</th>\n",
       "      <td>6.0</td>\n",
       "      <td>3.0</td>\n",
       "      <td>2.0</td>\n",
       "      <td>1.0</td>\n",
       "      <td>3.0</td>\n",
       "      <td>4.0</td>\n",
       "      <td>4.0</td>\n",
       "      <td>1.0</td>\n",
       "      <td>1.0</td>\n",
       "      <td>1.0</td>\n",
       "    </tr>\n",
       "    <tr>\n",
       "      <th>4</th>\n",
       "      <td>10.0</td>\n",
       "      <td>4.0</td>\n",
       "      <td>4.0</td>\n",
       "      <td>10.0</td>\n",
       "      <td>6.0</td>\n",
       "      <td>10.0</td>\n",
       "      <td>5.0</td>\n",
       "      <td>5.0</td>\n",
       "      <td>1.0</td>\n",
       "      <td>1.0</td>\n",
       "    </tr>\n",
       "  </tbody>\n",
       "</table>\n",
       "</div>"
      ],
      "text/plain": [
       "      0    1    2     3    4     5    6    7    8    9\n",
       "0   1.0  1.0  1.0   1.0  2.0   1.0  1.0  1.0  1.0  0.0\n",
       "1   4.0  1.0  1.0   1.0  2.0   1.0  1.0  1.0  1.0  0.0\n",
       "2   1.0  1.0  1.0   1.0  2.0   3.0  3.0  1.0  1.0  0.0\n",
       "3   6.0  3.0  2.0   1.0  3.0   4.0  4.0  1.0  1.0  1.0\n",
       "4  10.0  4.0  4.0  10.0  6.0  10.0  5.0  5.0  1.0  1.0"
      ]
     },
     "execution_count": 8,
     "metadata": {},
     "output_type": "execute_result"
    }
   ],
   "source": [
    "original_data.head() #showing original data"
   ]
  },
  {
   "cell_type": "code",
   "execution_count": null,
   "metadata": {
    "collapsed": true
   },
   "outputs": [],
   "source": []
  },
  {
   "cell_type": "code",
   "execution_count": 9,
   "metadata": {
    "collapsed": true
   },
   "outputs": [],
   "source": [
    "#loading data values from original dataset(Pima)\n",
    "val=original_data.values"
   ]
  },
  {
   "cell_type": "code",
   "execution_count": 10,
   "metadata": {
    "collapsed": true
   },
   "outputs": [],
   "source": [
    "X=val[:,:9].astype(float)# getting the feature values\n",
    "Y=val[:,9].astype(int)# getting prediction"
   ]
  },
  {
   "cell_type": "code",
   "execution_count": 11,
   "metadata": {
    "collapsed": true
   },
   "outputs": [],
   "source": [
    "#extra_X denotes the extra training data generated by LSTM \n",
    "extra_X=extra[:,:9].astype(float)\n",
    "\n",
    "#extra_Y denotes extra training prediction data for training the algorithm\n",
    "extra_Y=extra[:,9].astype(int)"
   ]
  },
  {
   "cell_type": "code",
   "execution_count": 12,
   "metadata": {
    "collapsed": true
   },
   "outputs": [],
   "source": [
    "# extrain=original training data + LSTM generated training data\n",
    "\n",
    "# eytrain=original training prediction + LSTM generated\n",
    "\n",
    "extrain=np.concatenate((X,extra_X),axis=0)\n",
    "eytrain=np.concatenate((Y,extra_Y),axis=0)"
   ]
  },
  {
   "cell_type": "code",
   "execution_count": 13,
   "metadata": {},
   "outputs": [
    {
     "name": "stdout",
     "output_type": "stream",
     "text": [
      "(544, 9)\n",
      "(544,)\n"
     ]
    }
   ],
   "source": [
    "print(extrain.shape)\n",
    "print(eytrain.shape)"
   ]
  },
  {
   "cell_type": "code",
   "execution_count": 14,
   "metadata": {
    "collapsed": true
   },
   "outputs": [],
   "source": [
    "test_Data=pd.read_csv('test_Data.csv')"
   ]
  },
  {
   "cell_type": "code",
   "execution_count": 15,
   "metadata": {
    "collapsed": true
   },
   "outputs": [],
   "source": [
    "test_Data=np.array(test_Data)"
   ]
  },
  {
   "cell_type": "code",
   "execution_count": 16,
   "metadata": {},
   "outputs": [
    {
     "data": {
      "text/plain": [
       "(205, 10)"
      ]
     },
     "execution_count": 16,
     "metadata": {},
     "output_type": "execute_result"
    }
   ],
   "source": [
    "test_Data.shape"
   ]
  },
  {
   "cell_type": "code",
   "execution_count": 17,
   "metadata": {
    "collapsed": true
   },
   "outputs": [],
   "source": [
    "X_test=test_Data[:,:9].astype(float)\n",
    "Y_test=test_Data[:,9].astype(int)"
   ]
  },
  {
   "cell_type": "code",
   "execution_count": null,
   "metadata": {
    "collapsed": true
   },
   "outputs": [],
   "source": []
  },
  {
   "cell_type": "code",
   "execution_count": 18,
   "metadata": {
    "collapsed": true
   },
   "outputs": [],
   "source": [
    "def svc_param_selection(X, y, nfolds):\n",
    "    Cs = [0.0001,0.001, 0.01, 0.1, 1, 10]\n",
    "    gammas = [0.0001,0.001, 0.01, 0.1, 1,10]\n",
    "    param_grid = {'C': Cs, 'gamma' : gammas}\n",
    "    grid_search = GridSearchCV(SVC(kernel='rbf',probability=True), param_grid, cv=nfolds)\n",
    "    grid_search.fit(X, y)\n",
    "    grid_search.best_params_\n",
    "    return grid_search.best_estimator_"
   ]
  },
  {
   "cell_type": "code",
   "execution_count": 19,
   "metadata": {
    "collapsed": true
   },
   "outputs": [],
   "source": [
    "# setting seed =7 to produce same results over and over again, it was maintained during different experiments \n",
    "seed=9\n"
   ]
  },
  {
   "cell_type": "code",
   "execution_count": 20,
   "metadata": {
    "collapsed": true
   },
   "outputs": [],
   "source": [
    "# first rbf_svc for training on just the original training data\n",
    "#rbf_svc = SVC(kernel='rbf', gamma=0.00001, C=1000,probability=True).fit(X_train,Y_train)\n",
    "rbf_svc=svc_param_selection(X,Y,5)\n",
    "\n",
    "# secondly rbf_svc_extra for training on original+LSTM\n",
    "rbf_svc_extra = svc_param_selection(extrain,eytrain,5)"
   ]
  },
  {
   "cell_type": "code",
   "execution_count": 21,
   "metadata": {},
   "outputs": [
    {
     "data": {
      "text/plain": [
       "SVC(C=1, cache_size=200, class_weight=None, coef0=0.0,\n",
       "    decision_function_shape='ovr', degree=3, gamma=0.01, kernel='rbf',\n",
       "    max_iter=-1, probability=True, random_state=None, shrinking=True, tol=0.001,\n",
       "    verbose=False)"
      ]
     },
     "execution_count": 21,
     "metadata": {},
     "output_type": "execute_result"
    }
   ],
   "source": [
    "\n",
    "# fitting the data\n",
    "rbf_svc.fit(X,Y)\n",
    "rbf_svc_extra.fit(extrain,eytrain)"
   ]
  },
  {
   "cell_type": "code",
   "execution_count": 22,
   "metadata": {},
   "outputs": [
    {
     "data": {
      "text/plain": [
       "(205, 9)"
      ]
     },
     "execution_count": 22,
     "metadata": {},
     "output_type": "execute_result"
    }
   ],
   "source": [
    "# loading the validation dataset previously set up by validation split(this data was not included in any training procedure)\n",
    "Prediction_data=X_test\n",
    "\n",
    "#producing the shape\n",
    "Prediction_data.shape"
   ]
  },
  {
   "cell_type": "code",
   "execution_count": 23,
   "metadata": {
    "collapsed": true
   },
   "outputs": [],
   "source": [
    "# making predictions on validation dataset using svc trained only on original training data\n",
    "prediction_on_real_dataset=rbf_svc.predict_proba(Prediction_data)\n",
    "\n",
    "#saving probabilities\n",
    "predictions=rbf_svc.predict(Prediction_data)\n",
    "\n",
    "# making predictions on validation dataset using svc trained on original training data + LSTM generated data\n",
    "prediction_on_real_dataset_adding_extra=rbf_svc_extra.predict_proba(Prediction_data)\n",
    "#saving probabilities\n",
    "predictions_extra=rbf_svc_extra.predict(Prediction_data)"
   ]
  },
  {
   "cell_type": "code",
   "execution_count": 24,
   "metadata": {},
   "outputs": [
    {
     "name": "stdout",
     "output_type": "stream",
     "text": [
      "205\n",
      "205\n"
     ]
    }
   ],
   "source": [
    "print(len(prediction_on_real_dataset))\n",
    "\n",
    "print(len(prediction_on_real_dataset_adding_extra))"
   ]
  },
  {
   "cell_type": "code",
   "execution_count": 25,
   "metadata": {
    "collapsed": true
   },
   "outputs": [],
   "source": [
    "from sklearn.metrics import f1_score\n",
    "from sklearn.metrics import auc\n",
    "from sklearn.metrics import average_precision_score\n",
    "\n",
    "from sklearn.metrics import roc_curve, roc_auc_score"
   ]
  },
  {
   "cell_type": "code",
   "execution_count": 26,
   "metadata": {},
   "outputs": [
    {
     "data": {
      "text/plain": [
       "0.9790209790209791"
      ]
     },
     "execution_count": 26,
     "metadata": {},
     "output_type": "execute_result"
    }
   ],
   "source": [
    "f1_score(Y_test,predictions)#without_extra"
   ]
  },
  {
   "cell_type": "code",
   "execution_count": 27,
   "metadata": {},
   "outputs": [
    {
     "data": {
      "text/plain": [
       "0.9790209790209791"
      ]
     },
     "execution_count": 27,
     "metadata": {},
     "output_type": "execute_result"
    }
   ],
   "source": [
    "f1_score(Y_test,predictions_extra)#with_extra"
   ]
  },
  {
   "cell_type": "code",
   "execution_count": 28,
   "metadata": {},
   "outputs": [
    {
     "data": {
      "text/plain": [
       "array([0.99231547, 0.00768453])"
      ]
     },
     "execution_count": 28,
     "metadata": {},
     "output_type": "execute_result"
    }
   ],
   "source": [
    "prediction_on_real_dataset[0]# probabilities of 2 class"
   ]
  },
  {
   "cell_type": "code",
   "execution_count": 29,
   "metadata": {},
   "outputs": [
    {
     "name": "stdout",
     "output_type": "stream",
     "text": [
      "Without extra:  0.9967195767195768\n",
      "With extra:  0.9967195767195768\n"
     ]
    }
   ],
   "source": [
    "# getting AUC score for classifier trained on only original data\n",
    "fpr, tpr, thres=roc_curve(Y_test,prediction_on_real_dataset[:,1],pos_label=1)\n",
    "\n",
    "#getting AUC score for classifier trained on original + LSTM generated data\n",
    "efpr, etpr, ethres=roc_curve(Y_test,prediction_on_real_dataset_adding_extra[:,1],pos_label=1)\n",
    "\n",
    "with_=auc(fpr,tpr)\n",
    "without_=auc(efpr,etpr)\n",
    "print('Without extra: ',auc(fpr,tpr))\n",
    "\n",
    "print('With extra: ',auc(efpr,etpr))"
   ]
  },
  {
   "cell_type": "code",
   "execution_count": 30,
   "metadata": {},
   "outputs": [
    {
     "data": {
      "image/png": "[encoded data removed]",
      "text/plain": [
       "<matplotlib.figure.Figure at 0xb9b55bc898>"
      ]
     },
     "metadata": {},
     "output_type": "display_data"
    }
   ],
   "source": [
    "# plotting data ( for minority predictions , here minority class = 1)\n",
    "\n",
    "Y_probs=prediction_on_real_dataset[:,1]\n",
    "fpr,tpr,_=roc_curve(Y_test,Y_probs)\n",
    "\n",
    "Y_probs_extra=prediction_on_real_dataset_adding_extra[:,1]\n",
    "efpr,etpr,_=roc_curve(Y_test,Y_probs_extra)\n",
    "\n",
    "original=auc(fpr,tpr)\n",
    "lstm_with_extra=auc(efpr,etpr)\n",
    "\n",
    "original=original.astype(float)\n",
    "lstm_with_extra=lstm_with_extra.astype(float)\n",
    "\n",
    "\n",
    "pyplot.clf()\n",
    "pyplot.plot(fpr, tpr,label='original (AUC : %5.4f)'%(with_),linewidth='1.2')\n",
    "pyplot.plot(efpr,etpr,label='LSTM generated+original(AUC : %5.4f)'%(without_),linewidth='1.2')\n",
    "pyplot.xlabel('FPR')\n",
    "pyplot.ylabel('TPR')\n",
    "pyplot.title('ROC curve')\n",
    "pyplot.legend(loc=4)\n",
    "pyplot.savefig('ROC curve .png',dpi=500)\n",
    "pyplot.show()"
   ]
  },
  {
   "cell_type": "code",
   "execution_count": 31,
   "metadata": {},
   "outputs": [
    {
     "data": {
      "image/png": "[encoded data removed]",
      "text/plain": [
       "<matplotlib.figure.Figure at 0xb9b76c79b0>"
      ]
     },
     "metadata": {},
     "output_type": "display_data"
    }
   ],
   "source": [
    "Y_probs=prediction_on_real_dataset[:,0]\n",
    "fpr,tpr,_=roc_curve(Y_test,Y_probs)\n",
    "\n",
    "Y_probs_extra=prediction_on_real_dataset_adding_extra[:,0]\n",
    "efpr,etpr,_=roc_curve(Y_test,Y_probs_extra)\n",
    "\n",
    "pyplot.clf()\n",
    "pyplot.plot(fpr, tpr,label='original')\n",
    "pyplot.plot(efpr,etpr,label='LSTM generated')\n",
    "pyplot.xlabel('FPR')\n",
    "pyplot.ylabel('TPR(recall)')\n",
    "pyplot.title('ROC curve ')\n",
    "pyplot.legend(loc=2)\n",
    "pyplot.show()"
   ]
  },
  {
   "cell_type": "code",
   "execution_count": 32,
   "metadata": {},
   "outputs": [
    {
     "data": {
      "text/plain": [
       "array([[0.99231547, 0.00768453],\n",
       "       [0.99765713, 0.00234287],\n",
       "       [0.03349827, 0.96650173],\n",
       "       [0.99467013, 0.00532987],\n",
       "       [0.99146421, 0.00853579],\n",
       "       [0.01504921, 0.98495079],\n",
       "       [0.03871644, 0.96128356],\n",
       "       [0.99708562, 0.00291438],\n",
       "       [0.99751946, 0.00248054],\n",
       "       [0.03476545, 0.96523455],\n",
       "       [0.99681271, 0.00318729],\n",
       "       [0.99747458, 0.00252542],\n",
       "       [0.9943453 , 0.0056547 ],\n",
       "       [0.99709577, 0.00290423],\n",
       "       [0.99681271, 0.00318729],\n",
       "       [0.04553707, 0.95446293],\n",
       "       [0.96938287, 0.03061713],\n",
       "       [0.99730998, 0.00269002],\n",
       "       [0.99569263, 0.00430737],\n",
       "       [0.99376465, 0.00623535],\n",
       "       [0.04937401, 0.95062599],\n",
       "       [0.01021148, 0.98978852],\n",
       "       [0.99731903, 0.00268097],\n",
       "       [0.99667741, 0.00332259],\n",
       "       [0.99520194, 0.00479806],\n",
       "       [0.99520916, 0.00479084],\n",
       "       [0.01947995, 0.98052005],\n",
       "       [0.04397714, 0.95602286],\n",
       "       [0.68943119, 0.31056881],\n",
       "       [0.99542941, 0.00457059],\n",
       "       [0.99396232, 0.00603768],\n",
       "       [0.99744789, 0.00255211],\n",
       "       [0.02422627, 0.97577373],\n",
       "       [0.05103989, 0.94896011],\n",
       "       [0.99553428, 0.00446572],\n",
       "       [0.98862216, 0.01137784],\n",
       "       [0.17509273, 0.82490727],\n",
       "       [0.99661472, 0.00338528],\n",
       "       [0.02905694, 0.97094306],\n",
       "       [0.02181501, 0.97818499],\n",
       "       [0.02428073, 0.97571927],\n",
       "       [0.99761958, 0.00238042],\n",
       "       [0.99553428, 0.00446572],\n",
       "       [0.99675074, 0.00324926],\n",
       "       [0.18892246, 0.81107754],\n",
       "       [0.02421337, 0.97578663],\n",
       "       [0.04070311, 0.95929689],\n",
       "       [0.99439509, 0.00560491],\n",
       "       [0.0555599 , 0.9444401 ],\n",
       "       [0.05370111, 0.94629889],\n",
       "       [0.99761958, 0.00238042],\n",
       "       [0.99747458, 0.00252542],\n",
       "       [0.99565075, 0.00434925],\n",
       "       [0.08009685, 0.91990315],\n",
       "       [0.99563368, 0.00436632],\n",
       "       [0.99563368, 0.00436632],\n",
       "       [0.13421553, 0.86578447],\n",
       "       [0.99751946, 0.00248054],\n",
       "       [0.98053581, 0.01946419],\n",
       "       [0.02792185, 0.97207815],\n",
       "       [0.93711439, 0.06288561],\n",
       "       [0.99559475, 0.00440525],\n",
       "       [0.94244269, 0.05755731],\n",
       "       [0.02919283, 0.97080717],\n",
       "       [0.95289296, 0.04710704],\n",
       "       [0.99706439, 0.00293561],\n",
       "       [0.99751946, 0.00248054],\n",
       "       [0.99748028, 0.00251972],\n",
       "       [0.08198946, 0.91801054],\n",
       "       [0.99747458, 0.00252542],\n",
       "       [0.02647137, 0.97352863],\n",
       "       [0.99146421, 0.00853579],\n",
       "       [0.02355965, 0.97644035],\n",
       "       [0.03254956, 0.96745044],\n",
       "       [0.05765845, 0.94234155],\n",
       "       [0.02950834, 0.97049166],\n",
       "       [0.03124802, 0.96875198],\n",
       "       [0.99706439, 0.00293561],\n",
       "       [0.99563368, 0.00436632],\n",
       "       [0.01619756, 0.98380244],\n",
       "       [0.02253527, 0.97746473],\n",
       "       [0.99176303, 0.00823697],\n",
       "       [0.99718082, 0.00281918],\n",
       "       [0.99573884, 0.00426116],\n",
       "       [0.97974198, 0.02025802],\n",
       "       [0.03417591, 0.96582409],\n",
       "       [0.02579032, 0.97420968],\n",
       "       [0.9955435 , 0.0044565 ],\n",
       "       [0.02279164, 0.97720836],\n",
       "       [0.99019128, 0.00980872],\n",
       "       [0.99693812, 0.00306188],\n",
       "       [0.99709577, 0.00290423],\n",
       "       [0.99624442, 0.00375558],\n",
       "       [0.99157705, 0.00842295],\n",
       "       [0.99365733, 0.00634267],\n",
       "       [0.99693812, 0.00306188],\n",
       "       [0.98959253, 0.01040747],\n",
       "       [0.99512726, 0.00487274],\n",
       "       [0.99315978, 0.00684022],\n",
       "       [0.99470776, 0.00529224],\n",
       "       [0.99681271, 0.00318729],\n",
       "       [0.02261019, 0.97738981],\n",
       "       [0.99765713, 0.00234287],\n",
       "       [0.99520194, 0.00479806],\n",
       "       [0.99715083, 0.00284917],\n",
       "       [0.99751946, 0.00248054],\n",
       "       [0.99230502, 0.00769498],\n",
       "       [0.08443609, 0.91556391],\n",
       "       [0.05539749, 0.94460251],\n",
       "       [0.99757195, 0.00242805],\n",
       "       [0.99681271, 0.00318729],\n",
       "       [0.99657028, 0.00342972],\n",
       "       [0.94688773, 0.05311227],\n",
       "       [0.04293323, 0.95706677],\n",
       "       [0.215199  , 0.784801  ],\n",
       "       [0.99520194, 0.00479806],\n",
       "       [0.99748028, 0.00251972],\n",
       "       [0.99761958, 0.00238042],\n",
       "       [0.9851459 , 0.0148541 ],\n",
       "       [0.99706439, 0.00293561],\n",
       "       [0.23032065, 0.76967935],\n",
       "       [0.99718082, 0.00281918],\n",
       "       [0.99681271, 0.00318729],\n",
       "       [0.02237662, 0.97762338],\n",
       "       [0.03998461, 0.96001539],\n",
       "       [0.03738858, 0.96261142],\n",
       "       [0.99553428, 0.00446572],\n",
       "       [0.06611438, 0.93388562],\n",
       "       [0.01843987, 0.98156013],\n",
       "       [0.01060125, 0.98939875],\n",
       "       [0.99765713, 0.00234287],\n",
       "       [0.83183762, 0.16816238],\n",
       "       [0.01070072, 0.98929928],\n",
       "       [0.99717838, 0.00282162],\n",
       "       [0.99706439, 0.00293561],\n",
       "       [0.99748028, 0.00251972],\n",
       "       [0.99614722, 0.00385278],\n",
       "       [0.9945992 , 0.0054008 ],\n",
       "       [0.03359654, 0.96640346],\n",
       "       [0.99748028, 0.00251972],\n",
       "       [0.98429376, 0.01570624],\n",
       "       [0.02422024, 0.97577976],\n",
       "       [0.98661251, 0.01338749],\n",
       "       [0.98600625, 0.01399375],\n",
       "       [0.21386549, 0.78613451],\n",
       "       [0.99744789, 0.00255211],\n",
       "       [0.0220967 , 0.9779033 ],\n",
       "       [0.98777363, 0.01222637],\n",
       "       [0.03169535, 0.96830465],\n",
       "       [0.99132551, 0.00867449],\n",
       "       [0.02665905, 0.97334095],\n",
       "       [0.09470482, 0.90529518],\n",
       "       [0.99715833, 0.00284167],\n",
       "       [0.99430976, 0.00569024],\n",
       "       [0.03106727, 0.96893273],\n",
       "       [0.02653388, 0.97346612],\n",
       "       [0.02125961, 0.97874039],\n",
       "       [0.99553428, 0.00446572],\n",
       "       [0.9886967 , 0.0113033 ],\n",
       "       [0.99750873, 0.00249127],\n",
       "       [0.05105184, 0.94894816],\n",
       "       [0.99001993, 0.00998007],\n",
       "       [0.98986451, 0.01013549],\n",
       "       [0.026808  , 0.973192  ],\n",
       "       [0.99695002, 0.00304998],\n",
       "       [0.99706439, 0.00293561],\n",
       "       [0.99230502, 0.00769498],\n",
       "       [0.99586364, 0.00413636],\n",
       "       [0.99706439, 0.00293561],\n",
       "       [0.99586364, 0.00413636],\n",
       "       [0.96558942, 0.03441058],\n",
       "       [0.99483535, 0.00516465],\n",
       "       [0.02922835, 0.97077165],\n",
       "       [0.99621106, 0.00378894],\n",
       "       [0.0289801 , 0.9710199 ],\n",
       "       [0.03856797, 0.96143203],\n",
       "       [0.99563368, 0.00436632],\n",
       "       [0.99693812, 0.00306188],\n",
       "       [0.32017537, 0.67982463],\n",
       "       [0.02153505, 0.97846495],\n",
       "       [0.02546474, 0.97453526],\n",
       "       [0.99751946, 0.00248054],\n",
       "       [0.03052821, 0.96947179],\n",
       "       [0.99751946, 0.00248054],\n",
       "       [0.0278667 , 0.9721333 ],\n",
       "       [0.03931581, 0.96068419],\n",
       "       [0.99520194, 0.00479806],\n",
       "       [0.99693812, 0.00306188],\n",
       "       [0.98314029, 0.01685971],\n",
       "       [0.99751946, 0.00248054],\n",
       "       [0.99435646, 0.00564354],\n",
       "       [0.99230502, 0.00769498],\n",
       "       [0.03100475, 0.96899525],\n",
       "       [0.99751946, 0.00248054],\n",
       "       [0.99748028, 0.00251972],\n",
       "       [0.04743326, 0.95256674],\n",
       "       [0.99746084, 0.00253916],\n",
       "       [0.02181222, 0.97818778],\n",
       "       [0.99119729, 0.00880271],\n",
       "       [0.99624442, 0.00375558],\n",
       "       [0.99751946, 0.00248054],\n",
       "       [0.99101964, 0.00898036],\n",
       "       [0.99489792, 0.00510208],\n",
       "       [0.99641407, 0.00358593],\n",
       "       [0.99748028, 0.00251972]])"
      ]
     },
     "execution_count": 32,
     "metadata": {},
     "output_type": "execute_result"
    }
   ],
   "source": [
    "prediction_on_real_dataset"
   ]
  },
  {
   "cell_type": "code",
   "execution_count": 33,
   "metadata": {},
   "outputs": [
    {
     "data": {
      "text/plain": [
       "array([[0.99185203, 0.00814797],\n",
       "       [0.99751114, 0.00248886],\n",
       "       [0.03199596, 0.96800404],\n",
       "       [0.99434261, 0.00565739],\n",
       "       [0.99095396, 0.00904604],\n",
       "       [0.01439017, 0.98560983],\n",
       "       [0.03699507, 0.96300493],\n",
       "       [0.99690379, 0.00309621],\n",
       "       [0.99736614, 0.00263386],\n",
       "       [0.0332204 , 0.9667796 ],\n",
       "       [0.99661703, 0.00338297],\n",
       "       [0.99731649, 0.00268351],\n",
       "       [0.99400063, 0.00599937],\n",
       "       [0.99691543, 0.00308457],\n",
       "       [0.99661703, 0.00338297],\n",
       "       [0.04352171, 0.95647829],\n",
       "       [0.96762887, 0.03237113],\n",
       "       [0.99714292, 0.00285708],\n",
       "       [0.99543043, 0.00456957],\n",
       "       [0.99338873, 0.00661127],\n",
       "       [0.0471322 , 0.9528678 ],\n",
       "       [0.00977091, 0.99022909],\n",
       "       [0.99715246, 0.00284754],\n",
       "       [0.99647257, 0.00352743],\n",
       "       [0.99491056, 0.00508944],\n",
       "       [0.99491755, 0.00508245],\n",
       "       [0.01860049, 0.98139951],\n",
       "       [0.04205723, 0.95794277],\n",
       "       [0.67810363, 0.32189637],\n",
       "       [0.99514824, 0.00485176],\n",
       "       [0.9935949 , 0.0064051 ],\n",
       "       [0.99729028, 0.00270972],\n",
       "       [0.02315221, 0.97684779],\n",
       "       [0.04877634, 0.95122366],\n",
       "       [0.99525913, 0.00474087],\n",
       "       [0.98794615, 0.01205385],\n",
       "       [0.16823909, 0.83176091],\n",
       "       [0.99640527, 0.00359473],\n",
       "       [0.02776357, 0.97223643],\n",
       "       [0.02083498, 0.97916502],\n",
       "       [0.02320312, 0.97679688],\n",
       "       [0.99747133, 0.00252867],\n",
       "       [0.99525913, 0.00474087],\n",
       "       [0.99654993, 0.00345007],\n",
       "       [0.18149228, 0.81850772],\n",
       "       [0.02312778, 0.97687222],\n",
       "       [0.0388729 , 0.9611271 ],\n",
       "       [0.99405665, 0.00594335],\n",
       "       [0.05307066, 0.94692934],\n",
       "       [0.0513098 , 0.9486902 ],\n",
       "       [0.99747133, 0.00252867],\n",
       "       [0.99731649, 0.00268351],\n",
       "       [0.99538269, 0.00461731],\n",
       "       [0.07657029, 0.92342971],\n",
       "       [0.99536619, 0.00463381],\n",
       "       [0.99536619, 0.00463381],\n",
       "       [0.12869372, 0.87130628],\n",
       "       [0.99736614, 0.00263386],\n",
       "       [0.97939881, 0.02060119],\n",
       "       [0.02668126, 0.97331874],\n",
       "       [0.93371492, 0.06628508],\n",
       "       [0.99532445, 0.00467555],\n",
       "       [0.93928117, 0.06071883],\n",
       "       [0.02788708, 0.97211292],\n",
       "       [0.95027751, 0.04972249],\n",
       "       [0.9968826 , 0.0031174 ],\n",
       "       [0.99736614, 0.00263386],\n",
       "       [0.99732251, 0.00267749],\n",
       "       [0.07850561, 0.92149439],\n",
       "       [0.99731649, 0.00268351],\n",
       "       [0.02527478, 0.97472522],\n",
       "       [0.99095396, 0.00904604],\n",
       "       [0.02253606, 0.97746394],\n",
       "       [0.03111899, 0.96888101],\n",
       "       [0.0551124 , 0.9448876 ],\n",
       "       [0.02819484, 0.97180516],\n",
       "       [0.02984898, 0.97015102],\n",
       "       [0.9968826 , 0.0031174 ],\n",
       "       [0.99536619, 0.00463381],\n",
       "       [0.01547107, 0.98452893],\n",
       "       [0.02152931, 0.97847069],\n",
       "       [0.99126434, 0.00873566],\n",
       "       [0.9970071 , 0.0029929 ],\n",
       "       [0.9954747 , 0.0045253 ],\n",
       "       [0.97856159, 0.02143841],\n",
       "       [0.03265449, 0.96734551],\n",
       "       [0.02464264, 0.97535736],\n",
       "       [0.99526742, 0.00473258],\n",
       "       [0.02178849, 0.97821151],\n",
       "       [0.98959943, 0.01040057],\n",
       "       [0.99674748, 0.00325252],\n",
       "       [0.99691543, 0.00308457],\n",
       "       [0.9960129 , 0.0039871 ],\n",
       "       [0.9910713 , 0.0089287 ],\n",
       "       [0.99327419, 0.00672581],\n",
       "       [0.99674748, 0.00325252],\n",
       "       [0.9889672 , 0.0110328 ],\n",
       "       [0.99482893, 0.00517107],\n",
       "       [0.99275137, 0.00724863],\n",
       "       [0.99438561, 0.00561439],\n",
       "       [0.99661703, 0.00338297],\n",
       "       [0.02160568, 0.97839432],\n",
       "       [0.99751114, 0.00248886],\n",
       "       [0.99491056, 0.00508944],\n",
       "       [0.99697529, 0.00302471],\n",
       "       [0.99736614, 0.00263386],\n",
       "       [0.99183816, 0.00816184],\n",
       "       [0.08073829, 0.91926171],\n",
       "       [0.05293936, 0.94706064],\n",
       "       [0.99742082, 0.00257918],\n",
       "       [0.99661703, 0.00338297],\n",
       "       [0.99635725, 0.00364275],\n",
       "       [0.94392703, 0.05607297],\n",
       "       [0.04103011, 0.95896989],\n",
       "       [0.20700956, 0.79299044],\n",
       "       [0.99491056, 0.00508944],\n",
       "       [0.99732251, 0.00267749],\n",
       "       [0.99747133, 0.00252867],\n",
       "       [0.98425676, 0.01574324],\n",
       "       [0.9968826 , 0.0031174 ],\n",
       "       [0.22172462, 0.77827538],\n",
       "       [0.9970071 , 0.0029929 ],\n",
       "       [0.99661703, 0.00338297],\n",
       "       [0.02136603, 0.97863397],\n",
       "       [0.03820832, 0.96179168],\n",
       "       [0.03570087, 0.96429913],\n",
       "       [0.99525913, 0.00474087],\n",
       "       [0.06329109, 0.93670891],\n",
       "       [0.01761381, 0.98238619],\n",
       "       [0.01014152, 0.98985848],\n",
       "       [0.99751114, 0.00248886],\n",
       "       [0.82397374, 0.17602626],\n",
       "       [0.01023869, 0.98976131],\n",
       "       [0.99700284, 0.00299716],\n",
       "       [0.9968826 , 0.0031174 ],\n",
       "       [0.99732251, 0.00267749],\n",
       "       [0.99591131, 0.00408869],\n",
       "       [0.9942712 , 0.0057288 ],\n",
       "       [0.03209805, 0.96790195],\n",
       "       [0.99732251, 0.00267749],\n",
       "       [0.98336439, 0.01663561],\n",
       "       [0.0231717 , 0.9768283 ],\n",
       "       [0.98581363, 0.01418637],\n",
       "       [0.98516948, 0.01483052],\n",
       "       [0.2056164 , 0.7943836 ],\n",
       "       [0.99729028, 0.00270972],\n",
       "       [0.02113034, 0.97886966],\n",
       "       [0.98704673, 0.01295327],\n",
       "       [0.03027114, 0.96972886],\n",
       "       [0.99079756, 0.00920244],\n",
       "       [0.02546869, 0.97453131],\n",
       "       [0.09060592, 0.90939408],\n",
       "       [0.99698256, 0.00301744],\n",
       "       [0.99396385, 0.00603615],\n",
       "       [0.0296768 , 0.9703232 ],\n",
       "       [0.02536694, 0.97463306],\n",
       "       [0.02030385, 0.97969615],\n",
       "       [0.99525913, 0.00474087],\n",
       "       [0.98801369, 0.01198631],\n",
       "       [0.99735397, 0.00264603],\n",
       "       [0.04879804, 0.95120196],\n",
       "       [0.98941906, 0.01058094],\n",
       "       [0.98925059, 0.01074941],\n",
       "       [0.02559545, 0.97440455],\n",
       "       [0.9967614 , 0.0032386 ],\n",
       "       [0.9968826 , 0.0031174 ],\n",
       "       [0.99183816, 0.00816184],\n",
       "       [0.99560856, 0.00439144],\n",
       "       [0.9968826 , 0.0031174 ],\n",
       "       [0.99560856, 0.00439144],\n",
       "       [0.9636223 , 0.0363777 ],\n",
       "       [0.99452053, 0.00547947],\n",
       "       [0.02790519, 0.97209481],\n",
       "       [0.99597767, 0.00402233],\n",
       "       [0.02768133, 0.97231867],\n",
       "       [0.03686417, 0.96313583],\n",
       "       [0.99536619, 0.00463381],\n",
       "       [0.99674748, 0.00325252],\n",
       "       [0.30892562, 0.69107438],\n",
       "       [0.02058297, 0.97941703],\n",
       "       [0.02432952, 0.97567048],\n",
       "       [0.99736614, 0.00263386],\n",
       "       [0.02916508, 0.97083492],\n",
       "       [0.99736614, 0.00263386],\n",
       "       [0.02664168, 0.97335832],\n",
       "       [0.03753879, 0.96246121],\n",
       "       [0.99491056, 0.00508944],\n",
       "       [0.99674748, 0.00325252],\n",
       "       [0.98216385, 0.01783615],\n",
       "       [0.99736614, 0.00263386],\n",
       "       [0.99401039, 0.00598961],\n",
       "       [0.99183816, 0.00816184],\n",
       "       [0.02961386, 0.97038614],\n",
       "       [0.99736614, 0.00263386],\n",
       "       [0.99732251, 0.00267749],\n",
       "       [0.04529399, 0.95470601],\n",
       "       [0.99730418, 0.00269582],\n",
       "       [0.02082549, 0.97917451],\n",
       "       [0.99067093, 0.00932907],\n",
       "       [0.9960129 , 0.0039871 ],\n",
       "       [0.99736614, 0.00263386],\n",
       "       [0.9904818 , 0.0095182 ],\n",
       "       [0.99458303, 0.00541697],\n",
       "       [0.99619211, 0.00380789],\n",
       "       [0.99732251, 0.00267749]])"
      ]
     },
     "execution_count": 33,
     "metadata": {},
     "output_type": "execute_result"
    }
   ],
   "source": [
    "prediction_on_real_dataset_adding_extra"
   ]
  },
  {
   "cell_type": "code",
   "execution_count": null,
   "metadata": {
    "collapsed": true
   },
   "outputs": [],
   "source": []
  },
  {
   "cell_type": "code",
   "execution_count": null,
   "metadata": {
    "collapsed": true
   },
   "outputs": [],
   "source": []
  }
 ],
 "metadata": {
  "kernelspec": {
   "display_name": "Python 3",
   "language": "python",
   "name": "python3"
  },
  "language_info": {
   "codemirror_mode": {
    "name": "ipython",
    "version": 3
   },
   "file_extension": ".py",
   "mimetype": "text/x-python",
   "name": "python",
   "nbconvert_exporter": "python",
   "pygments_lexer": "ipython3",
   "version": "3.6.6"
  }
 },
 "nbformat": 4,
 "nbformat_minor": 2
}
